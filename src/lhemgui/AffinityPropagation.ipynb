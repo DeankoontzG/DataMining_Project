{
 "cells": [
  {
   "cell_type": "markdown",
   "id": "f6fc2859-8d98-4331-9889-1191b88d714c",
   "metadata": {},
   "source": [
    "# Clustering via Affinity Propagation"
   ]
  },
  {
   "cell_type": "code",
   "execution_count": 4,
   "id": "4b8537fe-ba48-4a1e-ac97-76cc600e3c39",
   "metadata": {},
   "outputs": [
    {
     "name": "stdout",
     "output_type": "stream",
     "text": [
      "       pca1      pca2      pca3      pca4      pca5      pca6      pca7  \\\n",
      "0  6.859919 -3.198215  0.554745 -3.352881  1.180055  0.031028  0.307974   \n",
      "\n",
      "       pca8     pca9     pca10  ...     pca28     pca29     pca30     pca31  \\\n",
      "0 -0.606673  1.00074  0.882777  ...  0.611043 -0.057373 -0.165505 -0.323732   \n",
      "\n",
      "      pca32     pca33     pca34    player_name  equipe  positions  \n",
      "0 -1.092719  0.680418  0.138402  Jordan Lefort  Angers         DF  \n",
      "\n",
      "[1 rows x 37 columns]\n"
     ]
    }
   ],
   "source": [
    "import pandas as pd\n",
    "import numpy as np\n",
    "\n",
    "import matplotlib.pyplot as plt\n",
    "import plotly.express as px\n",
    "import seaborn as sns\n",
    "\n",
    "from sklearn.cluster import AffinityPropagation\n",
    "from sklearn.metrics import silhouette_score, davies_bouldin_score, calinski_harabasz_score\n",
    "from sklearn.preprocessing import StandardScaler\n",
    "\n",
    "file_path_PCA = \"../../reduced_data/joueurs_ligue1_PCA_custom.csv\"\n",
    "file_path_tSNE = \"../../reduced_data/joueurs_ligue1_tSNE_custom_GK.csv\"\n",
    "file_path_ISOMAP = \"../../reduced_data/joueurs_ligue1_ISOMap_raw.csv\"\n",
    "file_path_UMAP = \"../../reduced_data/joueurs_ligue1_2024_2025_clean_per90_umap3d_best_embedding.csv\"\n",
    "\n",
    "data_PCA= pd.read_csv(file_path_PCA, encoding=\"utf-8\")\n",
    "data_tSNE = pd.read_csv(file_path_tSNE, encoding=\"utf-8\")\n",
    "data_ISOMAP = pd.read_csv(file_path_ISOMAP, encoding=\"utf-8\")\n",
    "data_UMAP = pd.read_csv(file_path_UMAP, encoding=\"utf-8\")\n",
    "print(data_PCA.head(1))"
   ]
  },
  {
   "cell_type": "markdown",
   "id": "aca3b4f4-faac-407d-8aae-8fc9e28d1e26",
   "metadata": {},
   "source": [
    "## Data Preparation : standardisation + columns removal"
   ]
  },
  {
   "cell_type": "code",
   "execution_count": 5,
   "id": "8ba6dade-6595-4120-9eaf-1793fc7ba03e",
   "metadata": {},
   "outputs": [
    {
     "name": "stdout",
     "output_type": "stream",
     "text": [
      "[ 0.07147241 -0.32309249  1.04432427]\n"
     ]
    }
   ],
   "source": [
    "X_PCA = data_PCA.drop(columns=['player_name', 'equipe', 'positions']).copy()\n",
    "X_tSNE = data_tSNE.drop(columns=['player_name', 'equipe', 'positions']).copy()\n",
    "X_ISOMAP = data_ISOMAP.drop(columns=['player_name', 'equipe', 'positions']).copy()\n",
    "X_UMAP = data_UMAP.drop(columns=['player_name', 'equipe', 'positions','player_id','player_country_code', 'age']).copy()\n",
    "\n",
    "scaler = StandardScaler()\n",
    "X_PCA = scaler.fit_transform(X_PCA) \n",
    "X_tSNE = scaler.fit_transform(X_tSNE)\n",
    "X_ISOMAP = scaler.fit_transform(X_ISOMAP) \n",
    "X_UMAP = scaler.fit_transform(X_UMAP) \n",
    "print(X_UMAP[1])"
   ]
  },
  {
   "cell_type": "markdown",
   "id": "57e1983a-4ab3-4b44-b343-9713c9fccfd9",
   "metadata": {},
   "source": [
    "## GridSearch Analysis"
   ]
  },
  {
   "cell_type": "code",
   "execution_count": 18,
   "id": "f0dee62e-9faf-45e8-bdb7-d643832a8823",
   "metadata": {},
   "outputs": [
    {
     "name": "stdout",
     "output_type": "stream",
     "text": [
      "================================================================================\n",
      "============================== PCA :  ==============================\n",
      "================================================================================\n",
      "Preference values : [-400.         -377.77777778 -355.55555556 -333.33333333 -311.11111111\n",
      " -288.88888889 -266.66666667 -244.44444444 -222.22222222 -200.        ]\n",
      "\n",
      "📊 Results (combinaisons damping / preference):\n",
      "=========SilouhetteScore===========\n",
      "preference  -400.000  -377.778  -355.556  -333.333  -311.111  -288.889  \\\n",
      "damping                                                                  \n",
      "0.50        0.001887  0.001887  0.001887  0.001887  0.001887  0.001887   \n",
      "0.55        0.001887  0.001887  0.001887  0.001887  0.001887  0.001887   \n",
      "0.60        0.001887  0.001887  0.001887  0.001887  0.001887  0.001887   \n",
      "0.65        0.001887  0.001887  0.001887  0.001887  0.001887  0.001887   \n",
      "0.70        0.001887  0.001887  0.001887  0.001887  0.001887  0.001887   \n",
      "0.75        0.001887  0.001887  0.001887  0.001887  0.001887  0.001887   \n",
      "0.80        0.001887  0.001887  0.001887  0.001887  0.001887  0.001887   \n",
      "0.85        0.001887  0.001887  0.001887  0.001887  0.001887 -0.005227   \n",
      "0.90        0.001887  0.001887  0.001887  0.001887 -0.005227 -0.005227   \n",
      "0.95        0.001887 -0.005227 -0.005227 -0.005227 -0.005227 -0.005227   \n",
      "\n",
      "preference  -266.667  -244.444  -222.222  -200.000  \n",
      "damping                                             \n",
      "0.50        0.001887 -0.002375  0.000540 -0.002237  \n",
      "0.55        0.001887 -0.002375  0.000540 -0.002237  \n",
      "0.60        0.001887 -0.002375  0.000540 -0.002237  \n",
      "0.65        0.001887 -0.002375  0.000540 -0.002237  \n",
      "0.70        0.001887 -0.002375  0.000540 -0.002237  \n",
      "0.75       -0.005227 -0.002375  0.000540 -0.002237  \n",
      "0.80       -0.005227 -0.002375  0.000540 -0.002237  \n",
      "0.85       -0.005227 -0.002375  0.000540 -0.002237  \n",
      "0.90       -0.005227 -0.002375  0.000540 -0.002237  \n",
      "0.95       -0.027541 -0.027541  0.000452 -0.000840  \n",
      "=========N_clusters===========\n",
      "preference  -400.000  -377.778  -355.556  -333.333  -311.111  -288.889  \\\n",
      "damping                                                                  \n",
      "0.50               4         4         4         4         4         4   \n",
      "0.55               4         4         4         4         4         4   \n",
      "0.60               4         4         4         4         4         4   \n",
      "0.65               4         4         4         4         4         4   \n",
      "0.70               4         4         4         4         4         4   \n",
      "0.75               4         4         4         4         4         4   \n",
      "0.80               4         4         4         4         4         4   \n",
      "0.85               4         4         4         4         4         5   \n",
      "0.90               4         4         4         4         5         5   \n",
      "0.95               4         5         5         5         5         5   \n",
      "\n",
      "preference  -266.667  -244.444  -222.222  -200.000  \n",
      "damping                                             \n",
      "0.50               4         6         7         8  \n",
      "0.55               4         6         7         8  \n",
      "0.60               4         6         7         8  \n",
      "0.65               4         6         7         8  \n",
      "0.70               4         6         7         8  \n",
      "0.75               5         6         7         8  \n",
      "0.80               5         6         7         8  \n",
      "0.85               5         6         7         8  \n",
      "0.90               5         6         7         8  \n",
      "0.95              10        10         7         8  \n",
      "=========DaviesBouldin===========\n",
      "preference  -400.000  -377.778  -355.556  -333.333  -311.111  -288.889  \\\n",
      "damping                                                                  \n",
      "0.50        5.337479  5.337479  5.337479  5.337479  5.337479  5.337479   \n",
      "0.55        5.337479  5.337479  5.337479  5.337479  5.337479  5.337479   \n",
      "0.60        5.337479  5.337479  5.337479  5.337479  5.337479  5.337479   \n",
      "0.65        5.337479  5.337479  5.337479  5.337479  5.337479  5.337479   \n",
      "0.70        5.337479  5.337479  5.337479  5.337479  5.337479  5.337479   \n",
      "0.75        5.337479  5.337479  5.337479  5.337479  5.337479  5.337479   \n",
      "0.80        5.337479  5.337479  5.337479  5.337479  5.337479  5.337479   \n",
      "0.85        5.337479  5.337479  5.337479  5.337479  5.337479  4.936461   \n",
      "0.90        5.337479  5.337479  5.337479  5.337479  4.936461  4.936461   \n",
      "0.95        5.337479  4.936461  4.936461  4.936461  4.936461  4.936461   \n",
      "\n",
      "preference  -266.667  -244.444  -222.222  -200.000  \n",
      "damping                                             \n",
      "0.50        5.337479  4.141307  4.058347  3.805299  \n",
      "0.55        5.337479  4.141307  4.058347  3.805299  \n",
      "0.60        5.337479  4.141307  4.058347  3.805299  \n",
      "0.65        5.337479  4.141307  4.058347  3.805299  \n",
      "0.70        5.337479  4.141307  4.058347  3.805299  \n",
      "0.75        4.936461  4.141307  4.058347  3.805299  \n",
      "0.80        4.936461  4.141307  4.058347  3.805299  \n",
      "0.85        4.936461  4.141307  4.058347  3.805299  \n",
      "0.90        4.936461  4.141307  4.058347  3.805299  \n",
      "0.95        4.151191  4.151191  4.026613  3.779833  \n",
      "=========CalinskiHarabasz===========\n",
      "preference  -400.000  -377.778  -355.556  -333.333  -311.111  -288.889  \\\n",
      "damping                                                                  \n",
      "0.50        5.782982  5.782982  5.782982  5.782982  5.782982  5.782982   \n",
      "0.55        5.782982  5.782982  5.782982  5.782982  5.782982  5.782982   \n",
      "0.60        5.782982  5.782982  5.782982  5.782982  5.782982  5.782982   \n",
      "0.65        5.782982  5.782982  5.782982  5.782982  5.782982  5.782982   \n",
      "0.70        5.782982  5.782982  5.782982  5.782982  5.782982  5.782982   \n",
      "0.75        5.782982  5.782982  5.782982  5.782982  5.782982  5.782982   \n",
      "0.80        5.782982  5.782982  5.782982  5.782982  5.782982  5.782982   \n",
      "0.85        5.782982  5.782982  5.782982  5.782982  5.782982  5.411536   \n",
      "0.90        5.782982  5.782982  5.782982  5.782982  5.411536  5.411536   \n",
      "0.95        5.782982  5.411536  5.411536  5.411536  5.411536  5.411536   \n",
      "\n",
      "preference  -266.667  -244.444  -222.222  -200.000  \n",
      "damping                                             \n",
      "0.50        5.782982  5.987116  5.649038  5.949661  \n",
      "0.55        5.782982  5.987116  5.649038  5.949661  \n",
      "0.60        5.782982  5.987116  5.649038  5.949661  \n",
      "0.65        5.782982  5.987116  5.649038  5.949661  \n",
      "0.70        5.782982  5.987116  5.649038  5.949661  \n",
      "0.75        5.411536  5.987116  5.649038  5.949661  \n",
      "0.80        5.411536  5.987116  5.649038  5.949661  \n",
      "0.85        5.411536  5.987116  5.649038  5.949661  \n",
      "0.90        5.411536  5.987116  5.649038  5.949661  \n",
      "0.95        4.366737  4.366737  5.748774  6.050619  \n",
      "================================================================================\n",
      "============================== t-SNE :  ==============================\n",
      "================================================================================\n",
      "Preference values : [-400.         -377.77777778 -355.55555556 -333.33333333 -311.11111111\n",
      " -288.88888889 -266.66666667 -244.44444444 -222.22222222 -200.        ]\n"
     ]
    },
    {
     "name": "stderr",
     "output_type": "stream",
     "text": [
      "/Library/Frameworks/Python.framework/Versions/3.11/lib/python3.11/site-packages/sklearn/cluster/_affinity_propagation.py:142: ConvergenceWarning:\n",
      "\n",
      "Affinity propagation did not converge, this model may return degenerate cluster centers and labels.\n",
      "\n",
      "/Library/Frameworks/Python.framework/Versions/3.11/lib/python3.11/site-packages/sklearn/cluster/_affinity_propagation.py:142: ConvergenceWarning:\n",
      "\n",
      "Affinity propagation did not converge, this model may return degenerate cluster centers and labels.\n",
      "\n"
     ]
    },
    {
     "name": "stdout",
     "output_type": "stream",
     "text": [
      "[✗] Damping: 0.5, Preference: -377.77777777777777 -> Failed: Number of labels is 356. Valid values are 2 to n_samples - 1 (inclusive)\n"
     ]
    },
    {
     "name": "stderr",
     "output_type": "stream",
     "text": [
      "/Library/Frameworks/Python.framework/Versions/3.11/lib/python3.11/site-packages/sklearn/cluster/_affinity_propagation.py:142: ConvergenceWarning:\n",
      "\n",
      "Affinity propagation did not converge, this model may return degenerate cluster centers and labels.\n",
      "\n",
      "/Library/Frameworks/Python.framework/Versions/3.11/lib/python3.11/site-packages/sklearn/cluster/_affinity_propagation.py:142: ConvergenceWarning:\n",
      "\n",
      "Affinity propagation did not converge, this model may return degenerate cluster centers and labels.\n",
      "\n",
      "/Library/Frameworks/Python.framework/Versions/3.11/lib/python3.11/site-packages/sklearn/cluster/_affinity_propagation.py:142: ConvergenceWarning:\n",
      "\n",
      "Affinity propagation did not converge, this model may return degenerate cluster centers and labels.\n",
      "\n",
      "/Library/Frameworks/Python.framework/Versions/3.11/lib/python3.11/site-packages/sklearn/cluster/_affinity_propagation.py:142: ConvergenceWarning:\n",
      "\n",
      "Affinity propagation did not converge, this model may return degenerate cluster centers and labels.\n",
      "\n",
      "/Library/Frameworks/Python.framework/Versions/3.11/lib/python3.11/site-packages/sklearn/cluster/_affinity_propagation.py:142: ConvergenceWarning:\n",
      "\n",
      "Affinity propagation did not converge, this model may return degenerate cluster centers and labels.\n",
      "\n"
     ]
    },
    {
     "name": "stdout",
     "output_type": "stream",
     "text": [
      "[✗] Damping: 0.5, Preference: -266.6666666666667 -> Failed: Number of labels is 356. Valid values are 2 to n_samples - 1 (inclusive)\n"
     ]
    },
    {
     "name": "stderr",
     "output_type": "stream",
     "text": [
      "/Library/Frameworks/Python.framework/Versions/3.11/lib/python3.11/site-packages/sklearn/cluster/_affinity_propagation.py:142: ConvergenceWarning:\n",
      "\n",
      "Affinity propagation did not converge, this model may return degenerate cluster centers and labels.\n",
      "\n",
      "/Library/Frameworks/Python.framework/Versions/3.11/lib/python3.11/site-packages/sklearn/cluster/_affinity_propagation.py:142: ConvergenceWarning:\n",
      "\n",
      "Affinity propagation did not converge, this model may return degenerate cluster centers and labels.\n",
      "\n"
     ]
    },
    {
     "name": "stdout",
     "output_type": "stream",
     "text": [
      "[✗] Damping: 0.5, Preference: -222.22222222222223 -> Failed: Number of labels is 356. Valid values are 2 to n_samples - 1 (inclusive)\n"
     ]
    },
    {
     "name": "stderr",
     "output_type": "stream",
     "text": [
      "/Library/Frameworks/Python.framework/Versions/3.11/lib/python3.11/site-packages/sklearn/cluster/_affinity_propagation.py:142: ConvergenceWarning:\n",
      "\n",
      "Affinity propagation did not converge, this model may return degenerate cluster centers and labels.\n",
      "\n",
      "/Library/Frameworks/Python.framework/Versions/3.11/lib/python3.11/site-packages/sklearn/cluster/_affinity_propagation.py:142: ConvergenceWarning:\n",
      "\n",
      "Affinity propagation did not converge, this model may return degenerate cluster centers and labels.\n",
      "\n",
      "/Library/Frameworks/Python.framework/Versions/3.11/lib/python3.11/site-packages/sklearn/cluster/_affinity_propagation.py:142: ConvergenceWarning:\n",
      "\n",
      "Affinity propagation did not converge, this model may return degenerate cluster centers and labels.\n",
      "\n",
      "/Library/Frameworks/Python.framework/Versions/3.11/lib/python3.11/site-packages/sklearn/cluster/_affinity_propagation.py:142: ConvergenceWarning:\n",
      "\n",
      "Affinity propagation did not converge, this model may return degenerate cluster centers and labels.\n",
      "\n",
      "/Library/Frameworks/Python.framework/Versions/3.11/lib/python3.11/site-packages/sklearn/cluster/_affinity_propagation.py:142: ConvergenceWarning:\n",
      "\n",
      "Affinity propagation did not converge, this model may return degenerate cluster centers and labels.\n",
      "\n",
      "/Library/Frameworks/Python.framework/Versions/3.11/lib/python3.11/site-packages/sklearn/cluster/_affinity_propagation.py:142: ConvergenceWarning:\n",
      "\n",
      "Affinity propagation did not converge, this model may return degenerate cluster centers and labels.\n",
      "\n"
     ]
    },
    {
     "name": "stdout",
     "output_type": "stream",
     "text": [
      "\n",
      "📊 Results (combinaisons damping / preference):\n",
      "=========SilouhetteScore===========\n",
      "preference  -400.000  -377.778  -355.556  -333.333  -311.111  -288.889  \\\n",
      "damping                                                                  \n",
      "0.50        0.015055       NaN  0.174221  0.014763  0.012491  0.174125   \n",
      "0.55        0.006019  0.059589  0.049480  0.317484  0.030241  0.359615   \n",
      "0.60        0.355906  0.343837  0.388225  0.365191  0.388225  0.359615   \n",
      "0.65        0.343837  0.355906  0.317484  0.388225  0.317484  0.365191   \n",
      "0.70        0.365191  0.365191  0.355906  0.355906  0.342211  0.365191   \n",
      "0.75        0.359615  0.388225  0.365191  0.355906  0.317484  0.317484   \n",
      "0.80        0.365191  0.365191  0.365191  0.365191  0.365191  0.365191   \n",
      "0.85        0.365191  0.388225  0.365191  0.365191  0.365191  0.388225   \n",
      "0.90        0.388225  0.365191  0.365191       NaN  0.359615  0.388225   \n",
      "0.95        0.365191  0.365191  0.365191       NaN  0.359615  0.388225   \n",
      "\n",
      "preference  -266.667  -244.444  -222.222  -200.000  \n",
      "damping                                             \n",
      "0.50             NaN  0.087846       NaN  0.097020  \n",
      "0.55        0.359615  0.365191  0.054388  0.314505  \n",
      "0.60        0.317484  0.365191  0.343837  0.388225  \n",
      "0.65        0.343837  0.365191  0.389398  0.309410  \n",
      "0.70        0.388225  0.388225  0.311703  0.317484  \n",
      "0.75        0.317484  0.317484  0.317484  0.311703  \n",
      "0.80        0.365191  0.388225  0.388225  0.388225  \n",
      "0.85        0.388225  0.388225  0.311703  0.388225  \n",
      "0.90        0.388225  0.388225  0.388225  0.311703  \n",
      "0.95        0.388225  0.388225  0.311703  0.311703  \n",
      "=========N_clusters===========\n",
      "preference  -400.000  -377.778  -355.556  -333.333  -311.111  -288.889  \\\n",
      "damping                                                                  \n",
      "0.50           338.0       NaN      15.0     346.0     340.0      17.0   \n",
      "0.55           351.0     256.0     333.0       3.0     324.0       2.0   \n",
      "0.60             2.0       2.0       2.0       2.0       2.0       2.0   \n",
      "0.65             2.0       2.0       3.0       2.0       3.0       2.0   \n",
      "0.70             2.0       2.0       2.0       2.0       2.0       2.0   \n",
      "0.75             2.0       2.0       2.0       2.0       3.0       3.0   \n",
      "0.80             2.0       2.0       2.0       2.0       2.0       2.0   \n",
      "0.85             2.0       2.0       2.0       2.0       2.0       2.0   \n",
      "0.90             2.0       2.0       2.0       NaN       2.0       2.0   \n",
      "0.95             2.0       2.0       2.0       NaN       2.0       2.0   \n",
      "\n",
      "preference  -266.667  -244.444  -222.222  -200.000  \n",
      "damping                                             \n",
      "0.50             NaN     294.0       NaN     123.0  \n",
      "0.55             2.0       2.0     326.0       3.0  \n",
      "0.60             3.0       2.0       2.0       2.0  \n",
      "0.65             2.0       2.0       2.0       3.0  \n",
      "0.70             2.0       2.0       3.0       3.0  \n",
      "0.75             3.0       3.0       3.0       3.0  \n",
      "0.80             2.0       2.0       2.0       2.0  \n",
      "0.85             2.0       2.0       3.0       2.0  \n",
      "0.90             2.0       2.0       2.0       3.0  \n",
      "0.95             2.0       2.0       3.0       3.0  \n",
      "=========DaviesBouldin===========\n",
      "preference  -400.000  -377.778  -355.556  -333.333  -311.111  -288.889  \\\n",
      "damping                                                                  \n",
      "0.50        0.068135       NaN  1.374628  0.105081  0.185271  1.341166   \n",
      "0.55        0.120314  0.259833  0.093105  1.203075  0.195376  1.054391   \n",
      "0.60        1.060329  1.071901  0.990724  1.049846  0.990724  1.054391   \n",
      "0.65        1.071901  1.060329  1.203075  0.990724  1.203075  1.049846   \n",
      "0.70        1.049846  1.049846  1.060329  1.060329  1.073413  1.049846   \n",
      "0.75        1.054391  0.990724  1.049846  1.060329  1.203075  1.203075   \n",
      "0.80        1.049846  1.049846  1.049846  1.049846  1.049846  1.049846   \n",
      "0.85        1.049846  0.990724  1.049846  1.049846  1.049846  0.990724   \n",
      "0.90        0.990724  1.049846  1.049846       NaN  1.054391  0.990724   \n",
      "0.95        1.049846  1.049846  1.049846       NaN  1.054391  0.990724   \n",
      "\n",
      "preference  -266.667  -244.444  -222.222  -200.000  \n",
      "damping                                             \n",
      "0.50             NaN  0.242680       NaN  0.478358  \n",
      "0.55        1.054391  1.049846  0.126513  1.173201  \n",
      "0.60        1.203075  1.049846  1.071901  0.990724  \n",
      "0.65        1.071901  1.049846  0.979756  1.188323  \n",
      "0.70        0.990724  0.990724  1.219858  1.203075  \n",
      "0.75        1.203075  1.203075  1.203075  1.219858  \n",
      "0.80        1.049846  0.990724  0.990724  0.990724  \n",
      "0.85        0.990724  0.990724  1.219858  0.990724  \n",
      "0.90        0.990724  0.990724  0.990724  1.219858  \n",
      "0.95        0.990724  0.990724  1.219858  1.219858  \n",
      "=========CalinskiHarabasz===========\n",
      "preference    -400.000    -377.778    -355.556    -333.333    -311.111  \\\n",
      "damping                                                                  \n",
      "0.50        103.072305         NaN  111.564704   79.143619   37.367311   \n",
      "0.55         56.015094   19.017015   38.461446  260.123315   52.496938   \n",
      "0.60        282.564166  266.746577  299.315940  288.728001  299.315940   \n",
      "0.65        266.746577  282.564166  260.123315  299.315940  260.123315   \n",
      "0.70        288.728001  288.728001  282.564166  282.564166  266.360148   \n",
      "0.75        286.985439  299.315940  288.728001  282.564166  260.123315   \n",
      "0.80        288.728001  288.728001  288.728001  288.728001  288.728001   \n",
      "0.85        288.728001  299.315940  288.728001  288.728001  288.728001   \n",
      "0.90        299.315940  288.728001  288.728001         NaN  286.985439   \n",
      "0.95        288.728001  288.728001  288.728001         NaN  286.985439   \n",
      "\n",
      "preference    -288.889    -266.667    -244.444    -222.222    -200.000  \n",
      "damping                                                                 \n",
      "0.50         88.649907         NaN   53.007982         NaN   14.719643  \n",
      "0.55        286.985439  286.985439  288.728001   41.648219  253.740096  \n",
      "0.60        286.985439  260.123315  288.728001  266.746577  299.315940  \n",
      "0.65        288.728001  266.746577  288.728001  298.151516  253.314430  \n",
      "0.70        288.728001  299.315940  299.315940  258.102547  260.123315  \n",
      "0.75        260.123315  260.123315  260.123315  260.123315  258.102547  \n",
      "0.80        288.728001  288.728001  299.315940  299.315940  299.315940  \n",
      "0.85        299.315940  299.315940  299.315940  258.102547  299.315940  \n",
      "0.90        299.315940  299.315940  299.315940  299.315940  258.102547  \n",
      "0.95        299.315940  299.315940  299.315940  258.102547  258.102547  \n",
      "================================================================================\n",
      "============================== ISOMAP :  ==============================\n",
      "================================================================================\n",
      "Preference values : [-400.         -377.77777778 -355.55555556 -333.33333333 -311.11111111\n",
      " -288.88888889 -266.66666667 -244.44444444 -222.22222222 -200.        ]\n",
      "\n",
      "📊 Results (combinaisons damping / preference):\n",
      "=========SilouhetteScore===========\n",
      "preference  -400.000  -377.778  -355.556  -333.333  -311.111  -288.889  \\\n",
      "damping                                                                  \n",
      "0.50             NaN       NaN       NaN  0.250050  0.250050  0.250050   \n",
      "0.55             NaN       NaN       NaN  0.250050  0.258678       NaN   \n",
      "0.60             NaN  0.130897       NaN  0.130897  0.250050  0.160307   \n",
      "0.65             NaN  0.250050       NaN  0.250050  0.250050  0.250050   \n",
      "0.70             NaN       NaN       NaN  0.250050  0.250050  0.250050   \n",
      "0.75         0.25005  0.250050   0.25005       NaN  0.160307  0.250050   \n",
      "0.80             NaN       NaN       NaN       NaN       NaN  0.136331   \n",
      "0.85             NaN       NaN       NaN       NaN  0.250050  0.250050   \n",
      "0.90             NaN       NaN       NaN       NaN  0.129374  0.129374   \n",
      "\n",
      "preference  -266.667  -244.444  -222.222  -200.000  \n",
      "damping                                             \n",
      "0.50        0.250050  0.261842  0.283874  0.257461  \n",
      "0.55        0.250050  0.160307  0.160307  0.171361  \n",
      "0.60        0.202924  0.160307  0.177317  0.165578  \n",
      "0.65        0.221653  0.177317  0.260623  0.256084  \n",
      "0.70        0.247999  0.197978  0.241431  0.208291  \n",
      "0.75        0.250050  0.232026  0.130897  0.214585  \n",
      "0.80        0.173792  0.160307  0.245177  0.210497  \n",
      "0.85        0.250050  0.253494  0.210497  0.210497  \n",
      "0.90             NaN  0.129374       NaN  0.235283  \n",
      "=========N_clusters===========\n",
      "preference  -400.000  -377.778  -355.556  -333.333  -311.111  -288.889  \\\n",
      "damping                                                                  \n",
      "0.50             NaN       NaN       NaN       2.0       2.0       2.0   \n",
      "0.55             NaN       NaN       NaN       2.0       2.0       NaN   \n",
      "0.60             NaN       2.0       NaN       2.0       2.0       2.0   \n",
      "0.65             NaN       2.0       NaN       2.0       2.0       2.0   \n",
      "0.70             NaN       NaN       NaN       2.0       2.0       2.0   \n",
      "0.75             2.0       2.0       2.0       NaN       2.0       2.0   \n",
      "0.80             NaN       NaN       NaN       NaN       NaN       2.0   \n",
      "0.85             NaN       NaN       NaN       NaN       2.0       2.0   \n",
      "0.90             NaN       NaN       NaN       NaN       2.0       2.0   \n",
      "\n",
      "preference  -266.667  -244.444  -222.222  -200.000  \n",
      "damping                                             \n",
      "0.50             2.0       2.0       2.0       4.0  \n",
      "0.55             2.0       2.0       2.0       2.0  \n",
      "0.60             2.0       2.0       3.0       3.0  \n",
      "0.65             2.0       3.0       2.0       4.0  \n",
      "0.70             2.0       3.0       3.0       3.0  \n",
      "0.75             2.0       2.0       2.0       3.0  \n",
      "0.80             2.0       2.0       3.0       3.0  \n",
      "0.85             2.0       2.0       3.0       3.0  \n",
      "0.90             NaN       2.0       NaN       4.0  \n",
      "=========DaviesBouldin===========\n",
      "preference  -400.000  -377.778  -355.556  -333.333  -311.111  -288.889  \\\n",
      "damping                                                                  \n",
      "0.50             NaN       NaN       NaN  2.132007  2.132007  2.132007   \n",
      "0.55             NaN       NaN       NaN  2.132007  2.111504       NaN   \n",
      "0.60             NaN  2.434195       NaN  2.434195  2.132007  2.280401   \n",
      "0.65             NaN  2.132007       NaN  2.132007  2.132007  2.132007   \n",
      "0.70             NaN       NaN       NaN  2.132007  2.132007  2.132007   \n",
      "0.75        2.132007  2.132007  2.132007       NaN  2.280401  2.132007   \n",
      "0.80             NaN       NaN       NaN       NaN       NaN  2.440381   \n",
      "0.85             NaN       NaN       NaN       NaN  2.132007  2.132007   \n",
      "0.90             NaN       NaN       NaN       NaN  2.432398  2.432398   \n",
      "\n",
      "preference  -266.667  -244.444  -222.222  -200.000  \n",
      "damping                                             \n",
      "0.50        2.132007  2.311182  2.042280  1.433893  \n",
      "0.55        2.132007  2.280401  2.280401  2.334869  \n",
      "0.60        2.107488  2.280401  1.855602  1.926390  \n",
      "0.65        2.126176  1.855602  2.066379  1.554482  \n",
      "0.70        2.279251  1.767686  1.691367  1.892450  \n",
      "0.75        2.132007  1.809080  2.434195  1.637816  \n",
      "0.80        2.345909  2.280401  1.654905  1.750416  \n",
      "0.85        2.132007  1.891168  1.750416  1.750416  \n",
      "0.90             NaN  2.432398       NaN  1.432232  \n",
      "=========CalinskiHarabasz===========\n",
      "preference   -400.000   -377.778   -355.556   -333.333   -311.111   -288.889  \\\n",
      "damping                                                                        \n",
      "0.50              NaN        NaN        NaN  56.375108  56.375108  56.375108   \n",
      "0.55              NaN        NaN        NaN  56.375108  53.933652        NaN   \n",
      "0.60              NaN  45.499707        NaN  45.499707  56.375108  50.656203   \n",
      "0.65              NaN  56.375108        NaN  56.375108  56.375108  56.375108   \n",
      "0.70              NaN        NaN        NaN  56.375108  56.375108  56.375108   \n",
      "0.75        56.375108  56.375108  56.375108        NaN  50.656203  56.375108   \n",
      "0.80              NaN        NaN        NaN        NaN        NaN  45.156462   \n",
      "0.85              NaN        NaN        NaN        NaN  56.375108  56.375108   \n",
      "0.90              NaN        NaN        NaN        NaN  45.789054  45.789054   \n",
      "\n",
      "preference   -266.667   -244.444   -222.222   -200.000  \n",
      "damping                                                 \n",
      "0.50        56.375108  52.679959  52.837410  63.547711  \n",
      "0.55        56.375108  50.656203  50.656203  48.865960  \n",
      "0.60        55.418665  50.656203  55.568351  51.988976  \n",
      "0.65        52.486818  55.568351  56.854792  64.632030  \n",
      "0.70        52.847399  57.843171  59.637358  54.573087  \n",
      "0.75        56.375108  52.788258  45.499707  54.261015  \n",
      "0.80        48.049772  50.656203  59.966002  55.870283  \n",
      "0.85        56.375108  53.550603  55.870283  55.870283  \n",
      "0.90              NaN  45.789054        NaN  64.808831  \n",
      "================================================================================\n",
      "============================== UMAP :  ==============================\n",
      "================================================================================\n",
      "Preference values : [-400.         -377.77777778 -355.55555556 -333.33333333 -311.11111111\n",
      " -288.88888889 -266.66666667 -244.44444444 -222.22222222 -200.        ]\n"
     ]
    },
    {
     "name": "stderr",
     "output_type": "stream",
     "text": [
      "/Library/Frameworks/Python.framework/Versions/3.11/lib/python3.11/site-packages/sklearn/cluster/_affinity_propagation.py:142: ConvergenceWarning:\n",
      "\n",
      "Affinity propagation did not converge, this model may return degenerate cluster centers and labels.\n",
      "\n",
      "/Library/Frameworks/Python.framework/Versions/3.11/lib/python3.11/site-packages/sklearn/cluster/_affinity_propagation.py:142: ConvergenceWarning:\n",
      "\n",
      "Affinity propagation did not converge, this model may return degenerate cluster centers and labels.\n",
      "\n",
      "/Library/Frameworks/Python.framework/Versions/3.11/lib/python3.11/site-packages/sklearn/cluster/_affinity_propagation.py:164: ConvergenceWarning:\n",
      "\n",
      "Affinity propagation did not converge and this model will not have any cluster centers.\n",
      "\n",
      "/Library/Frameworks/Python.framework/Versions/3.11/lib/python3.11/site-packages/sklearn/cluster/_affinity_propagation.py:142: ConvergenceWarning:\n",
      "\n",
      "Affinity propagation did not converge, this model may return degenerate cluster centers and labels.\n",
      "\n"
     ]
    },
    {
     "name": "stdout",
     "output_type": "stream",
     "text": [
      "[✗] Damping: 0.5, Preference: -333.33333333333337 -> Failed: Number of labels is 333. Valid values are 2 to n_samples - 1 (inclusive)\n"
     ]
    },
    {
     "name": "stderr",
     "output_type": "stream",
     "text": [
      "/Library/Frameworks/Python.framework/Versions/3.11/lib/python3.11/site-packages/sklearn/cluster/_affinity_propagation.py:142: ConvergenceWarning:\n",
      "\n",
      "Affinity propagation did not converge, this model may return degenerate cluster centers and labels.\n",
      "\n",
      "/Library/Frameworks/Python.framework/Versions/3.11/lib/python3.11/site-packages/sklearn/cluster/_affinity_propagation.py:142: ConvergenceWarning:\n",
      "\n",
      "Affinity propagation did not converge, this model may return degenerate cluster centers and labels.\n",
      "\n"
     ]
    },
    {
     "name": "stdout",
     "output_type": "stream",
     "text": [
      "[✗] Damping: 0.5, Preference: -311.1111111111111 -> Failed: Number of labels is 333. Valid values are 2 to n_samples - 1 (inclusive)\n",
      "[✗] Damping: 0.5, Preference: -288.8888888888889 -> Failed: Number of labels is 333. Valid values are 2 to n_samples - 1 (inclusive)\n"
     ]
    },
    {
     "name": "stderr",
     "output_type": "stream",
     "text": [
      "/Library/Frameworks/Python.framework/Versions/3.11/lib/python3.11/site-packages/sklearn/cluster/_affinity_propagation.py:142: ConvergenceWarning:\n",
      "\n",
      "Affinity propagation did not converge, this model may return degenerate cluster centers and labels.\n",
      "\n",
      "/Library/Frameworks/Python.framework/Versions/3.11/lib/python3.11/site-packages/sklearn/cluster/_affinity_propagation.py:142: ConvergenceWarning:\n",
      "\n",
      "Affinity propagation did not converge, this model may return degenerate cluster centers and labels.\n",
      "\n"
     ]
    },
    {
     "name": "stdout",
     "output_type": "stream",
     "text": [
      "[✗] Damping: 0.5, Preference: -244.44444444444446 -> Failed: Number of labels is 333. Valid values are 2 to n_samples - 1 (inclusive)\n"
     ]
    },
    {
     "name": "stderr",
     "output_type": "stream",
     "text": [
      "/Library/Frameworks/Python.framework/Versions/3.11/lib/python3.11/site-packages/sklearn/cluster/_affinity_propagation.py:142: ConvergenceWarning:\n",
      "\n",
      "Affinity propagation did not converge, this model may return degenerate cluster centers and labels.\n",
      "\n",
      "/Library/Frameworks/Python.framework/Versions/3.11/lib/python3.11/site-packages/sklearn/cluster/_affinity_propagation.py:142: ConvergenceWarning:\n",
      "\n",
      "Affinity propagation did not converge, this model may return degenerate cluster centers and labels.\n",
      "\n",
      "/Library/Frameworks/Python.framework/Versions/3.11/lib/python3.11/site-packages/sklearn/cluster/_affinity_propagation.py:142: ConvergenceWarning:\n",
      "\n",
      "Affinity propagation did not converge, this model may return degenerate cluster centers and labels.\n",
      "\n"
     ]
    },
    {
     "name": "stdout",
     "output_type": "stream",
     "text": [
      "[✗] Damping: 0.55, Preference: -400.0 -> Failed: Number of labels is 333. Valid values are 2 to n_samples - 1 (inclusive)\n"
     ]
    },
    {
     "name": "stderr",
     "output_type": "stream",
     "text": [
      "/Library/Frameworks/Python.framework/Versions/3.11/lib/python3.11/site-packages/sklearn/cluster/_affinity_propagation.py:142: ConvergenceWarning:\n",
      "\n",
      "Affinity propagation did not converge, this model may return degenerate cluster centers and labels.\n",
      "\n",
      "/Library/Frameworks/Python.framework/Versions/3.11/lib/python3.11/site-packages/sklearn/cluster/_affinity_propagation.py:142: ConvergenceWarning:\n",
      "\n",
      "Affinity propagation did not converge, this model may return degenerate cluster centers and labels.\n",
      "\n"
     ]
    },
    {
     "name": "stdout",
     "output_type": "stream",
     "text": [
      "[✗] Damping: 0.55, Preference: -355.55555555555554 -> Failed: Number of labels is 333. Valid values are 2 to n_samples - 1 (inclusive)\n"
     ]
    },
    {
     "name": "stderr",
     "output_type": "stream",
     "text": [
      "/Library/Frameworks/Python.framework/Versions/3.11/lib/python3.11/site-packages/sklearn/cluster/_affinity_propagation.py:164: ConvergenceWarning:\n",
      "\n",
      "Affinity propagation did not converge and this model will not have any cluster centers.\n",
      "\n",
      "/Library/Frameworks/Python.framework/Versions/3.11/lib/python3.11/site-packages/sklearn/cluster/_affinity_propagation.py:142: ConvergenceWarning:\n",
      "\n",
      "Affinity propagation did not converge, this model may return degenerate cluster centers and labels.\n",
      "\n",
      "/Library/Frameworks/Python.framework/Versions/3.11/lib/python3.11/site-packages/sklearn/cluster/_affinity_propagation.py:142: ConvergenceWarning:\n",
      "\n",
      "Affinity propagation did not converge, this model may return degenerate cluster centers and labels.\n",
      "\n"
     ]
    },
    {
     "name": "stdout",
     "output_type": "stream",
     "text": [
      "[✗] Damping: 0.55, Preference: -266.6666666666667 -> Failed: Number of labels is 333. Valid values are 2 to n_samples - 1 (inclusive)\n"
     ]
    },
    {
     "name": "stderr",
     "output_type": "stream",
     "text": [
      "/Library/Frameworks/Python.framework/Versions/3.11/lib/python3.11/site-packages/sklearn/cluster/_affinity_propagation.py:142: ConvergenceWarning:\n",
      "\n",
      "Affinity propagation did not converge, this model may return degenerate cluster centers and labels.\n",
      "\n",
      "/Library/Frameworks/Python.framework/Versions/3.11/lib/python3.11/site-packages/sklearn/cluster/_affinity_propagation.py:142: ConvergenceWarning:\n",
      "\n",
      "Affinity propagation did not converge, this model may return degenerate cluster centers and labels.\n",
      "\n"
     ]
    },
    {
     "name": "stdout",
     "output_type": "stream",
     "text": [
      "[✗] Damping: 0.6, Preference: -355.55555555555554 -> Failed: Number of labels is 333. Valid values are 2 to n_samples - 1 (inclusive)\n",
      "\n",
      "📊 Results (combinaisons damping / preference):\n",
      "=========SilouhetteScore===========\n",
      "preference  -400.000  -377.778  -355.556  -333.333  -311.111  -288.889  \\\n",
      "damping                                                                  \n",
      "0.50        0.127365  0.017683       NaN       NaN       NaN       NaN   \n",
      "0.55             NaN  0.127275       NaN       NaN  0.138472  0.405575   \n",
      "0.60        0.004546  0.405575       NaN  0.429953  0.427072  0.427072   \n",
      "0.65             NaN       NaN  0.405575  0.405575  0.427072  0.371443   \n",
      "0.70        0.420961  0.405575  0.427072  0.405575  0.405575  0.427072   \n",
      "0.75        0.427072  0.405575  0.405575  0.429953  0.427072  0.427072   \n",
      "0.80        0.405575  0.405575  0.405575  0.405575  0.427072  0.427072   \n",
      "0.85        0.427072  0.405575  0.405575  0.405575  0.405575  0.405575   \n",
      "0.90        0.427072  0.427072  0.427072  0.427072  0.405575  0.405575   \n",
      "0.95        0.405575  0.427072  0.427072       NaN       NaN  0.405575   \n",
      "\n",
      "preference  -266.667  -244.444  -222.222  -200.000  \n",
      "damping                                             \n",
      "0.50        0.005130       NaN  0.168083  0.046005  \n",
      "0.55             NaN  0.371443  0.427072  0.355359  \n",
      "0.60        0.427072  0.427072  0.391252  0.405575  \n",
      "0.65        0.427072  0.405575  0.427072  0.405575  \n",
      "0.70        0.427072  0.427072  0.405575  0.405575  \n",
      "0.75        0.405575  0.405575  0.427072  0.358109  \n",
      "0.80        0.418297  0.418297  0.418297  0.418297  \n",
      "0.85        0.418297  0.418297  0.405575  0.418297  \n",
      "0.90        0.405575  0.418297  0.418297  0.418297  \n",
      "0.95        0.418297  0.418297  0.418297  0.418297  \n",
      "=========N_clusters===========\n",
      "preference  -400.000  -377.778  -355.556  -333.333  -311.111  -288.889  \\\n",
      "damping                                                                  \n",
      "0.50           181.0     308.0       NaN       NaN       NaN       NaN   \n",
      "0.55             NaN     173.0       NaN       NaN     115.0       2.0   \n",
      "0.60           301.0       2.0       NaN       2.0       2.0       2.0   \n",
      "0.65             NaN       NaN       2.0       2.0       2.0       2.0   \n",
      "0.70             2.0       2.0       2.0       2.0       2.0       2.0   \n",
      "0.75             2.0       2.0       2.0       2.0       2.0       2.0   \n",
      "0.80             2.0       2.0       2.0       2.0       2.0       2.0   \n",
      "0.85             2.0       2.0       2.0       2.0       2.0       2.0   \n",
      "0.90             2.0       2.0       2.0       2.0       2.0       2.0   \n",
      "0.95             2.0       2.0       2.0       NaN       NaN       2.0   \n",
      "\n",
      "preference  -266.667  -244.444  -222.222  -200.000  \n",
      "damping                                             \n",
      "0.50           327.0       NaN      26.0     236.0  \n",
      "0.55             NaN       2.0       2.0       3.0  \n",
      "0.60             2.0       2.0       2.0       2.0  \n",
      "0.65             2.0       2.0       2.0       2.0  \n",
      "0.70             2.0       2.0       2.0       2.0  \n",
      "0.75             2.0       2.0       2.0       3.0  \n",
      "0.80             2.0       2.0       2.0       2.0  \n",
      "0.85             2.0       2.0       2.0       2.0  \n",
      "0.90             2.0       2.0       2.0       2.0  \n",
      "0.95             2.0       2.0       2.0       2.0  \n",
      "=========DaviesBouldin===========\n",
      "preference  -400.000  -377.778  -355.556  -333.333  -311.111  -288.889  \\\n",
      "damping                                                                  \n",
      "0.50        0.407836  0.166662       NaN       NaN       NaN       NaN   \n",
      "0.55             NaN  0.327187       NaN       NaN  0.624102  0.958184   \n",
      "0.60        0.173956  0.958184       NaN  0.902921  0.914207  0.914207   \n",
      "0.65             NaN       NaN  0.958184  0.958184  0.914207  0.970264   \n",
      "0.70        0.929608  0.958184  0.914207  0.958184  0.958184  0.914207   \n",
      "0.75        0.914207  0.958184  0.958184  0.902921  0.914207  0.914207   \n",
      "0.80        0.958184  0.958184  0.958184  0.958184  0.914207  0.914207   \n",
      "0.85        0.914207  0.958184  0.958184  0.958184  0.958184  0.958184   \n",
      "0.90        0.914207  0.914207  0.914207  0.914207  0.958184  0.958184   \n",
      "0.95        0.958184  0.914207  0.914207       NaN       NaN  0.958184   \n",
      "\n",
      "preference  -266.667  -244.444  -222.222  -200.000  \n",
      "damping                                             \n",
      "0.50        0.076808       NaN  1.088522  0.251537  \n",
      "0.55             NaN  0.970264  0.914207  1.078975  \n",
      "0.60        0.914207  0.914207  0.971803  0.958184  \n",
      "0.65        0.914207  0.958184  0.914207  0.958184  \n",
      "0.70        0.914207  0.914207  0.958184  0.958184  \n",
      "0.75        0.958184  0.958184  0.914207  1.043771  \n",
      "0.80        0.938006  0.938006  0.938006  0.938006  \n",
      "0.85        0.938006  0.938006  0.958184  0.938006  \n",
      "0.90        0.958184  0.938006  0.938006  0.938006  \n",
      "0.95        0.938006  0.938006  0.938006  0.938006  \n",
      "=========CalinskiHarabasz===========\n",
      "preference    -400.000    -377.778    -355.556    -333.333    -311.111  \\\n",
      "damping                                                                  \n",
      "0.50         59.401066   66.533429         NaN         NaN         NaN   \n",
      "0.55               NaN   20.335534         NaN         NaN   55.867130   \n",
      "0.60         59.271764  327.812742         NaN  341.736979  342.904176   \n",
      "0.65               NaN         NaN  327.812742  327.812742  342.904176   \n",
      "0.70        339.994642  327.812742  342.904176  327.812742  327.812742   \n",
      "0.75        342.904176  327.812742  327.812742  341.736979  342.904176   \n",
      "0.80        327.812742  327.812742  327.812742  327.812742  342.904176   \n",
      "0.85        342.904176  327.812742  327.812742  327.812742  327.812742   \n",
      "0.90        342.904176  342.904176  342.904176  342.904176  327.812742   \n",
      "0.95        327.812742  342.904176  342.904176         NaN         NaN   \n",
      "\n",
      "preference    -288.889    -266.667    -244.444    -222.222    -200.000  \n",
      "damping                                                                 \n",
      "0.50               NaN  110.913342         NaN   80.972433   22.701588  \n",
      "0.55        327.812742         NaN  280.204048  342.904176  296.116715  \n",
      "0.60        342.904176  342.904176  342.904176  309.315305  327.812742  \n",
      "0.65        280.204048  342.904176  327.812742  342.904176  327.812742  \n",
      "0.70        342.904176  342.904176  342.904176  327.812742  327.812742  \n",
      "0.75        342.904176  327.812742  327.812742  342.904176  297.009549  \n",
      "0.80        342.904176  338.384615  338.384615  338.384615  338.384615  \n",
      "0.85        327.812742  338.384615  338.384615  327.812742  338.384615  \n",
      "0.90        327.812742  327.812742  338.384615  338.384615  338.384615  \n",
      "0.95        327.812742  338.384615  338.384615  338.384615  338.384615  \n"
     ]
    }
   ],
   "source": [
    "def affinity_gridsearch(X, damping_values=np.linspace(0.5, 0.95, 10), preference_values=np.linspace(-200, -20, 10) , random_state = 42):\n",
    "    \n",
    "    results = []\n",
    "\n",
    "    if preference_values is None:\n",
    "        median = np.median(-np.linalg.norm(X[:, None] - X[None, :], axis=2)**2)\n",
    "        preference_values = np.linspace(median*1.5, median*0.5, 5)\n",
    "\n",
    "    print(f\"Preference values : {preference_values}\")\n",
    "\n",
    "    for damping in damping_values:\n",
    "        for pref in preference_values:\n",
    "            try:\n",
    "                model = AffinityPropagation(damping=damping, preference=pref, random_state=42)\n",
    "                model.fit(X)\n",
    "                labels = model.labels_\n",
    "\n",
    "                if len(np.unique(labels)) < 2:\n",
    "                    # Skip if only one cluster\n",
    "                    continue\n",
    "                sil_score = silhouette_score(X, labels)\n",
    "                db_score = davies_bouldin_score(X, labels)\n",
    "                ch_score = calinski_harabasz_score(X, labels)\n",
    "\n",
    "                results.append({\n",
    "                    'damping': round(damping, 3),\n",
    "                    'preference': round(pref, 3),\n",
    "                    'n_clusters': len(np.unique(labels)),\n",
    "                    'silhouette_score': sil_score,\n",
    "                    'davies_bouldin': db_score,\n",
    "                    'calinski_harabasz': ch_score,\n",
    "                })\n",
    "\n",
    "            except Exception as e:\n",
    "                print(f\"[✗] Damping: {damping}, Preference: {pref} -> Failed: {e}\")\n",
    "\n",
    "    results_df = pd.DataFrame(results)\n",
    "\n",
    "    metrics = ['silhouette_score', 'davies_bouldin', 'calinski_harabasz', 'n_clusters']\n",
    "    pivot_df = results_df.pivot(index='damping', columns='preference')[metrics]\n",
    "\n",
    "    flat_df = pivot_df.swaplevel(axis=1).sort_index(axis=1)\n",
    "    flat_df.columns = [f\"{cov}_{metric}\" for cov, metric in flat_df.columns]\n",
    "\n",
    "    # Classements sur chaque indicateur\n",
    "    rank_df = pd.DataFrame(index=flat_df.index)\n",
    "\n",
    "    for col in flat_df.columns:\n",
    "        metric = col.split(\"_\", 1)[1]\n",
    "        if metric in ['n_clusters', 'davies_bouldin']:\n",
    "            rank_df[col] = flat_df[col].rank(method='min', ascending=True)\n",
    "        else:\n",
    "            rank_df[col] = flat_df[col].rank(method='min', ascending=False)\n",
    "        \n",
    "    print(\"\\n📊 Results (combinaisons damping / preference):\")\n",
    "    print(\"=========SilouhetteScore===========\")\n",
    "    print(pivot_df[\"silhouette_score\"])\n",
    "    print(\"=========N_clusters===========\")\n",
    "    print(pivot_df[\"n_clusters\"])\n",
    "    print(\"=========DaviesBouldin===========\")\n",
    "    print(pivot_df[\"davies_bouldin\"])\n",
    "    print(\"=========CalinskiHarabasz===========\")\n",
    "    print(pivot_df[\"calinski_harabasz\"])\n",
    "\n",
    "    \"\"\"\n",
    "    print(\"\\n📊 Avg rankings:\")\n",
    "    print(rank_df)\n",
    "    \"\"\"\n",
    "    \n",
    "    return results_df, rank_df\n",
    "\n",
    "\n",
    "print(\"=\"*80)\n",
    "print(\"=\"*30, \"PCA : \", \"=\"*30)\n",
    "print(\"=\"*80)\n",
    "_, _ = affinity_gridsearch(X_PCA, random_state=42)\n",
    "\n",
    "print(\"=\"*80)\n",
    "print(\"=\"*30, \"t-SNE : \", \"=\"*30)\n",
    "print(\"=\"*80)\n",
    "_, _ = affinity_gridsearch(X_tSNE, random_state=42)\n",
    "\n",
    "print(\"=\"*80)\n",
    "print(\"=\"*30, \"ISOMAP : \", \"=\"*30)\n",
    "print(\"=\"*80)\n",
    "_, _ = affinity_gridsearch(X_ISOMAP, random_state=42)\n",
    "\n",
    "print(\"=\"*80)\n",
    "print(\"=\"*30, \"UMAP : \", \"=\"*30)\n",
    "print(\"=\"*80)\n",
    "_, _ = affinity_gridsearch(X_UMAP, random_state=42)"
   ]
  },
  {
   "cell_type": "markdown",
   "id": "41979036-1906-407e-b33c-1248a38c37aa",
   "metadata": {},
   "source": [
    "## Run Affinity Propagation"
   ]
  },
  {
   "cell_type": "code",
   "execution_count": 21,
   "id": "23a23680-090c-44c7-a510-90157c93cc35",
   "metadata": {},
   "outputs": [],
   "source": [
    "def run_affinity(X, data, damping =0.9, preference=None, random_state = 42, name=\"\"):\n",
    "\n",
    "    aff = AffinityPropagation(damping=damping, preference=preference, random_state=42)\n",
    "    aff.fit(X)\n",
    "    labels = aff.labels_\n",
    "\n",
    "    df = pd.DataFrame(X, columns=[f'{name}_{i+1}' for i in range(X.shape[1])])\n",
    "    df[\"cluster\"] = labels\n",
    "\n",
    "    meta_cols = ['player_name', 'equipe', 'positions']\n",
    "    df_meta = data[meta_cols].copy()\n",
    "    df_meta.index = df.index \n",
    "    df = df_meta.join(df)\n",
    "\n",
    "    return df, aff\n",
    "\n",
    "X_aff_PCA_best, aff_PCA_best = run_affinity(X_PCA, data_PCA, damping = 0.70 , preference = -120 , random_state = 42, name = \"PCA\")\n",
    "X_aff_tSNE_best, aff_tSNE_best = run_affinity(X_tSNE, data_tSNE, damping = 0.75 , preference = -40 , random_state = 42, name = \"tsne\") #Alternatives ac - clusters vers params comme PCA\n",
    "X_aff_ISOMAP_best, aff_ISOMAP_best = run_affinity(X_ISOMAP, data_ISOMAP, damping = 0.85 , preference = -80 , random_state = 42, name = \"isomap\")\n",
    "X_aff_UMAP_best, aff_UMAP_best = run_affinity(X_UMAP, data_UMAP, damping = 0.85 , preference = -60 , random_state = 42, name = \"UMAP\")"
   ]
  },
  {
   "cell_type": "markdown",
   "id": "e37ae328-17f7-46db-8ece-f6aaacf291eb",
   "metadata": {},
   "source": [
    "## Results Display"
   ]
  },
  {
   "cell_type": "code",
   "execution_count": 22,
   "id": "82890738-5e3e-4f58-9083-bde1a10ac92c",
   "metadata": {},
   "outputs": [
    {
     "name": "stdout",
     "output_type": "stream",
     "text": [
      "============================================================\n",
      "============RESULTS EN 3D===============\n",
      "============================================================\n"
     ]
    },
    {
     "data": {
      "application/vnd.plotly.v1+json": {
       "config": {
        "plotlyServerURL": "https://plot.ly"
       },
       "data": [
        {
         "customdata": [
          [
           "Jordan Lefort",
           "DF"
          ],
          [
           "Andrey Santos",
           "MF"
          ],
          [
           "Valentin Atangana Edoa",
           "MF"
          ],
          [
           "Himad Abdelli",
           "MF,FW"
          ],
          [
           "Mason Greenwood",
           "FW,MF"
          ],
          [
           "Zuriko Davitashvili",
           "FW,MF"
          ],
          [
           "Gautier Lloris",
           "DF"
          ],
          [
           "Matthis Abline",
           "FW"
          ],
          [
           "Bafodé Diakité",
           "DF"
          ],
          [
           "Adrien Truffert",
           "DF,MF"
          ],
          [
           "Moussa Niakhate",
           "DF"
          ],
          [
           "Guela Doué",
           "DF"
          ],
          [
           "Alexsandro Ribeiro",
           "DF"
          ],
          [
           "Cristian Cásseres Jr.",
           "MF"
          ],
          [
           "Benjamin André",
           "MF"
          ],
          [
           "Gaëtan Perrin",
           "MF,FW"
          ],
          [
           "Junya Ito",
           "FW,MF"
          ],
          [
           "Aron Dønnum",
           "DF,MF"
          ],
          [
           "Kenny Lala",
           "DF"
          ],
          [
           "Florent Hanin",
           "DF"
          ],
          [
           "Pierre Højbjerg",
           "MF"
          ],
          [
           "Mahdi Camara",
           "MF,FW"
          ],
          [
           "Keito Nakamura",
           "FW,MF"
          ],
          [
           "Jubal",
           "DF"
          ],
          [
           "Ismaël Doukouré",
           "DF,MF"
          ],
          [
           "Léo Pétrot",
           "DF"
          ],
          [
           "Jean-Charles Castelletto",
           "DF,MF"
          ],
          [
           "Adrien Thomasson",
           "MF"
          ],
          [
           "Luis Henrique",
           "DF,FW"
          ],
          [
           "Moses Simon",
           "FW,MF"
          ],
          [
           "Charlie Cresswell",
           "DF"
          ],
          [
           "Arnaud Kalimuendo",
           "FW,MF"
          ],
          [
           "Pierre Ekwah Elimby",
           "MF"
          ],
          [
           "Diego Moreira",
           "DF,MF"
          ],
          [
           "Evann Guessand",
           "FW,MF"
          ],
          [
           "Jonathan David",
           "FW"
          ],
          [
           "Facundo Medina",
           "DF"
          ],
          [
           "Sergio Akieme",
           "DF"
          ],
          [
           "Dilane Bakwa",
           "MF,DF"
          ],
          [
           "Mark McKenzie",
           "DF"
          ],
          [
           "Ludovic Ajorque",
           "FW"
          ],
          [
           "Clément Akpa",
           "DF"
          ],
          [
           "Adrien Rabiot",
           "MF"
          ],
          [
           "Loïc Nego",
           "DF,FW"
          ],
          [
           "Michael Amir Murillo",
           "DF"
          ],
          [
           "Hicham Boudaoui",
           "MF"
          ],
          [
           "Brendan Chardonnet",
           "DF"
          ],
          [
           "Maghnes Akliouche",
           "FW,MF"
          ],
          [
           "Vincent Sierro",
           "MF"
          ],
          [
           "Thilo Kehrer",
           "DF"
          ],
          [
           "Clinton Mata",
           "DF"
          ],
          [
           "Mamadou Sarr",
           "DF"
          ],
          [
           "Téji Savanier",
           "MF"
          ],
          [
           "Lorenz Assignon",
           "DF,MF"
          ],
          [
           "Habib Diarra",
           "MF,FW"
          ],
          [
           "Pedro Chirivella",
           "MF"
          ],
          [
           "Elisha Owusu",
           "MF"
          ],
          [
           "Yann Gboho",
           "MF,FW"
          ],
          [
           "Corentin Tolisso",
           "MF"
          ],
          [
           "Abdoulaye Touré",
           "MF"
          ],
          [
           "Hugo Magnetti",
           "MF"
          ],
          [
           "Etienne Youte Kinkoue",
           "DF"
          ],
          [
           "Douglas",
           "MF"
          ],
          [
           "Mickael Nade",
           "DF"
          ],
          [
           "Jonathan Clauss",
           "DF,MF"
          ],
          [
           "Lassine Sinayoko",
           "FW,MF"
          ],
          [
           "Ludovic Blas",
           "MF,FW"
          ],
          [
           "Emanuel Emegha",
           "FW"
          ],
          [
           "Gideon Mensah",
           "DF"
          ],
          [
           "Leonardo Balerdi",
           "DF"
          ],
          [
           "Takumi Minamino",
           "MF,FW"
          ],
          [
           "Andy Diouf",
           "MF"
          ],
          [
           "Moïse Bombito",
           "DF"
          ],
          [
           "Cédric Kipré",
           "DF"
          ],
          [
           "Bradley Barcola",
           "FW"
          ],
          [
           "Kelvin Amian",
           "DF"
          ],
          [
           "Gabriel Suazo",
           "DF"
          ],
          [
           "Denis Zakaria",
           "MF"
          ],
          [
           "Modibo Sagnan",
           "DF"
          ],
          [
           "Willian Pacho",
           "DF"
          ],
          [
           "Dennis Appiah",
           "DF"
          ],
          [
           "Ki-Jana Hoever",
           "DF"
          ],
          [
           "Jonathan Gradit",
           "DF"
          ],
          [
           "Sebastian Nanasi",
           "MF,FW"
          ],
          [
           "Djibril Sidibé",
           "DF"
          ],
          [
           "Yassine Kechta",
           "MF,FW"
          ],
          [
           "Wilfried Singo",
           "DF"
          ],
          [
           "Hamed Junior Traorè",
           "MF"
          ],
          [
           "Azor Matusiwa",
           "MF"
          ],
          [
           "Achraf Hakimi",
           "DF"
          ],
          [
           "Vanderson",
           "DF"
          ],
          [
           "Lamine Camara",
           "MF"
          ],
          [
           "Alexandre Lacazette",
           "FW"
          ],
          [
           "Nicolas Cozza",
           "DF,MF"
          ],
          [
           "Warren Zaïre-Emery",
           "MF,DF"
          ],
          [
           "Johann Lepenant",
           "MF"
          ],
          [
           "Carlens Arcus",
           "DF"
          ],
          [
           "Vitinha",
           "MF"
          ],
          [
           "Rayan Cherki",
           "FW,MF"
          ],
          [
           "Geoffrey Kondogbia",
           "DF,MF"
          ],
          [
           "Nicolas Pallois",
           "DF"
          ],
          [
           "Dylan Batubinsika",
           "DF"
          ],
          [
           "Lucas Beraldo",
           "DF"
          ],
          [
           "Nemanja Matić",
           "MF"
          ],
          [
           "Josué Casimir",
           "FW,MF"
          ],
          [
           "Ainsley Maitland-Niles",
           "DF"
          ],
          [
           "Aurélio Buta",
           "DF"
          ],
          [
           "Dante",
           "DF"
          ],
          [
           "Jean-Eudes Aholou",
           "MF"
          ],
          [
           "Sinaly Diomande",
           "DF"
          ],
          [
           "Melvin Bard",
           "DF,MF"
          ],
          [
           "Youssouf Ndayishimiye",
           "DF"
          ],
          [
           "Caio Henrique Oliveira Silva",
           "DF"
          ],
          [
           "Thomas Meunier",
           "DF"
          ],
          [
           "Fabián Ruiz Peña",
           "MF"
          ],
          [
           "Issa Soumaré",
           "FW,MF"
          ],
          [
           "Nicolás Tagliafico",
           "DF"
          ],
          [
           "Zakaria Aboukhlal",
           "MF,FW"
          ],
          [
           "Enzo Tchato",
           "DF"
          ],
          [
           "Farid El Melali",
           "FW"
          ],
          [
           "Joris Chotard",
           "MF"
          ],
          [
           "Lucas Stassin",
           "FW"
          ],
          [
           "João Neves",
           "MF,DF"
          ],
          [
           "Breel Embolo",
           "FW,MF"
          ],
          [
           "Gaëtan Laborde",
           "FW"
          ],
          [
           "Deiver Machado",
           "DF,MF"
          ],
          [
           "Becir Omeragic",
           "DF"
          ],
          [
           "Florian Sotoca",
           "FW,MF"
          ],
          [
           "Haris Belkebla",
           "MF"
          ],
          [
           "Gabriel Gudmundsson",
           "DF"
          ],
          [
           "Félix Lemaréchal",
           "MF,FW"
          ],
          [
           "Pablo Rosario",
           "MF,DF"
          ],
          [
           "Jordan Ferri",
           "MF"
          ],
          [
           "Benjamin Bouchouari",
           "MF"
          ],
          [
           "Hákon Arnar Haraldsson",
           "MF,FW"
          ],
          [
           "Jim Allevinah",
           "FW"
          ],
          [
           "Eliesse Ben Seghir",
           "MF,FW"
          ],
          [
           "Aïssa Mandi",
           "DF"
          ],
          [
           "Ousmane Dembélé",
           "FW"
          ],
          [
           "Désiré Doué",
           "FW,MF"
          ],
          [
           "Marquinhos",
           "DF"
          ],
          [
           "Abdoulaye Niakhate Ndiaye",
           "DF"
          ],
          [
           "Joseph Okumu",
           "DF"
          ],
          [
           "Marshall Munetsi",
           "MF"
          ],
          [
           "Rabby Nzingoula",
           "MF"
          ],
          [
           "Hans Hateboer",
           "DF"
          ],
          [
           "Massadio Haïdara",
           "DF"
          ],
          [
           "Nuno Mendes",
           "DF"
          ],
          [
           "Joshua King",
           "FW,MF"
          ],
          [
           "Lee Kang-in",
           "FW,MF"
          ],
          [
           "Gabriel Osho",
           "DF"
          ],
          [
           "Esteban Lepaul",
           "FW"
          ],
          [
           "Oumar Diakité",
           "FW"
          ],
          [
           "Mohamed Ali Cho",
           "FW,MF"
          ],
          [
           "Quentin Merlin",
           "DF"
          ],
          [
           "Malick Fofana",
           "FW"
          ],
          [
           "Neil El Aynaoui",
           "MF"
          ],
          [
           "Duje Ćaleta-Car",
           "DF"
          ],
          [
           "Mathias Pereira Lage",
           "FW,MF"
          ],
          [
           "Valentin Rongier",
           "MF,DF"
          ],
          [
           "Jordan Veretout",
           "MF"
          ],
          [
           "Pierre Lees-Melou",
           "MF"
          ],
          [
           "Yassin Belkhdim",
           "MF"
          ],
          [
           "Frank Magri",
           "FW,MF"
          ],
          [
           "Nathan Zeze",
           "DF"
          ],
          [
           "Abdoulaye Bamba",
           "DF"
          ],
          [
           "Christian Mawissa",
           "DF"
          ],
          [
           "Tanguy Coulibaly",
           "FW,MF"
          ],
          [
           "M'Bala Nzola",
           "FW"
          ],
          [
           "Kévin Danois",
           "MF"
          ],
          [
           "Christopher Wooh",
           "DF"
          ],
          [
           "André Ayew",
           "FW"
          ],
          [
           "Georges Mikautadze",
           "FW"
          ],
          [
           "Derek Cornelius",
           "DF"
          ],
          [
           "Anass Zaroury",
           "FW,MF"
          ],
          [
           "Ali Abdi",
           "DF,MF"
          ],
          [
           "Przemysław Frankowski",
           "DF"
          ],
          [
           "Malang Sarr",
           "DF"
          ],
          [
           "Julien Le Cardinal",
           "DF"
          ],
          [
           "Emmanuel Biumla",
           "DF"
          ],
          [
           "Kamory Doumbia",
           "MF,FW"
          ],
          [
           "Sorba Thomas",
           "FW,MF"
          ],
          [
           "Lilian Raolisoa",
           "DF,FW"
          ],
          [
           "Amadou Koné",
           "MF"
          ],
          [
           "Osame Sahraoui",
           "FW,MF"
          ],
          [
           "André Gomes",
           "MF"
          ],
          [
           "Emmanuel Agbadou",
           "DF"
          ],
          [
           "Romain Del Castillo",
           "FW"
          ],
          [
           "Mostafa Mohamed",
           "FW"
          ],
          [
           "Florian Tardieu",
           "MF"
          ],
          [
           "Arouna Sangante",
           "DF"
          ],
          [
           "Abdallah Sima",
           "FW,MF"
          ],
          [
           "Tanner Tessmann",
           "MF"
          ],
          [
           "Lilian Brassier",
           "DF"
          ],
          [
           "Falaye Sacko",
           "DF"
          ],
          [
           "Mika Biereth",
           "FW"
          ],
          [
           "Leo Skiri Østigård",
           "DF"
          ],
          [
           "Ngal'Ayel Mukau",
           "MF"
          ],
          [
           "Shavy Babicka",
           "MF,FW"
          ],
          [
           "Jordan James",
           "MF"
          ],
          [
           "Christopher Operi",
           "DF,FW"
          ],
          [
           "Arnaud Nordin",
           "FW"
          ],
          [
           "Nhoa Sangui",
           "DF,MF"
          ],
          [
           "Valentín Barco",
           "MF,DF"
          ],
          [
           "Issiaga Sylla",
           "DF"
          ],
          [
           "Aleksandr Golovin",
           "MF,FW"
          ],
          [
           "Ayyoub Bouaddi",
           "MF"
          ],
          [
           "Mama Samba Baldé",
           "FW"
          ],
          [
           "Mitchel Bakker",
           "FW,DF"
          ],
          [
           "Tanguy Ndombele",
           "MF"
          ],
          [
           "Mory Gbane",
           "DF,MF"
          ],
          [
           "Ruben Aguilar",
           "DF,MF"
          ],
          [
           "Djaoui Cissé",
           "MF"
          ],
          [
           "Wahbi Khazri",
           "FW,MF"
          ],
          [
           "Musa Al-Taamari",
           "FW,MF"
          ],
          [
           "Timothee Pembele",
           "DF"
          ],
          [
           "Jaydee Canvot",
           "DF,MF"
          ],
          [
           "Edimilson Fernandes",
           "MF,DF"
          ],
          [
           "Badredine Bouanani",
           "MF,FW"
          ],
          [
           "Abner",
           "DF"
          ],
          [
           "Kevin Danso",
           "DF"
          ],
          [
           "Akor Adams",
           "FW"
          ],
          [
           "Gonçalo Ramos",
           "FW"
          ],
          [
           "Matias Fernandez-Pardo",
           "FW,MF"
          ],
          [
           "Sofiane Diop",
           "MF,FW"
          ],
          [
           "Irvin Cardona",
           "FW"
          ],
          [
           "Rassoul Ndiaye",
           "MF"
          ],
          [
           "Jeremie Boga",
           "MF,FW"
          ],
          [
           "Ernest Nuamah",
           "FW,MF"
          ],
          [
           "Amine Gouiri",
           "FW,MF"
          ],
          [
           "Han-Noah Massengo",
           "MF"
          ],
          [
           "Angelo Fulgini",
           "MF,FW"
          ],
          [
           "Louis Mouton",
           "MF"
          ],
          [
           "Neal Maupay",
           "FW"
          ],
          [
           "Aimen Moueffek",
           "MF"
          ],
          [
           "Yunis Abdelhamid",
           "DF"
          ],
          [
           "Khalil Fayad",
           "MF,FW"
          ],
          [
           "Soungoutou Magassa",
           "MF"
          ],
          [
           "Mohammed Salisu",
           "DF"
          ],
          [
           "Warren Kamanzi",
           "DF,MF"
          ],
          [
           "Saidou Sow",
           "DF"
          ],
          [
           "Théo Sainte-Luce",
           "DF"
          ],
          [
           "Rémy Cabella",
           "FW,MF"
          ],
          [
           "Paul Joly",
           "DF"
          ],
          [
           "Oussama Targhalline",
           "MF"
          ],
          [
           "Edon Zhegrova",
           "FW,MF"
          ],
          [
           "Yanis Zouaoui",
           "DF,FW"
          ],
          [
           "Abdukodir Khusanov",
           "DF"
          ],
          [
           "Anthony Rouault",
           "DF"
          ],
          [
           "Ado Onaiwu",
           "MF,FW"
          ],
          [
           "Junior Mwanga",
           "MF"
          ],
          [
           "Thiago Almada",
           "MF,FW"
          ],
          [
           "Sael Kumbedi",
           "DF"
          ],
          [
           "Marcus Coco",
           "DF"
          ],
          [
           "Abakar Sylla",
           "DF"
          ],
          [
           "Yael Mouanga",
           "DF"
          ],
          [
           "Antoine Joujou",
           "MF,FW"
          ],
          [
           "Ibrahima Niane",
           "FW"
          ],
          [
           "Theo Bair",
           "FW"
          ],
          [
           "Ulisses Garcia",
           "DF"
          ],
          [
           "Jérémy Jacquet",
           "DF"
          ],
          [
           "Baptiste Santamaria",
           "MF"
          ],
          [
           "Khvicha Kvaratskhelia",
           "FW"
          ],
          [
           "Wesley Saïd",
           "FW"
          ],
          [
           "Ismaily",
           "DF"
          ],
          [
           "Romain Faivre",
           "MF,FW"
          ],
          [
           "Hiroki Sekine",
           "DF"
          ],
          [
           "Goduine Koyalipou",
           "FW"
          ],
          [
           "Lucas Hernández",
           "DF"
          ],
          [
           "Mathis Amougou",
           "MF"
          ],
          [
           "Mamadou Diakhon",
           "FW,MF"
          ],
          [
           "Mohamed Abdelmoneim",
           "DF"
          ],
          [
           "Koka",
           "FW"
          ],
          [
           "Zinedine Ferhat",
           "FW,MF"
          ],
          [
           "Seko Fofana",
           "MF"
          ],
          [
           "Antoine Mendy",
           "DF"
          ],
          [
           "Ibrahim Sissoko",
           "FW"
          ],
          [
           "Louis Leroux",
           "MF,DF"
          ],
          [
           "Albert Grønbaek",
           "MF,FW"
          ],
          [
           "Senny Mayulu",
           "MF"
          ],
          [
           "Jonathan Rowe",
           "FW,MF"
          ],
          [
           "Alidu Seidu",
           "DF"
          ],
          [
           "Yoann Salmier",
           "DF"
          ],
          [
           "Yvann Macon",
           "DF"
          ],
          [
           "Jordan Amavi",
           "DF"
          ],
          [
           "Tom Louchet",
           "DF,MF"
          ],
          [
           "Sekou Mara",
           "FW,MF"
          ],
          [
           "Maxime Bernauer",
           "DF"
          ],
          [
           "Boubakar Kouyaté",
           "DF"
          ],
          [
           "Teddy Teuma",
           "MF"
          ],
          [
           "Angel Gomes",
           "MF"
          ],
          [
           "Saïd Benrahma",
           "FW,MF"
          ],
          [
           "Augustine Boakye",
           "FW,MF"
          ],
          [
           "Mathieu Cafaro",
           "MF,FW"
          ],
          [
           "Rayan Raveloson",
           "MF,DF"
          ],
          [
           "George Ilenikhena",
           "FW"
          ],
          [
           "Lucas Mincarelli",
           "DF"
          ],
          [
           "Jacques Ekomie",
           "DF,FW"
          ],
          [
           "Mikayil Ngor Faye",
           "DF"
          ],
          [
           "Abdulai Juma Bah",
           "DF"
          ],
          [
           "Pol Lirola",
           "DF"
          ],
          [
           "Assane Dioussé",
           "MF"
          ],
          [
           "Glen Kamara",
           "MF"
          ],
          [
           "Emmanuel Sabbi",
           "FW,MF"
          ],
          [
           "Ismaël Bennacer",
           "MF"
          ],
          [
           "Chuba Akpom",
           "FW"
          ],
          [
           "Luck Zogbé",
           "DF"
          ],
          [
           "Rémy Labeau Lascary",
           "FW,MF"
          ],
          [
           "Yaya Kader Fofana",
           "MF,FW"
          ],
          [
           "Rasmus Nicolaisen",
           "DF"
          ],
          [
           "Marco Asensio",
           "FW,MF"
          ],
          [
           "Folarin Balogun",
           "FW"
          ],
          [
           "Andy Delort",
           "FW"
          ],
          [
           "Jhoanner Chávez",
           "DF,MF"
          ],
          [
           "Fodé Ballo-Touré",
           "DF,MF"
          ],
          [
           "Nampalys Mendy",
           "MF"
          ],
          [
           "Mahamadou Diawara",
           "MF"
          ],
          [
           "Nikola Maksimović",
           "DF"
          ],
          [
           "Pierre Cornud",
           "DF"
          ],
          [
           "Florian Ayé",
           "FW"
          ],
          [
           "Elye Wahi",
           "FW"
          ],
          [
           "Maxence Caqueret",
           "MF"
          ],
          [
           "Jordan Teze",
           "DF"
          ],
          [
           "Daler Kuzyaev",
           "MF"
          ],
          [
           "John Joe",
           "MF"
          ],
          [
           "Mohamed Meité",
           "FW"
          ],
          [
           "Andrew Omobamidele",
           "DF"
          ],
          [
           "Jean-Kevin Duverne",
           "DF"
          ],
          [
           "Bamba Dieng",
           "FW"
          ],
          [
           "Ben Old",
           "FW,MF"
          ],
          [
           "Amine Harit",
           "MF"
          ],
          [
           "Tino Kadewere",
           "MF,FW"
          ],
          [
           "Krépin Diatta",
           "DF,FW"
          ]
         ],
         "hovertemplate": "PCA_1=%{x}<br>PCA_2=%{y}<br>PCA_3=%{z}<br>player_name=%{customdata[0]}<br>positions=%{customdata[1]}<br>cluster=%{marker.color}<extra></extra>",
         "legendgroup": "",
         "marker": {
          "color": {
           "bdata": "BQMCAAEDAgACCQUEAgIDAgAEBAQCAwYFAgQFAwkAAgEGAAABAgIAAgMGAwcEAwUAAgIHAgYABgYCAAMBAgUDAgcFAwIEBwIABQUACQQABgIEBAcDAgYCAwMHBAMBAgkDBwkABwIFBwkDBAQHAwMEBQkJBwAJAgkABgMEAgEEBQcCBAMCAwYJAgAJCQACAgUDAwcHBAIJAgYDAAkAAQUCAwkDAgIFBQIDBwYCAgECBwkJBgACCAcAAwAHBgEHBgIJCQUEBgIJAgcEAAkEBwMJBwkCBgkDBgcJBwYACQUGAQADBwYJCQMABwMJAwUGAwIABQkDBAcACQUFBwYHCQkLBQACBwcHBwUCCQAHAgcGCQcHCgcCAwYJCQMJBQkEBwMFBQYGAAMGBgIJBAIHCwYJAAgBBAAACwYCBwQECAQHBgMBCQkGCQIFBwEGDAAH",
           "dtype": "i1"
          },
          "coloraxis": "coloraxis",
          "symbol": "circle"
         },
         "mode": "markers",
         "name": "",
         "scene": "scene",
         "showlegend": false,
         "type": "scatter3d",
         "x": {
          "bdata": "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",
          "dtype": "f8"
         },
         "y": {
          "bdata": "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",
          "dtype": "f8"
         },
         "z": {
          "bdata": "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",
          "dtype": "f8"
         }
        }
       ],
       "layout": {
        "coloraxis": {
         "colorbar": {
          "title": {
           "text": "cluster"
          }
         },
         "colorscale": [
          [
           0,
           "#0d0887"
          ],
          [
           0.1111111111111111,
           "#46039f"
          ],
          [
           0.2222222222222222,
           "#7201a8"
          ],
          [
           0.3333333333333333,
           "#9c179e"
          ],
          [
           0.4444444444444444,
           "#bd3786"
          ],
          [
           0.5555555555555556,
           "#d8576b"
          ],
          [
           0.6666666666666666,
           "#ed7953"
          ],
          [
           0.7777777777777778,
           "#fb9f3a"
          ],
          [
           0.8888888888888888,
           "#fdca26"
          ],
          [
           1,
           "#f0f921"
          ]
         ]
        },
        "height": 700,
        "legend": {
         "tracegroupgap": 0
        },
        "scene": {
         "domain": {
          "x": [
           0,
           1
          ],
          "y": [
           0,
           1
          ]
         },
         "xaxis": {
          "title": {
           "text": "PCA_1"
          }
         },
         "yaxis": {
          "title": {
           "text": "PCA_2"
          }
         },
         "zaxis": {
          "title": {
           "text": "PCA_3"
          }
         }
        },
        "template": {
         "data": {
          "bar": [
           {
            "error_x": {
             "color": "#2a3f5f"
            },
            "error_y": {
             "color": "#2a3f5f"
            },
            "marker": {
             "line": {
              "color": "#E5ECF6",
              "width": 0.5
             },
             "pattern": {
              "fillmode": "overlay",
              "size": 10,
              "solidity": 0.2
             }
            },
            "type": "bar"
           }
          ],
          "barpolar": [
           {
            "marker": {
             "line": {
              "color": "#E5ECF6",
              "width": 0.5
             },
             "pattern": {
              "fillmode": "overlay",
              "size": 10,
              "solidity": 0.2
             }
            },
            "type": "barpolar"
           }
          ],
          "carpet": [
           {
            "aaxis": {
             "endlinecolor": "#2a3f5f",
             "gridcolor": "white",
             "linecolor": "white",
             "minorgridcolor": "white",
             "startlinecolor": "#2a3f5f"
            },
            "baxis": {
             "endlinecolor": "#2a3f5f",
             "gridcolor": "white",
             "linecolor": "white",
             "minorgridcolor": "white",
             "startlinecolor": "#2a3f5f"
            },
            "type": "carpet"
           }
          ],
          "choropleth": [
           {
            "colorbar": {
             "outlinewidth": 0,
             "ticks": ""
            },
            "type": "choropleth"
           }
          ],
          "contour": [
           {
            "colorbar": {
             "outlinewidth": 0,
             "ticks": ""
            },
            "colorscale": [
             [
              0,
              "#0d0887"
             ],
             [
              0.1111111111111111,
              "#46039f"
             ],
             [
              0.2222222222222222,
              "#7201a8"
             ],
             [
              0.3333333333333333,
              "#9c179e"
             ],
             [
              0.4444444444444444,
              "#bd3786"
             ],
             [
              0.5555555555555556,
              "#d8576b"
             ],
             [
              0.6666666666666666,
              "#ed7953"
             ],
             [
              0.7777777777777778,
              "#fb9f3a"
             ],
             [
              0.8888888888888888,
              "#fdca26"
             ],
             [
              1,
              "#f0f921"
             ]
            ],
            "type": "contour"
           }
          ],
          "contourcarpet": [
           {
            "colorbar": {
             "outlinewidth": 0,
             "ticks": ""
            },
            "type": "contourcarpet"
           }
          ],
          "heatmap": [
           {
            "colorbar": {
             "outlinewidth": 0,
             "ticks": ""
            },
            "colorscale": [
             [
              0,
              "#0d0887"
             ],
             [
              0.1111111111111111,
              "#46039f"
             ],
             [
              0.2222222222222222,
              "#7201a8"
             ],
             [
              0.3333333333333333,
              "#9c179e"
             ],
             [
              0.4444444444444444,
              "#bd3786"
             ],
             [
              0.5555555555555556,
              "#d8576b"
             ],
             [
              0.6666666666666666,
              "#ed7953"
             ],
             [
              0.7777777777777778,
              "#fb9f3a"
             ],
             [
              0.8888888888888888,
              "#fdca26"
             ],
             [
              1,
              "#f0f921"
             ]
            ],
            "type": "heatmap"
           }
          ],
          "histogram": [
           {
            "marker": {
             "pattern": {
              "fillmode": "overlay",
              "size": 10,
              "solidity": 0.2
             }
            },
            "type": "histogram"
           }
          ],
          "histogram2d": [
           {
            "colorbar": {
             "outlinewidth": 0,
             "ticks": ""
            },
            "colorscale": [
             [
              0,
              "#0d0887"
             ],
             [
              0.1111111111111111,
              "#46039f"
             ],
             [
              0.2222222222222222,
              "#7201a8"
             ],
             [
              0.3333333333333333,
              "#9c179e"
             ],
             [
              0.4444444444444444,
              "#bd3786"
             ],
             [
              0.5555555555555556,
              "#d8576b"
             ],
             [
              0.6666666666666666,
              "#ed7953"
             ],
             [
              0.7777777777777778,
              "#fb9f3a"
             ],
             [
              0.8888888888888888,
              "#fdca26"
             ],
             [
              1,
              "#f0f921"
             ]
            ],
            "type": "histogram2d"
           }
          ],
          "histogram2dcontour": [
           {
            "colorbar": {
             "outlinewidth": 0,
             "ticks": ""
            },
            "colorscale": [
             [
              0,
              "#0d0887"
             ],
             [
              0.1111111111111111,
              "#46039f"
             ],
             [
              0.2222222222222222,
              "#7201a8"
             ],
             [
              0.3333333333333333,
              "#9c179e"
             ],
             [
              0.4444444444444444,
              "#bd3786"
             ],
             [
              0.5555555555555556,
              "#d8576b"
             ],
             [
              0.6666666666666666,
              "#ed7953"
             ],
             [
              0.7777777777777778,
              "#fb9f3a"
             ],
             [
              0.8888888888888888,
              "#fdca26"
             ],
             [
              1,
              "#f0f921"
             ]
            ],
            "type": "histogram2dcontour"
           }
          ],
          "mesh3d": [
           {
            "colorbar": {
             "outlinewidth": 0,
             "ticks": ""
            },
            "type": "mesh3d"
           }
          ],
          "parcoords": [
           {
            "line": {
             "colorbar": {
              "outlinewidth": 0,
              "ticks": ""
             }
            },
            "type": "parcoords"
           }
          ],
          "pie": [
           {
            "automargin": true,
            "type": "pie"
           }
          ],
          "scatter": [
           {
            "fillpattern": {
             "fillmode": "overlay",
             "size": 10,
             "solidity": 0.2
            },
            "type": "scatter"
           }
          ],
          "scatter3d": [
           {
            "line": {
             "colorbar": {
              "outlinewidth": 0,
              "ticks": ""
             }
            },
            "marker": {
             "colorbar": {
              "outlinewidth": 0,
              "ticks": ""
             }
            },
            "type": "scatter3d"
           }
          ],
          "scattercarpet": [
           {
            "marker": {
             "colorbar": {
              "outlinewidth": 0,
              "ticks": ""
             }
            },
            "type": "scattercarpet"
           }
          ],
          "scattergeo": [
           {
            "marker": {
             "colorbar": {
              "outlinewidth": 0,
              "ticks": ""
             }
            },
            "type": "scattergeo"
           }
          ],
          "scattergl": [
           {
            "marker": {
             "colorbar": {
              "outlinewidth": 0,
              "ticks": ""
             }
            },
            "type": "scattergl"
           }
          ],
          "scattermap": [
           {
            "marker": {
             "colorbar": {
              "outlinewidth": 0,
              "ticks": ""
             }
            },
            "type": "scattermap"
           }
          ],
          "scattermapbox": [
           {
            "marker": {
             "colorbar": {
              "outlinewidth": 0,
              "ticks": ""
             }
            },
            "type": "scattermapbox"
           }
          ],
          "scatterpolar": [
           {
            "marker": {
             "colorbar": {
              "outlinewidth": 0,
              "ticks": ""
             }
            },
            "type": "scatterpolar"
           }
          ],
          "scatterpolargl": [
           {
            "marker": {
             "colorbar": {
              "outlinewidth": 0,
              "ticks": ""
             }
            },
            "type": "scatterpolargl"
           }
          ],
          "scatterternary": [
           {
            "marker": {
             "colorbar": {
              "outlinewidth": 0,
              "ticks": ""
             }
            },
            "type": "scatterternary"
           }
          ],
          "surface": [
           {
            "colorbar": {
             "outlinewidth": 0,
             "ticks": ""
            },
            "colorscale": [
             [
              0,
              "#0d0887"
             ],
             [
              0.1111111111111111,
              "#46039f"
             ],
             [
              0.2222222222222222,
              "#7201a8"
             ],
             [
              0.3333333333333333,
              "#9c179e"
             ],
             [
              0.4444444444444444,
              "#bd3786"
             ],
             [
              0.5555555555555556,
              "#d8576b"
             ],
             [
              0.6666666666666666,
              "#ed7953"
             ],
             [
              0.7777777777777778,
              "#fb9f3a"
             ],
             [
              0.8888888888888888,
              "#fdca26"
             ],
             [
              1,
              "#f0f921"
             ]
            ],
            "type": "surface"
           }
          ],
          "table": [
           {
            "cells": {
             "fill": {
              "color": "#EBF0F8"
             },
             "line": {
              "color": "white"
             }
            },
            "header": {
             "fill": {
              "color": "#C8D4E3"
             },
             "line": {
              "color": "white"
             }
            },
            "type": "table"
           }
          ]
         },
         "layout": {
          "annotationdefaults": {
           "arrowcolor": "#2a3f5f",
           "arrowhead": 0,
           "arrowwidth": 1
          },
          "autotypenumbers": "strict",
          "coloraxis": {
           "colorbar": {
            "outlinewidth": 0,
            "ticks": ""
           }
          },
          "colorscale": {
           "diverging": [
            [
             0,
             "#8e0152"
            ],
            [
             0.1,
             "#c51b7d"
            ],
            [
             0.2,
             "#de77ae"
            ],
            [
             0.3,
             "#f1b6da"
            ],
            [
             0.4,
             "#fde0ef"
            ],
            [
             0.5,
             "#f7f7f7"
            ],
            [
             0.6,
             "#e6f5d0"
            ],
            [
             0.7,
             "#b8e186"
            ],
            [
             0.8,
             "#7fbc41"
            ],
            [
             0.9,
             "#4d9221"
            ],
            [
             1,
             "#276419"
            ]
           ],
           "sequential": [
            [
             0,
             "#0d0887"
            ],
            [
             0.1111111111111111,
             "#46039f"
            ],
            [
             0.2222222222222222,
             "#7201a8"
            ],
            [
             0.3333333333333333,
             "#9c179e"
            ],
            [
             0.4444444444444444,
             "#bd3786"
            ],
            [
             0.5555555555555556,
             "#d8576b"
            ],
            [
             0.6666666666666666,
             "#ed7953"
            ],
            [
             0.7777777777777778,
             "#fb9f3a"
            ],
            [
             0.8888888888888888,
             "#fdca26"
            ],
            [
             1,
             "#f0f921"
            ]
           ],
           "sequentialminus": [
            [
             0,
             "#0d0887"
            ],
            [
             0.1111111111111111,
             "#46039f"
            ],
            [
             0.2222222222222222,
             "#7201a8"
            ],
            [
             0.3333333333333333,
             "#9c179e"
            ],
            [
             0.4444444444444444,
             "#bd3786"
            ],
            [
             0.5555555555555556,
             "#d8576b"
            ],
            [
             0.6666666666666666,
             "#ed7953"
            ],
            [
             0.7777777777777778,
             "#fb9f3a"
            ],
            [
             0.8888888888888888,
             "#fdca26"
            ],
            [
             1,
             "#f0f921"
            ]
           ]
          },
          "colorway": [
           "#636efa",
           "#EF553B",
           "#00cc96",
           "#ab63fa",
           "#FFA15A",
           "#19d3f3",
           "#FF6692",
           "#B6E880",
           "#FF97FF",
           "#FECB52"
          ],
          "font": {
           "color": "#2a3f5f"
          },
          "geo": {
           "bgcolor": "white",
           "lakecolor": "white",
           "landcolor": "#E5ECF6",
           "showlakes": true,
           "showland": true,
           "subunitcolor": "white"
          },
          "hoverlabel": {
           "align": "left"
          },
          "hovermode": "closest",
          "mapbox": {
           "style": "light"
          },
          "paper_bgcolor": "white",
          "plot_bgcolor": "#E5ECF6",
          "polar": {
           "angularaxis": {
            "gridcolor": "white",
            "linecolor": "white",
            "ticks": ""
           },
           "bgcolor": "#E5ECF6",
           "radialaxis": {
            "gridcolor": "white",
            "linecolor": "white",
            "ticks": ""
           }
          },
          "scene": {
           "xaxis": {
            "backgroundcolor": "#E5ECF6",
            "gridcolor": "white",
            "gridwidth": 2,
            "linecolor": "white",
            "showbackground": true,
            "ticks": "",
            "zerolinecolor": "white"
           },
           "yaxis": {
            "backgroundcolor": "#E5ECF6",
            "gridcolor": "white",
            "gridwidth": 2,
            "linecolor": "white",
            "showbackground": true,
            "ticks": "",
            "zerolinecolor": "white"
           },
           "zaxis": {
            "backgroundcolor": "#E5ECF6",
            "gridcolor": "white",
            "gridwidth": 2,
            "linecolor": "white",
            "showbackground": true,
            "ticks": "",
            "zerolinecolor": "white"
           }
          },
          "shapedefaults": {
           "line": {
            "color": "#2a3f5f"
           }
          },
          "ternary": {
           "aaxis": {
            "gridcolor": "white",
            "linecolor": "white",
            "ticks": ""
           },
           "baxis": {
            "gridcolor": "white",
            "linecolor": "white",
            "ticks": ""
           },
           "bgcolor": "#E5ECF6",
           "caxis": {
            "gridcolor": "white",
            "linecolor": "white",
            "ticks": ""
           }
          },
          "title": {
           "x": 0.05
          },
          "xaxis": {
           "automargin": true,
           "gridcolor": "white",
           "linecolor": "white",
           "ticks": "",
           "title": {
            "standoff": 15
           },
           "zerolinecolor": "white",
           "zerolinewidth": 2
          },
          "yaxis": {
           "automargin": true,
           "gridcolor": "white",
           "linecolor": "white",
           "ticks": "",
           "title": {
            "standoff": 15
           },
           "zerolinecolor": "white",
           "zerolinewidth": 2
          }
         }
        },
        "title": {
         "text": "Clusters AFF sur données PCA (3D)"
        },
        "width": 900
       }
      },
      "image/png": "[encoded data removed]"
     },
     "metadata": {},
     "output_type": "display_data"
    },
    {
     "data": {
      "application/vnd.plotly.v1+json": {
       "config": {
        "plotlyServerURL": "https://plot.ly"
       },
       "data": [
        {
         "customdata": [
          [
           "Gautier Larsonneur",
           "GK"
          ],
          [
           "Jordan Lefort",
           "DF"
          ],
          [
           "Gerónimo Rulli",
           "GK"
          ],
          [
           "Lucas Chevalier",
           "GK"
          ],
          [
           "Marcin Bułka",
           "GK"
          ],
          [
           "Yehvann Diouf",
           "GK"
          ],
          [
           "Lucas Perri",
           "GK"
          ],
          [
           "Yahia Fofana",
           "GK"
          ],
          [
           "Marco Bizot",
           "GK"
          ],
          [
           "Donovan Léon",
           "GK"
          ],
          [
           "Andrey Santos",
           "MF"
          ],
          [
           "Valentin Atangana Edoa",
           "MF"
          ],
          [
           "Himad Abdelli",
           "MF,FW"
          ],
          [
           "Mason Greenwood",
           "FW,MF"
          ],
          [
           "Đorđe Petrović",
           "GK"
          ],
          [
           "Zuriko Davitashvili",
           "FW,MF"
          ],
          [
           "Gautier Lloris",
           "DF"
          ],
          [
           "Matthis Abline",
           "FW"
          ],
          [
           "Bafodé Diakité",
           "DF"
          ],
          [
           "Adrien Truffert",
           "DF,MF"
          ],
          [
           "Moussa Niakhate",
           "DF"
          ],
          [
           "Guela Doué",
           "DF"
          ],
          [
           "Alexsandro Ribeiro",
           "DF"
          ],
          [
           "Benjamin Lecomte",
           "GK"
          ],
          [
           "Cristian Cásseres Jr.",
           "MF"
          ],
          [
           "Benjamin André",
           "MF"
          ],
          [
           "Gaëtan Perrin",
           "MF,FW"
          ],
          [
           "Junya Ito",
           "FW,MF"
          ],
          [
           "Aron Dønnum",
           "DF,MF"
          ],
          [
           "Kenny Lala",
           "DF"
          ],
          [
           "Florent Hanin",
           "DF"
          ],
          [
           "Pierre Højbjerg",
           "MF"
          ],
          [
           "Mahdi Camara",
           "MF,FW"
          ],
          [
           "Keito Nakamura",
           "FW,MF"
          ],
          [
           "Jubal",
           "DF"
          ],
          [
           "Ismaël Doukouré",
           "DF,MF"
          ],
          [
           "Léo Pétrot",
           "DF"
          ],
          [
           "Jean-Charles Castelletto",
           "DF,MF"
          ],
          [
           "Adrien Thomasson",
           "MF"
          ],
          [
           "Luis Henrique",
           "DF,FW"
          ],
          [
           "Moses Simon",
           "FW,MF"
          ],
          [
           "Charlie Cresswell",
           "DF"
          ],
          [
           "Arnaud Kalimuendo",
           "FW,MF"
          ],
          [
           "Pierre Ekwah Elimby",
           "MF"
          ],
          [
           "Diego Moreira",
           "DF,MF"
          ],
          [
           "Evann Guessand",
           "FW,MF"
          ],
          [
           "Jonathan David",
           "FW"
          ],
          [
           "Guillaume Restes",
           "GK"
          ],
          [
           "Facundo Medina",
           "DF"
          ],
          [
           "Sergio Akieme",
           "DF"
          ],
          [
           "Dilane Bakwa",
           "MF,DF"
          ],
          [
           "Mark McKenzie",
           "DF"
          ],
          [
           "Ludovic Ajorque",
           "FW"
          ],
          [
           "Clément Akpa",
           "DF"
          ],
          [
           "Adrien Rabiot",
           "MF"
          ],
          [
           "Loïc Nego",
           "DF,FW"
          ],
          [
           "Michael Amir Murillo",
           "DF"
          ],
          [
           "Hicham Boudaoui",
           "MF"
          ],
          [
           "Brendan Chardonnet",
           "DF"
          ],
          [
           "Maghnes Akliouche",
           "FW,MF"
          ],
          [
           "Vincent Sierro",
           "MF"
          ],
          [
           "Thilo Kehrer",
           "DF"
          ],
          [
           "Clinton Mata",
           "DF"
          ],
          [
           "Mamadou Sarr",
           "DF"
          ],
          [
           "Téji Savanier",
           "MF"
          ],
          [
           "Lorenz Assignon",
           "DF,MF"
          ],
          [
           "Habib Diarra",
           "MF,FW"
          ],
          [
           "Pedro Chirivella",
           "MF"
          ],
          [
           "Elisha Owusu",
           "MF"
          ],
          [
           "Yann Gboho",
           "MF,FW"
          ],
          [
           "Corentin Tolisso",
           "MF"
          ],
          [
           "Abdoulaye Touré",
           "MF"
          ],
          [
           "Hugo Magnetti",
           "MF"
          ],
          [
           "Etienne Youte Kinkoue",
           "DF"
          ],
          [
           "Douglas",
           "MF"
          ],
          [
           "Mickael Nade",
           "DF"
          ],
          [
           "Jonathan Clauss",
           "DF,MF"
          ],
          [
           "Lassine Sinayoko",
           "FW,MF"
          ],
          [
           "Ludovic Blas",
           "MF,FW"
          ],
          [
           "Emanuel Emegha",
           "FW"
          ],
          [
           "Gideon Mensah",
           "DF"
          ],
          [
           "Leonardo Balerdi",
           "DF"
          ],
          [
           "Takumi Minamino",
           "MF,FW"
          ],
          [
           "Andy Diouf",
           "MF"
          ],
          [
           "Moïse Bombito",
           "DF"
          ],
          [
           "Cédric Kipré",
           "DF"
          ],
          [
           "Bradley Barcola",
           "FW"
          ],
          [
           "Kelvin Amian",
           "DF"
          ],
          [
           "Gabriel Suazo",
           "DF"
          ],
          [
           "Denis Zakaria",
           "MF"
          ],
          [
           "Modibo Sagnan",
           "DF"
          ],
          [
           "Willian Pacho",
           "DF"
          ],
          [
           "Dennis Appiah",
           "DF"
          ],
          [
           "Ki-Jana Hoever",
           "DF"
          ],
          [
           "Jonathan Gradit",
           "DF"
          ],
          [
           "Sebastian Nanasi",
           "MF,FW"
          ],
          [
           "Djibril Sidibé",
           "DF"
          ],
          [
           "Yassine Kechta",
           "MF,FW"
          ],
          [
           "Wilfried Singo",
           "DF"
          ],
          [
           "Hamed Junior Traorè",
           "MF"
          ],
          [
           "Gianluigi Donnarumma",
           "GK"
          ],
          [
           "Azor Matusiwa",
           "MF"
          ],
          [
           "Achraf Hakimi",
           "DF"
          ],
          [
           "Vanderson",
           "DF"
          ],
          [
           "Lamine Camara",
           "MF"
          ],
          [
           "Alexandre Lacazette",
           "FW"
          ],
          [
           "Nicolas Cozza",
           "DF,MF"
          ],
          [
           "Warren Zaïre-Emery",
           "MF,DF"
          ],
          [
           "Johann Lepenant",
           "MF"
          ],
          [
           "Carlens Arcus",
           "DF"
          ],
          [
           "Vitinha",
           "MF"
          ],
          [
           "Rayan Cherki",
           "FW,MF"
          ],
          [
           "Geoffrey Kondogbia",
           "DF,MF"
          ],
          [
           "Nicolas Pallois",
           "DF"
          ],
          [
           "Dylan Batubinsika",
           "DF"
          ],
          [
           "Lucas Beraldo",
           "DF"
          ],
          [
           "Nemanja Matić",
           "MF"
          ],
          [
           "Josué Casimir",
           "FW,MF"
          ],
          [
           "Ainsley Maitland-Niles",
           "DF"
          ],
          [
           "Aurélio Buta",
           "DF"
          ],
          [
           "Dante",
           "DF"
          ],
          [
           "Jean-Eudes Aholou",
           "MF"
          ],
          [
           "Sinaly Diomande",
           "DF"
          ],
          [
           "Melvin Bard",
           "DF,MF"
          ],
          [
           "Youssouf Ndayishimiye",
           "DF"
          ],
          [
           "Caio Henrique Oliveira Silva",
           "DF"
          ],
          [
           "Thomas Meunier",
           "DF"
          ],
          [
           "Fabián Ruiz Peña",
           "MF"
          ],
          [
           "Issa Soumaré",
           "FW,MF"
          ],
          [
           "Nicolás Tagliafico",
           "DF"
          ],
          [
           "Zakaria Aboukhlal",
           "MF,FW"
          ],
          [
           "Enzo Tchato",
           "DF"
          ],
          [
           "Farid El Melali",
           "FW"
          ],
          [
           "Joris Chotard",
           "MF"
          ],
          [
           "Lucas Stassin",
           "FW"
          ],
          [
           "João Neves",
           "MF,DF"
          ],
          [
           "Breel Embolo",
           "FW,MF"
          ],
          [
           "Gaëtan Laborde",
           "FW"
          ],
          [
           "Deiver Machado",
           "DF,MF"
          ],
          [
           "Becir Omeragic",
           "DF"
          ],
          [
           "Florian Sotoca",
           "FW,MF"
          ],
          [
           "Haris Belkebla",
           "MF"
          ],
          [
           "Gabriel Gudmundsson",
           "DF"
          ],
          [
           "Félix Lemaréchal",
           "MF,FW"
          ],
          [
           "Pablo Rosario",
           "MF,DF"
          ],
          [
           "Jordan Ferri",
           "MF"
          ],
          [
           "Benjamin Bouchouari",
           "MF"
          ],
          [
           "Hákon Arnar Haraldsson",
           "MF,FW"
          ],
          [
           "Jim Allevinah",
           "FW"
          ],
          [
           "Eliesse Ben Seghir",
           "MF,FW"
          ],
          [
           "Aïssa Mandi",
           "DF"
          ],
          [
           "Ousmane Dembélé",
           "FW"
          ],
          [
           "Désiré Doué",
           "FW,MF"
          ],
          [
           "Marquinhos",
           "DF"
          ],
          [
           "Philipp Köhn",
           "GK"
          ],
          [
           "Abdoulaye Niakhate Ndiaye",
           "DF"
          ],
          [
           "Joseph Okumu",
           "DF"
          ],
          [
           "Marshall Munetsi",
           "MF"
          ],
          [
           "Rabby Nzingoula",
           "MF"
          ],
          [
           "Hans Hateboer",
           "DF"
          ],
          [
           "Massadio Haïdara",
           "DF"
          ],
          [
           "Nuno Mendes",
           "DF"
          ],
          [
           "Joshua King",
           "FW,MF"
          ],
          [
           "Lee Kang-in",
           "FW,MF"
          ],
          [
           "Gabriel Osho",
           "DF"
          ],
          [
           "Esteban Lepaul",
           "FW"
          ],
          [
           "Oumar Diakité",
           "FW"
          ],
          [
           "Mohamed Ali Cho",
           "FW,MF"
          ],
          [
           "Arthur Desmas",
           "GK"
          ],
          [
           "Quentin Merlin",
           "DF"
          ],
          [
           "Malick Fofana",
           "FW"
          ],
          [
           "Neil El Aynaoui",
           "MF"
          ],
          [
           "Duje Ćaleta-Car",
           "DF"
          ],
          [
           "Mathias Pereira Lage",
           "FW,MF"
          ],
          [
           "Anthony Lopes",
           "GK"
          ],
          [
           "Valentin Rongier",
           "MF,DF"
          ],
          [
           "Jordan Veretout",
           "MF"
          ],
          [
           "Brice Samba",
           "GK"
          ],
          [
           "Pierre Lees-Melou",
           "MF"
          ],
          [
           "Yassin Belkhdim",
           "MF"
          ],
          [
           "Frank Magri",
           "FW,MF"
          ],
          [
           "Nathan Zeze",
           "DF"
          ],
          [
           "Abdoulaye Bamba",
           "DF"
          ],
          [
           "Christian Mawissa",
           "DF"
          ],
          [
           "Steve Mandanda",
           "GK"
          ],
          [
           "Tanguy Coulibaly",
           "FW,MF"
          ],
          [
           "M'Bala Nzola",
           "FW"
          ],
          [
           "Kévin Danois",
           "MF"
          ],
          [
           "Christopher Wooh",
           "DF"
          ],
          [
           "André Ayew",
           "FW"
          ],
          [
           "Georges Mikautadze",
           "FW"
          ],
          [
           "Mathieu Gorgelin",
           "GK"
          ],
          [
           "Derek Cornelius",
           "DF"
          ],
          [
           "Anass Zaroury",
           "FW,MF"
          ],
          [
           "Ali Abdi",
           "DF,MF"
          ],
          [
           "Przemysław Frankowski",
           "DF"
          ],
          [
           "Malang Sarr",
           "DF"
          ],
          [
           "Julien Le Cardinal",
           "DF"
          ],
          [
           "Radosław Majecki",
           "GK"
          ],
          [
           "Emmanuel Biumla",
           "DF"
          ],
          [
           "Kamory Doumbia",
           "MF,FW"
          ],
          [
           "Sorba Thomas",
           "FW,MF"
          ],
          [
           "Lilian Raolisoa",
           "DF,FW"
          ],
          [
           "Amadou Koné",
           "MF"
          ],
          [
           "Osame Sahraoui",
           "FW,MF"
          ],
          [
           "André Gomes",
           "MF"
          ],
          [
           "Mathew Ryan",
           "GK"
          ],
          [
           "Emmanuel Agbadou",
           "DF"
          ],
          [
           "Romain Del Castillo",
           "FW"
          ],
          [
           "Mostafa Mohamed",
           "FW"
          ],
          [
           "Florian Tardieu",
           "MF"
          ],
          [
           "Arouna Sangante",
           "DF"
          ],
          [
           "Abdallah Sima",
           "FW,MF"
          ],
          [
           "Tanner Tessmann",
           "MF"
          ],
          [
           "Lilian Brassier",
           "DF"
          ],
          [
           "Falaye Sacko",
           "DF"
          ],
          [
           "Mika Biereth",
           "FW"
          ],
          [
           "Leo Skiri Østigård",
           "DF"
          ],
          [
           "Ngal'Ayel Mukau",
           "MF"
          ],
          [
           "Shavy Babicka",
           "MF,FW"
          ],
          [
           "Jordan James",
           "MF"
          ],
          [
           "Christopher Operi",
           "DF,FW"
          ],
          [
           "Arnaud Nordin",
           "FW"
          ],
          [
           "Nhoa Sangui",
           "DF,MF"
          ],
          [
           "Valentín Barco",
           "MF,DF"
          ],
          [
           "Issiaga Sylla",
           "DF"
          ],
          [
           "Aleksandr Golovin",
           "MF,FW"
          ],
          [
           "Ayyoub Bouaddi",
           "MF"
          ],
          [
           "Mama Samba Baldé",
           "FW"
          ],
          [
           "Mitchel Bakker",
           "FW,DF"
          ],
          [
           "Tanguy Ndombele",
           "MF"
          ],
          [
           "Mory Gbane",
           "DF,MF"
          ],
          [
           "Ruben Aguilar",
           "DF,MF"
          ],
          [
           "Djaoui Cissé",
           "MF"
          ],
          [
           "Wahbi Khazri",
           "FW,MF"
          ],
          [
           "Musa Al-Taamari",
           "FW,MF"
          ],
          [
           "Timothee Pembele",
           "DF"
          ],
          [
           "Jaydee Canvot",
           "DF,MF"
          ],
          [
           "Edimilson Fernandes",
           "MF,DF"
          ],
          [
           "Badredine Bouanani",
           "MF,FW"
          ],
          [
           "Abner",
           "DF"
          ],
          [
           "Alban Lafont",
           "GK"
          ],
          [
           "Kevin Danso",
           "DF"
          ],
          [
           "Akor Adams",
           "FW"
          ],
          [
           "Gonçalo Ramos",
           "FW"
          ],
          [
           "Matias Fernandez-Pardo",
           "FW,MF"
          ],
          [
           "Sofiane Diop",
           "MF,FW"
          ],
          [
           "Irvin Cardona",
           "FW"
          ],
          [
           "Rassoul Ndiaye",
           "MF"
          ],
          [
           "Jeremie Boga",
           "MF,FW"
          ],
          [
           "Ernest Nuamah",
           "FW,MF"
          ],
          [
           "Amine Gouiri",
           "FW,MF"
          ],
          [
           "Han-Noah Massengo",
           "MF"
          ],
          [
           "Angelo Fulgini",
           "MF,FW"
          ],
          [
           "Louis Mouton",
           "MF"
          ],
          [
           "Neal Maupay",
           "FW"
          ],
          [
           "Aimen Moueffek",
           "MF"
          ],
          [
           "Yunis Abdelhamid",
           "DF"
          ],
          [
           "Khalil Fayad",
           "MF,FW"
          ],
          [
           "Soungoutou Magassa",
           "MF"
          ],
          [
           "Mohammed Salisu",
           "DF"
          ],
          [
           "Warren Kamanzi",
           "DF,MF"
          ],
          [
           "Saidou Sow",
           "DF"
          ],
          [
           "Théo Sainte-Luce",
           "DF"
          ],
          [
           "Rémy Cabella",
           "FW,MF"
          ],
          [
           "Paul Joly",
           "DF"
          ],
          [
           "Oussama Targhalline",
           "MF"
          ],
          [
           "Edon Zhegrova",
           "FW,MF"
          ],
          [
           "Yanis Zouaoui",
           "DF,FW"
          ],
          [
           "Abdukodir Khusanov",
           "DF"
          ],
          [
           "Anthony Rouault",
           "DF"
          ],
          [
           "Ado Onaiwu",
           "MF,FW"
          ],
          [
           "Junior Mwanga",
           "MF"
          ],
          [
           "Thiago Almada",
           "MF,FW"
          ],
          [
           "Sael Kumbedi",
           "DF"
          ],
          [
           "Marcus Coco",
           "DF"
          ],
          [
           "Abakar Sylla",
           "DF"
          ],
          [
           "Yael Mouanga",
           "DF"
          ],
          [
           "Antoine Joujou",
           "MF,FW"
          ],
          [
           "Ibrahima Niane",
           "FW"
          ],
          [
           "Theo Bair",
           "FW"
          ],
          [
           "Ulisses Garcia",
           "DF"
          ],
          [
           "Jérémy Jacquet",
           "DF"
          ],
          [
           "Baptiste Santamaria",
           "MF"
          ],
          [
           "Khvicha Kvaratskhelia",
           "FW"
          ],
          [
           "Wesley Saïd",
           "FW"
          ],
          [
           "Ismaily",
           "DF"
          ],
          [
           "Romain Faivre",
           "MF,FW"
          ],
          [
           "Hiroki Sekine",
           "DF"
          ],
          [
           "Goduine Koyalipou",
           "FW"
          ],
          [
           "Matvei Safonov",
           "GK"
          ],
          [
           "Lucas Hernández",
           "DF"
          ],
          [
           "Mathis Amougou",
           "MF"
          ],
          [
           "Mamadou Diakhon",
           "FW,MF"
          ],
          [
           "Mohamed Abdelmoneim",
           "DF"
          ],
          [
           "Koka",
           "FW"
          ],
          [
           "Zinedine Ferhat",
           "FW,MF"
          ],
          [
           "Seko Fofana",
           "MF"
          ],
          [
           "Antoine Mendy",
           "DF"
          ],
          [
           "Ibrahim Sissoko",
           "FW"
          ],
          [
           "Louis Leroux",
           "MF,DF"
          ],
          [
           "Albert Grønbaek",
           "MF,FW"
          ],
          [
           "Senny Mayulu",
           "MF"
          ],
          [
           "Jonathan Rowe",
           "FW,MF"
          ],
          [
           "Alidu Seidu",
           "DF"
          ],
          [
           "Yoann Salmier",
           "DF"
          ],
          [
           "Yvann Macon",
           "DF"
          ],
          [
           "Jordan Amavi",
           "DF"
          ],
          [
           "Tom Louchet",
           "DF,MF"
          ],
          [
           "Sekou Mara",
           "FW,MF"
          ],
          [
           "Maxime Bernauer",
           "DF"
          ],
          [
           "Boubakar Kouyaté",
           "DF"
          ],
          [
           "Teddy Teuma",
           "MF"
          ],
          [
           "Angel Gomes",
           "MF"
          ],
          [
           "Saïd Benrahma",
           "FW,MF"
          ],
          [
           "Augustine Boakye",
           "FW,MF"
          ],
          [
           "Mathieu Cafaro",
           "MF,FW"
          ],
          [
           "Rayan Raveloson",
           "MF,DF"
          ],
          [
           "George Ilenikhena",
           "FW"
          ],
          [
           "Lucas Mincarelli",
           "DF"
          ],
          [
           "Jacques Ekomie",
           "DF,FW"
          ],
          [
           "Mikayil Ngor Faye",
           "DF"
          ],
          [
           "Abdulai Juma Bah",
           "DF"
          ],
          [
           "Pol Lirola",
           "DF"
          ],
          [
           "Assane Dioussé",
           "MF"
          ],
          [
           "Glen Kamara",
           "MF"
          ],
          [
           "Emmanuel Sabbi",
           "FW,MF"
          ],
          [
           "Ismaël Bennacer",
           "MF"
          ],
          [
           "Chuba Akpom",
           "FW"
          ],
          [
           "Luck Zogbé",
           "DF"
          ],
          [
           "Rémy Labeau Lascary",
           "FW,MF"
          ],
          [
           "Yaya Kader Fofana",
           "MF,FW"
          ],
          [
           "Rasmus Nicolaisen",
           "DF"
          ],
          [
           "Marco Asensio",
           "FW,MF"
          ],
          [
           "Folarin Balogun",
           "FW"
          ],
          [
           "Andy Delort",
           "FW"
          ],
          [
           "Jhoanner Chávez",
           "DF,MF"
          ],
          [
           "Fodé Ballo-Touré",
           "DF,MF"
          ],
          [
           "Nampalys Mendy",
           "MF"
          ],
          [
           "Mahamadou Diawara",
           "MF"
          ],
          [
           "Nikola Maksimović",
           "DF"
          ],
          [
           "Pierre Cornud",
           "DF"
          ],
          [
           "Florian Ayé",
           "FW"
          ],
          [
           "Elye Wahi",
           "FW"
          ],
          [
           "Maxence Caqueret",
           "MF"
          ],
          [
           "Jordan Teze",
           "DF"
          ],
          [
           "Daler Kuzyaev",
           "MF"
          ],
          [
           "John Joe",
           "MF"
          ],
          [
           "Mohamed Meité",
           "FW"
          ],
          [
           "Andrew Omobamidele",
           "DF"
          ],
          [
           "Jean-Kevin Duverne",
           "DF"
          ],
          [
           "Bamba Dieng",
           "FW"
          ],
          [
           "Ben Old",
           "FW,MF"
          ],
          [
           "Amine Harit",
           "MF"
          ],
          [
           "Tino Kadewere",
           "MF,FW"
          ],
          [
           "Krépin Diatta",
           "DF,FW"
          ]
         ],
         "hovertemplate": "tsne_1=%{x}<br>tsne_2=%{y}<br>tsne_3=%{z}<br>player_name=%{customdata[0]}<br>positions=%{customdata[1]}<br>cluster=%{marker.color}<extra></extra>",
         "legendgroup": "",
         "marker": {
          "color": {
           "bdata": "AwUDAwMDAwMDAwICBgYDBgUABQEFBAQDBAQGBgYBAQQCAAUFAQUEBgYFAAIGBgADBAEGBQAFBAEEAgUGBAUFBQYGBgQCBgQCAgUCBQYABgABBAAGBQUGAQQCBQUBAQUGAQIFBgMCBAEGAAEEAgEEBgQFBQQEAAEBBQIFAQUEBAQABAABBgIABAAAAQUAAgEAAgQCBgAGBAYGBAMFBQACBAEEAAYFAAAGAwQGBAUGAwQEAwQCAAUFBQMAAAIFAAADBAYBBAUFAwUEBgECBgQDBAYABAUABAUBAAUCAAQGAAEBAQYCAAYCBQQEAAYBAgIGAQMFAAAGBgACBgYGAgYCAAIFAgQFAQUBBgECBgYFBQACBgEBBQUGAAAEBQIGAAQGAQADBAIGBQAGBAEAAgYGBgUFAQEBAAUFBAYGAAACAAECBQUFBAIABAABAAAFBgAAAQECAgUBAAACAQICAAUBAAAGAAE=",
           "dtype": "i1"
          },
          "coloraxis": "coloraxis",
          "symbol": "circle"
         },
         "mode": "markers",
         "name": "",
         "scene": "scene",
         "showlegend": false,
         "type": "scatter3d",
         "x": {
          "bdata": "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",
          "dtype": "f8"
         },
         "y": {
          "bdata": "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",
          "dtype": "f8"
         },
         "z": {
          "bdata": "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",
          "dtype": "f8"
         }
        }
       ],
       "layout": {
        "coloraxis": {
         "colorbar": {
          "title": {
           "text": "cluster"
          }
         },
         "colorscale": [
          [
           0,
           "#0d0887"
          ],
          [
           0.1111111111111111,
           "#46039f"
          ],
          [
           0.2222222222222222,
           "#7201a8"
          ],
          [
           0.3333333333333333,
           "#9c179e"
          ],
          [
           0.4444444444444444,
           "#bd3786"
          ],
          [
           0.5555555555555556,
           "#d8576b"
          ],
          [
           0.6666666666666666,
           "#ed7953"
          ],
          [
           0.7777777777777778,
           "#fb9f3a"
          ],
          [
           0.8888888888888888,
           "#fdca26"
          ],
          [
           1,
           "#f0f921"
          ]
         ]
        },
        "height": 700,
        "legend": {
         "tracegroupgap": 0
        },
        "scene": {
         "domain": {
          "x": [
           0,
           1
          ],
          "y": [
           0,
           1
          ]
         },
         "xaxis": {
          "title": {
           "text": "tsne_1"
          }
         },
         "yaxis": {
          "title": {
           "text": "tsne_2"
          }
         },
         "zaxis": {
          "title": {
           "text": "tsne_3"
          }
         }
        },
        "template": {
         "data": {
          "bar": [
           {
            "error_x": {
             "color": "#2a3f5f"
            },
            "error_y": {
             "color": "#2a3f5f"
            },
            "marker": {
             "line": {
              "color": "#E5ECF6",
              "width": 0.5
             },
             "pattern": {
              "fillmode": "overlay",
              "size": 10,
              "solidity": 0.2
             }
            },
            "type": "bar"
           }
          ],
          "barpolar": [
           {
            "marker": {
             "line": {
              "color": "#E5ECF6",
              "width": 0.5
             },
             "pattern": {
              "fillmode": "overlay",
              "size": 10,
              "solidity": 0.2
             }
            },
            "type": "barpolar"
           }
          ],
          "carpet": [
           {
            "aaxis": {
             "endlinecolor": "#2a3f5f",
             "gridcolor": "white",
             "linecolor": "white",
             "minorgridcolor": "white",
             "startlinecolor": "#2a3f5f"
            },
            "baxis": {
             "endlinecolor": "#2a3f5f",
             "gridcolor": "white",
             "linecolor": "white",
             "minorgridcolor": "white",
             "startlinecolor": "#2a3f5f"
            },
            "type": "carpet"
           }
          ],
          "choropleth": [
           {
            "colorbar": {
             "outlinewidth": 0,
             "ticks": ""
            },
            "type": "choropleth"
           }
          ],
          "contour": [
           {
            "colorbar": {
             "outlinewidth": 0,
             "ticks": ""
            },
            "colorscale": [
             [
              0,
              "#0d0887"
             ],
             [
              0.1111111111111111,
              "#46039f"
             ],
             [
              0.2222222222222222,
              "#7201a8"
             ],
             [
              0.3333333333333333,
              "#9c179e"
             ],
             [
              0.4444444444444444,
              "#bd3786"
             ],
             [
              0.5555555555555556,
              "#d8576b"
             ],
             [
              0.6666666666666666,
              "#ed7953"
             ],
             [
              0.7777777777777778,
              "#fb9f3a"
             ],
             [
              0.8888888888888888,
              "#fdca26"
             ],
             [
              1,
              "#f0f921"
             ]
            ],
            "type": "contour"
           }
          ],
          "contourcarpet": [
           {
            "colorbar": {
             "outlinewidth": 0,
             "ticks": ""
            },
            "type": "contourcarpet"
           }
          ],
          "heatmap": [
           {
            "colorbar": {
             "outlinewidth": 0,
             "ticks": ""
            },
            "colorscale": [
             [
              0,
              "#0d0887"
             ],
             [
              0.1111111111111111,
              "#46039f"
             ],
             [
              0.2222222222222222,
              "#7201a8"
             ],
             [
              0.3333333333333333,
              "#9c179e"
             ],
             [
              0.4444444444444444,
              "#bd3786"
             ],
             [
              0.5555555555555556,
              "#d8576b"
             ],
             [
              0.6666666666666666,
              "#ed7953"
             ],
             [
              0.7777777777777778,
              "#fb9f3a"
             ],
             [
              0.8888888888888888,
              "#fdca26"
             ],
             [
              1,
              "#f0f921"
             ]
            ],
            "type": "heatmap"
           }
          ],
          "histogram": [
           {
            "marker": {
             "pattern": {
              "fillmode": "overlay",
              "size": 10,
              "solidity": 0.2
             }
            },
            "type": "histogram"
           }
          ],
          "histogram2d": [
           {
            "colorbar": {
             "outlinewidth": 0,
             "ticks": ""
            },
            "colorscale": [
             [
              0,
              "#0d0887"
             ],
             [
              0.1111111111111111,
              "#46039f"
             ],
             [
              0.2222222222222222,
              "#7201a8"
             ],
             [
              0.3333333333333333,
              "#9c179e"
             ],
             [
              0.4444444444444444,
              "#bd3786"
             ],
             [
              0.5555555555555556,
              "#d8576b"
             ],
             [
              0.6666666666666666,
              "#ed7953"
             ],
             [
              0.7777777777777778,
              "#fb9f3a"
             ],
             [
              0.8888888888888888,
              "#fdca26"
             ],
             [
              1,
              "#f0f921"
             ]
            ],
            "type": "histogram2d"
           }
          ],
          "histogram2dcontour": [
           {
            "colorbar": {
             "outlinewidth": 0,
             "ticks": ""
            },
            "colorscale": [
             [
              0,
              "#0d0887"
             ],
             [
              0.1111111111111111,
              "#46039f"
             ],
             [
              0.2222222222222222,
              "#7201a8"
             ],
             [
              0.3333333333333333,
              "#9c179e"
             ],
             [
              0.4444444444444444,
              "#bd3786"
             ],
             [
              0.5555555555555556,
              "#d8576b"
             ],
             [
              0.6666666666666666,
              "#ed7953"
             ],
             [
              0.7777777777777778,
              "#fb9f3a"
             ],
             [
              0.8888888888888888,
              "#fdca26"
             ],
             [
              1,
              "#f0f921"
             ]
            ],
            "type": "histogram2dcontour"
           }
          ],
          "mesh3d": [
           {
            "colorbar": {
             "outlinewidth": 0,
             "ticks": ""
            },
            "type": "mesh3d"
           }
          ],
          "parcoords": [
           {
            "line": {
             "colorbar": {
              "outlinewidth": 0,
              "ticks": ""
             }
            },
            "type": "parcoords"
           }
          ],
          "pie": [
           {
            "automargin": true,
            "type": "pie"
           }
          ],
          "scatter": [
           {
            "fillpattern": {
             "fillmode": "overlay",
             "size": 10,
             "solidity": 0.2
            },
            "type": "scatter"
           }
          ],
          "scatter3d": [
           {
            "line": {
             "colorbar": {
              "outlinewidth": 0,
              "ticks": ""
             }
            },
            "marker": {
             "colorbar": {
              "outlinewidth": 0,
              "ticks": ""
             }
            },
            "type": "scatter3d"
           }
          ],
          "scattercarpet": [
           {
            "marker": {
             "colorbar": {
              "outlinewidth": 0,
              "ticks": ""
             }
            },
            "type": "scattercarpet"
           }
          ],
          "scattergeo": [
           {
            "marker": {
             "colorbar": {
              "outlinewidth": 0,
              "ticks": ""
             }
            },
            "type": "scattergeo"
           }
          ],
          "scattergl": [
           {
            "marker": {
             "colorbar": {
              "outlinewidth": 0,
              "ticks": ""
             }
            },
            "type": "scattergl"
           }
          ],
          "scattermap": [
           {
            "marker": {
             "colorbar": {
              "outlinewidth": 0,
              "ticks": ""
             }
            },
            "type": "scattermap"
           }
          ],
          "scattermapbox": [
           {
            "marker": {
             "colorbar": {
              "outlinewidth": 0,
              "ticks": ""
             }
            },
            "type": "scattermapbox"
           }
          ],
          "scatterpolar": [
           {
            "marker": {
             "colorbar": {
              "outlinewidth": 0,
              "ticks": ""
             }
            },
            "type": "scatterpolar"
           }
          ],
          "scatterpolargl": [
           {
            "marker": {
             "colorbar": {
              "outlinewidth": 0,
              "ticks": ""
             }
            },
            "type": "scatterpolargl"
           }
          ],
          "scatterternary": [
           {
            "marker": {
             "colorbar": {
              "outlinewidth": 0,
              "ticks": ""
             }
            },
            "type": "scatterternary"
           }
          ],
          "surface": [
           {
            "colorbar": {
             "outlinewidth": 0,
             "ticks": ""
            },
            "colorscale": [
             [
              0,
              "#0d0887"
             ],
             [
              0.1111111111111111,
              "#46039f"
             ],
             [
              0.2222222222222222,
              "#7201a8"
             ],
             [
              0.3333333333333333,
              "#9c179e"
             ],
             [
              0.4444444444444444,
              "#bd3786"
             ],
             [
              0.5555555555555556,
              "#d8576b"
             ],
             [
              0.6666666666666666,
              "#ed7953"
             ],
             [
              0.7777777777777778,
              "#fb9f3a"
             ],
             [
              0.8888888888888888,
              "#fdca26"
             ],
             [
              1,
              "#f0f921"
             ]
            ],
            "type": "surface"
           }
          ],
          "table": [
           {
            "cells": {
             "fill": {
              "color": "#EBF0F8"
             },
             "line": {
              "color": "white"
             }
            },
            "header": {
             "fill": {
              "color": "#C8D4E3"
             },
             "line": {
              "color": "white"
             }
            },
            "type": "table"
           }
          ]
         },
         "layout": {
          "annotationdefaults": {
           "arrowcolor": "#2a3f5f",
           "arrowhead": 0,
           "arrowwidth": 1
          },
          "autotypenumbers": "strict",
          "coloraxis": {
           "colorbar": {
            "outlinewidth": 0,
            "ticks": ""
           }
          },
          "colorscale": {
           "diverging": [
            [
             0,
             "#8e0152"
            ],
            [
             0.1,
             "#c51b7d"
            ],
            [
             0.2,
             "#de77ae"
            ],
            [
             0.3,
             "#f1b6da"
            ],
            [
             0.4,
             "#fde0ef"
            ],
            [
             0.5,
             "#f7f7f7"
            ],
            [
             0.6,
             "#e6f5d0"
            ],
            [
             0.7,
             "#b8e186"
            ],
            [
             0.8,
             "#7fbc41"
            ],
            [
             0.9,
             "#4d9221"
            ],
            [
             1,
             "#276419"
            ]
           ],
           "sequential": [
            [
             0,
             "#0d0887"
            ],
            [
             0.1111111111111111,
             "#46039f"
            ],
            [
             0.2222222222222222,
             "#7201a8"
            ],
            [
             0.3333333333333333,
             "#9c179e"
            ],
            [
             0.4444444444444444,
             "#bd3786"
            ],
            [
             0.5555555555555556,
             "#d8576b"
            ],
            [
             0.6666666666666666,
             "#ed7953"
            ],
            [
             0.7777777777777778,
             "#fb9f3a"
            ],
            [
             0.8888888888888888,
             "#fdca26"
            ],
            [
             1,
             "#f0f921"
            ]
           ],
           "sequentialminus": [
            [
             0,
             "#0d0887"
            ],
            [
             0.1111111111111111,
             "#46039f"
            ],
            [
             0.2222222222222222,
             "#7201a8"
            ],
            [
             0.3333333333333333,
             "#9c179e"
            ],
            [
             0.4444444444444444,
             "#bd3786"
            ],
            [
             0.5555555555555556,
             "#d8576b"
            ],
            [
             0.6666666666666666,
             "#ed7953"
            ],
            [
             0.7777777777777778,
             "#fb9f3a"
            ],
            [
             0.8888888888888888,
             "#fdca26"
            ],
            [
             1,
             "#f0f921"
            ]
           ]
          },
          "colorway": [
           "#636efa",
           "#EF553B",
           "#00cc96",
           "#ab63fa",
           "#FFA15A",
           "#19d3f3",
           "#FF6692",
           "#B6E880",
           "#FF97FF",
           "#FECB52"
          ],
          "font": {
           "color": "#2a3f5f"
          },
          "geo": {
           "bgcolor": "white",
           "lakecolor": "white",
           "landcolor": "#E5ECF6",
           "showlakes": true,
           "showland": true,
           "subunitcolor": "white"
          },
          "hoverlabel": {
           "align": "left"
          },
          "hovermode": "closest",
          "mapbox": {
           "style": "light"
          },
          "paper_bgcolor": "white",
          "plot_bgcolor": "#E5ECF6",
          "polar": {
           "angularaxis": {
            "gridcolor": "white",
            "linecolor": "white",
            "ticks": ""
           },
           "bgcolor": "#E5ECF6",
           "radialaxis": {
            "gridcolor": "white",
            "linecolor": "white",
            "ticks": ""
           }
          },
          "scene": {
           "xaxis": {
            "backgroundcolor": "#E5ECF6",
            "gridcolor": "white",
            "gridwidth": 2,
            "linecolor": "white",
            "showbackground": true,
            "ticks": "",
            "zerolinecolor": "white"
           },
           "yaxis": {
            "backgroundcolor": "#E5ECF6",
            "gridcolor": "white",
            "gridwidth": 2,
            "linecolor": "white",
            "showbackground": true,
            "ticks": "",
            "zerolinecolor": "white"
           },
           "zaxis": {
            "backgroundcolor": "#E5ECF6",
            "gridcolor": "white",
            "gridwidth": 2,
            "linecolor": "white",
            "showbackground": true,
            "ticks": "",
            "zerolinecolor": "white"
           }
          },
          "shapedefaults": {
           "line": {
            "color": "#2a3f5f"
           }
          },
          "ternary": {
           "aaxis": {
            "gridcolor": "white",
            "linecolor": "white",
            "ticks": ""
           },
           "baxis": {
            "gridcolor": "white",
            "linecolor": "white",
            "ticks": ""
           },
           "bgcolor": "#E5ECF6",
           "caxis": {
            "gridcolor": "white",
            "linecolor": "white",
            "ticks": ""
           }
          },
          "title": {
           "x": 0.05
          },
          "xaxis": {
           "automargin": true,
           "gridcolor": "white",
           "linecolor": "white",
           "ticks": "",
           "title": {
            "standoff": 15
           },
           "zerolinecolor": "white",
           "zerolinewidth": 2
          },
          "yaxis": {
           "automargin": true,
           "gridcolor": "white",
           "linecolor": "white",
           "ticks": "",
           "title": {
            "standoff": 15
           },
           "zerolinecolor": "white",
           "zerolinewidth": 2
          }
         }
        },
        "title": {
         "text": "Clusters AFF sur données t-SNE (3D)"
        },
        "width": 900
       }
      },
      "image/png": "[encoded data removed]"
     },
     "metadata": {},
     "output_type": "display_data"
    },
    {
     "data": {
      "application/vnd.plotly.v1+json": {
       "config": {
        "plotlyServerURL": "https://plot.ly"
       },
       "data": [
        {
         "customdata": [
          [
           "Jordan Lefort",
           "DF"
          ],
          [
           "Andrey Santos",
           "MF"
          ],
          [
           "Valentin Atangana Edoa",
           "MF"
          ],
          [
           "Himad Abdelli",
           "MF,FW"
          ],
          [
           "Mason Greenwood",
           "FW,MF"
          ],
          [
           "Zuriko Davitashvili",
           "FW,MF"
          ],
          [
           "Gautier Lloris",
           "DF"
          ],
          [
           "Matthis Abline",
           "FW"
          ],
          [
           "Bafodé Diakité",
           "DF"
          ],
          [
           "Adrien Truffert",
           "DF,MF"
          ],
          [
           "Moussa Niakhate",
           "DF"
          ],
          [
           "Guela Doué",
           "DF"
          ],
          [
           "Alexsandro Ribeiro",
           "DF"
          ],
          [
           "Cristian Cásseres Jr.",
           "MF"
          ],
          [
           "Benjamin André",
           "MF"
          ],
          [
           "Gaëtan Perrin",
           "MF,FW"
          ],
          [
           "Junya Ito",
           "FW,MF"
          ],
          [
           "Aron Dønnum",
           "DF,MF"
          ],
          [
           "Kenny Lala",
           "DF"
          ],
          [
           "Florent Hanin",
           "DF"
          ],
          [
           "Pierre Højbjerg",
           "MF"
          ],
          [
           "Mahdi Camara",
           "MF,FW"
          ],
          [
           "Keito Nakamura",
           "FW,MF"
          ],
          [
           "Jubal",
           "DF"
          ],
          [
           "Ismaël Doukouré",
           "DF,MF"
          ],
          [
           "Léo Pétrot",
           "DF"
          ],
          [
           "Jean-Charles Castelletto",
           "DF,MF"
          ],
          [
           "Adrien Thomasson",
           "MF"
          ],
          [
           "Luis Henrique",
           "DF,FW"
          ],
          [
           "Moses Simon",
           "FW,MF"
          ],
          [
           "Charlie Cresswell",
           "DF"
          ],
          [
           "Arnaud Kalimuendo",
           "FW,MF"
          ],
          [
           "Pierre Ekwah Elimby",
           "MF"
          ],
          [
           "Diego Moreira",
           "DF,MF"
          ],
          [
           "Evann Guessand",
           "FW,MF"
          ],
          [
           "Jonathan David",
           "FW"
          ],
          [
           "Facundo Medina",
           "DF"
          ],
          [
           "Sergio Akieme",
           "DF"
          ],
          [
           "Dilane Bakwa",
           "MF,DF"
          ],
          [
           "Mark McKenzie",
           "DF"
          ],
          [
           "Ludovic Ajorque",
           "FW"
          ],
          [
           "Clément Akpa",
           "DF"
          ],
          [
           "Adrien Rabiot",
           "MF"
          ],
          [
           "Loïc Nego",
           "DF,FW"
          ],
          [
           "Michael Amir Murillo",
           "DF"
          ],
          [
           "Hicham Boudaoui",
           "MF"
          ],
          [
           "Brendan Chardonnet",
           "DF"
          ],
          [
           "Maghnes Akliouche",
           "FW,MF"
          ],
          [
           "Vincent Sierro",
           "MF"
          ],
          [
           "Thilo Kehrer",
           "DF"
          ],
          [
           "Clinton Mata",
           "DF"
          ],
          [
           "Mamadou Sarr",
           "DF"
          ],
          [
           "Téji Savanier",
           "MF"
          ],
          [
           "Lorenz Assignon",
           "DF,MF"
          ],
          [
           "Habib Diarra",
           "MF,FW"
          ],
          [
           "Pedro Chirivella",
           "MF"
          ],
          [
           "Elisha Owusu",
           "MF"
          ],
          [
           "Yann Gboho",
           "MF,FW"
          ],
          [
           "Corentin Tolisso",
           "MF"
          ],
          [
           "Abdoulaye Touré",
           "MF"
          ],
          [
           "Hugo Magnetti",
           "MF"
          ],
          [
           "Etienne Youte Kinkoue",
           "DF"
          ],
          [
           "Douglas",
           "MF"
          ],
          [
           "Mickael Nade",
           "DF"
          ],
          [
           "Jonathan Clauss",
           "DF,MF"
          ],
          [
           "Lassine Sinayoko",
           "FW,MF"
          ],
          [
           "Ludovic Blas",
           "MF,FW"
          ],
          [
           "Emanuel Emegha",
           "FW"
          ],
          [
           "Gideon Mensah",
           "DF"
          ],
          [
           "Leonardo Balerdi",
           "DF"
          ],
          [
           "Takumi Minamino",
           "MF,FW"
          ],
          [
           "Andy Diouf",
           "MF"
          ],
          [
           "Moïse Bombito",
           "DF"
          ],
          [
           "Cédric Kipré",
           "DF"
          ],
          [
           "Bradley Barcola",
           "FW"
          ],
          [
           "Kelvin Amian",
           "DF"
          ],
          [
           "Gabriel Suazo",
           "DF"
          ],
          [
           "Denis Zakaria",
           "MF"
          ],
          [
           "Modibo Sagnan",
           "DF"
          ],
          [
           "Willian Pacho",
           "DF"
          ],
          [
           "Dennis Appiah",
           "DF"
          ],
          [
           "Ki-Jana Hoever",
           "DF"
          ],
          [
           "Jonathan Gradit",
           "DF"
          ],
          [
           "Sebastian Nanasi",
           "MF,FW"
          ],
          [
           "Djibril Sidibé",
           "DF"
          ],
          [
           "Yassine Kechta",
           "MF,FW"
          ],
          [
           "Wilfried Singo",
           "DF"
          ],
          [
           "Hamed Junior Traorè",
           "MF"
          ],
          [
           "Azor Matusiwa",
           "MF"
          ],
          [
           "Achraf Hakimi",
           "DF"
          ],
          [
           "Vanderson",
           "DF"
          ],
          [
           "Lamine Camara",
           "MF"
          ],
          [
           "Alexandre Lacazette",
           "FW"
          ],
          [
           "Nicolas Cozza",
           "DF,MF"
          ],
          [
           "Warren Zaïre-Emery",
           "MF,DF"
          ],
          [
           "Johann Lepenant",
           "MF"
          ],
          [
           "Carlens Arcus",
           "DF"
          ],
          [
           "Vitinha",
           "MF"
          ],
          [
           "Rayan Cherki",
           "FW,MF"
          ],
          [
           "Geoffrey Kondogbia",
           "DF,MF"
          ],
          [
           "Nicolas Pallois",
           "DF"
          ],
          [
           "Dylan Batubinsika",
           "DF"
          ],
          [
           "Lucas Beraldo",
           "DF"
          ],
          [
           "Nemanja Matić",
           "MF"
          ],
          [
           "Josué Casimir",
           "FW,MF"
          ],
          [
           "Ainsley Maitland-Niles",
           "DF"
          ],
          [
           "Aurélio Buta",
           "DF"
          ],
          [
           "Dante",
           "DF"
          ],
          [
           "Jean-Eudes Aholou",
           "MF"
          ],
          [
           "Sinaly Diomande",
           "DF"
          ],
          [
           "Melvin Bard",
           "DF,MF"
          ],
          [
           "Youssouf Ndayishimiye",
           "DF"
          ],
          [
           "Caio Henrique Oliveira Silva",
           "DF"
          ],
          [
           "Thomas Meunier",
           "DF"
          ],
          [
           "Fabián Ruiz Peña",
           "MF"
          ],
          [
           "Issa Soumaré",
           "FW,MF"
          ],
          [
           "Nicolás Tagliafico",
           "DF"
          ],
          [
           "Zakaria Aboukhlal",
           "MF,FW"
          ],
          [
           "Enzo Tchato",
           "DF"
          ],
          [
           "Farid El Melali",
           "FW"
          ],
          [
           "Joris Chotard",
           "MF"
          ],
          [
           "Lucas Stassin",
           "FW"
          ],
          [
           "João Neves",
           "MF,DF"
          ],
          [
           "Breel Embolo",
           "FW,MF"
          ],
          [
           "Gaëtan Laborde",
           "FW"
          ],
          [
           "Deiver Machado",
           "DF,MF"
          ],
          [
           "Becir Omeragic",
           "DF"
          ],
          [
           "Florian Sotoca",
           "FW,MF"
          ],
          [
           "Haris Belkebla",
           "MF"
          ],
          [
           "Gabriel Gudmundsson",
           "DF"
          ],
          [
           "Félix Lemaréchal",
           "MF,FW"
          ],
          [
           "Pablo Rosario",
           "MF,DF"
          ],
          [
           "Jordan Ferri",
           "MF"
          ],
          [
           "Benjamin Bouchouari",
           "MF"
          ],
          [
           "Hákon Arnar Haraldsson",
           "MF,FW"
          ],
          [
           "Jim Allevinah",
           "FW"
          ],
          [
           "Eliesse Ben Seghir",
           "MF,FW"
          ],
          [
           "Aïssa Mandi",
           "DF"
          ],
          [
           "Ousmane Dembélé",
           "FW"
          ],
          [
           "Désiré Doué",
           "FW,MF"
          ],
          [
           "Marquinhos",
           "DF"
          ],
          [
           "Abdoulaye Niakhate Ndiaye",
           "DF"
          ],
          [
           "Joseph Okumu",
           "DF"
          ],
          [
           "Marshall Munetsi",
           "MF"
          ],
          [
           "Rabby Nzingoula",
           "MF"
          ],
          [
           "Hans Hateboer",
           "DF"
          ],
          [
           "Massadio Haïdara",
           "DF"
          ],
          [
           "Nuno Mendes",
           "DF"
          ],
          [
           "Joshua King",
           "FW,MF"
          ],
          [
           "Lee Kang-in",
           "FW,MF"
          ],
          [
           "Gabriel Osho",
           "DF"
          ],
          [
           "Esteban Lepaul",
           "FW"
          ],
          [
           "Oumar Diakité",
           "FW"
          ],
          [
           "Mohamed Ali Cho",
           "FW,MF"
          ],
          [
           "Quentin Merlin",
           "DF"
          ],
          [
           "Malick Fofana",
           "FW"
          ],
          [
           "Neil El Aynaoui",
           "MF"
          ],
          [
           "Duje Ćaleta-Car",
           "DF"
          ],
          [
           "Mathias Pereira Lage",
           "FW,MF"
          ],
          [
           "Valentin Rongier",
           "MF,DF"
          ],
          [
           "Jordan Veretout",
           "MF"
          ],
          [
           "Pierre Lees-Melou",
           "MF"
          ],
          [
           "Yassin Belkhdim",
           "MF"
          ],
          [
           "Frank Magri",
           "FW,MF"
          ],
          [
           "Nathan Zeze",
           "DF"
          ],
          [
           "Abdoulaye Bamba",
           "DF"
          ],
          [
           "Christian Mawissa",
           "DF"
          ],
          [
           "Tanguy Coulibaly",
           "FW,MF"
          ],
          [
           "M'Bala Nzola",
           "FW"
          ],
          [
           "Kévin Danois",
           "MF"
          ],
          [
           "Christopher Wooh",
           "DF"
          ],
          [
           "André Ayew",
           "FW"
          ],
          [
           "Georges Mikautadze",
           "FW"
          ],
          [
           "Derek Cornelius",
           "DF"
          ],
          [
           "Anass Zaroury",
           "FW,MF"
          ],
          [
           "Ali Abdi",
           "DF,MF"
          ],
          [
           "Przemysław Frankowski",
           "DF"
          ],
          [
           "Malang Sarr",
           "DF"
          ],
          [
           "Julien Le Cardinal",
           "DF"
          ],
          [
           "Emmanuel Biumla",
           "DF"
          ],
          [
           "Kamory Doumbia",
           "MF,FW"
          ],
          [
           "Sorba Thomas",
           "FW,MF"
          ],
          [
           "Lilian Raolisoa",
           "DF,FW"
          ],
          [
           "Amadou Koné",
           "MF"
          ],
          [
           "Osame Sahraoui",
           "FW,MF"
          ],
          [
           "André Gomes",
           "MF"
          ],
          [
           "Emmanuel Agbadou",
           "DF"
          ],
          [
           "Romain Del Castillo",
           "FW"
          ],
          [
           "Mostafa Mohamed",
           "FW"
          ],
          [
           "Florian Tardieu",
           "MF"
          ],
          [
           "Arouna Sangante",
           "DF"
          ],
          [
           "Abdallah Sima",
           "FW,MF"
          ],
          [
           "Tanner Tessmann",
           "MF"
          ],
          [
           "Lilian Brassier",
           "DF"
          ],
          [
           "Falaye Sacko",
           "DF"
          ],
          [
           "Mika Biereth",
           "FW"
          ],
          [
           "Leo Skiri Østigård",
           "DF"
          ],
          [
           "Ngal'Ayel Mukau",
           "MF"
          ],
          [
           "Shavy Babicka",
           "MF,FW"
          ],
          [
           "Jordan James",
           "MF"
          ],
          [
           "Christopher Operi",
           "DF,FW"
          ],
          [
           "Arnaud Nordin",
           "FW"
          ],
          [
           "Nhoa Sangui",
           "DF,MF"
          ],
          [
           "Valentín Barco",
           "MF,DF"
          ],
          [
           "Issiaga Sylla",
           "DF"
          ],
          [
           "Aleksandr Golovin",
           "MF,FW"
          ],
          [
           "Ayyoub Bouaddi",
           "MF"
          ],
          [
           "Mama Samba Baldé",
           "FW"
          ],
          [
           "Mitchel Bakker",
           "FW,DF"
          ],
          [
           "Tanguy Ndombele",
           "MF"
          ],
          [
           "Mory Gbane",
           "DF,MF"
          ],
          [
           "Ruben Aguilar",
           "DF,MF"
          ],
          [
           "Djaoui Cissé",
           "MF"
          ],
          [
           "Wahbi Khazri",
           "FW,MF"
          ],
          [
           "Musa Al-Taamari",
           "FW,MF"
          ],
          [
           "Timothee Pembele",
           "DF"
          ],
          [
           "Jaydee Canvot",
           "DF,MF"
          ],
          [
           "Edimilson Fernandes",
           "MF,DF"
          ],
          [
           "Badredine Bouanani",
           "MF,FW"
          ],
          [
           "Abner",
           "DF"
          ],
          [
           "Kevin Danso",
           "DF"
          ],
          [
           "Akor Adams",
           "FW"
          ],
          [
           "Gonçalo Ramos",
           "FW"
          ],
          [
           "Matias Fernandez-Pardo",
           "FW,MF"
          ],
          [
           "Sofiane Diop",
           "MF,FW"
          ],
          [
           "Irvin Cardona",
           "FW"
          ],
          [
           "Rassoul Ndiaye",
           "MF"
          ],
          [
           "Jeremie Boga",
           "MF,FW"
          ],
          [
           "Ernest Nuamah",
           "FW,MF"
          ],
          [
           "Amine Gouiri",
           "FW,MF"
          ],
          [
           "Han-Noah Massengo",
           "MF"
          ],
          [
           "Angelo Fulgini",
           "MF,FW"
          ],
          [
           "Louis Mouton",
           "MF"
          ],
          [
           "Neal Maupay",
           "FW"
          ],
          [
           "Aimen Moueffek",
           "MF"
          ],
          [
           "Yunis Abdelhamid",
           "DF"
          ],
          [
           "Khalil Fayad",
           "MF,FW"
          ],
          [
           "Soungoutou Magassa",
           "MF"
          ],
          [
           "Mohammed Salisu",
           "DF"
          ],
          [
           "Warren Kamanzi",
           "DF,MF"
          ],
          [
           "Saidou Sow",
           "DF"
          ],
          [
           "Théo Sainte-Luce",
           "DF"
          ],
          [
           "Rémy Cabella",
           "FW,MF"
          ],
          [
           "Paul Joly",
           "DF"
          ],
          [
           "Oussama Targhalline",
           "MF"
          ],
          [
           "Edon Zhegrova",
           "FW,MF"
          ],
          [
           "Yanis Zouaoui",
           "DF,FW"
          ],
          [
           "Abdukodir Khusanov",
           "DF"
          ],
          [
           "Anthony Rouault",
           "DF"
          ],
          [
           "Ado Onaiwu",
           "MF,FW"
          ],
          [
           "Junior Mwanga",
           "MF"
          ],
          [
           "Thiago Almada",
           "MF,FW"
          ],
          [
           "Sael Kumbedi",
           "DF"
          ],
          [
           "Marcus Coco",
           "DF"
          ],
          [
           "Abakar Sylla",
           "DF"
          ],
          [
           "Yael Mouanga",
           "DF"
          ],
          [
           "Antoine Joujou",
           "MF,FW"
          ],
          [
           "Ibrahima Niane",
           "FW"
          ],
          [
           "Theo Bair",
           "FW"
          ],
          [
           "Ulisses Garcia",
           "DF"
          ],
          [
           "Jérémy Jacquet",
           "DF"
          ],
          [
           "Baptiste Santamaria",
           "MF"
          ],
          [
           "Khvicha Kvaratskhelia",
           "FW"
          ],
          [
           "Wesley Saïd",
           "FW"
          ],
          [
           "Ismaily",
           "DF"
          ],
          [
           "Romain Faivre",
           "MF,FW"
          ],
          [
           "Hiroki Sekine",
           "DF"
          ],
          [
           "Goduine Koyalipou",
           "FW"
          ],
          [
           "Lucas Hernández",
           "DF"
          ],
          [
           "Mathis Amougou",
           "MF"
          ],
          [
           "Mamadou Diakhon",
           "FW,MF"
          ],
          [
           "Mohamed Abdelmoneim",
           "DF"
          ],
          [
           "Koka",
           "FW"
          ],
          [
           "Zinedine Ferhat",
           "FW,MF"
          ],
          [
           "Seko Fofana",
           "MF"
          ],
          [
           "Antoine Mendy",
           "DF"
          ],
          [
           "Ibrahim Sissoko",
           "FW"
          ],
          [
           "Louis Leroux",
           "MF,DF"
          ],
          [
           "Albert Grønbaek",
           "MF,FW"
          ],
          [
           "Senny Mayulu",
           "MF"
          ],
          [
           "Jonathan Rowe",
           "FW,MF"
          ],
          [
           "Alidu Seidu",
           "DF"
          ],
          [
           "Yoann Salmier",
           "DF"
          ],
          [
           "Yvann Macon",
           "DF"
          ],
          [
           "Jordan Amavi",
           "DF"
          ],
          [
           "Tom Louchet",
           "DF,MF"
          ],
          [
           "Sekou Mara",
           "FW,MF"
          ],
          [
           "Maxime Bernauer",
           "DF"
          ],
          [
           "Boubakar Kouyaté",
           "DF"
          ],
          [
           "Teddy Teuma",
           "MF"
          ],
          [
           "Angel Gomes",
           "MF"
          ],
          [
           "Saïd Benrahma",
           "FW,MF"
          ],
          [
           "Augustine Boakye",
           "FW,MF"
          ],
          [
           "Mathieu Cafaro",
           "MF,FW"
          ],
          [
           "Rayan Raveloson",
           "MF,DF"
          ],
          [
           "George Ilenikhena",
           "FW"
          ],
          [
           "Lucas Mincarelli",
           "DF"
          ],
          [
           "Jacques Ekomie",
           "DF,FW"
          ],
          [
           "Mikayil Ngor Faye",
           "DF"
          ],
          [
           "Abdulai Juma Bah",
           "DF"
          ],
          [
           "Pol Lirola",
           "DF"
          ],
          [
           "Assane Dioussé",
           "MF"
          ],
          [
           "Glen Kamara",
           "MF"
          ],
          [
           "Emmanuel Sabbi",
           "FW,MF"
          ],
          [
           "Ismaël Bennacer",
           "MF"
          ],
          [
           "Chuba Akpom",
           "FW"
          ],
          [
           "Luck Zogbé",
           "DF"
          ],
          [
           "Rémy Labeau Lascary",
           "FW,MF"
          ],
          [
           "Yaya Kader Fofana",
           "MF,FW"
          ],
          [
           "Rasmus Nicolaisen",
           "DF"
          ],
          [
           "Marco Asensio",
           "FW,MF"
          ],
          [
           "Folarin Balogun",
           "FW"
          ],
          [
           "Andy Delort",
           "FW"
          ],
          [
           "Jhoanner Chávez",
           "DF,MF"
          ],
          [
           "Fodé Ballo-Touré",
           "DF,MF"
          ],
          [
           "Nampalys Mendy",
           "MF"
          ],
          [
           "Mahamadou Diawara",
           "MF"
          ],
          [
           "Nikola Maksimović",
           "DF"
          ],
          [
           "Pierre Cornud",
           "DF"
          ],
          [
           "Florian Ayé",
           "FW"
          ],
          [
           "Elye Wahi",
           "FW"
          ],
          [
           "Maxence Caqueret",
           "MF"
          ],
          [
           "Jordan Teze",
           "DF"
          ],
          [
           "Daler Kuzyaev",
           "MF"
          ],
          [
           "John Joe",
           "MF"
          ],
          [
           "Mohamed Meité",
           "FW"
          ],
          [
           "Andrew Omobamidele",
           "DF"
          ],
          [
           "Jean-Kevin Duverne",
           "DF"
          ],
          [
           "Bamba Dieng",
           "FW"
          ],
          [
           "Ben Old",
           "FW,MF"
          ],
          [
           "Amine Harit",
           "MF"
          ],
          [
           "Tino Kadewere",
           "MF,FW"
          ],
          [
           "Krépin Diatta",
           "DF,FW"
          ]
         ],
         "hovertemplate": "isomap_1=%{x}<br>isomap_2=%{y}<br>isomap_3=%{z}<br>player_name=%{customdata[0]}<br>positions=%{customdata[1]}<br>cluster=%{marker.color}<extra></extra>",
         "legendgroup": "",
         "marker": {
          "color": {
           "bdata": "AgEBAAAAAgACAwICAgEBBAQDAwMCAQACAgMCAQAAAgABAwAAAgMAAgABAAMCAQIABAICAgQDAAIBAAEBAQIBAgQABAADAgAAAgIAAwMBAgIDAwIEAwECAAECAwQAAwIBAwIEAgECAgIAAwMCAQEDAgMDAgABAAMBAQABAAADBQABAwUBAQEEAAQCAAACAgIBAQIDAgAEBQUAAAUABAIEAQUBBQUFBQUDAAEFBQADBAMFBQUFAQQDAQAFBQQFBQUFBQUFAAUFBQUFBQUFBQUFBQQFBQMFBAUFBQUFBQUFAAUEBQUFBQQFBAUFBQUFBQUFBQUFAwUEBAUFBQUEBQUFBQUFBQUFBQUFBQUFBQUFBQUFBAUFBQUFBQAFBQUFBQUFBQQFBQUFBQUFBQUFBQUFBQUFBQUFBQUFBQUFBQUFBQUFBQUFBQUFBQUFBQUF",
           "dtype": "i1"
          },
          "coloraxis": "coloraxis",
          "symbol": "circle"
         },
         "mode": "markers",
         "name": "",
         "scene": "scene",
         "showlegend": false,
         "type": "scatter3d",
         "x": {
          "bdata": "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",
          "dtype": "f8"
         },
         "y": {
          "bdata": "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",
          "dtype": "f8"
         },
         "z": {
          "bdata": "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",
          "dtype": "f8"
         }
        }
       ],
       "layout": {
        "coloraxis": {
         "colorbar": {
          "title": {
           "text": "cluster"
          }
         },
         "colorscale": [
          [
           0,
           "#0d0887"
          ],
          [
           0.1111111111111111,
           "#46039f"
          ],
          [
           0.2222222222222222,
           "#7201a8"
          ],
          [
           0.3333333333333333,
           "#9c179e"
          ],
          [
           0.4444444444444444,
           "#bd3786"
          ],
          [
           0.5555555555555556,
           "#d8576b"
          ],
          [
           0.6666666666666666,
           "#ed7953"
          ],
          [
           0.7777777777777778,
           "#fb9f3a"
          ],
          [
           0.8888888888888888,
           "#fdca26"
          ],
          [
           1,
           "#f0f921"
          ]
         ]
        },
        "height": 700,
        "legend": {
         "tracegroupgap": 0
        },
        "scene": {
         "domain": {
          "x": [
           0,
           1
          ],
          "y": [
           0,
           1
          ]
         },
         "xaxis": {
          "title": {
           "text": "isomap_1"
          }
         },
         "yaxis": {
          "title": {
           "text": "isomap_2"
          }
         },
         "zaxis": {
          "title": {
           "text": "isomap_3"
          }
         }
        },
        "template": {
         "data": {
          "bar": [
           {
            "error_x": {
             "color": "#2a3f5f"
            },
            "error_y": {
             "color": "#2a3f5f"
            },
            "marker": {
             "line": {
              "color": "#E5ECF6",
              "width": 0.5
             },
             "pattern": {
              "fillmode": "overlay",
              "size": 10,
              "solidity": 0.2
             }
            },
            "type": "bar"
           }
          ],
          "barpolar": [
           {
            "marker": {
             "line": {
              "color": "#E5ECF6",
              "width": 0.5
             },
             "pattern": {
              "fillmode": "overlay",
              "size": 10,
              "solidity": 0.2
             }
            },
            "type": "barpolar"
           }
          ],
          "carpet": [
           {
            "aaxis": {
             "endlinecolor": "#2a3f5f",
             "gridcolor": "white",
             "linecolor": "white",
             "minorgridcolor": "white",
             "startlinecolor": "#2a3f5f"
            },
            "baxis": {
             "endlinecolor": "#2a3f5f",
             "gridcolor": "white",
             "linecolor": "white",
             "minorgridcolor": "white",
             "startlinecolor": "#2a3f5f"
            },
            "type": "carpet"
           }
          ],
          "choropleth": [
           {
            "colorbar": {
             "outlinewidth": 0,
             "ticks": ""
            },
            "type": "choropleth"
           }
          ],
          "contour": [
           {
            "colorbar": {
             "outlinewidth": 0,
             "ticks": ""
            },
            "colorscale": [
             [
              0,
              "#0d0887"
             ],
             [
              0.1111111111111111,
              "#46039f"
             ],
             [
              0.2222222222222222,
              "#7201a8"
             ],
             [
              0.3333333333333333,
              "#9c179e"
             ],
             [
              0.4444444444444444,
              "#bd3786"
             ],
             [
              0.5555555555555556,
              "#d8576b"
             ],
             [
              0.6666666666666666,
              "#ed7953"
             ],
             [
              0.7777777777777778,
              "#fb9f3a"
             ],
             [
              0.8888888888888888,
              "#fdca26"
             ],
             [
              1,
              "#f0f921"
             ]
            ],
            "type": "contour"
           }
          ],
          "contourcarpet": [
           {
            "colorbar": {
             "outlinewidth": 0,
             "ticks": ""
            },
            "type": "contourcarpet"
           }
          ],
          "heatmap": [
           {
            "colorbar": {
             "outlinewidth": 0,
             "ticks": ""
            },
            "colorscale": [
             [
              0,
              "#0d0887"
             ],
             [
              0.1111111111111111,
              "#46039f"
             ],
             [
              0.2222222222222222,
              "#7201a8"
             ],
             [
              0.3333333333333333,
              "#9c179e"
             ],
             [
              0.4444444444444444,
              "#bd3786"
             ],
             [
              0.5555555555555556,
              "#d8576b"
             ],
             [
              0.6666666666666666,
              "#ed7953"
             ],
             [
              0.7777777777777778,
              "#fb9f3a"
             ],
             [
              0.8888888888888888,
              "#fdca26"
             ],
             [
              1,
              "#f0f921"
             ]
            ],
            "type": "heatmap"
           }
          ],
          "histogram": [
           {
            "marker": {
             "pattern": {
              "fillmode": "overlay",
              "size": 10,
              "solidity": 0.2
             }
            },
            "type": "histogram"
           }
          ],
          "histogram2d": [
           {
            "colorbar": {
             "outlinewidth": 0,
             "ticks": ""
            },
            "colorscale": [
             [
              0,
              "#0d0887"
             ],
             [
              0.1111111111111111,
              "#46039f"
             ],
             [
              0.2222222222222222,
              "#7201a8"
             ],
             [
              0.3333333333333333,
              "#9c179e"
             ],
             [
              0.4444444444444444,
              "#bd3786"
             ],
             [
              0.5555555555555556,
              "#d8576b"
             ],
             [
              0.6666666666666666,
              "#ed7953"
             ],
             [
              0.7777777777777778,
              "#fb9f3a"
             ],
             [
              0.8888888888888888,
              "#fdca26"
             ],
             [
              1,
              "#f0f921"
             ]
            ],
            "type": "histogram2d"
           }
          ],
          "histogram2dcontour": [
           {
            "colorbar": {
             "outlinewidth": 0,
             "ticks": ""
            },
            "colorscale": [
             [
              0,
              "#0d0887"
             ],
             [
              0.1111111111111111,
              "#46039f"
             ],
             [
              0.2222222222222222,
              "#7201a8"
             ],
             [
              0.3333333333333333,
              "#9c179e"
             ],
             [
              0.4444444444444444,
              "#bd3786"
             ],
             [
              0.5555555555555556,
              "#d8576b"
             ],
             [
              0.6666666666666666,
              "#ed7953"
             ],
             [
              0.7777777777777778,
              "#fb9f3a"
             ],
             [
              0.8888888888888888,
              "#fdca26"
             ],
             [
              1,
              "#f0f921"
             ]
            ],
            "type": "histogram2dcontour"
           }
          ],
          "mesh3d": [
           {
            "colorbar": {
             "outlinewidth": 0,
             "ticks": ""
            },
            "type": "mesh3d"
           }
          ],
          "parcoords": [
           {
            "line": {
             "colorbar": {
              "outlinewidth": 0,
              "ticks": ""
             }
            },
            "type": "parcoords"
           }
          ],
          "pie": [
           {
            "automargin": true,
            "type": "pie"
           }
          ],
          "scatter": [
           {
            "fillpattern": {
             "fillmode": "overlay",
             "size": 10,
             "solidity": 0.2
            },
            "type": "scatter"
           }
          ],
          "scatter3d": [
           {
            "line": {
             "colorbar": {
              "outlinewidth": 0,
              "ticks": ""
             }
            },
            "marker": {
             "colorbar": {
              "outlinewidth": 0,
              "ticks": ""
             }
            },
            "type": "scatter3d"
           }
          ],
          "scattercarpet": [
           {
            "marker": {
             "colorbar": {
              "outlinewidth": 0,
              "ticks": ""
             }
            },
            "type": "scattercarpet"
           }
          ],
          "scattergeo": [
           {
            "marker": {
             "colorbar": {
              "outlinewidth": 0,
              "ticks": ""
             }
            },
            "type": "scattergeo"
           }
          ],
          "scattergl": [
           {
            "marker": {
             "colorbar": {
              "outlinewidth": 0,
              "ticks": ""
             }
            },
            "type": "scattergl"
           }
          ],
          "scattermap": [
           {
            "marker": {
             "colorbar": {
              "outlinewidth": 0,
              "ticks": ""
             }
            },
            "type": "scattermap"
           }
          ],
          "scattermapbox": [
           {
            "marker": {
             "colorbar": {
              "outlinewidth": 0,
              "ticks": ""
             }
            },
            "type": "scattermapbox"
           }
          ],
          "scatterpolar": [
           {
            "marker": {
             "colorbar": {
              "outlinewidth": 0,
              "ticks": ""
             }
            },
            "type": "scatterpolar"
           }
          ],
          "scatterpolargl": [
           {
            "marker": {
             "colorbar": {
              "outlinewidth": 0,
              "ticks": ""
             }
            },
            "type": "scatterpolargl"
           }
          ],
          "scatterternary": [
           {
            "marker": {
             "colorbar": {
              "outlinewidth": 0,
              "ticks": ""
             }
            },
            "type": "scatterternary"
           }
          ],
          "surface": [
           {
            "colorbar": {
             "outlinewidth": 0,
             "ticks": ""
            },
            "colorscale": [
             [
              0,
              "#0d0887"
             ],
             [
              0.1111111111111111,
              "#46039f"
             ],
             [
              0.2222222222222222,
              "#7201a8"
             ],
             [
              0.3333333333333333,
              "#9c179e"
             ],
             [
              0.4444444444444444,
              "#bd3786"
             ],
             [
              0.5555555555555556,
              "#d8576b"
             ],
             [
              0.6666666666666666,
              "#ed7953"
             ],
             [
              0.7777777777777778,
              "#fb9f3a"
             ],
             [
              0.8888888888888888,
              "#fdca26"
             ],
             [
              1,
              "#f0f921"
             ]
            ],
            "type": "surface"
           }
          ],
          "table": [
           {
            "cells": {
             "fill": {
              "color": "#EBF0F8"
             },
             "line": {
              "color": "white"
             }
            },
            "header": {
             "fill": {
              "color": "#C8D4E3"
             },
             "line": {
              "color": "white"
             }
            },
            "type": "table"
           }
          ]
         },
         "layout": {
          "annotationdefaults": {
           "arrowcolor": "#2a3f5f",
           "arrowhead": 0,
           "arrowwidth": 1
          },
          "autotypenumbers": "strict",
          "coloraxis": {
           "colorbar": {
            "outlinewidth": 0,
            "ticks": ""
           }
          },
          "colorscale": {
           "diverging": [
            [
             0,
             "#8e0152"
            ],
            [
             0.1,
             "#c51b7d"
            ],
            [
             0.2,
             "#de77ae"
            ],
            [
             0.3,
             "#f1b6da"
            ],
            [
             0.4,
             "#fde0ef"
            ],
            [
             0.5,
             "#f7f7f7"
            ],
            [
             0.6,
             "#e6f5d0"
            ],
            [
             0.7,
             "#b8e186"
            ],
            [
             0.8,
             "#7fbc41"
            ],
            [
             0.9,
             "#4d9221"
            ],
            [
             1,
             "#276419"
            ]
           ],
           "sequential": [
            [
             0,
             "#0d0887"
            ],
            [
             0.1111111111111111,
             "#46039f"
            ],
            [
             0.2222222222222222,
             "#7201a8"
            ],
            [
             0.3333333333333333,
             "#9c179e"
            ],
            [
             0.4444444444444444,
             "#bd3786"
            ],
            [
             0.5555555555555556,
             "#d8576b"
            ],
            [
             0.6666666666666666,
             "#ed7953"
            ],
            [
             0.7777777777777778,
             "#fb9f3a"
            ],
            [
             0.8888888888888888,
             "#fdca26"
            ],
            [
             1,
             "#f0f921"
            ]
           ],
           "sequentialminus": [
            [
             0,
             "#0d0887"
            ],
            [
             0.1111111111111111,
             "#46039f"
            ],
            [
             0.2222222222222222,
             "#7201a8"
            ],
            [
             0.3333333333333333,
             "#9c179e"
            ],
            [
             0.4444444444444444,
             "#bd3786"
            ],
            [
             0.5555555555555556,
             "#d8576b"
            ],
            [
             0.6666666666666666,
             "#ed7953"
            ],
            [
             0.7777777777777778,
             "#fb9f3a"
            ],
            [
             0.8888888888888888,
             "#fdca26"
            ],
            [
             1,
             "#f0f921"
            ]
           ]
          },
          "colorway": [
           "#636efa",
           "#EF553B",
           "#00cc96",
           "#ab63fa",
           "#FFA15A",
           "#19d3f3",
           "#FF6692",
           "#B6E880",
           "#FF97FF",
           "#FECB52"
          ],
          "font": {
           "color": "#2a3f5f"
          },
          "geo": {
           "bgcolor": "white",
           "lakecolor": "white",
           "landcolor": "#E5ECF6",
           "showlakes": true,
           "showland": true,
           "subunitcolor": "white"
          },
          "hoverlabel": {
           "align": "left"
          },
          "hovermode": "closest",
          "mapbox": {
           "style": "light"
          },
          "paper_bgcolor": "white",
          "plot_bgcolor": "#E5ECF6",
          "polar": {
           "angularaxis": {
            "gridcolor": "white",
            "linecolor": "white",
            "ticks": ""
           },
           "bgcolor": "#E5ECF6",
           "radialaxis": {
            "gridcolor": "white",
            "linecolor": "white",
            "ticks": ""
           }
          },
          "scene": {
           "xaxis": {
            "backgroundcolor": "#E5ECF6",
            "gridcolor": "white",
            "gridwidth": 2,
            "linecolor": "white",
            "showbackground": true,
            "ticks": "",
            "zerolinecolor": "white"
           },
           "yaxis": {
            "backgroundcolor": "#E5ECF6",
            "gridcolor": "white",
            "gridwidth": 2,
            "linecolor": "white",
            "showbackground": true,
            "ticks": "",
            "zerolinecolor": "white"
           },
           "zaxis": {
            "backgroundcolor": "#E5ECF6",
            "gridcolor": "white",
            "gridwidth": 2,
            "linecolor": "white",
            "showbackground": true,
            "ticks": "",
            "zerolinecolor": "white"
           }
          },
          "shapedefaults": {
           "line": {
            "color": "#2a3f5f"
           }
          },
          "ternary": {
           "aaxis": {
            "gridcolor": "white",
            "linecolor": "white",
            "ticks": ""
           },
           "baxis": {
            "gridcolor": "white",
            "linecolor": "white",
            "ticks": ""
           },
           "bgcolor": "#E5ECF6",
           "caxis": {
            "gridcolor": "white",
            "linecolor": "white",
            "ticks": ""
           }
          },
          "title": {
           "x": 0.05
          },
          "xaxis": {
           "automargin": true,
           "gridcolor": "white",
           "linecolor": "white",
           "ticks": "",
           "title": {
            "standoff": 15
           },
           "zerolinecolor": "white",
           "zerolinewidth": 2
          },
          "yaxis": {
           "automargin": true,
           "gridcolor": "white",
           "linecolor": "white",
           "ticks": "",
           "title": {
            "standoff": 15
           },
           "zerolinecolor": "white",
           "zerolinewidth": 2
          }
         }
        },
        "title": {
         "text": "Clusters AFF sur données ISOMAP (3D)"
        },
        "width": 900
       }
      },
      "image/png": "[encoded data removed]"
     },
     "metadata": {},
     "output_type": "display_data"
    },
    {
     "data": {
      "application/vnd.plotly.v1+json": {
       "config": {
        "plotlyServerURL": "https://plot.ly"
       },
       "data": [
        {
         "customdata": [
          [
           "Jordan Lefort",
           "DF"
          ],
          [
           "Andrey Santos",
           "MF"
          ],
          [
           "Valentin Atangana Edoa",
           "MF"
          ],
          [
           "Himad Abdelli",
           "MF,FW"
          ],
          [
           "Mason Greenwood",
           "FW,MF"
          ],
          [
           "Zuriko Davitashvili",
           "FW,MF"
          ],
          [
           "Gautier Lloris",
           "DF"
          ],
          [
           "Matthis Abline",
           "FW"
          ],
          [
           "Bafodé Diakité",
           "DF"
          ],
          [
           "Adrien Truffert",
           "DF,MF"
          ],
          [
           "Moussa Niakhate",
           "DF"
          ],
          [
           "Guela Doué",
           "DF"
          ],
          [
           "Alexsandro Ribeiro",
           "DF"
          ],
          [
           "Cristian Cásseres Jr.",
           "MF"
          ],
          [
           "Benjamin André",
           "MF"
          ],
          [
           "Gaëtan Perrin",
           "MF,FW"
          ],
          [
           "Junya Ito",
           "FW,MF"
          ],
          [
           "Aron Dønnum",
           "DF,MF"
          ],
          [
           "Kenny Lala",
           "DF"
          ],
          [
           "Florent Hanin",
           "DF"
          ],
          [
           "Pierre Højbjerg",
           "MF"
          ],
          [
           "Mahdi Camara",
           "MF,FW"
          ],
          [
           "Keito Nakamura",
           "FW,MF"
          ],
          [
           "Jubal",
           "DF"
          ],
          [
           "Ismaël Doukouré",
           "DF,MF"
          ],
          [
           "Léo Pétrot",
           "DF"
          ],
          [
           "Jean-Charles Castelletto",
           "DF,MF"
          ],
          [
           "Adrien Thomasson",
           "MF"
          ],
          [
           "Luis Henrique",
           "DF,FW"
          ],
          [
           "Moses Simon",
           "FW,MF"
          ],
          [
           "Charlie Cresswell",
           "DF"
          ],
          [
           "Arnaud Kalimuendo",
           "FW,MF"
          ],
          [
           "Pierre Ekwah Elimby",
           "MF"
          ],
          [
           "Diego Moreira",
           "DF,MF"
          ],
          [
           "Evann Guessand",
           "FW,MF"
          ],
          [
           "Jonathan David",
           "FW"
          ],
          [
           "Facundo Medina",
           "DF"
          ],
          [
           "Sergio Akieme",
           "DF"
          ],
          [
           "Dilane Bakwa",
           "MF,DF"
          ],
          [
           "Mark McKenzie",
           "DF"
          ],
          [
           "Ludovic Ajorque",
           "FW"
          ],
          [
           "Clément Akpa",
           "DF"
          ],
          [
           "Adrien Rabiot",
           "MF"
          ],
          [
           "Loïc Nego",
           "DF,FW"
          ],
          [
           "Michael Amir Murillo",
           "DF"
          ],
          [
           "Hicham Boudaoui",
           "MF"
          ],
          [
           "Brendan Chardonnet",
           "DF"
          ],
          [
           "Maghnes Akliouche",
           "FW,MF"
          ],
          [
           "Vincent Sierro",
           "MF"
          ],
          [
           "Thilo Kehrer",
           "DF"
          ],
          [
           "Clinton Mata",
           "DF"
          ],
          [
           "Mamadou Sarr",
           "DF"
          ],
          [
           "Téji Savanier",
           "MF"
          ],
          [
           "Lorenz Assignon",
           "DF,MF"
          ],
          [
           "Habib Diarra",
           "MF,FW"
          ],
          [
           "Pedro Chirivella",
           "MF"
          ],
          [
           "Elisha Owusu",
           "MF"
          ],
          [
           "Yann Gboho",
           "MF,FW"
          ],
          [
           "Corentin Tolisso",
           "MF"
          ],
          [
           "Abdoulaye Touré",
           "MF"
          ],
          [
           "Hugo Magnetti",
           "MF"
          ],
          [
           "Etienne Youte Kinkoue",
           "DF"
          ],
          [
           "Douglas",
           "MF"
          ],
          [
           "Mickael Nade",
           "DF"
          ],
          [
           "Jonathan Clauss",
           "DF,MF"
          ],
          [
           "Lassine Sinayoko",
           "FW,MF"
          ],
          [
           "Ludovic Blas",
           "MF,FW"
          ],
          [
           "Emanuel Emegha",
           "FW"
          ],
          [
           "Gideon Mensah",
           "DF"
          ],
          [
           "Leonardo Balerdi",
           "DF"
          ],
          [
           "Takumi Minamino",
           "MF,FW"
          ],
          [
           "Andy Diouf",
           "MF"
          ],
          [
           "Moïse Bombito",
           "DF"
          ],
          [
           "Cédric Kipré",
           "DF"
          ],
          [
           "Bradley Barcola",
           "FW"
          ],
          [
           "Kelvin Amian",
           "DF"
          ],
          [
           "Gabriel Suazo",
           "DF"
          ],
          [
           "Denis Zakaria",
           "MF"
          ],
          [
           "Modibo Sagnan",
           "DF"
          ],
          [
           "Willian Pacho",
           "DF"
          ],
          [
           "Dennis Appiah",
           "DF"
          ],
          [
           "Ki-Jana Hoever",
           "DF"
          ],
          [
           "Jonathan Gradit",
           "DF"
          ],
          [
           "Sebastian Nanasi",
           "MF,FW"
          ],
          [
           "Djibril Sidibé",
           "DF"
          ],
          [
           "Yassine Kechta",
           "MF,FW"
          ],
          [
           "Wilfried Singo",
           "DF"
          ],
          [
           "Hamed Junior Traorè",
           "MF"
          ],
          [
           "Azor Matusiwa",
           "MF"
          ],
          [
           "Achraf Hakimi",
           "DF"
          ],
          [
           "Vanderson",
           "DF"
          ],
          [
           "Lamine Camara",
           "MF"
          ],
          [
           "Alexandre Lacazette",
           "FW"
          ],
          [
           "Nicolas Cozza",
           "DF,MF"
          ],
          [
           "Warren Zaïre-Emery",
           "MF,DF"
          ],
          [
           "Johann Lepenant",
           "MF"
          ],
          [
           "Carlens Arcus",
           "DF"
          ],
          [
           "Vitinha",
           "MF"
          ],
          [
           "Rayan Cherki",
           "FW,MF"
          ],
          [
           "Geoffrey Kondogbia",
           "DF,MF"
          ],
          [
           "Nicolas Pallois",
           "DF"
          ],
          [
           "Dylan Batubinsika",
           "DF"
          ],
          [
           "Lucas Beraldo",
           "DF"
          ],
          [
           "Nemanja Matić",
           "MF"
          ],
          [
           "Josué Casimir",
           "FW,MF"
          ],
          [
           "Ainsley Maitland-Niles",
           "DF"
          ],
          [
           "Aurélio Buta",
           "DF"
          ],
          [
           "Dante",
           "DF"
          ],
          [
           "Jean-Eudes Aholou",
           "MF"
          ],
          [
           "Sinaly Diomande",
           "DF"
          ],
          [
           "Melvin Bard",
           "DF,MF"
          ],
          [
           "Youssouf Ndayishimiye",
           "DF"
          ],
          [
           "Caio Henrique Oliveira Silva",
           "DF"
          ],
          [
           "Thomas Meunier",
           "DF"
          ],
          [
           "Fabián Ruiz Peña",
           "MF"
          ],
          [
           "Issa Soumaré",
           "FW,MF"
          ],
          [
           "Nicolás Tagliafico",
           "DF"
          ],
          [
           "Zakaria Aboukhlal",
           "MF,FW"
          ],
          [
           "Enzo Tchato",
           "DF"
          ],
          [
           "Farid El Melali",
           "FW"
          ],
          [
           "Joris Chotard",
           "MF"
          ],
          [
           "Lucas Stassin",
           "FW"
          ],
          [
           "João Neves",
           "MF,DF"
          ],
          [
           "Breel Embolo",
           "FW,MF"
          ],
          [
           "Gaëtan Laborde",
           "FW"
          ],
          [
           "Deiver Machado",
           "DF,MF"
          ],
          [
           "Becir Omeragic",
           "DF"
          ],
          [
           "Florian Sotoca",
           "FW,MF"
          ],
          [
           "Haris Belkebla",
           "MF"
          ],
          [
           "Gabriel Gudmundsson",
           "DF"
          ],
          [
           "Félix Lemaréchal",
           "MF,FW"
          ],
          [
           "Pablo Rosario",
           "MF,DF"
          ],
          [
           "Jordan Ferri",
           "MF"
          ],
          [
           "Benjamin Bouchouari",
           "MF"
          ],
          [
           "Hákon Arnar Haraldsson",
           "MF,FW"
          ],
          [
           "Jim Allevinah",
           "FW"
          ],
          [
           "Eliesse Ben Seghir",
           "MF,FW"
          ],
          [
           "Aïssa Mandi",
           "DF"
          ],
          [
           "Ousmane Dembélé",
           "FW"
          ],
          [
           "Désiré Doué",
           "FW,MF"
          ],
          [
           "Marquinhos",
           "DF"
          ],
          [
           "Abdoulaye Niakhate Ndiaye",
           "DF"
          ],
          [
           "Joseph Okumu",
           "DF"
          ],
          [
           "Marshall Munetsi",
           "MF"
          ],
          [
           "Rabby Nzingoula",
           "MF"
          ],
          [
           "Hans Hateboer",
           "DF"
          ],
          [
           "Massadio Haïdara",
           "DF"
          ],
          [
           "Nuno Mendes",
           "DF"
          ],
          [
           "Joshua King",
           "FW,MF"
          ],
          [
           "Lee Kang-in",
           "FW,MF"
          ],
          [
           "Gabriel Osho",
           "DF"
          ],
          [
           "Esteban Lepaul",
           "FW"
          ],
          [
           "Oumar Diakité",
           "FW"
          ],
          [
           "Mohamed Ali Cho",
           "FW,MF"
          ],
          [
           "Quentin Merlin",
           "DF"
          ],
          [
           "Malick Fofana",
           "FW"
          ],
          [
           "Neil El Aynaoui",
           "MF"
          ],
          [
           "Duje Ćaleta-Car",
           "DF"
          ],
          [
           "Mathias Pereira Lage",
           "FW,MF"
          ],
          [
           "Valentin Rongier",
           "MF,DF"
          ],
          [
           "Jordan Veretout",
           "MF"
          ],
          [
           "Pierre Lees-Melou",
           "MF"
          ],
          [
           "Yassin Belkhdim",
           "MF"
          ],
          [
           "Frank Magri",
           "FW,MF"
          ],
          [
           "Nathan Zeze",
           "DF"
          ],
          [
           "Abdoulaye Bamba",
           "DF"
          ],
          [
           "Christian Mawissa",
           "DF"
          ],
          [
           "Tanguy Coulibaly",
           "FW,MF"
          ],
          [
           "M'Bala Nzola",
           "FW"
          ],
          [
           "Kévin Danois",
           "MF"
          ],
          [
           "Christopher Wooh",
           "DF"
          ],
          [
           "André Ayew",
           "FW"
          ],
          [
           "Georges Mikautadze",
           "FW"
          ],
          [
           "Derek Cornelius",
           "DF"
          ],
          [
           "Anass Zaroury",
           "FW,MF"
          ],
          [
           "Ali Abdi",
           "DF,MF"
          ],
          [
           "Przemysław Frankowski",
           "DF"
          ],
          [
           "Malang Sarr",
           "DF"
          ],
          [
           "Julien Le Cardinal",
           "DF"
          ],
          [
           "Emmanuel Biumla",
           "DF"
          ],
          [
           "Kamory Doumbia",
           "MF,FW"
          ],
          [
           "Sorba Thomas",
           "FW,MF"
          ],
          [
           "Lilian Raolisoa",
           "DF,FW"
          ],
          [
           "Amadou Koné",
           "MF"
          ],
          [
           "Osame Sahraoui",
           "FW,MF"
          ],
          [
           "André Gomes",
           "MF"
          ],
          [
           "Emmanuel Agbadou",
           "DF"
          ],
          [
           "Romain Del Castillo",
           "FW"
          ],
          [
           "Mostafa Mohamed",
           "FW"
          ],
          [
           "Florian Tardieu",
           "MF"
          ],
          [
           "Arouna Sangante",
           "DF"
          ],
          [
           "Abdallah Sima",
           "FW,MF"
          ],
          [
           "Tanner Tessmann",
           "MF"
          ],
          [
           "Lilian Brassier",
           "DF"
          ],
          [
           "Falaye Sacko",
           "DF"
          ],
          [
           "Mika Biereth",
           "FW"
          ],
          [
           "Leo Skiri Østigård",
           "DF"
          ],
          [
           "Ngal'Ayel Mukau",
           "MF"
          ],
          [
           "Shavy Babicka",
           "MF,FW"
          ],
          [
           "Jordan James",
           "MF"
          ],
          [
           "Christopher Operi",
           "DF,FW"
          ],
          [
           "Arnaud Nordin",
           "FW"
          ],
          [
           "Nhoa Sangui",
           "DF,MF"
          ],
          [
           "Valentín Barco",
           "MF,DF"
          ],
          [
           "Issiaga Sylla",
           "DF"
          ],
          [
           "Aleksandr Golovin",
           "MF,FW"
          ],
          [
           "Ayyoub Bouaddi",
           "MF"
          ],
          [
           "Mama Samba Baldé",
           "FW"
          ],
          [
           "Mitchel Bakker",
           "FW,DF"
          ],
          [
           "Tanguy Ndombele",
           "MF"
          ],
          [
           "Mory Gbane",
           "DF,MF"
          ],
          [
           "Ruben Aguilar",
           "DF,MF"
          ],
          [
           "Djaoui Cissé",
           "MF"
          ],
          [
           "Wahbi Khazri",
           "FW,MF"
          ],
          [
           "Musa Al-Taamari",
           "FW,MF"
          ],
          [
           "Timothee Pembele",
           "DF"
          ],
          [
           "Jaydee Canvot",
           "DF,MF"
          ],
          [
           "Edimilson Fernandes",
           "MF,DF"
          ],
          [
           "Badredine Bouanani",
           "MF,FW"
          ],
          [
           "Abner",
           "DF"
          ],
          [
           "Kevin Danso",
           "DF"
          ],
          [
           "Akor Adams",
           "FW"
          ],
          [
           "Gonçalo Ramos",
           "FW"
          ],
          [
           "Matias Fernandez-Pardo",
           "FW,MF"
          ],
          [
           "Sofiane Diop",
           "MF,FW"
          ],
          [
           "Irvin Cardona",
           "FW"
          ],
          [
           "Rassoul Ndiaye",
           "MF"
          ],
          [
           "Jeremie Boga",
           "MF,FW"
          ],
          [
           "Ernest Nuamah",
           "FW,MF"
          ],
          [
           "Amine Gouiri",
           "FW,MF"
          ],
          [
           "Han-Noah Massengo",
           "MF"
          ],
          [
           "Angelo Fulgini",
           "MF,FW"
          ],
          [
           "Louis Mouton",
           "MF"
          ],
          [
           "Neal Maupay",
           "FW"
          ],
          [
           "Aimen Moueffek",
           "MF"
          ],
          [
           "Yunis Abdelhamid",
           "DF"
          ],
          [
           "Khalil Fayad",
           "MF,FW"
          ],
          [
           "Soungoutou Magassa",
           "MF"
          ],
          [
           "Mohammed Salisu",
           "DF"
          ],
          [
           "Warren Kamanzi",
           "DF,MF"
          ],
          [
           "Saidou Sow",
           "DF"
          ],
          [
           "Théo Sainte-Luce",
           "DF"
          ],
          [
           "Rémy Cabella",
           "FW,MF"
          ],
          [
           "Paul Joly",
           "DF"
          ],
          [
           "Oussama Targhalline",
           "MF"
          ],
          [
           "Edon Zhegrova",
           "FW,MF"
          ],
          [
           "Yanis Zouaoui",
           "DF,FW"
          ],
          [
           "Abdukodir Khusanov",
           "DF"
          ],
          [
           "Anthony Rouault",
           "DF"
          ],
          [
           "Ado Onaiwu",
           "MF,FW"
          ],
          [
           "Junior Mwanga",
           "MF"
          ],
          [
           "Thiago Almada",
           "MF,FW"
          ],
          [
           "Sael Kumbedi",
           "DF"
          ],
          [
           "Marcus Coco",
           "DF"
          ],
          [
           "Abakar Sylla",
           "DF"
          ],
          [
           "Yael Mouanga",
           "DF"
          ],
          [
           "Antoine Joujou",
           "MF,FW"
          ],
          [
           "Ibrahima Niane",
           "FW"
          ],
          [
           "Theo Bair",
           "FW"
          ],
          [
           "Ulisses Garcia",
           "DF"
          ],
          [
           "Jérémy Jacquet",
           "DF"
          ],
          [
           "Baptiste Santamaria",
           "MF"
          ],
          [
           "Khvicha Kvaratskhelia",
           "FW"
          ],
          [
           "Wesley Saïd",
           "FW"
          ],
          [
           "Ismaily",
           "DF"
          ],
          [
           "Romain Faivre",
           "MF,FW"
          ],
          [
           "Hiroki Sekine",
           "DF"
          ],
          [
           "Goduine Koyalipou",
           "FW"
          ],
          [
           "Lucas Hernández",
           "DF"
          ],
          [
           "Mathis Amougou",
           "MF"
          ],
          [
           "Mamadou Diakhon",
           "FW,MF"
          ],
          [
           "Mohamed Abdelmoneim",
           "DF"
          ],
          [
           "Koka",
           "FW"
          ],
          [
           "Zinedine Ferhat",
           "FW,MF"
          ],
          [
           "Seko Fofana",
           "MF"
          ],
          [
           "Antoine Mendy",
           "DF"
          ],
          [
           "Ibrahim Sissoko",
           "FW"
          ],
          [
           "Louis Leroux",
           "MF,DF"
          ],
          [
           "Albert Grønbaek",
           "MF,FW"
          ],
          [
           "Senny Mayulu",
           "MF"
          ],
          [
           "Jonathan Rowe",
           "FW,MF"
          ],
          [
           "Alidu Seidu",
           "DF"
          ],
          [
           "Yoann Salmier",
           "DF"
          ],
          [
           "Yvann Macon",
           "DF"
          ],
          [
           "Jordan Amavi",
           "DF"
          ],
          [
           "Tom Louchet",
           "DF,MF"
          ],
          [
           "Sekou Mara",
           "FW,MF"
          ],
          [
           "Maxime Bernauer",
           "DF"
          ],
          [
           "Boubakar Kouyaté",
           "DF"
          ],
          [
           "Teddy Teuma",
           "MF"
          ],
          [
           "Angel Gomes",
           "MF"
          ],
          [
           "Saïd Benrahma",
           "FW,MF"
          ],
          [
           "Augustine Boakye",
           "FW,MF"
          ],
          [
           "Mathieu Cafaro",
           "MF,FW"
          ],
          [
           "Rayan Raveloson",
           "MF,DF"
          ],
          [
           "George Ilenikhena",
           "FW"
          ],
          [
           "Lucas Mincarelli",
           "DF"
          ],
          [
           "Jacques Ekomie",
           "DF,FW"
          ],
          [
           "Mikayil Ngor Faye",
           "DF"
          ],
          [
           "Abdulai Juma Bah",
           "DF"
          ],
          [
           "Pol Lirola",
           "DF"
          ],
          [
           "Assane Dioussé",
           "MF"
          ],
          [
           "Glen Kamara",
           "MF"
          ],
          [
           "Emmanuel Sabbi",
           "FW,MF"
          ],
          [
           "Ismaël Bennacer",
           "MF"
          ],
          [
           "Chuba Akpom",
           "FW"
          ],
          [
           "Luck Zogbé",
           "DF"
          ],
          [
           "Rémy Labeau Lascary",
           "FW,MF"
          ],
          [
           "Yaya Kader Fofana",
           "MF,FW"
          ],
          [
           "Rasmus Nicolaisen",
           "DF"
          ],
          [
           "Marco Asensio",
           "FW,MF"
          ],
          [
           "Folarin Balogun",
           "FW"
          ],
          [
           "Andy Delort",
           "FW"
          ],
          [
           "Jhoanner Chávez",
           "DF,MF"
          ],
          [
           "Fodé Ballo-Touré",
           "DF,MF"
          ],
          [
           "Nampalys Mendy",
           "MF"
          ],
          [
           "Mahamadou Diawara",
           "MF"
          ],
          [
           "Nikola Maksimović",
           "DF"
          ],
          [
           "Pierre Cornud",
           "DF"
          ],
          [
           "Florian Ayé",
           "FW"
          ],
          [
           "Elye Wahi",
           "FW"
          ],
          [
           "Maxence Caqueret",
           "MF"
          ],
          [
           "Jordan Teze",
           "DF"
          ],
          [
           "Daler Kuzyaev",
           "MF"
          ],
          [
           "John Joe",
           "MF"
          ],
          [
           "Mohamed Meité",
           "FW"
          ],
          [
           "Andrew Omobamidele",
           "DF"
          ],
          [
           "Jean-Kevin Duverne",
           "DF"
          ],
          [
           "Bamba Dieng",
           "FW"
          ],
          [
           "Ben Old",
           "FW,MF"
          ],
          [
           "Amine Harit",
           "MF"
          ],
          [
           "Tino Kadewere",
           "MF,FW"
          ],
          [
           "Krépin Diatta",
           "DF,FW"
          ]
         ],
         "hovertemplate": "UMAP_1=%{x}<br>UMAP_2=%{y}<br>UMAP_3=%{z}<br>player_name=%{customdata[0]}<br>positions=%{customdata[1]}<br>cluster=%{marker.color}<extra></extra>",
         "legendgroup": "",
         "marker": {
          "color": {
           "bdata": "AAEBAQICAAMAAgAEAAEBAgICBAQBAQMAAAQAAQICAAMBAgIDAQQCAAMAAgQBAQACAQAAAAICAgEBAgEBAQABAAIDAgMEAAICAAACBAIBAAAEBAACBAEAAgEBBAIDBAEBBAECAQAAAQECBAQAAQAEAAIEAQMBAwQCAQMBAwMEAAIBBAIBAQECAwIBAgIBAAADAQEEAQMCAAMDAgICAQACAQEBAQMAAAADAwEAAwMAAgQCAAAAAQICAQIBAAIDAQADAQAEAwABAgECAgQEBAEBAwIBAAQBAgIEAAACBAADAwICAwECAgIBAgEDAQABAQAEAAQCBAECAgAAAwECBAQAAAIDAwIAAQIDBAIEAwABAgADAgEEAwECAgIEAAQEBAMAAAECAgICAQMEBAAAAAEBAwEDBAIBAAIDAwIEAQEAAAMDAQQBAQMABAMCAgEE",
           "dtype": "i1"
          },
          "coloraxis": "coloraxis",
          "symbol": "circle"
         },
         "mode": "markers",
         "name": "",
         "scene": "scene",
         "showlegend": false,
         "type": "scatter3d",
         "x": {
          "bdata": "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",
          "dtype": "f8"
         },
         "y": {
          "bdata": "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",
          "dtype": "f8"
         },
         "z": {
          "bdata": "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",
          "dtype": "f8"
         }
        }
       ],
       "layout": {
        "coloraxis": {
         "colorbar": {
          "title": {
           "text": "cluster"
          }
         },
         "colorscale": [
          [
           0,
           "#0d0887"
          ],
          [
           0.1111111111111111,
           "#46039f"
          ],
          [
           0.2222222222222222,
           "#7201a8"
          ],
          [
           0.3333333333333333,
           "#9c179e"
          ],
          [
           0.4444444444444444,
           "#bd3786"
          ],
          [
           0.5555555555555556,
           "#d8576b"
          ],
          [
           0.6666666666666666,
           "#ed7953"
          ],
          [
           0.7777777777777778,
           "#fb9f3a"
          ],
          [
           0.8888888888888888,
           "#fdca26"
          ],
          [
           1,
           "#f0f921"
          ]
         ]
        },
        "height": 700,
        "legend": {
         "tracegroupgap": 0
        },
        "scene": {
         "domain": {
          "x": [
           0,
           1
          ],
          "y": [
           0,
           1
          ]
         },
         "xaxis": {
          "title": {
           "text": "UMAP_1"
          }
         },
         "yaxis": {
          "title": {
           "text": "UMAP_2"
          }
         },
         "zaxis": {
          "title": {
           "text": "UMAP_3"
          }
         }
        },
        "template": {
         "data": {
          "bar": [
           {
            "error_x": {
             "color": "#2a3f5f"
            },
            "error_y": {
             "color": "#2a3f5f"
            },
            "marker": {
             "line": {
              "color": "#E5ECF6",
              "width": 0.5
             },
             "pattern": {
              "fillmode": "overlay",
              "size": 10,
              "solidity": 0.2
             }
            },
            "type": "bar"
           }
          ],
          "barpolar": [
           {
            "marker": {
             "line": {
              "color": "#E5ECF6",
              "width": 0.5
             },
             "pattern": {
              "fillmode": "overlay",
              "size": 10,
              "solidity": 0.2
             }
            },
            "type": "barpolar"
           }
          ],
          "carpet": [
           {
            "aaxis": {
             "endlinecolor": "#2a3f5f",
             "gridcolor": "white",
             "linecolor": "white",
             "minorgridcolor": "white",
             "startlinecolor": "#2a3f5f"
            },
            "baxis": {
             "endlinecolor": "#2a3f5f",
             "gridcolor": "white",
             "linecolor": "white",
             "minorgridcolor": "white",
             "startlinecolor": "#2a3f5f"
            },
            "type": "carpet"
           }
          ],
          "choropleth": [
           {
            "colorbar": {
             "outlinewidth": 0,
             "ticks": ""
            },
            "type": "choropleth"
           }
          ],
          "contour": [
           {
            "colorbar": {
             "outlinewidth": 0,
             "ticks": ""
            },
            "colorscale": [
             [
              0,
              "#0d0887"
             ],
             [
              0.1111111111111111,
              "#46039f"
             ],
             [
              0.2222222222222222,
              "#7201a8"
             ],
             [
              0.3333333333333333,
              "#9c179e"
             ],
             [
              0.4444444444444444,
              "#bd3786"
             ],
             [
              0.5555555555555556,
              "#d8576b"
             ],
             [
              0.6666666666666666,
              "#ed7953"
             ],
             [
              0.7777777777777778,
              "#fb9f3a"
             ],
             [
              0.8888888888888888,
              "#fdca26"
             ],
             [
              1,
              "#f0f921"
             ]
            ],
            "type": "contour"
           }
          ],
          "contourcarpet": [
           {
            "colorbar": {
             "outlinewidth": 0,
             "ticks": ""
            },
            "type": "contourcarpet"
           }
          ],
          "heatmap": [
           {
            "colorbar": {
             "outlinewidth": 0,
             "ticks": ""
            },
            "colorscale": [
             [
              0,
              "#0d0887"
             ],
             [
              0.1111111111111111,
              "#46039f"
             ],
             [
              0.2222222222222222,
              "#7201a8"
             ],
             [
              0.3333333333333333,
              "#9c179e"
             ],
             [
              0.4444444444444444,
              "#bd3786"
             ],
             [
              0.5555555555555556,
              "#d8576b"
             ],
             [
              0.6666666666666666,
              "#ed7953"
             ],
             [
              0.7777777777777778,
              "#fb9f3a"
             ],
             [
              0.8888888888888888,
              "#fdca26"
             ],
             [
              1,
              "#f0f921"
             ]
            ],
            "type": "heatmap"
           }
          ],
          "histogram": [
           {
            "marker": {
             "pattern": {
              "fillmode": "overlay",
              "size": 10,
              "solidity": 0.2
             }
            },
            "type": "histogram"
           }
          ],
          "histogram2d": [
           {
            "colorbar": {
             "outlinewidth": 0,
             "ticks": ""
            },
            "colorscale": [
             [
              0,
              "#0d0887"
             ],
             [
              0.1111111111111111,
              "#46039f"
             ],
             [
              0.2222222222222222,
              "#7201a8"
             ],
             [
              0.3333333333333333,
              "#9c179e"
             ],
             [
              0.4444444444444444,
              "#bd3786"
             ],
             [
              0.5555555555555556,
              "#d8576b"
             ],
             [
              0.6666666666666666,
              "#ed7953"
             ],
             [
              0.7777777777777778,
              "#fb9f3a"
             ],
             [
              0.8888888888888888,
              "#fdca26"
             ],
             [
              1,
              "#f0f921"
             ]
            ],
            "type": "histogram2d"
           }
          ],
          "histogram2dcontour": [
           {
            "colorbar": {
             "outlinewidth": 0,
             "ticks": ""
            },
            "colorscale": [
             [
              0,
              "#0d0887"
             ],
             [
              0.1111111111111111,
              "#46039f"
             ],
             [
              0.2222222222222222,
              "#7201a8"
             ],
             [
              0.3333333333333333,
              "#9c179e"
             ],
             [
              0.4444444444444444,
              "#bd3786"
             ],
             [
              0.5555555555555556,
              "#d8576b"
             ],
             [
              0.6666666666666666,
              "#ed7953"
             ],
             [
              0.7777777777777778,
              "#fb9f3a"
             ],
             [
              0.8888888888888888,
              "#fdca26"
             ],
             [
              1,
              "#f0f921"
             ]
            ],
            "type": "histogram2dcontour"
           }
          ],
          "mesh3d": [
           {
            "colorbar": {
             "outlinewidth": 0,
             "ticks": ""
            },
            "type": "mesh3d"
           }
          ],
          "parcoords": [
           {
            "line": {
             "colorbar": {
              "outlinewidth": 0,
              "ticks": ""
             }
            },
            "type": "parcoords"
           }
          ],
          "pie": [
           {
            "automargin": true,
            "type": "pie"
           }
          ],
          "scatter": [
           {
            "fillpattern": {
             "fillmode": "overlay",
             "size": 10,
             "solidity": 0.2
            },
            "type": "scatter"
           }
          ],
          "scatter3d": [
           {
            "line": {
             "colorbar": {
              "outlinewidth": 0,
              "ticks": ""
             }
            },
            "marker": {
             "colorbar": {
              "outlinewidth": 0,
              "ticks": ""
             }
            },
            "type": "scatter3d"
           }
          ],
          "scattercarpet": [
           {
            "marker": {
             "colorbar": {
              "outlinewidth": 0,
              "ticks": ""
             }
            },
            "type": "scattercarpet"
           }
          ],
          "scattergeo": [
           {
            "marker": {
             "colorbar": {
              "outlinewidth": 0,
              "ticks": ""
             }
            },
            "type": "scattergeo"
           }
          ],
          "scattergl": [
           {
            "marker": {
             "colorbar": {
              "outlinewidth": 0,
              "ticks": ""
             }
            },
            "type": "scattergl"
           }
          ],
          "scattermap": [
           {
            "marker": {
             "colorbar": {
              "outlinewidth": 0,
              "ticks": ""
             }
            },
            "type": "scattermap"
           }
          ],
          "scattermapbox": [
           {
            "marker": {
             "colorbar": {
              "outlinewidth": 0,
              "ticks": ""
             }
            },
            "type": "scattermapbox"
           }
          ],
          "scatterpolar": [
           {
            "marker": {
             "colorbar": {
              "outlinewidth": 0,
              "ticks": ""
             }
            },
            "type": "scatterpolar"
           }
          ],
          "scatterpolargl": [
           {
            "marker": {
             "colorbar": {
              "outlinewidth": 0,
              "ticks": ""
             }
            },
            "type": "scatterpolargl"
           }
          ],
          "scatterternary": [
           {
            "marker": {
             "colorbar": {
              "outlinewidth": 0,
              "ticks": ""
             }
            },
            "type": "scatterternary"
           }
          ],
          "surface": [
           {
            "colorbar": {
             "outlinewidth": 0,
             "ticks": ""
            },
            "colorscale": [
             [
              0,
              "#0d0887"
             ],
             [
              0.1111111111111111,
              "#46039f"
             ],
             [
              0.2222222222222222,
              "#7201a8"
             ],
             [
              0.3333333333333333,
              "#9c179e"
             ],
             [
              0.4444444444444444,
              "#bd3786"
             ],
             [
              0.5555555555555556,
              "#d8576b"
             ],
             [
              0.6666666666666666,
              "#ed7953"
             ],
             [
              0.7777777777777778,
              "#fb9f3a"
             ],
             [
              0.8888888888888888,
              "#fdca26"
             ],
             [
              1,
              "#f0f921"
             ]
            ],
            "type": "surface"
           }
          ],
          "table": [
           {
            "cells": {
             "fill": {
              "color": "#EBF0F8"
             },
             "line": {
              "color": "white"
             }
            },
            "header": {
             "fill": {
              "color": "#C8D4E3"
             },
             "line": {
              "color": "white"
             }
            },
            "type": "table"
           }
          ]
         },
         "layout": {
          "annotationdefaults": {
           "arrowcolor": "#2a3f5f",
           "arrowhead": 0,
           "arrowwidth": 1
          },
          "autotypenumbers": "strict",
          "coloraxis": {
           "colorbar": {
            "outlinewidth": 0,
            "ticks": ""
           }
          },
          "colorscale": {
           "diverging": [
            [
             0,
             "#8e0152"
            ],
            [
             0.1,
             "#c51b7d"
            ],
            [
             0.2,
             "#de77ae"
            ],
            [
             0.3,
             "#f1b6da"
            ],
            [
             0.4,
             "#fde0ef"
            ],
            [
             0.5,
             "#f7f7f7"
            ],
            [
             0.6,
             "#e6f5d0"
            ],
            [
             0.7,
             "#b8e186"
            ],
            [
             0.8,
             "#7fbc41"
            ],
            [
             0.9,
             "#4d9221"
            ],
            [
             1,
             "#276419"
            ]
           ],
           "sequential": [
            [
             0,
             "#0d0887"
            ],
            [
             0.1111111111111111,
             "#46039f"
            ],
            [
             0.2222222222222222,
             "#7201a8"
            ],
            [
             0.3333333333333333,
             "#9c179e"
            ],
            [
             0.4444444444444444,
             "#bd3786"
            ],
            [
             0.5555555555555556,
             "#d8576b"
            ],
            [
             0.6666666666666666,
             "#ed7953"
            ],
            [
             0.7777777777777778,
             "#fb9f3a"
            ],
            [
             0.8888888888888888,
             "#fdca26"
            ],
            [
             1,
             "#f0f921"
            ]
           ],
           "sequentialminus": [
            [
             0,
             "#0d0887"
            ],
            [
             0.1111111111111111,
             "#46039f"
            ],
            [
             0.2222222222222222,
             "#7201a8"
            ],
            [
             0.3333333333333333,
             "#9c179e"
            ],
            [
             0.4444444444444444,
             "#bd3786"
            ],
            [
             0.5555555555555556,
             "#d8576b"
            ],
            [
             0.6666666666666666,
             "#ed7953"
            ],
            [
             0.7777777777777778,
             "#fb9f3a"
            ],
            [
             0.8888888888888888,
             "#fdca26"
            ],
            [
             1,
             "#f0f921"
            ]
           ]
          },
          "colorway": [
           "#636efa",
           "#EF553B",
           "#00cc96",
           "#ab63fa",
           "#FFA15A",
           "#19d3f3",
           "#FF6692",
           "#B6E880",
           "#FF97FF",
           "#FECB52"
          ],
          "font": {
           "color": "#2a3f5f"
          },
          "geo": {
           "bgcolor": "white",
           "lakecolor": "white",
           "landcolor": "#E5ECF6",
           "showlakes": true,
           "showland": true,
           "subunitcolor": "white"
          },
          "hoverlabel": {
           "align": "left"
          },
          "hovermode": "closest",
          "mapbox": {
           "style": "light"
          },
          "paper_bgcolor": "white",
          "plot_bgcolor": "#E5ECF6",
          "polar": {
           "angularaxis": {
            "gridcolor": "white",
            "linecolor": "white",
            "ticks": ""
           },
           "bgcolor": "#E5ECF6",
           "radialaxis": {
            "gridcolor": "white",
            "linecolor": "white",
            "ticks": ""
           }
          },
          "scene": {
           "xaxis": {
            "backgroundcolor": "#E5ECF6",
            "gridcolor": "white",
            "gridwidth": 2,
            "linecolor": "white",
            "showbackground": true,
            "ticks": "",
            "zerolinecolor": "white"
           },
           "yaxis": {
            "backgroundcolor": "#E5ECF6",
            "gridcolor": "white",
            "gridwidth": 2,
            "linecolor": "white",
            "showbackground": true,
            "ticks": "",
            "zerolinecolor": "white"
           },
           "zaxis": {
            "backgroundcolor": "#E5ECF6",
            "gridcolor": "white",
            "gridwidth": 2,
            "linecolor": "white",
            "showbackground": true,
            "ticks": "",
            "zerolinecolor": "white"
           }
          },
          "shapedefaults": {
           "line": {
            "color": "#2a3f5f"
           }
          },
          "ternary": {
           "aaxis": {
            "gridcolor": "white",
            "linecolor": "white",
            "ticks": ""
           },
           "baxis": {
            "gridcolor": "white",
            "linecolor": "white",
            "ticks": ""
           },
           "bgcolor": "#E5ECF6",
           "caxis": {
            "gridcolor": "white",
            "linecolor": "white",
            "ticks": ""
           }
          },
          "title": {
           "x": 0.05
          },
          "xaxis": {
           "automargin": true,
           "gridcolor": "white",
           "linecolor": "white",
           "ticks": "",
           "title": {
            "standoff": 15
           },
           "zerolinecolor": "white",
           "zerolinewidth": 2
          },
          "yaxis": {
           "automargin": true,
           "gridcolor": "white",
           "linecolor": "white",
           "ticks": "",
           "title": {
            "standoff": 15
           },
           "zerolinecolor": "white",
           "zerolinewidth": 2
          }
         }
        },
        "title": {
         "text": "Clusters AFF sur données UMAP (3D)"
        },
        "width": 900
       }
      },
      "image/png": "[encoded data removed]"
     },
     "metadata": {},
     "output_type": "display_data"
    }
   ],
   "source": [
    "def print_results(X, column1, column2, data_name) :\n",
    "    fig = px.scatter(\n",
    "        X,\n",
    "        x= column1, \n",
    "        y= column2, \n",
    "        color='cluster', \n",
    "        hover_data=['player_name', 'positions'],  # ce qui s'affiche au survol\n",
    "        title=f\"Clusters AFF sur données {data_name}\",\n",
    "        width=800, \n",
    "        height=600,\n",
    "        color_discrete_sequence= None\n",
    "    )\n",
    "    fig.show()\n",
    "\n",
    "def print_results_3d(X, column1, column2, column3, data_name):\n",
    "    fig = px.scatter_3d(\n",
    "        X,\n",
    "        x=column1,\n",
    "        y=column2,\n",
    "        z=column3,\n",
    "        color='cluster',\n",
    "        hover_data=['player_name', 'positions'],  # info au survol\n",
    "        title=f\"Clusters AFF sur données {data_name} (3D)\",\n",
    "        width=900,\n",
    "        height=700,\n",
    "        color_discrete_sequence=None\n",
    "    )\n",
    "    fig.show()\n",
    "\n",
    "\"\"\"\n",
    "print(\"=\"*60)\n",
    "print(\"============RESULTS EN 2D===============\")\n",
    "print(\"=\"*60)\n",
    "print_results(X_aff_PCA_best, \"PCA_1\", \"PCA_2\", \"PCA\")\n",
    "print_results(X_aff_tSNE_best, \"tsne_1\", \"tsne_2\", \"t-SNE\")\n",
    "print_results(X_aff_ISOMAP_best, \"isomap_1\", \"isomap_2\", \"ISOMAP\")\n",
    "print_results(X_aff_UMAP_best, \"UMAP_1\", \"UMAP_2\", \"UMAP\")\n",
    "\"\"\"\n",
    "\n",
    "print(\"=\"*60)\n",
    "print(\"============RESULTS EN 3D===============\")\n",
    "print(\"=\"*60)\n",
    "print_results_3d(X_aff_PCA_best, \"PCA_1\", \"PCA_2\", \"PCA_3\", \"PCA\")\n",
    "print_results_3d(X_aff_tSNE_best, \"tsne_1\", \"tsne_2\", \"tsne_3\", \"t-SNE\")\n",
    "print_results_3d(X_aff_ISOMAP_best, \"isomap_1\", \"isomap_2\", \"isomap_3\", \"ISOMAP\")\n",
    "print_results_3d(X_aff_UMAP_best, \"UMAP_1\", \"UMAP_2\", \"UMAP_3\", \"UMAP\")"
   ]
  },
  {
   "cell_type": "code",
   "execution_count": null,
   "id": "a93df5b6-63c4-4d3d-95b7-dc1763e1fff1",
   "metadata": {},
   "outputs": [],
   "source": []
  },
  {
   "cell_type": "code",
   "execution_count": null,
   "id": "1947cad2-c50b-400f-92fa-b9b61ede331a",
   "metadata": {},
   "outputs": [],
   "source": []
  },
  {
   "cell_type": "code",
   "execution_count": null,
   "id": "2205fe08-6be4-488c-b955-1ab729cd43dc",
   "metadata": {},
   "outputs": [],
   "source": []
  },
  {
   "cell_type": "code",
   "execution_count": null,
   "id": "e095b3d2-4e9f-4063-8397-61fcf0d5e3c8",
   "metadata": {},
   "outputs": [],
   "source": []
  },
  {
   "cell_type": "code",
   "execution_count": null,
   "id": "db35272b-74b0-4743-9f99-34de64b7f97a",
   "metadata": {},
   "outputs": [],
   "source": []
  },
  {
   "cell_type": "code",
   "execution_count": null,
   "id": "26087caf-cea3-4a78-b6e9-823ba01b9fc9",
   "metadata": {},
   "outputs": [],
   "source": []
  },
  {
   "cell_type": "code",
   "execution_count": null,
   "id": "21b601f6-eebf-4601-9007-1b67650d1e15",
   "metadata": {},
   "outputs": [],
   "source": []
  }
 ],
 "metadata": {
  "kernelspec": {
   "display_name": "Python 3 (ipykernel)",
   "language": "python",
   "name": "python3"
  },
  "language_info": {
   "codemirror_mode": {
    "name": "ipython",
    "version": 3
   },
   "file_extension": ".py",
   "mimetype": "text/x-python",
   "name": "python",
   "nbconvert_exporter": "python",
   "pygments_lexer": "ipython3",
   "version": "3.11.9"
  }
 },
 "nbformat": 4,
 "nbformat_minor": 5
}
