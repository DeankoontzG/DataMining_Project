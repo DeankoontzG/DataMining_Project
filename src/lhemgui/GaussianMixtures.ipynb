{
 "cells": [
  {
   "cell_type": "markdown",
   "id": "f6fc2859-8d98-4331-9889-1191b88d714c",
   "metadata": {},
   "source": [
    "# Clustering via Gausian Mixtures"
   ]
  },
  {
   "cell_type": "code",
   "execution_count": 1,
   "id": "4b8537fe-ba48-4a1e-ac97-76cc600e3c39",
   "metadata": {
    "scrolled": true
   },
   "outputs": [
    {
     "name": "stdout",
     "output_type": "stream",
     "text": [
      "   UMAP_1    UMAP_2     UMAP_3     UMAP_4    UMAP_5    player_name  equipe  \\\n",
      "0   6.495  6.823001  18.643335  11.675789 -0.964921  Jordan Lefort  Angers   \n",
      "\n",
      "  positions   age player_id player_country_code  \n",
      "0        DF  30.0  c3e4ecbb                 FRA  \n"
     ]
    }
   ],
   "source": [
    "import pandas as pd\n",
    "import numpy as np\n",
    "\n",
    "import matplotlib.pyplot as plt\n",
    "import plotly.express as px\n",
    "import seaborn as sns\n",
    "\n",
    "from sklearn.mixture import GaussianMixture\n",
    "from sklearn.preprocessing import StandardScaler\n",
    "from sklearn.metrics import silhouette_score, davies_bouldin_score, calinski_harabasz_score\n",
    "\n",
    "file_path_PCA = \"../../reduced_data/pca/embeddings/joueurs_ligue1_PCA_custom.csv\"\n",
    "file_path_tSNE = \"../../reduced_data/tsne/embeddings/joueurs_ligue1_tSNE_custom_GK.csv\"\n",
    "file_path_ISOMAP = \"../../reduced_data/isomap/embeddings/joueurs_ligue1_ISOMap_raw.csv\"\n",
    "file_path_UMAP = \"../../reduced_data/umap/embeddings/joueurs_ligue1_2024_2025_clean_per90_umap5d_best_embedding.csv\"\n",
    "\n",
    "data_PCA= pd.read_csv(file_path_PCA, encoding=\"utf-8\")\n",
    "data_tSNE = pd.read_csv(file_path_tSNE, encoding=\"utf-8\")\n",
    "data_ISOMAP = pd.read_csv(file_path_ISOMAP, encoding=\"utf-8\")\n",
    "data_UMAP = pd.read_csv(file_path_UMAP, encoding=\"utf-8\")\n",
    "print(data_UMAP.head(1))"
   ]
  },
  {
   "cell_type": "markdown",
   "id": "aca3b4f4-faac-407d-8aae-8fc9e28d1e26",
   "metadata": {},
   "source": [
    "## Data Preparation : standardisation + columns removal"
   ]
  },
  {
   "cell_type": "code",
   "execution_count": 3,
   "id": "8ba6dade-6595-4120-9eaf-1793fc7ba03e",
   "metadata": {},
   "outputs": [
    {
     "name": "stdout",
     "output_type": "stream",
     "text": [
      "[ 0.56743666  0.1044818   0.11736475  1.46994306 -1.18508298 -0.90158078\n",
      "  2.80136953  0.79697642 -0.48612876 -0.08026856  0.18905473  0.29270347\n",
      "  0.07825119  0.43794519 -0.29310798 -0.34096316 -0.21332355  0.26525129\n",
      "  1.31121381 -0.8077366   0.29055237 -0.05780127  0.30848187  0.84052315\n",
      " -0.67780731 -0.71694207  0.92552594 -0.98482329 -0.11390012  0.69540283\n",
      " -0.78968318  0.68479298  0.74040084 -1.54720902]\n"
     ]
    }
   ],
   "source": [
    "X_PCA = data_PCA.drop(columns=['player_name', 'equipe', 'positions']).copy()\n",
    "X_tSNE = data_tSNE.drop(columns=['player_name', 'equipe', 'positions']).copy()\n",
    "X_ISOMAP = data_ISOMAP.drop(columns=['player_name', 'equipe', 'positions']).copy()\n",
    "X_UMAP = data_UMAP.drop(columns=['player_name', 'equipe', 'positions','player_id','player_country_code', 'age']).copy()\n",
    "\n",
    "scaler = StandardScaler()\n",
    "X_PCA = scaler.fit_transform(X_PCA) \n",
    "X_tSNE = scaler.fit_transform(X_tSNE)\n",
    "X_ISOMAP = scaler.fit_transform(X_ISOMAP) \n",
    "X_UMAP = scaler.fit_transform(X_UMAP) \n",
    "print(X_PCA[1])"
   ]
  },
  {
   "cell_type": "markdown",
   "id": "57e1983a-4ab3-4b44-b343-9713c9fccfd9",
   "metadata": {},
   "source": [
    "## GridSearch Analysis"
   ]
  },
  {
   "cell_type": "code",
   "execution_count": 5,
   "id": "f0dee62e-9faf-45e8-bdb7-d643832a8823",
   "metadata": {},
   "outputs": [
    {
     "name": "stdout",
     "output_type": "stream",
     "text": [
      "\n",
      "📊 Classements et Scores (par combinaison n_components x covariance):\n",
      "               full_aic   full_bic  full_ch  full_db  full_sil  mdl_rk   cl_rk\n",
      "n_components                                                                  \n",
      "2             31009.889  35804.341    6.983    6.581     0.038    13.0   9.000\n",
      "3             30554.017  37747.598    6.586    6.052     0.024    14.0  10.667\n",
      "4             32105.958  41698.669    6.570    5.022     0.009    20.5  17.000\n",
      "5             28375.187  40367.028    7.317    4.542     0.014    16.5  13.000\n",
      "6             28012.355  42403.325    6.737    4.182     0.007    20.0  16.000\n",
      "7             25353.024  42143.124    6.764    3.931     0.020    18.5   9.667\n",
      "8             23041.854  42231.084    6.950    3.559     0.018    18.5   9.333\n",
      "9             21692.494  43280.854    7.018    3.451     0.014    19.0  11.667\n",
      "10            16714.996  40702.486    6.535    3.359     0.028    14.5   8.667\n",
      "11            14754.873  41141.492    6.293    3.278     0.017    14.5  13.000\n",
      "12            11492.659  40278.408    6.429    3.174     0.023    12.5   9.333\n",
      "13             6564.627  37749.506    6.517    3.045     0.012     9.5  14.333\n",
      "14             7924.566  41508.574    6.418    2.949     0.022    14.0   9.000\n",
      "15            -1269.149  34713.989    6.012    2.965     0.017     6.0  13.667\n",
      "16            -3982.341  34399.927    5.888    2.880     0.012     4.0  17.000\n",
      "17            -4121.057  36660.341    6.029    2.758     0.013     5.5  14.333\n",
      "18            -4894.580  38285.947    5.984    2.713     0.016     7.0  13.333\n",
      "19            -3888.111  41691.547    5.972    2.585     0.017    12.5  11.667\n",
      "20            -2663.017  45315.770    5.937    2.446     0.017    16.0  10.000\n",
      "21           -11657.759  38720.158    6.085    2.535     0.017     7.5  10.000\n",
      "22           -17631.486  35145.561    6.051    2.446     0.014     3.0  11.333\n",
      "23           -18359.139  36817.038    5.909    2.456     0.016     4.0  13.000\n",
      "24           -19105.888  38469.418    5.810    2.443     0.017     5.5  11.000\n",
      "\n",
      "📈 Moyenne des classements par type de covariance (tous n_components confondus):\n",
      "full    12.0\n",
      "dtype: float64\n",
      "\n",
      "📊 Classements et Scores (par combinaison n_components x covariance):\n",
      "              full_aic  full_bic  full_ch  full_db  full_sil  mdl_rk   cl_rk\n",
      "n_components                                                                \n",
      "2             3186.751  3299.124  268.581    0.983     0.380    16.0   1.333\n",
      "3             3088.944  3259.441  134.456    1.348     0.203    14.5  20.667\n",
      "4             2870.670  3099.291  195.787    0.763     0.317    11.5   4.000\n",
      "5             2797.578  3084.323  245.057    1.056     0.344    10.5   2.667\n",
      "6             2763.428  3108.297  221.821    1.204     0.329    11.0   4.333\n",
      "7             2718.714  3121.707  203.055    1.202     0.307     9.0   6.000\n",
      "8             2725.745  3186.862  212.317    1.052     0.317    10.5   4.000\n",
      "9             2718.963  3238.203  207.565    1.139     0.295    10.5   5.667\n",
      "10            2689.998  3267.363  175.347    1.308     0.232     9.0  12.333\n",
      "11            2747.760  3383.248  187.203    1.295     0.248    13.5   9.667\n",
      "12            2759.113  3452.726  182.046    1.346     0.237    15.0  13.333\n",
      "13            2690.707  3442.443  169.479    1.308     0.238    11.0  12.000\n",
      "14            2678.016  3487.877  159.780    1.380     0.213     9.5  18.333\n",
      "15            2681.193  3549.177  155.805    1.340     0.215    11.0  16.667\n",
      "16            2683.472  3609.580  160.166    1.310     0.230    12.0  14.667\n",
      "17            2701.448  3685.680  167.271    1.285     0.251    14.5  10.000\n",
      "18            2678.233  3720.589  156.624    1.310     0.236    12.0  14.667\n",
      "19            2652.505  3752.985  153.913    1.245     0.244    11.5  12.667\n",
      "20            2614.490  3773.094  145.032    1.341     0.232    11.5  17.333\n",
      "21            2696.380  3913.108  155.558    1.236     0.249    17.0  11.333\n",
      "22            2610.722  3885.574  120.676    1.385     0.205    11.5  22.333\n",
      "23            2559.189  3892.165  122.651    1.389     0.209    11.5  22.000\n",
      "24            2530.896  3921.996  125.322    1.366     0.213    12.0  20.000\n",
      "\n",
      "📈 Moyenne des classements par type de covariance (tous n_components confondus):\n",
      "full    12.0\n",
      "dtype: float64\n",
      "\n",
      "📊 Classements et Scores (par combinaison n_components x covariance):\n",
      "              full_aic  full_bic  full_ch  full_db  full_sil  mdl_rk   cl_rk\n",
      "n_components                                                                \n",
      "2             4486.151  4642.285   47.948    2.356     0.152    16.5  16.333\n",
      "3             4058.716  4294.821   40.432    2.095     0.079    12.0  22.667\n",
      "4             3907.491  4223.567   46.922    1.945     0.167    10.0  15.333\n",
      "5             3923.124  4319.171   49.427    1.793     0.168    11.5  12.000\n",
      "6             3938.853  4414.870   69.796    1.289     0.249    13.0   1.000\n",
      "7             3820.467  4376.456   56.580    1.549     0.222    10.5   7.333\n",
      "8             3811.823  4447.782   61.737    1.444     0.207    11.0   5.333\n",
      "9             3874.897  4590.827   64.080    1.363     0.203    13.0   3.333\n",
      "10            3703.030  4498.932   46.409    1.606     0.127    10.5  19.333\n",
      "11            3722.086  4597.959   55.092    1.570     0.183    12.0   9.000\n",
      "12            3693.936  4649.780   54.610    1.371     0.161    12.0   7.333\n",
      "13            3654.057  4689.872   48.902    1.531     0.148    11.0  13.000\n",
      "14            3681.391  4797.177   44.532    1.605     0.106    12.5  20.667\n",
      "15            3669.704  4865.461   54.199    1.338     0.172    12.5   5.000\n",
      "16            3608.907  4884.635   47.058    1.461     0.133    11.0  14.667\n",
      "17            3623.802  4979.501   49.851    1.421     0.137    12.5  11.333\n",
      "18            3611.499  5047.169   48.141    1.368     0.147    12.5  10.667\n",
      "19            3579.145  5094.786   45.116    1.485     0.128    12.0  17.667\n",
      "20            3510.096  5105.708   45.779    1.492     0.142    10.5  16.667\n",
      "21            3560.565  5236.148   45.906    1.489     0.128    12.5  17.000\n",
      "22            3547.689  5303.243   48.441    1.420     0.160    12.5  10.000\n",
      "23            3519.189  5354.713   47.649    1.376     0.160    12.5  11.000\n",
      "24            3468.473  5383.969   47.056    1.338     0.162    12.0   9.333\n",
      "\n",
      "📈 Moyenne des classements par type de covariance (tous n_components confondus):\n",
      "full    12.0\n",
      "dtype: float64\n",
      "\n",
      "📊 Classements et Scores (par combinaison n_components x covariance):\n",
      "              full_aic  full_bic  full_ch  full_db  full_sil  mdl_rk   cl_rk\n",
      "n_components                                                                \n",
      "2             3179.575  3335.709  243.861    1.125     0.364    15.5   2.333\n",
      "3             2959.191  3195.296  228.501    1.166     0.338    12.0   3.667\n",
      "4             2896.347  3212.423  208.988    1.095     0.315    12.5   3.667\n",
      "5             2798.405  3194.452  189.192    1.131     0.288    10.5   6.333\n",
      "6             2734.820  3210.838  203.952    1.084     0.335    11.0   3.000\n",
      "7             2685.547  3241.536  199.077    0.986     0.325    11.5   3.333\n",
      "8             2622.695  3258.655  166.455    1.281     0.259    11.5  13.000\n",
      "9             2595.926  3311.857  162.112    1.267     0.259    11.0  12.333\n",
      "10            2604.020  3399.922  181.291    1.119     0.296    12.5   5.667\n",
      "11            2570.457  3446.330  169.928    1.214     0.259    11.0   9.667\n",
      "12            2590.258  3546.102  174.503    1.219     0.261    12.5   8.667\n",
      "13            2564.631  3600.445  161.821    1.254     0.248    10.5  12.667\n",
      "14            2535.807  3651.593  156.097    1.289     0.235     9.5  16.333\n",
      "15            2534.834  3730.591  153.461    1.313     0.228     9.5  18.333\n",
      "16            2531.057  3806.784  152.233    1.276     0.237     9.5  15.333\n",
      "17            2573.931  3929.630  144.577    1.242     0.226    14.5  16.000\n",
      "18            2504.027  3939.697  139.493    1.259     0.221     9.5  18.667\n",
      "19            2551.468  4067.109  141.313    1.230     0.235    13.0  14.667\n",
      "20            2565.260  4160.872  142.728    1.206     0.233    14.5  13.667\n",
      "21            2570.438  4246.021  139.548    1.261     0.231    15.5  17.333\n",
      "22            2536.016  4291.570  135.792    1.245     0.227    14.0  17.667\n",
      "23            2504.056  4339.581  128.694    1.289     0.213    12.5  21.667\n",
      "24            2485.896  4401.392  126.501    1.286     0.208    12.0  22.000\n",
      "\n",
      "📈 Moyenne des classements par type de covariance (tous n_components confondus):\n",
      "full    12.0\n",
      "dtype: float64\n"
     ]
    }
   ],
   "source": [
    "def gmm_gridsearch(X, n_components_range=range(2, 8), cov_types=['full','tied','diag','spherical'], random_state=42, verbose=True):\n",
    "    results = []\n",
    "\n",
    "    for n in n_components_range:\n",
    "        for cov in cov_types:\n",
    "            gmm = GaussianMixture(n_components=n, covariance_type=cov, random_state=random_state)\n",
    "            gmm.fit(X)\n",
    "            labels = gmm.predict(X)\n",
    "\n",
    "            bic = gmm.bic(X)\n",
    "            aic = gmm.aic(X)\n",
    "            #resposabilites = gmm.predict_proba(X)\n",
    "            convergence = gmm.converged_\n",
    "\n",
    "            try:\n",
    "                sil_score = silhouette_score(X, labels)\n",
    "                db_score = davies_bouldin_score(X, labels)\n",
    "                ch_score = calinski_harabasz_score(X, labels)\n",
    "            except Exception as e:\n",
    "                sil_score = np.nan\n",
    "                db_score = np.nan\n",
    "                ch_score = np.nan\n",
    "            results.append(\n",
    "                'n_components': n,\n",
    "                'covariance_type': cov,\n",
    "                'BIC': bic,\n",
    "                'AIC': aic,\n",
    "                'silhouette_score': sil_score,\n",
    "                'davies_bouldin': db_score,\n",
    "                'calinski_harabasz': ch_score,\n",
    "                #'resposabilites': resposabilites,\n",
    "                'converged': convergence\n",
    "            })\n",
    "\n",
    "    results_df = pd.DataFrame(results)\n",
    "\n",
    "    metrics = ['BIC', 'AIC', 'silhouette_score', 'davies_bouldin', 'calinski_harabasz']\n",
    "    pivot_df = results_df.pivot(index='n_components', columns='covariance_type')[metrics]\n",
    "\n",
    "    flat_df = pivot_df.swaplevel(axis=1).sort_index(axis=1)\n",
    "    flat_df.columns = [f\"{cov}_{metric}\" for cov, metric in flat_df.columns]\n",
    "\n",
    "    # Classements sur chaque indicateur\n",
    "    rank_df = pd.DataFrame(index=flat_df.index)\n",
    "\n",
    "    for col in flat_df.columns:\n",
    "        metric = col.split(\"_\", 1)[1]\n",
    "        if metric in ['BIC', 'AIC', 'davies_bouldin']:\n",
    "            rank_df[col] = flat_df[col].rank(method='min', ascending=True)\n",
    "        else:\n",
    "            rank_df[col] = flat_df[col].rank(method='min', ascending=False)\n",
    "\n",
    "    # Moyenne qualité de modélisation (AIC + BIC)\n",
    "    model_cols = [col for col in rank_df.columns if 'AIC' in col or 'BIC' in col]\n",
    "    rank_df['mean_model_score'] = rank_df[model_cols].mean(axis=1)\n",
    "\n",
    "    # Moyenne qualité de clustering (silhouette + db + ch)\n",
    "    cluster_cols = [col for col in rank_df.columns if any(m in col for m in ['silhouette', 'davies', 'calinski'])]\n",
    "    rank_df['mean_cluster_score'] = rank_df[cluster_cols].mean(axis=1)\n",
    "\n",
    "    # Moyenne par covariance type\n",
    "    covariance_scores = {}\n",
    "    for cov in cov_types:\n",
    "        cov_cols = [col for col in rank_df.columns if col.startswith(cov)]\n",
    "        covariance_scores[cov] = rank_df[cov_cols].mean().mean()  # moyenne sur toutes les lignes\n",
    "\n",
    "    covariance_df = pd.Series(covariance_scores).sort_values()\n",
    "\n",
    "    # Affichage\n",
    "    print(\"\\n📊 Classements et Scores (par combinaison n_components x covariance):\")\n",
    "    cols_to_show = [col for col in flat_df.columns if any(m in col for m in['BIC', 'AIC', 'silhouette', 'davies', 'calinski'])]\n",
    "    rank_df['mdl_rk'] = rank_df['mean_model_score']\n",
    "    rank_df['cl_rk'] = rank_df['mean_cluster_score']\n",
    "\n",
    "    rename_map = {}\n",
    "    for col in cols_to_show:\n",
    "        cov, metric = col.split(\"_\", 1)\n",
    "        short_metric = (metric\n",
    "                        .replace('silhouette_score', 'sil')\n",
    "                        .replace('davies_bouldin', 'db')\n",
    "                        .replace('calinski_harabasz', 'ch')\n",
    "                        .replace('BIC', 'bic')\n",
    "                        .replace('AIC', 'aic'))\n",
    "        rename_map[col] = f\"{cov}_{short_metric}\"\n",
    "    \n",
    "    short_df = flat_df[cols_to_show].rename(columns=rename_map)\n",
    "    combined_df = pd.concat(\n",
    "        [short_df, rank_df[['mdl_rk', 'cl_rk']]],\n",
    "        axis=1\n",
    "    )\n",
    "    print(combined_df.round(3))\n",
    "\n",
    "    print(\"\\n📈 Moyenne des classements par type de covariance (tous n_components confondus):\")\n",
    "    print(covariance_df)\n",
    "\n",
    "    return results_df, rank_df\n",
    "\n",
    "\n",
    "gmm_results_PCA = gmm_gridsearch(X_PCA, n_components_range=range(2,25), cov_types=['full'], random_state=42)\n",
    "gmm_results_tSNE = gmm_gridsearch(X_tSNE, n_components_range=range(2,25), cov_types=['full'], random_state=42)\n",
    "gmm_results_ISOMAP = gmm_gridsearch(X_ISOMAP, n_components_range=range(2,25), cov_types=['full'], random_state=42)\n",
    "gmm_results_UMAP = gmm_gridsearch(X_UMAP, n_components_range=range(2,25), cov_types=['full'], random_state=42)"
   ]
  },
  {
   "cell_type": "markdown",
   "id": "41979036-1906-407e-b33c-1248a38c37aa",
   "metadata": {},
   "source": [
    "## Run Gaussian mixtures"
   ]
  },
  {
   "cell_type": "code",
   "execution_count": 6,
   "id": "23a23680-090c-44c7-a510-90157c93cc35",
   "metadata": {},
   "outputs": [],
   "source": [
    "def run_gmm(X, data, n_clusters, random_state=42, covariance_type='full', name=\"\"):\n",
    "    gmm = GaussianMixture(n_components=n_clusters, covariance_type=covariance_type, random_state=random_state)\n",
    "    gmm.fit(X)\n",
    "    labels = gmm.predict(X)\n",
    "\n",
    "    df = pd.DataFrame(X, columns=[f'{name}_{i+1}' for i in range(X.shape[1])])\n",
    "    df[\"cluster\"] = labels\n",
    "\n",
    "    meta_cols = ['player_name', 'equipe', 'positions']\n",
    "    df_meta = data[meta_cols].copy()\n",
    "    df_meta.index = df.index \n",
    "    df = df_meta.join(df)\n",
    "    \n",
    "    return df, gmm\n",
    "\n",
    "X_gmm_PCA_best, gmm_PCA_best = run_gmm(X_PCA, data_PCA, n_clusters = 10, covariance_type = \"full\", random_state = 42, name = \"PCA\")\n",
    "X_gmm_tSNE_best, gmm_tSNE_best = run_gmm(X_tSNE, data_tSNE, n_clusters = 5, covariance_type = \"full\", random_state = 42, name = \"tsne\")\n",
    "X_gmm_ISOMAP_best, gmm_ISOMAP_best = run_gmm(X_ISOMAP, data_ISOMAP, n_clusters = 6, covariance_type = \"full\", random_state = 42, name = \"isomap\")\n",
    "X_gmm_UMAP_best, gmm_UMAP_best = run_gmm(X_UMAP, data_UMAP, n_clusters = 6, covariance_type = \"full\", random_state = 42, name = \"UMAP\")"
   ]
  },
  {
   "cell_type": "markdown",
   "id": "e37ae328-17f7-46db-8ece-f6aaacf291eb",
   "metadata": {},
   "source": [
    "## Results Display"
   ]
  },
  {
   "cell_type": "code",
   "execution_count": 7,
   "id": "82890738-5e3e-4f58-9083-bde1a10ac92c",
   "metadata": {},
   "outputs": [
    {
     "name": "stdout",
     "output_type": "stream",
     "text": [
      "============================================================\n",
      "============RESULTS EN 3D===============\n",
      "============================================================\n"
     ]
    },
    {
     "data": {
      "application/vnd.plotly.v1+json": {
       "config": {
        "plotlyServerURL": "https://plot.ly"
       },
       "data": [
        {
         "customdata": [
          [
           "Jordan Lefort",
           "DF"
          ],
          [
           "Andrey Santos",
           "MF"
          ],
          [
           "Valentin Atangana Edoa",
           "MF"
          ],
          [
           "Himad Abdelli",
           "MF,FW"
          ],
          [
           "Mason Greenwood",
           "FW,MF"
          ],
          [
           "Zuriko Davitashvili",
           "FW,MF"
          ],
          [
           "Gautier Lloris",
           "DF"
          ],
          [
           "Matthis Abline",
           "FW"
          ],
          [
           "Bafodé Diakité",
           "DF"
          ],
          [
           "Adrien Truffert",
           "DF,MF"
          ],
          [
           "Moussa Niakhate",
           "DF"
          ],
          [
           "Guela Doué",
           "DF"
          ],
          [
           "Alexsandro Ribeiro",
           "DF"
          ],
          [
           "Cristian Cásseres Jr.",
           "MF"
          ],
          [
           "Benjamin André",
           "MF"
          ],
          [
           "Gaëtan Perrin",
           "MF,FW"
          ],
          [
           "Junya Ito",
           "FW,MF"
          ],
          [
           "Aron Dønnum",
           "DF,MF"
          ],
          [
           "Kenny Lala",
           "DF"
          ],
          [
           "Florent Hanin",
           "DF"
          ],
          [
           "Pierre Højbjerg",
           "MF"
          ],
          [
           "Mahdi Camara",
           "MF,FW"
          ],
          [
           "Keito Nakamura",
           "FW,MF"
          ],
          [
           "Jubal",
           "DF"
          ],
          [
           "Ismaël Doukouré",
           "DF,MF"
          ],
          [
           "Léo Pétrot",
           "DF"
          ],
          [
           "Jean-Charles Castelletto",
           "DF,MF"
          ],
          [
           "Adrien Thomasson",
           "MF"
          ],
          [
           "Luis Henrique",
           "DF,FW"
          ],
          [
           "Moses Simon",
           "FW,MF"
          ],
          [
           "Charlie Cresswell",
           "DF"
          ],
          [
           "Arnaud Kalimuendo",
           "FW,MF"
          ],
          [
           "Pierre Ekwah Elimby",
           "MF"
          ],
          [
           "Diego Moreira",
           "DF,MF"
          ],
          [
           "Evann Guessand",
           "FW,MF"
          ],
          [
           "Jonathan David",
           "FW"
          ],
          [
           "Facundo Medina",
           "DF"
          ],
          [
           "Sergio Akieme",
           "DF"
          ],
          [
           "Dilane Bakwa",
           "MF,DF"
          ],
          [
           "Mark McKenzie",
           "DF"
          ],
          [
           "Ludovic Ajorque",
           "FW"
          ],
          [
           "Clément Akpa",
           "DF"
          ],
          [
           "Adrien Rabiot",
           "MF"
          ],
          [
           "Loïc Nego",
           "DF,FW"
          ],
          [
           "Michael Amir Murillo",
           "DF"
          ],
          [
           "Hicham Boudaoui",
           "MF"
          ],
          [
           "Brendan Chardonnet",
           "DF"
          ],
          [
           "Maghnes Akliouche",
           "FW,MF"
          ],
          [
           "Vincent Sierro",
           "MF"
          ],
          [
           "Thilo Kehrer",
           "DF"
          ],
          [
           "Clinton Mata",
           "DF"
          ],
          [
           "Mamadou Sarr",
           "DF"
          ],
          [
           "Téji Savanier",
           "MF"
          ],
          [
           "Lorenz Assignon",
           "DF,MF"
          ],
          [
           "Habib Diarra",
           "MF,FW"
          ],
          [
           "Pedro Chirivella",
           "MF"
          ],
          [
           "Elisha Owusu",
           "MF"
          ],
          [
           "Yann Gboho",
           "MF,FW"
          ],
          [
           "Corentin Tolisso",
           "MF"
          ],
          [
           "Abdoulaye Touré",
           "MF"
          ],
          [
           "Hugo Magnetti",
           "MF"
          ],
          [
           "Etienne Youte Kinkoue",
           "DF"
          ],
          [
           "Douglas",
           "MF"
          ],
          [
           "Mickael Nade",
           "DF"
          ],
          [
           "Jonathan Clauss",
           "DF,MF"
          ],
          [
           "Lassine Sinayoko",
           "FW,MF"
          ],
          [
           "Ludovic Blas",
           "MF,FW"
          ],
          [
           "Emanuel Emegha",
           "FW"
          ],
          [
           "Gideon Mensah",
           "DF"
          ],
          [
           "Leonardo Balerdi",
           "DF"
          ],
          [
           "Takumi Minamino",
           "MF,FW"
          ],
          [
           "Andy Diouf",
           "MF"
          ],
          [
           "Moïse Bombito",
           "DF"
          ],
          [
           "Cédric Kipré",
           "DF"
          ],
          [
           "Bradley Barcola",
           "FW"
          ],
          [
           "Kelvin Amian",
           "DF"
          ],
          [
           "Gabriel Suazo",
           "DF"
          ],
          [
           "Denis Zakaria",
           "MF"
          ],
          [
           "Modibo Sagnan",
           "DF"
          ],
          [
           "Willian Pacho",
           "DF"
          ],
          [
           "Dennis Appiah",
           "DF"
          ],
          [
           "Ki-Jana Hoever",
           "DF"
          ],
          [
           "Jonathan Gradit",
           "DF"
          ],
          [
           "Sebastian Nanasi",
           "MF,FW"
          ],
          [
           "Djibril Sidibé",
           "DF"
          ],
          [
           "Yassine Kechta",
           "MF,FW"
          ],
          [
           "Wilfried Singo",
           "DF"
          ],
          [
           "Hamed Junior Traorè",
           "MF"
          ],
          [
           "Azor Matusiwa",
           "MF"
          ],
          [
           "Achraf Hakimi",
           "DF"
          ],
          [
           "Vanderson",
           "DF"
          ],
          [
           "Lamine Camara",
           "MF"
          ],
          [
           "Alexandre Lacazette",
           "FW"
          ],
          [
           "Nicolas Cozza",
           "DF,MF"
          ],
          [
           "Warren Zaïre-Emery",
           "MF,DF"
          ],
          [
           "Johann Lepenant",
           "MF"
          ],
          [
           "Carlens Arcus",
           "DF"
          ],
          [
           "Vitinha",
           "MF"
          ],
          [
           "Rayan Cherki",
           "FW,MF"
          ],
          [
           "Geoffrey Kondogbia",
           "DF,MF"
          ],
          [
           "Nicolas Pallois",
           "DF"
          ],
          [
           "Dylan Batubinsika",
           "DF"
          ],
          [
           "Lucas Beraldo",
           "DF"
          ],
          [
           "Nemanja Matić",
           "MF"
          ],
          [
           "Josué Casimir",
           "FW,MF"
          ],
          [
           "Ainsley Maitland-Niles",
           "DF"
          ],
          [
           "Aurélio Buta",
           "DF"
          ],
          [
           "Dante",
           "DF"
          ],
          [
           "Jean-Eudes Aholou",
           "MF"
          ],
          [
           "Sinaly Diomande",
           "DF"
          ],
          [
           "Melvin Bard",
           "DF,MF"
          ],
          [
           "Youssouf Ndayishimiye",
           "DF"
          ],
          [
           "Caio Henrique Oliveira Silva",
           "DF"
          ],
          [
           "Thomas Meunier",
           "DF"
          ],
          [
           "Fabián Ruiz Peña",
           "MF"
          ],
          [
           "Issa Soumaré",
           "FW,MF"
          ],
          [
           "Nicolás Tagliafico",
           "DF"
          ],
          [
           "Zakaria Aboukhlal",
           "MF,FW"
          ],
          [
           "Enzo Tchato",
           "DF"
          ],
          [
           "Farid El Melali",
           "FW"
          ],
          [
           "Joris Chotard",
           "MF"
          ],
          [
           "Lucas Stassin",
           "FW"
          ],
          [
           "João Neves",
           "MF,DF"
          ],
          [
           "Breel Embolo",
           "FW,MF"
          ],
          [
           "Gaëtan Laborde",
           "FW"
          ],
          [
           "Deiver Machado",
           "DF,MF"
          ],
          [
           "Becir Omeragic",
           "DF"
          ],
          [
           "Florian Sotoca",
           "FW,MF"
          ],
          [
           "Haris Belkebla",
           "MF"
          ],
          [
           "Gabriel Gudmundsson",
           "DF"
          ],
          [
           "Félix Lemaréchal",
           "MF,FW"
          ],
          [
           "Pablo Rosario",
           "MF,DF"
          ],
          [
           "Jordan Ferri",
           "MF"
          ],
          [
           "Benjamin Bouchouari",
           "MF"
          ],
          [
           "Hákon Arnar Haraldsson",
           "MF,FW"
          ],
          [
           "Jim Allevinah",
           "FW"
          ],
          [
           "Eliesse Ben Seghir",
           "MF,FW"
          ],
          [
           "Aïssa Mandi",
           "DF"
          ],
          [
           "Ousmane Dembélé",
           "FW"
          ],
          [
           "Désiré Doué",
           "FW,MF"
          ],
          [
           "Marquinhos",
           "DF"
          ],
          [
           "Abdoulaye Niakhate Ndiaye",
           "DF"
          ],
          [
           "Joseph Okumu",
           "DF"
          ],
          [
           "Marshall Munetsi",
           "MF"
          ],
          [
           "Rabby Nzingoula",
           "MF"
          ],
          [
           "Hans Hateboer",
           "DF"
          ],
          [
           "Massadio Haïdara",
           "DF"
          ],
          [
           "Nuno Mendes",
           "DF"
          ],
          [
           "Joshua King",
           "FW,MF"
          ],
          [
           "Lee Kang-in",
           "FW,MF"
          ],
          [
           "Gabriel Osho",
           "DF"
          ],
          [
           "Esteban Lepaul",
           "FW"
          ],
          [
           "Oumar Diakité",
           "FW"
          ],
          [
           "Mohamed Ali Cho",
           "FW,MF"
          ],
          [
           "Quentin Merlin",
           "DF"
          ],
          [
           "Malick Fofana",
           "FW"
          ],
          [
           "Neil El Aynaoui",
           "MF"
          ],
          [
           "Duje Ćaleta-Car",
           "DF"
          ],
          [
           "Mathias Pereira Lage",
           "FW,MF"
          ],
          [
           "Valentin Rongier",
           "MF,DF"
          ],
          [
           "Jordan Veretout",
           "MF"
          ],
          [
           "Pierre Lees-Melou",
           "MF"
          ],
          [
           "Yassin Belkhdim",
           "MF"
          ],
          [
           "Frank Magri",
           "FW,MF"
          ],
          [
           "Nathan Zeze",
           "DF"
          ],
          [
           "Abdoulaye Bamba",
           "DF"
          ],
          [
           "Christian Mawissa",
           "DF"
          ],
          [
           "Tanguy Coulibaly",
           "FW,MF"
          ],
          [
           "M'Bala Nzola",
           "FW"
          ],
          [
           "Kévin Danois",
           "MF"
          ],
          [
           "Christopher Wooh",
           "DF"
          ],
          [
           "André Ayew",
           "FW"
          ],
          [
           "Georges Mikautadze",
           "FW"
          ],
          [
           "Derek Cornelius",
           "DF"
          ],
          [
           "Anass Zaroury",
           "FW,MF"
          ],
          [
           "Ali Abdi",
           "DF,MF"
          ],
          [
           "Przemysław Frankowski",
           "DF"
          ],
          [
           "Malang Sarr",
           "DF"
          ],
          [
           "Julien Le Cardinal",
           "DF"
          ],
          [
           "Emmanuel Biumla",
           "DF"
          ],
          [
           "Kamory Doumbia",
           "MF,FW"
          ],
          [
           "Sorba Thomas",
           "FW,MF"
          ],
          [
           "Lilian Raolisoa",
           "DF,FW"
          ],
          [
           "Amadou Koné",
           "MF"
          ],
          [
           "Osame Sahraoui",
           "FW,MF"
          ],
          [
           "André Gomes",
           "MF"
          ],
          [
           "Emmanuel Agbadou",
           "DF"
          ],
          [
           "Romain Del Castillo",
           "FW"
          ],
          [
           "Mostafa Mohamed",
           "FW"
          ],
          [
           "Florian Tardieu",
           "MF"
          ],
          [
           "Arouna Sangante",
           "DF"
          ],
          [
           "Abdallah Sima",
           "FW,MF"
          ],
          [
           "Tanner Tessmann",
           "MF"
          ],
          [
           "Lilian Brassier",
           "DF"
          ],
          [
           "Falaye Sacko",
           "DF"
          ],
          [
           "Mika Biereth",
           "FW"
          ],
          [
           "Leo Skiri Østigård",
           "DF"
          ],
          [
           "Ngal'Ayel Mukau",
           "MF"
          ],
          [
           "Shavy Babicka",
           "MF,FW"
          ],
          [
           "Jordan James",
           "MF"
          ],
          [
           "Christopher Operi",
           "DF,FW"
          ],
          [
           "Arnaud Nordin",
           "FW"
          ],
          [
           "Nhoa Sangui",
           "DF,MF"
          ],
          [
           "Valentín Barco",
           "MF,DF"
          ],
          [
           "Issiaga Sylla",
           "DF"
          ],
          [
           "Aleksandr Golovin",
           "MF,FW"
          ],
          [
           "Ayyoub Bouaddi",
           "MF"
          ],
          [
           "Mama Samba Baldé",
           "FW"
          ],
          [
           "Mitchel Bakker",
           "FW,DF"
          ],
          [
           "Tanguy Ndombele",
           "MF"
          ],
          [
           "Mory Gbane",
           "DF,MF"
          ],
          [
           "Ruben Aguilar",
           "DF,MF"
          ],
          [
           "Djaoui Cissé",
           "MF"
          ],
          [
           "Wahbi Khazri",
           "FW,MF"
          ],
          [
           "Musa Al-Taamari",
           "FW,MF"
          ],
          [
           "Timothee Pembele",
           "DF"
          ],
          [
           "Jaydee Canvot",
           "DF,MF"
          ],
          [
           "Edimilson Fernandes",
           "MF,DF"
          ],
          [
           "Badredine Bouanani",
           "MF,FW"
          ],
          [
           "Abner",
           "DF"
          ],
          [
           "Kevin Danso",
           "DF"
          ],
          [
           "Akor Adams",
           "FW"
          ],
          [
           "Gonçalo Ramos",
           "FW"
          ],
          [
           "Matias Fernandez-Pardo",
           "FW,MF"
          ],
          [
           "Sofiane Diop",
           "MF,FW"
          ],
          [
           "Irvin Cardona",
           "FW"
          ],
          [
           "Rassoul Ndiaye",
           "MF"
          ],
          [
           "Jeremie Boga",
           "MF,FW"
          ],
          [
           "Ernest Nuamah",
           "FW,MF"
          ],
          [
           "Amine Gouiri",
           "FW,MF"
          ],
          [
           "Han-Noah Massengo",
           "MF"
          ],
          [
           "Angelo Fulgini",
           "MF,FW"
          ],
          [
           "Louis Mouton",
           "MF"
          ],
          [
           "Neal Maupay",
           "FW"
          ],
          [
           "Aimen Moueffek",
           "MF"
          ],
          [
           "Yunis Abdelhamid",
           "DF"
          ],
          [
           "Khalil Fayad",
           "MF,FW"
          ],
          [
           "Soungoutou Magassa",
           "MF"
          ],
          [
           "Mohammed Salisu",
           "DF"
          ],
          [
           "Warren Kamanzi",
           "DF,MF"
          ],
          [
           "Saidou Sow",
           "DF"
          ],
          [
           "Théo Sainte-Luce",
           "DF"
          ],
          [
           "Rémy Cabella",
           "FW,MF"
          ],
          [
           "Paul Joly",
           "DF"
          ],
          [
           "Oussama Targhalline",
           "MF"
          ],
          [
           "Edon Zhegrova",
           "FW,MF"
          ],
          [
           "Yanis Zouaoui",
           "DF,FW"
          ],
          [
           "Abdukodir Khusanov",
           "DF"
          ],
          [
           "Anthony Rouault",
           "DF"
          ],
          [
           "Ado Onaiwu",
           "MF,FW"
          ],
          [
           "Junior Mwanga",
           "MF"
          ],
          [
           "Thiago Almada",
           "MF,FW"
          ],
          [
           "Sael Kumbedi",
           "DF"
          ],
          [
           "Marcus Coco",
           "DF"
          ],
          [
           "Abakar Sylla",
           "DF"
          ],
          [
           "Yael Mouanga",
           "DF"
          ],
          [
           "Antoine Joujou",
           "MF,FW"
          ],
          [
           "Ibrahima Niane",
           "FW"
          ],
          [
           "Theo Bair",
           "FW"
          ],
          [
           "Ulisses Garcia",
           "DF"
          ],
          [
           "Jérémy Jacquet",
           "DF"
          ],
          [
           "Baptiste Santamaria",
           "MF"
          ],
          [
           "Khvicha Kvaratskhelia",
           "FW"
          ],
          [
           "Wesley Saïd",
           "FW"
          ],
          [
           "Ismaily",
           "DF"
          ],
          [
           "Romain Faivre",
           "MF,FW"
          ],
          [
           "Hiroki Sekine",
           "DF"
          ],
          [
           "Goduine Koyalipou",
           "FW"
          ],
          [
           "Lucas Hernández",
           "DF"
          ],
          [
           "Mathis Amougou",
           "MF"
          ],
          [
           "Mamadou Diakhon",
           "FW,MF"
          ],
          [
           "Mohamed Abdelmoneim",
           "DF"
          ],
          [
           "Koka",
           "FW"
          ],
          [
           "Zinedine Ferhat",
           "FW,MF"
          ],
          [
           "Seko Fofana",
           "MF"
          ],
          [
           "Antoine Mendy",
           "DF"
          ],
          [
           "Ibrahim Sissoko",
           "FW"
          ],
          [
           "Louis Leroux",
           "MF,DF"
          ],
          [
           "Albert Grønbaek",
           "MF,FW"
          ],
          [
           "Senny Mayulu",
           "MF"
          ],
          [
           "Jonathan Rowe",
           "FW,MF"
          ],
          [
           "Alidu Seidu",
           "DF"
          ],
          [
           "Yoann Salmier",
           "DF"
          ],
          [
           "Yvann Macon",
           "DF"
          ],
          [
           "Jordan Amavi",
           "DF"
          ],
          [
           "Tom Louchet",
           "DF,MF"
          ],
          [
           "Sekou Mara",
           "FW,MF"
          ],
          [
           "Maxime Bernauer",
           "DF"
          ],
          [
           "Boubakar Kouyaté",
           "DF"
          ],
          [
           "Teddy Teuma",
           "MF"
          ],
          [
           "Angel Gomes",
           "MF"
          ],
          [
           "Saïd Benrahma",
           "FW,MF"
          ],
          [
           "Augustine Boakye",
           "FW,MF"
          ],
          [
           "Mathieu Cafaro",
           "MF,FW"
          ],
          [
           "Rayan Raveloson",
           "MF,DF"
          ],
          [
           "George Ilenikhena",
           "FW"
          ],
          [
           "Lucas Mincarelli",
           "DF"
          ],
          [
           "Jacques Ekomie",
           "DF,FW"
          ],
          [
           "Mikayil Ngor Faye",
           "DF"
          ],
          [
           "Abdulai Juma Bah",
           "DF"
          ],
          [
           "Pol Lirola",
           "DF"
          ],
          [
           "Assane Dioussé",
           "MF"
          ],
          [
           "Glen Kamara",
           "MF"
          ],
          [
           "Emmanuel Sabbi",
           "FW,MF"
          ],
          [
           "Ismaël Bennacer",
           "MF"
          ],
          [
           "Chuba Akpom",
           "FW"
          ],
          [
           "Luck Zogbé",
           "DF"
          ],
          [
           "Rémy Labeau Lascary",
           "FW,MF"
          ],
          [
           "Yaya Kader Fofana",
           "MF,FW"
          ],
          [
           "Rasmus Nicolaisen",
           "DF"
          ],
          [
           "Marco Asensio",
           "FW,MF"
          ],
          [
           "Folarin Balogun",
           "FW"
          ],
          [
           "Andy Delort",
           "FW"
          ],
          [
           "Jhoanner Chávez",
           "DF,MF"
          ],
          [
           "Fodé Ballo-Touré",
           "DF,MF"
          ],
          [
           "Nampalys Mendy",
           "MF"
          ],
          [
           "Mahamadou Diawara",
           "MF"
          ],
          [
           "Nikola Maksimović",
           "DF"
          ],
          [
           "Pierre Cornud",
           "DF"
          ],
          [
           "Florian Ayé",
           "FW"
          ],
          [
           "Elye Wahi",
           "FW"
          ],
          [
           "Maxence Caqueret",
           "MF"
          ],
          [
           "Jordan Teze",
           "DF"
          ],
          [
           "Daler Kuzyaev",
           "MF"
          ],
          [
           "John Joe",
           "MF"
          ],
          [
           "Mohamed Meité",
           "FW"
          ],
          [
           "Andrew Omobamidele",
           "DF"
          ],
          [
           "Jean-Kevin Duverne",
           "DF"
          ],
          [
           "Bamba Dieng",
           "FW"
          ],
          [
           "Ben Old",
           "FW,MF"
          ],
          [
           "Amine Harit",
           "MF"
          ],
          [
           "Tino Kadewere",
           "MF,FW"
          ],
          [
           "Krépin Diatta",
           "DF,FW"
          ]
         ],
         "hovertemplate": "PCA_1=%{x}<br>PCA_2=%{y}<br>PCA_3=%{z}<br>player_name=%{customdata[0]}<br>positions=%{customdata[1]}<br>cluster=%{marker.color}<extra></extra>",
         "legendgroup": "",
         "marker": {
          "color": {
           "bdata": "BAkGBAAGCQIIAwQJCAQBAgMDAgYIBgIABAkJAQMCBAAJCQQABgMDBgIGCQQIBAQEBggECAYBAwYGAgkABgkJCQMGBwIJCAQGBAQCBAMJAggJAgQDBgYEAgkIBAMABggGBggDCAQJCAYGBgYEBAQEBAMBBwIBBgYHBgIIBAAEBAQGAwIECQkGAgMGAgcHCQkEBAYEAwQDBAIGAwMCAAQJCQYCBgQEBAgJAgYEBAAIAwEBCQcEBwMGCQIGAgACCQQCBgkJAAQGBAYDAAYJAgQGAgQEBAECBgIEBgkCBgEGAAcEAgYECQIHAwYEBgQFBAgGCQQBCQYCAwkIAgYGAwYFBAIAAgYGCQQEAQQDAgUGAgQCBgYGAAQGBgEBCQEJBgMCBAYGBgIJAgYGAwkEBQYGBAcACQYGBQgCBAMDBwYCCQIABgQEBgYEAQAEBAQE",
           "dtype": "i1"
          },
          "coloraxis": "coloraxis",
          "symbol": "circle"
         },
         "mode": "markers",
         "name": "",
         "scene": "scene",
         "showlegend": false,
         "type": "scatter3d",
         "x": {
          "bdata": "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",
          "dtype": "f8"
         },
         "y": {
          "bdata": "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",
          "dtype": "f8"
         },
         "z": {
          "bdata": "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",
          "dtype": "f8"
         }
        }
       ],
       "layout": {
        "coloraxis": {
         "colorbar": {
          "title": {
           "text": "cluster"
          }
         },
         "colorscale": [
          [
           0,
           "#0d0887"
          ],
          [
           0.1111111111111111,
           "#46039f"
          ],
          [
           0.2222222222222222,
           "#7201a8"
          ],
          [
           0.3333333333333333,
           "#9c179e"
          ],
          [
           0.4444444444444444,
           "#bd3786"
          ],
          [
           0.5555555555555556,
           "#d8576b"
          ],
          [
           0.6666666666666666,
           "#ed7953"
          ],
          [
           0.7777777777777778,
           "#fb9f3a"
          ],
          [
           0.8888888888888888,
           "#fdca26"
          ],
          [
           1,
           "#f0f921"
          ]
         ]
        },
        "height": 700,
        "legend": {
         "tracegroupgap": 0
        },
        "scene": {
         "domain": {
          "x": [
           0,
           1
          ],
          "y": [
           0,
           1
          ]
         },
         "xaxis": {
          "title": {
           "text": "PCA_1"
          }
         },
         "yaxis": {
          "title": {
           "text": "PCA_2"
          }
         },
         "zaxis": {
          "title": {
           "text": "PCA_3"
          }
         }
        },
        "template": {
         "data": {
          "bar": [
           {
            "error_x": {
             "color": "#2a3f5f"
            },
            "error_y": {
             "color": "#2a3f5f"
            },
            "marker": {
             "line": {
              "color": "#E5ECF6",
              "width": 0.5
             },
             "pattern": {
              "fillmode": "overlay",
              "size": 10,
              "solidity": 0.2
             }
            },
            "type": "bar"
           }
          ],
          "barpolar": [
           {
            "marker": {
             "line": {
              "color": "#E5ECF6",
              "width": 0.5
             },
             "pattern": {
              "fillmode": "overlay",
              "size": 10,
              "solidity": 0.2
             }
            },
            "type": "barpolar"
           }
          ],
          "carpet": [
           {
            "aaxis": {
             "endlinecolor": "#2a3f5f",
             "gridcolor": "white",
             "linecolor": "white",
             "minorgridcolor": "white",
             "startlinecolor": "#2a3f5f"
            },
            "baxis": {
             "endlinecolor": "#2a3f5f",
             "gridcolor": "white",
             "linecolor": "white",
             "minorgridcolor": "white",
             "startlinecolor": "#2a3f5f"
            },
            "type": "carpet"
           }
          ],
          "choropleth": [
           {
            "colorbar": {
             "outlinewidth": 0,
             "ticks": ""
            },
            "type": "choropleth"
           }
          ],
          "contour": [
           {
            "colorbar": {
             "outlinewidth": 0,
             "ticks": ""
            },
            "colorscale": [
             [
              0,
              "#0d0887"
             ],
             [
              0.1111111111111111,
              "#46039f"
             ],
             [
              0.2222222222222222,
              "#7201a8"
             ],
             [
              0.3333333333333333,
              "#9c179e"
             ],
             [
              0.4444444444444444,
              "#bd3786"
             ],
             [
              0.5555555555555556,
              "#d8576b"
             ],
             [
              0.6666666666666666,
              "#ed7953"
             ],
             [
              0.7777777777777778,
              "#fb9f3a"
             ],
             [
              0.8888888888888888,
              "#fdca26"
             ],
             [
              1,
              "#f0f921"
             ]
            ],
            "type": "contour"
           }
          ],
          "contourcarpet": [
           {
            "colorbar": {
             "outlinewidth": 0,
             "ticks": ""
            },
            "type": "contourcarpet"
           }
          ],
          "heatmap": [
           {
            "colorbar": {
             "outlinewidth": 0,
             "ticks": ""
            },
            "colorscale": [
             [
              0,
              "#0d0887"
             ],
             [
              0.1111111111111111,
              "#46039f"
             ],
             [
              0.2222222222222222,
              "#7201a8"
             ],
             [
              0.3333333333333333,
              "#9c179e"
             ],
             [
              0.4444444444444444,
              "#bd3786"
             ],
             [
              0.5555555555555556,
              "#d8576b"
             ],
             [
              0.6666666666666666,
              "#ed7953"
             ],
             [
              0.7777777777777778,
              "#fb9f3a"
             ],
             [
              0.8888888888888888,
              "#fdca26"
             ],
             [
              1,
              "#f0f921"
             ]
            ],
            "type": "heatmap"
           }
          ],
          "histogram": [
           {
            "marker": {
             "pattern": {
              "fillmode": "overlay",
              "size": 10,
              "solidity": 0.2
             }
            },
            "type": "histogram"
           }
          ],
          "histogram2d": [
           {
            "colorbar": {
             "outlinewidth": 0,
             "ticks": ""
            },
            "colorscale": [
             [
              0,
              "#0d0887"
             ],
             [
              0.1111111111111111,
              "#46039f"
             ],
             [
              0.2222222222222222,
              "#7201a8"
             ],
             [
              0.3333333333333333,
              "#9c179e"
             ],
             [
              0.4444444444444444,
              "#bd3786"
             ],
             [
              0.5555555555555556,
              "#d8576b"
             ],
             [
              0.6666666666666666,
              "#ed7953"
             ],
             [
              0.7777777777777778,
              "#fb9f3a"
             ],
             [
              0.8888888888888888,
              "#fdca26"
             ],
             [
              1,
              "#f0f921"
             ]
            ],
            "type": "histogram2d"
           }
          ],
          "histogram2dcontour": [
           {
            "colorbar": {
             "outlinewidth": 0,
             "ticks": ""
            },
            "colorscale": [
             [
              0,
              "#0d0887"
             ],
             [
              0.1111111111111111,
              "#46039f"
             ],
             [
              0.2222222222222222,
              "#7201a8"
             ],
             [
              0.3333333333333333,
              "#9c179e"
             ],
             [
              0.4444444444444444,
              "#bd3786"
             ],
             [
              0.5555555555555556,
              "#d8576b"
             ],
             [
              0.6666666666666666,
              "#ed7953"
             ],
             [
              0.7777777777777778,
              "#fb9f3a"
             ],
             [
              0.8888888888888888,
              "#fdca26"
             ],
             [
              1,
              "#f0f921"
             ]
            ],
            "type": "histogram2dcontour"
           }
          ],
          "mesh3d": [
           {
            "colorbar": {
             "outlinewidth": 0,
             "ticks": ""
            },
            "type": "mesh3d"
           }
          ],
          "parcoords": [
           {
            "line": {
             "colorbar": {
              "outlinewidth": 0,
              "ticks": ""
             }
            },
            "type": "parcoords"
           }
          ],
          "pie": [
           {
            "automargin": true,
            "type": "pie"
           }
          ],
          "scatter": [
           {
            "fillpattern": {
             "fillmode": "overlay",
             "size": 10,
             "solidity": 0.2
            },
            "type": "scatter"
           }
          ],
          "scatter3d": [
           {
            "line": {
             "colorbar": {
              "outlinewidth": 0,
              "ticks": ""
             }
            },
            "marker": {
             "colorbar": {
              "outlinewidth": 0,
              "ticks": ""
             }
            },
            "type": "scatter3d"
           }
          ],
          "scattercarpet": [
           {
            "marker": {
             "colorbar": {
              "outlinewidth": 0,
              "ticks": ""
             }
            },
            "type": "scattercarpet"
           }
          ],
          "scattergeo": [
           {
            "marker": {
             "colorbar": {
              "outlinewidth": 0,
              "ticks": ""
             }
            },
            "type": "scattergeo"
           }
          ],
          "scattergl": [
           {
            "marker": {
             "colorbar": {
              "outlinewidth": 0,
              "ticks": ""
             }
            },
            "type": "scattergl"
           }
          ],
          "scattermap": [
           {
            "marker": {
             "colorbar": {
              "outlinewidth": 0,
              "ticks": ""
             }
            },
            "type": "scattermap"
           }
          ],
          "scattermapbox": [
           {
            "marker": {
             "colorbar": {
              "outlinewidth": 0,
              "ticks": ""
             }
            },
            "type": "scattermapbox"
           }
          ],
          "scatterpolar": [
           {
            "marker": {
             "colorbar": {
              "outlinewidth": 0,
              "ticks": ""
             }
            },
            "type": "scatterpolar"
           }
          ],
          "scatterpolargl": [
           {
            "marker": {
             "colorbar": {
              "outlinewidth": 0,
              "ticks": ""
             }
            },
            "type": "scatterpolargl"
           }
          ],
          "scatterternary": [
           {
            "marker": {
             "colorbar": {
              "outlinewidth": 0,
              "ticks": ""
             }
            },
            "type": "scatterternary"
           }
          ],
          "surface": [
           {
            "colorbar": {
             "outlinewidth": 0,
             "ticks": ""
            },
            "colorscale": [
             [
              0,
              "#0d0887"
             ],
             [
              0.1111111111111111,
              "#46039f"
             ],
             [
              0.2222222222222222,
              "#7201a8"
             ],
             [
              0.3333333333333333,
              "#9c179e"
             ],
             [
              0.4444444444444444,
              "#bd3786"
             ],
             [
              0.5555555555555556,
              "#d8576b"
             ],
             [
              0.6666666666666666,
              "#ed7953"
             ],
             [
              0.7777777777777778,
              "#fb9f3a"
             ],
             [
              0.8888888888888888,
              "#fdca26"
             ],
             [
              1,
              "#f0f921"
             ]
            ],
            "type": "surface"
           }
          ],
          "table": [
           {
            "cells": {
             "fill": {
              "color": "#EBF0F8"
             },
             "line": {
              "color": "white"
             }
            },
            "header": {
             "fill": {
              "color": "#C8D4E3"
             },
             "line": {
              "color": "white"
             }
            },
            "type": "table"
           }
          ]
         },
         "layout": {
          "annotationdefaults": {
           "arrowcolor": "#2a3f5f",
           "arrowhead": 0,
           "arrowwidth": 1
          },
          "autotypenumbers": "strict",
          "coloraxis": {
           "colorbar": {
            "outlinewidth": 0,
            "ticks": ""
           }
          },
          "colorscale": {
           "diverging": [
            [
             0,
             "#8e0152"
            ],
            [
             0.1,
             "#c51b7d"
            ],
            [
             0.2,
             "#de77ae"
            ],
            [
             0.3,
             "#f1b6da"
            ],
            [
             0.4,
             "#fde0ef"
            ],
            [
             0.5,
             "#f7f7f7"
            ],
            [
             0.6,
             "#e6f5d0"
            ],
            [
             0.7,
             "#b8e186"
            ],
            [
             0.8,
             "#7fbc41"
            ],
            [
             0.9,
             "#4d9221"
            ],
            [
             1,
             "#276419"
            ]
           ],
           "sequential": [
            [
             0,
             "#0d0887"
            ],
            [
             0.1111111111111111,
             "#46039f"
            ],
            [
             0.2222222222222222,
             "#7201a8"
            ],
            [
             0.3333333333333333,
             "#9c179e"
            ],
            [
             0.4444444444444444,
             "#bd3786"
            ],
            [
             0.5555555555555556,
             "#d8576b"
            ],
            [
             0.6666666666666666,
             "#ed7953"
            ],
            [
             0.7777777777777778,
             "#fb9f3a"
            ],
            [
             0.8888888888888888,
             "#fdca26"
            ],
            [
             1,
             "#f0f921"
            ]
           ],
           "sequentialminus": [
            [
             0,
             "#0d0887"
            ],
            [
             0.1111111111111111,
             "#46039f"
            ],
            [
             0.2222222222222222,
             "#7201a8"
            ],
            [
             0.3333333333333333,
             "#9c179e"
            ],
            [
             0.4444444444444444,
             "#bd3786"
            ],
            [
             0.5555555555555556,
             "#d8576b"
            ],
            [
             0.6666666666666666,
             "#ed7953"
            ],
            [
             0.7777777777777778,
             "#fb9f3a"
            ],
            [
             0.8888888888888888,
             "#fdca26"
            ],
            [
             1,
             "#f0f921"
            ]
           ]
          },
          "colorway": [
           "#636efa",
           "#EF553B",
           "#00cc96",
           "#ab63fa",
           "#FFA15A",
           "#19d3f3",
           "#FF6692",
           "#B6E880",
           "#FF97FF",
           "#FECB52"
          ],
          "font": {
           "color": "#2a3f5f"
          },
          "geo": {
           "bgcolor": "white",
           "lakecolor": "white",
           "landcolor": "#E5ECF6",
           "showlakes": true,
           "showland": true,
           "subunitcolor": "white"
          },
          "hoverlabel": {
           "align": "left"
          },
          "hovermode": "closest",
          "mapbox": {
           "style": "light"
          },
          "paper_bgcolor": "white",
          "plot_bgcolor": "#E5ECF6",
          "polar": {
           "angularaxis": {
            "gridcolor": "white",
            "linecolor": "white",
            "ticks": ""
           },
           "bgcolor": "#E5ECF6",
           "radialaxis": {
            "gridcolor": "white",
            "linecolor": "white",
            "ticks": ""
           }
          },
          "scene": {
           "xaxis": {
            "backgroundcolor": "#E5ECF6",
            "gridcolor": "white",
            "gridwidth": 2,
            "linecolor": "white",
            "showbackground": true,
            "ticks": "",
            "zerolinecolor": "white"
           },
           "yaxis": {
            "backgroundcolor": "#E5ECF6",
            "gridcolor": "white",
            "gridwidth": 2,
            "linecolor": "white",
            "showbackground": true,
            "ticks": "",
            "zerolinecolor": "white"
           },
           "zaxis": {
            "backgroundcolor": "#E5ECF6",
            "gridcolor": "white",
            "gridwidth": 2,
            "linecolor": "white",
            "showbackground": true,
            "ticks": "",
            "zerolinecolor": "white"
           }
          },
          "shapedefaults": {
           "line": {
            "color": "#2a3f5f"
           }
          },
          "ternary": {
           "aaxis": {
            "gridcolor": "white",
            "linecolor": "white",
            "ticks": ""
           },
           "baxis": {
            "gridcolor": "white",
            "linecolor": "white",
            "ticks": ""
           },
           "bgcolor": "#E5ECF6",
           "caxis": {
            "gridcolor": "white",
            "linecolor": "white",
            "ticks": ""
           }
          },
          "title": {
           "x": 0.05
          },
          "xaxis": {
           "automargin": true,
           "gridcolor": "white",
           "linecolor": "white",
           "ticks": "",
           "title": {
            "standoff": 15
           },
           "zerolinecolor": "white",
           "zerolinewidth": 2
          },
          "yaxis": {
           "automargin": true,
           "gridcolor": "white",
           "linecolor": "white",
           "ticks": "",
           "title": {
            "standoff": 15
           },
           "zerolinecolor": "white",
           "zerolinewidth": 2
          }
         }
        },
        "title": {
         "text": "Clusters GMM sur données PCA (3D)"
        },
        "width": 900
       }
      },
      "image/png": "[encoded data removed]"
     },
     "metadata": {},
     "output_type": "display_data"
    },
    {
     "data": {
      "application/vnd.plotly.v1+json": {
       "config": {
        "plotlyServerURL": "https://plot.ly"
       },
       "data": [
        {
         "customdata": [
          [
           "Gautier Larsonneur",
           "GK"
          ],
          [
           "Jordan Lefort",
           "DF"
          ],
          [
           "Gerónimo Rulli",
           "GK"
          ],
          [
           "Lucas Chevalier",
           "GK"
          ],
          [
           "Marcin Bułka",
           "GK"
          ],
          [
           "Yehvann Diouf",
           "GK"
          ],
          [
           "Lucas Perri",
           "GK"
          ],
          [
           "Yahia Fofana",
           "GK"
          ],
          [
           "Marco Bizot",
           "GK"
          ],
          [
           "Donovan Léon",
           "GK"
          ],
          [
           "Andrey Santos",
           "MF"
          ],
          [
           "Valentin Atangana Edoa",
           "MF"
          ],
          [
           "Himad Abdelli",
           "MF,FW"
          ],
          [
           "Mason Greenwood",
           "FW,MF"
          ],
          [
           "Đorđe Petrović",
           "GK"
          ],
          [
           "Zuriko Davitashvili",
           "FW,MF"
          ],
          [
           "Gautier Lloris",
           "DF"
          ],
          [
           "Matthis Abline",
           "FW"
          ],
          [
           "Bafodé Diakité",
           "DF"
          ],
          [
           "Adrien Truffert",
           "DF,MF"
          ],
          [
           "Moussa Niakhate",
           "DF"
          ],
          [
           "Guela Doué",
           "DF"
          ],
          [
           "Alexsandro Ribeiro",
           "DF"
          ],
          [
           "Benjamin Lecomte",
           "GK"
          ],
          [
           "Cristian Cásseres Jr.",
           "MF"
          ],
          [
           "Benjamin André",
           "MF"
          ],
          [
           "Gaëtan Perrin",
           "MF,FW"
          ],
          [
           "Junya Ito",
           "FW,MF"
          ],
          [
           "Aron Dønnum",
           "DF,MF"
          ],
          [
           "Kenny Lala",
           "DF"
          ],
          [
           "Florent Hanin",
           "DF"
          ],
          [
           "Pierre Højbjerg",
           "MF"
          ],
          [
           "Mahdi Camara",
           "MF,FW"
          ],
          [
           "Keito Nakamura",
           "FW,MF"
          ],
          [
           "Jubal",
           "DF"
          ],
          [
           "Ismaël Doukouré",
           "DF,MF"
          ],
          [
           "Léo Pétrot",
           "DF"
          ],
          [
           "Jean-Charles Castelletto",
           "DF,MF"
          ],
          [
           "Adrien Thomasson",
           "MF"
          ],
          [
           "Luis Henrique",
           "DF,FW"
          ],
          [
           "Moses Simon",
           "FW,MF"
          ],
          [
           "Charlie Cresswell",
           "DF"
          ],
          [
           "Arnaud Kalimuendo",
           "FW,MF"
          ],
          [
           "Pierre Ekwah Elimby",
           "MF"
          ],
          [
           "Diego Moreira",
           "DF,MF"
          ],
          [
           "Evann Guessand",
           "FW,MF"
          ],
          [
           "Jonathan David",
           "FW"
          ],
          [
           "Guillaume Restes",
           "GK"
          ],
          [
           "Facundo Medina",
           "DF"
          ],
          [
           "Sergio Akieme",
           "DF"
          ],
          [
           "Dilane Bakwa",
           "MF,DF"
          ],
          [
           "Mark McKenzie",
           "DF"
          ],
          [
           "Ludovic Ajorque",
           "FW"
          ],
          [
           "Clément Akpa",
           "DF"
          ],
          [
           "Adrien Rabiot",
           "MF"
          ],
          [
           "Loïc Nego",
           "DF,FW"
          ],
          [
           "Michael Amir Murillo",
           "DF"
          ],
          [
           "Hicham Boudaoui",
           "MF"
          ],
          [
           "Brendan Chardonnet",
           "DF"
          ],
          [
           "Maghnes Akliouche",
           "FW,MF"
          ],
          [
           "Vincent Sierro",
           "MF"
          ],
          [
           "Thilo Kehrer",
           "DF"
          ],
          [
           "Clinton Mata",
           "DF"
          ],
          [
           "Mamadou Sarr",
           "DF"
          ],
          [
           "Téji Savanier",
           "MF"
          ],
          [
           "Lorenz Assignon",
           "DF,MF"
          ],
          [
           "Habib Diarra",
           "MF,FW"
          ],
          [
           "Pedro Chirivella",
           "MF"
          ],
          [
           "Elisha Owusu",
           "MF"
          ],
          [
           "Yann Gboho",
           "MF,FW"
          ],
          [
           "Corentin Tolisso",
           "MF"
          ],
          [
           "Abdoulaye Touré",
           "MF"
          ],
          [
           "Hugo Magnetti",
           "MF"
          ],
          [
           "Etienne Youte Kinkoue",
           "DF"
          ],
          [
           "Douglas",
           "MF"
          ],
          [
           "Mickael Nade",
           "DF"
          ],
          [
           "Jonathan Clauss",
           "DF,MF"
          ],
          [
           "Lassine Sinayoko",
           "FW,MF"
          ],
          [
           "Ludovic Blas",
           "MF,FW"
          ],
          [
           "Emanuel Emegha",
           "FW"
          ],
          [
           "Gideon Mensah",
           "DF"
          ],
          [
           "Leonardo Balerdi",
           "DF"
          ],
          [
           "Takumi Minamino",
           "MF,FW"
          ],
          [
           "Andy Diouf",
           "MF"
          ],
          [
           "Moïse Bombito",
           "DF"
          ],
          [
           "Cédric Kipré",
           "DF"
          ],
          [
           "Bradley Barcola",
           "FW"
          ],
          [
           "Kelvin Amian",
           "DF"
          ],
          [
           "Gabriel Suazo",
           "DF"
          ],
          [
           "Denis Zakaria",
           "MF"
          ],
          [
           "Modibo Sagnan",
           "DF"
          ],
          [
           "Willian Pacho",
           "DF"
          ],
          [
           "Dennis Appiah",
           "DF"
          ],
          [
           "Ki-Jana Hoever",
           "DF"
          ],
          [
           "Jonathan Gradit",
           "DF"
          ],
          [
           "Sebastian Nanasi",
           "MF,FW"
          ],
          [
           "Djibril Sidibé",
           "DF"
          ],
          [
           "Yassine Kechta",
           "MF,FW"
          ],
          [
           "Wilfried Singo",
           "DF"
          ],
          [
           "Hamed Junior Traorè",
           "MF"
          ],
          [
           "Gianluigi Donnarumma",
           "GK"
          ],
          [
           "Azor Matusiwa",
           "MF"
          ],
          [
           "Achraf Hakimi",
           "DF"
          ],
          [
           "Vanderson",
           "DF"
          ],
          [
           "Lamine Camara",
           "MF"
          ],
          [
           "Alexandre Lacazette",
           "FW"
          ],
          [
           "Nicolas Cozza",
           "DF,MF"
          ],
          [
           "Warren Zaïre-Emery",
           "MF,DF"
          ],
          [
           "Johann Lepenant",
           "MF"
          ],
          [
           "Carlens Arcus",
           "DF"
          ],
          [
           "Vitinha",
           "MF"
          ],
          [
           "Rayan Cherki",
           "FW,MF"
          ],
          [
           "Geoffrey Kondogbia",
           "DF,MF"
          ],
          [
           "Nicolas Pallois",
           "DF"
          ],
          [
           "Dylan Batubinsika",
           "DF"
          ],
          [
           "Lucas Beraldo",
           "DF"
          ],
          [
           "Nemanja Matić",
           "MF"
          ],
          [
           "Josué Casimir",
           "FW,MF"
          ],
          [
           "Ainsley Maitland-Niles",
           "DF"
          ],
          [
           "Aurélio Buta",
           "DF"
          ],
          [
           "Dante",
           "DF"
          ],
          [
           "Jean-Eudes Aholou",
           "MF"
          ],
          [
           "Sinaly Diomande",
           "DF"
          ],
          [
           "Melvin Bard",
           "DF,MF"
          ],
          [
           "Youssouf Ndayishimiye",
           "DF"
          ],
          [
           "Caio Henrique Oliveira Silva",
           "DF"
          ],
          [
           "Thomas Meunier",
           "DF"
          ],
          [
           "Fabián Ruiz Peña",
           "MF"
          ],
          [
           "Issa Soumaré",
           "FW,MF"
          ],
          [
           "Nicolás Tagliafico",
           "DF"
          ],
          [
           "Zakaria Aboukhlal",
           "MF,FW"
          ],
          [
           "Enzo Tchato",
           "DF"
          ],
          [
           "Farid El Melali",
           "FW"
          ],
          [
           "Joris Chotard",
           "MF"
          ],
          [
           "Lucas Stassin",
           "FW"
          ],
          [
           "João Neves",
           "MF,DF"
          ],
          [
           "Breel Embolo",
           "FW,MF"
          ],
          [
           "Gaëtan Laborde",
           "FW"
          ],
          [
           "Deiver Machado",
           "DF,MF"
          ],
          [
           "Becir Omeragic",
           "DF"
          ],
          [
           "Florian Sotoca",
           "FW,MF"
          ],
          [
           "Haris Belkebla",
           "MF"
          ],
          [
           "Gabriel Gudmundsson",
           "DF"
          ],
          [
           "Félix Lemaréchal",
           "MF,FW"
          ],
          [
           "Pablo Rosario",
           "MF,DF"
          ],
          [
           "Jordan Ferri",
           "MF"
          ],
          [
           "Benjamin Bouchouari",
           "MF"
          ],
          [
           "Hákon Arnar Haraldsson",
           "MF,FW"
          ],
          [
           "Jim Allevinah",
           "FW"
          ],
          [
           "Eliesse Ben Seghir",
           "MF,FW"
          ],
          [
           "Aïssa Mandi",
           "DF"
          ],
          [
           "Ousmane Dembélé",
           "FW"
          ],
          [
           "Désiré Doué",
           "FW,MF"
          ],
          [
           "Marquinhos",
           "DF"
          ],
          [
           "Philipp Köhn",
           "GK"
          ],
          [
           "Abdoulaye Niakhate Ndiaye",
           "DF"
          ],
          [
           "Joseph Okumu",
           "DF"
          ],
          [
           "Marshall Munetsi",
           "MF"
          ],
          [
           "Rabby Nzingoula",
           "MF"
          ],
          [
           "Hans Hateboer",
           "DF"
          ],
          [
           "Massadio Haïdara",
           "DF"
          ],
          [
           "Nuno Mendes",
           "DF"
          ],
          [
           "Joshua King",
           "FW,MF"
          ],
          [
           "Lee Kang-in",
           "FW,MF"
          ],
          [
           "Gabriel Osho",
           "DF"
          ],
          [
           "Esteban Lepaul",
           "FW"
          ],
          [
           "Oumar Diakité",
           "FW"
          ],
          [
           "Mohamed Ali Cho",
           "FW,MF"
          ],
          [
           "Arthur Desmas",
           "GK"
          ],
          [
           "Quentin Merlin",
           "DF"
          ],
          [
           "Malick Fofana",
           "FW"
          ],
          [
           "Neil El Aynaoui",
           "MF"
          ],
          [
           "Duje Ćaleta-Car",
           "DF"
          ],
          [
           "Mathias Pereira Lage",
           "FW,MF"
          ],
          [
           "Anthony Lopes",
           "GK"
          ],
          [
           "Valentin Rongier",
           "MF,DF"
          ],
          [
           "Jordan Veretout",
           "MF"
          ],
          [
           "Brice Samba",
           "GK"
          ],
          [
           "Pierre Lees-Melou",
           "MF"
          ],
          [
           "Yassin Belkhdim",
           "MF"
          ],
          [
           "Frank Magri",
           "FW,MF"
          ],
          [
           "Nathan Zeze",
           "DF"
          ],
          [
           "Abdoulaye Bamba",
           "DF"
          ],
          [
           "Christian Mawissa",
           "DF"
          ],
          [
           "Steve Mandanda",
           "GK"
          ],
          [
           "Tanguy Coulibaly",
           "FW,MF"
          ],
          [
           "M'Bala Nzola",
           "FW"
          ],
          [
           "Kévin Danois",
           "MF"
          ],
          [
           "Christopher Wooh",
           "DF"
          ],
          [
           "André Ayew",
           "FW"
          ],
          [
           "Georges Mikautadze",
           "FW"
          ],
          [
           "Mathieu Gorgelin",
           "GK"
          ],
          [
           "Derek Cornelius",
           "DF"
          ],
          [
           "Anass Zaroury",
           "FW,MF"
          ],
          [
           "Ali Abdi",
           "DF,MF"
          ],
          [
           "Przemysław Frankowski",
           "DF"
          ],
          [
           "Malang Sarr",
           "DF"
          ],
          [
           "Julien Le Cardinal",
           "DF"
          ],
          [
           "Radosław Majecki",
           "GK"
          ],
          [
           "Emmanuel Biumla",
           "DF"
          ],
          [
           "Kamory Doumbia",
           "MF,FW"
          ],
          [
           "Sorba Thomas",
           "FW,MF"
          ],
          [
           "Lilian Raolisoa",
           "DF,FW"
          ],
          [
           "Amadou Koné",
           "MF"
          ],
          [
           "Osame Sahraoui",
           "FW,MF"
          ],
          [
           "André Gomes",
           "MF"
          ],
          [
           "Mathew Ryan",
           "GK"
          ],
          [
           "Emmanuel Agbadou",
           "DF"
          ],
          [
           "Romain Del Castillo",
           "FW"
          ],
          [
           "Mostafa Mohamed",
           "FW"
          ],
          [
           "Florian Tardieu",
           "MF"
          ],
          [
           "Arouna Sangante",
           "DF"
          ],
          [
           "Abdallah Sima",
           "FW,MF"
          ],
          [
           "Tanner Tessmann",
           "MF"
          ],
          [
           "Lilian Brassier",
           "DF"
          ],
          [
           "Falaye Sacko",
           "DF"
          ],
          [
           "Mika Biereth",
           "FW"
          ],
          [
           "Leo Skiri Østigård",
           "DF"
          ],
          [
           "Ngal'Ayel Mukau",
           "MF"
          ],
          [
           "Shavy Babicka",
           "MF,FW"
          ],
          [
           "Jordan James",
           "MF"
          ],
          [
           "Christopher Operi",
           "DF,FW"
          ],
          [
           "Arnaud Nordin",
           "FW"
          ],
          [
           "Nhoa Sangui",
           "DF,MF"
          ],
          [
           "Valentín Barco",
           "MF,DF"
          ],
          [
           "Issiaga Sylla",
           "DF"
          ],
          [
           "Aleksandr Golovin",
           "MF,FW"
          ],
          [
           "Ayyoub Bouaddi",
           "MF"
          ],
          [
           "Mama Samba Baldé",
           "FW"
          ],
          [
           "Mitchel Bakker",
           "FW,DF"
          ],
          [
           "Tanguy Ndombele",
           "MF"
          ],
          [
           "Mory Gbane",
           "DF,MF"
          ],
          [
           "Ruben Aguilar",
           "DF,MF"
          ],
          [
           "Djaoui Cissé",
           "MF"
          ],
          [
           "Wahbi Khazri",
           "FW,MF"
          ],
          [
           "Musa Al-Taamari",
           "FW,MF"
          ],
          [
           "Timothee Pembele",
           "DF"
          ],
          [
           "Jaydee Canvot",
           "DF,MF"
          ],
          [
           "Edimilson Fernandes",
           "MF,DF"
          ],
          [
           "Badredine Bouanani",
           "MF,FW"
          ],
          [
           "Abner",
           "DF"
          ],
          [
           "Alban Lafont",
           "GK"
          ],
          [
           "Kevin Danso",
           "DF"
          ],
          [
           "Akor Adams",
           "FW"
          ],
          [
           "Gonçalo Ramos",
           "FW"
          ],
          [
           "Matias Fernandez-Pardo",
           "FW,MF"
          ],
          [
           "Sofiane Diop",
           "MF,FW"
          ],
          [
           "Irvin Cardona",
           "FW"
          ],
          [
           "Rassoul Ndiaye",
           "MF"
          ],
          [
           "Jeremie Boga",
           "MF,FW"
          ],
          [
           "Ernest Nuamah",
           "FW,MF"
          ],
          [
           "Amine Gouiri",
           "FW,MF"
          ],
          [
           "Han-Noah Massengo",
           "MF"
          ],
          [
           "Angelo Fulgini",
           "MF,FW"
          ],
          [
           "Louis Mouton",
           "MF"
          ],
          [
           "Neal Maupay",
           "FW"
          ],
          [
           "Aimen Moueffek",
           "MF"
          ],
          [
           "Yunis Abdelhamid",
           "DF"
          ],
          [
           "Khalil Fayad",
           "MF,FW"
          ],
          [
           "Soungoutou Magassa",
           "MF"
          ],
          [
           "Mohammed Salisu",
           "DF"
          ],
          [
           "Warren Kamanzi",
           "DF,MF"
          ],
          [
           "Saidou Sow",
           "DF"
          ],
          [
           "Théo Sainte-Luce",
           "DF"
          ],
          [
           "Rémy Cabella",
           "FW,MF"
          ],
          [
           "Paul Joly",
           "DF"
          ],
          [
           "Oussama Targhalline",
           "MF"
          ],
          [
           "Edon Zhegrova",
           "FW,MF"
          ],
          [
           "Yanis Zouaoui",
           "DF,FW"
          ],
          [
           "Abdukodir Khusanov",
           "DF"
          ],
          [
           "Anthony Rouault",
           "DF"
          ],
          [
           "Ado Onaiwu",
           "MF,FW"
          ],
          [
           "Junior Mwanga",
           "MF"
          ],
          [
           "Thiago Almada",
           "MF,FW"
          ],
          [
           "Sael Kumbedi",
           "DF"
          ],
          [
           "Marcus Coco",
           "DF"
          ],
          [
           "Abakar Sylla",
           "DF"
          ],
          [
           "Yael Mouanga",
           "DF"
          ],
          [
           "Antoine Joujou",
           "MF,FW"
          ],
          [
           "Ibrahima Niane",
           "FW"
          ],
          [
           "Theo Bair",
           "FW"
          ],
          [
           "Ulisses Garcia",
           "DF"
          ],
          [
           "Jérémy Jacquet",
           "DF"
          ],
          [
           "Baptiste Santamaria",
           "MF"
          ],
          [
           "Khvicha Kvaratskhelia",
           "FW"
          ],
          [
           "Wesley Saïd",
           "FW"
          ],
          [
           "Ismaily",
           "DF"
          ],
          [
           "Romain Faivre",
           "MF,FW"
          ],
          [
           "Hiroki Sekine",
           "DF"
          ],
          [
           "Goduine Koyalipou",
           "FW"
          ],
          [
           "Matvei Safonov",
           "GK"
          ],
          [
           "Lucas Hernández",
           "DF"
          ],
          [
           "Mathis Amougou",
           "MF"
          ],
          [
           "Mamadou Diakhon",
           "FW,MF"
          ],
          [
           "Mohamed Abdelmoneim",
           "DF"
          ],
          [
           "Koka",
           "FW"
          ],
          [
           "Zinedine Ferhat",
           "FW,MF"
          ],
          [
           "Seko Fofana",
           "MF"
          ],
          [
           "Antoine Mendy",
           "DF"
          ],
          [
           "Ibrahim Sissoko",
           "FW"
          ],
          [
           "Louis Leroux",
           "MF,DF"
          ],
          [
           "Albert Grønbaek",
           "MF,FW"
          ],
          [
           "Senny Mayulu",
           "MF"
          ],
          [
           "Jonathan Rowe",
           "FW,MF"
          ],
          [
           "Alidu Seidu",
           "DF"
          ],
          [
           "Yoann Salmier",
           "DF"
          ],
          [
           "Yvann Macon",
           "DF"
          ],
          [
           "Jordan Amavi",
           "DF"
          ],
          [
           "Tom Louchet",
           "DF,MF"
          ],
          [
           "Sekou Mara",
           "FW,MF"
          ],
          [
           "Maxime Bernauer",
           "DF"
          ],
          [
           "Boubakar Kouyaté",
           "DF"
          ],
          [
           "Teddy Teuma",
           "MF"
          ],
          [
           "Angel Gomes",
           "MF"
          ],
          [
           "Saïd Benrahma",
           "FW,MF"
          ],
          [
           "Augustine Boakye",
           "FW,MF"
          ],
          [
           "Mathieu Cafaro",
           "MF,FW"
          ],
          [
           "Rayan Raveloson",
           "MF,DF"
          ],
          [
           "George Ilenikhena",
           "FW"
          ],
          [
           "Lucas Mincarelli",
           "DF"
          ],
          [
           "Jacques Ekomie",
           "DF,FW"
          ],
          [
           "Mikayil Ngor Faye",
           "DF"
          ],
          [
           "Abdulai Juma Bah",
           "DF"
          ],
          [
           "Pol Lirola",
           "DF"
          ],
          [
           "Assane Dioussé",
           "MF"
          ],
          [
           "Glen Kamara",
           "MF"
          ],
          [
           "Emmanuel Sabbi",
           "FW,MF"
          ],
          [
           "Ismaël Bennacer",
           "MF"
          ],
          [
           "Chuba Akpom",
           "FW"
          ],
          [
           "Luck Zogbé",
           "DF"
          ],
          [
           "Rémy Labeau Lascary",
           "FW,MF"
          ],
          [
           "Yaya Kader Fofana",
           "MF,FW"
          ],
          [
           "Rasmus Nicolaisen",
           "DF"
          ],
          [
           "Marco Asensio",
           "FW,MF"
          ],
          [
           "Folarin Balogun",
           "FW"
          ],
          [
           "Andy Delort",
           "FW"
          ],
          [
           "Jhoanner Chávez",
           "DF,MF"
          ],
          [
           "Fodé Ballo-Touré",
           "DF,MF"
          ],
          [
           "Nampalys Mendy",
           "MF"
          ],
          [
           "Mahamadou Diawara",
           "MF"
          ],
          [
           "Nikola Maksimović",
           "DF"
          ],
          [
           "Pierre Cornud",
           "DF"
          ],
          [
           "Florian Ayé",
           "FW"
          ],
          [
           "Elye Wahi",
           "FW"
          ],
          [
           "Maxence Caqueret",
           "MF"
          ],
          [
           "Jordan Teze",
           "DF"
          ],
          [
           "Daler Kuzyaev",
           "MF"
          ],
          [
           "John Joe",
           "MF"
          ],
          [
           "Mohamed Meité",
           "FW"
          ],
          [
           "Andrew Omobamidele",
           "DF"
          ],
          [
           "Jean-Kevin Duverne",
           "DF"
          ],
          [
           "Bamba Dieng",
           "FW"
          ],
          [
           "Ben Old",
           "FW,MF"
          ],
          [
           "Amine Harit",
           "MF"
          ],
          [
           "Tino Kadewere",
           "MF,FW"
          ],
          [
           "Krépin Diatta",
           "DF,FW"
          ]
         ],
         "hovertemplate": "tsne_1=%{x}<br>tsne_2=%{y}<br>tsne_3=%{z}<br>player_name=%{customdata[0]}<br>positions=%{customdata[1]}<br>cluster=%{marker.color}<extra></extra>",
         "legendgroup": "",
         "marker": {
          "color": {
           "bdata": "AwQDAwMDAwMDAwAAAgIDAgQBBAAEBAQDAAACAgIAAAQAAQQEAAQAAgIEAQACAQEDBAACBAEEAAAEAAQCAAQEBAICAAQAAgAAAAQABAIBAgEABAECBAQCAAIABAQAAAQCAAAEAQMABAACAQAEAAAEAgQEBAQEAQAABAAEAAQCAAQBAAEAAgABBAEBAAQCAAABAAQAAgECBAICBAMEBAEABAAEAQIEAQECAwICAAQCAwQAAwAAAQQEBAMBAQAEAQEDBAIAAAQEAwQAAgIAAgQDBAIBBAQBBAQAAQQAAQACAQAAAAAAAQIABAAAAQIABAQCAAMEAQECAgEAAgICAAIAAQAEAAAEAAQAAgAAAgIEBAEAAgAABAQCAQEABAACAQACAAEDBAACBAECBAABAAICAgAEAAAAAQQEAgICAQEAAQAABAQEBAABBAEAAQEEAgEBAAAAAAQAAQEAAAAAAQQAAQECAQA=",
           "dtype": "i1"
          },
          "coloraxis": "coloraxis",
          "symbol": "circle"
         },
         "mode": "markers",
         "name": "",
         "scene": "scene",
         "showlegend": false,
         "type": "scatter3d",
         "x": {
          "bdata": "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",
          "dtype": "f8"
         },
         "y": {
          "bdata": "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",
          "dtype": "f8"
         },
         "z": {
          "bdata": "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",
          "dtype": "f8"
         }
        }
       ],
       "layout": {
        "coloraxis": {
         "colorbar": {
          "title": {
           "text": "cluster"
          }
         },
         "colorscale": [
          [
           0,
           "#0d0887"
          ],
          [
           0.1111111111111111,
           "#46039f"
          ],
          [
           0.2222222222222222,
           "#7201a8"
          ],
          [
           0.3333333333333333,
           "#9c179e"
          ],
          [
           0.4444444444444444,
           "#bd3786"
          ],
          [
           0.5555555555555556,
           "#d8576b"
          ],
          [
           0.6666666666666666,
           "#ed7953"
          ],
          [
           0.7777777777777778,
           "#fb9f3a"
          ],
          [
           0.8888888888888888,
           "#fdca26"
          ],
          [
           1,
           "#f0f921"
          ]
         ]
        },
        "height": 700,
        "legend": {
         "tracegroupgap": 0
        },
        "scene": {
         "domain": {
          "x": [
           0,
           1
          ],
          "y": [
           0,
           1
          ]
         },
         "xaxis": {
          "title": {
           "text": "tsne_1"
          }
         },
         "yaxis": {
          "title": {
           "text": "tsne_2"
          }
         },
         "zaxis": {
          "title": {
           "text": "tsne_3"
          }
         }
        },
        "template": {
         "data": {
          "bar": [
           {
            "error_x": {
             "color": "#2a3f5f"
            },
            "error_y": {
             "color": "#2a3f5f"
            },
            "marker": {
             "line": {
              "color": "#E5ECF6",
              "width": 0.5
             },
             "pattern": {
              "fillmode": "overlay",
              "size": 10,
              "solidity": 0.2
             }
            },
            "type": "bar"
           }
          ],
          "barpolar": [
           {
            "marker": {
             "line": {
              "color": "#E5ECF6",
              "width": 0.5
             },
             "pattern": {
              "fillmode": "overlay",
              "size": 10,
              "solidity": 0.2
             }
            },
            "type": "barpolar"
           }
          ],
          "carpet": [
           {
            "aaxis": {
             "endlinecolor": "#2a3f5f",
             "gridcolor": "white",
             "linecolor": "white",
             "minorgridcolor": "white",
             "startlinecolor": "#2a3f5f"
            },
            "baxis": {
             "endlinecolor": "#2a3f5f",
             "gridcolor": "white",
             "linecolor": "white",
             "minorgridcolor": "white",
             "startlinecolor": "#2a3f5f"
            },
            "type": "carpet"
           }
          ],
          "choropleth": [
           {
            "colorbar": {
             "outlinewidth": 0,
             "ticks": ""
            },
            "type": "choropleth"
           }
          ],
          "contour": [
           {
            "colorbar": {
             "outlinewidth": 0,
             "ticks": ""
            },
            "colorscale": [
             [
              0,
              "#0d0887"
             ],
             [
              0.1111111111111111,
              "#46039f"
             ],
             [
              0.2222222222222222,
              "#7201a8"
             ],
             [
              0.3333333333333333,
              "#9c179e"
             ],
             [
              0.4444444444444444,
              "#bd3786"
             ],
             [
              0.5555555555555556,
              "#d8576b"
             ],
             [
              0.6666666666666666,
              "#ed7953"
             ],
             [
              0.7777777777777778,
              "#fb9f3a"
             ],
             [
              0.8888888888888888,
              "#fdca26"
             ],
             [
              1,
              "#f0f921"
             ]
            ],
            "type": "contour"
           }
          ],
          "contourcarpet": [
           {
            "colorbar": {
             "outlinewidth": 0,
             "ticks": ""
            },
            "type": "contourcarpet"
           }
          ],
          "heatmap": [
           {
            "colorbar": {
             "outlinewidth": 0,
             "ticks": ""
            },
            "colorscale": [
             [
              0,
              "#0d0887"
             ],
             [
              0.1111111111111111,
              "#46039f"
             ],
             [
              0.2222222222222222,
              "#7201a8"
             ],
             [
              0.3333333333333333,
              "#9c179e"
             ],
             [
              0.4444444444444444,
              "#bd3786"
             ],
             [
              0.5555555555555556,
              "#d8576b"
             ],
             [
              0.6666666666666666,
              "#ed7953"
             ],
             [
              0.7777777777777778,
              "#fb9f3a"
             ],
             [
              0.8888888888888888,
              "#fdca26"
             ],
             [
              1,
              "#f0f921"
             ]
            ],
            "type": "heatmap"
           }
          ],
          "histogram": [
           {
            "marker": {
             "pattern": {
              "fillmode": "overlay",
              "size": 10,
              "solidity": 0.2
             }
            },
            "type": "histogram"
           }
          ],
          "histogram2d": [
           {
            "colorbar": {
             "outlinewidth": 0,
             "ticks": ""
            },
            "colorscale": [
             [
              0,
              "#0d0887"
             ],
             [
              0.1111111111111111,
              "#46039f"
             ],
             [
              0.2222222222222222,
              "#7201a8"
             ],
             [
              0.3333333333333333,
              "#9c179e"
             ],
             [
              0.4444444444444444,
              "#bd3786"
             ],
             [
              0.5555555555555556,
              "#d8576b"
             ],
             [
              0.6666666666666666,
              "#ed7953"
             ],
             [
              0.7777777777777778,
              "#fb9f3a"
             ],
             [
              0.8888888888888888,
              "#fdca26"
             ],
             [
              1,
              "#f0f921"
             ]
            ],
            "type": "histogram2d"
           }
          ],
          "histogram2dcontour": [
           {
            "colorbar": {
             "outlinewidth": 0,
             "ticks": ""
            },
            "colorscale": [
             [
              0,
              "#0d0887"
             ],
             [
              0.1111111111111111,
              "#46039f"
             ],
             [
              0.2222222222222222,
              "#7201a8"
             ],
             [
              0.3333333333333333,
              "#9c179e"
             ],
             [
              0.4444444444444444,
              "#bd3786"
             ],
             [
              0.5555555555555556,
              "#d8576b"
             ],
             [
              0.6666666666666666,
              "#ed7953"
             ],
             [
              0.7777777777777778,
              "#fb9f3a"
             ],
             [
              0.8888888888888888,
              "#fdca26"
             ],
             [
              1,
              "#f0f921"
             ]
            ],
            "type": "histogram2dcontour"
           }
          ],
          "mesh3d": [
           {
            "colorbar": {
             "outlinewidth": 0,
             "ticks": ""
            },
            "type": "mesh3d"
           }
          ],
          "parcoords": [
           {
            "line": {
             "colorbar": {
              "outlinewidth": 0,
              "ticks": ""
             }
            },
            "type": "parcoords"
           }
          ],
          "pie": [
           {
            "automargin": true,
            "type": "pie"
           }
          ],
          "scatter": [
           {
            "fillpattern": {
             "fillmode": "overlay",
             "size": 10,
             "solidity": 0.2
            },
            "type": "scatter"
           }
          ],
          "scatter3d": [
           {
            "line": {
             "colorbar": {
              "outlinewidth": 0,
              "ticks": ""
             }
            },
            "marker": {
             "colorbar": {
              "outlinewidth": 0,
              "ticks": ""
             }
            },
            "type": "scatter3d"
           }
          ],
          "scattercarpet": [
           {
            "marker": {
             "colorbar": {
              "outlinewidth": 0,
              "ticks": ""
             }
            },
            "type": "scattercarpet"
           }
          ],
          "scattergeo": [
           {
            "marker": {
             "colorbar": {
              "outlinewidth": 0,
              "ticks": ""
             }
            },
            "type": "scattergeo"
           }
          ],
          "scattergl": [
           {
            "marker": {
             "colorbar": {
              "outlinewidth": 0,
              "ticks": ""
             }
            },
            "type": "scattergl"
           }
          ],
          "scattermap": [
           {
            "marker": {
             "colorbar": {
              "outlinewidth": 0,
              "ticks": ""
             }
            },
            "type": "scattermap"
           }
          ],
          "scattermapbox": [
           {
            "marker": {
             "colorbar": {
              "outlinewidth": 0,
              "ticks": ""
             }
            },
            "type": "scattermapbox"
           }
          ],
          "scatterpolar": [
           {
            "marker": {
             "colorbar": {
              "outlinewidth": 0,
              "ticks": ""
             }
            },
            "type": "scatterpolar"
           }
          ],
          "scatterpolargl": [
           {
            "marker": {
             "colorbar": {
              "outlinewidth": 0,
              "ticks": ""
             }
            },
            "type": "scatterpolargl"
           }
          ],
          "scatterternary": [
           {
            "marker": {
             "colorbar": {
              "outlinewidth": 0,
              "ticks": ""
             }
            },
            "type": "scatterternary"
           }
          ],
          "surface": [
           {
            "colorbar": {
             "outlinewidth": 0,
             "ticks": ""
            },
            "colorscale": [
             [
              0,
              "#0d0887"
             ],
             [
              0.1111111111111111,
              "#46039f"
             ],
             [
              0.2222222222222222,
              "#7201a8"
             ],
             [
              0.3333333333333333,
              "#9c179e"
             ],
             [
              0.4444444444444444,
              "#bd3786"
             ],
             [
              0.5555555555555556,
              "#d8576b"
             ],
             [
              0.6666666666666666,
              "#ed7953"
             ],
             [
              0.7777777777777778,
              "#fb9f3a"
             ],
             [
              0.8888888888888888,
              "#fdca26"
             ],
             [
              1,
              "#f0f921"
             ]
            ],
            "type": "surface"
           }
          ],
          "table": [
           {
            "cells": {
             "fill": {
              "color": "#EBF0F8"
             },
             "line": {
              "color": "white"
             }
            },
            "header": {
             "fill": {
              "color": "#C8D4E3"
             },
             "line": {
              "color": "white"
             }
            },
            "type": "table"
           }
          ]
         },
         "layout": {
          "annotationdefaults": {
           "arrowcolor": "#2a3f5f",
           "arrowhead": 0,
           "arrowwidth": 1
          },
          "autotypenumbers": "strict",
          "coloraxis": {
           "colorbar": {
            "outlinewidth": 0,
            "ticks": ""
           }
          },
          "colorscale": {
           "diverging": [
            [
             0,
             "#8e0152"
            ],
            [
             0.1,
             "#c51b7d"
            ],
            [
             0.2,
             "#de77ae"
            ],
            [
             0.3,
             "#f1b6da"
            ],
            [
             0.4,
             "#fde0ef"
            ],
            [
             0.5,
             "#f7f7f7"
            ],
            [
             0.6,
             "#e6f5d0"
            ],
            [
             0.7,
             "#b8e186"
            ],
            [
             0.8,
             "#7fbc41"
            ],
            [
             0.9,
             "#4d9221"
            ],
            [
             1,
             "#276419"
            ]
           ],
           "sequential": [
            [
             0,
             "#0d0887"
            ],
            [
             0.1111111111111111,
             "#46039f"
            ],
            [
             0.2222222222222222,
             "#7201a8"
            ],
            [
             0.3333333333333333,
             "#9c179e"
            ],
            [
             0.4444444444444444,
             "#bd3786"
            ],
            [
             0.5555555555555556,
             "#d8576b"
            ],
            [
             0.6666666666666666,
             "#ed7953"
            ],
            [
             0.7777777777777778,
             "#fb9f3a"
            ],
            [
             0.8888888888888888,
             "#fdca26"
            ],
            [
             1,
             "#f0f921"
            ]
           ],
           "sequentialminus": [
            [
             0,
             "#0d0887"
            ],
            [
             0.1111111111111111,
             "#46039f"
            ],
            [
             0.2222222222222222,
             "#7201a8"
            ],
            [
             0.3333333333333333,
             "#9c179e"
            ],
            [
             0.4444444444444444,
             "#bd3786"
            ],
            [
             0.5555555555555556,
             "#d8576b"
            ],
            [
             0.6666666666666666,
             "#ed7953"
            ],
            [
             0.7777777777777778,
             "#fb9f3a"
            ],
            [
             0.8888888888888888,
             "#fdca26"
            ],
            [
             1,
             "#f0f921"
            ]
           ]
          },
          "colorway": [
           "#636efa",
           "#EF553B",
           "#00cc96",
           "#ab63fa",
           "#FFA15A",
           "#19d3f3",
           "#FF6692",
           "#B6E880",
           "#FF97FF",
           "#FECB52"
          ],
          "font": {
           "color": "#2a3f5f"
          },
          "geo": {
           "bgcolor": "white",
           "lakecolor": "white",
           "landcolor": "#E5ECF6",
           "showlakes": true,
           "showland": true,
           "subunitcolor": "white"
          },
          "hoverlabel": {
           "align": "left"
          },
          "hovermode": "closest",
          "mapbox": {
           "style": "light"
          },
          "paper_bgcolor": "white",
          "plot_bgcolor": "#E5ECF6",
          "polar": {
           "angularaxis": {
            "gridcolor": "white",
            "linecolor": "white",
            "ticks": ""
           },
           "bgcolor": "#E5ECF6",
           "radialaxis": {
            "gridcolor": "white",
            "linecolor": "white",
            "ticks": ""
           }
          },
          "scene": {
           "xaxis": {
            "backgroundcolor": "#E5ECF6",
            "gridcolor": "white",
            "gridwidth": 2,
            "linecolor": "white",
            "showbackground": true,
            "ticks": "",
            "zerolinecolor": "white"
           },
           "yaxis": {
            "backgroundcolor": "#E5ECF6",
            "gridcolor": "white",
            "gridwidth": 2,
            "linecolor": "white",
            "showbackground": true,
            "ticks": "",
            "zerolinecolor": "white"
           },
           "zaxis": {
            "backgroundcolor": "#E5ECF6",
            "gridcolor": "white",
            "gridwidth": 2,
            "linecolor": "white",
            "showbackground": true,
            "ticks": "",
            "zerolinecolor": "white"
           }
          },
          "shapedefaults": {
           "line": {
            "color": "#2a3f5f"
           }
          },
          "ternary": {
           "aaxis": {
            "gridcolor": "white",
            "linecolor": "white",
            "ticks": ""
           },
           "baxis": {
            "gridcolor": "white",
            "linecolor": "white",
            "ticks": ""
           },
           "bgcolor": "#E5ECF6",
           "caxis": {
            "gridcolor": "white",
            "linecolor": "white",
            "ticks": ""
           }
          },
          "title": {
           "x": 0.05
          },
          "xaxis": {
           "automargin": true,
           "gridcolor": "white",
           "linecolor": "white",
           "ticks": "",
           "title": {
            "standoff": 15
           },
           "zerolinecolor": "white",
           "zerolinewidth": 2
          },
          "yaxis": {
           "automargin": true,
           "gridcolor": "white",
           "linecolor": "white",
           "ticks": "",
           "title": {
            "standoff": 15
           },
           "zerolinecolor": "white",
           "zerolinewidth": 2
          }
         }
        },
        "title": {
         "text": "Clusters GMM sur données t-SNE (3D)"
        },
        "width": 900
       }
      },
      "image/png": "[encoded data removed]"
     },
     "metadata": {},
     "output_type": "display_data"
    },
    {
     "data": {
      "application/vnd.plotly.v1+json": {
       "config": {
        "plotlyServerURL": "https://plot.ly"
       },
       "data": [
        {
         "customdata": [
          [
           "Jordan Lefort",
           "DF"
          ],
          [
           "Andrey Santos",
           "MF"
          ],
          [
           "Valentin Atangana Edoa",
           "MF"
          ],
          [
           "Himad Abdelli",
           "MF,FW"
          ],
          [
           "Mason Greenwood",
           "FW,MF"
          ],
          [
           "Zuriko Davitashvili",
           "FW,MF"
          ],
          [
           "Gautier Lloris",
           "DF"
          ],
          [
           "Matthis Abline",
           "FW"
          ],
          [
           "Bafodé Diakité",
           "DF"
          ],
          [
           "Adrien Truffert",
           "DF,MF"
          ],
          [
           "Moussa Niakhate",
           "DF"
          ],
          [
           "Guela Doué",
           "DF"
          ],
          [
           "Alexsandro Ribeiro",
           "DF"
          ],
          [
           "Cristian Cásseres Jr.",
           "MF"
          ],
          [
           "Benjamin André",
           "MF"
          ],
          [
           "Gaëtan Perrin",
           "MF,FW"
          ],
          [
           "Junya Ito",
           "FW,MF"
          ],
          [
           "Aron Dønnum",
           "DF,MF"
          ],
          [
           "Kenny Lala",
           "DF"
          ],
          [
           "Florent Hanin",
           "DF"
          ],
          [
           "Pierre Højbjerg",
           "MF"
          ],
          [
           "Mahdi Camara",
           "MF,FW"
          ],
          [
           "Keito Nakamura",
           "FW,MF"
          ],
          [
           "Jubal",
           "DF"
          ],
          [
           "Ismaël Doukouré",
           "DF,MF"
          ],
          [
           "Léo Pétrot",
           "DF"
          ],
          [
           "Jean-Charles Castelletto",
           "DF,MF"
          ],
          [
           "Adrien Thomasson",
           "MF"
          ],
          [
           "Luis Henrique",
           "DF,FW"
          ],
          [
           "Moses Simon",
           "FW,MF"
          ],
          [
           "Charlie Cresswell",
           "DF"
          ],
          [
           "Arnaud Kalimuendo",
           "FW,MF"
          ],
          [
           "Pierre Ekwah Elimby",
           "MF"
          ],
          [
           "Diego Moreira",
           "DF,MF"
          ],
          [
           "Evann Guessand",
           "FW,MF"
          ],
          [
           "Jonathan David",
           "FW"
          ],
          [
           "Facundo Medina",
           "DF"
          ],
          [
           "Sergio Akieme",
           "DF"
          ],
          [
           "Dilane Bakwa",
           "MF,DF"
          ],
          [
           "Mark McKenzie",
           "DF"
          ],
          [
           "Ludovic Ajorque",
           "FW"
          ],
          [
           "Clément Akpa",
           "DF"
          ],
          [
           "Adrien Rabiot",
           "MF"
          ],
          [
           "Loïc Nego",
           "DF,FW"
          ],
          [
           "Michael Amir Murillo",
           "DF"
          ],
          [
           "Hicham Boudaoui",
           "MF"
          ],
          [
           "Brendan Chardonnet",
           "DF"
          ],
          [
           "Maghnes Akliouche",
           "FW,MF"
          ],
          [
           "Vincent Sierro",
           "MF"
          ],
          [
           "Thilo Kehrer",
           "DF"
          ],
          [
           "Clinton Mata",
           "DF"
          ],
          [
           "Mamadou Sarr",
           "DF"
          ],
          [
           "Téji Savanier",
           "MF"
          ],
          [
           "Lorenz Assignon",
           "DF,MF"
          ],
          [
           "Habib Diarra",
           "MF,FW"
          ],
          [
           "Pedro Chirivella",
           "MF"
          ],
          [
           "Elisha Owusu",
           "MF"
          ],
          [
           "Yann Gboho",
           "MF,FW"
          ],
          [
           "Corentin Tolisso",
           "MF"
          ],
          [
           "Abdoulaye Touré",
           "MF"
          ],
          [
           "Hugo Magnetti",
           "MF"
          ],
          [
           "Etienne Youte Kinkoue",
           "DF"
          ],
          [
           "Douglas",
           "MF"
          ],
          [
           "Mickael Nade",
           "DF"
          ],
          [
           "Jonathan Clauss",
           "DF,MF"
          ],
          [
           "Lassine Sinayoko",
           "FW,MF"
          ],
          [
           "Ludovic Blas",
           "MF,FW"
          ],
          [
           "Emanuel Emegha",
           "FW"
          ],
          [
           "Gideon Mensah",
           "DF"
          ],
          [
           "Leonardo Balerdi",
           "DF"
          ],
          [
           "Takumi Minamino",
           "MF,FW"
          ],
          [
           "Andy Diouf",
           "MF"
          ],
          [
           "Moïse Bombito",
           "DF"
          ],
          [
           "Cédric Kipré",
           "DF"
          ],
          [
           "Bradley Barcola",
           "FW"
          ],
          [
           "Kelvin Amian",
           "DF"
          ],
          [
           "Gabriel Suazo",
           "DF"
          ],
          [
           "Denis Zakaria",
           "MF"
          ],
          [
           "Modibo Sagnan",
           "DF"
          ],
          [
           "Willian Pacho",
           "DF"
          ],
          [
           "Dennis Appiah",
           "DF"
          ],
          [
           "Ki-Jana Hoever",
           "DF"
          ],
          [
           "Jonathan Gradit",
           "DF"
          ],
          [
           "Sebastian Nanasi",
           "MF,FW"
          ],
          [
           "Djibril Sidibé",
           "DF"
          ],
          [
           "Yassine Kechta",
           "MF,FW"
          ],
          [
           "Wilfried Singo",
           "DF"
          ],
          [
           "Hamed Junior Traorè",
           "MF"
          ],
          [
           "Azor Matusiwa",
           "MF"
          ],
          [
           "Achraf Hakimi",
           "DF"
          ],
          [
           "Vanderson",
           "DF"
          ],
          [
           "Lamine Camara",
           "MF"
          ],
          [
           "Alexandre Lacazette",
           "FW"
          ],
          [
           "Nicolas Cozza",
           "DF,MF"
          ],
          [
           "Warren Zaïre-Emery",
           "MF,DF"
          ],
          [
           "Johann Lepenant",
           "MF"
          ],
          [
           "Carlens Arcus",
           "DF"
          ],
          [
           "Vitinha",
           "MF"
          ],
          [
           "Rayan Cherki",
           "FW,MF"
          ],
          [
           "Geoffrey Kondogbia",
           "DF,MF"
          ],
          [
           "Nicolas Pallois",
           "DF"
          ],
          [
           "Dylan Batubinsika",
           "DF"
          ],
          [
           "Lucas Beraldo",
           "DF"
          ],
          [
           "Nemanja Matić",
           "MF"
          ],
          [
           "Josué Casimir",
           "FW,MF"
          ],
          [
           "Ainsley Maitland-Niles",
           "DF"
          ],
          [
           "Aurélio Buta",
           "DF"
          ],
          [
           "Dante",
           "DF"
          ],
          [
           "Jean-Eudes Aholou",
           "MF"
          ],
          [
           "Sinaly Diomande",
           "DF"
          ],
          [
           "Melvin Bard",
           "DF,MF"
          ],
          [
           "Youssouf Ndayishimiye",
           "DF"
          ],
          [
           "Caio Henrique Oliveira Silva",
           "DF"
          ],
          [
           "Thomas Meunier",
           "DF"
          ],
          [
           "Fabián Ruiz Peña",
           "MF"
          ],
          [
           "Issa Soumaré",
           "FW,MF"
          ],
          [
           "Nicolás Tagliafico",
           "DF"
          ],
          [
           "Zakaria Aboukhlal",
           "MF,FW"
          ],
          [
           "Enzo Tchato",
           "DF"
          ],
          [
           "Farid El Melali",
           "FW"
          ],
          [
           "Joris Chotard",
           "MF"
          ],
          [
           "Lucas Stassin",
           "FW"
          ],
          [
           "João Neves",
           "MF,DF"
          ],
          [
           "Breel Embolo",
           "FW,MF"
          ],
          [
           "Gaëtan Laborde",
           "FW"
          ],
          [
           "Deiver Machado",
           "DF,MF"
          ],
          [
           "Becir Omeragic",
           "DF"
          ],
          [
           "Florian Sotoca",
           "FW,MF"
          ],
          [
           "Haris Belkebla",
           "MF"
          ],
          [
           "Gabriel Gudmundsson",
           "DF"
          ],
          [
           "Félix Lemaréchal",
           "MF,FW"
          ],
          [
           "Pablo Rosario",
           "MF,DF"
          ],
          [
           "Jordan Ferri",
           "MF"
          ],
          [
           "Benjamin Bouchouari",
           "MF"
          ],
          [
           "Hákon Arnar Haraldsson",
           "MF,FW"
          ],
          [
           "Jim Allevinah",
           "FW"
          ],
          [
           "Eliesse Ben Seghir",
           "MF,FW"
          ],
          [
           "Aïssa Mandi",
           "DF"
          ],
          [
           "Ousmane Dembélé",
           "FW"
          ],
          [
           "Désiré Doué",
           "FW,MF"
          ],
          [
           "Marquinhos",
           "DF"
          ],
          [
           "Abdoulaye Niakhate Ndiaye",
           "DF"
          ],
          [
           "Joseph Okumu",
           "DF"
          ],
          [
           "Marshall Munetsi",
           "MF"
          ],
          [
           "Rabby Nzingoula",
           "MF"
          ],
          [
           "Hans Hateboer",
           "DF"
          ],
          [
           "Massadio Haïdara",
           "DF"
          ],
          [
           "Nuno Mendes",
           "DF"
          ],
          [
           "Joshua King",
           "FW,MF"
          ],
          [
           "Lee Kang-in",
           "FW,MF"
          ],
          [
           "Gabriel Osho",
           "DF"
          ],
          [
           "Esteban Lepaul",
           "FW"
          ],
          [
           "Oumar Diakité",
           "FW"
          ],
          [
           "Mohamed Ali Cho",
           "FW,MF"
          ],
          [
           "Quentin Merlin",
           "DF"
          ],
          [
           "Malick Fofana",
           "FW"
          ],
          [
           "Neil El Aynaoui",
           "MF"
          ],
          [
           "Duje Ćaleta-Car",
           "DF"
          ],
          [
           "Mathias Pereira Lage",
           "FW,MF"
          ],
          [
           "Valentin Rongier",
           "MF,DF"
          ],
          [
           "Jordan Veretout",
           "MF"
          ],
          [
           "Pierre Lees-Melou",
           "MF"
          ],
          [
           "Yassin Belkhdim",
           "MF"
          ],
          [
           "Frank Magri",
           "FW,MF"
          ],
          [
           "Nathan Zeze",
           "DF"
          ],
          [
           "Abdoulaye Bamba",
           "DF"
          ],
          [
           "Christian Mawissa",
           "DF"
          ],
          [
           "Tanguy Coulibaly",
           "FW,MF"
          ],
          [
           "M'Bala Nzola",
           "FW"
          ],
          [
           "Kévin Danois",
           "MF"
          ],
          [
           "Christopher Wooh",
           "DF"
          ],
          [
           "André Ayew",
           "FW"
          ],
          [
           "Georges Mikautadze",
           "FW"
          ],
          [
           "Derek Cornelius",
           "DF"
          ],
          [
           "Anass Zaroury",
           "FW,MF"
          ],
          [
           "Ali Abdi",
           "DF,MF"
          ],
          [
           "Przemysław Frankowski",
           "DF"
          ],
          [
           "Malang Sarr",
           "DF"
          ],
          [
           "Julien Le Cardinal",
           "DF"
          ],
          [
           "Emmanuel Biumla",
           "DF"
          ],
          [
           "Kamory Doumbia",
           "MF,FW"
          ],
          [
           "Sorba Thomas",
           "FW,MF"
          ],
          [
           "Lilian Raolisoa",
           "DF,FW"
          ],
          [
           "Amadou Koné",
           "MF"
          ],
          [
           "Osame Sahraoui",
           "FW,MF"
          ],
          [
           "André Gomes",
           "MF"
          ],
          [
           "Emmanuel Agbadou",
           "DF"
          ],
          [
           "Romain Del Castillo",
           "FW"
          ],
          [
           "Mostafa Mohamed",
           "FW"
          ],
          [
           "Florian Tardieu",
           "MF"
          ],
          [
           "Arouna Sangante",
           "DF"
          ],
          [
           "Abdallah Sima",
           "FW,MF"
          ],
          [
           "Tanner Tessmann",
           "MF"
          ],
          [
           "Lilian Brassier",
           "DF"
          ],
          [
           "Falaye Sacko",
           "DF"
          ],
          [
           "Mika Biereth",
           "FW"
          ],
          [
           "Leo Skiri Østigård",
           "DF"
          ],
          [
           "Ngal'Ayel Mukau",
           "MF"
          ],
          [
           "Shavy Babicka",
           "MF,FW"
          ],
          [
           "Jordan James",
           "MF"
          ],
          [
           "Christopher Operi",
           "DF,FW"
          ],
          [
           "Arnaud Nordin",
           "FW"
          ],
          [
           "Nhoa Sangui",
           "DF,MF"
          ],
          [
           "Valentín Barco",
           "MF,DF"
          ],
          [
           "Issiaga Sylla",
           "DF"
          ],
          [
           "Aleksandr Golovin",
           "MF,FW"
          ],
          [
           "Ayyoub Bouaddi",
           "MF"
          ],
          [
           "Mama Samba Baldé",
           "FW"
          ],
          [
           "Mitchel Bakker",
           "FW,DF"
          ],
          [
           "Tanguy Ndombele",
           "MF"
          ],
          [
           "Mory Gbane",
           "DF,MF"
          ],
          [
           "Ruben Aguilar",
           "DF,MF"
          ],
          [
           "Djaoui Cissé",
           "MF"
          ],
          [
           "Wahbi Khazri",
           "FW,MF"
          ],
          [
           "Musa Al-Taamari",
           "FW,MF"
          ],
          [
           "Timothee Pembele",
           "DF"
          ],
          [
           "Jaydee Canvot",
           "DF,MF"
          ],
          [
           "Edimilson Fernandes",
           "MF,DF"
          ],
          [
           "Badredine Bouanani",
           "MF,FW"
          ],
          [
           "Abner",
           "DF"
          ],
          [
           "Kevin Danso",
           "DF"
          ],
          [
           "Akor Adams",
           "FW"
          ],
          [
           "Gonçalo Ramos",
           "FW"
          ],
          [
           "Matias Fernandez-Pardo",
           "FW,MF"
          ],
          [
           "Sofiane Diop",
           "MF,FW"
          ],
          [
           "Irvin Cardona",
           "FW"
          ],
          [
           "Rassoul Ndiaye",
           "MF"
          ],
          [
           "Jeremie Boga",
           "MF,FW"
          ],
          [
           "Ernest Nuamah",
           "FW,MF"
          ],
          [
           "Amine Gouiri",
           "FW,MF"
          ],
          [
           "Han-Noah Massengo",
           "MF"
          ],
          [
           "Angelo Fulgini",
           "MF,FW"
          ],
          [
           "Louis Mouton",
           "MF"
          ],
          [
           "Neal Maupay",
           "FW"
          ],
          [
           "Aimen Moueffek",
           "MF"
          ],
          [
           "Yunis Abdelhamid",
           "DF"
          ],
          [
           "Khalil Fayad",
           "MF,FW"
          ],
          [
           "Soungoutou Magassa",
           "MF"
          ],
          [
           "Mohammed Salisu",
           "DF"
          ],
          [
           "Warren Kamanzi",
           "DF,MF"
          ],
          [
           "Saidou Sow",
           "DF"
          ],
          [
           "Théo Sainte-Luce",
           "DF"
          ],
          [
           "Rémy Cabella",
           "FW,MF"
          ],
          [
           "Paul Joly",
           "DF"
          ],
          [
           "Oussama Targhalline",
           "MF"
          ],
          [
           "Edon Zhegrova",
           "FW,MF"
          ],
          [
           "Yanis Zouaoui",
           "DF,FW"
          ],
          [
           "Abdukodir Khusanov",
           "DF"
          ],
          [
           "Anthony Rouault",
           "DF"
          ],
          [
           "Ado Onaiwu",
           "MF,FW"
          ],
          [
           "Junior Mwanga",
           "MF"
          ],
          [
           "Thiago Almada",
           "MF,FW"
          ],
          [
           "Sael Kumbedi",
           "DF"
          ],
          [
           "Marcus Coco",
           "DF"
          ],
          [
           "Abakar Sylla",
           "DF"
          ],
          [
           "Yael Mouanga",
           "DF"
          ],
          [
           "Antoine Joujou",
           "MF,FW"
          ],
          [
           "Ibrahima Niane",
           "FW"
          ],
          [
           "Theo Bair",
           "FW"
          ],
          [
           "Ulisses Garcia",
           "DF"
          ],
          [
           "Jérémy Jacquet",
           "DF"
          ],
          [
           "Baptiste Santamaria",
           "MF"
          ],
          [
           "Khvicha Kvaratskhelia",
           "FW"
          ],
          [
           "Wesley Saïd",
           "FW"
          ],
          [
           "Ismaily",
           "DF"
          ],
          [
           "Romain Faivre",
           "MF,FW"
          ],
          [
           "Hiroki Sekine",
           "DF"
          ],
          [
           "Goduine Koyalipou",
           "FW"
          ],
          [
           "Lucas Hernández",
           "DF"
          ],
          [
           "Mathis Amougou",
           "MF"
          ],
          [
           "Mamadou Diakhon",
           "FW,MF"
          ],
          [
           "Mohamed Abdelmoneim",
           "DF"
          ],
          [
           "Koka",
           "FW"
          ],
          [
           "Zinedine Ferhat",
           "FW,MF"
          ],
          [
           "Seko Fofana",
           "MF"
          ],
          [
           "Antoine Mendy",
           "DF"
          ],
          [
           "Ibrahim Sissoko",
           "FW"
          ],
          [
           "Louis Leroux",
           "MF,DF"
          ],
          [
           "Albert Grønbaek",
           "MF,FW"
          ],
          [
           "Senny Mayulu",
           "MF"
          ],
          [
           "Jonathan Rowe",
           "FW,MF"
          ],
          [
           "Alidu Seidu",
           "DF"
          ],
          [
           "Yoann Salmier",
           "DF"
          ],
          [
           "Yvann Macon",
           "DF"
          ],
          [
           "Jordan Amavi",
           "DF"
          ],
          [
           "Tom Louchet",
           "DF,MF"
          ],
          [
           "Sekou Mara",
           "FW,MF"
          ],
          [
           "Maxime Bernauer",
           "DF"
          ],
          [
           "Boubakar Kouyaté",
           "DF"
          ],
          [
           "Teddy Teuma",
           "MF"
          ],
          [
           "Angel Gomes",
           "MF"
          ],
          [
           "Saïd Benrahma",
           "FW,MF"
          ],
          [
           "Augustine Boakye",
           "FW,MF"
          ],
          [
           "Mathieu Cafaro",
           "MF,FW"
          ],
          [
           "Rayan Raveloson",
           "MF,DF"
          ],
          [
           "George Ilenikhena",
           "FW"
          ],
          [
           "Lucas Mincarelli",
           "DF"
          ],
          [
           "Jacques Ekomie",
           "DF,FW"
          ],
          [
           "Mikayil Ngor Faye",
           "DF"
          ],
          [
           "Abdulai Juma Bah",
           "DF"
          ],
          [
           "Pol Lirola",
           "DF"
          ],
          [
           "Assane Dioussé",
           "MF"
          ],
          [
           "Glen Kamara",
           "MF"
          ],
          [
           "Emmanuel Sabbi",
           "FW,MF"
          ],
          [
           "Ismaël Bennacer",
           "MF"
          ],
          [
           "Chuba Akpom",
           "FW"
          ],
          [
           "Luck Zogbé",
           "DF"
          ],
          [
           "Rémy Labeau Lascary",
           "FW,MF"
          ],
          [
           "Yaya Kader Fofana",
           "MF,FW"
          ],
          [
           "Rasmus Nicolaisen",
           "DF"
          ],
          [
           "Marco Asensio",
           "FW,MF"
          ],
          [
           "Folarin Balogun",
           "FW"
          ],
          [
           "Andy Delort",
           "FW"
          ],
          [
           "Jhoanner Chávez",
           "DF,MF"
          ],
          [
           "Fodé Ballo-Touré",
           "DF,MF"
          ],
          [
           "Nampalys Mendy",
           "MF"
          ],
          [
           "Mahamadou Diawara",
           "MF"
          ],
          [
           "Nikola Maksimović",
           "DF"
          ],
          [
           "Pierre Cornud",
           "DF"
          ],
          [
           "Florian Ayé",
           "FW"
          ],
          [
           "Elye Wahi",
           "FW"
          ],
          [
           "Maxence Caqueret",
           "MF"
          ],
          [
           "Jordan Teze",
           "DF"
          ],
          [
           "Daler Kuzyaev",
           "MF"
          ],
          [
           "John Joe",
           "MF"
          ],
          [
           "Mohamed Meité",
           "FW"
          ],
          [
           "Andrew Omobamidele",
           "DF"
          ],
          [
           "Jean-Kevin Duverne",
           "DF"
          ],
          [
           "Bamba Dieng",
           "FW"
          ],
          [
           "Ben Old",
           "FW,MF"
          ],
          [
           "Amine Harit",
           "MF"
          ],
          [
           "Tino Kadewere",
           "MF,FW"
          ],
          [
           "Krépin Diatta",
           "DF,FW"
          ]
         ],
         "hovertemplate": "isomap_1=%{x}<br>isomap_2=%{y}<br>isomap_3=%{z}<br>player_name=%{customdata[0]}<br>positions=%{customdata[1]}<br>cluster=%{marker.color}<extra></extra>",
         "legendgroup": "",
         "marker": {
          "color": {
           "bdata": "AgUFAAAAAgACAwICAgUFBAQAAwMCBQACAgMCBQAAAgAFAAAAAgMAAgAFAAMDBQIABAICAgQDAAUFAAUCBQIFAgQABAADAgAAAgIAAwMFAgIDAwIEAwUCAAUDAwQAAwUFAwIEAgICAgUAAwMCBQIDAgMDBQAFAAMEBQAFAAADAQAFAwAFBQUEAAAFAAACAgIFBQUDAwAEAQAAAAMABAIEBQUFBQACAQEAAAUBAAACAwADAQEBBQQDBQAFAQQABQEABQEBAAEBAQUDAQEBAQUFAAMBAQMFBAEBAQEAAwEBAAEEAQEAAQABBAUBAQEFBQEBAQEEAwEEBAEBAQUEAQMBAQEBAQEBAQABAQEBAQEBAQEBBAEBAAEBAQABAQEBAQEBAQMBAQEBAQEBAQEBAQEBAQMBAQEBAQEBAQEBAQEBAQEBAQEBAQEBAQEBAQEB",
           "dtype": "i1"
          },
          "coloraxis": "coloraxis",
          "symbol": "circle"
         },
         "mode": "markers",
         "name": "",
         "scene": "scene",
         "showlegend": false,
         "type": "scatter3d",
         "x": {
          "bdata": "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",
          "dtype": "f8"
         },
         "y": {
          "bdata": "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",
          "dtype": "f8"
         },
         "z": {
          "bdata": "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",
          "dtype": "f8"
         }
        }
       ],
       "layout": {
        "coloraxis": {
         "colorbar": {
          "title": {
           "text": "cluster"
          }
         },
         "colorscale": [
          [
           0,
           "#0d0887"
          ],
          [
           0.1111111111111111,
           "#46039f"
          ],
          [
           0.2222222222222222,
           "#7201a8"
          ],
          [
           0.3333333333333333,
           "#9c179e"
          ],
          [
           0.4444444444444444,
           "#bd3786"
          ],
          [
           0.5555555555555556,
           "#d8576b"
          ],
          [
           0.6666666666666666,
           "#ed7953"
          ],
          [
           0.7777777777777778,
           "#fb9f3a"
          ],
          [
           0.8888888888888888,
           "#fdca26"
          ],
          [
           1,
           "#f0f921"
          ]
         ]
        },
        "height": 700,
        "legend": {
         "tracegroupgap": 0
        },
        "scene": {
         "domain": {
          "x": [
           0,
           1
          ],
          "y": [
           0,
           1
          ]
         },
         "xaxis": {
          "title": {
           "text": "isomap_1"
          }
         },
         "yaxis": {
          "title": {
           "text": "isomap_2"
          }
         },
         "zaxis": {
          "title": {
           "text": "isomap_3"
          }
         }
        },
        "template": {
         "data": {
          "bar": [
           {
            "error_x": {
             "color": "#2a3f5f"
            },
            "error_y": {
             "color": "#2a3f5f"
            },
            "marker": {
             "line": {
              "color": "#E5ECF6",
              "width": 0.5
             },
             "pattern": {
              "fillmode": "overlay",
              "size": 10,
              "solidity": 0.2
             }
            },
            "type": "bar"
           }
          ],
          "barpolar": [
           {
            "marker": {
             "line": {
              "color": "#E5ECF6",
              "width": 0.5
             },
             "pattern": {
              "fillmode": "overlay",
              "size": 10,
              "solidity": 0.2
             }
            },
            "type": "barpolar"
           }
          ],
          "carpet": [
           {
            "aaxis": {
             "endlinecolor": "#2a3f5f",
             "gridcolor": "white",
             "linecolor": "white",
             "minorgridcolor": "white",
             "startlinecolor": "#2a3f5f"
            },
            "baxis": {
             "endlinecolor": "#2a3f5f",
             "gridcolor": "white",
             "linecolor": "white",
             "minorgridcolor": "white",
             "startlinecolor": "#2a3f5f"
            },
            "type": "carpet"
           }
          ],
          "choropleth": [
           {
            "colorbar": {
             "outlinewidth": 0,
             "ticks": ""
            },
            "type": "choropleth"
           }
          ],
          "contour": [
           {
            "colorbar": {
             "outlinewidth": 0,
             "ticks": ""
            },
            "colorscale": [
             [
              0,
              "#0d0887"
             ],
             [
              0.1111111111111111,
              "#46039f"
             ],
             [
              0.2222222222222222,
              "#7201a8"
             ],
             [
              0.3333333333333333,
              "#9c179e"
             ],
             [
              0.4444444444444444,
              "#bd3786"
             ],
             [
              0.5555555555555556,
              "#d8576b"
             ],
             [
              0.6666666666666666,
              "#ed7953"
             ],
             [
              0.7777777777777778,
              "#fb9f3a"
             ],
             [
              0.8888888888888888,
              "#fdca26"
             ],
             [
              1,
              "#f0f921"
             ]
            ],
            "type": "contour"
           }
          ],
          "contourcarpet": [
           {
            "colorbar": {
             "outlinewidth": 0,
             "ticks": ""
            },
            "type": "contourcarpet"
           }
          ],
          "heatmap": [
           {
            "colorbar": {
             "outlinewidth": 0,
             "ticks": ""
            },
            "colorscale": [
             [
              0,
              "#0d0887"
             ],
             [
              0.1111111111111111,
              "#46039f"
             ],
             [
              0.2222222222222222,
              "#7201a8"
             ],
             [
              0.3333333333333333,
              "#9c179e"
             ],
             [
              0.4444444444444444,
              "#bd3786"
             ],
             [
              0.5555555555555556,
              "#d8576b"
             ],
             [
              0.6666666666666666,
              "#ed7953"
             ],
             [
              0.7777777777777778,
              "#fb9f3a"
             ],
             [
              0.8888888888888888,
              "#fdca26"
             ],
             [
              1,
              "#f0f921"
             ]
            ],
            "type": "heatmap"
           }
          ],
          "histogram": [
           {
            "marker": {
             "pattern": {
              "fillmode": "overlay",
              "size": 10,
              "solidity": 0.2
             }
            },
            "type": "histogram"
           }
          ],
          "histogram2d": [
           {
            "colorbar": {
             "outlinewidth": 0,
             "ticks": ""
            },
            "colorscale": [
             [
              0,
              "#0d0887"
             ],
             [
              0.1111111111111111,
              "#46039f"
             ],
             [
              0.2222222222222222,
              "#7201a8"
             ],
             [
              0.3333333333333333,
              "#9c179e"
             ],
             [
              0.4444444444444444,
              "#bd3786"
             ],
             [
              0.5555555555555556,
              "#d8576b"
             ],
             [
              0.6666666666666666,
              "#ed7953"
             ],
             [
              0.7777777777777778,
              "#fb9f3a"
             ],
             [
              0.8888888888888888,
              "#fdca26"
             ],
             [
              1,
              "#f0f921"
             ]
            ],
            "type": "histogram2d"
           }
          ],
          "histogram2dcontour": [
           {
            "colorbar": {
             "outlinewidth": 0,
             "ticks": ""
            },
            "colorscale": [
             [
              0,
              "#0d0887"
             ],
             [
              0.1111111111111111,
              "#46039f"
             ],
             [
              0.2222222222222222,
              "#7201a8"
             ],
             [
              0.3333333333333333,
              "#9c179e"
             ],
             [
              0.4444444444444444,
              "#bd3786"
             ],
             [
              0.5555555555555556,
              "#d8576b"
             ],
             [
              0.6666666666666666,
              "#ed7953"
             ],
             [
              0.7777777777777778,
              "#fb9f3a"
             ],
             [
              0.8888888888888888,
              "#fdca26"
             ],
             [
              1,
              "#f0f921"
             ]
            ],
            "type": "histogram2dcontour"
           }
          ],
          "mesh3d": [
           {
            "colorbar": {
             "outlinewidth": 0,
             "ticks": ""
            },
            "type": "mesh3d"
           }
          ],
          "parcoords": [
           {
            "line": {
             "colorbar": {
              "outlinewidth": 0,
              "ticks": ""
             }
            },
            "type": "parcoords"
           }
          ],
          "pie": [
           {
            "automargin": true,
            "type": "pie"
           }
          ],
          "scatter": [
           {
            "fillpattern": {
             "fillmode": "overlay",
             "size": 10,
             "solidity": 0.2
            },
            "type": "scatter"
           }
          ],
          "scatter3d": [
           {
            "line": {
             "colorbar": {
              "outlinewidth": 0,
              "ticks": ""
             }
            },
            "marker": {
             "colorbar": {
              "outlinewidth": 0,
              "ticks": ""
             }
            },
            "type": "scatter3d"
           }
          ],
          "scattercarpet": [
           {
            "marker": {
             "colorbar": {
              "outlinewidth": 0,
              "ticks": ""
             }
            },
            "type": "scattercarpet"
           }
          ],
          "scattergeo": [
           {
            "marker": {
             "colorbar": {
              "outlinewidth": 0,
              "ticks": ""
             }
            },
            "type": "scattergeo"
           }
          ],
          "scattergl": [
           {
            "marker": {
             "colorbar": {
              "outlinewidth": 0,
              "ticks": ""
             }
            },
            "type": "scattergl"
           }
          ],
          "scattermap": [
           {
            "marker": {
             "colorbar": {
              "outlinewidth": 0,
              "ticks": ""
             }
            },
            "type": "scattermap"
           }
          ],
          "scattermapbox": [
           {
            "marker": {
             "colorbar": {
              "outlinewidth": 0,
              "ticks": ""
             }
            },
            "type": "scattermapbox"
           }
          ],
          "scatterpolar": [
           {
            "marker": {
             "colorbar": {
              "outlinewidth": 0,
              "ticks": ""
             }
            },
            "type": "scatterpolar"
           }
          ],
          "scatterpolargl": [
           {
            "marker": {
             "colorbar": {
              "outlinewidth": 0,
              "ticks": ""
             }
            },
            "type": "scatterpolargl"
           }
          ],
          "scatterternary": [
           {
            "marker": {
             "colorbar": {
              "outlinewidth": 0,
              "ticks": ""
             }
            },
            "type": "scatterternary"
           }
          ],
          "surface": [
           {
            "colorbar": {
             "outlinewidth": 0,
             "ticks": ""
            },
            "colorscale": [
             [
              0,
              "#0d0887"
             ],
             [
              0.1111111111111111,
              "#46039f"
             ],
             [
              0.2222222222222222,
              "#7201a8"
             ],
             [
              0.3333333333333333,
              "#9c179e"
             ],
             [
              0.4444444444444444,
              "#bd3786"
             ],
             [
              0.5555555555555556,
              "#d8576b"
             ],
             [
              0.6666666666666666,
              "#ed7953"
             ],
             [
              0.7777777777777778,
              "#fb9f3a"
             ],
             [
              0.8888888888888888,
              "#fdca26"
             ],
             [
              1,
              "#f0f921"
             ]
            ],
            "type": "surface"
           }
          ],
          "table": [
           {
            "cells": {
             "fill": {
              "color": "#EBF0F8"
             },
             "line": {
              "color": "white"
             }
            },
            "header": {
             "fill": {
              "color": "#C8D4E3"
             },
             "line": {
              "color": "white"
             }
            },
            "type": "table"
           }
          ]
         },
         "layout": {
          "annotationdefaults": {
           "arrowcolor": "#2a3f5f",
           "arrowhead": 0,
           "arrowwidth": 1
          },
          "autotypenumbers": "strict",
          "coloraxis": {
           "colorbar": {
            "outlinewidth": 0,
            "ticks": ""
           }
          },
          "colorscale": {
           "diverging": [
            [
             0,
             "#8e0152"
            ],
            [
             0.1,
             "#c51b7d"
            ],
            [
             0.2,
             "#de77ae"
            ],
            [
             0.3,
             "#f1b6da"
            ],
            [
             0.4,
             "#fde0ef"
            ],
            [
             0.5,
             "#f7f7f7"
            ],
            [
             0.6,
             "#e6f5d0"
            ],
            [
             0.7,
             "#b8e186"
            ],
            [
             0.8,
             "#7fbc41"
            ],
            [
             0.9,
             "#4d9221"
            ],
            [
             1,
             "#276419"
            ]
           ],
           "sequential": [
            [
             0,
             "#0d0887"
            ],
            [
             0.1111111111111111,
             "#46039f"
            ],
            [
             0.2222222222222222,
             "#7201a8"
            ],
            [
             0.3333333333333333,
             "#9c179e"
            ],
            [
             0.4444444444444444,
             "#bd3786"
            ],
            [
             0.5555555555555556,
             "#d8576b"
            ],
            [
             0.6666666666666666,
             "#ed7953"
            ],
            [
             0.7777777777777778,
             "#fb9f3a"
            ],
            [
             0.8888888888888888,
             "#fdca26"
            ],
            [
             1,
             "#f0f921"
            ]
           ],
           "sequentialminus": [
            [
             0,
             "#0d0887"
            ],
            [
             0.1111111111111111,
             "#46039f"
            ],
            [
             0.2222222222222222,
             "#7201a8"
            ],
            [
             0.3333333333333333,
             "#9c179e"
            ],
            [
             0.4444444444444444,
             "#bd3786"
            ],
            [
             0.5555555555555556,
             "#d8576b"
            ],
            [
             0.6666666666666666,
             "#ed7953"
            ],
            [
             0.7777777777777778,
             "#fb9f3a"
            ],
            [
             0.8888888888888888,
             "#fdca26"
            ],
            [
             1,
             "#f0f921"
            ]
           ]
          },
          "colorway": [
           "#636efa",
           "#EF553B",
           "#00cc96",
           "#ab63fa",
           "#FFA15A",
           "#19d3f3",
           "#FF6692",
           "#B6E880",
           "#FF97FF",
           "#FECB52"
          ],
          "font": {
           "color": "#2a3f5f"
          },
          "geo": {
           "bgcolor": "white",
           "lakecolor": "white",
           "landcolor": "#E5ECF6",
           "showlakes": true,
           "showland": true,
           "subunitcolor": "white"
          },
          "hoverlabel": {
           "align": "left"
          },
          "hovermode": "closest",
          "mapbox": {
           "style": "light"
          },
          "paper_bgcolor": "white",
          "plot_bgcolor": "#E5ECF6",
          "polar": {
           "angularaxis": {
            "gridcolor": "white",
            "linecolor": "white",
            "ticks": ""
           },
           "bgcolor": "#E5ECF6",
           "radialaxis": {
            "gridcolor": "white",
            "linecolor": "white",
            "ticks": ""
           }
          },
          "scene": {
           "xaxis": {
            "backgroundcolor": "#E5ECF6",
            "gridcolor": "white",
            "gridwidth": 2,
            "linecolor": "white",
            "showbackground": true,
            "ticks": "",
            "zerolinecolor": "white"
           },
           "yaxis": {
            "backgroundcolor": "#E5ECF6",
            "gridcolor": "white",
            "gridwidth": 2,
            "linecolor": "white",
            "showbackground": true,
            "ticks": "",
            "zerolinecolor": "white"
           },
           "zaxis": {
            "backgroundcolor": "#E5ECF6",
            "gridcolor": "white",
            "gridwidth": 2,
            "linecolor": "white",
            "showbackground": true,
            "ticks": "",
            "zerolinecolor": "white"
           }
          },
          "shapedefaults": {
           "line": {
            "color": "#2a3f5f"
           }
          },
          "ternary": {
           "aaxis": {
            "gridcolor": "white",
            "linecolor": "white",
            "ticks": ""
           },
           "baxis": {
            "gridcolor": "white",
            "linecolor": "white",
            "ticks": ""
           },
           "bgcolor": "#E5ECF6",
           "caxis": {
            "gridcolor": "white",
            "linecolor": "white",
            "ticks": ""
           }
          },
          "title": {
           "x": 0.05
          },
          "xaxis": {
           "automargin": true,
           "gridcolor": "white",
           "linecolor": "white",
           "ticks": "",
           "title": {
            "standoff": 15
           },
           "zerolinecolor": "white",
           "zerolinewidth": 2
          },
          "yaxis": {
           "automargin": true,
           "gridcolor": "white",
           "linecolor": "white",
           "ticks": "",
           "title": {
            "standoff": 15
           },
           "zerolinecolor": "white",
           "zerolinewidth": 2
          }
         }
        },
        "title": {
         "text": "Clusters GMM sur données ISOMAP (3D)"
        },
        "width": 900
       }
      },
      "image/png": "[encoded data removed]"
     },
     "metadata": {},
     "output_type": "display_data"
    },
    {
     "data": {
      "application/vnd.plotly.v1+json": {
       "config": {
        "plotlyServerURL": "https://plot.ly"
       },
       "data": [
        {
         "customdata": [
          [
           "Jordan Lefort",
           "DF"
          ],
          [
           "Andrey Santos",
           "MF"
          ],
          [
           "Valentin Atangana Edoa",
           "MF"
          ],
          [
           "Himad Abdelli",
           "MF,FW"
          ],
          [
           "Mason Greenwood",
           "FW,MF"
          ],
          [
           "Zuriko Davitashvili",
           "FW,MF"
          ],
          [
           "Gautier Lloris",
           "DF"
          ],
          [
           "Matthis Abline",
           "FW"
          ],
          [
           "Bafodé Diakité",
           "DF"
          ],
          [
           "Adrien Truffert",
           "DF,MF"
          ],
          [
           "Moussa Niakhate",
           "DF"
          ],
          [
           "Guela Doué",
           "DF"
          ],
          [
           "Alexsandro Ribeiro",
           "DF"
          ],
          [
           "Cristian Cásseres Jr.",
           "MF"
          ],
          [
           "Benjamin André",
           "MF"
          ],
          [
           "Gaëtan Perrin",
           "MF,FW"
          ],
          [
           "Junya Ito",
           "FW,MF"
          ],
          [
           "Aron Dønnum",
           "DF,MF"
          ],
          [
           "Kenny Lala",
           "DF"
          ],
          [
           "Florent Hanin",
           "DF"
          ],
          [
           "Pierre Højbjerg",
           "MF"
          ],
          [
           "Mahdi Camara",
           "MF,FW"
          ],
          [
           "Keito Nakamura",
           "FW,MF"
          ],
          [
           "Jubal",
           "DF"
          ],
          [
           "Ismaël Doukouré",
           "DF,MF"
          ],
          [
           "Léo Pétrot",
           "DF"
          ],
          [
           "Jean-Charles Castelletto",
           "DF,MF"
          ],
          [
           "Adrien Thomasson",
           "MF"
          ],
          [
           "Luis Henrique",
           "DF,FW"
          ],
          [
           "Moses Simon",
           "FW,MF"
          ],
          [
           "Charlie Cresswell",
           "DF"
          ],
          [
           "Arnaud Kalimuendo",
           "FW,MF"
          ],
          [
           "Pierre Ekwah Elimby",
           "MF"
          ],
          [
           "Diego Moreira",
           "DF,MF"
          ],
          [
           "Evann Guessand",
           "FW,MF"
          ],
          [
           "Jonathan David",
           "FW"
          ],
          [
           "Facundo Medina",
           "DF"
          ],
          [
           "Sergio Akieme",
           "DF"
          ],
          [
           "Dilane Bakwa",
           "MF,DF"
          ],
          [
           "Mark McKenzie",
           "DF"
          ],
          [
           "Ludovic Ajorque",
           "FW"
          ],
          [
           "Clément Akpa",
           "DF"
          ],
          [
           "Adrien Rabiot",
           "MF"
          ],
          [
           "Loïc Nego",
           "DF,FW"
          ],
          [
           "Michael Amir Murillo",
           "DF"
          ],
          [
           "Hicham Boudaoui",
           "MF"
          ],
          [
           "Brendan Chardonnet",
           "DF"
          ],
          [
           "Maghnes Akliouche",
           "FW,MF"
          ],
          [
           "Vincent Sierro",
           "MF"
          ],
          [
           "Thilo Kehrer",
           "DF"
          ],
          [
           "Clinton Mata",
           "DF"
          ],
          [
           "Mamadou Sarr",
           "DF"
          ],
          [
           "Téji Savanier",
           "MF"
          ],
          [
           "Lorenz Assignon",
           "DF,MF"
          ],
          [
           "Habib Diarra",
           "MF,FW"
          ],
          [
           "Pedro Chirivella",
           "MF"
          ],
          [
           "Elisha Owusu",
           "MF"
          ],
          [
           "Yann Gboho",
           "MF,FW"
          ],
          [
           "Corentin Tolisso",
           "MF"
          ],
          [
           "Abdoulaye Touré",
           "MF"
          ],
          [
           "Hugo Magnetti",
           "MF"
          ],
          [
           "Etienne Youte Kinkoue",
           "DF"
          ],
          [
           "Douglas",
           "MF"
          ],
          [
           "Mickael Nade",
           "DF"
          ],
          [
           "Jonathan Clauss",
           "DF,MF"
          ],
          [
           "Lassine Sinayoko",
           "FW,MF"
          ],
          [
           "Ludovic Blas",
           "MF,FW"
          ],
          [
           "Emanuel Emegha",
           "FW"
          ],
          [
           "Gideon Mensah",
           "DF"
          ],
          [
           "Leonardo Balerdi",
           "DF"
          ],
          [
           "Takumi Minamino",
           "MF,FW"
          ],
          [
           "Andy Diouf",
           "MF"
          ],
          [
           "Moïse Bombito",
           "DF"
          ],
          [
           "Cédric Kipré",
           "DF"
          ],
          [
           "Bradley Barcola",
           "FW"
          ],
          [
           "Kelvin Amian",
           "DF"
          ],
          [
           "Gabriel Suazo",
           "DF"
          ],
          [
           "Denis Zakaria",
           "MF"
          ],
          [
           "Modibo Sagnan",
           "DF"
          ],
          [
           "Willian Pacho",
           "DF"
          ],
          [
           "Dennis Appiah",
           "DF"
          ],
          [
           "Ki-Jana Hoever",
           "DF"
          ],
          [
           "Jonathan Gradit",
           "DF"
          ],
          [
           "Sebastian Nanasi",
           "MF,FW"
          ],
          [
           "Djibril Sidibé",
           "DF"
          ],
          [
           "Yassine Kechta",
           "MF,FW"
          ],
          [
           "Wilfried Singo",
           "DF"
          ],
          [
           "Hamed Junior Traorè",
           "MF"
          ],
          [
           "Azor Matusiwa",
           "MF"
          ],
          [
           "Achraf Hakimi",
           "DF"
          ],
          [
           "Vanderson",
           "DF"
          ],
          [
           "Lamine Camara",
           "MF"
          ],
          [
           "Alexandre Lacazette",
           "FW"
          ],
          [
           "Nicolas Cozza",
           "DF,MF"
          ],
          [
           "Warren Zaïre-Emery",
           "MF,DF"
          ],
          [
           "Johann Lepenant",
           "MF"
          ],
          [
           "Carlens Arcus",
           "DF"
          ],
          [
           "Vitinha",
           "MF"
          ],
          [
           "Rayan Cherki",
           "FW,MF"
          ],
          [
           "Geoffrey Kondogbia",
           "DF,MF"
          ],
          [
           "Nicolas Pallois",
           "DF"
          ],
          [
           "Dylan Batubinsika",
           "DF"
          ],
          [
           "Lucas Beraldo",
           "DF"
          ],
          [
           "Nemanja Matić",
           "MF"
          ],
          [
           "Josué Casimir",
           "FW,MF"
          ],
          [
           "Ainsley Maitland-Niles",
           "DF"
          ],
          [
           "Aurélio Buta",
           "DF"
          ],
          [
           "Dante",
           "DF"
          ],
          [
           "Jean-Eudes Aholou",
           "MF"
          ],
          [
           "Sinaly Diomande",
           "DF"
          ],
          [
           "Melvin Bard",
           "DF,MF"
          ],
          [
           "Youssouf Ndayishimiye",
           "DF"
          ],
          [
           "Caio Henrique Oliveira Silva",
           "DF"
          ],
          [
           "Thomas Meunier",
           "DF"
          ],
          [
           "Fabián Ruiz Peña",
           "MF"
          ],
          [
           "Issa Soumaré",
           "FW,MF"
          ],
          [
           "Nicolás Tagliafico",
           "DF"
          ],
          [
           "Zakaria Aboukhlal",
           "MF,FW"
          ],
          [
           "Enzo Tchato",
           "DF"
          ],
          [
           "Farid El Melali",
           "FW"
          ],
          [
           "Joris Chotard",
           "MF"
          ],
          [
           "Lucas Stassin",
           "FW"
          ],
          [
           "João Neves",
           "MF,DF"
          ],
          [
           "Breel Embolo",
           "FW,MF"
          ],
          [
           "Gaëtan Laborde",
           "FW"
          ],
          [
           "Deiver Machado",
           "DF,MF"
          ],
          [
           "Becir Omeragic",
           "DF"
          ],
          [
           "Florian Sotoca",
           "FW,MF"
          ],
          [
           "Haris Belkebla",
           "MF"
          ],
          [
           "Gabriel Gudmundsson",
           "DF"
          ],
          [
           "Félix Lemaréchal",
           "MF,FW"
          ],
          [
           "Pablo Rosario",
           "MF,DF"
          ],
          [
           "Jordan Ferri",
           "MF"
          ],
          [
           "Benjamin Bouchouari",
           "MF"
          ],
          [
           "Hákon Arnar Haraldsson",
           "MF,FW"
          ],
          [
           "Jim Allevinah",
           "FW"
          ],
          [
           "Eliesse Ben Seghir",
           "MF,FW"
          ],
          [
           "Aïssa Mandi",
           "DF"
          ],
          [
           "Ousmane Dembélé",
           "FW"
          ],
          [
           "Désiré Doué",
           "FW,MF"
          ],
          [
           "Marquinhos",
           "DF"
          ],
          [
           "Abdoulaye Niakhate Ndiaye",
           "DF"
          ],
          [
           "Joseph Okumu",
           "DF"
          ],
          [
           "Marshall Munetsi",
           "MF"
          ],
          [
           "Rabby Nzingoula",
           "MF"
          ],
          [
           "Hans Hateboer",
           "DF"
          ],
          [
           "Massadio Haïdara",
           "DF"
          ],
          [
           "Nuno Mendes",
           "DF"
          ],
          [
           "Joshua King",
           "FW,MF"
          ],
          [
           "Lee Kang-in",
           "FW,MF"
          ],
          [
           "Gabriel Osho",
           "DF"
          ],
          [
           "Esteban Lepaul",
           "FW"
          ],
          [
           "Oumar Diakité",
           "FW"
          ],
          [
           "Mohamed Ali Cho",
           "FW,MF"
          ],
          [
           "Quentin Merlin",
           "DF"
          ],
          [
           "Malick Fofana",
           "FW"
          ],
          [
           "Neil El Aynaoui",
           "MF"
          ],
          [
           "Duje Ćaleta-Car",
           "DF"
          ],
          [
           "Mathias Pereira Lage",
           "FW,MF"
          ],
          [
           "Valentin Rongier",
           "MF,DF"
          ],
          [
           "Jordan Veretout",
           "MF"
          ],
          [
           "Pierre Lees-Melou",
           "MF"
          ],
          [
           "Yassin Belkhdim",
           "MF"
          ],
          [
           "Frank Magri",
           "FW,MF"
          ],
          [
           "Nathan Zeze",
           "DF"
          ],
          [
           "Abdoulaye Bamba",
           "DF"
          ],
          [
           "Christian Mawissa",
           "DF"
          ],
          [
           "Tanguy Coulibaly",
           "FW,MF"
          ],
          [
           "M'Bala Nzola",
           "FW"
          ],
          [
           "Kévin Danois",
           "MF"
          ],
          [
           "Christopher Wooh",
           "DF"
          ],
          [
           "André Ayew",
           "FW"
          ],
          [
           "Georges Mikautadze",
           "FW"
          ],
          [
           "Derek Cornelius",
           "DF"
          ],
          [
           "Anass Zaroury",
           "FW,MF"
          ],
          [
           "Ali Abdi",
           "DF,MF"
          ],
          [
           "Przemysław Frankowski",
           "DF"
          ],
          [
           "Malang Sarr",
           "DF"
          ],
          [
           "Julien Le Cardinal",
           "DF"
          ],
          [
           "Emmanuel Biumla",
           "DF"
          ],
          [
           "Kamory Doumbia",
           "MF,FW"
          ],
          [
           "Sorba Thomas",
           "FW,MF"
          ],
          [
           "Lilian Raolisoa",
           "DF,FW"
          ],
          [
           "Amadou Koné",
           "MF"
          ],
          [
           "Osame Sahraoui",
           "FW,MF"
          ],
          [
           "André Gomes",
           "MF"
          ],
          [
           "Emmanuel Agbadou",
           "DF"
          ],
          [
           "Romain Del Castillo",
           "FW"
          ],
          [
           "Mostafa Mohamed",
           "FW"
          ],
          [
           "Florian Tardieu",
           "MF"
          ],
          [
           "Arouna Sangante",
           "DF"
          ],
          [
           "Abdallah Sima",
           "FW,MF"
          ],
          [
           "Tanner Tessmann",
           "MF"
          ],
          [
           "Lilian Brassier",
           "DF"
          ],
          [
           "Falaye Sacko",
           "DF"
          ],
          [
           "Mika Biereth",
           "FW"
          ],
          [
           "Leo Skiri Østigård",
           "DF"
          ],
          [
           "Ngal'Ayel Mukau",
           "MF"
          ],
          [
           "Shavy Babicka",
           "MF,FW"
          ],
          [
           "Jordan James",
           "MF"
          ],
          [
           "Christopher Operi",
           "DF,FW"
          ],
          [
           "Arnaud Nordin",
           "FW"
          ],
          [
           "Nhoa Sangui",
           "DF,MF"
          ],
          [
           "Valentín Barco",
           "MF,DF"
          ],
          [
           "Issiaga Sylla",
           "DF"
          ],
          [
           "Aleksandr Golovin",
           "MF,FW"
          ],
          [
           "Ayyoub Bouaddi",
           "MF"
          ],
          [
           "Mama Samba Baldé",
           "FW"
          ],
          [
           "Mitchel Bakker",
           "FW,DF"
          ],
          [
           "Tanguy Ndombele",
           "MF"
          ],
          [
           "Mory Gbane",
           "DF,MF"
          ],
          [
           "Ruben Aguilar",
           "DF,MF"
          ],
          [
           "Djaoui Cissé",
           "MF"
          ],
          [
           "Wahbi Khazri",
           "FW,MF"
          ],
          [
           "Musa Al-Taamari",
           "FW,MF"
          ],
          [
           "Timothee Pembele",
           "DF"
          ],
          [
           "Jaydee Canvot",
           "DF,MF"
          ],
          [
           "Edimilson Fernandes",
           "MF,DF"
          ],
          [
           "Badredine Bouanani",
           "MF,FW"
          ],
          [
           "Abner",
           "DF"
          ],
          [
           "Kevin Danso",
           "DF"
          ],
          [
           "Akor Adams",
           "FW"
          ],
          [
           "Gonçalo Ramos",
           "FW"
          ],
          [
           "Matias Fernandez-Pardo",
           "FW,MF"
          ],
          [
           "Sofiane Diop",
           "MF,FW"
          ],
          [
           "Irvin Cardona",
           "FW"
          ],
          [
           "Rassoul Ndiaye",
           "MF"
          ],
          [
           "Jeremie Boga",
           "MF,FW"
          ],
          [
           "Ernest Nuamah",
           "FW,MF"
          ],
          [
           "Amine Gouiri",
           "FW,MF"
          ],
          [
           "Han-Noah Massengo",
           "MF"
          ],
          [
           "Angelo Fulgini",
           "MF,FW"
          ],
          [
           "Louis Mouton",
           "MF"
          ],
          [
           "Neal Maupay",
           "FW"
          ],
          [
           "Aimen Moueffek",
           "MF"
          ],
          [
           "Yunis Abdelhamid",
           "DF"
          ],
          [
           "Khalil Fayad",
           "MF,FW"
          ],
          [
           "Soungoutou Magassa",
           "MF"
          ],
          [
           "Mohammed Salisu",
           "DF"
          ],
          [
           "Warren Kamanzi",
           "DF,MF"
          ],
          [
           "Saidou Sow",
           "DF"
          ],
          [
           "Théo Sainte-Luce",
           "DF"
          ],
          [
           "Rémy Cabella",
           "FW,MF"
          ],
          [
           "Paul Joly",
           "DF"
          ],
          [
           "Oussama Targhalline",
           "MF"
          ],
          [
           "Edon Zhegrova",
           "FW,MF"
          ],
          [
           "Yanis Zouaoui",
           "DF,FW"
          ],
          [
           "Abdukodir Khusanov",
           "DF"
          ],
          [
           "Anthony Rouault",
           "DF"
          ],
          [
           "Ado Onaiwu",
           "MF,FW"
          ],
          [
           "Junior Mwanga",
           "MF"
          ],
          [
           "Thiago Almada",
           "MF,FW"
          ],
          [
           "Sael Kumbedi",
           "DF"
          ],
          [
           "Marcus Coco",
           "DF"
          ],
          [
           "Abakar Sylla",
           "DF"
          ],
          [
           "Yael Mouanga",
           "DF"
          ],
          [
           "Antoine Joujou",
           "MF,FW"
          ],
          [
           "Ibrahima Niane",
           "FW"
          ],
          [
           "Theo Bair",
           "FW"
          ],
          [
           "Ulisses Garcia",
           "DF"
          ],
          [
           "Jérémy Jacquet",
           "DF"
          ],
          [
           "Baptiste Santamaria",
           "MF"
          ],
          [
           "Khvicha Kvaratskhelia",
           "FW"
          ],
          [
           "Wesley Saïd",
           "FW"
          ],
          [
           "Ismaily",
           "DF"
          ],
          [
           "Romain Faivre",
           "MF,FW"
          ],
          [
           "Hiroki Sekine",
           "DF"
          ],
          [
           "Goduine Koyalipou",
           "FW"
          ],
          [
           "Lucas Hernández",
           "DF"
          ],
          [
           "Mathis Amougou",
           "MF"
          ],
          [
           "Mamadou Diakhon",
           "FW,MF"
          ],
          [
           "Mohamed Abdelmoneim",
           "DF"
          ],
          [
           "Koka",
           "FW"
          ],
          [
           "Zinedine Ferhat",
           "FW,MF"
          ],
          [
           "Seko Fofana",
           "MF"
          ],
          [
           "Antoine Mendy",
           "DF"
          ],
          [
           "Ibrahim Sissoko",
           "FW"
          ],
          [
           "Louis Leroux",
           "MF,DF"
          ],
          [
           "Albert Grønbaek",
           "MF,FW"
          ],
          [
           "Senny Mayulu",
           "MF"
          ],
          [
           "Jonathan Rowe",
           "FW,MF"
          ],
          [
           "Alidu Seidu",
           "DF"
          ],
          [
           "Yoann Salmier",
           "DF"
          ],
          [
           "Yvann Macon",
           "DF"
          ],
          [
           "Jordan Amavi",
           "DF"
          ],
          [
           "Tom Louchet",
           "DF,MF"
          ],
          [
           "Sekou Mara",
           "FW,MF"
          ],
          [
           "Maxime Bernauer",
           "DF"
          ],
          [
           "Boubakar Kouyaté",
           "DF"
          ],
          [
           "Teddy Teuma",
           "MF"
          ],
          [
           "Angel Gomes",
           "MF"
          ],
          [
           "Saïd Benrahma",
           "FW,MF"
          ],
          [
           "Augustine Boakye",
           "FW,MF"
          ],
          [
           "Mathieu Cafaro",
           "MF,FW"
          ],
          [
           "Rayan Raveloson",
           "MF,DF"
          ],
          [
           "George Ilenikhena",
           "FW"
          ],
          [
           "Lucas Mincarelli",
           "DF"
          ],
          [
           "Jacques Ekomie",
           "DF,FW"
          ],
          [
           "Mikayil Ngor Faye",
           "DF"
          ],
          [
           "Abdulai Juma Bah",
           "DF"
          ],
          [
           "Pol Lirola",
           "DF"
          ],
          [
           "Assane Dioussé",
           "MF"
          ],
          [
           "Glen Kamara",
           "MF"
          ],
          [
           "Emmanuel Sabbi",
           "FW,MF"
          ],
          [
           "Ismaël Bennacer",
           "MF"
          ],
          [
           "Chuba Akpom",
           "FW"
          ],
          [
           "Luck Zogbé",
           "DF"
          ],
          [
           "Rémy Labeau Lascary",
           "FW,MF"
          ],
          [
           "Yaya Kader Fofana",
           "MF,FW"
          ],
          [
           "Rasmus Nicolaisen",
           "DF"
          ],
          [
           "Marco Asensio",
           "FW,MF"
          ],
          [
           "Folarin Balogun",
           "FW"
          ],
          [
           "Andy Delort",
           "FW"
          ],
          [
           "Jhoanner Chávez",
           "DF,MF"
          ],
          [
           "Fodé Ballo-Touré",
           "DF,MF"
          ],
          [
           "Nampalys Mendy",
           "MF"
          ],
          [
           "Mahamadou Diawara",
           "MF"
          ],
          [
           "Nikola Maksimović",
           "DF"
          ],
          [
           "Pierre Cornud",
           "DF"
          ],
          [
           "Florian Ayé",
           "FW"
          ],
          [
           "Elye Wahi",
           "FW"
          ],
          [
           "Maxence Caqueret",
           "MF"
          ],
          [
           "Jordan Teze",
           "DF"
          ],
          [
           "Daler Kuzyaev",
           "MF"
          ],
          [
           "John Joe",
           "MF"
          ],
          [
           "Mohamed Meité",
           "FW"
          ],
          [
           "Andrew Omobamidele",
           "DF"
          ],
          [
           "Jean-Kevin Duverne",
           "DF"
          ],
          [
           "Bamba Dieng",
           "FW"
          ],
          [
           "Ben Old",
           "FW,MF"
          ],
          [
           "Amine Harit",
           "MF"
          ],
          [
           "Tino Kadewere",
           "MF,FW"
          ],
          [
           "Krépin Diatta",
           "DF,FW"
          ]
         ],
         "hovertemplate": "UMAP_1=%{x}<br>UMAP_2=%{y}<br>UMAP_3=%{z}<br>player_name=%{customdata[0]}<br>positions=%{customdata[1]}<br>cluster=%{marker.color}<extra></extra>",
         "legendgroup": "",
         "marker": {
          "color": {
           "bdata": "BQICAwQEBQAFBAUDBQIDBAQEAQEDAwAFBQEFAgQEBQACBAAAAwEEBQAFAwEDAwUEAgUFBQQEAwMCBAMCAgUCBQQABAABBQADBQUEAQQCBQUBAQUEAQIFBAIDAQIAAQMDAQMEBQUFBQMAAQEFAgUBBQQBAwABAAEEAgADAAABBQMCAQMCAwMEAAQDBAQFBQUAAwMBAwAEBQAABAQEAgUEAwIDAwAFBQEAAAMFAAAFBAEEBQUFAgQEAgQDBQQAAwUAAwUBAAUDAAIEBAEBAQMDAAQDBQEDBAQBAgIEAQUAAAQEAAIEBAQCBAMAAwUDAwUBBQEEAQIEBAUFAAIEAQEFBQQAAAMFAgQAAQQBAAUCBAUABAMBAAMEAwQBBQEBBAAFBQIEBAAEAgABAQUFAQICAAMAAQADBQQAAAQBAgMFAQAAAwECAwAFAQAABAMB",
           "dtype": "i1"
          },
          "coloraxis": "coloraxis",
          "symbol": "circle"
         },
         "mode": "markers",
         "name": "",
         "scene": "scene",
         "showlegend": false,
         "type": "scatter3d",
         "x": {
          "bdata": "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",
          "dtype": "f8"
         },
         "y": {
          "bdata": "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",
          "dtype": "f8"
         },
         "z": {
          "bdata": "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",
          "dtype": "f8"
         }
        }
       ],
       "layout": {
        "coloraxis": {
         "colorbar": {
          "title": {
           "text": "cluster"
          }
         },
         "colorscale": [
          [
           0,
           "#0d0887"
          ],
          [
           0.1111111111111111,
           "#46039f"
          ],
          [
           0.2222222222222222,
           "#7201a8"
          ],
          [
           0.3333333333333333,
           "#9c179e"
          ],
          [
           0.4444444444444444,
           "#bd3786"
          ],
          [
           0.5555555555555556,
           "#d8576b"
          ],
          [
           0.6666666666666666,
           "#ed7953"
          ],
          [
           0.7777777777777778,
           "#fb9f3a"
          ],
          [
           0.8888888888888888,
           "#fdca26"
          ],
          [
           1,
           "#f0f921"
          ]
         ]
        },
        "height": 700,
        "legend": {
         "tracegroupgap": 0
        },
        "scene": {
         "domain": {
          "x": [
           0,
           1
          ],
          "y": [
           0,
           1
          ]
         },
         "xaxis": {
          "title": {
           "text": "UMAP_1"
          }
         },
         "yaxis": {
          "title": {
           "text": "UMAP_2"
          }
         },
         "zaxis": {
          "title": {
           "text": "UMAP_3"
          }
         }
        },
        "template": {
         "data": {
          "bar": [
           {
            "error_x": {
             "color": "#2a3f5f"
            },
            "error_y": {
             "color": "#2a3f5f"
            },
            "marker": {
             "line": {
              "color": "#E5ECF6",
              "width": 0.5
             },
             "pattern": {
              "fillmode": "overlay",
              "size": 10,
              "solidity": 0.2
             }
            },
            "type": "bar"
           }
          ],
          "barpolar": [
           {
            "marker": {
             "line": {
              "color": "#E5ECF6",
              "width": 0.5
             },
             "pattern": {
              "fillmode": "overlay",
              "size": 10,
              "solidity": 0.2
             }
            },
            "type": "barpolar"
           }
          ],
          "carpet": [
           {
            "aaxis": {
             "endlinecolor": "#2a3f5f",
             "gridcolor": "white",
             "linecolor": "white",
             "minorgridcolor": "white",
             "startlinecolor": "#2a3f5f"
            },
            "baxis": {
             "endlinecolor": "#2a3f5f",
             "gridcolor": "white",
             "linecolor": "white",
             "minorgridcolor": "white",
             "startlinecolor": "#2a3f5f"
            },
            "type": "carpet"
           }
          ],
          "choropleth": [
           {
            "colorbar": {
             "outlinewidth": 0,
             "ticks": ""
            },
            "type": "choropleth"
           }
          ],
          "contour": [
           {
            "colorbar": {
             "outlinewidth": 0,
             "ticks": ""
            },
            "colorscale": [
             [
              0,
              "#0d0887"
             ],
             [
              0.1111111111111111,
              "#46039f"
             ],
             [
              0.2222222222222222,
              "#7201a8"
             ],
             [
              0.3333333333333333,
              "#9c179e"
             ],
             [
              0.4444444444444444,
              "#bd3786"
             ],
             [
              0.5555555555555556,
              "#d8576b"
             ],
             [
              0.6666666666666666,
              "#ed7953"
             ],
             [
              0.7777777777777778,
              "#fb9f3a"
             ],
             [
              0.8888888888888888,
              "#fdca26"
             ],
             [
              1,
              "#f0f921"
             ]
            ],
            "type": "contour"
           }
          ],
          "contourcarpet": [
           {
            "colorbar": {
             "outlinewidth": 0,
             "ticks": ""
            },
            "type": "contourcarpet"
           }
          ],
          "heatmap": [
           {
            "colorbar": {
             "outlinewidth": 0,
             "ticks": ""
            },
            "colorscale": [
             [
              0,
              "#0d0887"
             ],
             [
              0.1111111111111111,
              "#46039f"
             ],
             [
              0.2222222222222222,
              "#7201a8"
             ],
             [
              0.3333333333333333,
              "#9c179e"
             ],
             [
              0.4444444444444444,
              "#bd3786"
             ],
             [
              0.5555555555555556,
              "#d8576b"
             ],
             [
              0.6666666666666666,
              "#ed7953"
             ],
             [
              0.7777777777777778,
              "#fb9f3a"
             ],
             [
              0.8888888888888888,
              "#fdca26"
             ],
             [
              1,
              "#f0f921"
             ]
            ],
            "type": "heatmap"
           }
          ],
          "histogram": [
           {
            "marker": {
             "pattern": {
              "fillmode": "overlay",
              "size": 10,
              "solidity": 0.2
             }
            },
            "type": "histogram"
           }
          ],
          "histogram2d": [
           {
            "colorbar": {
             "outlinewidth": 0,
             "ticks": ""
            },
            "colorscale": [
             [
              0,
              "#0d0887"
             ],
             [
              0.1111111111111111,
              "#46039f"
             ],
             [
              0.2222222222222222,
              "#7201a8"
             ],
             [
              0.3333333333333333,
              "#9c179e"
             ],
             [
              0.4444444444444444,
              "#bd3786"
             ],
             [
              0.5555555555555556,
              "#d8576b"
             ],
             [
              0.6666666666666666,
              "#ed7953"
             ],
             [
              0.7777777777777778,
              "#fb9f3a"
             ],
             [
              0.8888888888888888,
              "#fdca26"
             ],
             [
              1,
              "#f0f921"
             ]
            ],
            "type": "histogram2d"
           }
          ],
          "histogram2dcontour": [
           {
            "colorbar": {
             "outlinewidth": 0,
             "ticks": ""
            },
            "colorscale": [
             [
              0,
              "#0d0887"
             ],
             [
              0.1111111111111111,
              "#46039f"
             ],
             [
              0.2222222222222222,
              "#7201a8"
             ],
             [
              0.3333333333333333,
              "#9c179e"
             ],
             [
              0.4444444444444444,
              "#bd3786"
             ],
             [
              0.5555555555555556,
              "#d8576b"
             ],
             [
              0.6666666666666666,
              "#ed7953"
             ],
             [
              0.7777777777777778,
              "#fb9f3a"
             ],
             [
              0.8888888888888888,
              "#fdca26"
             ],
             [
              1,
              "#f0f921"
             ]
            ],
            "type": "histogram2dcontour"
           }
          ],
          "mesh3d": [
           {
            "colorbar": {
             "outlinewidth": 0,
             "ticks": ""
            },
            "type": "mesh3d"
           }
          ],
          "parcoords": [
           {
            "line": {
             "colorbar": {
              "outlinewidth": 0,
              "ticks": ""
             }
            },
            "type": "parcoords"
           }
          ],
          "pie": [
           {
            "automargin": true,
            "type": "pie"
           }
          ],
          "scatter": [
           {
            "fillpattern": {
             "fillmode": "overlay",
             "size": 10,
             "solidity": 0.2
            },
            "type": "scatter"
           }
          ],
          "scatter3d": [
           {
            "line": {
             "colorbar": {
              "outlinewidth": 0,
              "ticks": ""
             }
            },
            "marker": {
             "colorbar": {
              "outlinewidth": 0,
              "ticks": ""
             }
            },
            "type": "scatter3d"
           }
          ],
          "scattercarpet": [
           {
            "marker": {
             "colorbar": {
              "outlinewidth": 0,
              "ticks": ""
             }
            },
            "type": "scattercarpet"
           }
          ],
          "scattergeo": [
           {
            "marker": {
             "colorbar": {
              "outlinewidth": 0,
              "ticks": ""
             }
            },
            "type": "scattergeo"
           }
          ],
          "scattergl": [
           {
            "marker": {
             "colorbar": {
              "outlinewidth": 0,
              "ticks": ""
             }
            },
            "type": "scattergl"
           }
          ],
          "scattermap": [
           {
            "marker": {
             "colorbar": {
              "outlinewidth": 0,
              "ticks": ""
             }
            },
            "type": "scattermap"
           }
          ],
          "scattermapbox": [
           {
            "marker": {
             "colorbar": {
              "outlinewidth": 0,
              "ticks": ""
             }
            },
            "type": "scattermapbox"
           }
          ],
          "scatterpolar": [
           {
            "marker": {
             "colorbar": {
              "outlinewidth": 0,
              "ticks": ""
             }
            },
            "type": "scatterpolar"
           }
          ],
          "scatterpolargl": [
           {
            "marker": {
             "colorbar": {
              "outlinewidth": 0,
              "ticks": ""
             }
            },
            "type": "scatterpolargl"
           }
          ],
          "scatterternary": [
           {
            "marker": {
             "colorbar": {
              "outlinewidth": 0,
              "ticks": ""
             }
            },
            "type": "scatterternary"
           }
          ],
          "surface": [
           {
            "colorbar": {
             "outlinewidth": 0,
             "ticks": ""
            },
            "colorscale": [
             [
              0,
              "#0d0887"
             ],
             [
              0.1111111111111111,
              "#46039f"
             ],
             [
              0.2222222222222222,
              "#7201a8"
             ],
             [
              0.3333333333333333,
              "#9c179e"
             ],
             [
              0.4444444444444444,
              "#bd3786"
             ],
             [
              0.5555555555555556,
              "#d8576b"
             ],
             [
              0.6666666666666666,
              "#ed7953"
             ],
             [
              0.7777777777777778,
              "#fb9f3a"
             ],
             [
              0.8888888888888888,
              "#fdca26"
             ],
             [
              1,
              "#f0f921"
             ]
            ],
            "type": "surface"
           }
          ],
          "table": [
           {
            "cells": {
             "fill": {
              "color": "#EBF0F8"
             },
             "line": {
              "color": "white"
             }
            },
            "header": {
             "fill": {
              "color": "#C8D4E3"
             },
             "line": {
              "color": "white"
             }
            },
            "type": "table"
           }
          ]
         },
         "layout": {
          "annotationdefaults": {
           "arrowcolor": "#2a3f5f",
           "arrowhead": 0,
           "arrowwidth": 1
          },
          "autotypenumbers": "strict",
          "coloraxis": {
           "colorbar": {
            "outlinewidth": 0,
            "ticks": ""
           }
          },
          "colorscale": {
           "diverging": [
            [
             0,
             "#8e0152"
            ],
            [
             0.1,
             "#c51b7d"
            ],
            [
             0.2,
             "#de77ae"
            ],
            [
             0.3,
             "#f1b6da"
            ],
            [
             0.4,
             "#fde0ef"
            ],
            [
             0.5,
             "#f7f7f7"
            ],
            [
             0.6,
             "#e6f5d0"
            ],
            [
             0.7,
             "#b8e186"
            ],
            [
             0.8,
             "#7fbc41"
            ],
            [
             0.9,
             "#4d9221"
            ],
            [
             1,
             "#276419"
            ]
           ],
           "sequential": [
            [
             0,
             "#0d0887"
            ],
            [
             0.1111111111111111,
             "#46039f"
            ],
            [
             0.2222222222222222,
             "#7201a8"
            ],
            [
             0.3333333333333333,
             "#9c179e"
            ],
            [
             0.4444444444444444,
             "#bd3786"
            ],
            [
             0.5555555555555556,
             "#d8576b"
            ],
            [
             0.6666666666666666,
             "#ed7953"
            ],
            [
             0.7777777777777778,
             "#fb9f3a"
            ],
            [
             0.8888888888888888,
             "#fdca26"
            ],
            [
             1,
             "#f0f921"
            ]
           ],
           "sequentialminus": [
            [
             0,
             "#0d0887"
            ],
            [
             0.1111111111111111,
             "#46039f"
            ],
            [
             0.2222222222222222,
             "#7201a8"
            ],
            [
             0.3333333333333333,
             "#9c179e"
            ],
            [
             0.4444444444444444,
             "#bd3786"
            ],
            [
             0.5555555555555556,
             "#d8576b"
            ],
            [
             0.6666666666666666,
             "#ed7953"
            ],
            [
             0.7777777777777778,
             "#fb9f3a"
            ],
            [
             0.8888888888888888,
             "#fdca26"
            ],
            [
             1,
             "#f0f921"
            ]
           ]
          },
          "colorway": [
           "#636efa",
           "#EF553B",
           "#00cc96",
           "#ab63fa",
           "#FFA15A",
           "#19d3f3",
           "#FF6692",
           "#B6E880",
           "#FF97FF",
           "#FECB52"
          ],
          "font": {
           "color": "#2a3f5f"
          },
          "geo": {
           "bgcolor": "white",
           "lakecolor": "white",
           "landcolor": "#E5ECF6",
           "showlakes": true,
           "showland": true,
           "subunitcolor": "white"
          },
          "hoverlabel": {
           "align": "left"
          },
          "hovermode": "closest",
          "mapbox": {
           "style": "light"
          },
          "paper_bgcolor": "white",
          "plot_bgcolor": "#E5ECF6",
          "polar": {
           "angularaxis": {
            "gridcolor": "white",
            "linecolor": "white",
            "ticks": ""
           },
           "bgcolor": "#E5ECF6",
           "radialaxis": {
            "gridcolor": "white",
            "linecolor": "white",
            "ticks": ""
           }
          },
          "scene": {
           "xaxis": {
            "backgroundcolor": "#E5ECF6",
            "gridcolor": "white",
            "gridwidth": 2,
            "linecolor": "white",
            "showbackground": true,
            "ticks": "",
            "zerolinecolor": "white"
           },
           "yaxis": {
            "backgroundcolor": "#E5ECF6",
            "gridcolor": "white",
            "gridwidth": 2,
            "linecolor": "white",
            "showbackground": true,
            "ticks": "",
            "zerolinecolor": "white"
           },
           "zaxis": {
            "backgroundcolor": "#E5ECF6",
            "gridcolor": "white",
            "gridwidth": 2,
            "linecolor": "white",
            "showbackground": true,
            "ticks": "",
            "zerolinecolor": "white"
           }
          },
          "shapedefaults": {
           "line": {
            "color": "#2a3f5f"
           }
          },
          "ternary": {
           "aaxis": {
            "gridcolor": "white",
            "linecolor": "white",
            "ticks": ""
           },
           "baxis": {
            "gridcolor": "white",
            "linecolor": "white",
            "ticks": ""
           },
           "bgcolor": "#E5ECF6",
           "caxis": {
            "gridcolor": "white",
            "linecolor": "white",
            "ticks": ""
           }
          },
          "title": {
           "x": 0.05
          },
          "xaxis": {
           "automargin": true,
           "gridcolor": "white",
           "linecolor": "white",
           "ticks": "",
           "title": {
            "standoff": 15
           },
           "zerolinecolor": "white",
           "zerolinewidth": 2
          },
          "yaxis": {
           "automargin": true,
           "gridcolor": "white",
           "linecolor": "white",
           "ticks": "",
           "title": {
            "standoff": 15
           },
           "zerolinecolor": "white",
           "zerolinewidth": 2
          }
         }
        },
        "title": {
         "text": "Clusters GMM sur données UMAP (3D)"
        },
        "width": 900
       }
      },
      "image/png": "[encoded data removed]"
     },
     "metadata": {},
     "output_type": "display_data"
    }
   ],
   "source": [
    "def print_results(X, column1, column2, data_name) :\n",
    "    fig = px.scatter(\n",
    "        X,\n",
    "        x= column1, \n",
    "        y= column2, \n",
    "        color='cluster', \n",
    "        hover_data=['player_name', 'positions'],  # ce qui s'affiche au survol\n",
    "        title=f\"Clusters GMM sur données {data_name}\",\n",
    "        width=800, \n",
    "        height=600,\n",
    "        color_discrete_sequence= None\n",
    "    )\n",
    "    fig.show()\n",
    "\n",
    "def print_results_3d(X, column1, column2, column3, data_name):\n",
    "    fig = px.scatter_3d(\n",
    "        X,\n",
    "        x=column1,\n",
    "        y=column2,\n",
    "        z=column3,\n",
    "        color='cluster',\n",
    "        hover_data=['player_name', 'positions'],  # info au survol\n",
    "        title=f\"Clusters GMM sur données {data_name} (3D)\",\n",
    "        width=900,\n",
    "        height=700,\n",
    "        color_discrete_sequence=None\n",
    "    )\n",
    "    fig.show()\n",
    "\n",
    "\"\"\"\n",
    "print(\"=\"*60)\n",
    "print(\"============RESULTS EN 2D===============\")\n",
    "print(\"=\"*60)\n",
    "print_results(X_gmm_PCA_best, \"PCA_1\", \"PCA_2\", \"PCA\")\n",
    "print_results(X_gmm_tSNE_best, \"tsne_1\", \"tsne_2\", \"t-SNE\")\n",
    "print_results(X_gmm_ISOMAP_best, \"isomap_1\", \"isomap_2\", \"ISOMAP\")\n",
    "print_results(X_gmm_UMAP_best, \"UMAP_1\", \"UMAP_2\", \"UMAP\")\n",
    "\"\"\"\n",
    "\n",
    "print(\"=\"*60)\n",
    "print(\"============RESULTS EN 3D===============\")\n",
    "print(\"=\"*60)\n",
    "print_results_3d(X_gmm_PCA_best, \"PCA_1\", \"PCA_2\", \"PCA_3\", \"PCA\")\n",
    "print_results_3d(X_gmm_tSNE_best, \"tsne_1\", \"tsne_2\", \"tsne_3\", \"t-SNE\")\n",
    "print_results_3d(X_gmm_ISOMAP_best, \"isomap_1\", \"isomap_2\", \"isomap_3\", \"ISOMAP\")\n",
    "print_results_3d(X_gmm_UMAP_best, \"UMAP_1\", \"UMAP_2\", \"UMAP_3\", \"UMAP\")"
   ]
  },
  {
   "cell_type": "code",
   "execution_count": null,
   "id": "a93df5b6-63c4-4d3d-95b7-dc1763e1fff1",
   "metadata": {},
   "outputs": [],
   "source": []
  },
  {
   "cell_type": "code",
   "execution_count": null,
   "id": "1947cad2-c50b-400f-92fa-b9b61ede331a",
   "metadata": {},
   "outputs": [],
   "source": []
  },
  {
   "cell_type": "code",
   "execution_count": null,
   "id": "2205fe08-6be4-488c-b955-1ab729cd43dc",
   "metadata": {},
   "outputs": [],
   "source": []
  },
  {
   "cell_type": "code",
   "execution_count": null,
   "id": "e095b3d2-4e9f-4063-8397-61fcf0d5e3c8",
   "metadata": {},
   "outputs": [],
   "source": []
  },
  {
   "cell_type": "code",
   "execution_count": null,
   "id": "db35272b-74b0-4743-9f99-34de64b7f97a",
   "metadata": {},
   "outputs": [],
   "source": []
  },
  {
   "cell_type": "code",
   "execution_count": null,
   "id": "26087caf-cea3-4a78-b6e9-823ba01b9fc9",
   "metadata": {},
   "outputs": [],
   "source": []
  },
  {
   "cell_type": "code",
   "execution_count": null,
   "id": "21b601f6-eebf-4601-9007-1b67650d1e15",
   "metadata": {},
   "outputs": [],
   "source": []
  }
 ],
 "metadata": {
  "kernelspec": {
   "display_name": "Python 3 (ipykernel)",
   "language": "python",
   "name": "python3"
  },
  "language_info": {
   "codemirror_mode": {
    "name": "ipython",
    "version": 3
   },
   "file_extension": ".py",
   "mimetype": "text/x-python",
   "name": "python",
   "nbconvert_exporter": "python",
   "pygments_lexer": "ipython3",
   "version": "3.11.9"
  }
 },
 "nbformat": 4,
 "nbformat_minor": 5
}
