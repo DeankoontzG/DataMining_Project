{
 "cells": [
  {
   "cell_type": "markdown",
   "id": "f6fc2859-8d98-4331-9889-1191b88d714c",
   "metadata": {},
   "source": [
    "# Clustering via Gausian Mixtures"
   ]
  },
  {
   "cell_type": "code",
   "execution_count": 36,
   "id": "4b8537fe-ba48-4a1e-ac97-76cc600e3c39",
   "metadata": {},
   "outputs": [
    {
     "name": "stdout",
     "output_type": "stream",
     "text": [
      "    isomap_1  isomap_2  isomap_3  isomap_4  isomap_5  isomap_6  isomap_7  \\\n",
      "0  21.062129 -4.222008 -2.173427 -3.796018 -2.686983  4.300071   2.18389   \n",
      "\n",
      "     player_name  equipe positions  \n",
      "0  Jordan Lefort  Angers        DF  \n"
     ]
    }
   ],
   "source": [
    "import pandas as pd\n",
    "import numpy as np\n",
    "\n",
    "import matplotlib.pyplot as plt\n",
    "import plotly.express as px\n",
    "import seaborn as sns\n",
    "\n",
    "from sklearn.mixture import GaussianMixture\n",
    "from sklearn.preprocessing import StandardScaler\n",
    "from sklearn.metrics import silhouette_score, davies_bouldin_score, calinski_harabasz_score\n",
    "\n",
    "\n",
    "file_path_ISOMap_raw = \"../../reduced_data/joueurs_ligue1_ISOMap_raw.csv\"\n",
    "file_path_ISOMap_per90 = \"../../reduced_data/joueurs_ligue1_ISOMap_per90.csv\"\n",
    "\n",
    "data_ISOMap_raw = pd.read_csv(file_path_ISOMap_raw, encoding=\"utf-8\")\n",
    "data_ISOMap_per90 = pd.read_csv(file_path_ISOMap_per90, encoding=\"utf-8\")\n",
    "print(data_ISOMap_raw.head(1))"
   ]
  },
  {
   "cell_type": "markdown",
   "id": "aca3b4f4-faac-407d-8aae-8fc9e28d1e26",
   "metadata": {},
   "source": [
    "## Data Preparation : standardisation + columns removal"
   ]
  },
  {
   "cell_type": "code",
   "execution_count": 15,
   "id": "8ba6dade-6595-4120-9eaf-1793fc7ba03e",
   "metadata": {},
   "outputs": [
    {
     "name": "stdout",
     "output_type": "stream",
     "text": [
      "[ 1.34474033  1.30283802 -2.32940855  1.67514762  2.58475243  0.03916205\n",
      "  0.59423857]\n"
     ]
    }
   ],
   "source": [
    "X_iso_raw = data_ISOMap_raw.drop(columns=['player_name', 'equipe', 'positions']).copy()\n",
    "X_iso_per90 = data_ISOMap_per90.drop(columns=['player_name', 'equipe', 'positions']).copy()\n",
    "\n",
    "scaler = StandardScaler()\n",
    "X_iso_raw = scaler.fit_transform(X_iso_raw) \n",
    "X_iso_per90 = scaler.fit_transform(X_iso_per90)\n",
    "print(X_iso_raw[1])"
   ]
  },
  {
   "cell_type": "markdown",
   "id": "57e1983a-4ab3-4b44-b343-9713c9fccfd9",
   "metadata": {},
   "source": [
    "## GridSearch Analysis"
   ]
  },
  {
   "cell_type": "code",
   "execution_count": 45,
   "id": "f0dee62e-9faf-45e8-bdb7-d643832a8823",
   "metadata": {},
   "outputs": [
    {
     "name": "stdout",
     "output_type": "stream",
     "text": [
      "                            0            1            2            3   \\\n",
      "n_components                 6            6            6            6   \n",
      "covariance_type           full         tied         diag    spherical   \n",
      "BIC                 6252.61859  6410.660122  5950.721598  5910.997817   \n",
      "AIC                5433.867955  6125.049435  5611.796917  5709.166265   \n",
      "log_likelihood       -7.513315    -8.971546    -8.158854    -8.413163   \n",
      "silhouette_score       0.14732     0.253127     0.158831     0.133366   \n",
      "davies_bouldin        1.840462      1.39952     2.140499     2.212723   \n",
      "calinski_harabasz     38.74962    48.213644    35.020581    29.480566   \n",
      "converged                 True         True         True         True   \n",
      "\n",
      "                            4            5            6            7   \\\n",
      "n_components                 7            7            7            7   \n",
      "covariance_type           full         tied         diag    spherical   \n",
      "BIC                6215.757667  6325.757359  5998.667354  5928.118819   \n",
      "AIC                5259.913902  6009.681532  5602.620535  5692.013984   \n",
      "log_likelihood       -7.144015    -8.774297    -8.100031    -8.360381   \n",
      "silhouette_score      0.147599     0.254744     0.176048     0.154636   \n",
      "davies_bouldin          1.7498     1.289097     2.010848     2.083155   \n",
      "calinski_harabasz    40.023228    49.169905    37.647201    32.812706   \n",
      "converged                 True         True         True         True   \n",
      "\n",
      "                            8            9            10           11  \\\n",
      "n_components                 8            8            8            8   \n",
      "covariance_type           full         tied         diag    spherical   \n",
      "BIC                6437.458228  6294.888488  6038.625506  5969.919422   \n",
      "AIC                5344.521334  5948.347521  5585.456549  5699.541306   \n",
      "log_likelihood       -7.162945    -8.658179    -8.029214    -8.344657   \n",
      "silhouette_score      0.191605     0.247325     0.165555     0.168011   \n",
      "davies_bouldin        1.439435     1.383829     2.151812     2.188969   \n",
      "calinski_harabasz    45.875807    49.198093    35.691436    33.127878   \n",
      "converged                 True         True         True         True   \n",
      "\n",
      "                            12           13           14           15  \\\n",
      "n_components                 9            9            9            9   \n",
      "covariance_type           full         tied         diag    spherical   \n",
      "BIC                6479.891248  6257.927452  6082.811036  5967.712515   \n",
      "AIC                5249.861223  5880.921346  5572.519943  5663.061115   \n",
      "log_likelihood       -6.912705    -8.532915    -7.964745    -8.262855   \n",
      "silhouette_score      0.152082     0.259139     0.177975     0.170949   \n",
      "davies_bouldin        1.758718     1.254834     1.775156     1.478283   \n",
      "calinski_harabasz     36.03282    48.965655    39.528253    39.349065   \n",
      "converged                 True         True         True         True   \n",
      "\n",
      "                            16           17           18           19  \n",
      "n_components                10           10           10           10  \n",
      "covariance_type           full         tied         diag    spherical  \n",
      "BIC                6535.746373  6253.134754  6103.292903  5953.585567  \n",
      "AIC                5168.623219  5845.663507  5535.879672  5614.660886  \n",
      "log_likelihood       -6.682617    -8.455951    -7.864684    -8.163154  \n",
      "silhouette_score      0.148662       0.2312     0.195234     0.178282  \n",
      "davies_bouldin        1.506143     1.327065     1.438339     1.440537  \n",
      "calinski_harabasz    43.963975    49.896024    47.354461    41.099475  \n",
      "converged                 True         True         True         True  \n"
     ]
    }
   ],
   "source": [
    "def gmm_gridsearch(X, n_components_range=range(2, 8), cov_types=['full','tied','diag','spherical'], random_state=42, verbose=True):\n",
    "    results = []\n",
    "\n",
    "    for n in n_components_range:\n",
    "        for cov in cov_types:\n",
    "            gmm = GaussianMixture(n_components=n, covariance_type=cov, random_state=random_state)\n",
    "            gmm.fit(X)\n",
    "            labels = gmm.predict(X)\n",
    "            \n",
    "            log_likelihood = gmm.score(X)\n",
    "            bic = gmm.bic(X)\n",
    "            aic = gmm.aic(X)\n",
    "            resposabilites = gmm.predict_proba(X)\n",
    "            convergence = gmm.converged_\n",
    "            try:\n",
    "                sil_score = silhouette_score(X, labels)\n",
    "                db_score = davies_bouldin_score(X, labels)\n",
    "                ch_score = calinski_harabasz_score(X, labels)\n",
    "            except Exception as e:\n",
    "                sil_score = np.nan\n",
    "                db_score = np.nan\n",
    "                ch_score = np.nan\n",
    "                \n",
    "            results.append({\n",
    "                'n_components': n,\n",
    "                'covariance_type': cov,\n",
    "                'BIC': bic,\n",
    "                'AIC': aic,\n",
    "                'log_likelihood': log_likelihood,\n",
    "                'silhouette_score': sil_score,\n",
    "                'davies_bouldin': db_score,\n",
    "                'calinski_harabasz': ch_score,\n",
    "                'converged': gmm.converged_\n",
    "            })\n",
    "            \n",
    "    results_df = pd.DataFrame(results)\n",
    "    results_df = results_df.T\n",
    "    print(results_df)\n",
    "\n",
    "    return results_df\n",
    "\n",
    "gmm_results_raw = gmm_gridsearch(X_iso_raw, n_components_range=range(6,11), cov_types=['full','tied','diag','spherical'], random_state=42)"
   ]
  },
  {
   "cell_type": "markdown",
   "id": "41979036-1906-407e-b33c-1248a38c37aa",
   "metadata": {},
   "source": [
    "## Run Gaussian mixtures"
   ]
  },
  {
   "cell_type": "code",
   "execution_count": 46,
   "id": "23a23680-090c-44c7-a510-90157c93cc35",
   "metadata": {},
   "outputs": [],
   "source": [
    "def run_gmm(X, data, n_clusters, random_state=42, covariance_type='full'):\n",
    "    gmm = GaussianMixture(n_components=n_clusters, covariance_type=covariance_type, random_state=random_state)\n",
    "    gmm.fit(X)\n",
    "    labels = gmm.predict(X)\n",
    "\n",
    "    df = pd.DataFrame(X, columns=[f'isomap_{i+1}' for i in range(X.shape[1])])\n",
    "    df[\"cluster\"] = labels\n",
    "\n",
    "    meta_cols = ['player_name', 'equipe', 'positions']\n",
    "    df_meta = data[meta_cols].copy()\n",
    "    df_meta.index = df.index \n",
    "    df = df_meta.join(df)\n",
    "    \n",
    "    return df, gmm\n",
    "\n",
    "X_gmm_iso_raw, gmm_iso_raw = run_gmm(X_iso_raw, data_ISOMap_raw, n_clusters = 10, covariance_type = \"full\", random_state = 42)\n",
    "X_gmm_iso_per90, gmm_iso_per90 = run_gmm(X_iso_raw, data_ISOMap_raw, n_clusters = 10, covariance_type = \"full\", random_state = 42)"
   ]
  },
  {
   "cell_type": "markdown",
   "id": "e37ae328-17f7-46db-8ece-f6aaacf291eb",
   "metadata": {},
   "source": [
    "## Results Display"
   ]
  },
  {
   "cell_type": "code",
   "execution_count": 47,
   "id": "82890738-5e3e-4f58-9083-bde1a10ac92c",
   "metadata": {},
   "outputs": [
    {
     "data": {
      "application/vnd.plotly.v1+json": {
       "config": {
        "plotlyServerURL": "https://plot.ly"
       },
       "data": [
        {
         "customdata": [
          [
           "Jordan Lefort",
           "DF"
          ],
          [
           "Andrey Santos",
           "MF"
          ],
          [
           "Valentin Atangana Edoa",
           "MF"
          ],
          [
           "Himad Abdelli",
           "MF,FW"
          ],
          [
           "Mason Greenwood",
           "FW,MF"
          ],
          [
           "Zuriko Davitashvili",
           "FW,MF"
          ],
          [
           "Gautier Lloris",
           "DF"
          ],
          [
           "Matthis Abline",
           "FW"
          ],
          [
           "Bafodé Diakité",
           "DF"
          ],
          [
           "Adrien Truffert",
           "DF,MF"
          ],
          [
           "Moussa Niakhate",
           "DF"
          ],
          [
           "Guela Doué",
           "DF"
          ],
          [
           "Alexsandro Ribeiro",
           "DF"
          ],
          [
           "Cristian Cásseres Jr.",
           "MF"
          ],
          [
           "Benjamin André",
           "MF"
          ],
          [
           "Gaëtan Perrin",
           "MF,FW"
          ],
          [
           "Junya Ito",
           "FW,MF"
          ],
          [
           "Aron Dønnum",
           "DF,MF"
          ],
          [
           "Kenny Lala",
           "DF"
          ],
          [
           "Florent Hanin",
           "DF"
          ],
          [
           "Pierre Højbjerg",
           "MF"
          ],
          [
           "Mahdi Camara",
           "MF,FW"
          ],
          [
           "Keito Nakamura",
           "FW,MF"
          ],
          [
           "Jubal",
           "DF"
          ],
          [
           "Ismaël Doukouré",
           "DF,MF"
          ],
          [
           "Léo Pétrot",
           "DF"
          ],
          [
           "Jean-Charles Castelletto",
           "DF,MF"
          ],
          [
           "Adrien Thomasson",
           "MF"
          ],
          [
           "Luis Henrique",
           "DF,FW"
          ],
          [
           "Moses Simon",
           "FW,MF"
          ],
          [
           "Charlie Cresswell",
           "DF"
          ],
          [
           "Arnaud Kalimuendo",
           "FW,MF"
          ],
          [
           "Pierre Ekwah Elimby",
           "MF"
          ],
          [
           "Diego Moreira",
           "DF,MF"
          ],
          [
           "Evann Guessand",
           "FW,MF"
          ],
          [
           "Jonathan David",
           "FW"
          ],
          [
           "Facundo Medina",
           "DF"
          ],
          [
           "Sergio Akieme",
           "DF"
          ],
          [
           "Dilane Bakwa",
           "MF,DF"
          ],
          [
           "Mark McKenzie",
           "DF"
          ],
          [
           "Ludovic Ajorque",
           "FW"
          ],
          [
           "Clément Akpa",
           "DF"
          ],
          [
           "Adrien Rabiot",
           "MF"
          ],
          [
           "Loïc Nego",
           "DF,FW"
          ],
          [
           "Michael Amir Murillo",
           "DF"
          ],
          [
           "Hicham Boudaoui",
           "MF"
          ],
          [
           "Brendan Chardonnet",
           "DF"
          ],
          [
           "Maghnes Akliouche",
           "FW,MF"
          ],
          [
           "Vincent Sierro",
           "MF"
          ],
          [
           "Thilo Kehrer",
           "DF"
          ],
          [
           "Clinton Mata",
           "DF"
          ],
          [
           "Mamadou Sarr",
           "DF"
          ],
          [
           "Téji Savanier",
           "MF"
          ],
          [
           "Lorenz Assignon",
           "DF,MF"
          ],
          [
           "Habib Diarra",
           "MF,FW"
          ],
          [
           "Pedro Chirivella",
           "MF"
          ],
          [
           "Elisha Owusu",
           "MF"
          ],
          [
           "Yann Gboho",
           "MF,FW"
          ],
          [
           "Corentin Tolisso",
           "MF"
          ],
          [
           "Abdoulaye Touré",
           "MF"
          ],
          [
           "Hugo Magnetti",
           "MF"
          ],
          [
           "Etienne Youte Kinkoue",
           "DF"
          ],
          [
           "Douglas",
           "MF"
          ],
          [
           "Mickael Nade",
           "DF"
          ],
          [
           "Jonathan Clauss",
           "DF,MF"
          ],
          [
           "Lassine Sinayoko",
           "FW,MF"
          ],
          [
           "Ludovic Blas",
           "MF,FW"
          ],
          [
           "Emanuel Emegha",
           "FW"
          ],
          [
           "Gideon Mensah",
           "DF"
          ],
          [
           "Leonardo Balerdi",
           "DF"
          ],
          [
           "Takumi Minamino",
           "MF,FW"
          ],
          [
           "Andy Diouf",
           "MF"
          ],
          [
           "Moïse Bombito",
           "DF"
          ],
          [
           "Cédric Kipré",
           "DF"
          ],
          [
           "Bradley Barcola",
           "FW"
          ],
          [
           "Kelvin Amian",
           "DF"
          ],
          [
           "Gabriel Suazo",
           "DF"
          ],
          [
           "Denis Zakaria",
           "MF"
          ],
          [
           "Modibo Sagnan",
           "DF"
          ],
          [
           "Willian Pacho",
           "DF"
          ],
          [
           "Dennis Appiah",
           "DF"
          ],
          [
           "Ki-Jana Hoever",
           "DF"
          ],
          [
           "Jonathan Gradit",
           "DF"
          ],
          [
           "Sebastian Nanasi",
           "MF,FW"
          ],
          [
           "Djibril Sidibé",
           "DF"
          ],
          [
           "Yassine Kechta",
           "MF,FW"
          ],
          [
           "Wilfried Singo",
           "DF"
          ],
          [
           "Hamed Junior Traorè",
           "MF"
          ],
          [
           "Azor Matusiwa",
           "MF"
          ],
          [
           "Achraf Hakimi",
           "DF"
          ],
          [
           "Vanderson",
           "DF"
          ],
          [
           "Lamine Camara",
           "MF"
          ],
          [
           "Alexandre Lacazette",
           "FW"
          ],
          [
           "Nicolas Cozza",
           "DF,MF"
          ],
          [
           "Warren Zaïre-Emery",
           "MF,DF"
          ],
          [
           "Johann Lepenant",
           "MF"
          ],
          [
           "Carlens Arcus",
           "DF"
          ],
          [
           "Vitinha",
           "MF"
          ],
          [
           "Rayan Cherki",
           "FW,MF"
          ],
          [
           "Geoffrey Kondogbia",
           "DF,MF"
          ],
          [
           "Nicolas Pallois",
           "DF"
          ],
          [
           "Dylan Batubinsika",
           "DF"
          ],
          [
           "Lucas Beraldo",
           "DF"
          ],
          [
           "Nemanja Matić",
           "MF"
          ],
          [
           "Josué Casimir",
           "FW,MF"
          ],
          [
           "Ainsley Maitland-Niles",
           "DF"
          ],
          [
           "Aurélio Buta",
           "DF"
          ],
          [
           "Dante",
           "DF"
          ],
          [
           "Jean-Eudes Aholou",
           "MF"
          ],
          [
           "Sinaly Diomande",
           "DF"
          ],
          [
           "Melvin Bard",
           "DF,MF"
          ],
          [
           "Youssouf Ndayishimiye",
           "DF"
          ],
          [
           "Caio Henrique Oliveira Silva",
           "DF"
          ],
          [
           "Thomas Meunier",
           "DF"
          ],
          [
           "Fabián Ruiz Peña",
           "MF"
          ],
          [
           "Issa Soumaré",
           "FW,MF"
          ],
          [
           "Nicolás Tagliafico",
           "DF"
          ],
          [
           "Zakaria Aboukhlal",
           "MF,FW"
          ],
          [
           "Enzo Tchato",
           "DF"
          ],
          [
           "Farid El Melali",
           "FW"
          ],
          [
           "Joris Chotard",
           "MF"
          ],
          [
           "Lucas Stassin",
           "FW"
          ],
          [
           "João Neves",
           "MF,DF"
          ],
          [
           "Breel Embolo",
           "FW,MF"
          ],
          [
           "Gaëtan Laborde",
           "FW"
          ],
          [
           "Deiver Machado",
           "DF,MF"
          ],
          [
           "Becir Omeragic",
           "DF"
          ],
          [
           "Florian Sotoca",
           "FW,MF"
          ],
          [
           "Haris Belkebla",
           "MF"
          ],
          [
           "Gabriel Gudmundsson",
           "DF"
          ],
          [
           "Félix Lemaréchal",
           "MF,FW"
          ],
          [
           "Pablo Rosario",
           "MF,DF"
          ],
          [
           "Jordan Ferri",
           "MF"
          ],
          [
           "Benjamin Bouchouari",
           "MF"
          ],
          [
           "Hákon Arnar Haraldsson",
           "MF,FW"
          ],
          [
           "Jim Allevinah",
           "FW"
          ],
          [
           "Eliesse Ben Seghir",
           "MF,FW"
          ],
          [
           "Aïssa Mandi",
           "DF"
          ],
          [
           "Ousmane Dembélé",
           "FW"
          ],
          [
           "Désiré Doué",
           "FW,MF"
          ],
          [
           "Marquinhos",
           "DF"
          ],
          [
           "Abdoulaye Niakhate Ndiaye",
           "DF"
          ],
          [
           "Joseph Okumu",
           "DF"
          ],
          [
           "Marshall Munetsi",
           "MF"
          ],
          [
           "Rabby Nzingoula",
           "MF"
          ],
          [
           "Hans Hateboer",
           "DF"
          ],
          [
           "Massadio Haïdara",
           "DF"
          ],
          [
           "Nuno Mendes",
           "DF"
          ],
          [
           "Joshua King",
           "FW,MF"
          ],
          [
           "Lee Kang-in",
           "FW,MF"
          ],
          [
           "Gabriel Osho",
           "DF"
          ],
          [
           "Esteban Lepaul",
           "FW"
          ],
          [
           "Oumar Diakité",
           "FW"
          ],
          [
           "Mohamed Ali Cho",
           "FW,MF"
          ],
          [
           "Quentin Merlin",
           "DF"
          ],
          [
           "Malick Fofana",
           "FW"
          ],
          [
           "Neil El Aynaoui",
           "MF"
          ],
          [
           "Duje Ćaleta-Car",
           "DF"
          ],
          [
           "Mathias Pereira Lage",
           "FW,MF"
          ],
          [
           "Valentin Rongier",
           "MF,DF"
          ],
          [
           "Jordan Veretout",
           "MF"
          ],
          [
           "Pierre Lees-Melou",
           "MF"
          ],
          [
           "Yassin Belkhdim",
           "MF"
          ],
          [
           "Frank Magri",
           "FW,MF"
          ],
          [
           "Nathan Zeze",
           "DF"
          ],
          [
           "Abdoulaye Bamba",
           "DF"
          ],
          [
           "Christian Mawissa",
           "DF"
          ],
          [
           "Tanguy Coulibaly",
           "FW,MF"
          ],
          [
           "M'Bala Nzola",
           "FW"
          ],
          [
           "Kévin Danois",
           "MF"
          ],
          [
           "Christopher Wooh",
           "DF"
          ],
          [
           "André Ayew",
           "FW"
          ],
          [
           "Georges Mikautadze",
           "FW"
          ],
          [
           "Derek Cornelius",
           "DF"
          ],
          [
           "Anass Zaroury",
           "FW,MF"
          ],
          [
           "Ali Abdi",
           "DF,MF"
          ],
          [
           "Przemysław Frankowski",
           "DF"
          ],
          [
           "Malang Sarr",
           "DF"
          ],
          [
           "Julien Le Cardinal",
           "DF"
          ],
          [
           "Emmanuel Biumla",
           "DF"
          ],
          [
           "Kamory Doumbia",
           "MF,FW"
          ],
          [
           "Sorba Thomas",
           "FW,MF"
          ],
          [
           "Lilian Raolisoa",
           "DF,FW"
          ],
          [
           "Amadou Koné",
           "MF"
          ],
          [
           "Osame Sahraoui",
           "FW,MF"
          ],
          [
           "André Gomes",
           "MF"
          ],
          [
           "Emmanuel Agbadou",
           "DF"
          ],
          [
           "Romain Del Castillo",
           "FW"
          ],
          [
           "Mostafa Mohamed",
           "FW"
          ],
          [
           "Florian Tardieu",
           "MF"
          ],
          [
           "Arouna Sangante",
           "DF"
          ],
          [
           "Abdallah Sima",
           "FW,MF"
          ],
          [
           "Tanner Tessmann",
           "MF"
          ],
          [
           "Lilian Brassier",
           "DF"
          ],
          [
           "Falaye Sacko",
           "DF"
          ],
          [
           "Mika Biereth",
           "FW"
          ],
          [
           "Leo Skiri Østigård",
           "DF"
          ],
          [
           "Ngal'Ayel Mukau",
           "MF"
          ],
          [
           "Shavy Babicka",
           "MF,FW"
          ],
          [
           "Jordan James",
           "MF"
          ],
          [
           "Christopher Operi",
           "DF,FW"
          ],
          [
           "Arnaud Nordin",
           "FW"
          ],
          [
           "Nhoa Sangui",
           "DF,MF"
          ],
          [
           "Valentín Barco",
           "MF,DF"
          ],
          [
           "Issiaga Sylla",
           "DF"
          ],
          [
           "Aleksandr Golovin",
           "MF,FW"
          ],
          [
           "Ayyoub Bouaddi",
           "MF"
          ],
          [
           "Mama Samba Baldé",
           "FW"
          ],
          [
           "Mitchel Bakker",
           "FW,DF"
          ],
          [
           "Tanguy Ndombele",
           "MF"
          ],
          [
           "Mory Gbane",
           "DF,MF"
          ],
          [
           "Ruben Aguilar",
           "DF,MF"
          ],
          [
           "Djaoui Cissé",
           "MF"
          ],
          [
           "Wahbi Khazri",
           "FW,MF"
          ],
          [
           "Musa Al-Taamari",
           "FW,MF"
          ],
          [
           "Timothee Pembele",
           "DF"
          ],
          [
           "Jaydee Canvot",
           "DF,MF"
          ],
          [
           "Edimilson Fernandes",
           "MF,DF"
          ],
          [
           "Badredine Bouanani",
           "MF,FW"
          ],
          [
           "Abner",
           "DF"
          ],
          [
           "Kevin Danso",
           "DF"
          ],
          [
           "Akor Adams",
           "FW"
          ],
          [
           "Gonçalo Ramos",
           "FW"
          ],
          [
           "Matias Fernandez-Pardo",
           "FW,MF"
          ],
          [
           "Sofiane Diop",
           "MF,FW"
          ],
          [
           "Irvin Cardona",
           "FW"
          ],
          [
           "Rassoul Ndiaye",
           "MF"
          ],
          [
           "Jeremie Boga",
           "MF,FW"
          ],
          [
           "Ernest Nuamah",
           "FW,MF"
          ],
          [
           "Amine Gouiri",
           "FW,MF"
          ],
          [
           "Han-Noah Massengo",
           "MF"
          ],
          [
           "Angelo Fulgini",
           "MF,FW"
          ],
          [
           "Louis Mouton",
           "MF"
          ],
          [
           "Neal Maupay",
           "FW"
          ],
          [
           "Aimen Moueffek",
           "MF"
          ],
          [
           "Yunis Abdelhamid",
           "DF"
          ],
          [
           "Khalil Fayad",
           "MF,FW"
          ],
          [
           "Soungoutou Magassa",
           "MF"
          ],
          [
           "Mohammed Salisu",
           "DF"
          ],
          [
           "Warren Kamanzi",
           "DF,MF"
          ],
          [
           "Saidou Sow",
           "DF"
          ],
          [
           "Théo Sainte-Luce",
           "DF"
          ],
          [
           "Rémy Cabella",
           "FW,MF"
          ],
          [
           "Paul Joly",
           "DF"
          ],
          [
           "Oussama Targhalline",
           "MF"
          ],
          [
           "Edon Zhegrova",
           "FW,MF"
          ],
          [
           "Yanis Zouaoui",
           "DF,FW"
          ],
          [
           "Abdukodir Khusanov",
           "DF"
          ],
          [
           "Anthony Rouault",
           "DF"
          ],
          [
           "Ado Onaiwu",
           "MF,FW"
          ],
          [
           "Junior Mwanga",
           "MF"
          ],
          [
           "Thiago Almada",
           "MF,FW"
          ],
          [
           "Sael Kumbedi",
           "DF"
          ],
          [
           "Marcus Coco",
           "DF"
          ],
          [
           "Abakar Sylla",
           "DF"
          ],
          [
           "Yael Mouanga",
           "DF"
          ],
          [
           "Antoine Joujou",
           "MF,FW"
          ],
          [
           "Ibrahima Niane",
           "FW"
          ],
          [
           "Theo Bair",
           "FW"
          ],
          [
           "Ulisses Garcia",
           "DF"
          ],
          [
           "Jérémy Jacquet",
           "DF"
          ],
          [
           "Baptiste Santamaria",
           "MF"
          ],
          [
           "Khvicha Kvaratskhelia",
           "FW"
          ],
          [
           "Wesley Saïd",
           "FW"
          ],
          [
           "Ismaily",
           "DF"
          ],
          [
           "Romain Faivre",
           "MF,FW"
          ],
          [
           "Hiroki Sekine",
           "DF"
          ],
          [
           "Goduine Koyalipou",
           "FW"
          ],
          [
           "Lucas Hernández",
           "DF"
          ],
          [
           "Mathis Amougou",
           "MF"
          ],
          [
           "Mamadou Diakhon",
           "FW,MF"
          ],
          [
           "Mohamed Abdelmoneim",
           "DF"
          ],
          [
           "Koka",
           "FW"
          ],
          [
           "Zinedine Ferhat",
           "FW,MF"
          ],
          [
           "Seko Fofana",
           "MF"
          ],
          [
           "Antoine Mendy",
           "DF"
          ],
          [
           "Ibrahim Sissoko",
           "FW"
          ],
          [
           "Louis Leroux",
           "MF,DF"
          ],
          [
           "Albert Grønbaek",
           "MF,FW"
          ],
          [
           "Senny Mayulu",
           "MF"
          ],
          [
           "Jonathan Rowe",
           "FW,MF"
          ],
          [
           "Alidu Seidu",
           "DF"
          ],
          [
           "Yoann Salmier",
           "DF"
          ],
          [
           "Yvann Macon",
           "DF"
          ],
          [
           "Jordan Amavi",
           "DF"
          ],
          [
           "Tom Louchet",
           "DF,MF"
          ],
          [
           "Sekou Mara",
           "FW,MF"
          ],
          [
           "Maxime Bernauer",
           "DF"
          ],
          [
           "Boubakar Kouyaté",
           "DF"
          ],
          [
           "Teddy Teuma",
           "MF"
          ],
          [
           "Angel Gomes",
           "MF"
          ],
          [
           "Saïd Benrahma",
           "FW,MF"
          ],
          [
           "Augustine Boakye",
           "FW,MF"
          ],
          [
           "Mathieu Cafaro",
           "MF,FW"
          ],
          [
           "Rayan Raveloson",
           "MF,DF"
          ],
          [
           "George Ilenikhena",
           "FW"
          ],
          [
           "Lucas Mincarelli",
           "DF"
          ],
          [
           "Jacques Ekomie",
           "DF,FW"
          ],
          [
           "Mikayil Ngor Faye",
           "DF"
          ],
          [
           "Abdulai Juma Bah",
           "DF"
          ],
          [
           "Pol Lirola",
           "DF"
          ],
          [
           "Assane Dioussé",
           "MF"
          ],
          [
           "Glen Kamara",
           "MF"
          ],
          [
           "Emmanuel Sabbi",
           "FW,MF"
          ],
          [
           "Ismaël Bennacer",
           "MF"
          ],
          [
           "Chuba Akpom",
           "FW"
          ],
          [
           "Luck Zogbé",
           "DF"
          ],
          [
           "Rémy Labeau Lascary",
           "FW,MF"
          ],
          [
           "Yaya Kader Fofana",
           "MF,FW"
          ],
          [
           "Rasmus Nicolaisen",
           "DF"
          ],
          [
           "Marco Asensio",
           "FW,MF"
          ],
          [
           "Folarin Balogun",
           "FW"
          ],
          [
           "Andy Delort",
           "FW"
          ],
          [
           "Jhoanner Chávez",
           "DF,MF"
          ],
          [
           "Fodé Ballo-Touré",
           "DF,MF"
          ],
          [
           "Nampalys Mendy",
           "MF"
          ],
          [
           "Mahamadou Diawara",
           "MF"
          ],
          [
           "Nikola Maksimović",
           "DF"
          ],
          [
           "Pierre Cornud",
           "DF"
          ],
          [
           "Florian Ayé",
           "FW"
          ],
          [
           "Elye Wahi",
           "FW"
          ],
          [
           "Maxence Caqueret",
           "MF"
          ],
          [
           "Jordan Teze",
           "DF"
          ],
          [
           "Daler Kuzyaev",
           "MF"
          ],
          [
           "John Joe",
           "MF"
          ],
          [
           "Mohamed Meité",
           "FW"
          ],
          [
           "Andrew Omobamidele",
           "DF"
          ],
          [
           "Jean-Kevin Duverne",
           "DF"
          ],
          [
           "Bamba Dieng",
           "FW"
          ],
          [
           "Ben Old",
           "FW,MF"
          ],
          [
           "Amine Harit",
           "MF"
          ],
          [
           "Tino Kadewere",
           "MF,FW"
          ],
          [
           "Krépin Diatta",
           "DF,FW"
          ]
         ],
         "hovertemplate": "isomap_1=%{x}<br>isomap_2=%{y}<br>player_name=%{customdata[0]}<br>positions=%{customdata[1]}<br>cluster=%{marker.color}<extra></extra>",
         "legendgroup": "",
         "marker": {
          "color": {
           "bdata": "AgMDBgYIAgACBwIHAgMDBAQHBQUGAwgCAgcCAwYIAgADBwgAAwUIAgADBgUHAwIGBAICAgQHCQMDCAYAAwIDAgQIBAAHAgYJAgIGBQUDAgIFBQIEBQMCCAMHBwQABQYDBQYGAgICAgMIBQUCAwIHAgUHBgADAAUIAwAGAAAFAgUDBQkJAwMJAAgCBggCAgIAAwIFBwAEAQAACQUJBAIEAwMDCQACAQEFAAkCAAAHBQUFAQIBAwUFAwkDAgQAAwEAAwEBAAEJCQkFCQEBBQkJAAUJAQUDCQkBAQEJBQEBAAkJCQkJCQQJCQkBCQEJCQEBAQEJBQkJBQEBAQkFAQUCAQkBAAEBAQkBBQkBAQEBCQEBBQkBAAkJCQkBAQEBAQEBAQUJCQkJAQEBAQEBAQEBAQkBCQEJAQkBAQkBCQEBAQEBAQEBAQEBAQEBCQEB",
           "dtype": "i1"
          },
          "coloraxis": "coloraxis",
          "symbol": "circle"
         },
         "mode": "markers",
         "name": "",
         "orientation": "v",
         "showlegend": false,
         "type": "scatter",
         "x": {
          "bdata": "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",
          "dtype": "f8"
         },
         "xaxis": "x",
         "y": {
          "bdata": "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",
          "dtype": "f8"
         },
         "yaxis": "y"
        }
       ],
       "layout": {
        "coloraxis": {
         "colorbar": {
          "title": {
           "text": "cluster"
          }
         },
         "colorscale": [
          [
           0,
           "#0d0887"
          ],
          [
           0.1111111111111111,
           "#46039f"
          ],
          [
           0.2222222222222222,
           "#7201a8"
          ],
          [
           0.3333333333333333,
           "#9c179e"
          ],
          [
           0.4444444444444444,
           "#bd3786"
          ],
          [
           0.5555555555555556,
           "#d8576b"
          ],
          [
           0.6666666666666666,
           "#ed7953"
          ],
          [
           0.7777777777777778,
           "#fb9f3a"
          ],
          [
           0.8888888888888888,
           "#fdca26"
          ],
          [
           1,
           "#f0f921"
          ]
         ]
        },
        "height": 600,
        "legend": {
         "tracegroupgap": 0
        },
        "template": {
         "data": {
          "bar": [
           {
            "error_x": {
             "color": "#2a3f5f"
            },
            "error_y": {
             "color": "#2a3f5f"
            },
            "marker": {
             "line": {
              "color": "#E5ECF6",
              "width": 0.5
             },
             "pattern": {
              "fillmode": "overlay",
              "size": 10,
              "solidity": 0.2
             }
            },
            "type": "bar"
           }
          ],
          "barpolar": [
           {
            "marker": {
             "line": {
              "color": "#E5ECF6",
              "width": 0.5
             },
             "pattern": {
              "fillmode": "overlay",
              "size": 10,
              "solidity": 0.2
             }
            },
            "type": "barpolar"
           }
          ],
          "carpet": [
           {
            "aaxis": {
             "endlinecolor": "#2a3f5f",
             "gridcolor": "white",
             "linecolor": "white",
             "minorgridcolor": "white",
             "startlinecolor": "#2a3f5f"
            },
            "baxis": {
             "endlinecolor": "#2a3f5f",
             "gridcolor": "white",
             "linecolor": "white",
             "minorgridcolor": "white",
             "startlinecolor": "#2a3f5f"
            },
            "type": "carpet"
           }
          ],
          "choropleth": [
           {
            "colorbar": {
             "outlinewidth": 0,
             "ticks": ""
            },
            "type": "choropleth"
           }
          ],
          "contour": [
           {
            "colorbar": {
             "outlinewidth": 0,
             "ticks": ""
            },
            "colorscale": [
             [
              0,
              "#0d0887"
             ],
             [
              0.1111111111111111,
              "#46039f"
             ],
             [
              0.2222222222222222,
              "#7201a8"
             ],
             [
              0.3333333333333333,
              "#9c179e"
             ],
             [
              0.4444444444444444,
              "#bd3786"
             ],
             [
              0.5555555555555556,
              "#d8576b"
             ],
             [
              0.6666666666666666,
              "#ed7953"
             ],
             [
              0.7777777777777778,
              "#fb9f3a"
             ],
             [
              0.8888888888888888,
              "#fdca26"
             ],
             [
              1,
              "#f0f921"
             ]
            ],
            "type": "contour"
           }
          ],
          "contourcarpet": [
           {
            "colorbar": {
             "outlinewidth": 0,
             "ticks": ""
            },
            "type": "contourcarpet"
           }
          ],
          "heatmap": [
           {
            "colorbar": {
             "outlinewidth": 0,
             "ticks": ""
            },
            "colorscale": [
             [
              0,
              "#0d0887"
             ],
             [
              0.1111111111111111,
              "#46039f"
             ],
             [
              0.2222222222222222,
              "#7201a8"
             ],
             [
              0.3333333333333333,
              "#9c179e"
             ],
             [
              0.4444444444444444,
              "#bd3786"
             ],
             [
              0.5555555555555556,
              "#d8576b"
             ],
             [
              0.6666666666666666,
              "#ed7953"
             ],
             [
              0.7777777777777778,
              "#fb9f3a"
             ],
             [
              0.8888888888888888,
              "#fdca26"
             ],
             [
              1,
              "#f0f921"
             ]
            ],
            "type": "heatmap"
           }
          ],
          "histogram": [
           {
            "marker": {
             "pattern": {
              "fillmode": "overlay",
              "size": 10,
              "solidity": 0.2
             }
            },
            "type": "histogram"
           }
          ],
          "histogram2d": [
           {
            "colorbar": {
             "outlinewidth": 0,
             "ticks": ""
            },
            "colorscale": [
             [
              0,
              "#0d0887"
             ],
             [
              0.1111111111111111,
              "#46039f"
             ],
             [
              0.2222222222222222,
              "#7201a8"
             ],
             [
              0.3333333333333333,
              "#9c179e"
             ],
             [
              0.4444444444444444,
              "#bd3786"
             ],
             [
              0.5555555555555556,
              "#d8576b"
             ],
             [
              0.6666666666666666,
              "#ed7953"
             ],
             [
              0.7777777777777778,
              "#fb9f3a"
             ],
             [
              0.8888888888888888,
              "#fdca26"
             ],
             [
              1,
              "#f0f921"
             ]
            ],
            "type": "histogram2d"
           }
          ],
          "histogram2dcontour": [
           {
            "colorbar": {
             "outlinewidth": 0,
             "ticks": ""
            },
            "colorscale": [
             [
              0,
              "#0d0887"
             ],
             [
              0.1111111111111111,
              "#46039f"
             ],
             [
              0.2222222222222222,
              "#7201a8"
             ],
             [
              0.3333333333333333,
              "#9c179e"
             ],
             [
              0.4444444444444444,
              "#bd3786"
             ],
             [
              0.5555555555555556,
              "#d8576b"
             ],
             [
              0.6666666666666666,
              "#ed7953"
             ],
             [
              0.7777777777777778,
              "#fb9f3a"
             ],
             [
              0.8888888888888888,
              "#fdca26"
             ],
             [
              1,
              "#f0f921"
             ]
            ],
            "type": "histogram2dcontour"
           }
          ],
          "mesh3d": [
           {
            "colorbar": {
             "outlinewidth": 0,
             "ticks": ""
            },
            "type": "mesh3d"
           }
          ],
          "parcoords": [
           {
            "line": {
             "colorbar": {
              "outlinewidth": 0,
              "ticks": ""
             }
            },
            "type": "parcoords"
           }
          ],
          "pie": [
           {
            "automargin": true,
            "type": "pie"
           }
          ],
          "scatter": [
           {
            "fillpattern": {
             "fillmode": "overlay",
             "size": 10,
             "solidity": 0.2
            },
            "type": "scatter"
           }
          ],
          "scatter3d": [
           {
            "line": {
             "colorbar": {
              "outlinewidth": 0,
              "ticks": ""
             }
            },
            "marker": {
             "colorbar": {
              "outlinewidth": 0,
              "ticks": ""
             }
            },
            "type": "scatter3d"
           }
          ],
          "scattercarpet": [
           {
            "marker": {
             "colorbar": {
              "outlinewidth": 0,
              "ticks": ""
             }
            },
            "type": "scattercarpet"
           }
          ],
          "scattergeo": [
           {
            "marker": {
             "colorbar": {
              "outlinewidth": 0,
              "ticks": ""
             }
            },
            "type": "scattergeo"
           }
          ],
          "scattergl": [
           {
            "marker": {
             "colorbar": {
              "outlinewidth": 0,
              "ticks": ""
             }
            },
            "type": "scattergl"
           }
          ],
          "scattermap": [
           {
            "marker": {
             "colorbar": {
              "outlinewidth": 0,
              "ticks": ""
             }
            },
            "type": "scattermap"
           }
          ],
          "scattermapbox": [
           {
            "marker": {
             "colorbar": {
              "outlinewidth": 0,
              "ticks": ""
             }
            },
            "type": "scattermapbox"
           }
          ],
          "scatterpolar": [
           {
            "marker": {
             "colorbar": {
              "outlinewidth": 0,
              "ticks": ""
             }
            },
            "type": "scatterpolar"
           }
          ],
          "scatterpolargl": [
           {
            "marker": {
             "colorbar": {
              "outlinewidth": 0,
              "ticks": ""
             }
            },
            "type": "scatterpolargl"
           }
          ],
          "scatterternary": [
           {
            "marker": {
             "colorbar": {
              "outlinewidth": 0,
              "ticks": ""
             }
            },
            "type": "scatterternary"
           }
          ],
          "surface": [
           {
            "colorbar": {
             "outlinewidth": 0,
             "ticks": ""
            },
            "colorscale": [
             [
              0,
              "#0d0887"
             ],
             [
              0.1111111111111111,
              "#46039f"
             ],
             [
              0.2222222222222222,
              "#7201a8"
             ],
             [
              0.3333333333333333,
              "#9c179e"
             ],
             [
              0.4444444444444444,
              "#bd3786"
             ],
             [
              0.5555555555555556,
              "#d8576b"
             ],
             [
              0.6666666666666666,
              "#ed7953"
             ],
             [
              0.7777777777777778,
              "#fb9f3a"
             ],
             [
              0.8888888888888888,
              "#fdca26"
             ],
             [
              1,
              "#f0f921"
             ]
            ],
            "type": "surface"
           }
          ],
          "table": [
           {
            "cells": {
             "fill": {
              "color": "#EBF0F8"
             },
             "line": {
              "color": "white"
             }
            },
            "header": {
             "fill": {
              "color": "#C8D4E3"
             },
             "line": {
              "color": "white"
             }
            },
            "type": "table"
           }
          ]
         },
         "layout": {
          "annotationdefaults": {
           "arrowcolor": "#2a3f5f",
           "arrowhead": 0,
           "arrowwidth": 1
          },
          "autotypenumbers": "strict",
          "coloraxis": {
           "colorbar": {
            "outlinewidth": 0,
            "ticks": ""
           }
          },
          "colorscale": {
           "diverging": [
            [
             0,
             "#8e0152"
            ],
            [
             0.1,
             "#c51b7d"
            ],
            [
             0.2,
             "#de77ae"
            ],
            [
             0.3,
             "#f1b6da"
            ],
            [
             0.4,
             "#fde0ef"
            ],
            [
             0.5,
             "#f7f7f7"
            ],
            [
             0.6,
             "#e6f5d0"
            ],
            [
             0.7,
             "#b8e186"
            ],
            [
             0.8,
             "#7fbc41"
            ],
            [
             0.9,
             "#4d9221"
            ],
            [
             1,
             "#276419"
            ]
           ],
           "sequential": [
            [
             0,
             "#0d0887"
            ],
            [
             0.1111111111111111,
             "#46039f"
            ],
            [
             0.2222222222222222,
             "#7201a8"
            ],
            [
             0.3333333333333333,
             "#9c179e"
            ],
            [
             0.4444444444444444,
             "#bd3786"
            ],
            [
             0.5555555555555556,
             "#d8576b"
            ],
            [
             0.6666666666666666,
             "#ed7953"
            ],
            [
             0.7777777777777778,
             "#fb9f3a"
            ],
            [
             0.8888888888888888,
             "#fdca26"
            ],
            [
             1,
             "#f0f921"
            ]
           ],
           "sequentialminus": [
            [
             0,
             "#0d0887"
            ],
            [
             0.1111111111111111,
             "#46039f"
            ],
            [
             0.2222222222222222,
             "#7201a8"
            ],
            [
             0.3333333333333333,
             "#9c179e"
            ],
            [
             0.4444444444444444,
             "#bd3786"
            ],
            [
             0.5555555555555556,
             "#d8576b"
            ],
            [
             0.6666666666666666,
             "#ed7953"
            ],
            [
             0.7777777777777778,
             "#fb9f3a"
            ],
            [
             0.8888888888888888,
             "#fdca26"
            ],
            [
             1,
             "#f0f921"
            ]
           ]
          },
          "colorway": [
           "#636efa",
           "#EF553B",
           "#00cc96",
           "#ab63fa",
           "#FFA15A",
           "#19d3f3",
           "#FF6692",
           "#B6E880",
           "#FF97FF",
           "#FECB52"
          ],
          "font": {
           "color": "#2a3f5f"
          },
          "geo": {
           "bgcolor": "white",
           "lakecolor": "white",
           "landcolor": "#E5ECF6",
           "showlakes": true,
           "showland": true,
           "subunitcolor": "white"
          },
          "hoverlabel": {
           "align": "left"
          },
          "hovermode": "closest",
          "mapbox": {
           "style": "light"
          },
          "paper_bgcolor": "white",
          "plot_bgcolor": "#E5ECF6",
          "polar": {
           "angularaxis": {
            "gridcolor": "white",
            "linecolor": "white",
            "ticks": ""
           },
           "bgcolor": "#E5ECF6",
           "radialaxis": {
            "gridcolor": "white",
            "linecolor": "white",
            "ticks": ""
           }
          },
          "scene": {
           "xaxis": {
            "backgroundcolor": "#E5ECF6",
            "gridcolor": "white",
            "gridwidth": 2,
            "linecolor": "white",
            "showbackground": true,
            "ticks": "",
            "zerolinecolor": "white"
           },
           "yaxis": {
            "backgroundcolor": "#E5ECF6",
            "gridcolor": "white",
            "gridwidth": 2,
            "linecolor": "white",
            "showbackground": true,
            "ticks": "",
            "zerolinecolor": "white"
           },
           "zaxis": {
            "backgroundcolor": "#E5ECF6",
            "gridcolor": "white",
            "gridwidth": 2,
            "linecolor": "white",
            "showbackground": true,
            "ticks": "",
            "zerolinecolor": "white"
           }
          },
          "shapedefaults": {
           "line": {
            "color": "#2a3f5f"
           }
          },
          "ternary": {
           "aaxis": {
            "gridcolor": "white",
            "linecolor": "white",
            "ticks": ""
           },
           "baxis": {
            "gridcolor": "white",
            "linecolor": "white",
            "ticks": ""
           },
           "bgcolor": "#E5ECF6",
           "caxis": {
            "gridcolor": "white",
            "linecolor": "white",
            "ticks": ""
           }
          },
          "title": {
           "x": 0.05
          },
          "xaxis": {
           "automargin": true,
           "gridcolor": "white",
           "linecolor": "white",
           "ticks": "",
           "title": {
            "standoff": 15
           },
           "zerolinecolor": "white",
           "zerolinewidth": 2
          },
          "yaxis": {
           "automargin": true,
           "gridcolor": "white",
           "linecolor": "white",
           "ticks": "",
           "title": {
            "standoff": 15
           },
           "zerolinecolor": "white",
           "zerolinewidth": 2
          }
         }
        },
        "title": {
         "text": "Clusters GMM sur données ISOMap raw"
        },
        "width": 800,
        "xaxis": {
         "anchor": "y",
         "domain": [
          0,
          1
         ],
         "title": {
          "text": "isomap_1"
         }
        },
        "yaxis": {
         "anchor": "x",
         "domain": [
          0,
          1
         ],
         "title": {
          "text": "isomap_2"
         }
        }
       }
      },
      "image/png": "[encoded data removed]"
     },
     "metadata": {},
     "output_type": "display_data"
    },
    {
     "data": {
      "application/vnd.plotly.v1+json": {
       "config": {
        "plotlyServerURL": "https://plot.ly"
       },
       "data": [
        {
         "customdata": [
          [
           "Jordan Lefort",
           "DF"
          ],
          [
           "Andrey Santos",
           "MF"
          ],
          [
           "Valentin Atangana Edoa",
           "MF"
          ],
          [
           "Himad Abdelli",
           "MF,FW"
          ],
          [
           "Mason Greenwood",
           "FW,MF"
          ],
          [
           "Zuriko Davitashvili",
           "FW,MF"
          ],
          [
           "Gautier Lloris",
           "DF"
          ],
          [
           "Matthis Abline",
           "FW"
          ],
          [
           "Bafodé Diakité",
           "DF"
          ],
          [
           "Adrien Truffert",
           "DF,MF"
          ],
          [
           "Moussa Niakhate",
           "DF"
          ],
          [
           "Guela Doué",
           "DF"
          ],
          [
           "Alexsandro Ribeiro",
           "DF"
          ],
          [
           "Cristian Cásseres Jr.",
           "MF"
          ],
          [
           "Benjamin André",
           "MF"
          ],
          [
           "Gaëtan Perrin",
           "MF,FW"
          ],
          [
           "Junya Ito",
           "FW,MF"
          ],
          [
           "Aron Dønnum",
           "DF,MF"
          ],
          [
           "Kenny Lala",
           "DF"
          ],
          [
           "Florent Hanin",
           "DF"
          ],
          [
           "Pierre Højbjerg",
           "MF"
          ],
          [
           "Mahdi Camara",
           "MF,FW"
          ],
          [
           "Keito Nakamura",
           "FW,MF"
          ],
          [
           "Jubal",
           "DF"
          ],
          [
           "Ismaël Doukouré",
           "DF,MF"
          ],
          [
           "Léo Pétrot",
           "DF"
          ],
          [
           "Jean-Charles Castelletto",
           "DF,MF"
          ],
          [
           "Adrien Thomasson",
           "MF"
          ],
          [
           "Luis Henrique",
           "DF,FW"
          ],
          [
           "Moses Simon",
           "FW,MF"
          ],
          [
           "Charlie Cresswell",
           "DF"
          ],
          [
           "Arnaud Kalimuendo",
           "FW,MF"
          ],
          [
           "Pierre Ekwah Elimby",
           "MF"
          ],
          [
           "Diego Moreira",
           "DF,MF"
          ],
          [
           "Evann Guessand",
           "FW,MF"
          ],
          [
           "Jonathan David",
           "FW"
          ],
          [
           "Facundo Medina",
           "DF"
          ],
          [
           "Sergio Akieme",
           "DF"
          ],
          [
           "Dilane Bakwa",
           "MF,DF"
          ],
          [
           "Mark McKenzie",
           "DF"
          ],
          [
           "Ludovic Ajorque",
           "FW"
          ],
          [
           "Clément Akpa",
           "DF"
          ],
          [
           "Adrien Rabiot",
           "MF"
          ],
          [
           "Loïc Nego",
           "DF,FW"
          ],
          [
           "Michael Amir Murillo",
           "DF"
          ],
          [
           "Hicham Boudaoui",
           "MF"
          ],
          [
           "Brendan Chardonnet",
           "DF"
          ],
          [
           "Maghnes Akliouche",
           "FW,MF"
          ],
          [
           "Vincent Sierro",
           "MF"
          ],
          [
           "Thilo Kehrer",
           "DF"
          ],
          [
           "Clinton Mata",
           "DF"
          ],
          [
           "Mamadou Sarr",
           "DF"
          ],
          [
           "Téji Savanier",
           "MF"
          ],
          [
           "Lorenz Assignon",
           "DF,MF"
          ],
          [
           "Habib Diarra",
           "MF,FW"
          ],
          [
           "Pedro Chirivella",
           "MF"
          ],
          [
           "Elisha Owusu",
           "MF"
          ],
          [
           "Yann Gboho",
           "MF,FW"
          ],
          [
           "Corentin Tolisso",
           "MF"
          ],
          [
           "Abdoulaye Touré",
           "MF"
          ],
          [
           "Hugo Magnetti",
           "MF"
          ],
          [
           "Etienne Youte Kinkoue",
           "DF"
          ],
          [
           "Douglas",
           "MF"
          ],
          [
           "Mickael Nade",
           "DF"
          ],
          [
           "Jonathan Clauss",
           "DF,MF"
          ],
          [
           "Lassine Sinayoko",
           "FW,MF"
          ],
          [
           "Ludovic Blas",
           "MF,FW"
          ],
          [
           "Emanuel Emegha",
           "FW"
          ],
          [
           "Gideon Mensah",
           "DF"
          ],
          [
           "Leonardo Balerdi",
           "DF"
          ],
          [
           "Takumi Minamino",
           "MF,FW"
          ],
          [
           "Andy Diouf",
           "MF"
          ],
          [
           "Moïse Bombito",
           "DF"
          ],
          [
           "Cédric Kipré",
           "DF"
          ],
          [
           "Bradley Barcola",
           "FW"
          ],
          [
           "Kelvin Amian",
           "DF"
          ],
          [
           "Gabriel Suazo",
           "DF"
          ],
          [
           "Denis Zakaria",
           "MF"
          ],
          [
           "Modibo Sagnan",
           "DF"
          ],
          [
           "Willian Pacho",
           "DF"
          ],
          [
           "Dennis Appiah",
           "DF"
          ],
          [
           "Ki-Jana Hoever",
           "DF"
          ],
          [
           "Jonathan Gradit",
           "DF"
          ],
          [
           "Sebastian Nanasi",
           "MF,FW"
          ],
          [
           "Djibril Sidibé",
           "DF"
          ],
          [
           "Yassine Kechta",
           "MF,FW"
          ],
          [
           "Wilfried Singo",
           "DF"
          ],
          [
           "Hamed Junior Traorè",
           "MF"
          ],
          [
           "Azor Matusiwa",
           "MF"
          ],
          [
           "Achraf Hakimi",
           "DF"
          ],
          [
           "Vanderson",
           "DF"
          ],
          [
           "Lamine Camara",
           "MF"
          ],
          [
           "Alexandre Lacazette",
           "FW"
          ],
          [
           "Nicolas Cozza",
           "DF,MF"
          ],
          [
           "Warren Zaïre-Emery",
           "MF,DF"
          ],
          [
           "Johann Lepenant",
           "MF"
          ],
          [
           "Carlens Arcus",
           "DF"
          ],
          [
           "Vitinha",
           "MF"
          ],
          [
           "Rayan Cherki",
           "FW,MF"
          ],
          [
           "Geoffrey Kondogbia",
           "DF,MF"
          ],
          [
           "Nicolas Pallois",
           "DF"
          ],
          [
           "Dylan Batubinsika",
           "DF"
          ],
          [
           "Lucas Beraldo",
           "DF"
          ],
          [
           "Nemanja Matić",
           "MF"
          ],
          [
           "Josué Casimir",
           "FW,MF"
          ],
          [
           "Ainsley Maitland-Niles",
           "DF"
          ],
          [
           "Aurélio Buta",
           "DF"
          ],
          [
           "Dante",
           "DF"
          ],
          [
           "Jean-Eudes Aholou",
           "MF"
          ],
          [
           "Sinaly Diomande",
           "DF"
          ],
          [
           "Melvin Bard",
           "DF,MF"
          ],
          [
           "Youssouf Ndayishimiye",
           "DF"
          ],
          [
           "Caio Henrique Oliveira Silva",
           "DF"
          ],
          [
           "Thomas Meunier",
           "DF"
          ],
          [
           "Fabián Ruiz Peña",
           "MF"
          ],
          [
           "Issa Soumaré",
           "FW,MF"
          ],
          [
           "Nicolás Tagliafico",
           "DF"
          ],
          [
           "Zakaria Aboukhlal",
           "MF,FW"
          ],
          [
           "Enzo Tchato",
           "DF"
          ],
          [
           "Farid El Melali",
           "FW"
          ],
          [
           "Joris Chotard",
           "MF"
          ],
          [
           "Lucas Stassin",
           "FW"
          ],
          [
           "João Neves",
           "MF,DF"
          ],
          [
           "Breel Embolo",
           "FW,MF"
          ],
          [
           "Gaëtan Laborde",
           "FW"
          ],
          [
           "Deiver Machado",
           "DF,MF"
          ],
          [
           "Becir Omeragic",
           "DF"
          ],
          [
           "Florian Sotoca",
           "FW,MF"
          ],
          [
           "Haris Belkebla",
           "MF"
          ],
          [
           "Gabriel Gudmundsson",
           "DF"
          ],
          [
           "Félix Lemaréchal",
           "MF,FW"
          ],
          [
           "Pablo Rosario",
           "MF,DF"
          ],
          [
           "Jordan Ferri",
           "MF"
          ],
          [
           "Benjamin Bouchouari",
           "MF"
          ],
          [
           "Hákon Arnar Haraldsson",
           "MF,FW"
          ],
          [
           "Jim Allevinah",
           "FW"
          ],
          [
           "Eliesse Ben Seghir",
           "MF,FW"
          ],
          [
           "Aïssa Mandi",
           "DF"
          ],
          [
           "Ousmane Dembélé",
           "FW"
          ],
          [
           "Désiré Doué",
           "FW,MF"
          ],
          [
           "Marquinhos",
           "DF"
          ],
          [
           "Abdoulaye Niakhate Ndiaye",
           "DF"
          ],
          [
           "Joseph Okumu",
           "DF"
          ],
          [
           "Marshall Munetsi",
           "MF"
          ],
          [
           "Rabby Nzingoula",
           "MF"
          ],
          [
           "Hans Hateboer",
           "DF"
          ],
          [
           "Massadio Haïdara",
           "DF"
          ],
          [
           "Nuno Mendes",
           "DF"
          ],
          [
           "Joshua King",
           "FW,MF"
          ],
          [
           "Lee Kang-in",
           "FW,MF"
          ],
          [
           "Gabriel Osho",
           "DF"
          ],
          [
           "Esteban Lepaul",
           "FW"
          ],
          [
           "Oumar Diakité",
           "FW"
          ],
          [
           "Mohamed Ali Cho",
           "FW,MF"
          ],
          [
           "Quentin Merlin",
           "DF"
          ],
          [
           "Malick Fofana",
           "FW"
          ],
          [
           "Neil El Aynaoui",
           "MF"
          ],
          [
           "Duje Ćaleta-Car",
           "DF"
          ],
          [
           "Mathias Pereira Lage",
           "FW,MF"
          ],
          [
           "Valentin Rongier",
           "MF,DF"
          ],
          [
           "Jordan Veretout",
           "MF"
          ],
          [
           "Pierre Lees-Melou",
           "MF"
          ],
          [
           "Yassin Belkhdim",
           "MF"
          ],
          [
           "Frank Magri",
           "FW,MF"
          ],
          [
           "Nathan Zeze",
           "DF"
          ],
          [
           "Abdoulaye Bamba",
           "DF"
          ],
          [
           "Christian Mawissa",
           "DF"
          ],
          [
           "Tanguy Coulibaly",
           "FW,MF"
          ],
          [
           "M'Bala Nzola",
           "FW"
          ],
          [
           "Kévin Danois",
           "MF"
          ],
          [
           "Christopher Wooh",
           "DF"
          ],
          [
           "André Ayew",
           "FW"
          ],
          [
           "Georges Mikautadze",
           "FW"
          ],
          [
           "Derek Cornelius",
           "DF"
          ],
          [
           "Anass Zaroury",
           "FW,MF"
          ],
          [
           "Ali Abdi",
           "DF,MF"
          ],
          [
           "Przemysław Frankowski",
           "DF"
          ],
          [
           "Malang Sarr",
           "DF"
          ],
          [
           "Julien Le Cardinal",
           "DF"
          ],
          [
           "Emmanuel Biumla",
           "DF"
          ],
          [
           "Kamory Doumbia",
           "MF,FW"
          ],
          [
           "Sorba Thomas",
           "FW,MF"
          ],
          [
           "Lilian Raolisoa",
           "DF,FW"
          ],
          [
           "Amadou Koné",
           "MF"
          ],
          [
           "Osame Sahraoui",
           "FW,MF"
          ],
          [
           "André Gomes",
           "MF"
          ],
          [
           "Emmanuel Agbadou",
           "DF"
          ],
          [
           "Romain Del Castillo",
           "FW"
          ],
          [
           "Mostafa Mohamed",
           "FW"
          ],
          [
           "Florian Tardieu",
           "MF"
          ],
          [
           "Arouna Sangante",
           "DF"
          ],
          [
           "Abdallah Sima",
           "FW,MF"
          ],
          [
           "Tanner Tessmann",
           "MF"
          ],
          [
           "Lilian Brassier",
           "DF"
          ],
          [
           "Falaye Sacko",
           "DF"
          ],
          [
           "Mika Biereth",
           "FW"
          ],
          [
           "Leo Skiri Østigård",
           "DF"
          ],
          [
           "Ngal'Ayel Mukau",
           "MF"
          ],
          [
           "Shavy Babicka",
           "MF,FW"
          ],
          [
           "Jordan James",
           "MF"
          ],
          [
           "Christopher Operi",
           "DF,FW"
          ],
          [
           "Arnaud Nordin",
           "FW"
          ],
          [
           "Nhoa Sangui",
           "DF,MF"
          ],
          [
           "Valentín Barco",
           "MF,DF"
          ],
          [
           "Issiaga Sylla",
           "DF"
          ],
          [
           "Aleksandr Golovin",
           "MF,FW"
          ],
          [
           "Ayyoub Bouaddi",
           "MF"
          ],
          [
           "Mama Samba Baldé",
           "FW"
          ],
          [
           "Mitchel Bakker",
           "FW,DF"
          ],
          [
           "Tanguy Ndombele",
           "MF"
          ],
          [
           "Mory Gbane",
           "DF,MF"
          ],
          [
           "Ruben Aguilar",
           "DF,MF"
          ],
          [
           "Djaoui Cissé",
           "MF"
          ],
          [
           "Wahbi Khazri",
           "FW,MF"
          ],
          [
           "Musa Al-Taamari",
           "FW,MF"
          ],
          [
           "Timothee Pembele",
           "DF"
          ],
          [
           "Jaydee Canvot",
           "DF,MF"
          ],
          [
           "Edimilson Fernandes",
           "MF,DF"
          ],
          [
           "Badredine Bouanani",
           "MF,FW"
          ],
          [
           "Abner",
           "DF"
          ],
          [
           "Kevin Danso",
           "DF"
          ],
          [
           "Akor Adams",
           "FW"
          ],
          [
           "Gonçalo Ramos",
           "FW"
          ],
          [
           "Matias Fernandez-Pardo",
           "FW,MF"
          ],
          [
           "Sofiane Diop",
           "MF,FW"
          ],
          [
           "Irvin Cardona",
           "FW"
          ],
          [
           "Rassoul Ndiaye",
           "MF"
          ],
          [
           "Jeremie Boga",
           "MF,FW"
          ],
          [
           "Ernest Nuamah",
           "FW,MF"
          ],
          [
           "Amine Gouiri",
           "FW,MF"
          ],
          [
           "Han-Noah Massengo",
           "MF"
          ],
          [
           "Angelo Fulgini",
           "MF,FW"
          ],
          [
           "Louis Mouton",
           "MF"
          ],
          [
           "Neal Maupay",
           "FW"
          ],
          [
           "Aimen Moueffek",
           "MF"
          ],
          [
           "Yunis Abdelhamid",
           "DF"
          ],
          [
           "Khalil Fayad",
           "MF,FW"
          ],
          [
           "Soungoutou Magassa",
           "MF"
          ],
          [
           "Mohammed Salisu",
           "DF"
          ],
          [
           "Warren Kamanzi",
           "DF,MF"
          ],
          [
           "Saidou Sow",
           "DF"
          ],
          [
           "Théo Sainte-Luce",
           "DF"
          ],
          [
           "Rémy Cabella",
           "FW,MF"
          ],
          [
           "Paul Joly",
           "DF"
          ],
          [
           "Oussama Targhalline",
           "MF"
          ],
          [
           "Edon Zhegrova",
           "FW,MF"
          ],
          [
           "Yanis Zouaoui",
           "DF,FW"
          ],
          [
           "Abdukodir Khusanov",
           "DF"
          ],
          [
           "Anthony Rouault",
           "DF"
          ],
          [
           "Ado Onaiwu",
           "MF,FW"
          ],
          [
           "Junior Mwanga",
           "MF"
          ],
          [
           "Thiago Almada",
           "MF,FW"
          ],
          [
           "Sael Kumbedi",
           "DF"
          ],
          [
           "Marcus Coco",
           "DF"
          ],
          [
           "Abakar Sylla",
           "DF"
          ],
          [
           "Yael Mouanga",
           "DF"
          ],
          [
           "Antoine Joujou",
           "MF,FW"
          ],
          [
           "Ibrahima Niane",
           "FW"
          ],
          [
           "Theo Bair",
           "FW"
          ],
          [
           "Ulisses Garcia",
           "DF"
          ],
          [
           "Jérémy Jacquet",
           "DF"
          ],
          [
           "Baptiste Santamaria",
           "MF"
          ],
          [
           "Khvicha Kvaratskhelia",
           "FW"
          ],
          [
           "Wesley Saïd",
           "FW"
          ],
          [
           "Ismaily",
           "DF"
          ],
          [
           "Romain Faivre",
           "MF,FW"
          ],
          [
           "Hiroki Sekine",
           "DF"
          ],
          [
           "Goduine Koyalipou",
           "FW"
          ],
          [
           "Lucas Hernández",
           "DF"
          ],
          [
           "Mathis Amougou",
           "MF"
          ],
          [
           "Mamadou Diakhon",
           "FW,MF"
          ],
          [
           "Mohamed Abdelmoneim",
           "DF"
          ],
          [
           "Koka",
           "FW"
          ],
          [
           "Zinedine Ferhat",
           "FW,MF"
          ],
          [
           "Seko Fofana",
           "MF"
          ],
          [
           "Antoine Mendy",
           "DF"
          ],
          [
           "Ibrahim Sissoko",
           "FW"
          ],
          [
           "Louis Leroux",
           "MF,DF"
          ],
          [
           "Albert Grønbaek",
           "MF,FW"
          ],
          [
           "Senny Mayulu",
           "MF"
          ],
          [
           "Jonathan Rowe",
           "FW,MF"
          ],
          [
           "Alidu Seidu",
           "DF"
          ],
          [
           "Yoann Salmier",
           "DF"
          ],
          [
           "Yvann Macon",
           "DF"
          ],
          [
           "Jordan Amavi",
           "DF"
          ],
          [
           "Tom Louchet",
           "DF,MF"
          ],
          [
           "Sekou Mara",
           "FW,MF"
          ],
          [
           "Maxime Bernauer",
           "DF"
          ],
          [
           "Boubakar Kouyaté",
           "DF"
          ],
          [
           "Teddy Teuma",
           "MF"
          ],
          [
           "Angel Gomes",
           "MF"
          ],
          [
           "Saïd Benrahma",
           "FW,MF"
          ],
          [
           "Augustine Boakye",
           "FW,MF"
          ],
          [
           "Mathieu Cafaro",
           "MF,FW"
          ],
          [
           "Rayan Raveloson",
           "MF,DF"
          ],
          [
           "George Ilenikhena",
           "FW"
          ],
          [
           "Lucas Mincarelli",
           "DF"
          ],
          [
           "Jacques Ekomie",
           "DF,FW"
          ],
          [
           "Mikayil Ngor Faye",
           "DF"
          ],
          [
           "Abdulai Juma Bah",
           "DF"
          ],
          [
           "Pol Lirola",
           "DF"
          ],
          [
           "Assane Dioussé",
           "MF"
          ],
          [
           "Glen Kamara",
           "MF"
          ],
          [
           "Emmanuel Sabbi",
           "FW,MF"
          ],
          [
           "Ismaël Bennacer",
           "MF"
          ],
          [
           "Chuba Akpom",
           "FW"
          ],
          [
           "Luck Zogbé",
           "DF"
          ],
          [
           "Rémy Labeau Lascary",
           "FW,MF"
          ],
          [
           "Yaya Kader Fofana",
           "MF,FW"
          ],
          [
           "Rasmus Nicolaisen",
           "DF"
          ],
          [
           "Marco Asensio",
           "FW,MF"
          ],
          [
           "Folarin Balogun",
           "FW"
          ],
          [
           "Andy Delort",
           "FW"
          ],
          [
           "Jhoanner Chávez",
           "DF,MF"
          ],
          [
           "Fodé Ballo-Touré",
           "DF,MF"
          ],
          [
           "Nampalys Mendy",
           "MF"
          ],
          [
           "Mahamadou Diawara",
           "MF"
          ],
          [
           "Nikola Maksimović",
           "DF"
          ],
          [
           "Pierre Cornud",
           "DF"
          ],
          [
           "Florian Ayé",
           "FW"
          ],
          [
           "Elye Wahi",
           "FW"
          ],
          [
           "Maxence Caqueret",
           "MF"
          ],
          [
           "Jordan Teze",
           "DF"
          ],
          [
           "Daler Kuzyaev",
           "MF"
          ],
          [
           "John Joe",
           "MF"
          ],
          [
           "Mohamed Meité",
           "FW"
          ],
          [
           "Andrew Omobamidele",
           "DF"
          ],
          [
           "Jean-Kevin Duverne",
           "DF"
          ],
          [
           "Bamba Dieng",
           "FW"
          ],
          [
           "Ben Old",
           "FW,MF"
          ],
          [
           "Amine Harit",
           "MF"
          ],
          [
           "Tino Kadewere",
           "MF,FW"
          ],
          [
           "Krépin Diatta",
           "DF,FW"
          ]
         ],
         "hovertemplate": "isomap_1=%{x}<br>isomap_2=%{y}<br>player_name=%{customdata[0]}<br>positions=%{customdata[1]}<br>cluster=%{marker.color}<extra></extra>",
         "legendgroup": "",
         "marker": {
          "color": {
           "bdata": "AgMDBgYIAgACBwIHAgMDBAQHBQUGAwgCAgcCAwYIAgADBwgAAwUIAgADBgUHAwIGBAICAgQHCQMDCAYAAwIDAgQIBAAHAgYJAgIGBQUDAgIFBQIEBQMCCAMHBwQABQYDBQYGAgICAgMIBQUCAwIHAgUHBgADAAUIAwAGAAAFAgUDBQkJAwMJAAgCBggCAgIAAwIFBwAEAQAACQUJBAIEAwMDCQACAQEFAAkCAAAHBQUFAQIBAwUFAwkDAgQAAwEAAwEBAAEJCQkFCQEBBQkJAAUJAQUDCQkBAQEJBQEBAAkJCQkJCQQJCQkBCQEJCQEBAQEJBQkJBQEBAQkFAQUCAQkBAAEBAQkBBQkBAQEBCQEBBQkBAAkJCQkBAQEBAQEBAQUJCQkJAQEBAQEBAQEBAQkBCQEJAQkBAQkBCQEBAQEBAQEBAQEBAQEBCQEB",
           "dtype": "i1"
          },
          "coloraxis": "coloraxis",
          "symbol": "circle"
         },
         "mode": "markers",
         "name": "",
         "orientation": "v",
         "showlegend": false,
         "type": "scatter",
         "x": {
          "bdata": "ha/+FcDSAkBPsrlwDoT1P+h26WbbrOQ/Nslj+3JN3D9C3TaHXHH3v0PGas0Ngf6/3E23UEe+AEAX6suTKSkAwBcmUY/JqANA1RiETVeh6T8FuVSX40f9P+6NE25WJQFA9MT8y+xlBUBLhrv6N87yP8QVUOP/A/w/9ISOWwAY3L8t5ZSwqEOQPw7m5j6+9eM/s1kwSMZz9j/Se4gWFTv1P8jft2WJLAJAOTs1Q8DHzT+jqt5Xf77xv55+UBVFq/o/gW5VB7Lr+z+/t12p8OH2P9UnIPPb1fk/Z4jjpIKm6j+HnE6B0Zbbv0JC5fmRUPu/ewMtdSuN/z90M5Gxtar9v71ZgDeAofY/uNJtYjE5tr9PYd4sWAj1v3QFwyfJjfu/dZlLAa53AECmwpLUP5XnP6eFfIoAF+a/Fa96U79U9z+ipLpFFAT8v2Xs8p2skPg/bNq6vmhWxT9w0m57HlLtP49gaRHfCPg/IlP6M+bK3z9pzmu5a4/6P7+z070gFeS/Sjm3aX2U7T8yzpJzAv38P/V226oOdPk/fPkTOiqW/z+C+gPJqyrgP8XYwtkKmOQ/2hnt8c+I0r/ZU48CDID0PzxfFnMMKOY/0NkrHZ6U8r/N4dNXOdTtPzVnN9FXdN8/CgzXEoGp5T8NiqwhARX4P9f6EtEnEPA/QS7hHsos+j9BFh3gU1zFP06fnRNAnPe/jbt3fQNa479EpLuEeOUAwPbDFamWUfM//ss55taeBEA7QO0gLHfqv4h4ioEc4s+/8Gn6WjSA/D+iFvcn+O/4PxOBnxrY1Pe/acgd1khK4D+yz6JYXVTlP5ost1dgCeQ/XFioqDdA9D/iecPjKAH8P+R6KcQNjOw/bkl3Ygy55D+ihjHFjw/2P2RjWBjaWue/WGQAfgb38D+8eB4W43LCP5Wl9I9xBvk/6vz9uHSY8L9gmKmQHOzrP9xCnFnnEfM/uN9UCznh8D8v5yu0+InmP0FdubnmXPq/pNfTpRu82j/lmxbbOjPwPy4sdu0C+8A/H6i62GM16D9HYUNNweT9P+pok6qVOOW/83OhViEG+T91b5RMF9r1PxTgxM9LNvY/kr4DPsNk/j/yVqtR8//xPyNU4PbwG/O/NVCUCxwG6z+W234JvjDgP1nqNCELvPc/v/kUGdnJ0D/+GXRl0i70PwkX5T31Iu0/va7cF0mD9T+m9n77xH7iP8RwG8Zmvu4/szpbYiI57z9BMsfbYIL0v4lv8+5q2Os/PhkmEtf8/b9G86EQW5bhP1YyzmWFe/u/H21A7msB5D9lAe5lC5r3v4+uJMbiWus/kIhPPCLA+r+PjmDhTYP5v5AocKcY15q/ShrRraSu6T/0SEhPdKLGv92Fh2T8feM/+UNoXsbw4D9+xOJ2fvTgv2HEgdGBE9Q/vmokjm3Q7j8Eeb70mdLWPzWF2QylkOS/2sSys0VT9L9XKyLV42Pov573oRTcCe4/MlJf3VO2+L+Mgh2GH+vxv1NCYdtLpf0/5KHwSRKJ8j/rB4h9vab2P+LFEq0dVOK/NEh9MneRsj8d+L2h0PLqPwlTVbjCEd0/wUlI07Ku7D+eoltX97H3v/SxVe4Ktc+/pIFf+8iq3z8FlF1Rhz/1vyLdP+F+3PK/MILrhkiW9L/vPZ3/EazDPyVXKTE7gfK/VpGRRY3YzT8tbj89YtzuP169rmYzuO+/zUHmSgQZ7z/c9hy63BPZP9RqR9fG9OQ/jhkFo+oRcj+975KHobj3v4b6yt3m0uc/0C2UotXZxT9LOCxpsqLjP4883951MPC/eFZOIES3+b9sMC2JCnBivzOJbIxwfOc/r/2ZgG/477+bRiFvvj3/v87c3pA6lfM/+CpCVLJo4b+U0bQ4Qx/Nv2QZlfqiY9M/pQ0UpDle5T9u7ODZrHrmP50JoAAgScM/sMP4OVTKzr9umwPdvtfjv4M4yXeDRti/vge0QjGmzj8EHuQS/T7tv0XfBns4KtQ/9TqLO3q76T8mZh5UTiHcv+T0skZDIPO/zgCroJ6X2j9O9F3NJmTfP3ZS1oOmLfO/6a7wjcPZyz+nwM52heLjP3ihqlRloK8/nLhoee8c+7+xtlR79iPhP39nDcN0AKC/UWdsObI58b8uthUtJh7JvwfXetAzPs+/v3ZpRo0x67+lqUDML6XNvxIjtKjPjsU//I2R8fYztb91dUDIAKvPvydECeOK35q/mix5PVLj87/qhGab2pbhv8cciRaLmt+/qJs0kP2yxD8JxgZPvlnMP2G5LxHhRa0/ltbRDUd/6r95zbEn9/ryvzAuarGpA8G/DiZCTV+adb+5/dFY/9WQPwufqFi2dPG/9dCESh1NrD+Bf8OGCPjhP5HehB9zCPW/wT39svH5+79pzKvPaeHxv8iTHXs1+u2/O4xJxZ2j7r+v6HI3nOXSv7fuFj48QfK/ZoF4U6L05b/pMZazy5L1vwPQYzGfXNO/6LoyQKLv4r9i0z6v8I20v+OdRuxa8Oy/VuUcZ58O2b96y7J6Hje9P7kWBkiTM5+/22LcbZFrwD/wXb1knuHcP97l37GmgNW/9RyEur5jwT91k1nztDbUvxv4q2ZCy+G/+Xrh6fB+2D+YRyr/JhTMv3npcTgqHPG/+KOjHHwU179ZBoaSNH/APxoFy60wFtQ/+3dBQRJr7r/UAt6Il+XRvw/owkyqH9y/VuD1Kd4U0L82wP8qUtOuv4p+qI+O9NQ/dISpgl7CpD99uBZT2eXsv9QpFiexKfi/bz5fim4x77/QOeRo0xrbv7up0YUrc7E/Yl7kVFLVwr+LExkcdx/zv/tlqeOcZ+u/B/8GnbDRpz/5N+q6+1Htv560bpvaDLW/xlDh5aKA8r9X0H6gTovTP6zphFVLo9S/PLI+oiv88b8UEZ8Co17BP66zJHvaJuq/+xUQROyF6r+hONasHwLavyupZnpcHHy/mbMySA6T8L/5VULZRnzfv+pvroEIo+y/5ktgcmTd4r9/IX0M7d/zvwxr+dNFvaO/vxM7Lsupt79d2kBUC8LJv8oemjpOlKW/H5ZINeVg07/DY9GO5Vvsv0tSNdkTZry/NimVn7kiyb8xlIJpHFvJv2tYAggBieW/vyof6ifp7L8NPaw2fXXqv0vEVp/v5+O/2XPCrQHb1r9YWl1W3Y/zv5iCGtNftM2/MHfnFTir1L+467sU43CHv5cLXUyhWLi/kmU9trSe0r9JzBvnrk7PvxcyDjN93Ni/wIJXQV1C67/fI4laHh+xvyp5pPMho/K/TMpSn6ZC07/HrK4ru4zsvzDkrlUjZ+O/tg0yQUmUyr9tnRrfhsbvv4uD0Off0PO/srITiJQE6r9HcwWx0ADdv6LysR/Hps6/WJ5BZnSb3L+BSQkCM6/Uv5d3fJksc8+/NO4jqWSdyb/+W2lqXAXqv/ROfO3td/K/nDEDyrcm1b8FBiWK8Avdv6mWh2epAdq/LMU2KQZI2L/by8KRyHnov/4BWxlcorK/77jroBSP0L895VhT0Dvtv8k6WO4/jOW/5jP+nug+678Rk9xSMEblv86DJHqhYNW/",
          "dtype": "f8"
         },
         "xaxis": "x",
         "y": {
          "bdata": "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",
          "dtype": "f8"
         },
         "yaxis": "y"
        }
       ],
       "layout": {
        "coloraxis": {
         "colorbar": {
          "title": {
           "text": "cluster"
          }
         },
         "colorscale": [
          [
           0,
           "#0d0887"
          ],
          [
           0.1111111111111111,
           "#46039f"
          ],
          [
           0.2222222222222222,
           "#7201a8"
          ],
          [
           0.3333333333333333,
           "#9c179e"
          ],
          [
           0.4444444444444444,
           "#bd3786"
          ],
          [
           0.5555555555555556,
           "#d8576b"
          ],
          [
           0.6666666666666666,
           "#ed7953"
          ],
          [
           0.7777777777777778,
           "#fb9f3a"
          ],
          [
           0.8888888888888888,
           "#fdca26"
          ],
          [
           1,
           "#f0f921"
          ]
         ]
        },
        "height": 600,
        "legend": {
         "tracegroupgap": 0
        },
        "template": {
         "data": {
          "bar": [
           {
            "error_x": {
             "color": "#2a3f5f"
            },
            "error_y": {
             "color": "#2a3f5f"
            },
            "marker": {
             "line": {
              "color": "#E5ECF6",
              "width": 0.5
             },
             "pattern": {
              "fillmode": "overlay",
              "size": 10,
              "solidity": 0.2
             }
            },
            "type": "bar"
           }
          ],
          "barpolar": [
           {
            "marker": {
             "line": {
              "color": "#E5ECF6",
              "width": 0.5
             },
             "pattern": {
              "fillmode": "overlay",
              "size": 10,
              "solidity": 0.2
             }
            },
            "type": "barpolar"
           }
          ],
          "carpet": [
           {
            "aaxis": {
             "endlinecolor": "#2a3f5f",
             "gridcolor": "white",
             "linecolor": "white",
             "minorgridcolor": "white",
             "startlinecolor": "#2a3f5f"
            },
            "baxis": {
             "endlinecolor": "#2a3f5f",
             "gridcolor": "white",
             "linecolor": "white",
             "minorgridcolor": "white",
             "startlinecolor": "#2a3f5f"
            },
            "type": "carpet"
           }
          ],
          "choropleth": [
           {
            "colorbar": {
             "outlinewidth": 0,
             "ticks": ""
            },
            "type": "choropleth"
           }
          ],
          "contour": [
           {
            "colorbar": {
             "outlinewidth": 0,
             "ticks": ""
            },
            "colorscale": [
             [
              0,
              "#0d0887"
             ],
             [
              0.1111111111111111,
              "#46039f"
             ],
             [
              0.2222222222222222,
              "#7201a8"
             ],
             [
              0.3333333333333333,
              "#9c179e"
             ],
             [
              0.4444444444444444,
              "#bd3786"
             ],
             [
              0.5555555555555556,
              "#d8576b"
             ],
             [
              0.6666666666666666,
              "#ed7953"
             ],
             [
              0.7777777777777778,
              "#fb9f3a"
             ],
             [
              0.8888888888888888,
              "#fdca26"
             ],
             [
              1,
              "#f0f921"
             ]
            ],
            "type": "contour"
           }
          ],
          "contourcarpet": [
           {
            "colorbar": {
             "outlinewidth": 0,
             "ticks": ""
            },
            "type": "contourcarpet"
           }
          ],
          "heatmap": [
           {
            "colorbar": {
             "outlinewidth": 0,
             "ticks": ""
            },
            "colorscale": [
             [
              0,
              "#0d0887"
             ],
             [
              0.1111111111111111,
              "#46039f"
             ],
             [
              0.2222222222222222,
              "#7201a8"
             ],
             [
              0.3333333333333333,
              "#9c179e"
             ],
             [
              0.4444444444444444,
              "#bd3786"
             ],
             [
              0.5555555555555556,
              "#d8576b"
             ],
             [
              0.6666666666666666,
              "#ed7953"
             ],
             [
              0.7777777777777778,
              "#fb9f3a"
             ],
             [
              0.8888888888888888,
              "#fdca26"
             ],
             [
              1,
              "#f0f921"
             ]
            ],
            "type": "heatmap"
           }
          ],
          "histogram": [
           {
            "marker": {
             "pattern": {
              "fillmode": "overlay",
              "size": 10,
              "solidity": 0.2
             }
            },
            "type": "histogram"
           }
          ],
          "histogram2d": [
           {
            "colorbar": {
             "outlinewidth": 0,
             "ticks": ""
            },
            "colorscale": [
             [
              0,
              "#0d0887"
             ],
             [
              0.1111111111111111,
              "#46039f"
             ],
             [
              0.2222222222222222,
              "#7201a8"
             ],
             [
              0.3333333333333333,
              "#9c179e"
             ],
             [
              0.4444444444444444,
              "#bd3786"
             ],
             [
              0.5555555555555556,
              "#d8576b"
             ],
             [
              0.6666666666666666,
              "#ed7953"
             ],
             [
              0.7777777777777778,
              "#fb9f3a"
             ],
             [
              0.8888888888888888,
              "#fdca26"
             ],
             [
              1,
              "#f0f921"
             ]
            ],
            "type": "histogram2d"
           }
          ],
          "histogram2dcontour": [
           {
            "colorbar": {
             "outlinewidth": 0,
             "ticks": ""
            },
            "colorscale": [
             [
              0,
              "#0d0887"
             ],
             [
              0.1111111111111111,
              "#46039f"
             ],
             [
              0.2222222222222222,
              "#7201a8"
             ],
             [
              0.3333333333333333,
              "#9c179e"
             ],
             [
              0.4444444444444444,
              "#bd3786"
             ],
             [
              0.5555555555555556,
              "#d8576b"
             ],
             [
              0.6666666666666666,
              "#ed7953"
             ],
             [
              0.7777777777777778,
              "#fb9f3a"
             ],
             [
              0.8888888888888888,
              "#fdca26"
             ],
             [
              1,
              "#f0f921"
             ]
            ],
            "type": "histogram2dcontour"
           }
          ],
          "mesh3d": [
           {
            "colorbar": {
             "outlinewidth": 0,
             "ticks": ""
            },
            "type": "mesh3d"
           }
          ],
          "parcoords": [
           {
            "line": {
             "colorbar": {
              "outlinewidth": 0,
              "ticks": ""
             }
            },
            "type": "parcoords"
           }
          ],
          "pie": [
           {
            "automargin": true,
            "type": "pie"
           }
          ],
          "scatter": [
           {
            "fillpattern": {
             "fillmode": "overlay",
             "size": 10,
             "solidity": 0.2
            },
            "type": "scatter"
           }
          ],
          "scatter3d": [
           {
            "line": {
             "colorbar": {
              "outlinewidth": 0,
              "ticks": ""
             }
            },
            "marker": {
             "colorbar": {
              "outlinewidth": 0,
              "ticks": ""
             }
            },
            "type": "scatter3d"
           }
          ],
          "scattercarpet": [
           {
            "marker": {
             "colorbar": {
              "outlinewidth": 0,
              "ticks": ""
             }
            },
            "type": "scattercarpet"
           }
          ],
          "scattergeo": [
           {
            "marker": {
             "colorbar": {
              "outlinewidth": 0,
              "ticks": ""
             }
            },
            "type": "scattergeo"
           }
          ],
          "scattergl": [
           {
            "marker": {
             "colorbar": {
              "outlinewidth": 0,
              "ticks": ""
             }
            },
            "type": "scattergl"
           }
          ],
          "scattermap": [
           {
            "marker": {
             "colorbar": {
              "outlinewidth": 0,
              "ticks": ""
             }
            },
            "type": "scattermap"
           }
          ],
          "scattermapbox": [
           {
            "marker": {
             "colorbar": {
              "outlinewidth": 0,
              "ticks": ""
             }
            },
            "type": "scattermapbox"
           }
          ],
          "scatterpolar": [
           {
            "marker": {
             "colorbar": {
              "outlinewidth": 0,
              "ticks": ""
             }
            },
            "type": "scatterpolar"
           }
          ],
          "scatterpolargl": [
           {
            "marker": {
             "colorbar": {
              "outlinewidth": 0,
              "ticks": ""
             }
            },
            "type": "scatterpolargl"
           }
          ],
          "scatterternary": [
           {
            "marker": {
             "colorbar": {
              "outlinewidth": 0,
              "ticks": ""
             }
            },
            "type": "scatterternary"
           }
          ],
          "surface": [
           {
            "colorbar": {
             "outlinewidth": 0,
             "ticks": ""
            },
            "colorscale": [
             [
              0,
              "#0d0887"
             ],
             [
              0.1111111111111111,
              "#46039f"
             ],
             [
              0.2222222222222222,
              "#7201a8"
             ],
             [
              0.3333333333333333,
              "#9c179e"
             ],
             [
              0.4444444444444444,
              "#bd3786"
             ],
             [
              0.5555555555555556,
              "#d8576b"
             ],
             [
              0.6666666666666666,
              "#ed7953"
             ],
             [
              0.7777777777777778,
              "#fb9f3a"
             ],
             [
              0.8888888888888888,
              "#fdca26"
             ],
             [
              1,
              "#f0f921"
             ]
            ],
            "type": "surface"
           }
          ],
          "table": [
           {
            "cells": {
             "fill": {
              "color": "#EBF0F8"
             },
             "line": {
              "color": "white"
             }
            },
            "header": {
             "fill": {
              "color": "#C8D4E3"
             },
             "line": {
              "color": "white"
             }
            },
            "type": "table"
           }
          ]
         },
         "layout": {
          "annotationdefaults": {
           "arrowcolor": "#2a3f5f",
           "arrowhead": 0,
           "arrowwidth": 1
          },
          "autotypenumbers": "strict",
          "coloraxis": {
           "colorbar": {
            "outlinewidth": 0,
            "ticks": ""
           }
          },
          "colorscale": {
           "diverging": [
            [
             0,
             "#8e0152"
            ],
            [
             0.1,
             "#c51b7d"
            ],
            [
             0.2,
             "#de77ae"
            ],
            [
             0.3,
             "#f1b6da"
            ],
            [
             0.4,
             "#fde0ef"
            ],
            [
             0.5,
             "#f7f7f7"
            ],
            [
             0.6,
             "#e6f5d0"
            ],
            [
             0.7,
             "#b8e186"
            ],
            [
             0.8,
             "#7fbc41"
            ],
            [
             0.9,
             "#4d9221"
            ],
            [
             1,
             "#276419"
            ]
           ],
           "sequential": [
            [
             0,
             "#0d0887"
            ],
            [
             0.1111111111111111,
             "#46039f"
            ],
            [
             0.2222222222222222,
             "#7201a8"
            ],
            [
             0.3333333333333333,
             "#9c179e"
            ],
            [
             0.4444444444444444,
             "#bd3786"
            ],
            [
             0.5555555555555556,
             "#d8576b"
            ],
            [
             0.6666666666666666,
             "#ed7953"
            ],
            [
             0.7777777777777778,
             "#fb9f3a"
            ],
            [
             0.8888888888888888,
             "#fdca26"
            ],
            [
             1,
             "#f0f921"
            ]
           ],
           "sequentialminus": [
            [
             0,
             "#0d0887"
            ],
            [
             0.1111111111111111,
             "#46039f"
            ],
            [
             0.2222222222222222,
             "#7201a8"
            ],
            [
             0.3333333333333333,
             "#9c179e"
            ],
            [
             0.4444444444444444,
             "#bd3786"
            ],
            [
             0.5555555555555556,
             "#d8576b"
            ],
            [
             0.6666666666666666,
             "#ed7953"
            ],
            [
             0.7777777777777778,
             "#fb9f3a"
            ],
            [
             0.8888888888888888,
             "#fdca26"
            ],
            [
             1,
             "#f0f921"
            ]
           ]
          },
          "colorway": [
           "#636efa",
           "#EF553B",
           "#00cc96",
           "#ab63fa",
           "#FFA15A",
           "#19d3f3",
           "#FF6692",
           "#B6E880",
           "#FF97FF",
           "#FECB52"
          ],
          "font": {
           "color": "#2a3f5f"
          },
          "geo": {
           "bgcolor": "white",
           "lakecolor": "white",
           "landcolor": "#E5ECF6",
           "showlakes": true,
           "showland": true,
           "subunitcolor": "white"
          },
          "hoverlabel": {
           "align": "left"
          },
          "hovermode": "closest",
          "mapbox": {
           "style": "light"
          },
          "paper_bgcolor": "white",
          "plot_bgcolor": "#E5ECF6",
          "polar": {
           "angularaxis": {
            "gridcolor": "white",
            "linecolor": "white",
            "ticks": ""
           },
           "bgcolor": "#E5ECF6",
           "radialaxis": {
            "gridcolor": "white",
            "linecolor": "white",
            "ticks": ""
           }
          },
          "scene": {
           "xaxis": {
            "backgroundcolor": "#E5ECF6",
            "gridcolor": "white",
            "gridwidth": 2,
            "linecolor": "white",
            "showbackground": true,
            "ticks": "",
            "zerolinecolor": "white"
           },
           "yaxis": {
            "backgroundcolor": "#E5ECF6",
            "gridcolor": "white",
            "gridwidth": 2,
            "linecolor": "white",
            "showbackground": true,
            "ticks": "",
            "zerolinecolor": "white"
           },
           "zaxis": {
            "backgroundcolor": "#E5ECF6",
            "gridcolor": "white",
            "gridwidth": 2,
            "linecolor": "white",
            "showbackground": true,
            "ticks": "",
            "zerolinecolor": "white"
           }
          },
          "shapedefaults": {
           "line": {
            "color": "#2a3f5f"
           }
          },
          "ternary": {
           "aaxis": {
            "gridcolor": "white",
            "linecolor": "white",
            "ticks": ""
           },
           "baxis": {
            "gridcolor": "white",
            "linecolor": "white",
            "ticks": ""
           },
           "bgcolor": "#E5ECF6",
           "caxis": {
            "gridcolor": "white",
            "linecolor": "white",
            "ticks": ""
           }
          },
          "title": {
           "x": 0.05
          },
          "xaxis": {
           "automargin": true,
           "gridcolor": "white",
           "linecolor": "white",
           "ticks": "",
           "title": {
            "standoff": 15
           },
           "zerolinecolor": "white",
           "zerolinewidth": 2
          },
          "yaxis": {
           "automargin": true,
           "gridcolor": "white",
           "linecolor": "white",
           "ticks": "",
           "title": {
            "standoff": 15
           },
           "zerolinecolor": "white",
           "zerolinewidth": 2
          }
         }
        },
        "title": {
         "text": "Clusters GMM sur données ISOMap per90"
        },
        "width": 800,
        "xaxis": {
         "anchor": "y",
         "domain": [
          0,
          1
         ],
         "title": {
          "text": "isomap_1"
         }
        },
        "yaxis": {
         "anchor": "x",
         "domain": [
          0,
          1
         ],
         "title": {
          "text": "isomap_2"
         }
        }
       }
      },
      "image/png": "[encoded data removed]"
     },
     "metadata": {},
     "output_type": "display_data"
    }
   ],
   "source": [
    "def print_results(X, column1, column2, data_name) :\n",
    "    fig = px.scatter(\n",
    "        X, \n",
    "        x= column1, \n",
    "        y= column2, \n",
    "        color='cluster', \n",
    "        hover_data=['player_name', 'positions'],  # ce qui s'affiche au survol\n",
    "        title=f\"Clusters GMM sur données {data_name}\",\n",
    "        width=800, \n",
    "        height=600,\n",
    "        color_discrete_sequence= None\n",
    "    )\n",
    "    fig.show()\n",
    "\n",
    "print_results(X_gmm_iso_raw, \"isomap_1\", \"isomap_2\", \"ISOMap raw\")\n",
    "print_results(X_gmm_iso_per90, \"isomap_1\", \"isomap_2\", \"ISOMap per90\")"
   ]
  },
  {
   "cell_type": "code",
   "execution_count": null,
   "id": "a93df5b6-63c4-4d3d-95b7-dc1763e1fff1",
   "metadata": {},
   "outputs": [],
   "source": []
  },
  {
   "cell_type": "code",
   "execution_count": null,
   "id": "1947cad2-c50b-400f-92fa-b9b61ede331a",
   "metadata": {},
   "outputs": [],
   "source": []
  },
  {
   "cell_type": "code",
   "execution_count": null,
   "id": "2205fe08-6be4-488c-b955-1ab729cd43dc",
   "metadata": {},
   "outputs": [],
   "source": []
  },
  {
   "cell_type": "code",
   "execution_count": null,
   "id": "e095b3d2-4e9f-4063-8397-61fcf0d5e3c8",
   "metadata": {},
   "outputs": [],
   "source": []
  },
  {
   "cell_type": "code",
   "execution_count": null,
   "id": "db35272b-74b0-4743-9f99-34de64b7f97a",
   "metadata": {},
   "outputs": [],
   "source": []
  },
  {
   "cell_type": "code",
   "execution_count": null,
   "id": "26087caf-cea3-4a78-b6e9-823ba01b9fc9",
   "metadata": {},
   "outputs": [],
   "source": []
  },
  {
   "cell_type": "code",
   "execution_count": null,
   "id": "21b601f6-eebf-4601-9007-1b67650d1e15",
   "metadata": {},
   "outputs": [],
   "source": []
  }
 ],
 "metadata": {
  "kernelspec": {
   "display_name": "Python 3 (ipykernel)",
   "language": "python",
   "name": "python3"
  },
  "language_info": {
   "codemirror_mode": {
    "name": "ipython",
    "version": 3
   },
   "file_extension": ".py",
   "mimetype": "text/x-python",
   "name": "python",
   "nbconvert_exporter": "python",
   "pygments_lexer": "ipython3",
   "version": "3.11.9"
  }
 },
 "nbformat": 4,
 "nbformat_minor": 5
}
