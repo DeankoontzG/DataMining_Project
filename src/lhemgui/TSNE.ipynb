{
 "cells": [
  {
   "cell_type": "code",
   "execution_count": 49,
   "id": "9b63c982-492f-4c7b-a4ac-bf8eaab500e6",
   "metadata": {},
   "outputs": [
    {
     "name": "stdout",
     "output_type": "stream",
     "text": [
      "Index(['equipe', 'player_id', 'player_name', 'player_country_code', 'age',\n",
      "       'positions', 'matches_played', 'min', 'gls', 'ast',\n",
      "       ...\n",
      "       'second_yellow_cards', 'fls_com', 'fls_drawn', 'offside', 'pk_won',\n",
      "       'pk_conceded', 'og', 'ball_recov', 'air_dual_won', 'air_dual_lost'],\n",
      "      dtype='object', length=106)\n"
     ]
    }
   ],
   "source": [
    "import pandas as pd\n",
    "import numpy as np\n",
    "import matplotlib.pyplot as plt\n",
    "import plotly.express as px\n",
    "import seaborn as sns\n",
    "from sklearn.preprocessing import StandardScaler\n",
    "from sklearn.manifold import TSNE, trustworthiness\n",
    "from sklearn.metrics import pairwise_distances\n",
    "\n",
    "from scipy.stats import spearmanr\n",
    "\n",
    "file_path_raw = \"../../cleaned_data/joueurs_ligue1_2024_2025_clean_raw.csv\"\n",
    "file_path_per90 = \"../../cleaned_data/joueurs_ligue1_2024_2025_clean_per90.csv\"\n",
    "file_path_custom = \"../../cleaned_data/joueurs_ligue1_2024_2025_clean_custom_no_GK.csv\"\n",
    "\n",
    "data_raw = pd.read_csv(file_path_raw, encoding=\"utf-8\")\n",
    "data_per90 = pd.read_csv(file_path_per90, encoding=\"utf-8\")\n",
    "data_custom = pd.read_csv(file_path_custom, encoding=\"utf-8\")\n",
    "print(data_raw.columns)"
   ]
  },
  {
   "cell_type": "markdown",
   "id": "4e3f6260-2b8f-4932-a01c-2c5bab8228f4",
   "metadata": {},
   "source": [
    "### Pre-processing : remove non numeric columns, normalize as t-SNE (like ISOMap) is based on distances"
   ]
  },
  {
   "cell_type": "code",
   "execution_count": 50,
   "id": "abe8cf6a-b6bc-4532-a9c8-aa1cef8ee51a",
   "metadata": {},
   "outputs": [
    {
     "name": "stdout",
     "output_type": "stream",
     "text": [
      "Columns removed (5): ['equipe', 'player_country_code', 'player_id', 'player_name', 'positions']\n",
      "Columns removed (5): ['equipe', 'player_country_code', 'player_id', 'player_name', 'positions']\n",
      "Columns removed (5): ['equipe', 'player_country_code', 'player_id', 'player_name', 'positions']\n"
     ]
    }
   ],
   "source": [
    "def preprocessing(data):\n",
    "    player_names = data['player_name']\n",
    "    player_positions = data['positions']\n",
    "    data_num = data.select_dtypes(include=[np.number]).dropna(axis=1, how='any')\n",
    "    data_num.index = player_names\n",
    "    \n",
    "    scaler = StandardScaler()\n",
    "    X_scaled = scaler.fit_transform(data_num)\n",
    "\n",
    "    removed_cols = set(data.columns) - set(data_num.columns)\n",
    "    print(f\"Columns removed ({len(removed_cols)}): {sorted(list(removed_cols))}\")\n",
    "    \n",
    "    return X_scaled, data_num.columns, player_positions\n",
    "\n",
    "X_raw, cols_raw, player_positions_raw = preprocessing(data_raw)\n",
    "X_per90, cols_per90, player_positions_per90 = preprocessing(data_per90)\n",
    "X_custom, cols_custom, player_positions_custom = preprocessing(data_custom)"
   ]
  },
  {
   "cell_type": "markdown",
   "id": "b825a522-4f2f-48bb-8d0f-c01d65a12337",
   "metadata": {},
   "source": [
    "## Results Analysis"
   ]
  },
  {
   "cell_type": "code",
   "execution_count": 51,
   "id": "d89afd17-54db-45f6-af83-f79bb523c84f",
   "metadata": {},
   "outputs": [],
   "source": [
    "# Continuity\n",
    "def continuity(X, X_embedded, k):\n",
    "    n = X.shape[0]\n",
    "    original_neighbors = np.argsort(pairwise_distances(X), axis=1)[:, 1:k+1]\n",
    "    embedded_neighbors = np.argsort(pairwise_distances(X_embedded), axis=1)[:, 1:k+1]\n",
    "    \n",
    "    total = 0\n",
    "    for i in range(n):\n",
    "        orig = set(original_neighbors[i])\n",
    "        emb = set(embedded_neighbors[i])\n",
    "        missing = orig - emb\n",
    "        total += sum([list(original_neighbors[i]).index(m) + 1 for m in missing])\n",
    "    continuity_score = 1 - (2 / (n * k * (2 * n - 3 * k - 1))) * total\n",
    "    return continuity_score\n",
    "\n",
    "# MRRE (Mean Relative Rank Error)\n",
    "def mrre(X, X_embedded, k):\n",
    "    n = X.shape[0]\n",
    "    D_high = pairwise_distances(X)\n",
    "    D_low = pairwise_distances(X_embedded)\n",
    "\n",
    "    R_high = np.argsort(np.argsort(D_high, axis=1), axis=1)\n",
    "    R_low = np.argsort(np.argsort(D_low, axis=1), axis=1)\n",
    "\n",
    "    error = 0\n",
    "    for i in range(n):\n",
    "        for j in range(n):\n",
    "            if i != j:\n",
    "                error += abs(R_high[i][j] - R_low[i][j]) / R_high[i][j]\n",
    "    return error / (n * (n - 1))\n",
    "\n",
    "def extractMetrics_tsne(X_original, X_tsne, k=10):\n",
    "    # Pairwise distances\n",
    "    D_high = pairwise_distances(X_original)\n",
    "    D_low = pairwise_distances(X_tsne)\n",
    "\n",
    "    # Spearman correlation of distances\n",
    "    corr, _ = spearmanr(\n",
    "        D_high[np.triu_indices_from(D_high, k=1)],\n",
    "        D_low[np.triu_indices_from(D_low, k=1)]\n",
    "    )\n",
    "\n",
    "    # Neighborhood metrics\n",
    "    trust = trustworthiness(X_original, X_tsne, n_neighbors=k)\n",
    "    cont = continuity(X_original, X_tsne, k)\n",
    "    mrre_score = mrre(X_original, X_tsne, k)\n",
    "\n",
    "    return corr, trust, cont, mrre_score\n"
   ]
  },
  {
   "cell_type": "markdown",
   "id": "b6e38940-2848-412f-b1d9-d08b21bcd686",
   "metadata": {},
   "source": [
    "### Gridsearch for t-SNE :"
   ]
  },
  {
   "cell_type": "code",
   "execution_count": 43,
   "id": "653b8191-2bf3-4a55-bc13-eb68dfd1c99a",
   "metadata": {},
   "outputs": [],
   "source": [
    "def grid_search_tsne(data_raw, data_per90, data_custom, n_components_list, perplexity_list, learning_rate_list):\n",
    "    results_raw = []\n",
    "    results_per90 = []\n",
    "    results_custom = []\n",
    "\n",
    "    for n_components in n_components_list:\n",
    "        for perplexity in perplexity_list:\n",
    "            for learning_rate in learning_rate_list:\n",
    "                \n",
    "                tsne_raw = TSNE(n_components=n_components, perplexity=perplexity, learning_rate=learning_rate, init='pca', random_state=42, method = \"exact\")\n",
    "                X_tsne_raw = tsne_raw.fit_transform(data_raw)\n",
    "                \n",
    "                tsne_per90 = TSNE(n_components=n_components, perplexity=perplexity,learning_rate=learning_rate, init='pca', random_state=42, method = \"exact\")\n",
    "                X_tsne_per90 = tsne_per90.fit_transform(data_per90)\n",
    "                \n",
    "                tsne_custom = TSNE(n_components=n_components, perplexity=perplexity,learning_rate=learning_rate, init='pca', random_state=42, method = \"exact\")\n",
    "                X_tsne_custom = tsne_custom.fit_transform(data_custom)\n",
    "\n",
    "                # Compute metrics\n",
    "                corr_raw, trust_raw, cont_raw, mrre_raw = extractMetrics_tsne(data_raw, X_tsne_raw)\n",
    "                corr_per90, trust_per90, cont_per90, mrre_per90 = extractMetrics_tsne(data_per90, X_tsne_per90)\n",
    "                corr_custom, trust_custom, cont_custom, mrre_custom = extractMetrics_tsne(data_custom, X_tsne_custom)\n",
    "\n",
    "                # Store results\n",
    "                results_raw.append({\n",
    "                    \"n_components\": n_components,\n",
    "                    \"perplexity\": perplexity,\n",
    "                    \"learning_rate\": learning_rate,\n",
    "                    \"dist_corr\": corr_raw,\n",
    "                    \"trustworthiness\": trust_raw,\n",
    "                    \"continuity\": cont_raw,\n",
    "                    \"MRRE\": mrre_raw\n",
    "                })\n",
    "                results_per90.append({\n",
    "                    \"n_components\": n_components,\n",
    "                    \"perplexity\": perplexity,\n",
    "                    \"learning_rate\": learning_rate,\n",
    "                    \"dist_corr\": corr_per90,\n",
    "                    \"trustworthiness\": trust_per90,\n",
    "                    \"continuity\": cont_per90,\n",
    "                    \"MRRE\": mrre_per90\n",
    "                })\n",
    "                results_custom.append({\n",
    "                    \"n_components\": n_components,\n",
    "                    \"perplexity\": perplexity,\n",
    "                    \"learning_rate\": learning_rate,\n",
    "                    \"dist_corr\": corr_custom,\n",
    "                    \"trustworthiness\": trust_custom,\n",
    "                    \"continuity\": cont_custom,\n",
    "                    \"MRRE\": mrre_custom\n",
    "                })\n",
    "\n",
    "    df_raw = pd.DataFrame(results_raw)\n",
    "    df_per90 = pd.DataFrame(results_per90)\n",
    "    df_custom = pd.DataFrame(results_custom)\n",
    "    return df_raw, df_per90, df_custom\n",
    "\n",
    "def print_metric_slice(df, metric):\n",
    "    print(f\"\\n--- {metric.upper()} ---\")\n",
    "    display(df.pivot_table(\n",
    "        index=[\"n_components\", \"perplexity\"],\n",
    "        columns=\"learning_rate\",\n",
    "        values=metric\n",
    "    ))"
   ]
  },
  {
   "cell_type": "code",
   "execution_count": 58,
   "id": "31755a57-9020-41a8-b555-c2ca77ebf14f",
   "metadata": {},
   "outputs": [
    {
     "name": "stdout",
     "output_type": "stream",
     "text": [
      "=== t-SNE on Raw data ===\n",
      "\n",
      "--- DIST_CORR ---\n"
     ]
    },
    {
     "data": {
      "text/html": [
       "<div>\n",
       "<style scoped>\n",
       "    .dataframe tbody tr th:only-of-type {\n",
       "        vertical-align: middle;\n",
       "    }\n",
       "\n",
       "    .dataframe tbody tr th {\n",
       "        vertical-align: top;\n",
       "    }\n",
       "\n",
       "    .dataframe thead th {\n",
       "        text-align: right;\n",
       "    }\n",
       "</style>\n",
       "<table border=\"1\" class=\"dataframe\">\n",
       "  <thead>\n",
       "    <tr style=\"text-align: right;\">\n",
       "      <th></th>\n",
       "      <th>learning_rate</th>\n",
       "      <th>40</th>\n",
       "      <th>50</th>\n",
       "      <th>60</th>\n",
       "      <th>70</th>\n",
       "      <th>80</th>\n",
       "    </tr>\n",
       "    <tr>\n",
       "      <th>n_components</th>\n",
       "      <th>perplexity</th>\n",
       "      <th></th>\n",
       "      <th></th>\n",
       "      <th></th>\n",
       "      <th></th>\n",
       "      <th></th>\n",
       "    </tr>\n",
       "  </thead>\n",
       "  <tbody>\n",
       "    <tr>\n",
       "      <th rowspan=\"2\" valign=\"top\">4</th>\n",
       "      <th>30</th>\n",
       "      <td>0.701362</td>\n",
       "      <td>0.704792</td>\n",
       "      <td>0.704284</td>\n",
       "      <td>0.708924</td>\n",
       "      <td>0.595206</td>\n",
       "    </tr>\n",
       "    <tr>\n",
       "      <th>40</th>\n",
       "      <td>0.660850</td>\n",
       "      <td>0.716387</td>\n",
       "      <td>0.716007</td>\n",
       "      <td>0.719558</td>\n",
       "      <td>0.696135</td>\n",
       "    </tr>\n",
       "  </tbody>\n",
       "</table>\n",
       "</div>"
      ],
      "text/plain": [
       "learning_rate                  40        50        60        70        80\n",
       "n_components perplexity                                                  \n",
       "4            30          0.701362  0.704792  0.704284  0.708924  0.595206\n",
       "             40          0.660850  0.716387  0.716007  0.719558  0.696135"
      ]
     },
     "metadata": {},
     "output_type": "display_data"
    },
    {
     "name": "stdout",
     "output_type": "stream",
     "text": [
      "\n",
      "--- TRUSTWORTHINESS ---\n"
     ]
    },
    {
     "data": {
      "text/html": [
       "<div>\n",
       "<style scoped>\n",
       "    .dataframe tbody tr th:only-of-type {\n",
       "        vertical-align: middle;\n",
       "    }\n",
       "\n",
       "    .dataframe tbody tr th {\n",
       "        vertical-align: top;\n",
       "    }\n",
       "\n",
       "    .dataframe thead th {\n",
       "        text-align: right;\n",
       "    }\n",
       "</style>\n",
       "<table border=\"1\" class=\"dataframe\">\n",
       "  <thead>\n",
       "    <tr style=\"text-align: right;\">\n",
       "      <th></th>\n",
       "      <th>learning_rate</th>\n",
       "      <th>40</th>\n",
       "      <th>50</th>\n",
       "      <th>60</th>\n",
       "      <th>70</th>\n",
       "      <th>80</th>\n",
       "    </tr>\n",
       "    <tr>\n",
       "      <th>n_components</th>\n",
       "      <th>perplexity</th>\n",
       "      <th></th>\n",
       "      <th></th>\n",
       "      <th></th>\n",
       "      <th></th>\n",
       "      <th></th>\n",
       "    </tr>\n",
       "  </thead>\n",
       "  <tbody>\n",
       "    <tr>\n",
       "      <th rowspan=\"2\" valign=\"top\">4</th>\n",
       "      <th>30</th>\n",
       "      <td>0.972118</td>\n",
       "      <td>0.973145</td>\n",
       "      <td>0.973081</td>\n",
       "      <td>0.972424</td>\n",
       "      <td>0.960335</td>\n",
       "    </tr>\n",
       "    <tr>\n",
       "      <th>40</th>\n",
       "      <td>0.957922</td>\n",
       "      <td>0.974792</td>\n",
       "      <td>0.974522</td>\n",
       "      <td>0.974487</td>\n",
       "      <td>0.972039</td>\n",
       "    </tr>\n",
       "  </tbody>\n",
       "</table>\n",
       "</div>"
      ],
      "text/plain": [
       "learning_rate                  40        50        60        70        80\n",
       "n_components perplexity                                                  \n",
       "4            30          0.972118  0.973145  0.973081  0.972424  0.960335\n",
       "             40          0.957922  0.974792  0.974522  0.974487  0.972039"
      ]
     },
     "metadata": {},
     "output_type": "display_data"
    },
    {
     "name": "stdout",
     "output_type": "stream",
     "text": [
      "\n",
      "--- CONTINUITY ---\n"
     ]
    },
    {
     "data": {
      "text/html": [
       "<div>\n",
       "<style scoped>\n",
       "    .dataframe tbody tr th:only-of-type {\n",
       "        vertical-align: middle;\n",
       "    }\n",
       "\n",
       "    .dataframe tbody tr th {\n",
       "        vertical-align: top;\n",
       "    }\n",
       "\n",
       "    .dataframe thead th {\n",
       "        text-align: right;\n",
       "    }\n",
       "</style>\n",
       "<table border=\"1\" class=\"dataframe\">\n",
       "  <thead>\n",
       "    <tr style=\"text-align: right;\">\n",
       "      <th></th>\n",
       "      <th>learning_rate</th>\n",
       "      <th>40</th>\n",
       "      <th>50</th>\n",
       "      <th>60</th>\n",
       "      <th>70</th>\n",
       "      <th>80</th>\n",
       "    </tr>\n",
       "    <tr>\n",
       "      <th>n_components</th>\n",
       "      <th>perplexity</th>\n",
       "      <th></th>\n",
       "      <th></th>\n",
       "      <th></th>\n",
       "      <th></th>\n",
       "      <th></th>\n",
       "    </tr>\n",
       "  </thead>\n",
       "  <tbody>\n",
       "    <tr>\n",
       "      <th rowspan=\"2\" valign=\"top\">4</th>\n",
       "      <th>30</th>\n",
       "      <td>0.991509</td>\n",
       "      <td>0.991513</td>\n",
       "      <td>0.991526</td>\n",
       "      <td>0.991533</td>\n",
       "      <td>0.990844</td>\n",
       "    </tr>\n",
       "    <tr>\n",
       "      <th>40</th>\n",
       "      <td>0.990849</td>\n",
       "      <td>0.991633</td>\n",
       "      <td>0.991515</td>\n",
       "      <td>0.991537</td>\n",
       "      <td>0.991638</td>\n",
       "    </tr>\n",
       "  </tbody>\n",
       "</table>\n",
       "</div>"
      ],
      "text/plain": [
       "learning_rate                  40        50        60        70        80\n",
       "n_components perplexity                                                  \n",
       "4            30          0.991509  0.991513  0.991526  0.991533  0.990844\n",
       "             40          0.990849  0.991633  0.991515  0.991537  0.991638"
      ]
     },
     "metadata": {},
     "output_type": "display_data"
    },
    {
     "name": "stdout",
     "output_type": "stream",
     "text": [
      "\n",
      "--- MRRE ---\n"
     ]
    },
    {
     "data": {
      "text/html": [
       "<div>\n",
       "<style scoped>\n",
       "    .dataframe tbody tr th:only-of-type {\n",
       "        vertical-align: middle;\n",
       "    }\n",
       "\n",
       "    .dataframe tbody tr th {\n",
       "        vertical-align: top;\n",
       "    }\n",
       "\n",
       "    .dataframe thead th {\n",
       "        text-align: right;\n",
       "    }\n",
       "</style>\n",
       "<table border=\"1\" class=\"dataframe\">\n",
       "  <thead>\n",
       "    <tr style=\"text-align: right;\">\n",
       "      <th></th>\n",
       "      <th>learning_rate</th>\n",
       "      <th>40</th>\n",
       "      <th>50</th>\n",
       "      <th>60</th>\n",
       "      <th>70</th>\n",
       "      <th>80</th>\n",
       "    </tr>\n",
       "    <tr>\n",
       "      <th>n_components</th>\n",
       "      <th>perplexity</th>\n",
       "      <th></th>\n",
       "      <th></th>\n",
       "      <th></th>\n",
       "      <th></th>\n",
       "      <th></th>\n",
       "    </tr>\n",
       "  </thead>\n",
       "  <tbody>\n",
       "    <tr>\n",
       "      <th rowspan=\"2\" valign=\"top\">4</th>\n",
       "      <th>30</th>\n",
       "      <td>0.425626</td>\n",
       "      <td>0.423839</td>\n",
       "      <td>0.416333</td>\n",
       "      <td>0.418695</td>\n",
       "      <td>0.601023</td>\n",
       "    </tr>\n",
       "    <tr>\n",
       "      <th>40</th>\n",
       "      <td>0.504973</td>\n",
       "      <td>0.404715</td>\n",
       "      <td>0.409708</td>\n",
       "      <td>0.403774</td>\n",
       "      <td>0.442139</td>\n",
       "    </tr>\n",
       "  </tbody>\n",
       "</table>\n",
       "</div>"
      ],
      "text/plain": [
       "learning_rate                  40        50        60        70        80\n",
       "n_components perplexity                                                  \n",
       "4            30          0.425626  0.423839  0.416333  0.418695  0.601023\n",
       "             40          0.504973  0.404715  0.409708  0.403774  0.442139"
      ]
     },
     "metadata": {},
     "output_type": "display_data"
    },
    {
     "name": "stdout",
     "output_type": "stream",
     "text": [
      "=== t-SNE on Per90 data ===\n",
      "\n",
      "--- DIST_CORR ---\n"
     ]
    },
    {
     "data": {
      "text/html": [
       "<div>\n",
       "<style scoped>\n",
       "    .dataframe tbody tr th:only-of-type {\n",
       "        vertical-align: middle;\n",
       "    }\n",
       "\n",
       "    .dataframe tbody tr th {\n",
       "        vertical-align: top;\n",
       "    }\n",
       "\n",
       "    .dataframe thead th {\n",
       "        text-align: right;\n",
       "    }\n",
       "</style>\n",
       "<table border=\"1\" class=\"dataframe\">\n",
       "  <thead>\n",
       "    <tr style=\"text-align: right;\">\n",
       "      <th></th>\n",
       "      <th>learning_rate</th>\n",
       "      <th>40</th>\n",
       "      <th>50</th>\n",
       "      <th>60</th>\n",
       "      <th>70</th>\n",
       "      <th>80</th>\n",
       "    </tr>\n",
       "    <tr>\n",
       "      <th>n_components</th>\n",
       "      <th>perplexity</th>\n",
       "      <th></th>\n",
       "      <th></th>\n",
       "      <th></th>\n",
       "      <th></th>\n",
       "      <th></th>\n",
       "    </tr>\n",
       "  </thead>\n",
       "  <tbody>\n",
       "    <tr>\n",
       "      <th rowspan=\"2\" valign=\"top\">4</th>\n",
       "      <th>30</th>\n",
       "      <td>0.647573</td>\n",
       "      <td>0.737144</td>\n",
       "      <td>0.743129</td>\n",
       "      <td>0.705374</td>\n",
       "      <td>0.666005</td>\n",
       "    </tr>\n",
       "    <tr>\n",
       "      <th>40</th>\n",
       "      <td>0.629832</td>\n",
       "      <td>0.699474</td>\n",
       "      <td>0.746758</td>\n",
       "      <td>0.739011</td>\n",
       "      <td>0.670433</td>\n",
       "    </tr>\n",
       "  </tbody>\n",
       "</table>\n",
       "</div>"
      ],
      "text/plain": [
       "learning_rate                  40        50        60        70        80\n",
       "n_components perplexity                                                  \n",
       "4            30          0.647573  0.737144  0.743129  0.705374  0.666005\n",
       "             40          0.629832  0.699474  0.746758  0.739011  0.670433"
      ]
     },
     "metadata": {},
     "output_type": "display_data"
    },
    {
     "name": "stdout",
     "output_type": "stream",
     "text": [
      "\n",
      "--- TRUSTWORTHINESS ---\n"
     ]
    },
    {
     "data": {
      "text/html": [
       "<div>\n",
       "<style scoped>\n",
       "    .dataframe tbody tr th:only-of-type {\n",
       "        vertical-align: middle;\n",
       "    }\n",
       "\n",
       "    .dataframe tbody tr th {\n",
       "        vertical-align: top;\n",
       "    }\n",
       "\n",
       "    .dataframe thead th {\n",
       "        text-align: right;\n",
       "    }\n",
       "</style>\n",
       "<table border=\"1\" class=\"dataframe\">\n",
       "  <thead>\n",
       "    <tr style=\"text-align: right;\">\n",
       "      <th></th>\n",
       "      <th>learning_rate</th>\n",
       "      <th>40</th>\n",
       "      <th>50</th>\n",
       "      <th>60</th>\n",
       "      <th>70</th>\n",
       "      <th>80</th>\n",
       "    </tr>\n",
       "    <tr>\n",
       "      <th>n_components</th>\n",
       "      <th>perplexity</th>\n",
       "      <th></th>\n",
       "      <th></th>\n",
       "      <th></th>\n",
       "      <th></th>\n",
       "      <th></th>\n",
       "    </tr>\n",
       "  </thead>\n",
       "  <tbody>\n",
       "    <tr>\n",
       "      <th rowspan=\"2\" valign=\"top\">4</th>\n",
       "      <th>30</th>\n",
       "      <td>0.948383</td>\n",
       "      <td>0.968820</td>\n",
       "      <td>0.967747</td>\n",
       "      <td>0.965095</td>\n",
       "      <td>0.954780</td>\n",
       "    </tr>\n",
       "    <tr>\n",
       "      <th>40</th>\n",
       "      <td>0.938937</td>\n",
       "      <td>0.956247</td>\n",
       "      <td>0.971148</td>\n",
       "      <td>0.967270</td>\n",
       "      <td>0.944295</td>\n",
       "    </tr>\n",
       "  </tbody>\n",
       "</table>\n",
       "</div>"
      ],
      "text/plain": [
       "learning_rate                  40        50        60        70        80\n",
       "n_components perplexity                                                  \n",
       "4            30          0.948383  0.968820  0.967747  0.965095  0.954780\n",
       "             40          0.938937  0.956247  0.971148  0.967270  0.944295"
      ]
     },
     "metadata": {},
     "output_type": "display_data"
    },
    {
     "name": "stdout",
     "output_type": "stream",
     "text": [
      "\n",
      "--- CONTINUITY ---\n"
     ]
    },
    {
     "data": {
      "text/html": [
       "<div>\n",
       "<style scoped>\n",
       "    .dataframe tbody tr th:only-of-type {\n",
       "        vertical-align: middle;\n",
       "    }\n",
       "\n",
       "    .dataframe tbody tr th {\n",
       "        vertical-align: top;\n",
       "    }\n",
       "\n",
       "    .dataframe thead th {\n",
       "        text-align: right;\n",
       "    }\n",
       "</style>\n",
       "<table border=\"1\" class=\"dataframe\">\n",
       "  <thead>\n",
       "    <tr style=\"text-align: right;\">\n",
       "      <th></th>\n",
       "      <th>learning_rate</th>\n",
       "      <th>40</th>\n",
       "      <th>50</th>\n",
       "      <th>60</th>\n",
       "      <th>70</th>\n",
       "      <th>80</th>\n",
       "    </tr>\n",
       "    <tr>\n",
       "      <th>n_components</th>\n",
       "      <th>perplexity</th>\n",
       "      <th></th>\n",
       "      <th></th>\n",
       "      <th></th>\n",
       "      <th></th>\n",
       "      <th></th>\n",
       "    </tr>\n",
       "  </thead>\n",
       "  <tbody>\n",
       "    <tr>\n",
       "      <th rowspan=\"2\" valign=\"top\">4</th>\n",
       "      <th>30</th>\n",
       "      <td>0.990566</td>\n",
       "      <td>0.991199</td>\n",
       "      <td>0.991193</td>\n",
       "      <td>0.991198</td>\n",
       "      <td>0.990860</td>\n",
       "    </tr>\n",
       "    <tr>\n",
       "      <th>40</th>\n",
       "      <td>0.990465</td>\n",
       "      <td>0.990725</td>\n",
       "      <td>0.991413</td>\n",
       "      <td>0.991304</td>\n",
       "      <td>0.990387</td>\n",
       "    </tr>\n",
       "  </tbody>\n",
       "</table>\n",
       "</div>"
      ],
      "text/plain": [
       "learning_rate                  40        50        60        70        80\n",
       "n_components perplexity                                                  \n",
       "4            30          0.990566  0.991199  0.991193  0.991198  0.990860\n",
       "             40          0.990465  0.990725  0.991413  0.991304  0.990387"
      ]
     },
     "metadata": {},
     "output_type": "display_data"
    },
    {
     "name": "stdout",
     "output_type": "stream",
     "text": [
      "\n",
      "--- MRRE ---\n"
     ]
    },
    {
     "data": {
      "text/html": [
       "<div>\n",
       "<style scoped>\n",
       "    .dataframe tbody tr th:only-of-type {\n",
       "        vertical-align: middle;\n",
       "    }\n",
       "\n",
       "    .dataframe tbody tr th {\n",
       "        vertical-align: top;\n",
       "    }\n",
       "\n",
       "    .dataframe thead th {\n",
       "        text-align: right;\n",
       "    }\n",
       "</style>\n",
       "<table border=\"1\" class=\"dataframe\">\n",
       "  <thead>\n",
       "    <tr style=\"text-align: right;\">\n",
       "      <th></th>\n",
       "      <th>learning_rate</th>\n",
       "      <th>40</th>\n",
       "      <th>50</th>\n",
       "      <th>60</th>\n",
       "      <th>70</th>\n",
       "      <th>80</th>\n",
       "    </tr>\n",
       "    <tr>\n",
       "      <th>n_components</th>\n",
       "      <th>perplexity</th>\n",
       "      <th></th>\n",
       "      <th></th>\n",
       "      <th></th>\n",
       "      <th></th>\n",
       "      <th></th>\n",
       "    </tr>\n",
       "  </thead>\n",
       "  <tbody>\n",
       "    <tr>\n",
       "      <th rowspan=\"2\" valign=\"top\">4</th>\n",
       "      <th>30</th>\n",
       "      <td>0.616648</td>\n",
       "      <td>0.453617</td>\n",
       "      <td>0.451231</td>\n",
       "      <td>0.556600</td>\n",
       "      <td>0.618248</td>\n",
       "    </tr>\n",
       "    <tr>\n",
       "      <th>40</th>\n",
       "      <td>0.663066</td>\n",
       "      <td>0.544891</td>\n",
       "      <td>0.440416</td>\n",
       "      <td>0.482277</td>\n",
       "      <td>0.671161</td>\n",
       "    </tr>\n",
       "  </tbody>\n",
       "</table>\n",
       "</div>"
      ],
      "text/plain": [
       "learning_rate                  40        50        60        70        80\n",
       "n_components perplexity                                                  \n",
       "4            30          0.616648  0.453617  0.451231  0.556600  0.618248\n",
       "             40          0.663066  0.544891  0.440416  0.482277  0.671161"
      ]
     },
     "metadata": {},
     "output_type": "display_data"
    },
    {
     "name": "stdout",
     "output_type": "stream",
     "text": [
      "=== t-SNE on Custom data ===\n",
      "\n",
      "--- DIST_CORR ---\n"
     ]
    },
    {
     "data": {
      "text/html": [
       "<div>\n",
       "<style scoped>\n",
       "    .dataframe tbody tr th:only-of-type {\n",
       "        vertical-align: middle;\n",
       "    }\n",
       "\n",
       "    .dataframe tbody tr th {\n",
       "        vertical-align: top;\n",
       "    }\n",
       "\n",
       "    .dataframe thead th {\n",
       "        text-align: right;\n",
       "    }\n",
       "</style>\n",
       "<table border=\"1\" class=\"dataframe\">\n",
       "  <thead>\n",
       "    <tr style=\"text-align: right;\">\n",
       "      <th></th>\n",
       "      <th>learning_rate</th>\n",
       "      <th>40</th>\n",
       "      <th>50</th>\n",
       "      <th>60</th>\n",
       "      <th>70</th>\n",
       "      <th>80</th>\n",
       "    </tr>\n",
       "    <tr>\n",
       "      <th>n_components</th>\n",
       "      <th>perplexity</th>\n",
       "      <th></th>\n",
       "      <th></th>\n",
       "      <th></th>\n",
       "      <th></th>\n",
       "      <th></th>\n",
       "    </tr>\n",
       "  </thead>\n",
       "  <tbody>\n",
       "    <tr>\n",
       "      <th rowspan=\"2\" valign=\"top\">4</th>\n",
       "      <th>30</th>\n",
       "      <td>0.736739</td>\n",
       "      <td>0.747307</td>\n",
       "      <td>0.733408</td>\n",
       "      <td>0.618977</td>\n",
       "      <td>0.472913</td>\n",
       "    </tr>\n",
       "    <tr>\n",
       "      <th>40</th>\n",
       "      <td>0.684705</td>\n",
       "      <td>0.758951</td>\n",
       "      <td>0.750920</td>\n",
       "      <td>0.665624</td>\n",
       "      <td>0.568317</td>\n",
       "    </tr>\n",
       "  </tbody>\n",
       "</table>\n",
       "</div>"
      ],
      "text/plain": [
       "learning_rate                  40        50        60        70        80\n",
       "n_components perplexity                                                  \n",
       "4            30          0.736739  0.747307  0.733408  0.618977  0.472913\n",
       "             40          0.684705  0.758951  0.750920  0.665624  0.568317"
      ]
     },
     "metadata": {},
     "output_type": "display_data"
    },
    {
     "name": "stdout",
     "output_type": "stream",
     "text": [
      "\n",
      "--- TRUSTWORTHINESS ---\n"
     ]
    },
    {
     "data": {
      "text/html": [
       "<div>\n",
       "<style scoped>\n",
       "    .dataframe tbody tr th:only-of-type {\n",
       "        vertical-align: middle;\n",
       "    }\n",
       "\n",
       "    .dataframe tbody tr th {\n",
       "        vertical-align: top;\n",
       "    }\n",
       "\n",
       "    .dataframe thead th {\n",
       "        text-align: right;\n",
       "    }\n",
       "</style>\n",
       "<table border=\"1\" class=\"dataframe\">\n",
       "  <thead>\n",
       "    <tr style=\"text-align: right;\">\n",
       "      <th></th>\n",
       "      <th>learning_rate</th>\n",
       "      <th>40</th>\n",
       "      <th>50</th>\n",
       "      <th>60</th>\n",
       "      <th>70</th>\n",
       "      <th>80</th>\n",
       "    </tr>\n",
       "    <tr>\n",
       "      <th>n_components</th>\n",
       "      <th>perplexity</th>\n",
       "      <th></th>\n",
       "      <th></th>\n",
       "      <th></th>\n",
       "      <th></th>\n",
       "      <th></th>\n",
       "    </tr>\n",
       "  </thead>\n",
       "  <tbody>\n",
       "    <tr>\n",
       "      <th rowspan=\"2\" valign=\"top\">4</th>\n",
       "      <th>30</th>\n",
       "      <td>0.964586</td>\n",
       "      <td>0.964072</td>\n",
       "      <td>0.965057</td>\n",
       "      <td>0.937295</td>\n",
       "      <td>0.905273</td>\n",
       "    </tr>\n",
       "    <tr>\n",
       "      <th>40</th>\n",
       "      <td>0.950956</td>\n",
       "      <td>0.967604</td>\n",
       "      <td>0.966874</td>\n",
       "      <td>0.940259</td>\n",
       "      <td>0.915273</td>\n",
       "    </tr>\n",
       "  </tbody>\n",
       "</table>\n",
       "</div>"
      ],
      "text/plain": [
       "learning_rate                  40        50        60        70        80\n",
       "n_components perplexity                                                  \n",
       "4            30          0.964586  0.964072  0.965057  0.937295  0.905273\n",
       "             40          0.950956  0.967604  0.966874  0.940259  0.915273"
      ]
     },
     "metadata": {},
     "output_type": "display_data"
    },
    {
     "name": "stdout",
     "output_type": "stream",
     "text": [
      "\n",
      "--- CONTINUITY ---\n"
     ]
    },
    {
     "data": {
      "text/html": [
       "<div>\n",
       "<style scoped>\n",
       "    .dataframe tbody tr th:only-of-type {\n",
       "        vertical-align: middle;\n",
       "    }\n",
       "\n",
       "    .dataframe tbody tr th {\n",
       "        vertical-align: top;\n",
       "    }\n",
       "\n",
       "    .dataframe thead th {\n",
       "        text-align: right;\n",
       "    }\n",
       "</style>\n",
       "<table border=\"1\" class=\"dataframe\">\n",
       "  <thead>\n",
       "    <tr style=\"text-align: right;\">\n",
       "      <th></th>\n",
       "      <th>learning_rate</th>\n",
       "      <th>40</th>\n",
       "      <th>50</th>\n",
       "      <th>60</th>\n",
       "      <th>70</th>\n",
       "      <th>80</th>\n",
       "    </tr>\n",
       "    <tr>\n",
       "      <th>n_components</th>\n",
       "      <th>perplexity</th>\n",
       "      <th></th>\n",
       "      <th></th>\n",
       "      <th></th>\n",
       "      <th></th>\n",
       "      <th></th>\n",
       "    </tr>\n",
       "  </thead>\n",
       "  <tbody>\n",
       "    <tr>\n",
       "      <th rowspan=\"2\" valign=\"top\">4</th>\n",
       "      <th>30</th>\n",
       "      <td>0.990682</td>\n",
       "      <td>0.990651</td>\n",
       "      <td>0.990652</td>\n",
       "      <td>0.989972</td>\n",
       "      <td>0.989292</td>\n",
       "    </tr>\n",
       "    <tr>\n",
       "      <th>40</th>\n",
       "      <td>0.990233</td>\n",
       "      <td>0.990849</td>\n",
       "      <td>0.990858</td>\n",
       "      <td>0.990064</td>\n",
       "      <td>0.989331</td>\n",
       "    </tr>\n",
       "  </tbody>\n",
       "</table>\n",
       "</div>"
      ],
      "text/plain": [
       "learning_rate                  40        50        60        70        80\n",
       "n_components perplexity                                                  \n",
       "4            30          0.990682  0.990651  0.990652  0.989972  0.989292\n",
       "             40          0.990233  0.990849  0.990858  0.990064  0.989331"
      ]
     },
     "metadata": {},
     "output_type": "display_data"
    },
    {
     "name": "stdout",
     "output_type": "stream",
     "text": [
      "\n",
      "--- MRRE ---\n"
     ]
    },
    {
     "data": {
      "text/html": [
       "<div>\n",
       "<style scoped>\n",
       "    .dataframe tbody tr th:only-of-type {\n",
       "        vertical-align: middle;\n",
       "    }\n",
       "\n",
       "    .dataframe tbody tr th {\n",
       "        vertical-align: top;\n",
       "    }\n",
       "\n",
       "    .dataframe thead th {\n",
       "        text-align: right;\n",
       "    }\n",
       "</style>\n",
       "<table border=\"1\" class=\"dataframe\">\n",
       "  <thead>\n",
       "    <tr style=\"text-align: right;\">\n",
       "      <th></th>\n",
       "      <th>learning_rate</th>\n",
       "      <th>40</th>\n",
       "      <th>50</th>\n",
       "      <th>60</th>\n",
       "      <th>70</th>\n",
       "      <th>80</th>\n",
       "    </tr>\n",
       "    <tr>\n",
       "      <th>n_components</th>\n",
       "      <th>perplexity</th>\n",
       "      <th></th>\n",
       "      <th></th>\n",
       "      <th></th>\n",
       "      <th></th>\n",
       "      <th></th>\n",
       "    </tr>\n",
       "  </thead>\n",
       "  <tbody>\n",
       "    <tr>\n",
       "      <th rowspan=\"2\" valign=\"top\">4</th>\n",
       "      <th>30</th>\n",
       "      <td>0.464924</td>\n",
       "      <td>0.462858</td>\n",
       "      <td>0.482157</td>\n",
       "      <td>0.762209</td>\n",
       "      <td>1.094221</td>\n",
       "    </tr>\n",
       "    <tr>\n",
       "      <th>40</th>\n",
       "      <td>0.578132</td>\n",
       "      <td>0.437687</td>\n",
       "      <td>0.451444</td>\n",
       "      <td>0.644940</td>\n",
       "      <td>0.906928</td>\n",
       "    </tr>\n",
       "  </tbody>\n",
       "</table>\n",
       "</div>"
      ],
      "text/plain": [
       "learning_rate                  40        50        60        70        80\n",
       "n_components perplexity                                                  \n",
       "4            30          0.464924  0.462858  0.482157  0.762209  1.094221\n",
       "             40          0.578132  0.437687  0.451444  0.644940  0.906928"
      ]
     },
     "metadata": {},
     "output_type": "display_data"
    }
   ],
   "source": [
    "components_grid = [4]\n",
    "perplexity_grid = [30, 40]\n",
    "learning_rate_grid = [40, 50, 60, 70, 80]\n",
    "\n",
    "results_tsne_raw, results_tsne_per90, results_tsne_custom = grid_search_tsne(X_raw, X_per90, X_custom, components_grid, perplexity_grid, learning_rate_grid)\n",
    "\n",
    "print(\"=== t-SNE on Raw data ===\")\n",
    "for metric in [\"dist_corr\", \"trustworthiness\", \"continuity\", \"MRRE\"]:\n",
    "    print_metric_slice(results_tsne_raw, metric)\n",
    "\n",
    "print(\"=== t-SNE on Per90 data ===\")\n",
    "for metric in [\"dist_corr\", \"trustworthiness\", \"continuity\", \"MRRE\"]:\n",
    "    print_metric_slice(results_tsne_per90, metric)\n",
    "\n",
    "print(\"=== t-SNE on Custom data ===\")\n",
    "for metric in [\"dist_corr\", \"trustworthiness\", \"continuity\", \"MRRE\"]:\n",
    "    print_metric_slice(results_tsne_custom, metric)"
   ]
  },
  {
   "cell_type": "markdown",
   "id": "55b9d503-2e1b-428f-b6f3-d73441576606",
   "metadata": {},
   "source": [
    "## Best models - t-SNE computation"
   ]
  },
  {
   "cell_type": "code",
   "execution_count": 59,
   "id": "48edd936-a4fb-48e4-b7a9-0cd800a4d744",
   "metadata": {},
   "outputs": [],
   "source": [
    "def run_tsne(X, n_components, perplexity, learning_rate = 60):\n",
    "    tsne = TSNE(n_components= n_components, perplexity=perplexity, init = \"pca\", learning_rate=learning_rate, max_iter=3000, random_state=42, method = \"exact\")\n",
    "    X_tsne = tsne.fit_transform(X)\n",
    "    return X_tsne, tsne\n",
    "\n",
    "X_tsne_raw, tsne_raw = run_tsne(X_raw, n_components=4, perplexity=40, learning_rate = 60)\n",
    "X_tsne_per90, tsne_per90 = run_tsne(X_per90, n_components=4, perplexity=40, learning_rate = 60)\n",
    "X_tsne_custom, tsne_custom = run_tsne(X_custom, n_components=4, perplexity=40, learning_rate = 60)"
   ]
  },
  {
   "cell_type": "markdown",
   "id": "60cbe59c-a945-4c3a-8b0f-2cb32126103b",
   "metadata": {},
   "source": [
    "### Results Display"
   ]
  },
  {
   "cell_type": "code",
   "execution_count": 60,
   "id": "6c3cbd0b-047a-4b00-95fb-1ecf504311ad",
   "metadata": {},
   "outputs": [
    {
     "data": {
      "application/vnd.plotly.v1+json": {
       "config": {
        "plotlyServerURL": "https://plot.ly"
       },
       "data": [
        {
         "hovertemplate": "<b>%{hovertext}</b><br><br>color=#00ff00<br>Isomap_1=%{x}<br>Isomap_2=%{y}<extra></extra>",
         "hovertext": [
          "Jordan Lefort",
          "Gautier Lloris",
          "Bafodé Diakité",
          "Moussa Niakhate",
          "Guela Doué",
          "Alexsandro Ribeiro",
          "Kenny Lala",
          "Florent Hanin",
          "Jubal",
          "Léo Pétrot",
          "Charlie Cresswell",
          "Facundo Medina",
          "Sergio Akieme",
          "Mark McKenzie",
          "Clément Akpa",
          "Michael Amir Murillo",
          "Brendan Chardonnet",
          "Thilo Kehrer",
          "Clinton Mata",
          "Mamadou Sarr",
          "Etienne Youte Kinkoue",
          "Mickael Nade",
          "Gideon Mensah",
          "Leonardo Balerdi",
          "Moïse Bombito",
          "Cédric Kipré",
          "Kelvin Amian",
          "Gabriel Suazo",
          "Modibo Sagnan",
          "Willian Pacho",
          "Dennis Appiah",
          "Ki-Jana Hoever",
          "Jonathan Gradit",
          "Djibril Sidibé",
          "Wilfried Singo",
          "Achraf Hakimi",
          "Vanderson",
          "Carlens Arcus",
          "Nicolas Pallois",
          "Dylan Batubinsika",
          "Lucas Beraldo",
          "Ainsley Maitland-Niles",
          "Aurélio Buta",
          "Dante",
          "Sinaly Diomande",
          "Youssouf Ndayishimiye",
          "Caio Henrique Oliveira Silva",
          "Thomas Meunier",
          "Nicolás Tagliafico",
          "Enzo Tchato",
          "Becir Omeragic",
          "Gabriel Gudmundsson",
          "Aïssa Mandi",
          "Marquinhos",
          "Abdoulaye Niakhate Ndiaye",
          "Joseph Okumu",
          "Hans Hateboer",
          "Massadio Haïdara",
          "Nuno Mendes",
          "Gabriel Osho",
          "Quentin Merlin",
          "Duje Ćaleta-Car",
          "Nathan Zeze",
          "Abdoulaye Bamba",
          "Christian Mawissa",
          "Christopher Wooh",
          "Derek Cornelius",
          "Przemysław Frankowski",
          "Malang Sarr",
          "Julien Le Cardinal",
          "Emmanuel Biumla",
          "Emmanuel Agbadou",
          "Arouna Sangante",
          "Lilian Brassier",
          "Falaye Sacko",
          "Leo Skiri Østigård",
          "Issiaga Sylla",
          "Timothee Pembele",
          "Abner",
          "Kevin Danso",
          "Yunis Abdelhamid",
          "Mohammed Salisu",
          "Saidou Sow",
          "Théo Sainte-Luce",
          "Paul Joly",
          "Abdukodir Khusanov",
          "Anthony Rouault",
          "Sael Kumbedi",
          "Marcus Coco",
          "Abakar Sylla",
          "Yael Mouanga",
          "Ulisses Garcia",
          "Jérémy Jacquet",
          "Ismaily",
          "Hiroki Sekine",
          "Lucas Hernández",
          "Mohamed Abdelmoneim",
          "Antoine Mendy",
          "Alidu Seidu",
          "Yoann Salmier",
          "Yvann Macon",
          "Jordan Amavi",
          "Maxime Bernauer",
          "Boubakar Kouyaté",
          "Lucas Mincarelli",
          "Mikayil Ngor Faye",
          "Abdulai Juma Bah",
          "Pol Lirola",
          "Luck Zogbé",
          "Rasmus Nicolaisen",
          "Nikola Maksimović",
          "Pierre Cornud",
          "Jordan Teze",
          "Andrew Omobamidele",
          "Jean-Kevin Duverne"
         ],
         "legendgroup": "#00ff00",
         "marker": {
          "color": "#636efa",
          "symbol": "circle"
         },
         "mode": "markers",
         "name": "#00ff00",
         "orientation": "v",
         "showlegend": true,
         "type": "scatter",
         "x": {
          "bdata": "SHNTwK6LOsDIwE7AkFdFwLCpVcDsWFbA/WU2wH3hOMCzyi/Ayl5GwM7bNMAQMEPAYX7hv/3qFMD1XDjAzItCwC35IMCBwUXAhBEywEeBOMC9YtG/q80GwD+DMMDkrlDAAG/mv9DHCMAASeu/5WLmv8wHBMATCkTAhvAywInLBcConhDA6sAKwM9hPcBC3jrAkmAXwNQIA8BxDwzA5/2/v5lXTsDRowTApK/Xvx/WCcDmfua/yZgVwLXL0r9wQjnAbGw7wIUX5b/8ahS/Qf7cvwBXp7+BTV/AlHPjvwldnL8e+9K/VwLKvwojDsCIDfm9hLXsvmqRRr/e1XK/mPMGP+fIkr9A206/ndQ1v9c2ML9uTpg873jkvrAOdz/07AG/kInevu7Qxr3HIpU/IUpevhvPprvbqp8+yCO1vPjHCb1N+yE/z+vxvZ2Lez8hAnA/6kazv1xc0j97xf0+ljQ9Pz7gGb/CqoK+URKEP50xhz5ekB8/fv6XvSRShT8k87A9NKw/P48bOz+SUoo/hwejP8twsj+G8/8/q1gqQIVxLEBTDuk/PfLWP6BKuz99FRhA+NnqP6VeEkCqFwpAvM67P/4luj8utyVAxPbzPw==",
          "dtype": "f4"
         },
         "xaxis": "x",
         "y": {
          "bdata": "6fb5P0YLxj9XnjxAoxwJQDRkNEDRAENAx3hdQO9aPEB/B44+z2QTQGzPWT/JejlAJe7XPzxGsz/BX70+kX4lQNBo+D7NXQBAlbD9P/tM9z+vz4c/icKLP8//HkC+PkZAvGm1P8RivT8j15I/REhEQFBVrD43BAZA4BQRQFq5BkDvh6s/YRcJQOa0tD9NVDNApdIgQKOFsj+eHpO9X7h6PxlDGEAUVy5A9FOFP2cbxD/wDWk7yUWeP7aKQEAH2gdApMsZP3jFmD/v9Ei/67LFP6+Ykz/Q2/c/WvcMP62szD/SnpA/wj6qP+KlHUD7cde+lczaP6+3wzwneHS+bjpvv0ZQu77Z7BK/mrb1Pw61xz8Q5yM/eZcTvy5BE7+V4Mg+4poCvwZHKT7UZB/AFY7bvr3LOr9Nu4W/vr2RvnFYEL4cYVy/NGcBv1BiVL/bQKq/z8aMv69cL79o+D2/RSeQvz8PEcBKEZi/KJiMv0K3k78Wdou/RLb0PW7Ut780SbK/awnYv50Khb90kLK/9byPv5JoxL8bsre/zsKXv2n9q7/usqm/YMNWv6u/mb/8D9K/2tJBvooe07/EVPW/VZIQwOMu679nLra/zAbUvw==",
          "dtype": "f4"
         },
         "yaxis": "y"
        },
        {
         "hovertemplate": "<b>%{hovertext}</b><br><br>color=#0000ff<br>Isomap_1=%{x}<br>Isomap_2=%{y}<extra></extra>",
         "hovertext": [
          "Andrey Santos",
          "Valentin Atangana Edoa",
          "Cristian Cásseres Jr.",
          "Benjamin André",
          "Pierre Højbjerg",
          "Adrien Thomasson",
          "Pierre Ekwah Elimby",
          "Adrien Rabiot",
          "Hicham Boudaoui",
          "Vincent Sierro",
          "Téji Savanier",
          "Pedro Chirivella",
          "Elisha Owusu",
          "Corentin Tolisso",
          "Abdoulaye Touré",
          "Hugo Magnetti",
          "Douglas",
          "Andy Diouf",
          "Denis Zakaria",
          "Hamed Junior Traorè",
          "Azor Matusiwa",
          "Lamine Camara",
          "Johann Lepenant",
          "Vitinha",
          "Nemanja Matić",
          "Jean-Eudes Aholou",
          "Fabián Ruiz Peña",
          "Joris Chotard",
          "Haris Belkebla",
          "Jordan Ferri",
          "Benjamin Bouchouari",
          "Marshall Munetsi",
          "Rabby Nzingoula",
          "Neil El Aynaoui",
          "Jordan Veretout",
          "Pierre Lees-Melou",
          "Yassin Belkhdim",
          "Kévin Danois",
          "Amadou Koné",
          "André Gomes",
          "Florian Tardieu",
          "Tanner Tessmann",
          "Ngal'Ayel Mukau",
          "Jordan James",
          "Ayyoub Bouaddi",
          "Tanguy Ndombele",
          "Djaoui Cissé",
          "Rassoul Ndiaye",
          "Han-Noah Massengo",
          "Louis Mouton",
          "Aimen Moueffek",
          "Soungoutou Magassa",
          "Oussama Targhalline",
          "Junior Mwanga",
          "Baptiste Santamaria",
          "Mathis Amougou",
          "Seko Fofana",
          "Senny Mayulu",
          "Teddy Teuma",
          "Angel Gomes",
          "Assane Dioussé",
          "Glen Kamara",
          "Ismaël Bennacer",
          "Nampalys Mendy",
          "Mahamadou Diawara",
          "Maxence Caqueret",
          "Daler Kuzyaev",
          "John Joe",
          "Amine Harit"
         ],
         "legendgroup": "#0000ff",
         "marker": {
          "color": "#EF553B",
          "symbol": "circle"
         },
         "mode": "markers",
         "name": "#0000ff",
         "orientation": "v",
         "showlegend": true,
         "type": "scatter",
         "x": {
          "bdata": "uZt4wGOpN8Dg837Ag/ODwDamUcB2LWzAR4wrwPbkPsC2XUfAWZGfv1/KUb8OsRLAOeMfwDUtVMCYW6W/wQr7v/EQMcA4lOW/SaoiwAXLTL9vvCbAhxplv3GF/7/tL0fAs+gMwGetG8BeyzrAkF2Xv5Ic679Hm9+/NoisvwJGpj66JhvAuMoav/LWMr9Swsq/Cw+Bv4bwVL9gRLy/NgQLvz5Gwb6EamW+mVSRvp9UTT40uwC/xIP1PvEUmr6tAVw/aicGQI2g5b7bB3s/i5J2vxwJzj/or84/nNXYP6Kw/D+kAghAYeWIP9ftyz8kuzxA6x0dQP2q9z9S8Yc/65YWQHPxBkAImAhAJKofQGBQE0CfvkxA",
          "dtype": "f4"
         },
         "xaxis": "x",
         "y": {
          "bdata": "WDj2Pr305b46VMY+wBOcP2nvQkCVjLQ/hWveP0F1vz9Np84+Q2b4P23kc0ChH/Q/34ZVv2uX0z88z5s/Ee05Psd+7j7relo/86YMPwSRQT+kSvk+d+9pQC4DVr8FHTxAtkHmP0t2Tr8BrA1A1JdZvsWq7L65oTo/FanBPjm64r/BmXm/NEPtPzXwwj6gVYo/ygimvwuotr6c37m/Nm6lPp8POz+VO/i+eTiKv++Qwb66UrO/BYyEv7ovJL9+YwO+sYc0wACSYL9f6Ke/ArubvxFNa7/YHdI93pWPv34Vhb8Dq4q/A8Ilv3sjp7wFBA+/zkrJv/Ik1L9yLEa/dc4twNnijL+JIa+/07rvv9EObr+k4pG+",
          "dtype": "f4"
         },
         "yaxis": "y"
        },
        {
         "hovertemplate": "<b>%{hovertext}</b><br><br>color=#ff00ff<br>Isomap_1=%{x}<br>Isomap_2=%{y}<extra></extra>",
         "hovertext": [
          "Himad Abdelli",
          "Mason Greenwood",
          "Zuriko Davitashvili",
          "Gaëtan Perrin",
          "Junya Ito",
          "Mahdi Camara",
          "Keito Nakamura",
          "Moses Simon",
          "Arnaud Kalimuendo",
          "Evann Guessand",
          "Maghnes Akliouche",
          "Habib Diarra",
          "Yann Gboho",
          "Lassine Sinayoko",
          "Ludovic Blas",
          "Takumi Minamino",
          "Sebastian Nanasi",
          "Yassine Kechta",
          "Rayan Cherki",
          "Josué Casimir",
          "Issa Soumaré",
          "Zakaria Aboukhlal",
          "Breel Embolo",
          "Florian Sotoca",
          "Félix Lemaréchal",
          "Hákon Arnar Haraldsson",
          "Eliesse Ben Seghir",
          "Désiré Doué",
          "Joshua King",
          "Lee Kang-in",
          "Mohamed Ali Cho",
          "Mathias Pereira Lage",
          "Frank Magri",
          "Tanguy Coulibaly",
          "Anass Zaroury",
          "Kamory Doumbia",
          "Sorba Thomas",
          "Osame Sahraoui",
          "Abdallah Sima",
          "Shavy Babicka",
          "Aleksandr Golovin",
          "Wahbi Khazri",
          "Musa Al-Taamari",
          "Badredine Bouanani",
          "Matias Fernandez-Pardo",
          "Sofiane Diop",
          "Jeremie Boga",
          "Ernest Nuamah",
          "Amine Gouiri",
          "Angelo Fulgini",
          "Khalil Fayad",
          "Rémy Cabella",
          "Edon Zhegrova",
          "Ado Onaiwu",
          "Thiago Almada",
          "Antoine Joujou",
          "Romain Faivre",
          "Mamadou Diakhon",
          "Zinedine Ferhat",
          "Albert Grønbaek",
          "Jonathan Rowe",
          "Sekou Mara",
          "Saïd Benrahma",
          "Augustine Boakye",
          "Mathieu Cafaro",
          "Emmanuel Sabbi",
          "Rémy Labeau Lascary",
          "Yaya Kader Fofana",
          "Marco Asensio",
          "Ben Old",
          "Tino Kadewere"
         ],
         "legendgroup": "#ff00ff",
         "marker": {
          "color": "#00cc96",
          "symbol": "circle"
         },
         "mode": "markers",
         "name": "#ff00ff",
         "orientation": "v",
         "showlegend": true,
         "type": "scatter",
         "x": {
          "bdata": "tWofwGRVtb8o4DG/J60+v4mJqb/vRUTA41lVv0u8W79cOJ0/uVIWv6ZJxr+M9VK/aY5cvyuvSLz9GDG/bwNfvxbP7bzEjCLAUA6av6xzVz+14pW9HwuFPzHaMT/YvRq/N/yQvkxZ4T7rfHK/+OtJv3mXhT/zSx+/OOR4PsCuhz/UUpA/Q/wPP8DxvT8IX1Y/20u3P41btD7srKs/0lKpP0373746pPA/27LIPyhGuT+KGug/3uY4PxMW2j+KS6A/AQJLQNEhcD+8o/q71h5GPyBLDUBcsME/7IjfP0tg1D8JGu4/1zfcP86HxL8wFilAYyfpP9d9JUAV5iRAlscbQLh3UUDwmyFArOpLQJi5L0C7HFVAmXYpQMODF0A=",
          "dtype": "f4"
         },
         "xaxis": "x",
         "y": {
          "bdata": "oXWFP1d1D0BZQRxA3EtTQMe5Q0CqIbI+2qMNP1k9KkDIGBM/Pb2PP7lx7z+61ig//bJgP+DkjD+JqkFAZ1e7PsziCEBKSke/J+QzQH1oND/2bdK+obmIPQpJA76vUe8+D9lOvI0W3T+9cLY/qqHoP+ltgr8YshpA2tZ+PhPayT93SfC/ot8JwIF/2j+srV+/ks67P0jigj75QMO/KaqDv76HEz58+Qe+xudRvyujDb1YyDs+UUljPvVn+74Mlmq/2FOWvgzoAj8Ze/+/sSKxP2hQ9r1yowDAWwphP91QiL9qpTK/aIl7vwQWGsD/34C/bNPUviWcAsDF1/6+E1rJv5Vkmb+P3eK/P0YOwGht5r+zdyG/97u2v06Z3L8=",
          "dtype": "f4"
         },
         "yaxis": "y"
        },
        {
         "hovertemplate": "<b>%{hovertext}</b><br><br>color=#ff0000<br>Isomap_1=%{x}<br>Isomap_2=%{y}<extra></extra>",
         "hovertext": [
          "Matthis Abline",
          "Jonathan David",
          "Ludovic Ajorque",
          "Emanuel Emegha",
          "Bradley Barcola",
          "Alexandre Lacazette",
          "Farid El Melali",
          "Lucas Stassin",
          "Gaëtan Laborde",
          "Jim Allevinah",
          "Ousmane Dembélé",
          "Esteban Lepaul",
          "Oumar Diakité",
          "Malick Fofana",
          "M'Bala Nzola",
          "André Ayew",
          "Georges Mikautadze",
          "Romain Del Castillo",
          "Mostafa Mohamed",
          "Mika Biereth",
          "Arnaud Nordin",
          "Mama Samba Baldé",
          "Akor Adams",
          "Gonçalo Ramos",
          "Irvin Cardona",
          "Neal Maupay",
          "Ibrahima Niane",
          "Theo Bair",
          "Khvicha Kvaratskhelia",
          "Wesley Saïd",
          "Goduine Koyalipou",
          "Koka",
          "Ibrahim Sissoko",
          "George Ilenikhena",
          "Chuba Akpom",
          "Folarin Balogun",
          "Andy Delort",
          "Florian Ayé",
          "Elye Wahi",
          "Mohamed Meité",
          "Bamba Dieng"
         ],
         "legendgroup": "#ff0000",
         "marker": {
          "color": "#ab63fa",
          "symbol": "circle"
         },
         "mode": "markers",
         "name": "#ff0000",
         "orientation": "v",
         "showlegend": true,
         "type": "scatter",
         "x": {
          "bdata": "O9DgvsBxnD8QKCc+V4MAQEXexb+w1KM/DdBrP1h8hD/YzqE//4iHP25au78yA9w/zWWhP6OxlT7lJ/I/P9TBP8MDmT/CLRA/7ZCaP8oADUCyHa0/3B+dPwh/TEAd7RNA9koUQKbMsz9E7CNAHUIbQKtCwz+mef0/FkRBQChFKkCq8v0/TM1ZQPQPO0Bf3kRAfe4yQIQxLEBbA2xAtu1UQDV7SkA=",
          "dtype": "f4"
         },
         "xaxis": "x",
         "y": {
          "bdata": "WdWxPfsVDj9shly/6n61vxRc0j8qegw/CeX8P3XSe76U7JI+wNb3voig9T+AWNq/jfzGv41GrD6cvMa/EwIEwLvWmT7sYuM/K3rPv3WKmL4DbHe/fy2uv2ezor/J/pK+172Gv+KFNMBj/bG/8YgPwAqNfj4tJ/C/RlnQvzhZ8b+5g/u/tEDLvz9et7+VUNe//7UawOsqCMB/DM+/U1nbv6Qjw78=",
          "dtype": "f4"
         },
         "yaxis": "y"
        },
        {
         "hovertemplate": "<b>%{hovertext}</b><br><br>color=#00ffff<br>Isomap_1=%{x}<br>Isomap_2=%{y}<extra></extra>",
         "hovertext": [
          "Adrien Truffert",
          "Aron Dønnum",
          "Ismaël Doukouré",
          "Jean-Charles Castelletto",
          "Diego Moreira",
          "Dilane Bakwa",
          "Lorenz Assignon",
          "Jonathan Clauss",
          "Nicolas Cozza",
          "Warren Zaïre-Emery",
          "Geoffrey Kondogbia",
          "Melvin Bard",
          "João Neves",
          "Deiver Machado",
          "Pablo Rosario",
          "Valentin Rongier",
          "Ali Abdi",
          "Nhoa Sangui",
          "Valentín Barco",
          "Mory Gbane",
          "Ruben Aguilar",
          "Jaydee Canvot",
          "Edimilson Fernandes",
          "Warren Kamanzi",
          "Louis Leroux",
          "Tom Louchet",
          "Rayan Raveloson",
          "Jhoanner Chávez",
          "Fodé Ballo-Touré"
         ],
         "legendgroup": "#00ffff",
         "marker": {
          "color": "#FFA15A",
          "symbol": "circle"
         },
         "mode": "markers",
         "name": "#00ffff",
         "orientation": "v",
         "showlegend": true,
         "type": "scatter",
         "x": {
          "bdata": "nRESwLXn/7+ViCLAi37Wv5hvEcCmRnm/LfUcwOTgfL/+7Om/cigrwIeuMsCjBQTAIJE8wCI63r8Kz5i/unIkwF9wCr+lzB8/QK83v7VXcz9DSSu/b1I/PxIQvD8sE78+fE65P3q1nD+AmhpAgEI8QLpXyz8=",
          "dtype": "f4"
         },
         "xaxis": "x",
         "y": {
          "bdata": "HfM1QKx6MkDMFc8/AJeEPzgmC0CHYTNAE2sTQDRJZUCJFzg/b0QLQFhS/T9MuwdAgAYJQC+w3j9BLH2/GjYyP0uZGD8PR+C/TGAxv1mLdL+F81A/On+Ev1F+gr9uzJm/tb1Hvx9dDb11scW/vdW2v572FcA=",
          "dtype": "f4"
         },
         "yaxis": "y"
        },
        {
         "hovertemplate": "<b>%{hovertext}</b><br><br>color=#ffff00<br>Isomap_1=%{x}<br>Isomap_2=%{y}<extra></extra>",
         "hovertext": [
          "Luis Henrique",
          "Loïc Nego",
          "Lilian Raolisoa",
          "Christopher Operi",
          "Mitchel Bakker",
          "Yanis Zouaoui",
          "Jacques Ekomie",
          "Krépin Diatta"
         ],
         "legendgroup": "#ffff00",
         "marker": {
          "color": "#19d3f3",
          "symbol": "circle"
         },
         "mode": "markers",
         "name": "#ffff00",
         "orientation": "v",
         "showlegend": true,
         "type": "scatter",
         "x": {
          "bdata": "E/n+v103K8Bu0rW/UebaP0vimz+/Htw/Hoj9Pwpctz8=",
          "dtype": "f4"
         },
         "xaxis": "x",
         "y": {
          "bdata": "3rAPQCUB7T++9A/AGUjRPwoZRj+lJsY/UZ5hv3yozL8=",
          "dtype": "f4"
         },
         "yaxis": "y"
        }
       ],
       "layout": {
        "height": 900,
        "legend": {
         "title": {
          "text": "color"
         },
         "tracegroupgap": 0
        },
        "template": {
         "data": {
          "bar": [
           {
            "error_x": {
             "color": "#2a3f5f"
            },
            "error_y": {
             "color": "#2a3f5f"
            },
            "marker": {
             "line": {
              "color": "#E5ECF6",
              "width": 0.5
             },
             "pattern": {
              "fillmode": "overlay",
              "size": 10,
              "solidity": 0.2
             }
            },
            "type": "bar"
           }
          ],
          "barpolar": [
           {
            "marker": {
             "line": {
              "color": "#E5ECF6",
              "width": 0.5
             },
             "pattern": {
              "fillmode": "overlay",
              "size": 10,
              "solidity": 0.2
             }
            },
            "type": "barpolar"
           }
          ],
          "carpet": [
           {
            "aaxis": {
             "endlinecolor": "#2a3f5f",
             "gridcolor": "white",
             "linecolor": "white",
             "minorgridcolor": "white",
             "startlinecolor": "#2a3f5f"
            },
            "baxis": {
             "endlinecolor": "#2a3f5f",
             "gridcolor": "white",
             "linecolor": "white",
             "minorgridcolor": "white",
             "startlinecolor": "#2a3f5f"
            },
            "type": "carpet"
           }
          ],
          "choropleth": [
           {
            "colorbar": {
             "outlinewidth": 0,
             "ticks": ""
            },
            "type": "choropleth"
           }
          ],
          "contour": [
           {
            "colorbar": {
             "outlinewidth": 0,
             "ticks": ""
            },
            "colorscale": [
             [
              0,
              "#0d0887"
             ],
             [
              0.1111111111111111,
              "#46039f"
             ],
             [
              0.2222222222222222,
              "#7201a8"
             ],
             [
              0.3333333333333333,
              "#9c179e"
             ],
             [
              0.4444444444444444,
              "#bd3786"
             ],
             [
              0.5555555555555556,
              "#d8576b"
             ],
             [
              0.6666666666666666,
              "#ed7953"
             ],
             [
              0.7777777777777778,
              "#fb9f3a"
             ],
             [
              0.8888888888888888,
              "#fdca26"
             ],
             [
              1,
              "#f0f921"
             ]
            ],
            "type": "contour"
           }
          ],
          "contourcarpet": [
           {
            "colorbar": {
             "outlinewidth": 0,
             "ticks": ""
            },
            "type": "contourcarpet"
           }
          ],
          "heatmap": [
           {
            "colorbar": {
             "outlinewidth": 0,
             "ticks": ""
            },
            "colorscale": [
             [
              0,
              "#0d0887"
             ],
             [
              0.1111111111111111,
              "#46039f"
             ],
             [
              0.2222222222222222,
              "#7201a8"
             ],
             [
              0.3333333333333333,
              "#9c179e"
             ],
             [
              0.4444444444444444,
              "#bd3786"
             ],
             [
              0.5555555555555556,
              "#d8576b"
             ],
             [
              0.6666666666666666,
              "#ed7953"
             ],
             [
              0.7777777777777778,
              "#fb9f3a"
             ],
             [
              0.8888888888888888,
              "#fdca26"
             ],
             [
              1,
              "#f0f921"
             ]
            ],
            "type": "heatmap"
           }
          ],
          "histogram": [
           {
            "marker": {
             "pattern": {
              "fillmode": "overlay",
              "size": 10,
              "solidity": 0.2
             }
            },
            "type": "histogram"
           }
          ],
          "histogram2d": [
           {
            "colorbar": {
             "outlinewidth": 0,
             "ticks": ""
            },
            "colorscale": [
             [
              0,
              "#0d0887"
             ],
             [
              0.1111111111111111,
              "#46039f"
             ],
             [
              0.2222222222222222,
              "#7201a8"
             ],
             [
              0.3333333333333333,
              "#9c179e"
             ],
             [
              0.4444444444444444,
              "#bd3786"
             ],
             [
              0.5555555555555556,
              "#d8576b"
             ],
             [
              0.6666666666666666,
              "#ed7953"
             ],
             [
              0.7777777777777778,
              "#fb9f3a"
             ],
             [
              0.8888888888888888,
              "#fdca26"
             ],
             [
              1,
              "#f0f921"
             ]
            ],
            "type": "histogram2d"
           }
          ],
          "histogram2dcontour": [
           {
            "colorbar": {
             "outlinewidth": 0,
             "ticks": ""
            },
            "colorscale": [
             [
              0,
              "#0d0887"
             ],
             [
              0.1111111111111111,
              "#46039f"
             ],
             [
              0.2222222222222222,
              "#7201a8"
             ],
             [
              0.3333333333333333,
              "#9c179e"
             ],
             [
              0.4444444444444444,
              "#bd3786"
             ],
             [
              0.5555555555555556,
              "#d8576b"
             ],
             [
              0.6666666666666666,
              "#ed7953"
             ],
             [
              0.7777777777777778,
              "#fb9f3a"
             ],
             [
              0.8888888888888888,
              "#fdca26"
             ],
             [
              1,
              "#f0f921"
             ]
            ],
            "type": "histogram2dcontour"
           }
          ],
          "mesh3d": [
           {
            "colorbar": {
             "outlinewidth": 0,
             "ticks": ""
            },
            "type": "mesh3d"
           }
          ],
          "parcoords": [
           {
            "line": {
             "colorbar": {
              "outlinewidth": 0,
              "ticks": ""
             }
            },
            "type": "parcoords"
           }
          ],
          "pie": [
           {
            "automargin": true,
            "type": "pie"
           }
          ],
          "scatter": [
           {
            "fillpattern": {
             "fillmode": "overlay",
             "size": 10,
             "solidity": 0.2
            },
            "type": "scatter"
           }
          ],
          "scatter3d": [
           {
            "line": {
             "colorbar": {
              "outlinewidth": 0,
              "ticks": ""
             }
            },
            "marker": {
             "colorbar": {
              "outlinewidth": 0,
              "ticks": ""
             }
            },
            "type": "scatter3d"
           }
          ],
          "scattercarpet": [
           {
            "marker": {
             "colorbar": {
              "outlinewidth": 0,
              "ticks": ""
             }
            },
            "type": "scattercarpet"
           }
          ],
          "scattergeo": [
           {
            "marker": {
             "colorbar": {
              "outlinewidth": 0,
              "ticks": ""
             }
            },
            "type": "scattergeo"
           }
          ],
          "scattergl": [
           {
            "marker": {
             "colorbar": {
              "outlinewidth": 0,
              "ticks": ""
             }
            },
            "type": "scattergl"
           }
          ],
          "scattermap": [
           {
            "marker": {
             "colorbar": {
              "outlinewidth": 0,
              "ticks": ""
             }
            },
            "type": "scattermap"
           }
          ],
          "scattermapbox": [
           {
            "marker": {
             "colorbar": {
              "outlinewidth": 0,
              "ticks": ""
             }
            },
            "type": "scattermapbox"
           }
          ],
          "scatterpolar": [
           {
            "marker": {
             "colorbar": {
              "outlinewidth": 0,
              "ticks": ""
             }
            },
            "type": "scatterpolar"
           }
          ],
          "scatterpolargl": [
           {
            "marker": {
             "colorbar": {
              "outlinewidth": 0,
              "ticks": ""
             }
            },
            "type": "scatterpolargl"
           }
          ],
          "scatterternary": [
           {
            "marker": {
             "colorbar": {
              "outlinewidth": 0,
              "ticks": ""
             }
            },
            "type": "scatterternary"
           }
          ],
          "surface": [
           {
            "colorbar": {
             "outlinewidth": 0,
             "ticks": ""
            },
            "colorscale": [
             [
              0,
              "#0d0887"
             ],
             [
              0.1111111111111111,
              "#46039f"
             ],
             [
              0.2222222222222222,
              "#7201a8"
             ],
             [
              0.3333333333333333,
              "#9c179e"
             ],
             [
              0.4444444444444444,
              "#bd3786"
             ],
             [
              0.5555555555555556,
              "#d8576b"
             ],
             [
              0.6666666666666666,
              "#ed7953"
             ],
             [
              0.7777777777777778,
              "#fb9f3a"
             ],
             [
              0.8888888888888888,
              "#fdca26"
             ],
             [
              1,
              "#f0f921"
             ]
            ],
            "type": "surface"
           }
          ],
          "table": [
           {
            "cells": {
             "fill": {
              "color": "#EBF0F8"
             },
             "line": {
              "color": "white"
             }
            },
            "header": {
             "fill": {
              "color": "#C8D4E3"
             },
             "line": {
              "color": "white"
             }
            },
            "type": "table"
           }
          ]
         },
         "layout": {
          "annotationdefaults": {
           "arrowcolor": "#2a3f5f",
           "arrowhead": 0,
           "arrowwidth": 1
          },
          "autotypenumbers": "strict",
          "coloraxis": {
           "colorbar": {
            "outlinewidth": 0,
            "ticks": ""
           }
          },
          "colorscale": {
           "diverging": [
            [
             0,
             "#8e0152"
            ],
            [
             0.1,
             "#c51b7d"
            ],
            [
             0.2,
             "#de77ae"
            ],
            [
             0.3,
             "#f1b6da"
            ],
            [
             0.4,
             "#fde0ef"
            ],
            [
             0.5,
             "#f7f7f7"
            ],
            [
             0.6,
             "#e6f5d0"
            ],
            [
             0.7,
             "#b8e186"
            ],
            [
             0.8,
             "#7fbc41"
            ],
            [
             0.9,
             "#4d9221"
            ],
            [
             1,
             "#276419"
            ]
           ],
           "sequential": [
            [
             0,
             "#0d0887"
            ],
            [
             0.1111111111111111,
             "#46039f"
            ],
            [
             0.2222222222222222,
             "#7201a8"
            ],
            [
             0.3333333333333333,
             "#9c179e"
            ],
            [
             0.4444444444444444,
             "#bd3786"
            ],
            [
             0.5555555555555556,
             "#d8576b"
            ],
            [
             0.6666666666666666,
             "#ed7953"
            ],
            [
             0.7777777777777778,
             "#fb9f3a"
            ],
            [
             0.8888888888888888,
             "#fdca26"
            ],
            [
             1,
             "#f0f921"
            ]
           ],
           "sequentialminus": [
            [
             0,
             "#0d0887"
            ],
            [
             0.1111111111111111,
             "#46039f"
            ],
            [
             0.2222222222222222,
             "#7201a8"
            ],
            [
             0.3333333333333333,
             "#9c179e"
            ],
            [
             0.4444444444444444,
             "#bd3786"
            ],
            [
             0.5555555555555556,
             "#d8576b"
            ],
            [
             0.6666666666666666,
             "#ed7953"
            ],
            [
             0.7777777777777778,
             "#fb9f3a"
            ],
            [
             0.8888888888888888,
             "#fdca26"
            ],
            [
             1,
             "#f0f921"
            ]
           ]
          },
          "colorway": [
           "#636efa",
           "#EF553B",
           "#00cc96",
           "#ab63fa",
           "#FFA15A",
           "#19d3f3",
           "#FF6692",
           "#B6E880",
           "#FF97FF",
           "#FECB52"
          ],
          "font": {
           "color": "#2a3f5f"
          },
          "geo": {
           "bgcolor": "white",
           "lakecolor": "white",
           "landcolor": "#E5ECF6",
           "showlakes": true,
           "showland": true,
           "subunitcolor": "white"
          },
          "hoverlabel": {
           "align": "left"
          },
          "hovermode": "closest",
          "mapbox": {
           "style": "light"
          },
          "paper_bgcolor": "white",
          "plot_bgcolor": "#E5ECF6",
          "polar": {
           "angularaxis": {
            "gridcolor": "white",
            "linecolor": "white",
            "ticks": ""
           },
           "bgcolor": "#E5ECF6",
           "radialaxis": {
            "gridcolor": "white",
            "linecolor": "white",
            "ticks": ""
           }
          },
          "scene": {
           "xaxis": {
            "backgroundcolor": "#E5ECF6",
            "gridcolor": "white",
            "gridwidth": 2,
            "linecolor": "white",
            "showbackground": true,
            "ticks": "",
            "zerolinecolor": "white"
           },
           "yaxis": {
            "backgroundcolor": "#E5ECF6",
            "gridcolor": "white",
            "gridwidth": 2,
            "linecolor": "white",
            "showbackground": true,
            "ticks": "",
            "zerolinecolor": "white"
           },
           "zaxis": {
            "backgroundcolor": "#E5ECF6",
            "gridcolor": "white",
            "gridwidth": 2,
            "linecolor": "white",
            "showbackground": true,
            "ticks": "",
            "zerolinecolor": "white"
           }
          },
          "shapedefaults": {
           "line": {
            "color": "#2a3f5f"
           }
          },
          "ternary": {
           "aaxis": {
            "gridcolor": "white",
            "linecolor": "white",
            "ticks": ""
           },
           "baxis": {
            "gridcolor": "white",
            "linecolor": "white",
            "ticks": ""
           },
           "bgcolor": "#E5ECF6",
           "caxis": {
            "gridcolor": "white",
            "linecolor": "white",
            "ticks": ""
           }
          },
          "title": {
           "x": 0.05
          },
          "xaxis": {
           "automargin": true,
           "gridcolor": "white",
           "linecolor": "white",
           "ticks": "",
           "title": {
            "standoff": 15
           },
           "zerolinecolor": "white",
           "zerolinewidth": 2
          },
          "yaxis": {
           "automargin": true,
           "gridcolor": "white",
           "linecolor": "white",
           "ticks": "",
           "title": {
            "standoff": 15
           },
           "zerolinecolor": "white",
           "zerolinewidth": 2
          }
         }
        },
        "title": {
         "text": "t-SNE – Raw data"
        },
        "width": 1100,
        "xaxis": {
         "anchor": "y",
         "domain": [
          0,
          1
         ],
         "title": {
          "text": "Isomap_1"
         }
        },
        "yaxis": {
         "anchor": "x",
         "domain": [
          0,
          1
         ],
         "title": {
          "text": "Isomap_2"
         }
        }
       }
      },
      "image/png": "[encoded data removed]"
     },
     "metadata": {},
     "output_type": "display_data"
    },
    {
     "data": {
      "application/vnd.plotly.v1+json": {
       "config": {
        "plotlyServerURL": "https://plot.ly"
       },
       "data": [
        {
         "hovertemplate": "<b>%{hovertext}</b><br><br>color=#00ff00<br>Isomap_1=%{x}<br>Isomap_2=%{y}<extra></extra>",
         "hovertext": [
          "Jordan Lefort",
          "Gautier Lloris",
          "Bafodé Diakité",
          "Moussa Niakhate",
          "Guela Doué",
          "Alexsandro Ribeiro",
          "Kenny Lala",
          "Florent Hanin",
          "Jubal",
          "Léo Pétrot",
          "Charlie Cresswell",
          "Facundo Medina",
          "Sergio Akieme",
          "Mark McKenzie",
          "Clément Akpa",
          "Michael Amir Murillo",
          "Brendan Chardonnet",
          "Thilo Kehrer",
          "Clinton Mata",
          "Mamadou Sarr",
          "Etienne Youte Kinkoue",
          "Mickael Nade",
          "Gideon Mensah",
          "Leonardo Balerdi",
          "Moïse Bombito",
          "Cédric Kipré",
          "Kelvin Amian",
          "Gabriel Suazo",
          "Modibo Sagnan",
          "Willian Pacho",
          "Dennis Appiah",
          "Ki-Jana Hoever",
          "Jonathan Gradit",
          "Djibril Sidibé",
          "Wilfried Singo",
          "Achraf Hakimi",
          "Vanderson",
          "Carlens Arcus",
          "Nicolas Pallois",
          "Dylan Batubinsika",
          "Lucas Beraldo",
          "Ainsley Maitland-Niles",
          "Aurélio Buta",
          "Dante",
          "Sinaly Diomande",
          "Youssouf Ndayishimiye",
          "Caio Henrique Oliveira Silva",
          "Thomas Meunier",
          "Nicolás Tagliafico",
          "Enzo Tchato",
          "Becir Omeragic",
          "Gabriel Gudmundsson",
          "Aïssa Mandi",
          "Marquinhos",
          "Abdoulaye Niakhate Ndiaye",
          "Joseph Okumu",
          "Hans Hateboer",
          "Massadio Haïdara",
          "Nuno Mendes",
          "Gabriel Osho",
          "Quentin Merlin",
          "Duje Ćaleta-Car",
          "Nathan Zeze",
          "Abdoulaye Bamba",
          "Christian Mawissa",
          "Christopher Wooh",
          "Derek Cornelius",
          "Przemysław Frankowski",
          "Malang Sarr",
          "Julien Le Cardinal",
          "Emmanuel Biumla",
          "Emmanuel Agbadou",
          "Arouna Sangante",
          "Lilian Brassier",
          "Falaye Sacko",
          "Leo Skiri Østigård",
          "Issiaga Sylla",
          "Timothee Pembele",
          "Abner",
          "Kevin Danso",
          "Yunis Abdelhamid",
          "Mohammed Salisu",
          "Saidou Sow",
          "Théo Sainte-Luce",
          "Paul Joly",
          "Abdukodir Khusanov",
          "Anthony Rouault",
          "Sael Kumbedi",
          "Marcus Coco",
          "Abakar Sylla",
          "Yael Mouanga",
          "Ulisses Garcia",
          "Jérémy Jacquet",
          "Ismaily",
          "Hiroki Sekine",
          "Lucas Hernández",
          "Mohamed Abdelmoneim",
          "Antoine Mendy",
          "Alidu Seidu",
          "Yoann Salmier",
          "Yvann Macon",
          "Jordan Amavi",
          "Maxime Bernauer",
          "Boubakar Kouyaté",
          "Lucas Mincarelli",
          "Mikayil Ngor Faye",
          "Abdulai Juma Bah",
          "Pol Lirola",
          "Luck Zogbé",
          "Rasmus Nicolaisen",
          "Nikola Maksimović",
          "Pierre Cornud",
          "Jordan Teze",
          "Andrew Omobamidele",
          "Jean-Kevin Duverne"
         ],
         "legendgroup": "#00ff00",
         "marker": {
          "color": "#636efa",
          "symbol": "circle"
         },
         "mode": "markers",
         "name": "#00ff00",
         "orientation": "v",
         "showlegend": true,
         "type": "scatter",
         "x": {
          "bdata": "Io+JQHSggkDpP55AjRiKQNJ2IkAAaZdAkUR3PzWZQD8RO4RAr/iTPyMnmUA6yy9AdbObPCJ5gEA/7ERAHTgTQJpljUCGoYxAdYNRQPiunED2WaNAA/yTQOijAD/EKpRA7xieQOi2jUDBiJc+Bo6jvlhWZkB3qpVAt8VFP+xHGL7pgmlAosqdP02EgkAR/LM/kF4gPs+f1T7DYH9ANp+oQEYxlEB75aQ+FWeFPjfQfEC425JA35KKQM/aSr6RJbU/9FLRP9OurD6HyJpAEsX1vVjOZUCHbZJA4jl7QNAgrUBavzdA+ko6v6wHrD86ZotAApwLv1XookA4sYBA7P6DQD0nNUDmsa9AUU6+QDPkEj/7I6hATfOzQJh8iUBIsp5AQYSNQP8YnEAwjNQ/GsCMQN6B3T3mEe89DagMPwSGqUCJQZlAbSSNQK0Ro0AhYV287DOoPoJilkAAQqJAqeSoPVstsL1Em7hAcPSKQFECxL6K10VAgryYP7c+Qj9S0o1Ac2VyQKof5T+vfcA/RL6CQBDAPj5B3b8/Riy/QDNqg0BUQtM/PIWhQE/NkED/XhM/hAeLvvlswkBXGI5ArzLkP5g7x77YWMpAPWOsPw==",
          "dtype": "f4"
         },
         "xaxis": "x",
         "y": {
          "bdata": "rXUiP3qbnD+vfEe/fjiTvuZiUr+YVsW/JbiVvyAE5b27wQ1AmZfLP95boT/tj52/Ab2NP5EzoT+YZa8/Vdpvv2sEzT+9dw6/S4gFvxgwXDzhz54/o3OMPubRHr4Rq/O/BkTNPbAlKz8nfqs/jaaKvyPS0z/ZUXy/KROCPlH1RD5+1wY+4IiJvov71b52DkTArEokvwxuRT9pzQJAbwiNPyxZ579yMkW/8neYP1S7DL9HYrw/KeBxvcqY1b8If6+/VrCavxtmaD/BLPE/BUTxveZEIL9MxAnAXQnAP6XgGb9AC72+QiObP5DKO8DCIBVALgK/v8n0vT93N7g/tTY0QGJAiz9LIaI/BLKvv/BQ/r9RyKG9o7OvPyCiJkBhS1C/LY44P6/lub6yewxAeVOEPxj/nz9W8KM/76fnviOX/T7NeiJArikLvhsV6j9bjPc/McIfv/PIqD/04i0/qndsP8+afD+W36g/Z4kKQJZQvr97kKY/JD+qvzu/A0AV2f2/rRp/P3wnQj+Gm5M+SvglQKNsEz98ee0+FlxcvyPfPECT/+w/uu1zvvZE/j9Oiag/qIsYQNkHxj+GNg1AR4IMQN/ygj6zWpu/U6BrPw==",
          "dtype": "f4"
         },
         "yaxis": "y"
        },
        {
         "hovertemplate": "<b>%{hovertext}</b><br><br>color=#0000ff<br>Isomap_1=%{x}<br>Isomap_2=%{y}<extra></extra>",
         "hovertext": [
          "Andrey Santos",
          "Valentin Atangana Edoa",
          "Cristian Cásseres Jr.",
          "Benjamin André",
          "Pierre Højbjerg",
          "Adrien Thomasson",
          "Pierre Ekwah Elimby",
          "Adrien Rabiot",
          "Hicham Boudaoui",
          "Vincent Sierro",
          "Téji Savanier",
          "Pedro Chirivella",
          "Elisha Owusu",
          "Corentin Tolisso",
          "Abdoulaye Touré",
          "Hugo Magnetti",
          "Douglas",
          "Andy Diouf",
          "Denis Zakaria",
          "Hamed Junior Traorè",
          "Azor Matusiwa",
          "Lamine Camara",
          "Johann Lepenant",
          "Vitinha",
          "Nemanja Matić",
          "Jean-Eudes Aholou",
          "Fabián Ruiz Peña",
          "Joris Chotard",
          "Haris Belkebla",
          "Jordan Ferri",
          "Benjamin Bouchouari",
          "Marshall Munetsi",
          "Rabby Nzingoula",
          "Neil El Aynaoui",
          "Jordan Veretout",
          "Pierre Lees-Melou",
          "Yassin Belkhdim",
          "Kévin Danois",
          "Amadou Koné",
          "André Gomes",
          "Florian Tardieu",
          "Tanner Tessmann",
          "Ngal'Ayel Mukau",
          "Jordan James",
          "Ayyoub Bouaddi",
          "Tanguy Ndombele",
          "Djaoui Cissé",
          "Rassoul Ndiaye",
          "Han-Noah Massengo",
          "Louis Mouton",
          "Aimen Moueffek",
          "Soungoutou Magassa",
          "Oussama Targhalline",
          "Junior Mwanga",
          "Baptiste Santamaria",
          "Mathis Amougou",
          "Seko Fofana",
          "Senny Mayulu",
          "Teddy Teuma",
          "Angel Gomes",
          "Assane Dioussé",
          "Glen Kamara",
          "Ismaël Bennacer",
          "Nampalys Mendy",
          "Mahamadou Diawara",
          "Maxence Caqueret",
          "Daler Kuzyaev",
          "John Joe",
          "Amine Harit"
         ],
         "legendgroup": "#0000ff",
         "marker": {
          "color": "#EF553B",
          "symbol": "circle"
         },
         "mode": "markers",
         "name": "#0000ff",
         "orientation": "v",
         "showlegend": true,
         "type": "scatter",
         "x": {
          "bdata": "B7xNPxKqgj7advM+f3HHPyfTG0CIz4M+RhkEQLSY1L6EyCW+fVqQP4EAybyXNxVAW4gwP++X4j5y4cQ/xfOcPxiqjj+Kxay/+/mpPynGXsAl15Q/F2/NvG/RHb5cOCtA8V8XQERFrj6nJsg/p1bjPz4xpD9sMBdAfYIIP7DhVMDsvF6+OaiAPz2O0z919/k/VCo0Pt9dxT28+Y4/vYL7P3z+B0CahhtAYUFKP/eoZz5KSCo+JBw2v+6o3T/h1qu+Q2nFP5BOlT5iRqi/I8aRP09S4z//fzA+N17tP7Y7Uz+OIIE+fyv6vwsQYD8HXyPAUrUhQJsOlT/tXSlAB+zHP68rOj6NadA+CxriP57fCL4VXfG/",
          "dtype": "f4"
         },
         "xaxis": "x",
         "y": {
          "bdata": "4rnGPkDhzj/DgsY9qniNv4AEP8BR//S//VelPWn8w7+qZLU+H+5XvwG4MMB5sGO/YgnqPxLfAMDrwA++VLefPwAqIT9XZ2O/KsQBPvoTGb872bU+/RHUv8DZwD/3T0XAcsaVvx2fzj/VBzTAjKanP1cqwD9csqq/VfflvpUGG0B5Lvg/2J6Iv6513b78RYi/dKroP6N4w70KuZ8/NXWcv1vFCMDLraU+b3QoP8L0fr8z164/IZz4PXw3XL4Ewrk/S3fxP+V0jrzhUGY/qdbhvl+bF0B+GZC/tz6jPzAPC0CoU7y/NQ8ewNcODcCVKIe+lAshP1vfsr2VNVXAiXTuP233EUC3bQy+2AH2P6bUGkC54FrA",
          "dtype": "f4"
         },
         "yaxis": "y"
        },
        {
         "hovertemplate": "<b>%{hovertext}</b><br><br>color=#ff00ff<br>Isomap_1=%{x}<br>Isomap_2=%{y}<extra></extra>",
         "hovertext": [
          "Himad Abdelli",
          "Mason Greenwood",
          "Zuriko Davitashvili",
          "Gaëtan Perrin",
          "Junya Ito",
          "Mahdi Camara",
          "Keito Nakamura",
          "Moses Simon",
          "Arnaud Kalimuendo",
          "Evann Guessand",
          "Maghnes Akliouche",
          "Habib Diarra",
          "Yann Gboho",
          "Lassine Sinayoko",
          "Ludovic Blas",
          "Takumi Minamino",
          "Sebastian Nanasi",
          "Yassine Kechta",
          "Rayan Cherki",
          "Josué Casimir",
          "Issa Soumaré",
          "Zakaria Aboukhlal",
          "Breel Embolo",
          "Florian Sotoca",
          "Félix Lemaréchal",
          "Hákon Arnar Haraldsson",
          "Eliesse Ben Seghir",
          "Désiré Doué",
          "Joshua King",
          "Lee Kang-in",
          "Mohamed Ali Cho",
          "Mathias Pereira Lage",
          "Frank Magri",
          "Tanguy Coulibaly",
          "Anass Zaroury",
          "Kamory Doumbia",
          "Sorba Thomas",
          "Osame Sahraoui",
          "Abdallah Sima",
          "Shavy Babicka",
          "Aleksandr Golovin",
          "Wahbi Khazri",
          "Musa Al-Taamari",
          "Badredine Bouanani",
          "Matias Fernandez-Pardo",
          "Sofiane Diop",
          "Jeremie Boga",
          "Ernest Nuamah",
          "Amine Gouiri",
          "Angelo Fulgini",
          "Khalil Fayad",
          "Rémy Cabella",
          "Edon Zhegrova",
          "Ado Onaiwu",
          "Thiago Almada",
          "Antoine Joujou",
          "Romain Faivre",
          "Mamadou Diakhon",
          "Zinedine Ferhat",
          "Albert Grønbaek",
          "Jonathan Rowe",
          "Sekou Mara",
          "Saïd Benrahma",
          "Augustine Boakye",
          "Mathieu Cafaro",
          "Emmanuel Sabbi",
          "Rémy Labeau Lascary",
          "Yaya Kader Fofana",
          "Marco Asensio",
          "Ben Old",
          "Tino Kadewere"
         ],
         "legendgroup": "#ff00ff",
         "marker": {
          "color": "#00cc96",
          "symbol": "circle"
         },
         "mode": "markers",
         "name": "#ff00ff",
         "orientation": "v",
         "showlegend": true,
         "type": "scatter",
         "x": {
          "bdata": "zhWDv2ksfcATKnTA98o9wPr59b+A7xu/HkJiwOFedMA0gq/ALu+KwBFON8D3nxvAdxdhwHa0msDlfUTAr6VFwISbUMDx7/u+PZoVwAWIk8CuIn/A+6GmwPJdl8Aiany/zADov9x+D8Cfp0TAODtLwERAkcCzefi/E29jwKb3OsAfY5bA+BpQwLkQ27+yQ74+JRrdv05tOcCPfYzAvp+BwCW3yb7+4BzA201zwCV2XsCXxJDATQhOwJCPS8CGwBXAbyiCwLA+CsDNjRE/K47av3tUK8CqA2XA6djGv2sHP8Bfh1fA9BhowNGVE8BIoVnAJ4mIwIgMg8BVZCTA0Yw6wJR4FcD0NWfAqfMgwNBFD8DUd0fAugU/wPn2/L8=",
          "dtype": "f4"
         },
         "xaxis": "x",
         "y": {
          "bdata": "ELGDv7XQLsDyj7u/3V3uv4MRE8D1Ehw/CW2sPlP6CMAR6aA/BBYJv6qhIsBeWpg9fK2Gv6bUor71Y+2/fQHCPq5yj78RYKM/UcpowOUxpb6RTCY/tXZyP1F7DT+dgsO/B+QIP4YtyL9ldSfAsRVewI/ElT+JfljA92+sv4kTkL/mvARA0b4lP+v7B8B7l1s9mLIMwIh8EsAL36I/9ho3Pm4feb94C7K9MG2Pvy0exL+e8pC/zmkSwLn2/b8JdzW/1ttRv5UsK8AmVnQ/IW9JwLAlGcBjDp0/b45kwPEwlr/DTqy/kAvTvwtwm7+KUoa/aqH0v1ASyj8uiB3AMyugvf8rZ71IMF0/bBpJP0YTQD/Okt+/e2WXvkXzxz8=",
          "dtype": "f4"
         },
         "yaxis": "y"
        },
        {
         "hovertemplate": "<b>%{hovertext}</b><br><br>color=#ff0000<br>Isomap_1=%{x}<br>Isomap_2=%{y}<extra></extra>",
         "hovertext": [
          "Matthis Abline",
          "Jonathan David",
          "Ludovic Ajorque",
          "Emanuel Emegha",
          "Bradley Barcola",
          "Alexandre Lacazette",
          "Farid El Melali",
          "Lucas Stassin",
          "Gaëtan Laborde",
          "Jim Allevinah",
          "Ousmane Dembélé",
          "Esteban Lepaul",
          "Oumar Diakité",
          "Malick Fofana",
          "M'Bala Nzola",
          "André Ayew",
          "Georges Mikautadze",
          "Romain Del Castillo",
          "Mostafa Mohamed",
          "Mika Biereth",
          "Arnaud Nordin",
          "Mama Samba Baldé",
          "Akor Adams",
          "Gonçalo Ramos",
          "Irvin Cardona",
          "Neal Maupay",
          "Ibrahima Niane",
          "Theo Bair",
          "Khvicha Kvaratskhelia",
          "Wesley Saïd",
          "Goduine Koyalipou",
          "Koka",
          "Ibrahim Sissoko",
          "George Ilenikhena",
          "Chuba Akpom",
          "Folarin Balogun",
          "Andy Delort",
          "Florian Ayé",
          "Elye Wahi",
          "Mohamed Meité",
          "Bamba Dieng"
         ],
         "legendgroup": "#ff0000",
         "marker": {
          "color": "#ab63fa",
          "symbol": "circle"
         },
         "mode": "markers",
         "name": "#ff0000",
         "orientation": "v",
         "showlegend": true,
         "type": "scatter",
         "x": {
          "bdata": "YgKLwDThscAMHZjAIEqewAQLVcCDJLTAYCSNwCyOkcCkdLPA29N3wKbfSMCEOo/AqtuFwKl4V8ALlZzAbqWJwHZGtcAylP+/B5SewNy2vMCgWUbAKBaRwCUxvsAMUMLAbalZwHSGeMCvKrjAkN+XwJuQSMD/A2PAw7iTwBPJmMC+LaDAzzutwIuhxcC/8pnAhZyYwDjMkcDeG7TAbtCfwMDEycA=",
          "dtype": "f4"
         },
         "xaxis": "x",
         "y": {
          "bdata": "ZYOPPza1kz9QpyJAQhcAQECqIsDBQa4/phe6v70djj9d0Y8/+E3BPnwVZsBerwRA+aC9PxYM6b9T5/Y/BQQhQLukvD6b+TPAf0HgP/HQjz+HNbK+DggvPyQnqD8cOZA/xR4VP2fdvj8AvKE/ThcsQLDnWMDkt70/Tej5P6eHIkD0NwZAFO7hP6FRjz9VoOw/7pI1QOHgKkC1PwNAjZgEQMHtij8=",
          "dtype": "f4"
         },
         "yaxis": "y"
        },
        {
         "hovertemplate": "<b>%{hovertext}</b><br><br>color=#00ffff<br>Isomap_1=%{x}<br>Isomap_2=%{y}<extra></extra>",
         "hovertext": [
          "Adrien Truffert",
          "Aron Dønnum",
          "Ismaël Doukouré",
          "Jean-Charles Castelletto",
          "Diego Moreira",
          "Dilane Bakwa",
          "Lorenz Assignon",
          "Jonathan Clauss",
          "Nicolas Cozza",
          "Warren Zaïre-Emery",
          "Geoffrey Kondogbia",
          "Melvin Bard",
          "João Neves",
          "Deiver Machado",
          "Pablo Rosario",
          "Valentin Rongier",
          "Ali Abdi",
          "Nhoa Sangui",
          "Valentín Barco",
          "Mory Gbane",
          "Ruben Aguilar",
          "Jaydee Canvot",
          "Edimilson Fernandes",
          "Warren Kamanzi",
          "Louis Leroux",
          "Tom Louchet",
          "Rayan Raveloson",
          "Jhoanner Chávez",
          "Fodé Ballo-Touré"
         ],
         "legendgroup": "#00ffff",
         "marker": {
          "color": "#FFA15A",
          "symbol": "circle"
         },
         "mode": "markers",
         "name": "#00ffff",
         "orientation": "v",
         "showlegend": true,
         "type": "scatter",
         "x": {
          "bdata": "OwoBv4KDpL/99ZVARsmYQNNGxL/DVznAXZGFv31gFb+p+I8+jPboP7N6d0BD+ES+nXe+P25phL84zZc/Zz4lQCEaYr5Ov+a+B6SqP3H+RUC670c/rToxQD9XOkD/35++9bt5v9yOBL5+tiRAD/p3v+jcmD8=",
          "dtype": "f4"
         },
         "xaxis": "x",
         "y": {
          "bdata": "/48/vxBTjb+Sbnw+by+tPxX5cr8nEAfAh1pKv4tp7b+n1NA/zD3ovynxsL/zHlK+z7gzwG+lSj4KGqg/N0zcv6w9Rb/QVcc/K+CNvODX2j+u6MK/63bTPxDmuD9hcoI/N7i9Pxt/YL9Bc7Q/kEG+Pi1XKUA=",
          "dtype": "f4"
         },
         "yaxis": "y"
        },
        {
         "hovertemplate": "<b>%{hovertext}</b><br><br>color=#ffff00<br>Isomap_1=%{x}<br>Isomap_2=%{y}<extra></extra>",
         "hovertext": [
          "Luis Henrique",
          "Loïc Nego",
          "Lilian Raolisoa",
          "Christopher Operi",
          "Mitchel Bakker",
          "Yanis Zouaoui",
          "Jacques Ekomie",
          "Krépin Diatta"
         ],
         "legendgroup": "#ffff00",
         "marker": {
          "color": "#19d3f3",
          "symbol": "circle"
         },
         "mode": "markers",
         "name": "#ffff00",
         "orientation": "v",
         "showlegend": true,
         "type": "scatter",
         "x": {
          "bdata": "s1UEwA8g8z4Wz+a/Y/IKv1ww+b9wFBK/se2ivpn2Fj8=",
          "dtype": "f4"
         },
         "xaxis": "x",
         "y": {
          "bdata": "yvqvv6XiFD+RYE6/OCv1v4oJ0b9co/e/HLEeQDCUqL0=",
          "dtype": "f4"
         },
         "yaxis": "y"
        }
       ],
       "layout": {
        "height": 900,
        "legend": {
         "title": {
          "text": "color"
         },
         "tracegroupgap": 0
        },
        "template": {
         "data": {
          "bar": [
           {
            "error_x": {
             "color": "#2a3f5f"
            },
            "error_y": {
             "color": "#2a3f5f"
            },
            "marker": {
             "line": {
              "color": "#E5ECF6",
              "width": 0.5
             },
             "pattern": {
              "fillmode": "overlay",
              "size": 10,
              "solidity": 0.2
             }
            },
            "type": "bar"
           }
          ],
          "barpolar": [
           {
            "marker": {
             "line": {
              "color": "#E5ECF6",
              "width": 0.5
             },
             "pattern": {
              "fillmode": "overlay",
              "size": 10,
              "solidity": 0.2
             }
            },
            "type": "barpolar"
           }
          ],
          "carpet": [
           {
            "aaxis": {
             "endlinecolor": "#2a3f5f",
             "gridcolor": "white",
             "linecolor": "white",
             "minorgridcolor": "white",
             "startlinecolor": "#2a3f5f"
            },
            "baxis": {
             "endlinecolor": "#2a3f5f",
             "gridcolor": "white",
             "linecolor": "white",
             "minorgridcolor": "white",
             "startlinecolor": "#2a3f5f"
            },
            "type": "carpet"
           }
          ],
          "choropleth": [
           {
            "colorbar": {
             "outlinewidth": 0,
             "ticks": ""
            },
            "type": "choropleth"
           }
          ],
          "contour": [
           {
            "colorbar": {
             "outlinewidth": 0,
             "ticks": ""
            },
            "colorscale": [
             [
              0,
              "#0d0887"
             ],
             [
              0.1111111111111111,
              "#46039f"
             ],
             [
              0.2222222222222222,
              "#7201a8"
             ],
             [
              0.3333333333333333,
              "#9c179e"
             ],
             [
              0.4444444444444444,
              "#bd3786"
             ],
             [
              0.5555555555555556,
              "#d8576b"
             ],
             [
              0.6666666666666666,
              "#ed7953"
             ],
             [
              0.7777777777777778,
              "#fb9f3a"
             ],
             [
              0.8888888888888888,
              "#fdca26"
             ],
             [
              1,
              "#f0f921"
             ]
            ],
            "type": "contour"
           }
          ],
          "contourcarpet": [
           {
            "colorbar": {
             "outlinewidth": 0,
             "ticks": ""
            },
            "type": "contourcarpet"
           }
          ],
          "heatmap": [
           {
            "colorbar": {
             "outlinewidth": 0,
             "ticks": ""
            },
            "colorscale": [
             [
              0,
              "#0d0887"
             ],
             [
              0.1111111111111111,
              "#46039f"
             ],
             [
              0.2222222222222222,
              "#7201a8"
             ],
             [
              0.3333333333333333,
              "#9c179e"
             ],
             [
              0.4444444444444444,
              "#bd3786"
             ],
             [
              0.5555555555555556,
              "#d8576b"
             ],
             [
              0.6666666666666666,
              "#ed7953"
             ],
             [
              0.7777777777777778,
              "#fb9f3a"
             ],
             [
              0.8888888888888888,
              "#fdca26"
             ],
             [
              1,
              "#f0f921"
             ]
            ],
            "type": "heatmap"
           }
          ],
          "histogram": [
           {
            "marker": {
             "pattern": {
              "fillmode": "overlay",
              "size": 10,
              "solidity": 0.2
             }
            },
            "type": "histogram"
           }
          ],
          "histogram2d": [
           {
            "colorbar": {
             "outlinewidth": 0,
             "ticks": ""
            },
            "colorscale": [
             [
              0,
              "#0d0887"
             ],
             [
              0.1111111111111111,
              "#46039f"
             ],
             [
              0.2222222222222222,
              "#7201a8"
             ],
             [
              0.3333333333333333,
              "#9c179e"
             ],
             [
              0.4444444444444444,
              "#bd3786"
             ],
             [
              0.5555555555555556,
              "#d8576b"
             ],
             [
              0.6666666666666666,
              "#ed7953"
             ],
             [
              0.7777777777777778,
              "#fb9f3a"
             ],
             [
              0.8888888888888888,
              "#fdca26"
             ],
             [
              1,
              "#f0f921"
             ]
            ],
            "type": "histogram2d"
           }
          ],
          "histogram2dcontour": [
           {
            "colorbar": {
             "outlinewidth": 0,
             "ticks": ""
            },
            "colorscale": [
             [
              0,
              "#0d0887"
             ],
             [
              0.1111111111111111,
              "#46039f"
             ],
             [
              0.2222222222222222,
              "#7201a8"
             ],
             [
              0.3333333333333333,
              "#9c179e"
             ],
             [
              0.4444444444444444,
              "#bd3786"
             ],
             [
              0.5555555555555556,
              "#d8576b"
             ],
             [
              0.6666666666666666,
              "#ed7953"
             ],
             [
              0.7777777777777778,
              "#fb9f3a"
             ],
             [
              0.8888888888888888,
              "#fdca26"
             ],
             [
              1,
              "#f0f921"
             ]
            ],
            "type": "histogram2dcontour"
           }
          ],
          "mesh3d": [
           {
            "colorbar": {
             "outlinewidth": 0,
             "ticks": ""
            },
            "type": "mesh3d"
           }
          ],
          "parcoords": [
           {
            "line": {
             "colorbar": {
              "outlinewidth": 0,
              "ticks": ""
             }
            },
            "type": "parcoords"
           }
          ],
          "pie": [
           {
            "automargin": true,
            "type": "pie"
           }
          ],
          "scatter": [
           {
            "fillpattern": {
             "fillmode": "overlay",
             "size": 10,
             "solidity": 0.2
            },
            "type": "scatter"
           }
          ],
          "scatter3d": [
           {
            "line": {
             "colorbar": {
              "outlinewidth": 0,
              "ticks": ""
             }
            },
            "marker": {
             "colorbar": {
              "outlinewidth": 0,
              "ticks": ""
             }
            },
            "type": "scatter3d"
           }
          ],
          "scattercarpet": [
           {
            "marker": {
             "colorbar": {
              "outlinewidth": 0,
              "ticks": ""
             }
            },
            "type": "scattercarpet"
           }
          ],
          "scattergeo": [
           {
            "marker": {
             "colorbar": {
              "outlinewidth": 0,
              "ticks": ""
             }
            },
            "type": "scattergeo"
           }
          ],
          "scattergl": [
           {
            "marker": {
             "colorbar": {
              "outlinewidth": 0,
              "ticks": ""
             }
            },
            "type": "scattergl"
           }
          ],
          "scattermap": [
           {
            "marker": {
             "colorbar": {
              "outlinewidth": 0,
              "ticks": ""
             }
            },
            "type": "scattermap"
           }
          ],
          "scattermapbox": [
           {
            "marker": {
             "colorbar": {
              "outlinewidth": 0,
              "ticks": ""
             }
            },
            "type": "scattermapbox"
           }
          ],
          "scatterpolar": [
           {
            "marker": {
             "colorbar": {
              "outlinewidth": 0,
              "ticks": ""
             }
            },
            "type": "scatterpolar"
           }
          ],
          "scatterpolargl": [
           {
            "marker": {
             "colorbar": {
              "outlinewidth": 0,
              "ticks": ""
             }
            },
            "type": "scatterpolargl"
           }
          ],
          "scatterternary": [
           {
            "marker": {
             "colorbar": {
              "outlinewidth": 0,
              "ticks": ""
             }
            },
            "type": "scatterternary"
           }
          ],
          "surface": [
           {
            "colorbar": {
             "outlinewidth": 0,
             "ticks": ""
            },
            "colorscale": [
             [
              0,
              "#0d0887"
             ],
             [
              0.1111111111111111,
              "#46039f"
             ],
             [
              0.2222222222222222,
              "#7201a8"
             ],
             [
              0.3333333333333333,
              "#9c179e"
             ],
             [
              0.4444444444444444,
              "#bd3786"
             ],
             [
              0.5555555555555556,
              "#d8576b"
             ],
             [
              0.6666666666666666,
              "#ed7953"
             ],
             [
              0.7777777777777778,
              "#fb9f3a"
             ],
             [
              0.8888888888888888,
              "#fdca26"
             ],
             [
              1,
              "#f0f921"
             ]
            ],
            "type": "surface"
           }
          ],
          "table": [
           {
            "cells": {
             "fill": {
              "color": "#EBF0F8"
             },
             "line": {
              "color": "white"
             }
            },
            "header": {
             "fill": {
              "color": "#C8D4E3"
             },
             "line": {
              "color": "white"
             }
            },
            "type": "table"
           }
          ]
         },
         "layout": {
          "annotationdefaults": {
           "arrowcolor": "#2a3f5f",
           "arrowhead": 0,
           "arrowwidth": 1
          },
          "autotypenumbers": "strict",
          "coloraxis": {
           "colorbar": {
            "outlinewidth": 0,
            "ticks": ""
           }
          },
          "colorscale": {
           "diverging": [
            [
             0,
             "#8e0152"
            ],
            [
             0.1,
             "#c51b7d"
            ],
            [
             0.2,
             "#de77ae"
            ],
            [
             0.3,
             "#f1b6da"
            ],
            [
             0.4,
             "#fde0ef"
            ],
            [
             0.5,
             "#f7f7f7"
            ],
            [
             0.6,
             "#e6f5d0"
            ],
            [
             0.7,
             "#b8e186"
            ],
            [
             0.8,
             "#7fbc41"
            ],
            [
             0.9,
             "#4d9221"
            ],
            [
             1,
             "#276419"
            ]
           ],
           "sequential": [
            [
             0,
             "#0d0887"
            ],
            [
             0.1111111111111111,
             "#46039f"
            ],
            [
             0.2222222222222222,
             "#7201a8"
            ],
            [
             0.3333333333333333,
             "#9c179e"
            ],
            [
             0.4444444444444444,
             "#bd3786"
            ],
            [
             0.5555555555555556,
             "#d8576b"
            ],
            [
             0.6666666666666666,
             "#ed7953"
            ],
            [
             0.7777777777777778,
             "#fb9f3a"
            ],
            [
             0.8888888888888888,
             "#fdca26"
            ],
            [
             1,
             "#f0f921"
            ]
           ],
           "sequentialminus": [
            [
             0,
             "#0d0887"
            ],
            [
             0.1111111111111111,
             "#46039f"
            ],
            [
             0.2222222222222222,
             "#7201a8"
            ],
            [
             0.3333333333333333,
             "#9c179e"
            ],
            [
             0.4444444444444444,
             "#bd3786"
            ],
            [
             0.5555555555555556,
             "#d8576b"
            ],
            [
             0.6666666666666666,
             "#ed7953"
            ],
            [
             0.7777777777777778,
             "#fb9f3a"
            ],
            [
             0.8888888888888888,
             "#fdca26"
            ],
            [
             1,
             "#f0f921"
            ]
           ]
          },
          "colorway": [
           "#636efa",
           "#EF553B",
           "#00cc96",
           "#ab63fa",
           "#FFA15A",
           "#19d3f3",
           "#FF6692",
           "#B6E880",
           "#FF97FF",
           "#FECB52"
          ],
          "font": {
           "color": "#2a3f5f"
          },
          "geo": {
           "bgcolor": "white",
           "lakecolor": "white",
           "landcolor": "#E5ECF6",
           "showlakes": true,
           "showland": true,
           "subunitcolor": "white"
          },
          "hoverlabel": {
           "align": "left"
          },
          "hovermode": "closest",
          "mapbox": {
           "style": "light"
          },
          "paper_bgcolor": "white",
          "plot_bgcolor": "#E5ECF6",
          "polar": {
           "angularaxis": {
            "gridcolor": "white",
            "linecolor": "white",
            "ticks": ""
           },
           "bgcolor": "#E5ECF6",
           "radialaxis": {
            "gridcolor": "white",
            "linecolor": "white",
            "ticks": ""
           }
          },
          "scene": {
           "xaxis": {
            "backgroundcolor": "#E5ECF6",
            "gridcolor": "white",
            "gridwidth": 2,
            "linecolor": "white",
            "showbackground": true,
            "ticks": "",
            "zerolinecolor": "white"
           },
           "yaxis": {
            "backgroundcolor": "#E5ECF6",
            "gridcolor": "white",
            "gridwidth": 2,
            "linecolor": "white",
            "showbackground": true,
            "ticks": "",
            "zerolinecolor": "white"
           },
           "zaxis": {
            "backgroundcolor": "#E5ECF6",
            "gridcolor": "white",
            "gridwidth": 2,
            "linecolor": "white",
            "showbackground": true,
            "ticks": "",
            "zerolinecolor": "white"
           }
          },
          "shapedefaults": {
           "line": {
            "color": "#2a3f5f"
           }
          },
          "ternary": {
           "aaxis": {
            "gridcolor": "white",
            "linecolor": "white",
            "ticks": ""
           },
           "baxis": {
            "gridcolor": "white",
            "linecolor": "white",
            "ticks": ""
           },
           "bgcolor": "#E5ECF6",
           "caxis": {
            "gridcolor": "white",
            "linecolor": "white",
            "ticks": ""
           }
          },
          "title": {
           "x": 0.05
          },
          "xaxis": {
           "automargin": true,
           "gridcolor": "white",
           "linecolor": "white",
           "ticks": "",
           "title": {
            "standoff": 15
           },
           "zerolinecolor": "white",
           "zerolinewidth": 2
          },
          "yaxis": {
           "automargin": true,
           "gridcolor": "white",
           "linecolor": "white",
           "ticks": "",
           "title": {
            "standoff": 15
           },
           "zerolinecolor": "white",
           "zerolinewidth": 2
          }
         }
        },
        "title": {
         "text": "t-SNE – Per90min data"
        },
        "width": 1100,
        "xaxis": {
         "anchor": "y",
         "domain": [
          0,
          1
         ],
         "title": {
          "text": "Isomap_1"
         }
        },
        "yaxis": {
         "anchor": "x",
         "domain": [
          0,
          1
         ],
         "title": {
          "text": "Isomap_2"
         }
        }
       }
      },
      "image/png": "[encoded data removed]"
     },
     "metadata": {},
     "output_type": "display_data"
    },
    {
     "data": {
      "application/vnd.plotly.v1+json": {
       "config": {
        "plotlyServerURL": "https://plot.ly"
       },
       "data": [
        {
         "hovertemplate": "<b>%{hovertext}</b><br><br>color=#00ff00<br>Isomap_1=%{x}<br>Isomap_2=%{y}<extra></extra>",
         "hovertext": [
          "Jordan Lefort",
          "Gautier Lloris",
          "Bafodé Diakité",
          "Moussa Niakhate",
          "Guela Doué",
          "Alexsandro Ribeiro",
          "Kenny Lala",
          "Florent Hanin",
          "Jubal",
          "Léo Pétrot",
          "Charlie Cresswell",
          "Facundo Medina",
          "Sergio Akieme",
          "Mark McKenzie",
          "Clément Akpa",
          "Michael Amir Murillo",
          "Brendan Chardonnet",
          "Thilo Kehrer",
          "Clinton Mata",
          "Mamadou Sarr",
          "Etienne Youte Kinkoue",
          "Mickael Nade",
          "Gideon Mensah",
          "Leonardo Balerdi",
          "Moïse Bombito",
          "Cédric Kipré",
          "Kelvin Amian",
          "Gabriel Suazo",
          "Modibo Sagnan",
          "Willian Pacho",
          "Dennis Appiah",
          "Ki-Jana Hoever",
          "Jonathan Gradit",
          "Djibril Sidibé",
          "Wilfried Singo",
          "Achraf Hakimi",
          "Vanderson",
          "Carlens Arcus",
          "Nicolas Pallois",
          "Dylan Batubinsika",
          "Lucas Beraldo",
          "Ainsley Maitland-Niles",
          "Aurélio Buta",
          "Dante",
          "Sinaly Diomande",
          "Youssouf Ndayishimiye",
          "Caio Henrique Oliveira Silva",
          "Thomas Meunier",
          "Nicolás Tagliafico",
          "Enzo Tchato",
          "Becir Omeragic",
          "Gabriel Gudmundsson",
          "Aïssa Mandi",
          "Marquinhos",
          "Abdoulaye Niakhate Ndiaye",
          "Joseph Okumu",
          "Hans Hateboer",
          "Massadio Haïdara",
          "Nuno Mendes",
          "Gabriel Osho",
          "Quentin Merlin",
          "Duje Ćaleta-Car",
          "Nathan Zeze",
          "Abdoulaye Bamba",
          "Christian Mawissa",
          "Christopher Wooh",
          "Derek Cornelius",
          "Przemysław Frankowski",
          "Malang Sarr",
          "Julien Le Cardinal",
          "Emmanuel Biumla",
          "Emmanuel Agbadou",
          "Arouna Sangante",
          "Lilian Brassier",
          "Falaye Sacko",
          "Leo Skiri Østigård",
          "Issiaga Sylla",
          "Timothee Pembele",
          "Abner",
          "Kevin Danso",
          "Yunis Abdelhamid",
          "Mohammed Salisu",
          "Saidou Sow",
          "Théo Sainte-Luce",
          "Paul Joly",
          "Abdukodir Khusanov",
          "Anthony Rouault",
          "Sael Kumbedi",
          "Marcus Coco",
          "Abakar Sylla",
          "Yael Mouanga",
          "Ulisses Garcia",
          "Jérémy Jacquet",
          "Ismaily",
          "Hiroki Sekine",
          "Lucas Hernández",
          "Mohamed Abdelmoneim",
          "Antoine Mendy",
          "Alidu Seidu",
          "Yoann Salmier",
          "Yvann Macon",
          "Jordan Amavi",
          "Maxime Bernauer",
          "Boubakar Kouyaté",
          "Lucas Mincarelli",
          "Mikayil Ngor Faye",
          "Abdulai Juma Bah",
          "Pol Lirola",
          "Luck Zogbé",
          "Rasmus Nicolaisen",
          "Nikola Maksimović",
          "Pierre Cornud",
          "Jordan Teze",
          "Andrew Omobamidele",
          "Jean-Kevin Duverne"
         ],
         "legendgroup": "#00ff00",
         "marker": {
          "color": "#636efa",
          "symbol": "circle"
         },
         "mode": "markers",
         "name": "#00ff00",
         "orientation": "v",
         "showlegend": true,
         "type": "scatter",
         "x": {
          "bdata": "3Q63vJfvxb4YIMe/cHVNvxWhpL84NoG/7ul6v47bsb+iqW6/l6GDv5K/5b4lVqO+a6E8v317NL8BNVm9NxGZv6MTZr53fea/SPp7v7LyIL8p9sY+asOjv3+ny787Rq2/WdjHvkalND7bZBG/3M1pvxlkzr6O47O/9DzLv6yw67+uMMW+KYiUvxVVRr+Ihk+/C9kgwAcNr7/g5pC+iNh9PlZWqr9qRRDAU1WKv6UGIb+lHuu+hnrQv+lwZr+3Rey/cmD0vz/Tl78+ow0/A++Vv1g3BD3vMpO/U4xDvyL/KD+IOP++j20MwLGOSL9ETDO/6/Gcv4Hg4b6j6Ww+zTihPodty77KgQg/RbXFvo93wb/sJl8/XWWDP/4HcL99JOI+nh0AwMTZE75WxRu/05vIvnuOmL9P5Ce/eszCvyZHGL6o3Q4/9renv1m0hDvxTFO+xsJIwMO1uj+R0uW+R8x2v8kHGcAipiI8vmz+Pn6t179gg4s+aPIEwLXtt796hdC/4lbqvpG477+zsvu/S/VJPvWZo79bcue/hN4zP5Hjnj4Na4++bZS2vQUbwj+neBQ/o64xwBhlhz/IIZA+2O4kv2t/OcAJ7Dg/kJ0UwA==",
          "dtype": "f4"
         },
         "xaxis": "x",
         "y": {
          "bdata": "CahHP1refz5DdhtAAKz/PxZz5D/fJVNAbgaJPw5fyL0UEhG/ijWOv+W+cT/5OCtAJouhv+i9Jj+7Nom9JH37P+1ucT41mBZAvLQAQALC9z+jtgA/jr9mPjkPPzzZ43VAU1DrP3p9fT/zWci/4wqGP4YBo75T/U1AqAZHv8OWr77zHrk/C+hEP0/w/T8xSXhAVJ1iP+0mTL8pvCe/vrUYPwaMdEDh7WI/qJSCv7PBEkDqPoG7f1H0PyOPzT/h4+M/U5XvPxHRlb+oJRm+mBzaPWKMAEAnbYJAkqUWPrljJEB/lsc/9+++v/1kcUCtwQ4+ZeznPx8dxj919A0/aFWwvrcYpz8iSWU/JtVrQJ0bAkBrpBBAWMpBP4jm7r3ZWjNA/xeuPy0kLEBwJuS/SiuJP4qlvb/0D+m/q5hUP1lbFkDqrY6/JzIWQNjMlj8KFvy/5zt0PlKFVD/e8wFAcpyTvjwKkb89O+A+72pDvh2+8D/Tym0/lGfhP7iHBsDqjXZA5W6tP4nk/j7d80U/bEYQvzPe3r92ZVq/y+osQFFu1L+Eef6/si0lQFNtLT8o5VW+OaC8votnYz+T96k+sOr0vz53Pz+C0jRAv+Cfvg==",
          "dtype": "f4"
         },
         "yaxis": "y"
        },
        {
         "hovertemplate": "<b>%{hovertext}</b><br><br>color=#0000ff<br>Isomap_1=%{x}<br>Isomap_2=%{y}<extra></extra>",
         "hovertext": [
          "Andrey Santos",
          "Valentin Atangana Edoa",
          "Cristian Cásseres Jr.",
          "Benjamin André",
          "Pierre Højbjerg",
          "Adrien Thomasson",
          "Pierre Ekwah Elimby",
          "Adrien Rabiot",
          "Hicham Boudaoui",
          "Vincent Sierro",
          "Téji Savanier",
          "Pedro Chirivella",
          "Elisha Owusu",
          "Corentin Tolisso",
          "Abdoulaye Touré",
          "Hugo Magnetti",
          "Douglas",
          "Andy Diouf",
          "Denis Zakaria",
          "Hamed Junior Traorè",
          "Azor Matusiwa",
          "Lamine Camara",
          "Johann Lepenant",
          "Vitinha",
          "Nemanja Matić",
          "Jean-Eudes Aholou",
          "Fabián Ruiz Peña",
          "Joris Chotard",
          "Haris Belkebla",
          "Jordan Ferri",
          "Benjamin Bouchouari",
          "Marshall Munetsi",
          "Rabby Nzingoula",
          "Neil El Aynaoui",
          "Jordan Veretout",
          "Pierre Lees-Melou",
          "Yassin Belkhdim",
          "Kévin Danois",
          "Amadou Koné",
          "André Gomes",
          "Florian Tardieu",
          "Tanner Tessmann",
          "Ngal'Ayel Mukau",
          "Jordan James",
          "Ayyoub Bouaddi",
          "Tanguy Ndombele",
          "Djaoui Cissé",
          "Rassoul Ndiaye",
          "Han-Noah Massengo",
          "Louis Mouton",
          "Aimen Moueffek",
          "Soungoutou Magassa",
          "Oussama Targhalline",
          "Junior Mwanga",
          "Baptiste Santamaria",
          "Mathis Amougou",
          "Seko Fofana",
          "Senny Mayulu",
          "Teddy Teuma",
          "Angel Gomes",
          "Assane Dioussé",
          "Glen Kamara",
          "Ismaël Bennacer",
          "Nampalys Mendy",
          "Mahamadou Diawara",
          "Maxence Caqueret",
          "Daler Kuzyaev",
          "John Joe",
          "Amine Harit"
         ],
         "legendgroup": "#0000ff",
         "marker": {
          "color": "#EF553B",
          "symbol": "circle"
         },
         "mode": "markers",
         "name": "#0000ff",
         "orientation": "v",
         "showlegend": true,
         "type": "scatter",
         "x": {
          "bdata": "b3HOP2fOUz/zc5k/6LE6PxaAT7/4ZGU9DIDEPtVuKr/mVgs/y6wcP/dWYz8PcIE8J4mPP21CAr+pA+U/fpcBPwIbiT9RUMm+Pt0AQESHPD/rxqM/0iGYPbpmKz/pUFa/EFMEvuMUcz9jBDK/dza+PvgkIj/4NU26vagsv8ohxz81K0Q/WHJWP4zUkD7eHGE/s3JzPzEiK71u2ao/wh+JvYIEWb7//48/46IPPzIJwL7hZCA/e29AP/VElT9cCCc/kxITQE1n5j2Sboq96xFNPwkMhb67SEe/QsOLPs2qXD4cGNW+p0DTvteveD82cmo/BMWzP1YInz8bfFW/D9wnQKryGD/paf691XtNP+ZBnj4ZIXc/",
          "dtype": "f4"
         },
         "xaxis": "x",
         "y": {
          "bdata": "Sx/FPrmUob/5JmM/3yP8P2c0hUDxxss/SePhPhto/z9Hqbo9eHybP9HeqD8vef8/9/Ojv0hYC0DdqCm+6XU3v7YrBj7Hc429UAlKP0bMS78/VNk+6MQJQP9Hk7/WaYpASOoPQE0cnL+7knBAisFhv3wfGr88eAtA3VAJv4fMO8DPtwLAoKytP4e9wD/PHBlAPrbNvzET1D4arNm9nmUaQMaRHUCQh9k/9E9TPi2KGz+QtJC+JOZ8PuOlBEDYdO2/LOuHv/o3vT6FrJy/iajiP98gy78WvZs+9PT8Pjk8479iXRdA7u3ZP089qD+p8nu+9DW0P0uCGT/tuJJAuCN1v7DmVL9qSdw+7+3yv2I7M8Ca2yRA",
          "dtype": "f4"
         },
         "yaxis": "y"
        },
        {
         "hovertemplate": "<b>%{hovertext}</b><br><br>color=#ff00ff<br>Isomap_1=%{x}<br>Isomap_2=%{y}<extra></extra>",
         "hovertext": [
          "Himad Abdelli",
          "Mason Greenwood",
          "Zuriko Davitashvili",
          "Gaëtan Perrin",
          "Junya Ito",
          "Mahdi Camara",
          "Keito Nakamura",
          "Moses Simon",
          "Arnaud Kalimuendo",
          "Evann Guessand",
          "Maghnes Akliouche",
          "Habib Diarra",
          "Yann Gboho",
          "Lassine Sinayoko",
          "Ludovic Blas",
          "Takumi Minamino",
          "Sebastian Nanasi",
          "Yassine Kechta",
          "Rayan Cherki",
          "Josué Casimir",
          "Issa Soumaré",
          "Zakaria Aboukhlal",
          "Breel Embolo",
          "Florian Sotoca",
          "Félix Lemaréchal",
          "Hákon Arnar Haraldsson",
          "Eliesse Ben Seghir",
          "Désiré Doué",
          "Joshua King",
          "Lee Kang-in",
          "Mohamed Ali Cho",
          "Mathias Pereira Lage",
          "Frank Magri",
          "Tanguy Coulibaly",
          "Anass Zaroury",
          "Kamory Doumbia",
          "Sorba Thomas",
          "Osame Sahraoui",
          "Abdallah Sima",
          "Shavy Babicka",
          "Aleksandr Golovin",
          "Wahbi Khazri",
          "Musa Al-Taamari",
          "Badredine Bouanani",
          "Matias Fernandez-Pardo",
          "Sofiane Diop",
          "Jeremie Boga",
          "Ernest Nuamah",
          "Amine Gouiri",
          "Angelo Fulgini",
          "Khalil Fayad",
          "Rémy Cabella",
          "Edon Zhegrova",
          "Ado Onaiwu",
          "Thiago Almada",
          "Antoine Joujou",
          "Romain Faivre",
          "Mamadou Diakhon",
          "Zinedine Ferhat",
          "Albert Grønbaek",
          "Jonathan Rowe",
          "Sekou Mara",
          "Saïd Benrahma",
          "Augustine Boakye",
          "Mathieu Cafaro",
          "Emmanuel Sabbi",
          "Rémy Labeau Lascary",
          "Yaya Kader Fofana",
          "Marco Asensio",
          "Ben Old",
          "Tino Kadewere"
         ],
         "legendgroup": "#ff00ff",
         "marker": {
          "color": "#00cc96",
          "symbol": "circle"
         },
         "mode": "markers",
         "name": "#ff00ff",
         "orientation": "v",
         "showlegend": true,
         "type": "scatter",
         "x": {
          "bdata": "5Losv6ihDj/aNco+7e8pPxwl7L5zK0U/6YSTPxnxC74TfBlAkH87P7krlr4uFEk/v3TovCFCJT/CWBk/mZ7VPpokjz/i1Es/zfLAvgg3Aj/11a8/9CSoP744eT8637q+hrAKP55t0LvHXui9oUZtvzGPrz+N5LW+lY56PdxQdT/tjMg/tl0dPotY8L4C5dg/L30FvwYE+b4xS/4/qNJjP8Ci/76OlGi778+3vvzVwT78OhY/BtSRP2IUXb+r6tO+56n1P2g3076bx0m/Sa8qvUcBhL6nL/M/2GbFvJBfhL+6JNA+34xpv5v/nL+qV3U/xq/dvP8MnD4KFUq/jympP66vAr0RrEw9vALQPwl5uz8XIA4+vPy2vtjfAEA=",
          "dtype": "f4"
         },
         "xaxis": "x",
         "y": {
          "bdata": "gHNqPTi7oD808iW/TQy1Pl0QTD982y2/4uSkv+n6hr4iTsq/wHQ+vzAPqj9g3Ou+ujUAv2dZvb8zGIM+X0Nav/+ZID/HKMC/e4clQKCY078E5w3AOYMcwEcQ0b9WGcu+hXkVvyzfPz9b7bc/qbMEQD0SFMA7OytAnBYDvtahKL8Bfj7AokwjwO7Xdz+0roE/wyxRPzhabT+5iQ/Ai0LKvwJHbz9+1STA43ySv+QT7j5Jouu+rOHCP7MJC76KCwO/i0wBP3+Fyj9EBNa/4RgIQFmCRT8CBgTAa/REQDGItb+rr2g+Y0xhv108OL+l0E+/WV0JP7kkUcDSGyw/IE0mv9SRJcDhQDnAg4X6OyIxGT3Hob4/4tgSwOfwzb8=",
          "dtype": "f4"
         },
         "yaxis": "y"
        },
        {
         "hovertemplate": "<b>%{hovertext}</b><br><br>color=#ff0000<br>Isomap_1=%{x}<br>Isomap_2=%{y}<extra></extra>",
         "hovertext": [
          "Matthis Abline",
          "Jonathan David",
          "Ludovic Ajorque",
          "Emanuel Emegha",
          "Bradley Barcola",
          "Alexandre Lacazette",
          "Farid El Melali",
          "Lucas Stassin",
          "Gaëtan Laborde",
          "Jim Allevinah",
          "Ousmane Dembélé",
          "Esteban Lepaul",
          "Oumar Diakité",
          "Malick Fofana",
          "M'Bala Nzola",
          "André Ayew",
          "Georges Mikautadze",
          "Romain Del Castillo",
          "Mostafa Mohamed",
          "Mika Biereth",
          "Arnaud Nordin",
          "Mama Samba Baldé",
          "Akor Adams",
          "Gonçalo Ramos",
          "Irvin Cardona",
          "Neal Maupay",
          "Ibrahima Niane",
          "Theo Bair",
          "Khvicha Kvaratskhelia",
          "Wesley Saïd",
          "Goduine Koyalipou",
          "Koka",
          "Ibrahim Sissoko",
          "George Ilenikhena",
          "Chuba Akpom",
          "Folarin Balogun",
          "Andy Delort",
          "Florian Ayé",
          "Elye Wahi",
          "Mohamed Meité",
          "Bamba Dieng"
         ],
         "legendgroup": "#ff0000",
         "marker": {
          "color": "#ab63fa",
          "symbol": "circle"
         },
         "mode": "markers",
         "name": "#ff0000",
         "orientation": "v",
         "showlegend": true,
         "type": "scatter",
         "x": {
          "bdata": "Noq2P+c4FkBNDxlAUv0HQMO5hL6lHRpAu9MCPwTDFkDkmgtAfwrhPjLqPL5FZRBAYgOeP5ckjr75L7Q/abHdPwdjBkC/aIc+oBvdP5ZzIUBX/Gs+1JYdP8Mroj8enQdAA0URQGwQOUAQZ3k/mXL1P3bTRL9y7oo/lfeqPyz0L0DB1Es/4SDqP6q0vD+BvYQ/sC7EP5tzK0AKQQVAWa+2P2ai0z8=",
          "dtype": "f4"
         },
         "xaxis": "x",
         "y": {
          "bdata": "fQwFwI9AyL+txUjAhOoAwNtCqz8lctO/8aZmv3FX778QG9i/BG8HwBsaAkDcESXACPARwNSobT4tvw3A20NQwNgFg79vp2k/x7o/wAkhcL8UcO+/lbAawJ4MWcBNdcW/PBLBv+OTtr+sMDTAm7dlwAxu/z9xGAbAXJ4PwODMLsBaWVzA1uH+vxc2F8BUj9G/awuDwP07XMDraOy/JagjwJPiQcA=",
          "dtype": "f4"
         },
         "yaxis": "y"
        },
        {
         "hovertemplate": "<b>%{hovertext}</b><br><br>color=#00ffff<br>Isomap_1=%{x}<br>Isomap_2=%{y}<extra></extra>",
         "hovertext": [
          "Adrien Truffert",
          "Aron Dønnum",
          "Ismaël Doukouré",
          "Jean-Charles Castelletto",
          "Diego Moreira",
          "Dilane Bakwa",
          "Lorenz Assignon",
          "Jonathan Clauss",
          "Nicolas Cozza",
          "Warren Zaïre-Emery",
          "Geoffrey Kondogbia",
          "Melvin Bard",
          "João Neves",
          "Deiver Machado",
          "Pablo Rosario",
          "Valentin Rongier",
          "Ali Abdi",
          "Nhoa Sangui",
          "Valentín Barco",
          "Mory Gbane",
          "Ruben Aguilar",
          "Jaydee Canvot",
          "Edimilson Fernandes",
          "Warren Kamanzi",
          "Louis Leroux",
          "Tom Louchet",
          "Rayan Raveloson",
          "Jhoanner Chávez",
          "Fodé Ballo-Touré"
         ],
         "legendgroup": "#00ffff",
         "marker": {
          "color": "#FFA15A",
          "symbol": "circle"
         },
         "mode": "markers",
         "name": "#00ffff",
         "orientation": "v",
         "showlegend": true,
         "type": "scatter",
         "x": {
          "bdata": "LwCGv/clUr+B0su/IE4Fvdt6U7/89Gs90yOLv7h0or7q+IK+xyEvv8v4rr9qsx3Apuowv0hisb+s7as/R3/Ev9SvGMBMg4q/v67Rv3JM0j76TwPAWtCYPnD1Jj+Mkq2/TH/APzgTMMAvllU/au+1vl3Nf78=",
          "dtype": "f4"
         },
         "xaxis": "x",
         "y": {
          "bdata": "jS3NPWaWIT53QsE/yrPvPmpmnLxeARU//un0PXd42D/B292/NR1PQM9rNUBx8ws/OTBuQL0fQ78yKKa+zq5DQFXnxD6ZM5+/HB5VPy+jEL5o9dk/Mg26PDeso74KSxO+YHSGv4if/T7Ok02/7MAOvysEIMA=",
          "dtype": "f4"
         },
         "yaxis": "y"
        },
        {
         "hovertemplate": "<b>%{hovertext}</b><br><br>color=#ffff00<br>Isomap_1=%{x}<br>Isomap_2=%{y}<extra></extra>",
         "hovertext": [
          "Luis Henrique",
          "Loïc Nego",
          "Lilian Raolisoa",
          "Christopher Operi",
          "Mitchel Bakker",
          "Yanis Zouaoui",
          "Jacques Ekomie",
          "Krépin Diatta"
         ],
         "legendgroup": "#ffff00",
         "marker": {
          "color": "#19d3f3",
          "symbol": "circle"
         },
         "mode": "markers",
         "name": "#ffff00",
         "orientation": "v",
         "showlegend": true,
         "type": "scatter",
         "x": {
          "bdata": "1MiBvytiqL+zZ8a/6Py/vqGRYL0cYsy+WLJdPLUzTMA=",
          "dtype": "f4"
         },
         "xaxis": "x",
         "y": {
          "bdata": "MeMfP/S6U78c13e/N4CaP73afD8kHrU/Pfc7wJrAMj8=",
          "dtype": "f4"
         },
         "yaxis": "y"
        }
       ],
       "layout": {
        "height": 900,
        "legend": {
         "title": {
          "text": "color"
         },
         "tracegroupgap": 0
        },
        "template": {
         "data": {
          "bar": [
           {
            "error_x": {
             "color": "#2a3f5f"
            },
            "error_y": {
             "color": "#2a3f5f"
            },
            "marker": {
             "line": {
              "color": "#E5ECF6",
              "width": 0.5
             },
             "pattern": {
              "fillmode": "overlay",
              "size": 10,
              "solidity": 0.2
             }
            },
            "type": "bar"
           }
          ],
          "barpolar": [
           {
            "marker": {
             "line": {
              "color": "#E5ECF6",
              "width": 0.5
             },
             "pattern": {
              "fillmode": "overlay",
              "size": 10,
              "solidity": 0.2
             }
            },
            "type": "barpolar"
           }
          ],
          "carpet": [
           {
            "aaxis": {
             "endlinecolor": "#2a3f5f",
             "gridcolor": "white",
             "linecolor": "white",
             "minorgridcolor": "white",
             "startlinecolor": "#2a3f5f"
            },
            "baxis": {
             "endlinecolor": "#2a3f5f",
             "gridcolor": "white",
             "linecolor": "white",
             "minorgridcolor": "white",
             "startlinecolor": "#2a3f5f"
            },
            "type": "carpet"
           }
          ],
          "choropleth": [
           {
            "colorbar": {
             "outlinewidth": 0,
             "ticks": ""
            },
            "type": "choropleth"
           }
          ],
          "contour": [
           {
            "colorbar": {
             "outlinewidth": 0,
             "ticks": ""
            },
            "colorscale": [
             [
              0,
              "#0d0887"
             ],
             [
              0.1111111111111111,
              "#46039f"
             ],
             [
              0.2222222222222222,
              "#7201a8"
             ],
             [
              0.3333333333333333,
              "#9c179e"
             ],
             [
              0.4444444444444444,
              "#bd3786"
             ],
             [
              0.5555555555555556,
              "#d8576b"
             ],
             [
              0.6666666666666666,
              "#ed7953"
             ],
             [
              0.7777777777777778,
              "#fb9f3a"
             ],
             [
              0.8888888888888888,
              "#fdca26"
             ],
             [
              1,
              "#f0f921"
             ]
            ],
            "type": "contour"
           }
          ],
          "contourcarpet": [
           {
            "colorbar": {
             "outlinewidth": 0,
             "ticks": ""
            },
            "type": "contourcarpet"
           }
          ],
          "heatmap": [
           {
            "colorbar": {
             "outlinewidth": 0,
             "ticks": ""
            },
            "colorscale": [
             [
              0,
              "#0d0887"
             ],
             [
              0.1111111111111111,
              "#46039f"
             ],
             [
              0.2222222222222222,
              "#7201a8"
             ],
             [
              0.3333333333333333,
              "#9c179e"
             ],
             [
              0.4444444444444444,
              "#bd3786"
             ],
             [
              0.5555555555555556,
              "#d8576b"
             ],
             [
              0.6666666666666666,
              "#ed7953"
             ],
             [
              0.7777777777777778,
              "#fb9f3a"
             ],
             [
              0.8888888888888888,
              "#fdca26"
             ],
             [
              1,
              "#f0f921"
             ]
            ],
            "type": "heatmap"
           }
          ],
          "histogram": [
           {
            "marker": {
             "pattern": {
              "fillmode": "overlay",
              "size": 10,
              "solidity": 0.2
             }
            },
            "type": "histogram"
           }
          ],
          "histogram2d": [
           {
            "colorbar": {
             "outlinewidth": 0,
             "ticks": ""
            },
            "colorscale": [
             [
              0,
              "#0d0887"
             ],
             [
              0.1111111111111111,
              "#46039f"
             ],
             [
              0.2222222222222222,
              "#7201a8"
             ],
             [
              0.3333333333333333,
              "#9c179e"
             ],
             [
              0.4444444444444444,
              "#bd3786"
             ],
             [
              0.5555555555555556,
              "#d8576b"
             ],
             [
              0.6666666666666666,
              "#ed7953"
             ],
             [
              0.7777777777777778,
              "#fb9f3a"
             ],
             [
              0.8888888888888888,
              "#fdca26"
             ],
             [
              1,
              "#f0f921"
             ]
            ],
            "type": "histogram2d"
           }
          ],
          "histogram2dcontour": [
           {
            "colorbar": {
             "outlinewidth": 0,
             "ticks": ""
            },
            "colorscale": [
             [
              0,
              "#0d0887"
             ],
             [
              0.1111111111111111,
              "#46039f"
             ],
             [
              0.2222222222222222,
              "#7201a8"
             ],
             [
              0.3333333333333333,
              "#9c179e"
             ],
             [
              0.4444444444444444,
              "#bd3786"
             ],
             [
              0.5555555555555556,
              "#d8576b"
             ],
             [
              0.6666666666666666,
              "#ed7953"
             ],
             [
              0.7777777777777778,
              "#fb9f3a"
             ],
             [
              0.8888888888888888,
              "#fdca26"
             ],
             [
              1,
              "#f0f921"
             ]
            ],
            "type": "histogram2dcontour"
           }
          ],
          "mesh3d": [
           {
            "colorbar": {
             "outlinewidth": 0,
             "ticks": ""
            },
            "type": "mesh3d"
           }
          ],
          "parcoords": [
           {
            "line": {
             "colorbar": {
              "outlinewidth": 0,
              "ticks": ""
             }
            },
            "type": "parcoords"
           }
          ],
          "pie": [
           {
            "automargin": true,
            "type": "pie"
           }
          ],
          "scatter": [
           {
            "fillpattern": {
             "fillmode": "overlay",
             "size": 10,
             "solidity": 0.2
            },
            "type": "scatter"
           }
          ],
          "scatter3d": [
           {
            "line": {
             "colorbar": {
              "outlinewidth": 0,
              "ticks": ""
             }
            },
            "marker": {
             "colorbar": {
              "outlinewidth": 0,
              "ticks": ""
             }
            },
            "type": "scatter3d"
           }
          ],
          "scattercarpet": [
           {
            "marker": {
             "colorbar": {
              "outlinewidth": 0,
              "ticks": ""
             }
            },
            "type": "scattercarpet"
           }
          ],
          "scattergeo": [
           {
            "marker": {
             "colorbar": {
              "outlinewidth": 0,
              "ticks": ""
             }
            },
            "type": "scattergeo"
           }
          ],
          "scattergl": [
           {
            "marker": {
             "colorbar": {
              "outlinewidth": 0,
              "ticks": ""
             }
            },
            "type": "scattergl"
           }
          ],
          "scattermap": [
           {
            "marker": {
             "colorbar": {
              "outlinewidth": 0,
              "ticks": ""
             }
            },
            "type": "scattermap"
           }
          ],
          "scattermapbox": [
           {
            "marker": {
             "colorbar": {
              "outlinewidth": 0,
              "ticks": ""
             }
            },
            "type": "scattermapbox"
           }
          ],
          "scatterpolar": [
           {
            "marker": {
             "colorbar": {
              "outlinewidth": 0,
              "ticks": ""
             }
            },
            "type": "scatterpolar"
           }
          ],
          "scatterpolargl": [
           {
            "marker": {
             "colorbar": {
              "outlinewidth": 0,
              "ticks": ""
             }
            },
            "type": "scatterpolargl"
           }
          ],
          "scatterternary": [
           {
            "marker": {
             "colorbar": {
              "outlinewidth": 0,
              "ticks": ""
             }
            },
            "type": "scatterternary"
           }
          ],
          "surface": [
           {
            "colorbar": {
             "outlinewidth": 0,
             "ticks": ""
            },
            "colorscale": [
             [
              0,
              "#0d0887"
             ],
             [
              0.1111111111111111,
              "#46039f"
             ],
             [
              0.2222222222222222,
              "#7201a8"
             ],
             [
              0.3333333333333333,
              "#9c179e"
             ],
             [
              0.4444444444444444,
              "#bd3786"
             ],
             [
              0.5555555555555556,
              "#d8576b"
             ],
             [
              0.6666666666666666,
              "#ed7953"
             ],
             [
              0.7777777777777778,
              "#fb9f3a"
             ],
             [
              0.8888888888888888,
              "#fdca26"
             ],
             [
              1,
              "#f0f921"
             ]
            ],
            "type": "surface"
           }
          ],
          "table": [
           {
            "cells": {
             "fill": {
              "color": "#EBF0F8"
             },
             "line": {
              "color": "white"
             }
            },
            "header": {
             "fill": {
              "color": "#C8D4E3"
             },
             "line": {
              "color": "white"
             }
            },
            "type": "table"
           }
          ]
         },
         "layout": {
          "annotationdefaults": {
           "arrowcolor": "#2a3f5f",
           "arrowhead": 0,
           "arrowwidth": 1
          },
          "autotypenumbers": "strict",
          "coloraxis": {
           "colorbar": {
            "outlinewidth": 0,
            "ticks": ""
           }
          },
          "colorscale": {
           "diverging": [
            [
             0,
             "#8e0152"
            ],
            [
             0.1,
             "#c51b7d"
            ],
            [
             0.2,
             "#de77ae"
            ],
            [
             0.3,
             "#f1b6da"
            ],
            [
             0.4,
             "#fde0ef"
            ],
            [
             0.5,
             "#f7f7f7"
            ],
            [
             0.6,
             "#e6f5d0"
            ],
            [
             0.7,
             "#b8e186"
            ],
            [
             0.8,
             "#7fbc41"
            ],
            [
             0.9,
             "#4d9221"
            ],
            [
             1,
             "#276419"
            ]
           ],
           "sequential": [
            [
             0,
             "#0d0887"
            ],
            [
             0.1111111111111111,
             "#46039f"
            ],
            [
             0.2222222222222222,
             "#7201a8"
            ],
            [
             0.3333333333333333,
             "#9c179e"
            ],
            [
             0.4444444444444444,
             "#bd3786"
            ],
            [
             0.5555555555555556,
             "#d8576b"
            ],
            [
             0.6666666666666666,
             "#ed7953"
            ],
            [
             0.7777777777777778,
             "#fb9f3a"
            ],
            [
             0.8888888888888888,
             "#fdca26"
            ],
            [
             1,
             "#f0f921"
            ]
           ],
           "sequentialminus": [
            [
             0,
             "#0d0887"
            ],
            [
             0.1111111111111111,
             "#46039f"
            ],
            [
             0.2222222222222222,
             "#7201a8"
            ],
            [
             0.3333333333333333,
             "#9c179e"
            ],
            [
             0.4444444444444444,
             "#bd3786"
            ],
            [
             0.5555555555555556,
             "#d8576b"
            ],
            [
             0.6666666666666666,
             "#ed7953"
            ],
            [
             0.7777777777777778,
             "#fb9f3a"
            ],
            [
             0.8888888888888888,
             "#fdca26"
            ],
            [
             1,
             "#f0f921"
            ]
           ]
          },
          "colorway": [
           "#636efa",
           "#EF553B",
           "#00cc96",
           "#ab63fa",
           "#FFA15A",
           "#19d3f3",
           "#FF6692",
           "#B6E880",
           "#FF97FF",
           "#FECB52"
          ],
          "font": {
           "color": "#2a3f5f"
          },
          "geo": {
           "bgcolor": "white",
           "lakecolor": "white",
           "landcolor": "#E5ECF6",
           "showlakes": true,
           "showland": true,
           "subunitcolor": "white"
          },
          "hoverlabel": {
           "align": "left"
          },
          "hovermode": "closest",
          "mapbox": {
           "style": "light"
          },
          "paper_bgcolor": "white",
          "plot_bgcolor": "#E5ECF6",
          "polar": {
           "angularaxis": {
            "gridcolor": "white",
            "linecolor": "white",
            "ticks": ""
           },
           "bgcolor": "#E5ECF6",
           "radialaxis": {
            "gridcolor": "white",
            "linecolor": "white",
            "ticks": ""
           }
          },
          "scene": {
           "xaxis": {
            "backgroundcolor": "#E5ECF6",
            "gridcolor": "white",
            "gridwidth": 2,
            "linecolor": "white",
            "showbackground": true,
            "ticks": "",
            "zerolinecolor": "white"
           },
           "yaxis": {
            "backgroundcolor": "#E5ECF6",
            "gridcolor": "white",
            "gridwidth": 2,
            "linecolor": "white",
            "showbackground": true,
            "ticks": "",
            "zerolinecolor": "white"
           },
           "zaxis": {
            "backgroundcolor": "#E5ECF6",
            "gridcolor": "white",
            "gridwidth": 2,
            "linecolor": "white",
            "showbackground": true,
            "ticks": "",
            "zerolinecolor": "white"
           }
          },
          "shapedefaults": {
           "line": {
            "color": "#2a3f5f"
           }
          },
          "ternary": {
           "aaxis": {
            "gridcolor": "white",
            "linecolor": "white",
            "ticks": ""
           },
           "baxis": {
            "gridcolor": "white",
            "linecolor": "white",
            "ticks": ""
           },
           "bgcolor": "#E5ECF6",
           "caxis": {
            "gridcolor": "white",
            "linecolor": "white",
            "ticks": ""
           }
          },
          "title": {
           "x": 0.05
          },
          "xaxis": {
           "automargin": true,
           "gridcolor": "white",
           "linecolor": "white",
           "ticks": "",
           "title": {
            "standoff": 15
           },
           "zerolinecolor": "white",
           "zerolinewidth": 2
          },
          "yaxis": {
           "automargin": true,
           "gridcolor": "white",
           "linecolor": "white",
           "ticks": "",
           "title": {
            "standoff": 15
           },
           "zerolinecolor": "white",
           "zerolinewidth": 2
          }
         }
        },
        "title": {
         "text": "t-SNE – Custom data"
        },
        "width": 1100,
        "xaxis": {
         "anchor": "y",
         "domain": [
          0,
          1
         ],
         "title": {
          "text": "Isomap_1"
         }
        },
        "yaxis": {
         "anchor": "x",
         "domain": [
          0,
          1
         ],
         "title": {
          "text": "Isomap_2"
         }
        }
       }
      },
      "image/png": "[encoded data removed]"
     },
     "metadata": {},
     "output_type": "display_data"
    },
    {
     "name": "stdout",
     "output_type": "stream",
     "text": [
      "==== Raw data perf : ====\n",
      "Dist correlation : 0.7160073519135892\n",
      "Trustworthiness : 0.9745222387742073\n",
      "Continuity : 0.9915149795464756\n",
      "MRRE : 0.4097081603725965\n",
      "==== Per90 data perf : ====\n",
      "Dist correlation : 0.7467583511848792\n",
      "Trustworthiness : 0.9711484713059516\n",
      "Continuity : 0.9914128301529876\n",
      "MRRE : 0.4404158831095289\n",
      "==== Custom data perf : ====\n",
      "Dist correlation : 0.7509202550844533\n",
      "Trustworthiness : 0.9668742758506538\n",
      "Continuity : 0.9908576292828262\n",
      "MRRE : 0.45144430508040256\n"
     ]
    }
   ],
   "source": [
    "position_colors = {\n",
    "    'FW': np.array([255, 0, 0]),    # red\n",
    "    'MF': np.array([0, 0, 255]),    # blue\n",
    "    'DF': np.array([0, 255, 0]),  #  yellow\n",
    "}\n",
    "\n",
    "def color_from_position(positions):\n",
    "    postitions = str(positions)\n",
    "    position_list = positions.split(',')\n",
    "    colors = np.array([position_colors[p] for p in position_list if p in position_colors])\n",
    "    avg_color = np.sum(colors, axis=0)\n",
    "    return '#%02x%02x%02x' % tuple(avg_color.astype(int))\n",
    "\n",
    "def plot_isomap_interactive(X_tsne, player_positions, data_num, title):\n",
    "    df_plot = pd.DataFrame({\n",
    "        'Isomap_1': X_tsne[:, 0],\n",
    "        'Isomap_2': X_tsne[:, 1],\n",
    "        'player_name': data_num.index,\n",
    "        'color' : player_positions.apply(color_from_position)\n",
    "    })\n",
    "    \n",
    "    fig = px.scatter(\n",
    "        df_plot,\n",
    "        x='Isomap_1', y='Isomap_2',\n",
    "        hover_name='player_name',\n",
    "        color='color',\n",
    "        title=title,\n",
    "        height=900, width=1100 \n",
    "    )\n",
    "    fig.show()\n",
    "\n",
    "plot_isomap_interactive(X_tsne_raw, player_positions_raw ,data_raw.set_index(\"player_name\"), \"t-SNE – Raw data\")\n",
    "plot_isomap_interactive(X_tsne_per90, player_positions_per90 ,data_per90.set_index(\"player_name\"), \"t-SNE – Per90min data\")\n",
    "plot_isomap_interactive(X_tsne_custom, player_positions_custom ,data_custom.set_index(\"player_name\"), \"t-SNE – Custom data\")\n",
    "\n",
    "corr_raw, trust_raw, cont_raw, mrre_raw = extractMetrics_tsne(X_raw, X_tsne_raw)\n",
    "corr_per90, trust_per90, cont_per90, mrre_per90 = extractMetrics_tsne(X_per90, X_tsne_per90)\n",
    "corr_custom, trust_custom, cont_custom, mrre_custom = extractMetrics_tsne(X_custom, X_tsne_custom)\n",
    "\n",
    "\n",
    "print(\"==== Raw data perf : ====\")\n",
    "print(f\"Dist correlation : {corr_raw}\")\n",
    "print(f\"Trustworthiness : {trust_raw}\")\n",
    "print(f\"Continuity : {cont_raw}\")\n",
    "print(f\"MRRE : {mrre_raw}\")\n",
    "\n",
    "print(\"==== Per90 data perf : ====\")\n",
    "print(f\"Dist correlation : {corr_per90}\")\n",
    "print(f\"Trustworthiness : {trust_per90}\")\n",
    "print(f\"Continuity : {cont_per90}\")\n",
    "print(f\"MRRE : {mrre_per90}\")\n",
    "\n",
    "print(\"==== Custom data perf : ====\")\n",
    "print(f\"Dist correlation : {corr_custom}\")\n",
    "print(f\"Trustworthiness : {trust_custom}\")\n",
    "print(f\"Continuity : {cont_custom}\")\n",
    "print(f\"MRRE : {mrre_custom}\")    "
   ]
  },
  {
   "cell_type": "markdown",
   "id": "0af4b7c4-ec27-4e70-a59d-249f17814dfd",
   "metadata": {},
   "source": [
    "## t-SNE dim Reduction Export"
   ]
  },
  {
   "cell_type": "code",
   "execution_count": 61,
   "id": "5438c5b6-501a-458b-97aa-8d480b777fb7",
   "metadata": {},
   "outputs": [
    {
     "name": "stdout",
     "output_type": "stream",
     "text": [
      "✅ Exported ../../reduced_data/joueurs_ligue1_tSNE_raw.csv (333 rows, 7 columns)\n",
      "✅ Exported ../../reduced_data/joueurs_ligue1_tSNE_per90.csv (333 rows, 7 columns)\n",
      "✅ Exported ../../reduced_data/joueurs_ligue1_tSNE_custom.csv (333 rows, 7 columns)\n"
     ]
    }
   ],
   "source": [
    "def export_tsne(X_tsne, data, prefix):\n",
    "    player_names = data['player_name']\n",
    "    teams = data['equipe']\n",
    "    positions = data['positions']\n",
    "\n",
    "    tsne_df = pd.DataFrame(X_tsne, columns=[f'tsne_{i+1}' for i in range(X_tsne.shape[1])])\n",
    "    \n",
    "    tsne_df['player_name'] = player_names\n",
    "    tsne_df['equipe'] = teams\n",
    "    tsne_df['positions'] = positions\n",
    "    \n",
    "    filename = f\"../../reduced_data/joueurs_ligue1_tSNE_{prefix}.csv\"\n",
    "    tsne_df.to_csv(filename, index=False, encoding=\"utf-8\")\n",
    "    print(f\"✅ Exported {filename} ({tsne_df.shape[0]} rows, {tsne_df.shape[1]} columns)\")\n",
    "\n",
    "export_tsne(X_tsne_raw, data_raw, prefix='raw')\n",
    "export_tsne(X_tsne_per90, data_per90, prefix='per90')\n",
    "export_tsne(X_tsne_custom, data_custom, prefix='custom')"
   ]
  },
  {
   "cell_type": "code",
   "execution_count": null,
   "id": "6b277f43-9ad8-4a52-9b1e-0a8d6ca6338b",
   "metadata": {},
   "outputs": [],
   "source": []
  },
  {
   "cell_type": "code",
   "execution_count": null,
   "id": "39045ab9-4e52-46dd-8073-093421c42f63",
   "metadata": {},
   "outputs": [],
   "source": []
  }
 ],
 "metadata": {
  "kernelspec": {
   "display_name": "Python 3 (ipykernel)",
   "language": "python",
   "name": "python3"
  },
  "language_info": {
   "codemirror_mode": {
    "name": "ipython",
    "version": 3
   },
   "file_extension": ".py",
   "mimetype": "text/x-python",
   "name": "python",
   "nbconvert_exporter": "python",
   "pygments_lexer": "ipython3",
   "version": "3.11.9"
  }
 },
 "nbformat": 4,
 "nbformat_minor": 5
}
