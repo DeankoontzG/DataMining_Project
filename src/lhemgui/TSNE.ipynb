{
 "cells": [
  {
   "cell_type": "code",
   "execution_count": 16,
   "id": "9b63c982-492f-4c7b-a4ac-bf8eaab500e6",
   "metadata": {},
   "outputs": [
    {
     "name": "stdout",
     "output_type": "stream",
     "text": [
      "Index(['equipe', 'player_id', 'player_name', 'player_country_code', 'age',\n",
      "       'positions', 'matches_played', 'min', 'gls', 'ast',\n",
      "       ...\n",
      "       'second_yellow_cards', 'fls_com', 'fls_drawn', 'offside', 'pk_won',\n",
      "       'pk_conceded', 'og', 'ball_recov', 'air_dual_won', 'air_dual_lost'],\n",
      "      dtype='object', length=106)\n"
     ]
    }
   ],
   "source": [
    "import pandas as pd\n",
    "import numpy as np\n",
    "import matplotlib.pyplot as plt\n",
    "import plotly.express as px\n",
    "import seaborn as sns\n",
    "from sklearn.preprocessing import StandardScaler\n",
    "from sklearn.manifold import TSNE\n",
    "from sklearn.metrics import pairwise_distances\n",
    "\n",
    "file_path_raw = \"../../cleaned_data/joueurs_ligue1_2024_2025_clean_raw.csv\"\n",
    "file_path_per90 = \"../../cleaned_data/joueurs_ligue1_2024_2025_clean_per90.csv\"\n",
    "file_path_custom = \"../../cleaned_data/joueurs_ligue1_2024_2025_clean_custom_no_GK.csv\"\n",
    "\n",
    "data_raw = pd.read_csv(file_path_raw, encoding=\"utf-8\")\n",
    "data_per90 = pd.read_csv(file_path_per90, encoding=\"utf-8\")\n",
    "data_custom = pd.read_csv(file_path_custom, encoding=\"utf-8\")\n",
    "print(data_raw.columns)"
   ]
  },
  {
   "cell_type": "markdown",
   "id": "4e3f6260-2b8f-4932-a01c-2c5bab8228f4",
   "metadata": {},
   "source": [
    "### Pre-processing : remove non numeric columns, normalize as t-SNE (like ISOMap) is based on distances"
   ]
  },
  {
   "cell_type": "code",
   "execution_count": 17,
   "id": "abe8cf6a-b6bc-4532-a9c8-aa1cef8ee51a",
   "metadata": {},
   "outputs": [
    {
     "name": "stdout",
     "output_type": "stream",
     "text": [
      "Columns removed (5): ['equipe', 'player_country_code', 'player_id', 'player_name', 'positions']\n",
      "Columns removed (5): ['equipe', 'player_country_code', 'player_id', 'player_name', 'positions']\n",
      "Columns removed (5): ['equipe', 'player_country_code', 'player_id', 'player_name', 'positions']\n"
     ]
    }
   ],
   "source": [
    "def preprocessing(data):\n",
    "    player_names = data['player_name']\n",
    "    player_positions = data['positions']\n",
    "    data_num = data.select_dtypes(include=[np.number]).dropna(axis=1, how='any')\n",
    "    data_num.index = player_names\n",
    "    \n",
    "    scaler = StandardScaler()\n",
    "    X_scaled = scaler.fit_transform(data_num)\n",
    "\n",
    "    removed_cols = set(data.columns) - set(data_num.columns)\n",
    "    print(f\"Columns removed ({len(removed_cols)}): {sorted(list(removed_cols))}\")\n",
    "    \n",
    "    return X_scaled, data_num.columns, player_positions\n",
    "\n",
    "X_raw, cols_raw, player_positions_raw = preprocessing(data_raw)\n",
    "X_per90, cols_per90, player_positions_per90 = preprocessing(data_per90)\n",
    "X_custom, cols_custom, player_positions_custom = preprocessing(data_custom)"
   ]
  },
  {
   "cell_type": "markdown",
   "id": "b825a522-4f2f-48bb-8d0f-c01d65a12337",
   "metadata": {},
   "source": [
    "### t-SNE computation"
   ]
  },
  {
   "cell_type": "code",
   "execution_count": 24,
   "id": "48edd936-a4fb-48e4-b7a9-0cd800a4d744",
   "metadata": {},
   "outputs": [],
   "source": [
    "def run_tsne(X, n_components, perplexity):\n",
    "    tsne = TSNE(n_components= n_components, perplexity=perplexity, learning_rate=100, max_iter=3000, random_state=42)\n",
    "    X_tsne = tsne.fit_transform(X)\n",
    "    return X_tsne, tsne\n",
    "\n",
    "X_tsne_raw, tsne_raw = run_tsne(X_raw, n_components=3, perplexity=10)\n",
    "X_tsne_per90, tsne_per90 = run_tsne(X_per90, n_components=3, perplexity=10)\n",
    "X_tsne_custom, tsne_custom = run_tsne(X_custom, n_components=3, perplexity=10)"
   ]
  },
  {
   "cell_type": "markdown",
   "id": "60cbe59c-a945-4c3a-8b0f-2cb32126103b",
   "metadata": {},
   "source": [
    "### Results Display"
   ]
  },
  {
   "cell_type": "code",
   "execution_count": 25,
   "id": "6c3cbd0b-047a-4b00-95fb-1ecf504311ad",
   "metadata": {},
   "outputs": [
    {
     "data": {
      "application/vnd.plotly.v1+json": {
       "config": {
        "plotlyServerURL": "https://plot.ly"
       },
       "data": [
        {
         "hovertemplate": "<b>%{hovertext}</b><br><br>color=#00ff00<br>Isomap_1=%{x}<br>Isomap_2=%{y}<extra></extra>",
         "hovertext": [
          "Jordan Lefort",
          "Gautier Lloris",
          "Bafodé Diakité",
          "Moussa Niakhate",
          "Guela Doué",
          "Alexsandro Ribeiro",
          "Kenny Lala",
          "Florent Hanin",
          "Jubal",
          "Léo Pétrot",
          "Charlie Cresswell",
          "Facundo Medina",
          "Sergio Akieme",
          "Mark McKenzie",
          "Clément Akpa",
          "Michael Amir Murillo",
          "Brendan Chardonnet",
          "Thilo Kehrer",
          "Clinton Mata",
          "Mamadou Sarr",
          "Etienne Youte Kinkoue",
          "Mickael Nade",
          "Gideon Mensah",
          "Leonardo Balerdi",
          "Moïse Bombito",
          "Cédric Kipré",
          "Kelvin Amian",
          "Gabriel Suazo",
          "Modibo Sagnan",
          "Willian Pacho",
          "Dennis Appiah",
          "Ki-Jana Hoever",
          "Jonathan Gradit",
          "Djibril Sidibé",
          "Wilfried Singo",
          "Achraf Hakimi",
          "Vanderson",
          "Carlens Arcus",
          "Nicolas Pallois",
          "Dylan Batubinsika",
          "Lucas Beraldo",
          "Ainsley Maitland-Niles",
          "Aurélio Buta",
          "Dante",
          "Sinaly Diomande",
          "Youssouf Ndayishimiye",
          "Caio Henrique Oliveira Silva",
          "Thomas Meunier",
          "Nicolás Tagliafico",
          "Enzo Tchato",
          "Becir Omeragic",
          "Gabriel Gudmundsson",
          "Aïssa Mandi",
          "Marquinhos",
          "Abdoulaye Niakhate Ndiaye",
          "Joseph Okumu",
          "Hans Hateboer",
          "Massadio Haïdara",
          "Nuno Mendes",
          "Gabriel Osho",
          "Quentin Merlin",
          "Duje Ćaleta-Car",
          "Nathan Zeze",
          "Abdoulaye Bamba",
          "Christian Mawissa",
          "Christopher Wooh",
          "Derek Cornelius",
          "Przemysław Frankowski",
          "Malang Sarr",
          "Julien Le Cardinal",
          "Emmanuel Biumla",
          "Emmanuel Agbadou",
          "Arouna Sangante",
          "Lilian Brassier",
          "Falaye Sacko",
          "Leo Skiri Østigård",
          "Issiaga Sylla",
          "Timothee Pembele",
          "Abner",
          "Kevin Danso",
          "Yunis Abdelhamid",
          "Mohammed Salisu",
          "Saidou Sow",
          "Théo Sainte-Luce",
          "Paul Joly",
          "Abdukodir Khusanov",
          "Anthony Rouault",
          "Sael Kumbedi",
          "Marcus Coco",
          "Abakar Sylla",
          "Yael Mouanga",
          "Ulisses Garcia",
          "Jérémy Jacquet",
          "Ismaily",
          "Hiroki Sekine",
          "Lucas Hernández",
          "Mohamed Abdelmoneim",
          "Antoine Mendy",
          "Alidu Seidu",
          "Yoann Salmier",
          "Yvann Macon",
          "Jordan Amavi",
          "Maxime Bernauer",
          "Boubakar Kouyaté",
          "Lucas Mincarelli",
          "Mikayil Ngor Faye",
          "Abdulai Juma Bah",
          "Pol Lirola",
          "Luck Zogbé",
          "Rasmus Nicolaisen",
          "Nikola Maksimović",
          "Pierre Cornud",
          "Jordan Teze",
          "Andrew Omobamidele",
          "Jean-Kevin Duverne"
         ],
         "legendgroup": "#00ff00",
         "marker": {
          "color": "#636efa",
          "symbol": "circle"
         },
         "mode": "markers",
         "name": "#00ff00",
         "orientation": "v",
         "showlegend": true,
         "type": "scatter",
         "x": {
          "bdata": "e9WmQG+5LEBmYENB1IoJQawFjEGMUiRB0FblQb3k+EGSoNDA9EALQm69+b9+UEJBy/jPQYo36j8QdEnAqAyJQZDFjMBZFfxApMNaQQj/FkEwfuQ/IUsAQS4t8kESCl1BLjujQORd9j8uGsdBjIa7QXnwicBJRDxBMhr/QfetAUJhdtNA1szhQZIj00DxB6tBd18AQqxf3EHbntvAYuwcvzigKUHJ+f1Bx4i1QTNGbEB8rtjAF0P3QK31wEEEQelB2FiwQc75zkFetEzByJe6QbRqckCltAJBHU4qwO1AfD8uLstAqvn+QUulrEFn5WPBZ4N1Qe+MOMH+MfLANCCVwSQslMCqyx3BeRgFP4oFikHKLNLAxZYTwWifi8GYc0LAGMYEwQRi+sDE3MbBPZQmwU5jgcGhMknBodeMwpxOJ8HIR6DBKFUfwcOKZsH2zYXBthSVv8VoWcHfd13BdOozwUtJ98BucErBjjmCwZV6KsGu2U7BEgJ4QU5DY8EJmnvBjHeXwatCRsEwyoXB90WmwfsCk8EHELrBcZx/wQwklMH5t47BRuAxwbUjasHXZvzBXEq+wdti7sHPbL3BdbC4wZtlh8Gy0qLBCwSjwQ==",
          "dtype": "f4"
         },
         "xaxis": "x",
         "y": {
          "bdata": "AtEUQtf5CEKb3xpC1B4NQhfh6kHkqRpCG2MNQIkBQ7+yNhlCTICLQINLEkILhs1BX7BzwCBo90ESDPBBF/rYQRdeDUIh2gJCw3HYQfYuBkJ92PRB1sLaQbMpnT9QixlChjrhQTwS50HRCDtAb1sTP4M450HFlwhCq9hRQBKOX8CGsM9BYpG/QMRi6EFl0rxBqlaCwFSGVz7mhQVCdJj2QeeJCkK0GJBAX4AKPbR+0kHrpwFCXVDaQYQthr4IxshAhIawQDBGWDwJX9FBDjhmwIiuqkFl1wJCPhvhQVAIz0HKL7hBid/YwObbrsAZNa5BvtwrwPYCwkEfNLpB/vCcQcEgsUGFEepBpXu2QbGBKj6Z8YpBaMbHQQD5ZkETiWJBcZyZQfe1jEF/ridBZLClQY2UxcDm2cbAwxwDwZc4n0FwqpxBu0eQQTJTY0E+kMrAyqgQQCYryEAYKIhB4BwqwMHpbkCxvu5Bc0hZQVYiKMHNb81ANYYHQLmRC8CoYMtBaQAyQd/SHD7WDKs/L5SCQR/nW793bUU+YwEoQf+wRkGTuJXA7De9QP9RMEFgJxO/guE8waIVoT9lEBk/GpQUQePSgsEb+U1BG6JNwA==",
          "dtype": "f4"
         },
         "yaxis": "y"
        },
        {
         "hovertemplate": "<b>%{hovertext}</b><br><br>color=#0000ff<br>Isomap_1=%{x}<br>Isomap_2=%{y}<extra></extra>",
         "hovertext": [
          "Andrey Santos",
          "Valentin Atangana Edoa",
          "Cristian Cásseres Jr.",
          "Benjamin André",
          "Pierre Højbjerg",
          "Adrien Thomasson",
          "Pierre Ekwah Elimby",
          "Adrien Rabiot",
          "Hicham Boudaoui",
          "Vincent Sierro",
          "Téji Savanier",
          "Pedro Chirivella",
          "Elisha Owusu",
          "Corentin Tolisso",
          "Abdoulaye Touré",
          "Hugo Magnetti",
          "Douglas",
          "Andy Diouf",
          "Denis Zakaria",
          "Hamed Junior Traorè",
          "Azor Matusiwa",
          "Lamine Camara",
          "Johann Lepenant",
          "Vitinha",
          "Nemanja Matić",
          "Jean-Eudes Aholou",
          "Fabián Ruiz Peña",
          "Joris Chotard",
          "Haris Belkebla",
          "Jordan Ferri",
          "Benjamin Bouchouari",
          "Marshall Munetsi",
          "Rabby Nzingoula",
          "Neil El Aynaoui",
          "Jordan Veretout",
          "Pierre Lees-Melou",
          "Yassin Belkhdim",
          "Kévin Danois",
          "Amadou Koné",
          "André Gomes",
          "Florian Tardieu",
          "Tanner Tessmann",
          "Ngal'Ayel Mukau",
          "Jordan James",
          "Ayyoub Bouaddi",
          "Tanguy Ndombele",
          "Djaoui Cissé",
          "Rassoul Ndiaye",
          "Han-Noah Massengo",
          "Louis Mouton",
          "Aimen Moueffek",
          "Soungoutou Magassa",
          "Oussama Targhalline",
          "Junior Mwanga",
          "Baptiste Santamaria",
          "Mathis Amougou",
          "Seko Fofana",
          "Senny Mayulu",
          "Teddy Teuma",
          "Angel Gomes",
          "Assane Dioussé",
          "Glen Kamara",
          "Ismaël Bennacer",
          "Nampalys Mendy",
          "Mahamadou Diawara",
          "Maxence Caqueret",
          "Daler Kuzyaev",
          "John Joe",
          "Amine Harit"
         ],
         "legendgroup": "#0000ff",
         "marker": {
          "color": "#EF553B",
          "symbol": "circle"
         },
         "mode": "markers",
         "name": "#0000ff",
         "orientation": "v",
         "showlegend": true,
         "type": "scatter",
         "x": {
          "bdata": "G5uMQf87gUG0PIZBEWemQST/mUGB279BcklQQUQ0z0ESSZpBBakqQbBgmkHhYDdBIOgeQRxLu0E9plpBdc3sQKk4akH/s4ZB/DhjQcDKKEGxx1tBoWiRQW3bFUGG1oVBtjstQQR/RkGFLq9Bk4WuPaU7vEBWLABByuOoQGThE8F1uVlBtKYZQeuJXj+jW8NAan2eQLxto0B02rA/UMyzP50Gmz8CKyvAJo3EvrPgC77oGP0/tMbswLfNo7/VMp7BiQG7wYsyEkC80xbB6mXYP1K6aMFzeRbB1NalwSKNlsFD9SnBsGMBwW9YdMECyp/BT8vEwdVGi8GazqHB1OfBwb3Bo8G3uZHB/K22wQ0HtsGgarPB",
          "dtype": "f4"
         },
         "xaxis": "x",
         "y": {
          "bdata": "gOVPQcncwEAcD01BV0uBQQlBtUFPJkhBO9G1QR7IjEHc1RxB+aklQWmA1r4l/7FBZrQDQYzTgEH27yBB1TBCQTEOLUFLaYTB0KAwQRxNi8GWKTNBO1H7PybwM0Aui6ZBGBmdQWLxoECwZZFBUMk1QZy5KUEMejhB5FzkQLGs+MHxExtArhr2QHUfUUHeJXNBPvwAQNAUpT9Q69NAHUEoQcLMR0EIkRVBrpsiQG+Mtj8Fvcc+B2wewbN92UD/skjBhQf5P58f8z+dALTAUI2eQGHRCsFm4ac+YJvdP/mqG8F0/fDAShpSwVYQqD9gpjjB7LudwP4GbcH8KTlAaW7EPjbpA8HrgSfBFN0JwFpLG8G/vzXB",
          "dtype": "f4"
         },
         "yaxis": "y"
        },
        {
         "hovertemplate": "<b>%{hovertext}</b><br><br>color=#ff00ff<br>Isomap_1=%{x}<br>Isomap_2=%{y}<extra></extra>",
         "hovertext": [
          "Himad Abdelli",
          "Mason Greenwood",
          "Zuriko Davitashvili",
          "Gaëtan Perrin",
          "Junya Ito",
          "Mahdi Camara",
          "Keito Nakamura",
          "Moses Simon",
          "Arnaud Kalimuendo",
          "Evann Guessand",
          "Maghnes Akliouche",
          "Habib Diarra",
          "Yann Gboho",
          "Lassine Sinayoko",
          "Ludovic Blas",
          "Takumi Minamino",
          "Sebastian Nanasi",
          "Yassine Kechta",
          "Rayan Cherki",
          "Josué Casimir",
          "Issa Soumaré",
          "Zakaria Aboukhlal",
          "Breel Embolo",
          "Florian Sotoca",
          "Félix Lemaréchal",
          "Hákon Arnar Haraldsson",
          "Eliesse Ben Seghir",
          "Désiré Doué",
          "Joshua King",
          "Lee Kang-in",
          "Mohamed Ali Cho",
          "Mathias Pereira Lage",
          "Frank Magri",
          "Tanguy Coulibaly",
          "Anass Zaroury",
          "Kamory Doumbia",
          "Sorba Thomas",
          "Osame Sahraoui",
          "Abdallah Sima",
          "Shavy Babicka",
          "Aleksandr Golovin",
          "Wahbi Khazri",
          "Musa Al-Taamari",
          "Badredine Bouanani",
          "Matias Fernandez-Pardo",
          "Sofiane Diop",
          "Jeremie Boga",
          "Ernest Nuamah",
          "Amine Gouiri",
          "Angelo Fulgini",
          "Khalil Fayad",
          "Rémy Cabella",
          "Edon Zhegrova",
          "Ado Onaiwu",
          "Thiago Almada",
          "Antoine Joujou",
          "Romain Faivre",
          "Mamadou Diakhon",
          "Zinedine Ferhat",
          "Albert Grønbaek",
          "Jonathan Rowe",
          "Sekou Mara",
          "Saïd Benrahma",
          "Augustine Boakye",
          "Mathieu Cafaro",
          "Emmanuel Sabbi",
          "Rémy Labeau Lascary",
          "Yaya Kader Fofana",
          "Marco Asensio",
          "Ben Old",
          "Tino Kadewere"
         ],
         "legendgroup": "#ff00ff",
         "marker": {
          "color": "#00cc96",
          "symbol": "circle"
         },
         "mode": "markers",
         "name": "#ff00ff",
         "orientation": "v",
         "showlegend": true,
         "type": "scatter",
         "x": {
          "bdata": "qqKhQSCnl0EsvnJBk1eSQdBqkkGQXqlBL/EGQVDqkUGR0T1AfJklQYALe0G0ICFBvP1GQe7TAEGy3KJBxf/RQJL0M0EEj1ZBLWJcQRUwi0BgAkpARSD2P8tWOkD8gnNALYjpQD9XLEFXSVFBJ4VQQRB+DsCPEVtBjJObQItB6EDUyN3A5q0DwAbHPL+Q+afBhn4pQGyqYECD793A8x70wOajlUBE/lzBpLa9vEW3qcB07KnADdN3QBx+m785yWfAW6nDwHcsOkAO7mnAtPv/QLR9hMC5nSjBlpedv8yJZL/DGuzAiewNPxSGRMDWlTzBmQJgwNO/d8FQkOvAbvJGwZShiMH5HXbB+FGHwcd+dMFjKD7BXZiEwYyRjsE=",
          "dtype": "f4"
         },
         "xaxis": "x",
         "y": {
          "bdata": "BHmJwaSXoMFIbnHBKDW9wKuo/sBm9f9AJ7+SwUqVZsHTowHCIH69wQozrMF8hHDBJwGfwSbG0cGFlAbBBuJ2wZMo7cDeyxZAHY0HwRi6ysHcjaXBEHLiwdKv9MH9xq7AQQQtwFy4oMCUFmzBWJ3SwZKA3sHekgzBXB2MwRFdN77QwQTCafGXwXfdg74t6Y1AAo9IQHTfZsFxjerB4O6swesjU7+szHLAUdKTwXr4gMGNq57B17jWwFw1WsHC/nbBe92awVdJLsDs+E4/tLW3v0vQKsGLU7rB1P6vv6zvXsH+93nByHmAwR1emT2Fdy7BDYiUwWpBrcEgXiDBtPWWwdRLnsCr8pXB8E9TwYDKSsE7p4nBvZ9ywWv5jcE=",
          "dtype": "f4"
         },
         "yaxis": "y"
        },
        {
         "hovertemplate": "<b>%{hovertext}</b><br><br>color=#ff0000<br>Isomap_1=%{x}<br>Isomap_2=%{y}<extra></extra>",
         "hovertext": [
          "Matthis Abline",
          "Jonathan David",
          "Ludovic Ajorque",
          "Emanuel Emegha",
          "Bradley Barcola",
          "Alexandre Lacazette",
          "Farid El Melali",
          "Lucas Stassin",
          "Gaëtan Laborde",
          "Jim Allevinah",
          "Ousmane Dembélé",
          "Esteban Lepaul",
          "Oumar Diakité",
          "Malick Fofana",
          "M'Bala Nzola",
          "André Ayew",
          "Georges Mikautadze",
          "Romain Del Castillo",
          "Mostafa Mohamed",
          "Mika Biereth",
          "Arnaud Nordin",
          "Mama Samba Baldé",
          "Akor Adams",
          "Gonçalo Ramos",
          "Irvin Cardona",
          "Neal Maupay",
          "Ibrahima Niane",
          "Theo Bair",
          "Khvicha Kvaratskhelia",
          "Wesley Saïd",
          "Goduine Koyalipou",
          "Koka",
          "Ibrahim Sissoko",
          "George Ilenikhena",
          "Chuba Akpom",
          "Folarin Balogun",
          "Andy Delort",
          "Florian Ayé",
          "Elye Wahi",
          "Mohamed Meité",
          "Bamba Dieng"
         ],
         "legendgroup": "#ff0000",
         "marker": {
          "color": "#ab63fa",
          "symbol": "circle"
         },
         "mode": "markers",
         "name": "#ff0000",
         "orientation": "v",
         "showlegend": true,
         "type": "scatter",
         "x": {
          "bdata": "b9C3QKT/jUBUNJs/JlsSwUrBZ0HIfg9AtcM2QRRDWz/ga9s/S/tqPhKtf0EHwBjBSwLGwB8Z00BZiyDBUBMbwRghTkAG/OBAH0igwICUkL8cWrnAv5CiwBm3wsFi0se/ves2wYNZScGbE7PBSzaCwWFbfMCk+EDBzaBtwXN9osExOELBW5+pwQziuMHlXoHBqUqQweHej8HU0qXBaq2bwbXsu8E=",
          "dtype": "f4"
         },
         "xaxis": "x",
         "y": {
          "bdata": "9BatwX2uBMLqE/jB/m0JwrpausHjwA7CoIALwelRAMKJnALCMd2vweLprsHzMu3B6NrswW7/k8HLJPvBdPrjwVxx+cFBk4BAmV7uwY0xEMLjJXXBK0fSwcZEw8HqWhXCnV+XwcHvr8EpAdfB5LTNwe2oXMGeJbDBgA29wSIgqcGYY9DBn2iowW3vvMFXCqvBIjrMwdG7ucFZQZrBQf6awcAFqsE=",
          "dtype": "f4"
         },
         "yaxis": "y"
        },
        {
         "hovertemplate": "<b>%{hovertext}</b><br><br>color=#00ffff<br>Isomap_1=%{x}<br>Isomap_2=%{y}<extra></extra>",
         "hovertext": [
          "Adrien Truffert",
          "Aron Dønnum",
          "Ismaël Doukouré",
          "Jean-Charles Castelletto",
          "Diego Moreira",
          "Dilane Bakwa",
          "Lorenz Assignon",
          "Jonathan Clauss",
          "Nicolas Cozza",
          "Warren Zaïre-Emery",
          "Geoffrey Kondogbia",
          "Melvin Bard",
          "João Neves",
          "Deiver Machado",
          "Pablo Rosario",
          "Valentin Rongier",
          "Ali Abdi",
          "Nhoa Sangui",
          "Valentín Barco",
          "Mory Gbane",
          "Ruben Aguilar",
          "Jaydee Canvot",
          "Edimilson Fernandes",
          "Warren Kamanzi",
          "Louis Leroux",
          "Tom Louchet",
          "Rayan Raveloson",
          "Jhoanner Chávez",
          "Fodé Ballo-Touré"
         ],
         "legendgroup": "#00ffff",
         "marker": {
          "color": "#FFA15A",
          "symbol": "circle"
         },
         "mode": "markers",
         "name": "#00ffff",
         "orientation": "v",
         "showlegend": true,
         "type": "scatter",
         "x": {
          "bdata": "pTvTQXvNuEHUKCRB7qmov5Onz0HXtpFDfIHYQbKypUFRW8BBUcJ3QWHNR0FNaANCCymjQVHEA0JHU5LAnEYeQRjUgkF34x/BwvwXwLKXeMG43YtBLkBPweZJlcHXXynBM+Q2welKs8GnoK7BTAeGwSczvcE=",
          "dtype": "f4"
         },
         "xaxis": "x",
         "y": {
          "bdata": "oxVXwEYWw8Cu+O5BEXgDQi2lIsHb3Z/DbHLlwCK3nL3MNjFA8U+YQYZ280GJesHA1R6QQR796sC0NoNBlrNvQQnOOMBiHty+/2NPQELOeUBNKxy/JME7QBxKW0CPpATBTWVXwcdUSMEND37AQwmLwBwg6EA=",
          "dtype": "f4"
         },
         "yaxis": "y"
        },
        {
         "hovertemplate": "<b>%{hovertext}</b><br><br>color=#ffff00<br>Isomap_1=%{x}<br>Isomap_2=%{y}<extra></extra>",
         "hovertext": [
          "Luis Henrique",
          "Loïc Nego",
          "Lilian Raolisoa",
          "Christopher Operi",
          "Mitchel Bakker",
          "Yanis Zouaoui",
          "Jacques Ekomie",
          "Krépin Diatta"
         ],
         "legendgroup": "#ffff00",
         "marker": {
          "color": "#19d3f3",
          "symbol": "circle"
         },
         "mode": "markers",
         "name": "#ffff00",
         "orientation": "v",
         "showlegend": true,
         "type": "scatter",
         "x": {
          "bdata": "aieXQX4F00EX1XnAc0HevwwrUEAijYy+fMa+walYlcE=",
          "dtype": "f4"
         },
         "xaxis": "x",
         "y": {
          "bdata": "BqMOwStsMUChhOo/0h03QOos378h8JZAMffowDBpmcA=",
          "dtype": "f4"
         },
         "yaxis": "y"
        }
       ],
       "layout": {
        "height": 900,
        "legend": {
         "title": {
          "text": "color"
         },
         "tracegroupgap": 0
        },
        "template": {
         "data": {
          "bar": [
           {
            "error_x": {
             "color": "#2a3f5f"
            },
            "error_y": {
             "color": "#2a3f5f"
            },
            "marker": {
             "line": {
              "color": "#E5ECF6",
              "width": 0.5
             },
             "pattern": {
              "fillmode": "overlay",
              "size": 10,
              "solidity": 0.2
             }
            },
            "type": "bar"
           }
          ],
          "barpolar": [
           {
            "marker": {
             "line": {
              "color": "#E5ECF6",
              "width": 0.5
             },
             "pattern": {
              "fillmode": "overlay",
              "size": 10,
              "solidity": 0.2
             }
            },
            "type": "barpolar"
           }
          ],
          "carpet": [
           {
            "aaxis": {
             "endlinecolor": "#2a3f5f",
             "gridcolor": "white",
             "linecolor": "white",
             "minorgridcolor": "white",
             "startlinecolor": "#2a3f5f"
            },
            "baxis": {
             "endlinecolor": "#2a3f5f",
             "gridcolor": "white",
             "linecolor": "white",
             "minorgridcolor": "white",
             "startlinecolor": "#2a3f5f"
            },
            "type": "carpet"
           }
          ],
          "choropleth": [
           {
            "colorbar": {
             "outlinewidth": 0,
             "ticks": ""
            },
            "type": "choropleth"
           }
          ],
          "contour": [
           {
            "colorbar": {
             "outlinewidth": 0,
             "ticks": ""
            },
            "colorscale": [
             [
              0,
              "#0d0887"
             ],
             [
              0.1111111111111111,
              "#46039f"
             ],
             [
              0.2222222222222222,
              "#7201a8"
             ],
             [
              0.3333333333333333,
              "#9c179e"
             ],
             [
              0.4444444444444444,
              "#bd3786"
             ],
             [
              0.5555555555555556,
              "#d8576b"
             ],
             [
              0.6666666666666666,
              "#ed7953"
             ],
             [
              0.7777777777777778,
              "#fb9f3a"
             ],
             [
              0.8888888888888888,
              "#fdca26"
             ],
             [
              1,
              "#f0f921"
             ]
            ],
            "type": "contour"
           }
          ],
          "contourcarpet": [
           {
            "colorbar": {
             "outlinewidth": 0,
             "ticks": ""
            },
            "type": "contourcarpet"
           }
          ],
          "heatmap": [
           {
            "colorbar": {
             "outlinewidth": 0,
             "ticks": ""
            },
            "colorscale": [
             [
              0,
              "#0d0887"
             ],
             [
              0.1111111111111111,
              "#46039f"
             ],
             [
              0.2222222222222222,
              "#7201a8"
             ],
             [
              0.3333333333333333,
              "#9c179e"
             ],
             [
              0.4444444444444444,
              "#bd3786"
             ],
             [
              0.5555555555555556,
              "#d8576b"
             ],
             [
              0.6666666666666666,
              "#ed7953"
             ],
             [
              0.7777777777777778,
              "#fb9f3a"
             ],
             [
              0.8888888888888888,
              "#fdca26"
             ],
             [
              1,
              "#f0f921"
             ]
            ],
            "type": "heatmap"
           }
          ],
          "histogram": [
           {
            "marker": {
             "pattern": {
              "fillmode": "overlay",
              "size": 10,
              "solidity": 0.2
             }
            },
            "type": "histogram"
           }
          ],
          "histogram2d": [
           {
            "colorbar": {
             "outlinewidth": 0,
             "ticks": ""
            },
            "colorscale": [
             [
              0,
              "#0d0887"
             ],
             [
              0.1111111111111111,
              "#46039f"
             ],
             [
              0.2222222222222222,
              "#7201a8"
             ],
             [
              0.3333333333333333,
              "#9c179e"
             ],
             [
              0.4444444444444444,
              "#bd3786"
             ],
             [
              0.5555555555555556,
              "#d8576b"
             ],
             [
              0.6666666666666666,
              "#ed7953"
             ],
             [
              0.7777777777777778,
              "#fb9f3a"
             ],
             [
              0.8888888888888888,
              "#fdca26"
             ],
             [
              1,
              "#f0f921"
             ]
            ],
            "type": "histogram2d"
           }
          ],
          "histogram2dcontour": [
           {
            "colorbar": {
             "outlinewidth": 0,
             "ticks": ""
            },
            "colorscale": [
             [
              0,
              "#0d0887"
             ],
             [
              0.1111111111111111,
              "#46039f"
             ],
             [
              0.2222222222222222,
              "#7201a8"
             ],
             [
              0.3333333333333333,
              "#9c179e"
             ],
             [
              0.4444444444444444,
              "#bd3786"
             ],
             [
              0.5555555555555556,
              "#d8576b"
             ],
             [
              0.6666666666666666,
              "#ed7953"
             ],
             [
              0.7777777777777778,
              "#fb9f3a"
             ],
             [
              0.8888888888888888,
              "#fdca26"
             ],
             [
              1,
              "#f0f921"
             ]
            ],
            "type": "histogram2dcontour"
           }
          ],
          "mesh3d": [
           {
            "colorbar": {
             "outlinewidth": 0,
             "ticks": ""
            },
            "type": "mesh3d"
           }
          ],
          "parcoords": [
           {
            "line": {
             "colorbar": {
              "outlinewidth": 0,
              "ticks": ""
             }
            },
            "type": "parcoords"
           }
          ],
          "pie": [
           {
            "automargin": true,
            "type": "pie"
           }
          ],
          "scatter": [
           {
            "fillpattern": {
             "fillmode": "overlay",
             "size": 10,
             "solidity": 0.2
            },
            "type": "scatter"
           }
          ],
          "scatter3d": [
           {
            "line": {
             "colorbar": {
              "outlinewidth": 0,
              "ticks": ""
             }
            },
            "marker": {
             "colorbar": {
              "outlinewidth": 0,
              "ticks": ""
             }
            },
            "type": "scatter3d"
           }
          ],
          "scattercarpet": [
           {
            "marker": {
             "colorbar": {
              "outlinewidth": 0,
              "ticks": ""
             }
            },
            "type": "scattercarpet"
           }
          ],
          "scattergeo": [
           {
            "marker": {
             "colorbar": {
              "outlinewidth": 0,
              "ticks": ""
             }
            },
            "type": "scattergeo"
           }
          ],
          "scattergl": [
           {
            "marker": {
             "colorbar": {
              "outlinewidth": 0,
              "ticks": ""
             }
            },
            "type": "scattergl"
           }
          ],
          "scattermap": [
           {
            "marker": {
             "colorbar": {
              "outlinewidth": 0,
              "ticks": ""
             }
            },
            "type": "scattermap"
           }
          ],
          "scattermapbox": [
           {
            "marker": {
             "colorbar": {
              "outlinewidth": 0,
              "ticks": ""
             }
            },
            "type": "scattermapbox"
           }
          ],
          "scatterpolar": [
           {
            "marker": {
             "colorbar": {
              "outlinewidth": 0,
              "ticks": ""
             }
            },
            "type": "scatterpolar"
           }
          ],
          "scatterpolargl": [
           {
            "marker": {
             "colorbar": {
              "outlinewidth": 0,
              "ticks": ""
             }
            },
            "type": "scatterpolargl"
           }
          ],
          "scatterternary": [
           {
            "marker": {
             "colorbar": {
              "outlinewidth": 0,
              "ticks": ""
             }
            },
            "type": "scatterternary"
           }
          ],
          "surface": [
           {
            "colorbar": {
             "outlinewidth": 0,
             "ticks": ""
            },
            "colorscale": [
             [
              0,
              "#0d0887"
             ],
             [
              0.1111111111111111,
              "#46039f"
             ],
             [
              0.2222222222222222,
              "#7201a8"
             ],
             [
              0.3333333333333333,
              "#9c179e"
             ],
             [
              0.4444444444444444,
              "#bd3786"
             ],
             [
              0.5555555555555556,
              "#d8576b"
             ],
             [
              0.6666666666666666,
              "#ed7953"
             ],
             [
              0.7777777777777778,
              "#fb9f3a"
             ],
             [
              0.8888888888888888,
              "#fdca26"
             ],
             [
              1,
              "#f0f921"
             ]
            ],
            "type": "surface"
           }
          ],
          "table": [
           {
            "cells": {
             "fill": {
              "color": "#EBF0F8"
             },
             "line": {
              "color": "white"
             }
            },
            "header": {
             "fill": {
              "color": "#C8D4E3"
             },
             "line": {
              "color": "white"
             }
            },
            "type": "table"
           }
          ]
         },
         "layout": {
          "annotationdefaults": {
           "arrowcolor": "#2a3f5f",
           "arrowhead": 0,
           "arrowwidth": 1
          },
          "autotypenumbers": "strict",
          "coloraxis": {
           "colorbar": {
            "outlinewidth": 0,
            "ticks": ""
           }
          },
          "colorscale": {
           "diverging": [
            [
             0,
             "#8e0152"
            ],
            [
             0.1,
             "#c51b7d"
            ],
            [
             0.2,
             "#de77ae"
            ],
            [
             0.3,
             "#f1b6da"
            ],
            [
             0.4,
             "#fde0ef"
            ],
            [
             0.5,
             "#f7f7f7"
            ],
            [
             0.6,
             "#e6f5d0"
            ],
            [
             0.7,
             "#b8e186"
            ],
            [
             0.8,
             "#7fbc41"
            ],
            [
             0.9,
             "#4d9221"
            ],
            [
             1,
             "#276419"
            ]
           ],
           "sequential": [
            [
             0,
             "#0d0887"
            ],
            [
             0.1111111111111111,
             "#46039f"
            ],
            [
             0.2222222222222222,
             "#7201a8"
            ],
            [
             0.3333333333333333,
             "#9c179e"
            ],
            [
             0.4444444444444444,
             "#bd3786"
            ],
            [
             0.5555555555555556,
             "#d8576b"
            ],
            [
             0.6666666666666666,
             "#ed7953"
            ],
            [
             0.7777777777777778,
             "#fb9f3a"
            ],
            [
             0.8888888888888888,
             "#fdca26"
            ],
            [
             1,
             "#f0f921"
            ]
           ],
           "sequentialminus": [
            [
             0,
             "#0d0887"
            ],
            [
             0.1111111111111111,
             "#46039f"
            ],
            [
             0.2222222222222222,
             "#7201a8"
            ],
            [
             0.3333333333333333,
             "#9c179e"
            ],
            [
             0.4444444444444444,
             "#bd3786"
            ],
            [
             0.5555555555555556,
             "#d8576b"
            ],
            [
             0.6666666666666666,
             "#ed7953"
            ],
            [
             0.7777777777777778,
             "#fb9f3a"
            ],
            [
             0.8888888888888888,
             "#fdca26"
            ],
            [
             1,
             "#f0f921"
            ]
           ]
          },
          "colorway": [
           "#636efa",
           "#EF553B",
           "#00cc96",
           "#ab63fa",
           "#FFA15A",
           "#19d3f3",
           "#FF6692",
           "#B6E880",
           "#FF97FF",
           "#FECB52"
          ],
          "font": {
           "color": "#2a3f5f"
          },
          "geo": {
           "bgcolor": "white",
           "lakecolor": "white",
           "landcolor": "#E5ECF6",
           "showlakes": true,
           "showland": true,
           "subunitcolor": "white"
          },
          "hoverlabel": {
           "align": "left"
          },
          "hovermode": "closest",
          "mapbox": {
           "style": "light"
          },
          "paper_bgcolor": "white",
          "plot_bgcolor": "#E5ECF6",
          "polar": {
           "angularaxis": {
            "gridcolor": "white",
            "linecolor": "white",
            "ticks": ""
           },
           "bgcolor": "#E5ECF6",
           "radialaxis": {
            "gridcolor": "white",
            "linecolor": "white",
            "ticks": ""
           }
          },
          "scene": {
           "xaxis": {
            "backgroundcolor": "#E5ECF6",
            "gridcolor": "white",
            "gridwidth": 2,
            "linecolor": "white",
            "showbackground": true,
            "ticks": "",
            "zerolinecolor": "white"
           },
           "yaxis": {
            "backgroundcolor": "#E5ECF6",
            "gridcolor": "white",
            "gridwidth": 2,
            "linecolor": "white",
            "showbackground": true,
            "ticks": "",
            "zerolinecolor": "white"
           },
           "zaxis": {
            "backgroundcolor": "#E5ECF6",
            "gridcolor": "white",
            "gridwidth": 2,
            "linecolor": "white",
            "showbackground": true,
            "ticks": "",
            "zerolinecolor": "white"
           }
          },
          "shapedefaults": {
           "line": {
            "color": "#2a3f5f"
           }
          },
          "ternary": {
           "aaxis": {
            "gridcolor": "white",
            "linecolor": "white",
            "ticks": ""
           },
           "baxis": {
            "gridcolor": "white",
            "linecolor": "white",
            "ticks": ""
           },
           "bgcolor": "#E5ECF6",
           "caxis": {
            "gridcolor": "white",
            "linecolor": "white",
            "ticks": ""
           }
          },
          "title": {
           "x": 0.05
          },
          "xaxis": {
           "automargin": true,
           "gridcolor": "white",
           "linecolor": "white",
           "ticks": "",
           "title": {
            "standoff": 15
           },
           "zerolinecolor": "white",
           "zerolinewidth": 2
          },
          "yaxis": {
           "automargin": true,
           "gridcolor": "white",
           "linecolor": "white",
           "ticks": "",
           "title": {
            "standoff": 15
           },
           "zerolinecolor": "white",
           "zerolinewidth": 2
          }
         }
        },
        "title": {
         "text": "t-SNE – Raw data"
        },
        "width": 1100,
        "xaxis": {
         "anchor": "y",
         "domain": [
          0,
          1
         ],
         "title": {
          "text": "Isomap_1"
         }
        },
        "yaxis": {
         "anchor": "x",
         "domain": [
          0,
          1
         ],
         "title": {
          "text": "Isomap_2"
         }
        }
       }
      },
      "image/png": "[encoded data removed]"
     },
     "metadata": {},
     "output_type": "display_data"
    },
    {
     "data": {
      "application/vnd.plotly.v1+json": {
       "config": {
        "plotlyServerURL": "https://plot.ly"
       },
       "data": [
        {
         "hovertemplate": "<b>%{hovertext}</b><br><br>color=#00ff00<br>Isomap_1=%{x}<br>Isomap_2=%{y}<extra></extra>",
         "hovertext": [
          "Jordan Lefort",
          "Gautier Lloris",
          "Bafodé Diakité",
          "Moussa Niakhate",
          "Guela Doué",
          "Alexsandro Ribeiro",
          "Kenny Lala",
          "Florent Hanin",
          "Jubal",
          "Léo Pétrot",
          "Charlie Cresswell",
          "Facundo Medina",
          "Sergio Akieme",
          "Mark McKenzie",
          "Clément Akpa",
          "Michael Amir Murillo",
          "Brendan Chardonnet",
          "Thilo Kehrer",
          "Clinton Mata",
          "Mamadou Sarr",
          "Etienne Youte Kinkoue",
          "Mickael Nade",
          "Gideon Mensah",
          "Leonardo Balerdi",
          "Moïse Bombito",
          "Cédric Kipré",
          "Kelvin Amian",
          "Gabriel Suazo",
          "Modibo Sagnan",
          "Willian Pacho",
          "Dennis Appiah",
          "Ki-Jana Hoever",
          "Jonathan Gradit",
          "Djibril Sidibé",
          "Wilfried Singo",
          "Achraf Hakimi",
          "Vanderson",
          "Carlens Arcus",
          "Nicolas Pallois",
          "Dylan Batubinsika",
          "Lucas Beraldo",
          "Ainsley Maitland-Niles",
          "Aurélio Buta",
          "Dante",
          "Sinaly Diomande",
          "Youssouf Ndayishimiye",
          "Caio Henrique Oliveira Silva",
          "Thomas Meunier",
          "Nicolás Tagliafico",
          "Enzo Tchato",
          "Becir Omeragic",
          "Gabriel Gudmundsson",
          "Aïssa Mandi",
          "Marquinhos",
          "Abdoulaye Niakhate Ndiaye",
          "Joseph Okumu",
          "Hans Hateboer",
          "Massadio Haïdara",
          "Nuno Mendes",
          "Gabriel Osho",
          "Quentin Merlin",
          "Duje Ćaleta-Car",
          "Nathan Zeze",
          "Abdoulaye Bamba",
          "Christian Mawissa",
          "Christopher Wooh",
          "Derek Cornelius",
          "Przemysław Frankowski",
          "Malang Sarr",
          "Julien Le Cardinal",
          "Emmanuel Biumla",
          "Emmanuel Agbadou",
          "Arouna Sangante",
          "Lilian Brassier",
          "Falaye Sacko",
          "Leo Skiri Østigård",
          "Issiaga Sylla",
          "Timothee Pembele",
          "Abner",
          "Kevin Danso",
          "Yunis Abdelhamid",
          "Mohammed Salisu",
          "Saidou Sow",
          "Théo Sainte-Luce",
          "Paul Joly",
          "Abdukodir Khusanov",
          "Anthony Rouault",
          "Sael Kumbedi",
          "Marcus Coco",
          "Abakar Sylla",
          "Yael Mouanga",
          "Ulisses Garcia",
          "Jérémy Jacquet",
          "Ismaily",
          "Hiroki Sekine",
          "Lucas Hernández",
          "Mohamed Abdelmoneim",
          "Antoine Mendy",
          "Alidu Seidu",
          "Yoann Salmier",
          "Yvann Macon",
          "Jordan Amavi",
          "Maxime Bernauer",
          "Boubakar Kouyaté",
          "Lucas Mincarelli",
          "Mikayil Ngor Faye",
          "Abdulai Juma Bah",
          "Pol Lirola",
          "Luck Zogbé",
          "Rasmus Nicolaisen",
          "Nikola Maksimović",
          "Pierre Cornud",
          "Jordan Teze",
          "Andrew Omobamidele",
          "Jean-Kevin Duverne"
         ],
         "legendgroup": "#00ff00",
         "marker": {
          "color": "#636efa",
          "symbol": "circle"
         },
         "mode": "markers",
         "name": "#00ff00",
         "orientation": "v",
         "showlegend": true,
         "type": "scatter",
         "x": {
          "bdata": "81UzQj0+RkKKnURCE7UgQkurAEHBcVxCr0hnwUy6dMGp53ZC6ZsNwXx6iEKtU1BBR8uIwX1uUUJI1iVCuQIWQeJPdEHngBZCuYmfQSdoQkKzYopCCA7CQdQ/u8FfWz9CwRfDQX/gF8IudAnB4NH2wdczKELYIzNCl2WfwQz68sFay8ZB/hTqwCH58EGIOIRBF20Rwl29lcE64lpClOGBQkaUSEK11/rBHAaAwalK80EsB2pCGf3tQV8D3MHHhAPBZ+EswQm6yMFcwH9CPk/6wcKQ2kGZDWxCqcg/Ql1+J0K2L5lB2H3bwS6ClEGumXRCoF7ywYOnNUJljxtCpZ2DQt+3+0Em4HlCS/9NQn/ur8EDoDZCzdd7QkAbiELgYAlCFqEPQgVUGkIKgFTAElIZQvIdbMAJETnBksezwbAkHUKY6EpCmSgIQkk1ekJPKfLA4PIVwnByFEJt5R5CvbCTwV5zEMJ9VY1CBadwQv7mjr+LLqpBftdxwQalvcEzXSNCAbjdQb10ncGZybHBZ014QrmwysHutHrBjsRDQgEsTkKvkt6/0EUCQs2CHELGtEdCyy8uQat6Y0KLrWVCcCugu84IMcLpUWFCD86HwQ==",
          "dtype": "f4"
         },
         "xaxis": "x",
         "y": {
          "bdata": "Ljs1woHMQsJaPHzCkwVswoedP8KON2rCkBC8wcq7vMEDDC7CxT3mwSAvL8Ie0R3Ck3ZMwUT1W8KJaw/CX1NLwo3SiMIBB4HCZHtXwsryacJ4bFzCRnGKwq1m6cF/i3TCaeOZwldKHsGQYYXB1COmwVZVNMKrolDCNqQJwjiZtcEDw1XCVoLNwW1chsKYMxrC0VkPwiXVysHkghXCVUZcwk4mW8IP5SbC/munwR7LV8IkTh3C6TJ5wvBfm8EH0yrCvzNXwku9vsEAHGLCBGwnwS5nLcLColLCNBxLwpEio8Lt/UnCfftiwdcYIMIBIn/CxugWwR7lh8L171nCXFB8wmkSQcJZVyPC1GqNwi4N7sHws57CgfDcwZIvicIzS6TCvVFdwgLOlcKSfA3CqUdwwn+oNME/1p/B7ssfwpW2k8I0aorCoY11wlX6hcKHWjjB5181wp1MB8I1K4bCCJq6wS1a7cFomBnCHReFwhcBZsIiwUTCUsE0wupG6sEN12bCbvNlwr61SsIkTG7Cb4KVwoMz+sFCvCbC3ROmwuRwlcIZ4bnBS3ygwtpEbcLVNJTBoSDeQfbR0cEiXpTCQpAkwkBHB8J2zZvCbj5Dwg==",
          "dtype": "f4"
         },
         "yaxis": "y"
        },
        {
         "hovertemplate": "<b>%{hovertext}</b><br><br>color=#0000ff<br>Isomap_1=%{x}<br>Isomap_2=%{y}<extra></extra>",
         "hovertext": [
          "Andrey Santos",
          "Valentin Atangana Edoa",
          "Cristian Cásseres Jr.",
          "Benjamin André",
          "Pierre Højbjerg",
          "Adrien Thomasson",
          "Pierre Ekwah Elimby",
          "Adrien Rabiot",
          "Hicham Boudaoui",
          "Vincent Sierro",
          "Téji Savanier",
          "Pedro Chirivella",
          "Elisha Owusu",
          "Corentin Tolisso",
          "Abdoulaye Touré",
          "Hugo Magnetti",
          "Douglas",
          "Andy Diouf",
          "Denis Zakaria",
          "Hamed Junior Traorè",
          "Azor Matusiwa",
          "Lamine Camara",
          "Johann Lepenant",
          "Vitinha",
          "Nemanja Matić",
          "Jean-Eudes Aholou",
          "Fabián Ruiz Peña",
          "Joris Chotard",
          "Haris Belkebla",
          "Jordan Ferri",
          "Benjamin Bouchouari",
          "Marshall Munetsi",
          "Rabby Nzingoula",
          "Neil El Aynaoui",
          "Jordan Veretout",
          "Pierre Lees-Melou",
          "Yassin Belkhdim",
          "Kévin Danois",
          "Amadou Koné",
          "André Gomes",
          "Florian Tardieu",
          "Tanner Tessmann",
          "Ngal'Ayel Mukau",
          "Jordan James",
          "Ayyoub Bouaddi",
          "Tanguy Ndombele",
          "Djaoui Cissé",
          "Rassoul Ndiaye",
          "Han-Noah Massengo",
          "Louis Mouton",
          "Aimen Moueffek",
          "Soungoutou Magassa",
          "Oussama Targhalline",
          "Junior Mwanga",
          "Baptiste Santamaria",
          "Mathis Amougou",
          "Seko Fofana",
          "Senny Mayulu",
          "Teddy Teuma",
          "Angel Gomes",
          "Assane Dioussé",
          "Glen Kamara",
          "Ismaël Bennacer",
          "Nampalys Mendy",
          "Mahamadou Diawara",
          "Maxence Caqueret",
          "Daler Kuzyaev",
          "John Joe",
          "Amine Harit"
         ],
         "legendgroup": "#0000ff",
         "marker": {
          "color": "#EF553B",
          "symbol": "circle"
         },
         "mode": "markers",
         "name": "#0000ff",
         "orientation": "v",
         "showlegend": true,
         "type": "scatter",
         "x": {
          "bdata": "FUn1QUTix0Ft5whCu2A3QeY0oEFoHcu/JyOPQepJnsAsFlBBg4SkQFk/i8H5f29B3u3VQcbGI8Ad1VVCJ/flQSIYAULiCtzAsaoyQt2SAcKxMhNCu2t2weHXiUHGe+FBdWGKQXianUGeO2hBhtXpQZfAv0FQmMdAMpnQQc8I/0DYtodBtnc9wPBeR0HH79dBN7W2QQe5I0H69SNCp6a9Qc1jOUFd3cFBeFn9QcP46kDjrbdBqjVdQQzd2UER3N9AUbYDQmzIekE0rhc9yheMQdcUKkLys+dAiOYeQhT4DELja/FAcsAtwuqZZsFd8ajBP3qtQVKOCUJwgqhB4X4aQu3x7UFYgpdB1ZWJQWDsy0HYBEbC",
          "dtype": "f4"
         },
         "xaxis": "x",
         "y": {
          "bdata": "0hJsQVTpg0B0WqpB/nVywGsg2sE0kqRAwDPTwbsQMkGhOm1BYU5xwcvYvMEkWO3BamsiQaEYt0A2yQpBvsGIwOBDpUDZJ+RBZFQNQaskPELRXRJBFYoywctYq0GgreTBxQn+wUUG50DXNvjBQB4rwROmiD8hZgDCOUvCv27SiUJugZZBs7FjwTMnoME6FI/BOliLQY6P5UDkklZBRaHYwW+l7cFwoqjBbMuVwFW7678NotRBswXBQe67ecEpcelAmx3QwB6mIkFhCvRBtZH7P33WoMC0So2/HeUTwEDCdT+E60pAxwo3QpZq2sF3GuhAtovBwWxmz0CWibDBrBOdwOxGyEGcmCpBzQ2bwLFjyUHDMvdB",
          "dtype": "f4"
         },
         "yaxis": "y"
        },
        {
         "hovertemplate": "<b>%{hovertext}</b><br><br>color=#ff00ff<br>Isomap_1=%{x}<br>Isomap_2=%{y}<extra></extra>",
         "hovertext": [
          "Himad Abdelli",
          "Mason Greenwood",
          "Zuriko Davitashvili",
          "Gaëtan Perrin",
          "Junya Ito",
          "Mahdi Camara",
          "Keito Nakamura",
          "Moses Simon",
          "Arnaud Kalimuendo",
          "Evann Guessand",
          "Maghnes Akliouche",
          "Habib Diarra",
          "Yann Gboho",
          "Lassine Sinayoko",
          "Ludovic Blas",
          "Takumi Minamino",
          "Sebastian Nanasi",
          "Yassine Kechta",
          "Rayan Cherki",
          "Josué Casimir",
          "Issa Soumaré",
          "Zakaria Aboukhlal",
          "Breel Embolo",
          "Florian Sotoca",
          "Félix Lemaréchal",
          "Hákon Arnar Haraldsson",
          "Eliesse Ben Seghir",
          "Désiré Doué",
          "Joshua King",
          "Lee Kang-in",
          "Mohamed Ali Cho",
          "Mathias Pereira Lage",
          "Frank Magri",
          "Tanguy Coulibaly",
          "Anass Zaroury",
          "Kamory Doumbia",
          "Sorba Thomas",
          "Osame Sahraoui",
          "Abdallah Sima",
          "Shavy Babicka",
          "Aleksandr Golovin",
          "Wahbi Khazri",
          "Musa Al-Taamari",
          "Badredine Bouanani",
          "Matias Fernandez-Pardo",
          "Sofiane Diop",
          "Jeremie Boga",
          "Ernest Nuamah",
          "Amine Gouiri",
          "Angelo Fulgini",
          "Khalil Fayad",
          "Rémy Cabella",
          "Edon Zhegrova",
          "Ado Onaiwu",
          "Thiago Almada",
          "Antoine Joujou",
          "Romain Faivre",
          "Mamadou Diakhon",
          "Zinedine Ferhat",
          "Albert Grønbaek",
          "Jonathan Rowe",
          "Sekou Mara",
          "Saïd Benrahma",
          "Augustine Boakye",
          "Mathieu Cafaro",
          "Emmanuel Sabbi",
          "Rémy Labeau Lascary",
          "Yaya Kader Fofana",
          "Marco Asensio",
          "Ben Old",
          "Tino Kadewere"
         ],
         "legendgroup": "#ff00ff",
         "marker": {
          "color": "#00cc96",
          "symbol": "circle"
         },
         "mode": "markers",
         "name": "#ff00ff",
         "orientation": "v",
         "showlegend": true,
         "type": "scatter",
         "x": {
          "bdata": "sgkswAIwb8LkaD/Cpqo4wpXlPcIqxxFBtbaTwcqDW8LF6gXCxooawignSML4nIzBIFYRwvxLFcKVljjCEcY0wUqLU8JnUABBixWDwvfv8MHZDJLBKZ/PwaGz9MFa3ivBf2S0wLqcN8IERVbCdhFVwkiXo8ERDHjCG3MuwntpEMLyz+bA6vALwQY5MMIDphxCjSQnwsVUO8JBS2HBBkK9wRDHxEBJ+ePBbKjtwV27MMJl+SDC3JszwsvzGMINy4PBnk93wiYOY8IrcSJCTA+AwpaGccIPyA7B5Fdowv4/BsISPwvC053twT3gVsJ1cxDC/2E/wjxHTMCYiXHCXymxwUpB7sF/bB7BVKGJwQYLgcG/4GfClRLfwbARGkA=",
          "dtype": "f4"
         },
         "xaxis": "x",
         "y": {
          "bdata": "RXrLQQ7AMkKekRpCF4SgQSfTbT+10nBBpnJBQoGSK0J7MsFCnR9jQiZ8Q0IQQBu/5NlRQgpYekKB4NNBrYoiQqfoH0Fm0EhBGvMXQtmhZUIu/lxCPM+XQqrOkEJS5YRBrv0EQrzo9z+zzCRCYvZkQvtCi0JlWvlBtXBLQpo9y0HzlJFCGzd7QnAwosBvO9pBTmHcvxG4VUJSwHRCk2x9Qj0TmkHvSJRB6oFkQuPgK0LsU0dCI8YEQivnY0KN9AVCiIlJQVrG9EHEWirBYg6WQfH59EF1U1RCqUjnQdftnkESLTBCuMp7Qrlfl8AsGwxCVHRvQlMBZ0LUOOZBy+Q8Qum+PEGnUm9CJ5IRPxCyysA99LZBkdjqQcN1GUI=",
          "dtype": "f4"
         },
         "yaxis": "y"
        },
        {
         "hovertemplate": "<b>%{hovertext}</b><br><br>color=#ff0000<br>Isomap_1=%{x}<br>Isomap_2=%{y}<extra></extra>",
         "hovertext": [
          "Matthis Abline",
          "Jonathan David",
          "Ludovic Ajorque",
          "Emanuel Emegha",
          "Bradley Barcola",
          "Alexandre Lacazette",
          "Farid El Melali",
          "Lucas Stassin",
          "Gaëtan Laborde",
          "Jim Allevinah",
          "Ousmane Dembélé",
          "Esteban Lepaul",
          "Oumar Diakité",
          "Malick Fofana",
          "M'Bala Nzola",
          "André Ayew",
          "Georges Mikautadze",
          "Romain Del Castillo",
          "Mostafa Mohamed",
          "Mika Biereth",
          "Arnaud Nordin",
          "Mama Samba Baldé",
          "Akor Adams",
          "Gonçalo Ramos",
          "Irvin Cardona",
          "Neal Maupay",
          "Ibrahima Niane",
          "Theo Bair",
          "Khvicha Kvaratskhelia",
          "Wesley Saïd",
          "Goduine Koyalipou",
          "Koka",
          "Ibrahim Sissoko",
          "George Ilenikhena",
          "Chuba Akpom",
          "Folarin Balogun",
          "Andy Delort",
          "Florian Ayé",
          "Elye Wahi",
          "Mohamed Meité",
          "Bamba Dieng"
         ],
         "legendgroup": "#ff0000",
         "marker": {
          "color": "#ab63fa",
          "symbol": "circle"
         },
         "mode": "markers",
         "name": "#ff0000",
         "orientation": "v",
         "showlegend": true,
         "type": "scatter",
         "x": {
          "bdata": "koKMwbt1IMLfl7NAMr4xwfjXX8KTmg3Cvb04wp2KtcEAGRvCX7SdwQgmgsIvNZ/AqNobweysQcKa/dbAKzkYQEXLMsLfw13CDTaJwfx0RcKsT/HBQP3JwQltwsEkFi3CBWqWwaomosESNRHCJTyFQJwNYsJWGOLALGeKP5D2CUFtsgTBP6iAwYV5IMIW7OY+w2kowBuTGEGz8oPB/rENwX+V78E=",
          "dtype": "f4"
         },
         "xaxis": "x",
         "y": {
          "bdata": "YFiFQuy+wUJ7LZRCgLalQkkdY0JPrMlC/2YnQhjLlkL2UrVCXIJdQgM6QUK1ZptCqEWLQvJxX0J2YrlCMLCSQu/usULiBZ0/jbGQQtElvUIUWw9CguN2QmaxqEK3Cb1CCkYtQq5BnUIIZ5dCMLagQjFVSUIpeI1ClYGpQnUJhkImiYNCrbeyQs+9p0K9ALxCn2KpQphNn0JRQbxC4eS4QtQMmkI=",
          "dtype": "f4"
         },
         "yaxis": "y"
        },
        {
         "hovertemplate": "<b>%{hovertext}</b><br><br>color=#00ffff<br>Isomap_1=%{x}<br>Isomap_2=%{y}<extra></extra>",
         "hovertext": [
          "Adrien Truffert",
          "Aron Dønnum",
          "Ismaël Doukouré",
          "Jean-Charles Castelletto",
          "Diego Moreira",
          "Dilane Bakwa",
          "Lorenz Assignon",
          "Jonathan Clauss",
          "Nicolas Cozza",
          "Warren Zaïre-Emery",
          "Geoffrey Kondogbia",
          "Melvin Bard",
          "João Neves",
          "Deiver Machado",
          "Pablo Rosario",
          "Valentin Rongier",
          "Ali Abdi",
          "Nhoa Sangui",
          "Valentín Barco",
          "Mory Gbane",
          "Ruben Aguilar",
          "Jaydee Canvot",
          "Edimilson Fernandes",
          "Warren Kamanzi",
          "Louis Leroux",
          "Tom Louchet",
          "Rayan Raveloson",
          "Jhoanner Chávez",
          "Fodé Ballo-Touré"
         ],
         "legendgroup": "#00ffff",
         "marker": {
          "color": "#FFA15A",
          "symbol": "circle"
         },
         "mode": "markers",
         "name": "#00ffff",
         "orientation": "v",
         "showlegend": true,
         "type": "scatter",
         "x": {
          "bdata": "SVH0wZCKJcIDj05Cik9uQiHyGsLzUk7CrfAQwn1exMHxX3/AO3DMQe0aFkL8vxXCrHENQcOEIMLBG79BnZ0BQq0npsFxD1XBJ4WfwXUT+EGk7avBpSveQfDfAUIgtG/BRZUIQbxan8HMENlBhSqnwbdg1cA=",
          "dtype": "f4"
         },
         "xaxis": "x",
         "y": {
          "bdata": "zqlPwb6xl8AsZmbCE/BPwoZaqUCUkAFCOwLIv/WnV8EPfpTBzTYIwgr8T8Ja0+vB9f4Bwj+LmMHXodXAF8ItwkwLbUBSbNLBfZlPwtNM/8EupiHCkukUwnB3v8EywnLBCyzuQZGU3j/s3I/BsBP5wF9AAMI=",
          "dtype": "f4"
         },
         "yaxis": "y"
        },
        {
         "hovertemplate": "<b>%{hovertext}</b><br><br>color=#ffff00<br>Isomap_1=%{x}<br>Isomap_2=%{y}<extra></extra>",
         "hovertext": [
          "Luis Henrique",
          "Loïc Nego",
          "Lilian Raolisoa",
          "Christopher Operi",
          "Mitchel Bakker",
          "Yanis Zouaoui",
          "Jacques Ekomie",
          "Krépin Diatta"
         ],
         "legendgroup": "#ffff00",
         "marker": {
          "color": "#19d3f3",
          "symbol": "circle"
         },
         "mode": "markers",
         "name": "#ffff00",
         "orientation": "v",
         "showlegend": true,
         "type": "scatter",
         "x": {
          "bdata": "AmQ8wuJRNsFv4UHCZH4Pws0gG8LrRfzBCnflQX286cE=",
          "dtype": "f4"
         },
         "xaxis": "x",
         "y": {
          "bdata": "ls0sQVqGpMHdrDDBZbyUwT5LnkBPaWvBD47ZQRnSI8I=",
          "dtype": "f4"
         },
         "yaxis": "y"
        }
       ],
       "layout": {
        "height": 900,
        "legend": {
         "title": {
          "text": "color"
         },
         "tracegroupgap": 0
        },
        "template": {
         "data": {
          "bar": [
           {
            "error_x": {
             "color": "#2a3f5f"
            },
            "error_y": {
             "color": "#2a3f5f"
            },
            "marker": {
             "line": {
              "color": "#E5ECF6",
              "width": 0.5
             },
             "pattern": {
              "fillmode": "overlay",
              "size": 10,
              "solidity": 0.2
             }
            },
            "type": "bar"
           }
          ],
          "barpolar": [
           {
            "marker": {
             "line": {
              "color": "#E5ECF6",
              "width": 0.5
             },
             "pattern": {
              "fillmode": "overlay",
              "size": 10,
              "solidity": 0.2
             }
            },
            "type": "barpolar"
           }
          ],
          "carpet": [
           {
            "aaxis": {
             "endlinecolor": "#2a3f5f",
             "gridcolor": "white",
             "linecolor": "white",
             "minorgridcolor": "white",
             "startlinecolor": "#2a3f5f"
            },
            "baxis": {
             "endlinecolor": "#2a3f5f",
             "gridcolor": "white",
             "linecolor": "white",
             "minorgridcolor": "white",
             "startlinecolor": "#2a3f5f"
            },
            "type": "carpet"
           }
          ],
          "choropleth": [
           {
            "colorbar": {
             "outlinewidth": 0,
             "ticks": ""
            },
            "type": "choropleth"
           }
          ],
          "contour": [
           {
            "colorbar": {
             "outlinewidth": 0,
             "ticks": ""
            },
            "colorscale": [
             [
              0,
              "#0d0887"
             ],
             [
              0.1111111111111111,
              "#46039f"
             ],
             [
              0.2222222222222222,
              "#7201a8"
             ],
             [
              0.3333333333333333,
              "#9c179e"
             ],
             [
              0.4444444444444444,
              "#bd3786"
             ],
             [
              0.5555555555555556,
              "#d8576b"
             ],
             [
              0.6666666666666666,
              "#ed7953"
             ],
             [
              0.7777777777777778,
              "#fb9f3a"
             ],
             [
              0.8888888888888888,
              "#fdca26"
             ],
             [
              1,
              "#f0f921"
             ]
            ],
            "type": "contour"
           }
          ],
          "contourcarpet": [
           {
            "colorbar": {
             "outlinewidth": 0,
             "ticks": ""
            },
            "type": "contourcarpet"
           }
          ],
          "heatmap": [
           {
            "colorbar": {
             "outlinewidth": 0,
             "ticks": ""
            },
            "colorscale": [
             [
              0,
              "#0d0887"
             ],
             [
              0.1111111111111111,
              "#46039f"
             ],
             [
              0.2222222222222222,
              "#7201a8"
             ],
             [
              0.3333333333333333,
              "#9c179e"
             ],
             [
              0.4444444444444444,
              "#bd3786"
             ],
             [
              0.5555555555555556,
              "#d8576b"
             ],
             [
              0.6666666666666666,
              "#ed7953"
             ],
             [
              0.7777777777777778,
              "#fb9f3a"
             ],
             [
              0.8888888888888888,
              "#fdca26"
             ],
             [
              1,
              "#f0f921"
             ]
            ],
            "type": "heatmap"
           }
          ],
          "histogram": [
           {
            "marker": {
             "pattern": {
              "fillmode": "overlay",
              "size": 10,
              "solidity": 0.2
             }
            },
            "type": "histogram"
           }
          ],
          "histogram2d": [
           {
            "colorbar": {
             "outlinewidth": 0,
             "ticks": ""
            },
            "colorscale": [
             [
              0,
              "#0d0887"
             ],
             [
              0.1111111111111111,
              "#46039f"
             ],
             [
              0.2222222222222222,
              "#7201a8"
             ],
             [
              0.3333333333333333,
              "#9c179e"
             ],
             [
              0.4444444444444444,
              "#bd3786"
             ],
             [
              0.5555555555555556,
              "#d8576b"
             ],
             [
              0.6666666666666666,
              "#ed7953"
             ],
             [
              0.7777777777777778,
              "#fb9f3a"
             ],
             [
              0.8888888888888888,
              "#fdca26"
             ],
             [
              1,
              "#f0f921"
             ]
            ],
            "type": "histogram2d"
           }
          ],
          "histogram2dcontour": [
           {
            "colorbar": {
             "outlinewidth": 0,
             "ticks": ""
            },
            "colorscale": [
             [
              0,
              "#0d0887"
             ],
             [
              0.1111111111111111,
              "#46039f"
             ],
             [
              0.2222222222222222,
              "#7201a8"
             ],
             [
              0.3333333333333333,
              "#9c179e"
             ],
             [
              0.4444444444444444,
              "#bd3786"
             ],
             [
              0.5555555555555556,
              "#d8576b"
             ],
             [
              0.6666666666666666,
              "#ed7953"
             ],
             [
              0.7777777777777778,
              "#fb9f3a"
             ],
             [
              0.8888888888888888,
              "#fdca26"
             ],
             [
              1,
              "#f0f921"
             ]
            ],
            "type": "histogram2dcontour"
           }
          ],
          "mesh3d": [
           {
            "colorbar": {
             "outlinewidth": 0,
             "ticks": ""
            },
            "type": "mesh3d"
           }
          ],
          "parcoords": [
           {
            "line": {
             "colorbar": {
              "outlinewidth": 0,
              "ticks": ""
             }
            },
            "type": "parcoords"
           }
          ],
          "pie": [
           {
            "automargin": true,
            "type": "pie"
           }
          ],
          "scatter": [
           {
            "fillpattern": {
             "fillmode": "overlay",
             "size": 10,
             "solidity": 0.2
            },
            "type": "scatter"
           }
          ],
          "scatter3d": [
           {
            "line": {
             "colorbar": {
              "outlinewidth": 0,
              "ticks": ""
             }
            },
            "marker": {
             "colorbar": {
              "outlinewidth": 0,
              "ticks": ""
             }
            },
            "type": "scatter3d"
           }
          ],
          "scattercarpet": [
           {
            "marker": {
             "colorbar": {
              "outlinewidth": 0,
              "ticks": ""
             }
            },
            "type": "scattercarpet"
           }
          ],
          "scattergeo": [
           {
            "marker": {
             "colorbar": {
              "outlinewidth": 0,
              "ticks": ""
             }
            },
            "type": "scattergeo"
           }
          ],
          "scattergl": [
           {
            "marker": {
             "colorbar": {
              "outlinewidth": 0,
              "ticks": ""
             }
            },
            "type": "scattergl"
           }
          ],
          "scattermap": [
           {
            "marker": {
             "colorbar": {
              "outlinewidth": 0,
              "ticks": ""
             }
            },
            "type": "scattermap"
           }
          ],
          "scattermapbox": [
           {
            "marker": {
             "colorbar": {
              "outlinewidth": 0,
              "ticks": ""
             }
            },
            "type": "scattermapbox"
           }
          ],
          "scatterpolar": [
           {
            "marker": {
             "colorbar": {
              "outlinewidth": 0,
              "ticks": ""
             }
            },
            "type": "scatterpolar"
           }
          ],
          "scatterpolargl": [
           {
            "marker": {
             "colorbar": {
              "outlinewidth": 0,
              "ticks": ""
             }
            },
            "type": "scatterpolargl"
           }
          ],
          "scatterternary": [
           {
            "marker": {
             "colorbar": {
              "outlinewidth": 0,
              "ticks": ""
             }
            },
            "type": "scatterternary"
           }
          ],
          "surface": [
           {
            "colorbar": {
             "outlinewidth": 0,
             "ticks": ""
            },
            "colorscale": [
             [
              0,
              "#0d0887"
             ],
             [
              0.1111111111111111,
              "#46039f"
             ],
             [
              0.2222222222222222,
              "#7201a8"
             ],
             [
              0.3333333333333333,
              "#9c179e"
             ],
             [
              0.4444444444444444,
              "#bd3786"
             ],
             [
              0.5555555555555556,
              "#d8576b"
             ],
             [
              0.6666666666666666,
              "#ed7953"
             ],
             [
              0.7777777777777778,
              "#fb9f3a"
             ],
             [
              0.8888888888888888,
              "#fdca26"
             ],
             [
              1,
              "#f0f921"
             ]
            ],
            "type": "surface"
           }
          ],
          "table": [
           {
            "cells": {
             "fill": {
              "color": "#EBF0F8"
             },
             "line": {
              "color": "white"
             }
            },
            "header": {
             "fill": {
              "color": "#C8D4E3"
             },
             "line": {
              "color": "white"
             }
            },
            "type": "table"
           }
          ]
         },
         "layout": {
          "annotationdefaults": {
           "arrowcolor": "#2a3f5f",
           "arrowhead": 0,
           "arrowwidth": 1
          },
          "autotypenumbers": "strict",
          "coloraxis": {
           "colorbar": {
            "outlinewidth": 0,
            "ticks": ""
           }
          },
          "colorscale": {
           "diverging": [
            [
             0,
             "#8e0152"
            ],
            [
             0.1,
             "#c51b7d"
            ],
            [
             0.2,
             "#de77ae"
            ],
            [
             0.3,
             "#f1b6da"
            ],
            [
             0.4,
             "#fde0ef"
            ],
            [
             0.5,
             "#f7f7f7"
            ],
            [
             0.6,
             "#e6f5d0"
            ],
            [
             0.7,
             "#b8e186"
            ],
            [
             0.8,
             "#7fbc41"
            ],
            [
             0.9,
             "#4d9221"
            ],
            [
             1,
             "#276419"
            ]
           ],
           "sequential": [
            [
             0,
             "#0d0887"
            ],
            [
             0.1111111111111111,
             "#46039f"
            ],
            [
             0.2222222222222222,
             "#7201a8"
            ],
            [
             0.3333333333333333,
             "#9c179e"
            ],
            [
             0.4444444444444444,
             "#bd3786"
            ],
            [
             0.5555555555555556,
             "#d8576b"
            ],
            [
             0.6666666666666666,
             "#ed7953"
            ],
            [
             0.7777777777777778,
             "#fb9f3a"
            ],
            [
             0.8888888888888888,
             "#fdca26"
            ],
            [
             1,
             "#f0f921"
            ]
           ],
           "sequentialminus": [
            [
             0,
             "#0d0887"
            ],
            [
             0.1111111111111111,
             "#46039f"
            ],
            [
             0.2222222222222222,
             "#7201a8"
            ],
            [
             0.3333333333333333,
             "#9c179e"
            ],
            [
             0.4444444444444444,
             "#bd3786"
            ],
            [
             0.5555555555555556,
             "#d8576b"
            ],
            [
             0.6666666666666666,
             "#ed7953"
            ],
            [
             0.7777777777777778,
             "#fb9f3a"
            ],
            [
             0.8888888888888888,
             "#fdca26"
            ],
            [
             1,
             "#f0f921"
            ]
           ]
          },
          "colorway": [
           "#636efa",
           "#EF553B",
           "#00cc96",
           "#ab63fa",
           "#FFA15A",
           "#19d3f3",
           "#FF6692",
           "#B6E880",
           "#FF97FF",
           "#FECB52"
          ],
          "font": {
           "color": "#2a3f5f"
          },
          "geo": {
           "bgcolor": "white",
           "lakecolor": "white",
           "landcolor": "#E5ECF6",
           "showlakes": true,
           "showland": true,
           "subunitcolor": "white"
          },
          "hoverlabel": {
           "align": "left"
          },
          "hovermode": "closest",
          "mapbox": {
           "style": "light"
          },
          "paper_bgcolor": "white",
          "plot_bgcolor": "#E5ECF6",
          "polar": {
           "angularaxis": {
            "gridcolor": "white",
            "linecolor": "white",
            "ticks": ""
           },
           "bgcolor": "#E5ECF6",
           "radialaxis": {
            "gridcolor": "white",
            "linecolor": "white",
            "ticks": ""
           }
          },
          "scene": {
           "xaxis": {
            "backgroundcolor": "#E5ECF6",
            "gridcolor": "white",
            "gridwidth": 2,
            "linecolor": "white",
            "showbackground": true,
            "ticks": "",
            "zerolinecolor": "white"
           },
           "yaxis": {
            "backgroundcolor": "#E5ECF6",
            "gridcolor": "white",
            "gridwidth": 2,
            "linecolor": "white",
            "showbackground": true,
            "ticks": "",
            "zerolinecolor": "white"
           },
           "zaxis": {
            "backgroundcolor": "#E5ECF6",
            "gridcolor": "white",
            "gridwidth": 2,
            "linecolor": "white",
            "showbackground": true,
            "ticks": "",
            "zerolinecolor": "white"
           }
          },
          "shapedefaults": {
           "line": {
            "color": "#2a3f5f"
           }
          },
          "ternary": {
           "aaxis": {
            "gridcolor": "white",
            "linecolor": "white",
            "ticks": ""
           },
           "baxis": {
            "gridcolor": "white",
            "linecolor": "white",
            "ticks": ""
           },
           "bgcolor": "#E5ECF6",
           "caxis": {
            "gridcolor": "white",
            "linecolor": "white",
            "ticks": ""
           }
          },
          "title": {
           "x": 0.05
          },
          "xaxis": {
           "automargin": true,
           "gridcolor": "white",
           "linecolor": "white",
           "ticks": "",
           "title": {
            "standoff": 15
           },
           "zerolinecolor": "white",
           "zerolinewidth": 2
          },
          "yaxis": {
           "automargin": true,
           "gridcolor": "white",
           "linecolor": "white",
           "ticks": "",
           "title": {
            "standoff": 15
           },
           "zerolinecolor": "white",
           "zerolinewidth": 2
          }
         }
        },
        "title": {
         "text": "t-SNE – Per90min data"
        },
        "width": 1100,
        "xaxis": {
         "anchor": "y",
         "domain": [
          0,
          1
         ],
         "title": {
          "text": "Isomap_1"
         }
        },
        "yaxis": {
         "anchor": "x",
         "domain": [
          0,
          1
         ],
         "title": {
          "text": "Isomap_2"
         }
        }
       }
      },
      "image/png": "[encoded data removed]"
     },
     "metadata": {},
     "output_type": "display_data"
    },
    {
     "data": {
      "application/vnd.plotly.v1+json": {
       "config": {
        "plotlyServerURL": "https://plot.ly"
       },
       "data": [
        {
         "hovertemplate": "<b>%{hovertext}</b><br><br>color=#00ff00<br>Isomap_1=%{x}<br>Isomap_2=%{y}<extra></extra>",
         "hovertext": [
          "Jordan Lefort",
          "Gautier Lloris",
          "Bafodé Diakité",
          "Moussa Niakhate",
          "Guela Doué",
          "Alexsandro Ribeiro",
          "Kenny Lala",
          "Florent Hanin",
          "Jubal",
          "Léo Pétrot",
          "Charlie Cresswell",
          "Facundo Medina",
          "Sergio Akieme",
          "Mark McKenzie",
          "Clément Akpa",
          "Michael Amir Murillo",
          "Brendan Chardonnet",
          "Thilo Kehrer",
          "Clinton Mata",
          "Mamadou Sarr",
          "Etienne Youte Kinkoue",
          "Mickael Nade",
          "Gideon Mensah",
          "Leonardo Balerdi",
          "Moïse Bombito",
          "Cédric Kipré",
          "Kelvin Amian",
          "Gabriel Suazo",
          "Modibo Sagnan",
          "Willian Pacho",
          "Dennis Appiah",
          "Ki-Jana Hoever",
          "Jonathan Gradit",
          "Djibril Sidibé",
          "Wilfried Singo",
          "Achraf Hakimi",
          "Vanderson",
          "Carlens Arcus",
          "Nicolas Pallois",
          "Dylan Batubinsika",
          "Lucas Beraldo",
          "Ainsley Maitland-Niles",
          "Aurélio Buta",
          "Dante",
          "Sinaly Diomande",
          "Youssouf Ndayishimiye",
          "Caio Henrique Oliveira Silva",
          "Thomas Meunier",
          "Nicolás Tagliafico",
          "Enzo Tchato",
          "Becir Omeragic",
          "Gabriel Gudmundsson",
          "Aïssa Mandi",
          "Marquinhos",
          "Abdoulaye Niakhate Ndiaye",
          "Joseph Okumu",
          "Hans Hateboer",
          "Massadio Haïdara",
          "Nuno Mendes",
          "Gabriel Osho",
          "Quentin Merlin",
          "Duje Ćaleta-Car",
          "Nathan Zeze",
          "Abdoulaye Bamba",
          "Christian Mawissa",
          "Christopher Wooh",
          "Derek Cornelius",
          "Przemysław Frankowski",
          "Malang Sarr",
          "Julien Le Cardinal",
          "Emmanuel Biumla",
          "Emmanuel Agbadou",
          "Arouna Sangante",
          "Lilian Brassier",
          "Falaye Sacko",
          "Leo Skiri Østigård",
          "Issiaga Sylla",
          "Timothee Pembele",
          "Abner",
          "Kevin Danso",
          "Yunis Abdelhamid",
          "Mohammed Salisu",
          "Saidou Sow",
          "Théo Sainte-Luce",
          "Paul Joly",
          "Abdukodir Khusanov",
          "Anthony Rouault",
          "Sael Kumbedi",
          "Marcus Coco",
          "Abakar Sylla",
          "Yael Mouanga",
          "Ulisses Garcia",
          "Jérémy Jacquet",
          "Ismaily",
          "Hiroki Sekine",
          "Lucas Hernández",
          "Mohamed Abdelmoneim",
          "Antoine Mendy",
          "Alidu Seidu",
          "Yoann Salmier",
          "Yvann Macon",
          "Jordan Amavi",
          "Maxime Bernauer",
          "Boubakar Kouyaté",
          "Lucas Mincarelli",
          "Mikayil Ngor Faye",
          "Abdulai Juma Bah",
          "Pol Lirola",
          "Luck Zogbé",
          "Rasmus Nicolaisen",
          "Nikola Maksimović",
          "Pierre Cornud",
          "Jordan Teze",
          "Andrew Omobamidele",
          "Jean-Kevin Duverne"
         ],
         "legendgroup": "#00ff00",
         "marker": {
          "color": "#636efa",
          "symbol": "circle"
         },
         "mode": "markers",
         "name": "#00ff00",
         "orientation": "v",
         "showlegend": true,
         "type": "scatter",
         "x": {
          "bdata": "Fy6nQeI41kFQ5VzBH6k2Qd7PBMI2RaPB7NmwQlZxoEK5wXhB3F6eQnqHhkHCaJ/BqUdhQmbCbEEGfchAfesBwoYRkUEJ/pDB4l/iwdrSHkE/1XdC0iUUQrh6okJ91AXC7LiaQSiWyUF2rYJCpw7JQeatEUIeZuHBCCanQhe0dkL4Ae3AIduWQpw5wsHw01bCm51HQoJljELE0M5BugZlQpLECsIpQCZC7UCEQjFai8GjQQtCR7fuwLOpYEFdlq1BwtPVQV9HiEKjH4FC0mDbQZ1klMCixhHCZ0WYQfwEHUBbelTBj8rBQjeHfMIhVMVCBTXgQOetYUGLSRpC5mBeQhnnHcHQ5yxCUezJwZOpf0FWhZjAPWxnQiMwBEL1RNrA2iuxwIGMLsFpOqxC1mOUQB+0okJ2hI5C3dP7QSCepj49C1lCM62KwYxddUK+lJRCGt9eQsKkHEJx+D4/a4T5QWiPpUK4sx1CDQdjQuF2IcKRrRbB9o3lQV5TMEIg6jXCCF8PwRSHfkJ/RZhCy0svQgGQLkLxS7pCmDhhQffNNkK7/61CobMNwmlTLkIS+HVC4N1kQvkzVUL42zxC79fEQvCtgkJQ86dBEBV4Qg==",
          "dtype": "f4"
         },
         "xaxis": "x",
         "y": {
          "bdata": "iajMwi8MrsIZyAHDH/HwwjU0h8LfqfTC5JuewTHt6cC0Ks7CoxUCPYjJq8KFf5/CyKCHQYTtrcL86qfCPEiDwmfhucKVk/bCezamwk1u58ICp7bCySWSwsxIesExM9rC55fwwidE38IO5sxBAF5bQaNWssKHNNjCU/McwRsKokDlq6vCGuejwWstrsLnazfCcoM9wSx8EMBbE6zCWVypwtE078J5GgrAGVRdQNfRscLaga3CSmwCw+jHDEGNOq7BSz4dwn6AKkFP/qTCjGdzQT2FfsK+NAPDYySVwqqy+sL/epbCHr/MQHyZHcISeJrCwbYVQdH0yMLUN9fCFX7HwjHCt8LXbdTCjD+8wiKGk8A2etzCdA/Two7ay8KeqQXDItAQw8Il8MLKv8FARrm9wqBYnUG/1LJBozonQLpus8LMi4rC7izSwu2xk8LCQA5CYETWwVPy/ML5DdXCjPv+P5C4REFoQbzCLZWzwv57y8FqBYvCSgbGwU/eg0FY+tXCYCe2wiTlBMKszybCEQOZwkx40sA67XnBB872wtuUmMIRsJ5BC6qzwrE89cJuIdPCQ2MIwnLk28LoTdLC1xFxQAnckMCh4ubCy/OcwQ==",
          "dtype": "f4"
         },
         "yaxis": "y"
        },
        {
         "hovertemplate": "<b>%{hovertext}</b><br><br>color=#0000ff<br>Isomap_1=%{x}<br>Isomap_2=%{y}<extra></extra>",
         "hovertext": [
          "Andrey Santos",
          "Valentin Atangana Edoa",
          "Cristian Cásseres Jr.",
          "Benjamin André",
          "Pierre Højbjerg",
          "Adrien Thomasson",
          "Pierre Ekwah Elimby",
          "Adrien Rabiot",
          "Hicham Boudaoui",
          "Vincent Sierro",
          "Téji Savanier",
          "Pedro Chirivella",
          "Elisha Owusu",
          "Corentin Tolisso",
          "Abdoulaye Touré",
          "Hugo Magnetti",
          "Douglas",
          "Andy Diouf",
          "Denis Zakaria",
          "Hamed Junior Traorè",
          "Azor Matusiwa",
          "Lamine Camara",
          "Johann Lepenant",
          "Vitinha",
          "Nemanja Matić",
          "Jean-Eudes Aholou",
          "Fabián Ruiz Peña",
          "Joris Chotard",
          "Haris Belkebla",
          "Jordan Ferri",
          "Benjamin Bouchouari",
          "Marshall Munetsi",
          "Rabby Nzingoula",
          "Neil El Aynaoui",
          "Jordan Veretout",
          "Pierre Lees-Melou",
          "Yassin Belkhdim",
          "Kévin Danois",
          "Amadou Koné",
          "André Gomes",
          "Florian Tardieu",
          "Tanner Tessmann",
          "Ngal'Ayel Mukau",
          "Jordan James",
          "Ayyoub Bouaddi",
          "Tanguy Ndombele",
          "Djaoui Cissé",
          "Rassoul Ndiaye",
          "Han-Noah Massengo",
          "Louis Mouton",
          "Aimen Moueffek",
          "Soungoutou Magassa",
          "Oussama Targhalline",
          "Junior Mwanga",
          "Baptiste Santamaria",
          "Mathis Amougou",
          "Seko Fofana",
          "Senny Mayulu",
          "Teddy Teuma",
          "Angel Gomes",
          "Assane Dioussé",
          "Glen Kamara",
          "Ismaël Bennacer",
          "Nampalys Mendy",
          "Mahamadou Diawara",
          "Maxence Caqueret",
          "Daler Kuzyaev",
          "John Joe",
          "Amine Harit"
         ],
         "legendgroup": "#0000ff",
         "marker": {
          "color": "#EF553B",
          "symbol": "circle"
         },
         "mode": "markers",
         "name": "#0000ff",
         "orientation": "v",
         "showlegend": true,
         "type": "scatter",
         "x": {
          "bdata": "3T3fwAppJkEyzStCPvMBQkESU8I2derBxEoVQRyWHMKEdmbB0yoHwR2FfsHW0AfBZbXxQAd5C8Jp7nHBKOg7Qd3iL8CU8brAMv+4wXbvB8LZ1yfBrMXQQV9yr0B7H4jC5p+BwS8+aEE+WF3C5LSoQTxiIUH+eum/3iYfQWXdH8A8H7NBOGf+QcQhOcHjcaDB+epHQM97E0I5+tQ/ganHwS+FgsF2JZTA8eZoQTDgLELzA9dAkufLwb3PAcH3yHdB33Q6wG3qGEJEecZAZmgKQlcBC0Lbw1pCmaa5QEI8w0E9pTfCZQxsws/6WMEVxh/COO5PQAK1nMFwS2LCsYFhwes9YUGerMBBmvm3QkY/D0L02IPC",
          "dtype": "f4"
         },
         "xaxis": "x",
         "y": {
          "bdata": "XdwcwtXRsL9odGBBCj1IwjR2cMK22fnAgiDIwcAVpMH3eZZBbSvSwbMoP8GZEUPCJVwtQcpzjsFJYIXBVsyGweoZ6MFPg55BkzLmwamBmUK1JwbCxhZFQZKwf0H1c2zCvuVTwvROC0FYITjCgL6uwTbrvsExpybCzRJrwW3E2EIZEptBj/LLQXo0EcJCwBrCN/+VQWKz2cErPxnC02w+woexJMJjijHCGTsOws42kcEYwR/B3wSbQUZyH8KBChFCBDT3wBIQG8K+ghBBhslGwrPSdcGo+G3BeQZdwv2b5cB6dQbCVEowQWuoisGjZRRAzdlSwgBuHsIO5YzCq1kjwRUuqcFK9gPCNMcOQrUQ0UGBn6NB",
          "dtype": "f4"
         },
         "yaxis": "y"
        },
        {
         "hovertemplate": "<b>%{hovertext}</b><br><br>color=#ff00ff<br>Isomap_1=%{x}<br>Isomap_2=%{y}<extra></extra>",
         "hovertext": [
          "Himad Abdelli",
          "Mason Greenwood",
          "Zuriko Davitashvili",
          "Gaëtan Perrin",
          "Junya Ito",
          "Mahdi Camara",
          "Keito Nakamura",
          "Moses Simon",
          "Arnaud Kalimuendo",
          "Evann Guessand",
          "Maghnes Akliouche",
          "Habib Diarra",
          "Yann Gboho",
          "Lassine Sinayoko",
          "Ludovic Blas",
          "Takumi Minamino",
          "Sebastian Nanasi",
          "Yassine Kechta",
          "Rayan Cherki",
          "Josué Casimir",
          "Issa Soumaré",
          "Zakaria Aboukhlal",
          "Breel Embolo",
          "Florian Sotoca",
          "Félix Lemaréchal",
          "Hákon Arnar Haraldsson",
          "Eliesse Ben Seghir",
          "Désiré Doué",
          "Joshua King",
          "Lee Kang-in",
          "Mohamed Ali Cho",
          "Mathias Pereira Lage",
          "Frank Magri",
          "Tanguy Coulibaly",
          "Anass Zaroury",
          "Kamory Doumbia",
          "Sorba Thomas",
          "Osame Sahraoui",
          "Abdallah Sima",
          "Shavy Babicka",
          "Aleksandr Golovin",
          "Wahbi Khazri",
          "Musa Al-Taamari",
          "Badredine Bouanani",
          "Matias Fernandez-Pardo",
          "Sofiane Diop",
          "Jeremie Boga",
          "Ernest Nuamah",
          "Amine Gouiri",
          "Angelo Fulgini",
          "Khalil Fayad",
          "Rémy Cabella",
          "Edon Zhegrova",
          "Ado Onaiwu",
          "Thiago Almada",
          "Antoine Joujou",
          "Romain Faivre",
          "Mamadou Diakhon",
          "Zinedine Ferhat",
          "Albert Grønbaek",
          "Jonathan Rowe",
          "Sekou Mara",
          "Saïd Benrahma",
          "Augustine Boakye",
          "Mathieu Cafaro",
          "Emmanuel Sabbi",
          "Rémy Labeau Lascary",
          "Yaya Kader Fofana",
          "Marco Asensio",
          "Ben Old",
          "Tino Kadewere"
         ],
         "legendgroup": "#ff00ff",
         "marker": {
          "color": "#00cc96",
          "symbol": "circle"
         },
         "mode": "markers",
         "name": "#ff00ff",
         "orientation": "v",
         "showlegend": true,
         "type": "scatter",
         "x": {
          "bdata": "wKl4wHhHhMK48RDC9YXtwSsEgsEivXTAzjrhwVu1NcI0ll3CgZ0vwi0MZMKdHNvB8RA1wg6ID8KD593BmSswQHJqPsJ3TxJBV3Ghwkj91sHfxyPBoXpRwS97ksDhMTpBF7rZwOdahcEbLV7CcwuowpfBZMFB6JjCWKSEQh4jacEudJLBZpM1Qb5Fj8GnKVNCzGcbwZocYcKe0GDBpcV5wcNVhcHrURRCl19Ewot2ZsL5MmfCHudJwnI8I8KCAzLBdoNLwshbPsKb9MdBTgoFwksxC8L/d0nBsB6OwtMmz0CkdVLCYC9jwpdDgsA5GJfB3I+kwivSnEFatxfC7Yi+wUpp7UGY4IhBwVbdwSSDicG0iC7CYBYhQa0QGsE=",
          "dtype": "f4"
         },
         "xaxis": "x",
         "y": {
          "bdata": "rirfQLREKkLhTJRCoUlqQvtcCkLfI9dBdr+qQhM8i0JBaOxCdw2ZQqJmv0Gap6dA+JV+Qr3CqUL8SGRCBja/Qu47S0JQC/lBOuqKQZjwrkIloapCfX/iQmlo00KhcaxCnMbaQZSX8kH1hNlBjWlzQf+N0UKw0B5B2hD5wts4jEJm9OVCAcOfQnmdtEH8c7BBB8vcQeCQAUL9UK9C1EawQtY8+0B97JJCEDSKQtrbFkKSWpFCFS7/QeUqTULDshFCnu57QoUJlEHVAAfBNQ9CQMx2FkIv4ZhCQ+zjQNb+PEKs0EZC8yxmQpgyF0KHuJ9CiHwgQlBKuEJ4QCtC/x6LQmbxikKu7aVCRPQ1QmJDGEKVHqtBCy2DQjm6eEI=",
          "dtype": "f4"
         },
         "yaxis": "y"
        },
        {
         "hovertemplate": "<b>%{hovertext}</b><br><br>color=#ff0000<br>Isomap_1=%{x}<br>Isomap_2=%{y}<extra></extra>",
         "hovertext": [
          "Matthis Abline",
          "Jonathan David",
          "Ludovic Ajorque",
          "Emanuel Emegha",
          "Bradley Barcola",
          "Alexandre Lacazette",
          "Farid El Melali",
          "Lucas Stassin",
          "Gaëtan Laborde",
          "Jim Allevinah",
          "Ousmane Dembélé",
          "Esteban Lepaul",
          "Oumar Diakité",
          "Malick Fofana",
          "M'Bala Nzola",
          "André Ayew",
          "Georges Mikautadze",
          "Romain Del Castillo",
          "Mostafa Mohamed",
          "Mika Biereth",
          "Arnaud Nordin",
          "Mama Samba Baldé",
          "Akor Adams",
          "Gonçalo Ramos",
          "Irvin Cardona",
          "Neal Maupay",
          "Ibrahima Niane",
          "Theo Bair",
          "Khvicha Kvaratskhelia",
          "Wesley Saïd",
          "Goduine Koyalipou",
          "Koka",
          "Ibrahim Sissoko",
          "George Ilenikhena",
          "Chuba Akpom",
          "Folarin Balogun",
          "Andy Delort",
          "Florian Ayé",
          "Elye Wahi",
          "Mohamed Meité",
          "Bamba Dieng"
         ],
         "legendgroup": "#ff0000",
         "marker": {
          "color": "#ab63fa",
          "symbol": "circle"
         },
         "mode": "markers",
         "name": "#ff0000",
         "orientation": "v",
         "showlegend": true,
         "type": "scatter",
         "x": {
          "bdata": "jZqkwaF2NsLX51lAxoAywsfdi8KhczbCI7W/wZ7v2sE08wvC+zEAwsEgocJJArTBRmH0wVEHd8KNXhvCVVtbwZNcKcIZAZbB3ne3wO/LJ8LC1EI98rotwmGI/D7dMPjB8QAFwupm+sEP1d3ApQjWPtVro8KRS5+/7zU8wmh3AMFuVgvCQn0FwiULnsEcIU7CyIcLQXhvZ0FSsQzCECUDwh09X8E=",
          "dtype": "f4"
         },
         "xaxis": "x",
         "y": {
          "bdata": "Wxm+QhCf7EKREuJC1GoLQ/l5GEIbnwJDioODQsOptUI4TfNCLZvBQttCB0J+WspCms/VQrp9SELRmfZC/1LnQl5B1kK09ENCmpDXQpJF+0K9AZNCuu3KQnat6kI+vQlDX7uhQlqEp0K7G/VC1wv7QqKytUGNv71CTMoBQ9TwC0OUNeNCJEcKQ5N79EKga+9CHh4CQ3uq50JFWRVDCjEDQ97l/EI=",
          "dtype": "f4"
         },
         "yaxis": "y"
        },
        {
         "hovertemplate": "<b>%{hovertext}</b><br><br>color=#00ffff<br>Isomap_1=%{x}<br>Isomap_2=%{y}<extra></extra>",
         "hovertext": [
          "Adrien Truffert",
          "Aron Dønnum",
          "Ismaël Doukouré",
          "Jean-Charles Castelletto",
          "Diego Moreira",
          "Dilane Bakwa",
          "Lorenz Assignon",
          "Jonathan Clauss",
          "Nicolas Cozza",
          "Warren Zaïre-Emery",
          "Geoffrey Kondogbia",
          "Melvin Bard",
          "João Neves",
          "Deiver Machado",
          "Pablo Rosario",
          "Valentin Rongier",
          "Ali Abdi",
          "Nhoa Sangui",
          "Valentín Barco",
          "Mory Gbane",
          "Ruben Aguilar",
          "Jaydee Canvot",
          "Edimilson Fernandes",
          "Warren Kamanzi",
          "Louis Leroux",
          "Tom Louchet",
          "Rayan Raveloson",
          "Jhoanner Chávez",
          "Fodé Ballo-Touré"
         ],
         "legendgroup": "#00ffff",
         "marker": {
          "color": "#FFA15A",
          "symbol": "circle"
         },
         "mode": "markers",
         "name": "#00ffff",
         "orientation": "v",
         "showlegend": true,
         "type": "scatter",
         "x": {
          "bdata": "/78EQtR3r0HxSRDAjMyKQkyRg0BRixLCIE43QX8wYEHANmlCCp0Ywhd2JsKLoWpCkE4zwq7NHUIW1cjA7V80wszCKUIqSWpCODeHQstDFEIZbt5BfinXQZjuGkL/y5xBQhMOwXwyRUJ1btdBUu8zQkXxh0I=",
          "dtype": "f4"
         },
         "xaxis": "x",
         "y": {
          "bdata": "9RnGQSGq/UGTGAjDHVXOwiUWAEIKQEFCoQrOQcAZREEknghCMfNVwhroqsIUgovApBEvwguU2UGh4UvBgyWHwsO1gUFc0jlA51sPwtJ7fMK07E3BmptvwhE8R8JykWxBnS8iQhYuNUEV0QrCc7EJQqxdl0E=",
          "dtype": "f4"
         },
         "yaxis": "y"
        },
        {
         "hovertemplate": "<b>%{hovertext}</b><br><br>color=#ffff00<br>Isomap_1=%{x}<br>Isomap_2=%{y}<extra></extra>",
         "hovertext": [
          "Luis Henrique",
          "Loïc Nego",
          "Lilian Raolisoa",
          "Christopher Operi",
          "Mitchel Bakker",
          "Yanis Zouaoui",
          "Jacques Ekomie",
          "Krépin Diatta"
         ],
         "legendgroup": "#ffff00",
         "marker": {
          "color": "#19d3f3",
          "symbol": "circle"
         },
         "mode": "markers",
         "name": "#ffff00",
         "orientation": "v",
         "showlegend": true,
         "type": "scatter",
         "x": {
          "bdata": "pb8iwuFGoELxBUxBx4nLwAv8icEshHtA+ccyQpU9PUI=",
          "dtype": "f4"
         },
         "xaxis": "x",
         "y": {
          "bdata": "5mLXQVuejEB+kSNChg6/QLwJpEEh4AFBkKv6QWBXpME=",
          "dtype": "f4"
         },
         "yaxis": "y"
        }
       ],
       "layout": {
        "height": 900,
        "legend": {
         "title": {
          "text": "color"
         },
         "tracegroupgap": 0
        },
        "template": {
         "data": {
          "bar": [
           {
            "error_x": {
             "color": "#2a3f5f"
            },
            "error_y": {
             "color": "#2a3f5f"
            },
            "marker": {
             "line": {
              "color": "#E5ECF6",
              "width": 0.5
             },
             "pattern": {
              "fillmode": "overlay",
              "size": 10,
              "solidity": 0.2
             }
            },
            "type": "bar"
           }
          ],
          "barpolar": [
           {
            "marker": {
             "line": {
              "color": "#E5ECF6",
              "width": 0.5
             },
             "pattern": {
              "fillmode": "overlay",
              "size": 10,
              "solidity": 0.2
             }
            },
            "type": "barpolar"
           }
          ],
          "carpet": [
           {
            "aaxis": {
             "endlinecolor": "#2a3f5f",
             "gridcolor": "white",
             "linecolor": "white",
             "minorgridcolor": "white",
             "startlinecolor": "#2a3f5f"
            },
            "baxis": {
             "endlinecolor": "#2a3f5f",
             "gridcolor": "white",
             "linecolor": "white",
             "minorgridcolor": "white",
             "startlinecolor": "#2a3f5f"
            },
            "type": "carpet"
           }
          ],
          "choropleth": [
           {
            "colorbar": {
             "outlinewidth": 0,
             "ticks": ""
            },
            "type": "choropleth"
           }
          ],
          "contour": [
           {
            "colorbar": {
             "outlinewidth": 0,
             "ticks": ""
            },
            "colorscale": [
             [
              0,
              "#0d0887"
             ],
             [
              0.1111111111111111,
              "#46039f"
             ],
             [
              0.2222222222222222,
              "#7201a8"
             ],
             [
              0.3333333333333333,
              "#9c179e"
             ],
             [
              0.4444444444444444,
              "#bd3786"
             ],
             [
              0.5555555555555556,
              "#d8576b"
             ],
             [
              0.6666666666666666,
              "#ed7953"
             ],
             [
              0.7777777777777778,
              "#fb9f3a"
             ],
             [
              0.8888888888888888,
              "#fdca26"
             ],
             [
              1,
              "#f0f921"
             ]
            ],
            "type": "contour"
           }
          ],
          "contourcarpet": [
           {
            "colorbar": {
             "outlinewidth": 0,
             "ticks": ""
            },
            "type": "contourcarpet"
           }
          ],
          "heatmap": [
           {
            "colorbar": {
             "outlinewidth": 0,
             "ticks": ""
            },
            "colorscale": [
             [
              0,
              "#0d0887"
             ],
             [
              0.1111111111111111,
              "#46039f"
             ],
             [
              0.2222222222222222,
              "#7201a8"
             ],
             [
              0.3333333333333333,
              "#9c179e"
             ],
             [
              0.4444444444444444,
              "#bd3786"
             ],
             [
              0.5555555555555556,
              "#d8576b"
             ],
             [
              0.6666666666666666,
              "#ed7953"
             ],
             [
              0.7777777777777778,
              "#fb9f3a"
             ],
             [
              0.8888888888888888,
              "#fdca26"
             ],
             [
              1,
              "#f0f921"
             ]
            ],
            "type": "heatmap"
           }
          ],
          "histogram": [
           {
            "marker": {
             "pattern": {
              "fillmode": "overlay",
              "size": 10,
              "solidity": 0.2
             }
            },
            "type": "histogram"
           }
          ],
          "histogram2d": [
           {
            "colorbar": {
             "outlinewidth": 0,
             "ticks": ""
            },
            "colorscale": [
             [
              0,
              "#0d0887"
             ],
             [
              0.1111111111111111,
              "#46039f"
             ],
             [
              0.2222222222222222,
              "#7201a8"
             ],
             [
              0.3333333333333333,
              "#9c179e"
             ],
             [
              0.4444444444444444,
              "#bd3786"
             ],
             [
              0.5555555555555556,
              "#d8576b"
             ],
             [
              0.6666666666666666,
              "#ed7953"
             ],
             [
              0.7777777777777778,
              "#fb9f3a"
             ],
             [
              0.8888888888888888,
              "#fdca26"
             ],
             [
              1,
              "#f0f921"
             ]
            ],
            "type": "histogram2d"
           }
          ],
          "histogram2dcontour": [
           {
            "colorbar": {
             "outlinewidth": 0,
             "ticks": ""
            },
            "colorscale": [
             [
              0,
              "#0d0887"
             ],
             [
              0.1111111111111111,
              "#46039f"
             ],
             [
              0.2222222222222222,
              "#7201a8"
             ],
             [
              0.3333333333333333,
              "#9c179e"
             ],
             [
              0.4444444444444444,
              "#bd3786"
             ],
             [
              0.5555555555555556,
              "#d8576b"
             ],
             [
              0.6666666666666666,
              "#ed7953"
             ],
             [
              0.7777777777777778,
              "#fb9f3a"
             ],
             [
              0.8888888888888888,
              "#fdca26"
             ],
             [
              1,
              "#f0f921"
             ]
            ],
            "type": "histogram2dcontour"
           }
          ],
          "mesh3d": [
           {
            "colorbar": {
             "outlinewidth": 0,
             "ticks": ""
            },
            "type": "mesh3d"
           }
          ],
          "parcoords": [
           {
            "line": {
             "colorbar": {
              "outlinewidth": 0,
              "ticks": ""
             }
            },
            "type": "parcoords"
           }
          ],
          "pie": [
           {
            "automargin": true,
            "type": "pie"
           }
          ],
          "scatter": [
           {
            "fillpattern": {
             "fillmode": "overlay",
             "size": 10,
             "solidity": 0.2
            },
            "type": "scatter"
           }
          ],
          "scatter3d": [
           {
            "line": {
             "colorbar": {
              "outlinewidth": 0,
              "ticks": ""
             }
            },
            "marker": {
             "colorbar": {
              "outlinewidth": 0,
              "ticks": ""
             }
            },
            "type": "scatter3d"
           }
          ],
          "scattercarpet": [
           {
            "marker": {
             "colorbar": {
              "outlinewidth": 0,
              "ticks": ""
             }
            },
            "type": "scattercarpet"
           }
          ],
          "scattergeo": [
           {
            "marker": {
             "colorbar": {
              "outlinewidth": 0,
              "ticks": ""
             }
            },
            "type": "scattergeo"
           }
          ],
          "scattergl": [
           {
            "marker": {
             "colorbar": {
              "outlinewidth": 0,
              "ticks": ""
             }
            },
            "type": "scattergl"
           }
          ],
          "scattermap": [
           {
            "marker": {
             "colorbar": {
              "outlinewidth": 0,
              "ticks": ""
             }
            },
            "type": "scattermap"
           }
          ],
          "scattermapbox": [
           {
            "marker": {
             "colorbar": {
              "outlinewidth": 0,
              "ticks": ""
             }
            },
            "type": "scattermapbox"
           }
          ],
          "scatterpolar": [
           {
            "marker": {
             "colorbar": {
              "outlinewidth": 0,
              "ticks": ""
             }
            },
            "type": "scatterpolar"
           }
          ],
          "scatterpolargl": [
           {
            "marker": {
             "colorbar": {
              "outlinewidth": 0,
              "ticks": ""
             }
            },
            "type": "scatterpolargl"
           }
          ],
          "scatterternary": [
           {
            "marker": {
             "colorbar": {
              "outlinewidth": 0,
              "ticks": ""
             }
            },
            "type": "scatterternary"
           }
          ],
          "surface": [
           {
            "colorbar": {
             "outlinewidth": 0,
             "ticks": ""
            },
            "colorscale": [
             [
              0,
              "#0d0887"
             ],
             [
              0.1111111111111111,
              "#46039f"
             ],
             [
              0.2222222222222222,
              "#7201a8"
             ],
             [
              0.3333333333333333,
              "#9c179e"
             ],
             [
              0.4444444444444444,
              "#bd3786"
             ],
             [
              0.5555555555555556,
              "#d8576b"
             ],
             [
              0.6666666666666666,
              "#ed7953"
             ],
             [
              0.7777777777777778,
              "#fb9f3a"
             ],
             [
              0.8888888888888888,
              "#fdca26"
             ],
             [
              1,
              "#f0f921"
             ]
            ],
            "type": "surface"
           }
          ],
          "table": [
           {
            "cells": {
             "fill": {
              "color": "#EBF0F8"
             },
             "line": {
              "color": "white"
             }
            },
            "header": {
             "fill": {
              "color": "#C8D4E3"
             },
             "line": {
              "color": "white"
             }
            },
            "type": "table"
           }
          ]
         },
         "layout": {
          "annotationdefaults": {
           "arrowcolor": "#2a3f5f",
           "arrowhead": 0,
           "arrowwidth": 1
          },
          "autotypenumbers": "strict",
          "coloraxis": {
           "colorbar": {
            "outlinewidth": 0,
            "ticks": ""
           }
          },
          "colorscale": {
           "diverging": [
            [
             0,
             "#8e0152"
            ],
            [
             0.1,
             "#c51b7d"
            ],
            [
             0.2,
             "#de77ae"
            ],
            [
             0.3,
             "#f1b6da"
            ],
            [
             0.4,
             "#fde0ef"
            ],
            [
             0.5,
             "#f7f7f7"
            ],
            [
             0.6,
             "#e6f5d0"
            ],
            [
             0.7,
             "#b8e186"
            ],
            [
             0.8,
             "#7fbc41"
            ],
            [
             0.9,
             "#4d9221"
            ],
            [
             1,
             "#276419"
            ]
           ],
           "sequential": [
            [
             0,
             "#0d0887"
            ],
            [
             0.1111111111111111,
             "#46039f"
            ],
            [
             0.2222222222222222,
             "#7201a8"
            ],
            [
             0.3333333333333333,
             "#9c179e"
            ],
            [
             0.4444444444444444,
             "#bd3786"
            ],
            [
             0.5555555555555556,
             "#d8576b"
            ],
            [
             0.6666666666666666,
             "#ed7953"
            ],
            [
             0.7777777777777778,
             "#fb9f3a"
            ],
            [
             0.8888888888888888,
             "#fdca26"
            ],
            [
             1,
             "#f0f921"
            ]
           ],
           "sequentialminus": [
            [
             0,
             "#0d0887"
            ],
            [
             0.1111111111111111,
             "#46039f"
            ],
            [
             0.2222222222222222,
             "#7201a8"
            ],
            [
             0.3333333333333333,
             "#9c179e"
            ],
            [
             0.4444444444444444,
             "#bd3786"
            ],
            [
             0.5555555555555556,
             "#d8576b"
            ],
            [
             0.6666666666666666,
             "#ed7953"
            ],
            [
             0.7777777777777778,
             "#fb9f3a"
            ],
            [
             0.8888888888888888,
             "#fdca26"
            ],
            [
             1,
             "#f0f921"
            ]
           ]
          },
          "colorway": [
           "#636efa",
           "#EF553B",
           "#00cc96",
           "#ab63fa",
           "#FFA15A",
           "#19d3f3",
           "#FF6692",
           "#B6E880",
           "#FF97FF",
           "#FECB52"
          ],
          "font": {
           "color": "#2a3f5f"
          },
          "geo": {
           "bgcolor": "white",
           "lakecolor": "white",
           "landcolor": "#E5ECF6",
           "showlakes": true,
           "showland": true,
           "subunitcolor": "white"
          },
          "hoverlabel": {
           "align": "left"
          },
          "hovermode": "closest",
          "mapbox": {
           "style": "light"
          },
          "paper_bgcolor": "white",
          "plot_bgcolor": "#E5ECF6",
          "polar": {
           "angularaxis": {
            "gridcolor": "white",
            "linecolor": "white",
            "ticks": ""
           },
           "bgcolor": "#E5ECF6",
           "radialaxis": {
            "gridcolor": "white",
            "linecolor": "white",
            "ticks": ""
           }
          },
          "scene": {
           "xaxis": {
            "backgroundcolor": "#E5ECF6",
            "gridcolor": "white",
            "gridwidth": 2,
            "linecolor": "white",
            "showbackground": true,
            "ticks": "",
            "zerolinecolor": "white"
           },
           "yaxis": {
            "backgroundcolor": "#E5ECF6",
            "gridcolor": "white",
            "gridwidth": 2,
            "linecolor": "white",
            "showbackground": true,
            "ticks": "",
            "zerolinecolor": "white"
           },
           "zaxis": {
            "backgroundcolor": "#E5ECF6",
            "gridcolor": "white",
            "gridwidth": 2,
            "linecolor": "white",
            "showbackground": true,
            "ticks": "",
            "zerolinecolor": "white"
           }
          },
          "shapedefaults": {
           "line": {
            "color": "#2a3f5f"
           }
          },
          "ternary": {
           "aaxis": {
            "gridcolor": "white",
            "linecolor": "white",
            "ticks": ""
           },
           "baxis": {
            "gridcolor": "white",
            "linecolor": "white",
            "ticks": ""
           },
           "bgcolor": "#E5ECF6",
           "caxis": {
            "gridcolor": "white",
            "linecolor": "white",
            "ticks": ""
           }
          },
          "title": {
           "x": 0.05
          },
          "xaxis": {
           "automargin": true,
           "gridcolor": "white",
           "linecolor": "white",
           "ticks": "",
           "title": {
            "standoff": 15
           },
           "zerolinecolor": "white",
           "zerolinewidth": 2
          },
          "yaxis": {
           "automargin": true,
           "gridcolor": "white",
           "linecolor": "white",
           "ticks": "",
           "title": {
            "standoff": 15
           },
           "zerolinecolor": "white",
           "zerolinewidth": 2
          }
         }
        },
        "title": {
         "text": "t-SNE – Custom data"
        },
        "width": 1100,
        "xaxis": {
         "anchor": "y",
         "domain": [
          0,
          1
         ],
         "title": {
          "text": "Isomap_1"
         }
        },
        "yaxis": {
         "anchor": "x",
         "domain": [
          0,
          1
         ],
         "title": {
          "text": "Isomap_2"
         }
        }
       }
      },
      "image/png": "[encoded data removed]"
     },
     "metadata": {},
     "output_type": "display_data"
    }
   ],
   "source": [
    "position_colors = {\n",
    "    'FW': np.array([255, 0, 0]),    # red\n",
    "    'MF': np.array([0, 0, 255]),    # blue\n",
    "    'DF': np.array([0, 255, 0]),  #  yellow\n",
    "}\n",
    "\n",
    "def color_from_position(positions):\n",
    "    postitions = str(positions)\n",
    "    position_list = positions.split(',')\n",
    "    colors = np.array([position_colors[p] for p in position_list if p in position_colors])\n",
    "    avg_color = np.sum(colors, axis=0)\n",
    "    return '#%02x%02x%02x' % tuple(avg_color.astype(int))\n",
    "\n",
    "def plot_isomap_interactive(X_tsne, player_positions, data_num, title):\n",
    "    df_plot = pd.DataFrame({\n",
    "        'Isomap_1': X_tsne[:, 0],\n",
    "        'Isomap_2': X_tsne[:, 1],\n",
    "        'player_name': data_num.index,\n",
    "        'color' : player_positions.apply(color_from_position)\n",
    "    })\n",
    "    \n",
    "    fig = px.scatter(\n",
    "        df_plot,\n",
    "        x='Isomap_1', y='Isomap_2',\n",
    "        hover_name='player_name',\n",
    "        color='color',\n",
    "        title=title,\n",
    "        height=900, width=1100 \n",
    "    )\n",
    "    fig.show()\n",
    "\n",
    "plot_isomap_interactive(X_tsne_raw, player_positions_raw ,data_raw.set_index(\"player_name\"), \"t-SNE – Raw data\")\n",
    "plot_isomap_interactive(X_tsne_per90, player_positions_per90 ,data_per90.set_index(\"player_name\"), \"t-SNE – Per90min data\")\n",
    "plot_isomap_interactive(X_tsne_custom, player_positions_custom ,data_custom.set_index(\"player_name\"), \"t-SNE – Custom data\")"
   ]
  },
  {
   "cell_type": "markdown",
   "id": "384eae4c-08e1-4459-ab81-b27ec015410b",
   "metadata": {},
   "source": [
    "### t-SNE computation (more dimensions)"
   ]
  },
  {
   "cell_type": "code",
   "execution_count": 22,
   "id": "8b813c32-6339-4381-8c5e-9e5880d85139",
   "metadata": {},
   "outputs": [],
   "source": [
    "def run_tsne(X, n_components, perplexity):\n",
    "    tsne = TSNE(n_components= n_components, perplexity=perplexity, learning_rate=100, max_iter=3000, random_state=42, method = \"exact\") #method \"exact\" as dim> 4\n",
    "    X_tsne = tsne.fit_transform(X)\n",
    "    return X_tsne, tsne\n",
    "\n",
    "X_tsne_raw, tsne_raw = run_tsne(X_raw, n_components=10, perplexity=10)\n",
    "X_tsne_per90, tsne_per90 = run_tsne(X_per90, n_components=10, perplexity=10)\n",
    "X_tsne_custom, tsne_custom = run_tsne(X_custom, n_components=10, perplexity=10)"
   ]
  },
  {
   "cell_type": "markdown",
   "id": "0af4b7c4-ec27-4e70-a59d-249f17814dfd",
   "metadata": {},
   "source": [
    "## t-SNE dim Reduction Export"
   ]
  },
  {
   "cell_type": "code",
   "execution_count": 9,
   "id": "5438c5b6-501a-458b-97aa-8d480b777fb7",
   "metadata": {},
   "outputs": [
    {
     "name": "stdout",
     "output_type": "stream",
     "text": [
      "✅ Exported ../../reduced_data/joueurs_ligue1_tSNE_raw.csv (333 rows, 6 columns)\n",
      "✅ Exported ../../reduced_data/joueurs_ligue1_tSNE_per90.csv (333 rows, 6 columns)\n",
      "✅ Exported ../../reduced_data/joueurs_ligue1_tSNE_custom.csv (333 rows, 6 columns)\n"
     ]
    }
   ],
   "source": [
    "def export_tsne(X_tsne, data, prefix):\n",
    "    player_names = data['player_name']\n",
    "    teams = data['equipe']\n",
    "    positions = data['positions']\n",
    "\n",
    "    tsne_df = pd.DataFrame(X_tsne, columns=[f'tsne_{i+1}' for i in range(X_tsne.shape[1])])\n",
    "    \n",
    "    tsne_df['player_name'] = player_names\n",
    "    tsne_df['equipe'] = teams\n",
    "    tsne_df['positions'] = positions\n",
    "    \n",
    "    filename = f\"../../reduced_data/joueurs_ligue1_tSNE_{prefix}.csv\"\n",
    "    tsne_df.to_csv(filename, index=False, encoding=\"utf-8\")\n",
    "    print(f\"✅ Exported {filename} ({tsne_df.shape[0]} rows, {tsne_df.shape[1]} columns)\")\n",
    "\n",
    "export_tsne(X_tsne_raw, data_raw, prefix='raw')\n",
    "export_tsne(X_tsne_per90, data_per90, prefix='per90')\n",
    "export_tsne(X_tsne_custom, data_custom, prefix='custom')"
   ]
  },
  {
   "cell_type": "markdown",
   "id": "ecd3ba02-d102-4b1a-9e58-a7ef5d51ae11",
   "metadata": {},
   "source": [
    "### Results Display - more dims"
   ]
  },
  {
   "cell_type": "code",
   "execution_count": 23,
   "id": "e5e93197-50df-4c7a-9b1c-003277dfe151",
   "metadata": {},
   "outputs": [
    {
     "data": {
      "application/vnd.plotly.v1+json": {
       "config": {
        "plotlyServerURL": "https://plot.ly"
       },
       "data": [
        {
         "hovertemplate": "<b>%{hovertext}</b><br><br>color=#00ff00<br>Isomap_1=%{x}<br>Isomap_2=%{y}<extra></extra>",
         "hovertext": [
          "Jordan Lefort",
          "Gautier Lloris",
          "Bafodé Diakité",
          "Moussa Niakhate",
          "Guela Doué",
          "Alexsandro Ribeiro",
          "Kenny Lala",
          "Florent Hanin",
          "Jubal",
          "Léo Pétrot",
          "Charlie Cresswell",
          "Facundo Medina",
          "Sergio Akieme",
          "Mark McKenzie",
          "Clément Akpa",
          "Michael Amir Murillo",
          "Brendan Chardonnet",
          "Thilo Kehrer",
          "Clinton Mata",
          "Mamadou Sarr",
          "Etienne Youte Kinkoue",
          "Mickael Nade",
          "Gideon Mensah",
          "Leonardo Balerdi",
          "Moïse Bombito",
          "Cédric Kipré",
          "Kelvin Amian",
          "Gabriel Suazo",
          "Modibo Sagnan",
          "Willian Pacho",
          "Dennis Appiah",
          "Ki-Jana Hoever",
          "Jonathan Gradit",
          "Djibril Sidibé",
          "Wilfried Singo",
          "Achraf Hakimi",
          "Vanderson",
          "Carlens Arcus",
          "Nicolas Pallois",
          "Dylan Batubinsika",
          "Lucas Beraldo",
          "Ainsley Maitland-Niles",
          "Aurélio Buta",
          "Dante",
          "Sinaly Diomande",
          "Youssouf Ndayishimiye",
          "Caio Henrique Oliveira Silva",
          "Thomas Meunier",
          "Nicolás Tagliafico",
          "Enzo Tchato",
          "Becir Omeragic",
          "Gabriel Gudmundsson",
          "Aïssa Mandi",
          "Marquinhos",
          "Abdoulaye Niakhate Ndiaye",
          "Joseph Okumu",
          "Hans Hateboer",
          "Massadio Haïdara",
          "Nuno Mendes",
          "Gabriel Osho",
          "Quentin Merlin",
          "Duje Ćaleta-Car",
          "Nathan Zeze",
          "Abdoulaye Bamba",
          "Christian Mawissa",
          "Christopher Wooh",
          "Derek Cornelius",
          "Przemysław Frankowski",
          "Malang Sarr",
          "Julien Le Cardinal",
          "Emmanuel Biumla",
          "Emmanuel Agbadou",
          "Arouna Sangante",
          "Lilian Brassier",
          "Falaye Sacko",
          "Leo Skiri Østigård",
          "Issiaga Sylla",
          "Timothee Pembele",
          "Abner",
          "Kevin Danso",
          "Yunis Abdelhamid",
          "Mohammed Salisu",
          "Saidou Sow",
          "Théo Sainte-Luce",
          "Paul Joly",
          "Abdukodir Khusanov",
          "Anthony Rouault",
          "Sael Kumbedi",
          "Marcus Coco",
          "Abakar Sylla",
          "Yael Mouanga",
          "Ulisses Garcia",
          "Jérémy Jacquet",
          "Ismaily",
          "Hiroki Sekine",
          "Lucas Hernández",
          "Mohamed Abdelmoneim",
          "Antoine Mendy",
          "Alidu Seidu",
          "Yoann Salmier",
          "Yvann Macon",
          "Jordan Amavi",
          "Maxime Bernauer",
          "Boubakar Kouyaté",
          "Lucas Mincarelli",
          "Mikayil Ngor Faye",
          "Abdulai Juma Bah",
          "Pol Lirola",
          "Luck Zogbé",
          "Rasmus Nicolaisen",
          "Nikola Maksimović",
          "Pierre Cornud",
          "Jordan Teze",
          "Andrew Omobamidele",
          "Jean-Kevin Duverne"
         ],
         "legendgroup": "#00ff00",
         "marker": {
          "color": "#636efa",
          "symbol": "circle"
         },
         "mode": "markers",
         "name": "#00ff00",
         "orientation": "v",
         "showlegend": true,
         "type": "scatter",
         "x": {
          "bdata": "uODOwAszSsG0u77A/iG8wB+5cMC19ETAWlIZwM8jvr8oPQXBH76cvqm5vcCrgf3ALB3Nv5UzMMG+kKk/RD2UwK2SwcCzFPnAdVdjwFYBDsHO5E3ABpsXwC1D1T8Lb5jArDSpv+2d1MDkvQDANz64wE8Ri8C/MjHB7NuXvxb4Az9f1NU+KoPYwJO2f73vR929zEiIv7tmB8CoCUDA4WRUwHs2q8B6tfvAg7tXwHHPRcAnOTrAqx/GP2wETcB67b2+FcmYQJGadT8ILO6/f9Nwv1Low8DKMmnARtfzwL1QJL/Giri/eY9LPvyAbr9PjvzARuiSQIEM0cBgR+bA/+QOwZRuncCtgwfAd/UtP11dHsAWHxK/7Zq2vz6MsD/EMp+/LseBwCR+Qb+1BIa/TrC3wAMJCL/e+oI/RxiGQKFh9L9h8rDAN0WTwBEx+D7tRVW/gKG3Ph8f3L4dRMDAuRlyQOruPcB6Th3AQ/w9v5VAhsBUPaY/zxjYP0ney0Cvfo0/JYAIvyQt6UAYQBpAt7E1wO8hor6OyIjAZUx4PzbSNcCdrzBAjSkpPiIOgD8ydha/0UcQQaXZU8AkHfPA7cbSPjBZqsDMWOW+WQ6/vw==",
          "dtype": "f4"
         },
         "xaxis": "x",
         "y": {
          "bdata": "lNc2QR2YxUDVyuBA32ElQUZYFEGS9EVBQiEbQc0K9kDj7/hASlOOQIjND0HJg81ArwizQH/tBkD2fMU/ZQyyQKjc80CvpydB+DqaQPsbtUCYc65AyJ2gQCftvkC8BkBB/Ui4QJGR1UBvMflAEs6JPFI6p74MxalAnHu3QA+cAj+XEodAEpr2QCGmBkE3leFAnGYBQEnL90A4XXNASv/zPyZOJEH/pRdAccErQHv9lECWNr1AhRUZQC6CbECK2h1BZBWsQHkLqEDTfClA0RTMQFnOM0A//zBBesJEv2e7/UDZHO5AwIKhP9nqzkAj/eO/jtb4P1MPnkBMiBRACZvHPVvaNUDuN3o/rLapQMe5IUCEDhNArymkPxpBUkBKwCxAQ2T5PfF42D8+EZXAiXKrPkfeqMDn8DnAyaxqP+pLQEBkmLg+p4n6P7cBckCcZuLAeVRKwBRmlj8ErT5A3k+ZwFl4E8DVUFG/jfiJP0X/ZMCAhqO+yBieP/UIGcCz134/o6z4PUzu+UASCWK+sAO9v/vfscBwfNy/fPKmv95BeMC1CIjA4Gu2v2hWQcB9wt/AkTSrwPdZwcDASsDAgUiawbbkC8HQ3Ou/DwPIwA==",
          "dtype": "f4"
         },
         "yaxis": "y"
        },
        {
         "hovertemplate": "<b>%{hovertext}</b><br><br>color=#0000ff<br>Isomap_1=%{x}<br>Isomap_2=%{y}<extra></extra>",
         "hovertext": [
          "Andrey Santos",
          "Valentin Atangana Edoa",
          "Cristian Cásseres Jr.",
          "Benjamin André",
          "Pierre Højbjerg",
          "Adrien Thomasson",
          "Pierre Ekwah Elimby",
          "Adrien Rabiot",
          "Hicham Boudaoui",
          "Vincent Sierro",
          "Téji Savanier",
          "Pedro Chirivella",
          "Elisha Owusu",
          "Corentin Tolisso",
          "Abdoulaye Touré",
          "Hugo Magnetti",
          "Douglas",
          "Andy Diouf",
          "Denis Zakaria",
          "Hamed Junior Traorè",
          "Azor Matusiwa",
          "Lamine Camara",
          "Johann Lepenant",
          "Vitinha",
          "Nemanja Matić",
          "Jean-Eudes Aholou",
          "Fabián Ruiz Peña",
          "Joris Chotard",
          "Haris Belkebla",
          "Jordan Ferri",
          "Benjamin Bouchouari",
          "Marshall Munetsi",
          "Rabby Nzingoula",
          "Neil El Aynaoui",
          "Jordan Veretout",
          "Pierre Lees-Melou",
          "Yassin Belkhdim",
          "Kévin Danois",
          "Amadou Koné",
          "André Gomes",
          "Florian Tardieu",
          "Tanner Tessmann",
          "Ngal'Ayel Mukau",
          "Jordan James",
          "Ayyoub Bouaddi",
          "Tanguy Ndombele",
          "Djaoui Cissé",
          "Rassoul Ndiaye",
          "Han-Noah Massengo",
          "Louis Mouton",
          "Aimen Moueffek",
          "Soungoutou Magassa",
          "Oussama Targhalline",
          "Junior Mwanga",
          "Baptiste Santamaria",
          "Mathis Amougou",
          "Seko Fofana",
          "Senny Mayulu",
          "Teddy Teuma",
          "Angel Gomes",
          "Assane Dioussé",
          "Glen Kamara",
          "Ismaël Bennacer",
          "Nampalys Mendy",
          "Mahamadou Diawara",
          "Maxence Caqueret",
          "Daler Kuzyaev",
          "John Joe",
          "Amine Harit"
         ],
         "legendgroup": "#0000ff",
         "marker": {
          "color": "#EF553B",
          "symbol": "circle"
         },
         "mode": "markers",
         "name": "#0000ff",
         "orientation": "v",
         "showlegend": true,
         "type": "scatter",
         "x": {
          "bdata": "fMJlwCoX+785xny/msVswFhNTsA8C8Y9b94mwC22BL9+gBrAS8rCv/QZVECaDcjAZfgHQKuz7L/xg0TAFg40P8r/Y0BHjFnAOZX0P/Ruyz6J/0ZAW9AxQNY2Tr/DYfvAw1i6wLHbtT9XKlTA7SKOPpytcb3AuOO+Lo2hwC61zEAX9X3A1gzPv4lHWsC3MZbAPBTKvD06lb+JtrK/sdhiwH3seb+A7Lg/4zUQwjQ/NcBMnjxAn92bwKOvCcBS1/NA10qRvxueaMFmfhk/L9heP1MR5EA+dpbAvdLJv1XAXUAoX8O+8ySnPt/EtECUdU67MWJZQL3+lr8/eBdAOBUcwJYvc0DMeSm+YU9YwHeT6ECh6/K/",
          "dtype": "f4"
         },
         "xaxis": "x",
         "y": {
          "bdata": "x1AxQFytjz8LbBtAHsX1QClBGkG+n0Y/R8GJQBUHkz/bcgzANlT3P0RvFUFqti1ADJTjQFqJr0AE/Zy+Hl+VQLJveUAwR3S/WOeAPwWoST7ZpnFA8GllQK8Ngj90IKJA05+FQN60ij8yQxpAtMU8vwaWrUALm21AxcriP+tAi7/NRYK/13oDv6ckgj35qXQ/Licjvwqq577rmIQ+WKMXQPaujj+WXGdAyNC3QHfUmj/3IFS/lbDowGRxckAEdPg+bVKDwBi3ir+8hbnAYN1EwMKVfkBddKM+QpaVQGlQD79aPn0+PVfHwE+6ZkDNjIDAMXYAwZHZNsEJUX5AYVcAwbKgiL/Xo70/4BjpwNumecDNC/2/",
          "dtype": "f4"
         },
         "yaxis": "y"
        },
        {
         "hovertemplate": "<b>%{hovertext}</b><br><br>color=#ff00ff<br>Isomap_1=%{x}<br>Isomap_2=%{y}<extra></extra>",
         "hovertext": [
          "Himad Abdelli",
          "Mason Greenwood",
          "Zuriko Davitashvili",
          "Gaëtan Perrin",
          "Junya Ito",
          "Mahdi Camara",
          "Keito Nakamura",
          "Moses Simon",
          "Arnaud Kalimuendo",
          "Evann Guessand",
          "Maghnes Akliouche",
          "Habib Diarra",
          "Yann Gboho",
          "Lassine Sinayoko",
          "Ludovic Blas",
          "Takumi Minamino",
          "Sebastian Nanasi",
          "Yassine Kechta",
          "Rayan Cherki",
          "Josué Casimir",
          "Issa Soumaré",
          "Zakaria Aboukhlal",
          "Breel Embolo",
          "Florian Sotoca",
          "Félix Lemaréchal",
          "Hákon Arnar Haraldsson",
          "Eliesse Ben Seghir",
          "Désiré Doué",
          "Joshua King",
          "Lee Kang-in",
          "Mohamed Ali Cho",
          "Mathias Pereira Lage",
          "Frank Magri",
          "Tanguy Coulibaly",
          "Anass Zaroury",
          "Kamory Doumbia",
          "Sorba Thomas",
          "Osame Sahraoui",
          "Abdallah Sima",
          "Shavy Babicka",
          "Aleksandr Golovin",
          "Wahbi Khazri",
          "Musa Al-Taamari",
          "Badredine Bouanani",
          "Matias Fernandez-Pardo",
          "Sofiane Diop",
          "Jeremie Boga",
          "Ernest Nuamah",
          "Amine Gouiri",
          "Angelo Fulgini",
          "Khalil Fayad",
          "Rémy Cabella",
          "Edon Zhegrova",
          "Ado Onaiwu",
          "Thiago Almada",
          "Antoine Joujou",
          "Romain Faivre",
          "Mamadou Diakhon",
          "Zinedine Ferhat",
          "Albert Grønbaek",
          "Jonathan Rowe",
          "Sekou Mara",
          "Saïd Benrahma",
          "Augustine Boakye",
          "Mathieu Cafaro",
          "Emmanuel Sabbi",
          "Rémy Labeau Lascary",
          "Yaya Kader Fofana",
          "Marco Asensio",
          "Ben Old",
          "Tino Kadewere"
         ],
         "legendgroup": "#ff00ff",
         "marker": {
          "color": "#00cc96",
          "symbol": "circle"
         },
         "mode": "markers",
         "name": "#ff00ff",
         "orientation": "v",
         "showlegend": true,
         "type": "scatter",
         "x": {
          "bdata": "6qN+v21hT0BEtMk/Lht6P/OixEAlTou+7+PMv3Sjvj5Srr1A1tF0vZxXskA5u9HAkNJCv/NQnEBvQJY/pFFFwLLf4kAphLLA/tHvQCXX6EAtxYi/cWnLQOuh+z5AGxzA25buPqwWDEGjZ4s/glahQBGicEADbZJAdryWwFcEg0AKFA1AvCmRPxPPSUCHdkxAJgsyvhFTV8CDNWjAg+EYQLLyjr+6EtlADSC1QA+JKT9wQhJAAzY2QE6cMUB7I7K/a1TAv/vpZcGj0YFAVIbcQI6gIUBiXS1AeSbTv4VpHMD1Z5FAeTuIQK1rzz55HU1ATXjOP54u/0Blpac/YOOQQIkZgkCxhgXB9mCHvrhBrEC5n6+9+lOaQM+dDEA=",
          "dtype": "f4"
         },
         "xaxis": "x",
         "y": {
          "bdata": "7UY+wLzBo73SHDS/v48CQfWL4EBHywHAq7fAv8FCJT+DnTPA5CndwMKQMUD74H9AZhnUv/M2oMBrlGBA9dSwwE1fGb+fd/m//8GRQETtPsBWv0LA9y2rwI/f+sCHb5fAfXAJwD4nEb8JJQNA0tyIwDDi+8D+IHc/eYCFP550EsBtdjLBcfZdwEuBvD5uDphAdICxvwq8679SwZbBb3oVwXYrZ8DTNRE/R5SowOdbJL8TVCfAUs3svxAVH7/M/JPAYz1kPyIcw8C4Uo+/f9Ccv/u9AUCnREbBgJGZP5jNj8D41F9CX5BfwAwFnsD6OZ0+4fF5vuxaiMBZwADAfQ2XwHfZUMBjUN+/iAGuwBJBIr8/h8rAWG/1v241S8E=",
          "dtype": "f4"
         },
         "yaxis": "y"
        },
        {
         "hovertemplate": "<b>%{hovertext}</b><br><br>color=#ff0000<br>Isomap_1=%{x}<br>Isomap_2=%{y}<extra></extra>",
         "hovertext": [
          "Matthis Abline",
          "Jonathan David",
          "Ludovic Ajorque",
          "Emanuel Emegha",
          "Bradley Barcola",
          "Alexandre Lacazette",
          "Farid El Melali",
          "Lucas Stassin",
          "Gaëtan Laborde",
          "Jim Allevinah",
          "Ousmane Dembélé",
          "Esteban Lepaul",
          "Oumar Diakité",
          "Malick Fofana",
          "M'Bala Nzola",
          "André Ayew",
          "Georges Mikautadze",
          "Romain Del Castillo",
          "Mostafa Mohamed",
          "Mika Biereth",
          "Arnaud Nordin",
          "Mama Samba Baldé",
          "Akor Adams",
          "Gonçalo Ramos",
          "Irvin Cardona",
          "Neal Maupay",
          "Ibrahima Niane",
          "Theo Bair",
          "Khvicha Kvaratskhelia",
          "Wesley Saïd",
          "Goduine Koyalipou",
          "Koka",
          "Ibrahim Sissoko",
          "George Ilenikhena",
          "Chuba Akpom",
          "Folarin Balogun",
          "Andy Delort",
          "Florian Ayé",
          "Elye Wahi",
          "Mohamed Meité",
          "Bamba Dieng"
         ],
         "legendgroup": "#ff0000",
         "marker": {
          "color": "#ab63fa",
          "symbol": "circle"
         },
         "mode": "markers",
         "name": "#ff0000",
         "orientation": "v",
         "showlegend": true,
         "type": "scatter",
         "x": {
          "bdata": "QjGvv5UeEkEgbJLAds7FQC0W80AMqd9ABUUUQU1ZgD7ALfdA2Jh6QNrnnUD9ZsBAqD4NQMdmaz9iy+5A6On8QAenBkFmaJc/+H0zQP4JLECBtHC/65GNQKRy8z8uEBZBxTscQIAUe8DaL7NAq7dAQUNvoj78ayZA6hEVQEtr4UBRg8RAIbCVP7fNO0AR9A/AamhHQZ60FUHhCMQ/CxwXQGdll0A=",
          "dtype": "f4"
         },
         "xaxis": "x",
         "y": {
          "bdata": "x57Nv7Z5HsBL4hHB3H0kwe/SIT/DggLBNLqPwGCl/7+f1s/A/eqAwL6H0b5qaAPB75wAwa2vNkDDhNLAIwK0wJSgMcBK4aW7ao/5wJ4WnMApUgnB1lcxwS/TPMFrJ3TAHPuVwCpGIsEkVwvBrTHcwBZLqj9gzyLBd3qIwOYWFMGCJiHBa0rFwJFF+cAM7EDBj73EwNQpCcEA5xHBMtuSwBjNB8E=",
          "dtype": "f4"
         },
         "yaxis": "y"
        },
        {
         "hovertemplate": "<b>%{hovertext}</b><br><br>color=#00ffff<br>Isomap_1=%{x}<br>Isomap_2=%{y}<extra></extra>",
         "hovertext": [
          "Adrien Truffert",
          "Aron Dønnum",
          "Ismaël Doukouré",
          "Jean-Charles Castelletto",
          "Diego Moreira",
          "Dilane Bakwa",
          "Lorenz Assignon",
          "Jonathan Clauss",
          "Nicolas Cozza",
          "Warren Zaïre-Emery",
          "Geoffrey Kondogbia",
          "Melvin Bard",
          "João Neves",
          "Deiver Machado",
          "Pablo Rosario",
          "Valentin Rongier",
          "Ali Abdi",
          "Nhoa Sangui",
          "Valentín Barco",
          "Mory Gbane",
          "Ruben Aguilar",
          "Jaydee Canvot",
          "Edimilson Fernandes",
          "Warren Kamanzi",
          "Louis Leroux",
          "Tom Louchet",
          "Rayan Raveloson",
          "Jhoanner Chávez",
          "Fodé Ballo-Touré"
         ],
         "legendgroup": "#00ffff",
         "marker": {
          "color": "#FFA15A",
          "symbol": "circle"
         },
         "mode": "markers",
         "name": "#00ffff",
         "orientation": "v",
         "showlegend": true,
         "type": "scatter",
         "x": {
          "bdata": "sXW4vzN7lz/A/SnAsgkQwSGa8D6nw8BAoOjVPzPDPz/lmkhAhtyOwFVyhsDe4w3AAOy8P5VfuL1ktk7AvSF0v0oWikAqZ7BAqhlEvn6qwz+7Qos/B8BJQRUziT8w7Eu+t3k8QDV/8EBbVNI+zv6Cvugilr0=",
          "dtype": "f4"
         },
         "xaxis": "x",
         "y": {
          "bdata": "jofMP61tbUCwzQs/eyN1QOaTozwlelFAL8EgQOilzEBbzrpAy1iVQLE+g0Dx9BJAhk6fQNKGCr/YBTnAQJseQE5qLUA+65vAPtPnPsZ8SUBiAPY/LQpdwlfcr0BQG3jAzP0OwZqAIsDzUuvBIB+Rvw2CiEE=",
          "dtype": "f4"
         },
         "yaxis": "y"
        },
        {
         "hovertemplate": "<b>%{hovertext}</b><br><br>color=#ffff00<br>Isomap_1=%{x}<br>Isomap_2=%{y}<extra></extra>",
         "hovertext": [
          "Luis Henrique",
          "Loïc Nego",
          "Lilian Raolisoa",
          "Christopher Operi",
          "Mitchel Bakker",
          "Yanis Zouaoui",
          "Jacques Ekomie",
          "Krépin Diatta"
         ],
         "legendgroup": "#ffff00",
         "marker": {
          "color": "#19d3f3",
          "symbol": "circle"
         },
         "mode": "markers",
         "name": "#ffff00",
         "orientation": "v",
         "showlegend": true,
         "type": "scatter",
         "x": {
          "bdata": "K8UoP9zjcr8H0KQ+7N4JQKfIpkCOTPY/Xl6HQBGFGcA=",
          "dtype": "f4"
         },
         "xaxis": "x",
         "y": {
          "bdata": "VYAXvyQoTEECqI/Az0QmvifshMAmisI+qx3QwFLujMA=",
          "dtype": "f4"
         },
         "yaxis": "y"
        }
       ],
       "layout": {
        "height": 900,
        "legend": {
         "title": {
          "text": "color"
         },
         "tracegroupgap": 0
        },
        "template": {
         "data": {
          "bar": [
           {
            "error_x": {
             "color": "#2a3f5f"
            },
            "error_y": {
             "color": "#2a3f5f"
            },
            "marker": {
             "line": {
              "color": "#E5ECF6",
              "width": 0.5
             },
             "pattern": {
              "fillmode": "overlay",
              "size": 10,
              "solidity": 0.2
             }
            },
            "type": "bar"
           }
          ],
          "barpolar": [
           {
            "marker": {
             "line": {
              "color": "#E5ECF6",
              "width": 0.5
             },
             "pattern": {
              "fillmode": "overlay",
              "size": 10,
              "solidity": 0.2
             }
            },
            "type": "barpolar"
           }
          ],
          "carpet": [
           {
            "aaxis": {
             "endlinecolor": "#2a3f5f",
             "gridcolor": "white",
             "linecolor": "white",
             "minorgridcolor": "white",
             "startlinecolor": "#2a3f5f"
            },
            "baxis": {
             "endlinecolor": "#2a3f5f",
             "gridcolor": "white",
             "linecolor": "white",
             "minorgridcolor": "white",
             "startlinecolor": "#2a3f5f"
            },
            "type": "carpet"
           }
          ],
          "choropleth": [
           {
            "colorbar": {
             "outlinewidth": 0,
             "ticks": ""
            },
            "type": "choropleth"
           }
          ],
          "contour": [
           {
            "colorbar": {
             "outlinewidth": 0,
             "ticks": ""
            },
            "colorscale": [
             [
              0,
              "#0d0887"
             ],
             [
              0.1111111111111111,
              "#46039f"
             ],
             [
              0.2222222222222222,
              "#7201a8"
             ],
             [
              0.3333333333333333,
              "#9c179e"
             ],
             [
              0.4444444444444444,
              "#bd3786"
             ],
             [
              0.5555555555555556,
              "#d8576b"
             ],
             [
              0.6666666666666666,
              "#ed7953"
             ],
             [
              0.7777777777777778,
              "#fb9f3a"
             ],
             [
              0.8888888888888888,
              "#fdca26"
             ],
             [
              1,
              "#f0f921"
             ]
            ],
            "type": "contour"
           }
          ],
          "contourcarpet": [
           {
            "colorbar": {
             "outlinewidth": 0,
             "ticks": ""
            },
            "type": "contourcarpet"
           }
          ],
          "heatmap": [
           {
            "colorbar": {
             "outlinewidth": 0,
             "ticks": ""
            },
            "colorscale": [
             [
              0,
              "#0d0887"
             ],
             [
              0.1111111111111111,
              "#46039f"
             ],
             [
              0.2222222222222222,
              "#7201a8"
             ],
             [
              0.3333333333333333,
              "#9c179e"
             ],
             [
              0.4444444444444444,
              "#bd3786"
             ],
             [
              0.5555555555555556,
              "#d8576b"
             ],
             [
              0.6666666666666666,
              "#ed7953"
             ],
             [
              0.7777777777777778,
              "#fb9f3a"
             ],
             [
              0.8888888888888888,
              "#fdca26"
             ],
             [
              1,
              "#f0f921"
             ]
            ],
            "type": "heatmap"
           }
          ],
          "histogram": [
           {
            "marker": {
             "pattern": {
              "fillmode": "overlay",
              "size": 10,
              "solidity": 0.2
             }
            },
            "type": "histogram"
           }
          ],
          "histogram2d": [
           {
            "colorbar": {
             "outlinewidth": 0,
             "ticks": ""
            },
            "colorscale": [
             [
              0,
              "#0d0887"
             ],
             [
              0.1111111111111111,
              "#46039f"
             ],
             [
              0.2222222222222222,
              "#7201a8"
             ],
             [
              0.3333333333333333,
              "#9c179e"
             ],
             [
              0.4444444444444444,
              "#bd3786"
             ],
             [
              0.5555555555555556,
              "#d8576b"
             ],
             [
              0.6666666666666666,
              "#ed7953"
             ],
             [
              0.7777777777777778,
              "#fb9f3a"
             ],
             [
              0.8888888888888888,
              "#fdca26"
             ],
             [
              1,
              "#f0f921"
             ]
            ],
            "type": "histogram2d"
           }
          ],
          "histogram2dcontour": [
           {
            "colorbar": {
             "outlinewidth": 0,
             "ticks": ""
            },
            "colorscale": [
             [
              0,
              "#0d0887"
             ],
             [
              0.1111111111111111,
              "#46039f"
             ],
             [
              0.2222222222222222,
              "#7201a8"
             ],
             [
              0.3333333333333333,
              "#9c179e"
             ],
             [
              0.4444444444444444,
              "#bd3786"
             ],
             [
              0.5555555555555556,
              "#d8576b"
             ],
             [
              0.6666666666666666,
              "#ed7953"
             ],
             [
              0.7777777777777778,
              "#fb9f3a"
             ],
             [
              0.8888888888888888,
              "#fdca26"
             ],
             [
              1,
              "#f0f921"
             ]
            ],
            "type": "histogram2dcontour"
           }
          ],
          "mesh3d": [
           {
            "colorbar": {
             "outlinewidth": 0,
             "ticks": ""
            },
            "type": "mesh3d"
           }
          ],
          "parcoords": [
           {
            "line": {
             "colorbar": {
              "outlinewidth": 0,
              "ticks": ""
             }
            },
            "type": "parcoords"
           }
          ],
          "pie": [
           {
            "automargin": true,
            "type": "pie"
           }
          ],
          "scatter": [
           {
            "fillpattern": {
             "fillmode": "overlay",
             "size": 10,
             "solidity": 0.2
            },
            "type": "scatter"
           }
          ],
          "scatter3d": [
           {
            "line": {
             "colorbar": {
              "outlinewidth": 0,
              "ticks": ""
             }
            },
            "marker": {
             "colorbar": {
              "outlinewidth": 0,
              "ticks": ""
             }
            },
            "type": "scatter3d"
           }
          ],
          "scattercarpet": [
           {
            "marker": {
             "colorbar": {
              "outlinewidth": 0,
              "ticks": ""
             }
            },
            "type": "scattercarpet"
           }
          ],
          "scattergeo": [
           {
            "marker": {
             "colorbar": {
              "outlinewidth": 0,
              "ticks": ""
             }
            },
            "type": "scattergeo"
           }
          ],
          "scattergl": [
           {
            "marker": {
             "colorbar": {
              "outlinewidth": 0,
              "ticks": ""
             }
            },
            "type": "scattergl"
           }
          ],
          "scattermap": [
           {
            "marker": {
             "colorbar": {
              "outlinewidth": 0,
              "ticks": ""
             }
            },
            "type": "scattermap"
           }
          ],
          "scattermapbox": [
           {
            "marker": {
             "colorbar": {
              "outlinewidth": 0,
              "ticks": ""
             }
            },
            "type": "scattermapbox"
           }
          ],
          "scatterpolar": [
           {
            "marker": {
             "colorbar": {
              "outlinewidth": 0,
              "ticks": ""
             }
            },
            "type": "scatterpolar"
           }
          ],
          "scatterpolargl": [
           {
            "marker": {
             "colorbar": {
              "outlinewidth": 0,
              "ticks": ""
             }
            },
            "type": "scatterpolargl"
           }
          ],
          "scatterternary": [
           {
            "marker": {
             "colorbar": {
              "outlinewidth": 0,
              "ticks": ""
             }
            },
            "type": "scatterternary"
           }
          ],
          "surface": [
           {
            "colorbar": {
             "outlinewidth": 0,
             "ticks": ""
            },
            "colorscale": [
             [
              0,
              "#0d0887"
             ],
             [
              0.1111111111111111,
              "#46039f"
             ],
             [
              0.2222222222222222,
              "#7201a8"
             ],
             [
              0.3333333333333333,
              "#9c179e"
             ],
             [
              0.4444444444444444,
              "#bd3786"
             ],
             [
              0.5555555555555556,
              "#d8576b"
             ],
             [
              0.6666666666666666,
              "#ed7953"
             ],
             [
              0.7777777777777778,
              "#fb9f3a"
             ],
             [
              0.8888888888888888,
              "#fdca26"
             ],
             [
              1,
              "#f0f921"
             ]
            ],
            "type": "surface"
           }
          ],
          "table": [
           {
            "cells": {
             "fill": {
              "color": "#EBF0F8"
             },
             "line": {
              "color": "white"
             }
            },
            "header": {
             "fill": {
              "color": "#C8D4E3"
             },
             "line": {
              "color": "white"
             }
            },
            "type": "table"
           }
          ]
         },
         "layout": {
          "annotationdefaults": {
           "arrowcolor": "#2a3f5f",
           "arrowhead": 0,
           "arrowwidth": 1
          },
          "autotypenumbers": "strict",
          "coloraxis": {
           "colorbar": {
            "outlinewidth": 0,
            "ticks": ""
           }
          },
          "colorscale": {
           "diverging": [
            [
             0,
             "#8e0152"
            ],
            [
             0.1,
             "#c51b7d"
            ],
            [
             0.2,
             "#de77ae"
            ],
            [
             0.3,
             "#f1b6da"
            ],
            [
             0.4,
             "#fde0ef"
            ],
            [
             0.5,
             "#f7f7f7"
            ],
            [
             0.6,
             "#e6f5d0"
            ],
            [
             0.7,
             "#b8e186"
            ],
            [
             0.8,
             "#7fbc41"
            ],
            [
             0.9,
             "#4d9221"
            ],
            [
             1,
             "#276419"
            ]
           ],
           "sequential": [
            [
             0,
             "#0d0887"
            ],
            [
             0.1111111111111111,
             "#46039f"
            ],
            [
             0.2222222222222222,
             "#7201a8"
            ],
            [
             0.3333333333333333,
             "#9c179e"
            ],
            [
             0.4444444444444444,
             "#bd3786"
            ],
            [
             0.5555555555555556,
             "#d8576b"
            ],
            [
             0.6666666666666666,
             "#ed7953"
            ],
            [
             0.7777777777777778,
             "#fb9f3a"
            ],
            [
             0.8888888888888888,
             "#fdca26"
            ],
            [
             1,
             "#f0f921"
            ]
           ],
           "sequentialminus": [
            [
             0,
             "#0d0887"
            ],
            [
             0.1111111111111111,
             "#46039f"
            ],
            [
             0.2222222222222222,
             "#7201a8"
            ],
            [
             0.3333333333333333,
             "#9c179e"
            ],
            [
             0.4444444444444444,
             "#bd3786"
            ],
            [
             0.5555555555555556,
             "#d8576b"
            ],
            [
             0.6666666666666666,
             "#ed7953"
            ],
            [
             0.7777777777777778,
             "#fb9f3a"
            ],
            [
             0.8888888888888888,
             "#fdca26"
            ],
            [
             1,
             "#f0f921"
            ]
           ]
          },
          "colorway": [
           "#636efa",
           "#EF553B",
           "#00cc96",
           "#ab63fa",
           "#FFA15A",
           "#19d3f3",
           "#FF6692",
           "#B6E880",
           "#FF97FF",
           "#FECB52"
          ],
          "font": {
           "color": "#2a3f5f"
          },
          "geo": {
           "bgcolor": "white",
           "lakecolor": "white",
           "landcolor": "#E5ECF6",
           "showlakes": true,
           "showland": true,
           "subunitcolor": "white"
          },
          "hoverlabel": {
           "align": "left"
          },
          "hovermode": "closest",
          "mapbox": {
           "style": "light"
          },
          "paper_bgcolor": "white",
          "plot_bgcolor": "#E5ECF6",
          "polar": {
           "angularaxis": {
            "gridcolor": "white",
            "linecolor": "white",
            "ticks": ""
           },
           "bgcolor": "#E5ECF6",
           "radialaxis": {
            "gridcolor": "white",
            "linecolor": "white",
            "ticks": ""
           }
          },
          "scene": {
           "xaxis": {
            "backgroundcolor": "#E5ECF6",
            "gridcolor": "white",
            "gridwidth": 2,
            "linecolor": "white",
            "showbackground": true,
            "ticks": "",
            "zerolinecolor": "white"
           },
           "yaxis": {
            "backgroundcolor": "#E5ECF6",
            "gridcolor": "white",
            "gridwidth": 2,
            "linecolor": "white",
            "showbackground": true,
            "ticks": "",
            "zerolinecolor": "white"
           },
           "zaxis": {
            "backgroundcolor": "#E5ECF6",
            "gridcolor": "white",
            "gridwidth": 2,
            "linecolor": "white",
            "showbackground": true,
            "ticks": "",
            "zerolinecolor": "white"
           }
          },
          "shapedefaults": {
           "line": {
            "color": "#2a3f5f"
           }
          },
          "ternary": {
           "aaxis": {
            "gridcolor": "white",
            "linecolor": "white",
            "ticks": ""
           },
           "baxis": {
            "gridcolor": "white",
            "linecolor": "white",
            "ticks": ""
           },
           "bgcolor": "#E5ECF6",
           "caxis": {
            "gridcolor": "white",
            "linecolor": "white",
            "ticks": ""
           }
          },
          "title": {
           "x": 0.05
          },
          "xaxis": {
           "automargin": true,
           "gridcolor": "white",
           "linecolor": "white",
           "ticks": "",
           "title": {
            "standoff": 15
           },
           "zerolinecolor": "white",
           "zerolinewidth": 2
          },
          "yaxis": {
           "automargin": true,
           "gridcolor": "white",
           "linecolor": "white",
           "ticks": "",
           "title": {
            "standoff": 15
           },
           "zerolinecolor": "white",
           "zerolinewidth": 2
          }
         }
        },
        "title": {
         "text": "t-SNE – Raw data"
        },
        "width": 1100,
        "xaxis": {
         "anchor": "y",
         "domain": [
          0,
          1
         ],
         "title": {
          "text": "Isomap_1"
         }
        },
        "yaxis": {
         "anchor": "x",
         "domain": [
          0,
          1
         ],
         "title": {
          "text": "Isomap_2"
         }
        }
       }
      },
      "image/png": "[encoded data removed]"
     },
     "metadata": {},
     "output_type": "display_data"
    },
    {
     "data": {
      "application/vnd.plotly.v1+json": {
       "config": {
        "plotlyServerURL": "https://plot.ly"
       },
       "data": [
        {
         "hovertemplate": "<b>%{hovertext}</b><br><br>color=#00ff00<br>Isomap_1=%{x}<br>Isomap_2=%{y}<extra></extra>",
         "hovertext": [
          "Jordan Lefort",
          "Gautier Lloris",
          "Bafodé Diakité",
          "Moussa Niakhate",
          "Guela Doué",
          "Alexsandro Ribeiro",
          "Kenny Lala",
          "Florent Hanin",
          "Jubal",
          "Léo Pétrot",
          "Charlie Cresswell",
          "Facundo Medina",
          "Sergio Akieme",
          "Mark McKenzie",
          "Clément Akpa",
          "Michael Amir Murillo",
          "Brendan Chardonnet",
          "Thilo Kehrer",
          "Clinton Mata",
          "Mamadou Sarr",
          "Etienne Youte Kinkoue",
          "Mickael Nade",
          "Gideon Mensah",
          "Leonardo Balerdi",
          "Moïse Bombito",
          "Cédric Kipré",
          "Kelvin Amian",
          "Gabriel Suazo",
          "Modibo Sagnan",
          "Willian Pacho",
          "Dennis Appiah",
          "Ki-Jana Hoever",
          "Jonathan Gradit",
          "Djibril Sidibé",
          "Wilfried Singo",
          "Achraf Hakimi",
          "Vanderson",
          "Carlens Arcus",
          "Nicolas Pallois",
          "Dylan Batubinsika",
          "Lucas Beraldo",
          "Ainsley Maitland-Niles",
          "Aurélio Buta",
          "Dante",
          "Sinaly Diomande",
          "Youssouf Ndayishimiye",
          "Caio Henrique Oliveira Silva",
          "Thomas Meunier",
          "Nicolás Tagliafico",
          "Enzo Tchato",
          "Becir Omeragic",
          "Gabriel Gudmundsson",
          "Aïssa Mandi",
          "Marquinhos",
          "Abdoulaye Niakhate Ndiaye",
          "Joseph Okumu",
          "Hans Hateboer",
          "Massadio Haïdara",
          "Nuno Mendes",
          "Gabriel Osho",
          "Quentin Merlin",
          "Duje Ćaleta-Car",
          "Nathan Zeze",
          "Abdoulaye Bamba",
          "Christian Mawissa",
          "Christopher Wooh",
          "Derek Cornelius",
          "Przemysław Frankowski",
          "Malang Sarr",
          "Julien Le Cardinal",
          "Emmanuel Biumla",
          "Emmanuel Agbadou",
          "Arouna Sangante",
          "Lilian Brassier",
          "Falaye Sacko",
          "Leo Skiri Østigård",
          "Issiaga Sylla",
          "Timothee Pembele",
          "Abner",
          "Kevin Danso",
          "Yunis Abdelhamid",
          "Mohammed Salisu",
          "Saidou Sow",
          "Théo Sainte-Luce",
          "Paul Joly",
          "Abdukodir Khusanov",
          "Anthony Rouault",
          "Sael Kumbedi",
          "Marcus Coco",
          "Abakar Sylla",
          "Yael Mouanga",
          "Ulisses Garcia",
          "Jérémy Jacquet",
          "Ismaily",
          "Hiroki Sekine",
          "Lucas Hernández",
          "Mohamed Abdelmoneim",
          "Antoine Mendy",
          "Alidu Seidu",
          "Yoann Salmier",
          "Yvann Macon",
          "Jordan Amavi",
          "Maxime Bernauer",
          "Boubakar Kouyaté",
          "Lucas Mincarelli",
          "Mikayil Ngor Faye",
          "Abdulai Juma Bah",
          "Pol Lirola",
          "Luck Zogbé",
          "Rasmus Nicolaisen",
          "Nikola Maksimović",
          "Pierre Cornud",
          "Jordan Teze",
          "Andrew Omobamidele",
          "Jean-Kevin Duverne"
         ],
         "legendgroup": "#00ff00",
         "marker": {
          "color": "#636efa",
          "symbol": "circle"
         },
         "mode": "markers",
         "name": "#00ff00",
         "orientation": "v",
         "showlegend": true,
         "type": "scatter",
         "x": {
          "bdata": "yRvvP7yY4EAXU1rAJ8xLwlFs10All0s+7FLSQLJnmj/DCgNBbEBfv73cjj5SqP9ALuHIvj5hFj+ptZPA70XyvtwKUkGyrn/AG2yEQCjiHsDqstBAq9HHwD6V+EA5ZQk/58Htv+6uksHYbYjAT1Y4P4yHZz+7CLy/4PX8QDF2wEA17ZK/qqTcv3LEvb9KaYc/8TAEQJ2H3kD8XdtAqJqOQPl2gj8HMbk/veGiQNQ7HED5KzE/RVLOwARnQUCahFZA7ISgwMFWhUGEVcxAEeAZQB/vg0D4l/E/tOpXP3RV9UBHq8tBBd0uQLmVrT/fZE/BQbsmQOOXoEBZrC4+1/FAQVWnZz0c4Bg/tnEIv99MCEE+Zv9AUSYdwEwuHkGY+UdBVweRwCfytkBVYIk/pmRSP2NYYj8p3rDAX+D7P1JVDUA4mxZBPv36wCj8g0B1IBDB7To3QBtlBcFQFIY/2w4XwKT0BkEK//DANQIbQHNCYcD8YoDAI5Bqvj0UC8CIejI+mZo+wN5/lUDJe5E/fgVkQZVtNT8low9BKK2jQHOyYUGxcbi+RXSBQHvDrD9OGYFAHsRhQHBspD8w8+1A/2gDQc2KhkAKxttA6bkkQQ==",
          "dtype": "f4"
         },
         "xaxis": "x",
         "y": {
          "bdata": "pKtvwAFP3MCVu+q+Ah40P3BFXcAD5EK/gY02vodJAD2cosTAOySrvh27mb9eXUc/jvbaPx6bFb+2I0fAFmiJwMIPmj+VGnm/TQtDwFRHlD78zWdAHyxfwIW9iz/rLxC/6PaowGldZsDsfDfAnS3mv5QZr8BvDZa/M8lhQA5+H8DtmNLAlbFDPjHSQMBvvWe/dJ+SwKwh+b8VNvHAP6YqwPC+RsCJEWvAIH8+wUYSob8laTDAsnkcwW7PUMD/1SjBgcL1wORRukJG+ExA8WK6wJOfL8ACZbu/F9xTwWyCMMDASebBr+gAvxOIn8Af/kbA72WKwAG8AsACB8A+4+uzPz8yub9yU9tA2oJ+vBPFQMBvaojAixhSwMcccb+AMaHAp0GdwCUlOsAAxn7AQLurv9WMJ8AWkxi/wC4QwdyhJ8HnkhzB5aCwv3ovTr8fhajAaqmnP7URI7/WrnDAYK3XwOjMAMGM7A7ApbfyP3B6wz+VKh7BshFBwSbKEcHMvSjA2wytwDrlcMDb8AzBqRUgwBx70cAa1UFAgQfJwIA+QMCJlwzBjvkVwCEqTMC9iea+DnUwwKpU7z5ZWnzAudO1wFTK98CD1jjA4kKIwA==",
          "dtype": "f4"
         },
         "yaxis": "y"
        },
        {
         "hovertemplate": "<b>%{hovertext}</b><br><br>color=#0000ff<br>Isomap_1=%{x}<br>Isomap_2=%{y}<extra></extra>",
         "hovertext": [
          "Andrey Santos",
          "Valentin Atangana Edoa",
          "Cristian Cásseres Jr.",
          "Benjamin André",
          "Pierre Højbjerg",
          "Adrien Thomasson",
          "Pierre Ekwah Elimby",
          "Adrien Rabiot",
          "Hicham Boudaoui",
          "Vincent Sierro",
          "Téji Savanier",
          "Pedro Chirivella",
          "Elisha Owusu",
          "Corentin Tolisso",
          "Abdoulaye Touré",
          "Hugo Magnetti",
          "Douglas",
          "Andy Diouf",
          "Denis Zakaria",
          "Hamed Junior Traorè",
          "Azor Matusiwa",
          "Lamine Camara",
          "Johann Lepenant",
          "Vitinha",
          "Nemanja Matić",
          "Jean-Eudes Aholou",
          "Fabián Ruiz Peña",
          "Joris Chotard",
          "Haris Belkebla",
          "Jordan Ferri",
          "Benjamin Bouchouari",
          "Marshall Munetsi",
          "Rabby Nzingoula",
          "Neil El Aynaoui",
          "Jordan Veretout",
          "Pierre Lees-Melou",
          "Yassin Belkhdim",
          "Kévin Danois",
          "Amadou Koné",
          "André Gomes",
          "Florian Tardieu",
          "Tanner Tessmann",
          "Ngal'Ayel Mukau",
          "Jordan James",
          "Ayyoub Bouaddi",
          "Tanguy Ndombele",
          "Djaoui Cissé",
          "Rassoul Ndiaye",
          "Han-Noah Massengo",
          "Louis Mouton",
          "Aimen Moueffek",
          "Soungoutou Magassa",
          "Oussama Targhalline",
          "Junior Mwanga",
          "Baptiste Santamaria",
          "Mathis Amougou",
          "Seko Fofana",
          "Senny Mayulu",
          "Teddy Teuma",
          "Angel Gomes",
          "Assane Dioussé",
          "Glen Kamara",
          "Ismaël Bennacer",
          "Nampalys Mendy",
          "Mahamadou Diawara",
          "Maxence Caqueret",
          "Daler Kuzyaev",
          "John Joe",
          "Amine Harit"
         ],
         "legendgroup": "#0000ff",
         "marker": {
          "color": "#EF553B",
          "symbol": "circle"
         },
         "mode": "markers",
         "name": "#0000ff",
         "orientation": "v",
         "showlegend": true,
         "type": "scatter",
         "x": {
          "bdata": "5ZUQQDqFukCX3GpAIiNCwKpYsz/ztiO/EPRmPz+kUMAuQhfC8SUtwMP00T+I4EDAROwPwEaYRD78wtg+3C6GQX62HEH1FQi/dPeYQM/Zl8BVFZg+xvK1Pf2UZ8I7QU8+omviP1gqbD3AERA/wINlwawH6UA7hh9AiyRcwLwFs79RSRNABSMZwJHOccD9FJHAqr/ovzidl0J1LrxASoyGwASVsr/1h3I96RONv+s8z8BI5GZAfMeZv8E/1cBFiIc/htKpwPNckD/jFwHBvGTnvh2K+r4s3rzAbAo+P8QY+73zeuS/FyxNPnQj4kBWYAk+FZEhQCfuAsEXo1Q/ThC7QLGbmkCWFCHARNaHQG3+EkAAzhDA",
          "dtype": "f4"
         },
         "xaxis": "x",
         "y": {
          "bdata": "WFxKP4Sd3j8vgIg/BD+NP6LhtUAbe+FAd+44QL17tUDl6du9sUZsQPX6cr7HBv0+bxZdPhHsy0DHFnlA3k7LP9kbvb55G2M/I+wIQWA0hkA7Y7G/PBfIP47830HS5469DfKJwLzPT8EETr3AXjsSQNyoEcEWuwRBZaPRPyJpWcC/f4PA/cLAQA9v4T+9w7pAE6NnPzpAD8BcTaHAWHygP6eS278mtcVAkaGMvwEUSr8jg2S+xpAlQeUca0BzVhtADKEBP8r9kECPcWxAW+kwQA/lI75x/wbAHuVRwEeGBMCg3yJAGvVBQUTGKD9uv69AfLi+P01dM7+sR7++tKOhwI1/CMANi1lAYgtawCMEhj8c0ddA",
          "dtype": "f4"
         },
         "yaxis": "y"
        },
        {
         "hovertemplate": "<b>%{hovertext}</b><br><br>color=#ff00ff<br>Isomap_1=%{x}<br>Isomap_2=%{y}<extra></extra>",
         "hovertext": [
          "Himad Abdelli",
          "Mason Greenwood",
          "Zuriko Davitashvili",
          "Gaëtan Perrin",
          "Junya Ito",
          "Mahdi Camara",
          "Keito Nakamura",
          "Moses Simon",
          "Arnaud Kalimuendo",
          "Evann Guessand",
          "Maghnes Akliouche",
          "Habib Diarra",
          "Yann Gboho",
          "Lassine Sinayoko",
          "Ludovic Blas",
          "Takumi Minamino",
          "Sebastian Nanasi",
          "Yassine Kechta",
          "Rayan Cherki",
          "Josué Casimir",
          "Issa Soumaré",
          "Zakaria Aboukhlal",
          "Breel Embolo",
          "Florian Sotoca",
          "Félix Lemaréchal",
          "Hákon Arnar Haraldsson",
          "Eliesse Ben Seghir",
          "Désiré Doué",
          "Joshua King",
          "Lee Kang-in",
          "Mohamed Ali Cho",
          "Mathias Pereira Lage",
          "Frank Magri",
          "Tanguy Coulibaly",
          "Anass Zaroury",
          "Kamory Doumbia",
          "Sorba Thomas",
          "Osame Sahraoui",
          "Abdallah Sima",
          "Shavy Babicka",
          "Aleksandr Golovin",
          "Wahbi Khazri",
          "Musa Al-Taamari",
          "Badredine Bouanani",
          "Matias Fernandez-Pardo",
          "Sofiane Diop",
          "Jeremie Boga",
          "Ernest Nuamah",
          "Amine Gouiri",
          "Angelo Fulgini",
          "Khalil Fayad",
          "Rémy Cabella",
          "Edon Zhegrova",
          "Ado Onaiwu",
          "Thiago Almada",
          "Antoine Joujou",
          "Romain Faivre",
          "Mamadou Diakhon",
          "Zinedine Ferhat",
          "Albert Grønbaek",
          "Jonathan Rowe",
          "Sekou Mara",
          "Saïd Benrahma",
          "Augustine Boakye",
          "Mathieu Cafaro",
          "Emmanuel Sabbi",
          "Rémy Labeau Lascary",
          "Yaya Kader Fofana",
          "Marco Asensio",
          "Ben Old",
          "Tino Kadewere"
         ],
         "legendgroup": "#ff00ff",
         "marker": {
          "color": "#00cc96",
          "symbol": "circle"
         },
         "mode": "markers",
         "name": "#ff00ff",
         "orientation": "v",
         "showlegend": true,
         "type": "scatter",
         "x": {
          "bdata": "/ye4vOORDEDQdd+/Ob+DPVh4479f8oo+Z9SUwSfAxcDi6qS/a0bJwJiUTMHyT2zA7mZdQlWWusAZ9g1Aa8V8QGUgVkCPuNq/kyclvvRww78YJDvAYQ9nwqE7j8FYfgFAWKSFPkCoRMCWKU1AMXVgwBT8E0Ijt3DA4EGHwG13p76pSwXA7WksPzksTcCm6QFAZrniPmq7EUDoFDm/tYbHv7NClsCJV+e+HF+GP98lar89sB6/rqCaQLWqMsDbSi7A8B+fPqJ6vr62DDE/XFIbwNOPA8GU/vw/NkkKwB3bNMBynpU/aU8EvyaL3L6ECDrAT5oawWV6Z0Cr/BzBSfuzvzigYcCB2zjAFQQcP06518ASwdzAtddnwPUwhD8=",
          "dtype": "f4"
         },
         "xaxis": "x",
         "y": {
          "bdata": "fR5OQLjWJUEEXzRA8v80v703L8Ak8U9ANm3jQBjGGkEYjS2/QEMBQW4rd0BHJ7lAr6e+wS/nOUAuvLA/aVGEQHpltsB9eLk/S7RHwK70gkCVwVVAkSG4QSy36T8sgnFAgSMLQG6rrkHBrRtBnYVTQEhEnDkWrw2/YCKgvzTpfsCEfK9A6hv7wJXzNMAdpn+9XrITwEW+SkC2ajA+EC6+QBfHw0CD8DrAUugcQYEV5kBa5sVAFDMWv2LSEUAAvsM+mMsUwIjF6z/ruWJAs1cuQCmWmb8uUsQ/Ln8jQDHulkAW05pANv4bQWo9ssBZL01AQHreP5tJA8Cn02I/BAmFQOC9eL/HV8rAH1BcwFljHD8GMJTAQccNQGRTDL0=",
          "dtype": "f4"
         },
         "yaxis": "y"
        },
        {
         "hovertemplate": "<b>%{hovertext}</b><br><br>color=#ff0000<br>Isomap_1=%{x}<br>Isomap_2=%{y}<extra></extra>",
         "hovertext": [
          "Matthis Abline",
          "Jonathan David",
          "Ludovic Ajorque",
          "Emanuel Emegha",
          "Bradley Barcola",
          "Alexandre Lacazette",
          "Farid El Melali",
          "Lucas Stassin",
          "Gaëtan Laborde",
          "Jim Allevinah",
          "Ousmane Dembélé",
          "Esteban Lepaul",
          "Oumar Diakité",
          "Malick Fofana",
          "M'Bala Nzola",
          "André Ayew",
          "Georges Mikautadze",
          "Romain Del Castillo",
          "Mostafa Mohamed",
          "Mika Biereth",
          "Arnaud Nordin",
          "Mama Samba Baldé",
          "Akor Adams",
          "Gonçalo Ramos",
          "Irvin Cardona",
          "Neal Maupay",
          "Ibrahima Niane",
          "Theo Bair",
          "Khvicha Kvaratskhelia",
          "Wesley Saïd",
          "Goduine Koyalipou",
          "Koka",
          "Ibrahim Sissoko",
          "George Ilenikhena",
          "Chuba Akpom",
          "Folarin Balogun",
          "Andy Delort",
          "Florian Ayé",
          "Elye Wahi",
          "Mohamed Meité",
          "Bamba Dieng"
         ],
         "legendgroup": "#ff0000",
         "marker": {
          "color": "#ab63fa",
          "symbol": "circle"
         },
         "mode": "markers",
         "name": "#ff0000",
         "orientation": "v",
         "showlegend": true,
         "type": "scatter",
         "x": {
          "bdata": "CsqWwJYUk8Cve7k/iNwkwY/uFkCdlpTAOTYRQIcy3cCy2aO/Yr9XwMTbnL8x37pC7+0AvtYqncD6olvA0oo5wOvmKL+soAlAEQRiwIbYasCZD7U+ChTJP24QC8EBg8bAQ8bsPm261b/nBGbAoF4PQCD3pb0eW0u/yIVJQGlX/sDWFbG/dtLswC5hg8Ct688/4A87wATb37721GnAoWiHvxJL/sA=",
          "dtype": "f4"
         },
         "xaxis": "x",
         "y": {
          "bdata": "BKuFQFS6g78tUKM/gymlQMRBREBODq9ACxiPQPtqUUD/nZo/JHkFPxgO60CmsapCq86HQHmT2kBl2ktBjpKbP5F1HEBQKIM851b5v88w5ECeAfM/GZqOP+LIckDJfw9BQx2dQAGrdEBF4DNALuKZQG0FfkAfgLe/+9ENQRQ3DkD13/hA3jUSQZs1aUA8CHdBau0NQbe/fT7WzRxBlhdHQfI980A=",
          "dtype": "f4"
         },
         "yaxis": "y"
        },
        {
         "hovertemplate": "<b>%{hovertext}</b><br><br>color=#00ffff<br>Isomap_1=%{x}<br>Isomap_2=%{y}<extra></extra>",
         "hovertext": [
          "Adrien Truffert",
          "Aron Dønnum",
          "Ismaël Doukouré",
          "Jean-Charles Castelletto",
          "Diego Moreira",
          "Dilane Bakwa",
          "Lorenz Assignon",
          "Jonathan Clauss",
          "Nicolas Cozza",
          "Warren Zaïre-Emery",
          "Geoffrey Kondogbia",
          "Melvin Bard",
          "João Neves",
          "Deiver Machado",
          "Pablo Rosario",
          "Valentin Rongier",
          "Ali Abdi",
          "Nhoa Sangui",
          "Valentín Barco",
          "Mory Gbane",
          "Ruben Aguilar",
          "Jaydee Canvot",
          "Edimilson Fernandes",
          "Warren Kamanzi",
          "Louis Leroux",
          "Tom Louchet",
          "Rayan Raveloson",
          "Jhoanner Chávez",
          "Fodé Ballo-Touré"
         ],
         "legendgroup": "#00ffff",
         "marker": {
          "color": "#FFA15A",
          "symbol": "circle"
         },
         "mode": "markers",
         "name": "#00ffff",
         "orientation": "v",
         "showlegend": true,
         "type": "scatter",
         "x": {
          "bdata": "Fs7Cvxia8D9VQSnAk1G0QGeb3T/mjTBAk7CKQHcmPb2ZGgm/bplbwAyEtcChv7VAlG5dwMemCEFTbG0+NvGDwM7sbr8ZTp7AHaZJP1r9jUDNecpAQyzAPROElz9Pgq7AQTRdwFyUW8DdQrvAOmD9wAbuoL8=",
          "dtype": "f4"
         },
         "xaxis": "x",
         "y": {
          "bdata": "Jcr7wKAmRD9nMVvAWUXswP+4dUBokxVBhtCuvEjBwD9rwtHAsxyVwASfhb9Dh66/5m92vx6wUT9XgXJAD9d1P6oDYcBSsjbA0cpnPkQTSMDG3d/AO2E0wJrA2DybHL4+U35sQIVThkCdUARASCAuwEcdEcE=",
          "dtype": "f4"
         },
         "yaxis": "y"
        },
        {
         "hovertemplate": "<b>%{hovertext}</b><br><br>color=#ffff00<br>Isomap_1=%{x}<br>Isomap_2=%{y}<extra></extra>",
         "hovertext": [
          "Luis Henrique",
          "Loïc Nego",
          "Lilian Raolisoa",
          "Christopher Operi",
          "Mitchel Bakker",
          "Yanis Zouaoui",
          "Jacques Ekomie",
          "Krépin Diatta"
         ],
         "legendgroup": "#ffff00",
         "marker": {
          "color": "#19d3f3",
          "symbol": "circle"
         },
         "mode": "markers",
         "name": "#ffff00",
         "orientation": "v",
         "showlegend": true,
         "type": "scatter",
         "x": {
          "bdata": "vQv5v2Na6b/TFTNAPR5MQK3tN8AXeJg+k9htv9Dzsr4=",
          "dtype": "f4"
         },
         "xaxis": "x",
         "y": {
          "bdata": "bWStPiWfBMDTaCy/wDNwwA06277oR7q/6yqowLCzqsA=",
          "dtype": "f4"
         },
         "yaxis": "y"
        }
       ],
       "layout": {
        "height": 900,
        "legend": {
         "title": {
          "text": "color"
         },
         "tracegroupgap": 0
        },
        "template": {
         "data": {
          "bar": [
           {
            "error_x": {
             "color": "#2a3f5f"
            },
            "error_y": {
             "color": "#2a3f5f"
            },
            "marker": {
             "line": {
              "color": "#E5ECF6",
              "width": 0.5
             },
             "pattern": {
              "fillmode": "overlay",
              "size": 10,
              "solidity": 0.2
             }
            },
            "type": "bar"
           }
          ],
          "barpolar": [
           {
            "marker": {
             "line": {
              "color": "#E5ECF6",
              "width": 0.5
             },
             "pattern": {
              "fillmode": "overlay",
              "size": 10,
              "solidity": 0.2
             }
            },
            "type": "barpolar"
           }
          ],
          "carpet": [
           {
            "aaxis": {
             "endlinecolor": "#2a3f5f",
             "gridcolor": "white",
             "linecolor": "white",
             "minorgridcolor": "white",
             "startlinecolor": "#2a3f5f"
            },
            "baxis": {
             "endlinecolor": "#2a3f5f",
             "gridcolor": "white",
             "linecolor": "white",
             "minorgridcolor": "white",
             "startlinecolor": "#2a3f5f"
            },
            "type": "carpet"
           }
          ],
          "choropleth": [
           {
            "colorbar": {
             "outlinewidth": 0,
             "ticks": ""
            },
            "type": "choropleth"
           }
          ],
          "contour": [
           {
            "colorbar": {
             "outlinewidth": 0,
             "ticks": ""
            },
            "colorscale": [
             [
              0,
              "#0d0887"
             ],
             [
              0.1111111111111111,
              "#46039f"
             ],
             [
              0.2222222222222222,
              "#7201a8"
             ],
             [
              0.3333333333333333,
              "#9c179e"
             ],
             [
              0.4444444444444444,
              "#bd3786"
             ],
             [
              0.5555555555555556,
              "#d8576b"
             ],
             [
              0.6666666666666666,
              "#ed7953"
             ],
             [
              0.7777777777777778,
              "#fb9f3a"
             ],
             [
              0.8888888888888888,
              "#fdca26"
             ],
             [
              1,
              "#f0f921"
             ]
            ],
            "type": "contour"
           }
          ],
          "contourcarpet": [
           {
            "colorbar": {
             "outlinewidth": 0,
             "ticks": ""
            },
            "type": "contourcarpet"
           }
          ],
          "heatmap": [
           {
            "colorbar": {
             "outlinewidth": 0,
             "ticks": ""
            },
            "colorscale": [
             [
              0,
              "#0d0887"
             ],
             [
              0.1111111111111111,
              "#46039f"
             ],
             [
              0.2222222222222222,
              "#7201a8"
             ],
             [
              0.3333333333333333,
              "#9c179e"
             ],
             [
              0.4444444444444444,
              "#bd3786"
             ],
             [
              0.5555555555555556,
              "#d8576b"
             ],
             [
              0.6666666666666666,
              "#ed7953"
             ],
             [
              0.7777777777777778,
              "#fb9f3a"
             ],
             [
              0.8888888888888888,
              "#fdca26"
             ],
             [
              1,
              "#f0f921"
             ]
            ],
            "type": "heatmap"
           }
          ],
          "histogram": [
           {
            "marker": {
             "pattern": {
              "fillmode": "overlay",
              "size": 10,
              "solidity": 0.2
             }
            },
            "type": "histogram"
           }
          ],
          "histogram2d": [
           {
            "colorbar": {
             "outlinewidth": 0,
             "ticks": ""
            },
            "colorscale": [
             [
              0,
              "#0d0887"
             ],
             [
              0.1111111111111111,
              "#46039f"
             ],
             [
              0.2222222222222222,
              "#7201a8"
             ],
             [
              0.3333333333333333,
              "#9c179e"
             ],
             [
              0.4444444444444444,
              "#bd3786"
             ],
             [
              0.5555555555555556,
              "#d8576b"
             ],
             [
              0.6666666666666666,
              "#ed7953"
             ],
             [
              0.7777777777777778,
              "#fb9f3a"
             ],
             [
              0.8888888888888888,
              "#fdca26"
             ],
             [
              1,
              "#f0f921"
             ]
            ],
            "type": "histogram2d"
           }
          ],
          "histogram2dcontour": [
           {
            "colorbar": {
             "outlinewidth": 0,
             "ticks": ""
            },
            "colorscale": [
             [
              0,
              "#0d0887"
             ],
             [
              0.1111111111111111,
              "#46039f"
             ],
             [
              0.2222222222222222,
              "#7201a8"
             ],
             [
              0.3333333333333333,
              "#9c179e"
             ],
             [
              0.4444444444444444,
              "#bd3786"
             ],
             [
              0.5555555555555556,
              "#d8576b"
             ],
             [
              0.6666666666666666,
              "#ed7953"
             ],
             [
              0.7777777777777778,
              "#fb9f3a"
             ],
             [
              0.8888888888888888,
              "#fdca26"
             ],
             [
              1,
              "#f0f921"
             ]
            ],
            "type": "histogram2dcontour"
           }
          ],
          "mesh3d": [
           {
            "colorbar": {
             "outlinewidth": 0,
             "ticks": ""
            },
            "type": "mesh3d"
           }
          ],
          "parcoords": [
           {
            "line": {
             "colorbar": {
              "outlinewidth": 0,
              "ticks": ""
             }
            },
            "type": "parcoords"
           }
          ],
          "pie": [
           {
            "automargin": true,
            "type": "pie"
           }
          ],
          "scatter": [
           {
            "fillpattern": {
             "fillmode": "overlay",
             "size": 10,
             "solidity": 0.2
            },
            "type": "scatter"
           }
          ],
          "scatter3d": [
           {
            "line": {
             "colorbar": {
              "outlinewidth": 0,
              "ticks": ""
             }
            },
            "marker": {
             "colorbar": {
              "outlinewidth": 0,
              "ticks": ""
             }
            },
            "type": "scatter3d"
           }
          ],
          "scattercarpet": [
           {
            "marker": {
             "colorbar": {
              "outlinewidth": 0,
              "ticks": ""
             }
            },
            "type": "scattercarpet"
           }
          ],
          "scattergeo": [
           {
            "marker": {
             "colorbar": {
              "outlinewidth": 0,
              "ticks": ""
             }
            },
            "type": "scattergeo"
           }
          ],
          "scattergl": [
           {
            "marker": {
             "colorbar": {
              "outlinewidth": 0,
              "ticks": ""
             }
            },
            "type": "scattergl"
           }
          ],
          "scattermap": [
           {
            "marker": {
             "colorbar": {
              "outlinewidth": 0,
              "ticks": ""
             }
            },
            "type": "scattermap"
           }
          ],
          "scattermapbox": [
           {
            "marker": {
             "colorbar": {
              "outlinewidth": 0,
              "ticks": ""
             }
            },
            "type": "scattermapbox"
           }
          ],
          "scatterpolar": [
           {
            "marker": {
             "colorbar": {
              "outlinewidth": 0,
              "ticks": ""
             }
            },
            "type": "scatterpolar"
           }
          ],
          "scatterpolargl": [
           {
            "marker": {
             "colorbar": {
              "outlinewidth": 0,
              "ticks": ""
             }
            },
            "type": "scatterpolargl"
           }
          ],
          "scatterternary": [
           {
            "marker": {
             "colorbar": {
              "outlinewidth": 0,
              "ticks": ""
             }
            },
            "type": "scatterternary"
           }
          ],
          "surface": [
           {
            "colorbar": {
             "outlinewidth": 0,
             "ticks": ""
            },
            "colorscale": [
             [
              0,
              "#0d0887"
             ],
             [
              0.1111111111111111,
              "#46039f"
             ],
             [
              0.2222222222222222,
              "#7201a8"
             ],
             [
              0.3333333333333333,
              "#9c179e"
             ],
             [
              0.4444444444444444,
              "#bd3786"
             ],
             [
              0.5555555555555556,
              "#d8576b"
             ],
             [
              0.6666666666666666,
              "#ed7953"
             ],
             [
              0.7777777777777778,
              "#fb9f3a"
             ],
             [
              0.8888888888888888,
              "#fdca26"
             ],
             [
              1,
              "#f0f921"
             ]
            ],
            "type": "surface"
           }
          ],
          "table": [
           {
            "cells": {
             "fill": {
              "color": "#EBF0F8"
             },
             "line": {
              "color": "white"
             }
            },
            "header": {
             "fill": {
              "color": "#C8D4E3"
             },
             "line": {
              "color": "white"
             }
            },
            "type": "table"
           }
          ]
         },
         "layout": {
          "annotationdefaults": {
           "arrowcolor": "#2a3f5f",
           "arrowhead": 0,
           "arrowwidth": 1
          },
          "autotypenumbers": "strict",
          "coloraxis": {
           "colorbar": {
            "outlinewidth": 0,
            "ticks": ""
           }
          },
          "colorscale": {
           "diverging": [
            [
             0,
             "#8e0152"
            ],
            [
             0.1,
             "#c51b7d"
            ],
            [
             0.2,
             "#de77ae"
            ],
            [
             0.3,
             "#f1b6da"
            ],
            [
             0.4,
             "#fde0ef"
            ],
            [
             0.5,
             "#f7f7f7"
            ],
            [
             0.6,
             "#e6f5d0"
            ],
            [
             0.7,
             "#b8e186"
            ],
            [
             0.8,
             "#7fbc41"
            ],
            [
             0.9,
             "#4d9221"
            ],
            [
             1,
             "#276419"
            ]
           ],
           "sequential": [
            [
             0,
             "#0d0887"
            ],
            [
             0.1111111111111111,
             "#46039f"
            ],
            [
             0.2222222222222222,
             "#7201a8"
            ],
            [
             0.3333333333333333,
             "#9c179e"
            ],
            [
             0.4444444444444444,
             "#bd3786"
            ],
            [
             0.5555555555555556,
             "#d8576b"
            ],
            [
             0.6666666666666666,
             "#ed7953"
            ],
            [
             0.7777777777777778,
             "#fb9f3a"
            ],
            [
             0.8888888888888888,
             "#fdca26"
            ],
            [
             1,
             "#f0f921"
            ]
           ],
           "sequentialminus": [
            [
             0,
             "#0d0887"
            ],
            [
             0.1111111111111111,
             "#46039f"
            ],
            [
             0.2222222222222222,
             "#7201a8"
            ],
            [
             0.3333333333333333,
             "#9c179e"
            ],
            [
             0.4444444444444444,
             "#bd3786"
            ],
            [
             0.5555555555555556,
             "#d8576b"
            ],
            [
             0.6666666666666666,
             "#ed7953"
            ],
            [
             0.7777777777777778,
             "#fb9f3a"
            ],
            [
             0.8888888888888888,
             "#fdca26"
            ],
            [
             1,
             "#f0f921"
            ]
           ]
          },
          "colorway": [
           "#636efa",
           "#EF553B",
           "#00cc96",
           "#ab63fa",
           "#FFA15A",
           "#19d3f3",
           "#FF6692",
           "#B6E880",
           "#FF97FF",
           "#FECB52"
          ],
          "font": {
           "color": "#2a3f5f"
          },
          "geo": {
           "bgcolor": "white",
           "lakecolor": "white",
           "landcolor": "#E5ECF6",
           "showlakes": true,
           "showland": true,
           "subunitcolor": "white"
          },
          "hoverlabel": {
           "align": "left"
          },
          "hovermode": "closest",
          "mapbox": {
           "style": "light"
          },
          "paper_bgcolor": "white",
          "plot_bgcolor": "#E5ECF6",
          "polar": {
           "angularaxis": {
            "gridcolor": "white",
            "linecolor": "white",
            "ticks": ""
           },
           "bgcolor": "#E5ECF6",
           "radialaxis": {
            "gridcolor": "white",
            "linecolor": "white",
            "ticks": ""
           }
          },
          "scene": {
           "xaxis": {
            "backgroundcolor": "#E5ECF6",
            "gridcolor": "white",
            "gridwidth": 2,
            "linecolor": "white",
            "showbackground": true,
            "ticks": "",
            "zerolinecolor": "white"
           },
           "yaxis": {
            "backgroundcolor": "#E5ECF6",
            "gridcolor": "white",
            "gridwidth": 2,
            "linecolor": "white",
            "showbackground": true,
            "ticks": "",
            "zerolinecolor": "white"
           },
           "zaxis": {
            "backgroundcolor": "#E5ECF6",
            "gridcolor": "white",
            "gridwidth": 2,
            "linecolor": "white",
            "showbackground": true,
            "ticks": "",
            "zerolinecolor": "white"
           }
          },
          "shapedefaults": {
           "line": {
            "color": "#2a3f5f"
           }
          },
          "ternary": {
           "aaxis": {
            "gridcolor": "white",
            "linecolor": "white",
            "ticks": ""
           },
           "baxis": {
            "gridcolor": "white",
            "linecolor": "white",
            "ticks": ""
           },
           "bgcolor": "#E5ECF6",
           "caxis": {
            "gridcolor": "white",
            "linecolor": "white",
            "ticks": ""
           }
          },
          "title": {
           "x": 0.05
          },
          "xaxis": {
           "automargin": true,
           "gridcolor": "white",
           "linecolor": "white",
           "ticks": "",
           "title": {
            "standoff": 15
           },
           "zerolinecolor": "white",
           "zerolinewidth": 2
          },
          "yaxis": {
           "automargin": true,
           "gridcolor": "white",
           "linecolor": "white",
           "ticks": "",
           "title": {
            "standoff": 15
           },
           "zerolinecolor": "white",
           "zerolinewidth": 2
          }
         }
        },
        "title": {
         "text": "t-SNE – Per90min data"
        },
        "width": 1100,
        "xaxis": {
         "anchor": "y",
         "domain": [
          0,
          1
         ],
         "title": {
          "text": "Isomap_1"
         }
        },
        "yaxis": {
         "anchor": "x",
         "domain": [
          0,
          1
         ],
         "title": {
          "text": "Isomap_2"
         }
        }
       }
      },
      "image/png": "[encoded data removed]"
     },
     "metadata": {},
     "output_type": "display_data"
    },
    {
     "data": {
      "application/vnd.plotly.v1+json": {
       "config": {
        "plotlyServerURL": "https://plot.ly"
       },
       "data": [
        {
         "hovertemplate": "<b>%{hovertext}</b><br><br>color=#00ff00<br>Isomap_1=%{x}<br>Isomap_2=%{y}<extra></extra>",
         "hovertext": [
          "Jordan Lefort",
          "Gautier Lloris",
          "Bafodé Diakité",
          "Moussa Niakhate",
          "Guela Doué",
          "Alexsandro Ribeiro",
          "Kenny Lala",
          "Florent Hanin",
          "Jubal",
          "Léo Pétrot",
          "Charlie Cresswell",
          "Facundo Medina",
          "Sergio Akieme",
          "Mark McKenzie",
          "Clément Akpa",
          "Michael Amir Murillo",
          "Brendan Chardonnet",
          "Thilo Kehrer",
          "Clinton Mata",
          "Mamadou Sarr",
          "Etienne Youte Kinkoue",
          "Mickael Nade",
          "Gideon Mensah",
          "Leonardo Balerdi",
          "Moïse Bombito",
          "Cédric Kipré",
          "Kelvin Amian",
          "Gabriel Suazo",
          "Modibo Sagnan",
          "Willian Pacho",
          "Dennis Appiah",
          "Ki-Jana Hoever",
          "Jonathan Gradit",
          "Djibril Sidibé",
          "Wilfried Singo",
          "Achraf Hakimi",
          "Vanderson",
          "Carlens Arcus",
          "Nicolas Pallois",
          "Dylan Batubinsika",
          "Lucas Beraldo",
          "Ainsley Maitland-Niles",
          "Aurélio Buta",
          "Dante",
          "Sinaly Diomande",
          "Youssouf Ndayishimiye",
          "Caio Henrique Oliveira Silva",
          "Thomas Meunier",
          "Nicolás Tagliafico",
          "Enzo Tchato",
          "Becir Omeragic",
          "Gabriel Gudmundsson",
          "Aïssa Mandi",
          "Marquinhos",
          "Abdoulaye Niakhate Ndiaye",
          "Joseph Okumu",
          "Hans Hateboer",
          "Massadio Haïdara",
          "Nuno Mendes",
          "Gabriel Osho",
          "Quentin Merlin",
          "Duje Ćaleta-Car",
          "Nathan Zeze",
          "Abdoulaye Bamba",
          "Christian Mawissa",
          "Christopher Wooh",
          "Derek Cornelius",
          "Przemysław Frankowski",
          "Malang Sarr",
          "Julien Le Cardinal",
          "Emmanuel Biumla",
          "Emmanuel Agbadou",
          "Arouna Sangante",
          "Lilian Brassier",
          "Falaye Sacko",
          "Leo Skiri Østigård",
          "Issiaga Sylla",
          "Timothee Pembele",
          "Abner",
          "Kevin Danso",
          "Yunis Abdelhamid",
          "Mohammed Salisu",
          "Saidou Sow",
          "Théo Sainte-Luce",
          "Paul Joly",
          "Abdukodir Khusanov",
          "Anthony Rouault",
          "Sael Kumbedi",
          "Marcus Coco",
          "Abakar Sylla",
          "Yael Mouanga",
          "Ulisses Garcia",
          "Jérémy Jacquet",
          "Ismaily",
          "Hiroki Sekine",
          "Lucas Hernández",
          "Mohamed Abdelmoneim",
          "Antoine Mendy",
          "Alidu Seidu",
          "Yoann Salmier",
          "Yvann Macon",
          "Jordan Amavi",
          "Maxime Bernauer",
          "Boubakar Kouyaté",
          "Lucas Mincarelli",
          "Mikayil Ngor Faye",
          "Abdulai Juma Bah",
          "Pol Lirola",
          "Luck Zogbé",
          "Rasmus Nicolaisen",
          "Nikola Maksimović",
          "Pierre Cornud",
          "Jordan Teze",
          "Andrew Omobamidele",
          "Jean-Kevin Duverne"
         ],
         "legendgroup": "#00ff00",
         "marker": {
          "color": "#636efa",
          "symbol": "circle"
         },
         "mode": "markers",
         "name": "#00ff00",
         "orientation": "v",
         "showlegend": true,
         "type": "scatter",
         "x": {
          "bdata": "hyVQwbw0HcDrxj9AjVWzQEr5HMAcj8K/DUgNwEzBxsA90BNBltUSwHAFn0BYFR7ACUNYwLEgbEBwj98+XwHOP2NDpj+U6LhAO0W/vfqVyj+oipE/3sUbQY9/nMDLr7pAQ0rXQAaCNUJXurHA9KUNwYoGbUAtNIY+NEgFwBHhRL+yxeRBdEtEwLs+HMC2E84/phN1wOmSH8D06d0/r2W0v+gapUBKZ5LAjJDhP333sT/Wt0VBa4KHQCL4BUGk3zI/G0YiPw991MCt16y/OCMewRa68UDBYA1BEhQvQEm02UCxsHpBcRcQwbwGF0CZ0Py9p0riv6i9nUChFmlAnqKlPxeGrr5xhrtAyF5OQCrR47/S2r+/z+CtPxZgREA6oxZBgEm0QAWRo76frwHAWeXOQBzhdsHDN7a/rqUlQWW8lT+SvRxA4xtDQEtBAEAFhCPBoc8ewGSZyz91958/4IMHwTHSGMEZMchAk2ahP5/uYMDjs8g/aouGv6Er6b20haw/F3Y4v4Q3VsCKmBHA7iXQP89xx8CxI2W/afDOQNgHJUDBBrnAD41QQFMTwkC01w6+6/a7v3DyBL92/bE/IUr8vwusCcFIKhBB/YrHwA==",
          "dtype": "f4"
         },
         "xaxis": "x",
         "y": {
          "bdata": "uB+mQIsiQMH6xQ/BIOCZvzmUn8AiJpfAtL1qwAYQLD6PTeDAA0nGwIgeKcEzYxXBpUiYQC33qL+6HUG/TIK+vxIlnb15vkXBrVAXwD4MJ76qlt2+9G1bwHqik8C2T7bAvdZyQBwBC0B8aLM/nt/sv3QsUcCA5qw/hlgHwZNqJcGJF+1APZfbPxFNYD+tsHDAmcjFwIl33r7Jk8XAP3eGQCbrO8CjwRG/6UfqwO2S2MDl+vnAuDr8wLXE2EBGh+DAANoSwCGLucDssA3A8hF1PVx6PT2vH/a/26suwHXSQUAUM4TAFFCQPWoeBcAJF6U+1N5OwRVYa8A1/BHA9/rUvzPDpUB1fuO/6GAKwNOmv8CNFhZA0nU4wOncFcGRVT5ARubewHC5ZD8Jw53ARfeLvymsacD06QE/7BJMQJYmJ8H5XYLAz0nHwHayoT94ZH2++hLJwFNNgb+fxyi/MJT0P7ksBcD+bBLBesgzwHAanD8Ot9m9uikJwQvKmL/ez1TAVk6ewKx0lcCg/erAVpaRPvirAEBu7ETBH8CmwHJbXT9lziQ+cY6YwMOAIcDAB5Q/82GYwLR1Cb+W9/+/1KKGwPlpCsFo+/fAngYywA==",
          "dtype": "f4"
         },
         "yaxis": "y"
        },
        {
         "hovertemplate": "<b>%{hovertext}</b><br><br>color=#0000ff<br>Isomap_1=%{x}<br>Isomap_2=%{y}<extra></extra>",
         "hovertext": [
          "Andrey Santos",
          "Valentin Atangana Edoa",
          "Cristian Cásseres Jr.",
          "Benjamin André",
          "Pierre Højbjerg",
          "Adrien Thomasson",
          "Pierre Ekwah Elimby",
          "Adrien Rabiot",
          "Hicham Boudaoui",
          "Vincent Sierro",
          "Téji Savanier",
          "Pedro Chirivella",
          "Elisha Owusu",
          "Corentin Tolisso",
          "Abdoulaye Touré",
          "Hugo Magnetti",
          "Douglas",
          "Andy Diouf",
          "Denis Zakaria",
          "Hamed Junior Traorè",
          "Azor Matusiwa",
          "Lamine Camara",
          "Johann Lepenant",
          "Vitinha",
          "Nemanja Matić",
          "Jean-Eudes Aholou",
          "Fabián Ruiz Peña",
          "Joris Chotard",
          "Haris Belkebla",
          "Jordan Ferri",
          "Benjamin Bouchouari",
          "Marshall Munetsi",
          "Rabby Nzingoula",
          "Neil El Aynaoui",
          "Jordan Veretout",
          "Pierre Lees-Melou",
          "Yassin Belkhdim",
          "Kévin Danois",
          "Amadou Koné",
          "André Gomes",
          "Florian Tardieu",
          "Tanner Tessmann",
          "Ngal'Ayel Mukau",
          "Jordan James",
          "Ayyoub Bouaddi",
          "Tanguy Ndombele",
          "Djaoui Cissé",
          "Rassoul Ndiaye",
          "Han-Noah Massengo",
          "Louis Mouton",
          "Aimen Moueffek",
          "Soungoutou Magassa",
          "Oussama Targhalline",
          "Junior Mwanga",
          "Baptiste Santamaria",
          "Mathis Amougou",
          "Seko Fofana",
          "Senny Mayulu",
          "Teddy Teuma",
          "Angel Gomes",
          "Assane Dioussé",
          "Glen Kamara",
          "Ismaël Bennacer",
          "Nampalys Mendy",
          "Mahamadou Diawara",
          "Maxence Caqueret",
          "Daler Kuzyaev",
          "John Joe",
          "Amine Harit"
         ],
         "legendgroup": "#0000ff",
         "marker": {
          "color": "#EF553B",
          "symbol": "circle"
         },
         "mode": "markers",
         "name": "#0000ff",
         "orientation": "v",
         "showlegend": true,
         "type": "scatter",
         "x": {
          "bdata": "wpVEP6/1nD/SUCc/tb6KQIKvwkD3/6zAfJ7DQKILkTzHOWTANAcMQZqvgb/UtDrBi/kHwHBYAsAkCRBA2oegQRplrcCIbIpAvGLZQAeyH797NL3AYLAgwUUOTsLiezdBoo/0QPAh+r/Lp9dAFlduQEdX87ydJuw+vlILQCzBjcDRap/A9dxSvzcaNUGd6SBAuW2uvZ7fp8BhdfA9+fnoQIzp4D/LQFVBFaigPz4O0742OcY+1sa0QNWxIUEURrq/osFLP9FVxkBMkodATl8pQGRiKUAnC7c/QSGNQIZfhD9QZpBAU0UAQThRAb5+qlJAg6hFQZeaCEHL+8VAvji2QC+hhj84tv9ACumRwIqPqL/l749A",
          "dtype": "f4"
         },
         "xaxis": "x",
         "y": {
          "bdata": "4V8gvwnX2T+/HKnArXiGv1+GicDPoDS/ZDT3PwmDp8Dh382/n7sFQYwbv8DSdirB3Xu4QIn8aMDTHx5Bg3IFwcpKc77fIBFBQxSGP7zt2D/31kHB9BbgwEXVmUHHOFzAAoYpwITvpz0k0Jy/vcSwv9+0qUCgrw1Asq3iQKq0CUFgMUM/ThTkvmiKor/kUSq/jHSIQOyIN0DJX55AeI1awHOaEr/zAzdA32CewN/lDsD5YCtAJAQmQV8/Xj9hOjRA6hYwQfCWo77mErdAirK8v5TFPEGPaRVAKBDhv5xCJ0Fy/mQ/E3e7QK577MDcpJk/lHjDQMvfnUDyG7zAx/sUQYnfkkD7AXO/fpAyQNZL8z+oqmfA",
          "dtype": "f4"
         },
         "yaxis": "y"
        },
        {
         "hovertemplate": "<b>%{hovertext}</b><br><br>color=#ff00ff<br>Isomap_1=%{x}<br>Isomap_2=%{y}<extra></extra>",
         "hovertext": [
          "Himad Abdelli",
          "Mason Greenwood",
          "Zuriko Davitashvili",
          "Gaëtan Perrin",
          "Junya Ito",
          "Mahdi Camara",
          "Keito Nakamura",
          "Moses Simon",
          "Arnaud Kalimuendo",
          "Evann Guessand",
          "Maghnes Akliouche",
          "Habib Diarra",
          "Yann Gboho",
          "Lassine Sinayoko",
          "Ludovic Blas",
          "Takumi Minamino",
          "Sebastian Nanasi",
          "Yassine Kechta",
          "Rayan Cherki",
          "Josué Casimir",
          "Issa Soumaré",
          "Zakaria Aboukhlal",
          "Breel Embolo",
          "Florian Sotoca",
          "Félix Lemaréchal",
          "Hákon Arnar Haraldsson",
          "Eliesse Ben Seghir",
          "Désiré Doué",
          "Joshua King",
          "Lee Kang-in",
          "Mohamed Ali Cho",
          "Mathias Pereira Lage",
          "Frank Magri",
          "Tanguy Coulibaly",
          "Anass Zaroury",
          "Kamory Doumbia",
          "Sorba Thomas",
          "Osame Sahraoui",
          "Abdallah Sima",
          "Shavy Babicka",
          "Aleksandr Golovin",
          "Wahbi Khazri",
          "Musa Al-Taamari",
          "Badredine Bouanani",
          "Matias Fernandez-Pardo",
          "Sofiane Diop",
          "Jeremie Boga",
          "Ernest Nuamah",
          "Amine Gouiri",
          "Angelo Fulgini",
          "Khalil Fayad",
          "Rémy Cabella",
          "Edon Zhegrova",
          "Ado Onaiwu",
          "Thiago Almada",
          "Antoine Joujou",
          "Romain Faivre",
          "Mamadou Diakhon",
          "Zinedine Ferhat",
          "Albert Grønbaek",
          "Jonathan Rowe",
          "Sekou Mara",
          "Saïd Benrahma",
          "Augustine Boakye",
          "Mathieu Cafaro",
          "Emmanuel Sabbi",
          "Rémy Labeau Lascary",
          "Yaya Kader Fofana",
          "Marco Asensio",
          "Ben Old",
          "Tino Kadewere"
         ],
         "legendgroup": "#ff00ff",
         "marker": {
          "color": "#00cc96",
          "symbol": "circle"
         },
         "mode": "markers",
         "name": "#ff00ff",
         "orientation": "v",
         "showlegend": true,
         "type": "scatter",
         "x": {
          "bdata": "BmTwQPCfk0Bq5FbAFnCUwL4GHMAwqAPAfnVyQAFkGkCaW9s/+hfNwPEcbb64S+s/f7B6wfTW+MBhC54/GK/dPtCCLsDomAHAoEKaP0bf+cCpBIDAHasCQOU/gj001Mg/LLz+v3nTSMGTDT5AAL8AQNn2cMCmnSo+00MtQA4BqcBy3SrB9POQPpENwsB+Uco/yr/hwGJrD0GI/CXAAuYIwGajHUGVz23Bt6ZJvtVKLUBA3UC/QpUPQIHzdL/N8fk+JSqGwAocGkBLCYTAEAj7wPkbV8Apvb2+98+pPzgvRsDWbzxAAhzRv7/hF8GqqLHACZI6Pm7Mm8BbUag/+vEbQHY9mj59J/I/23O9v9khQsDKYAVBj+NCwIA3YEA=",
          "dtype": "f4"
         },
         "xaxis": "x",
         "y": {
          "bdata": "Ho4RQefAGT92HVbAduVZvy5v6D8ofpm/lncSQMW8Kr9zaAI7JdLaQD8hmz+ujgdAULgWQemKnr/SdElALgYTQKfpFb9UiG+/tojnv2DI+T18EMy//IEXQL8+CUA9NO5AXH4EQZrfkT/158W+l1mBwHZVB0EgCc7A3p4EQA0ujz7P0odA5iSwwHFx1MB4pWC+Q92nwGFJhUC/8L1A6HwTQEhzZz7HYpU+6yUnQRV7Tr5zCSpBuVkFwT9rokC9yR1ArmyoP5d9dcA9u4dAwylyP6P6YUAs7YNAfWNSwEtYAUAOfYNAo8n4QPHWPj7Tc26/dKjsPsJMC0CKyhA/xzTcQMO0V8DqtVdAmLe4P0ZIJD/1sdJAVCX5PwVmB0E=",
          "dtype": "f4"
         },
         "yaxis": "y"
        },
        {
         "hovertemplate": "<b>%{hovertext}</b><br><br>color=#ff0000<br>Isomap_1=%{x}<br>Isomap_2=%{y}<extra></extra>",
         "hovertext": [
          "Matthis Abline",
          "Jonathan David",
          "Ludovic Ajorque",
          "Emanuel Emegha",
          "Bradley Barcola",
          "Alexandre Lacazette",
          "Farid El Melali",
          "Lucas Stassin",
          "Gaëtan Laborde",
          "Jim Allevinah",
          "Ousmane Dembélé",
          "Esteban Lepaul",
          "Oumar Diakité",
          "Malick Fofana",
          "M'Bala Nzola",
          "André Ayew",
          "Georges Mikautadze",
          "Romain Del Castillo",
          "Mostafa Mohamed",
          "Mika Biereth",
          "Arnaud Nordin",
          "Mama Samba Baldé",
          "Akor Adams",
          "Gonçalo Ramos",
          "Irvin Cardona",
          "Neal Maupay",
          "Ibrahima Niane",
          "Theo Bair",
          "Khvicha Kvaratskhelia",
          "Wesley Saïd",
          "Goduine Koyalipou",
          "Koka",
          "Ibrahim Sissoko",
          "George Ilenikhena",
          "Chuba Akpom",
          "Folarin Balogun",
          "Andy Delort",
          "Florian Ayé",
          "Elye Wahi",
          "Mohamed Meité",
          "Bamba Dieng"
         ],
         "legendgroup": "#ff0000",
         "marker": {
          "color": "#ab63fa",
          "symbol": "circle"
         },
         "mode": "markers",
         "name": "#ff0000",
         "orientation": "v",
         "showlegend": true,
         "type": "scatter",
         "x": {
          "bdata": "zGwwwhWUVUB4/1DAcAcBwc90FEGgzm6+Rp4iwTEZoz6ZIfQ+nAKAvZtaSkDrlnlAnay5wLMB00BumSLCMjlewLHVikBvzhVAh8v7wOwMIj38zFTA7SatwLVs377uoxpAicZhwMmA3MAO0M2/2COHwIUCAUDegh/AIXXQwNvCTUCGBp3AAfI/wEBEo7/01gPAuJbawNp2h8AHYiDA+jEfwI7WIsE=",
          "dtype": "f4"
         },
         "xaxis": "x",
         "y": {
          "bdata": "E3+dQYQCGL9/PxpBk+g/QSRRkz9vO9E/lIjkPtUxbT+07plArQSZP9/jykARGbJARE8JQaVGgb8rYk1ChetmQF4REb2RYojAY+xMQW8UDT5rXzjAr5C+QK1YEUE9rOg/K1kXQMsYjL/svYRAIzu2QIyjYEDc9/FAOe/5QPtyrkAVmqNAczSgQPr4zD8uR85A/hUfQZNjtUCu8NZA0PwpQTbeyEA=",
          "dtype": "f4"
         },
         "yaxis": "y"
        },
        {
         "hovertemplate": "<b>%{hovertext}</b><br><br>color=#00ffff<br>Isomap_1=%{x}<br>Isomap_2=%{y}<extra></extra>",
         "hovertext": [
          "Adrien Truffert",
          "Aron Dønnum",
          "Ismaël Doukouré",
          "Jean-Charles Castelletto",
          "Diego Moreira",
          "Dilane Bakwa",
          "Lorenz Assignon",
          "Jonathan Clauss",
          "Nicolas Cozza",
          "Warren Zaïre-Emery",
          "Geoffrey Kondogbia",
          "Melvin Bard",
          "João Neves",
          "Deiver Machado",
          "Pablo Rosario",
          "Valentin Rongier",
          "Ali Abdi",
          "Nhoa Sangui",
          "Valentín Barco",
          "Mory Gbane",
          "Ruben Aguilar",
          "Jaydee Canvot",
          "Edimilson Fernandes",
          "Warren Kamanzi",
          "Louis Leroux",
          "Tom Louchet",
          "Rayan Raveloson",
          "Jhoanner Chávez",
          "Fodé Ballo-Touré"
         ],
         "legendgroup": "#00ffff",
         "marker": {
          "color": "#FFA15A",
          "symbol": "circle"
         },
         "mode": "markers",
         "name": "#00ffff",
         "orientation": "v",
         "showlegend": true,
         "type": "scatter",
         "x": {
          "bdata": "zWzzP2O+98DCINlATM3bP/AoAj+RyKJAEe17vghTQcH73CXBi8CnQEZ7/75s+gzB5zlEQL1FSsDBIa4/x0enQHGlk79dKtM/+yANwCxoBkB0fmbAuzCNPzx+3EADnMrAKfHHv9taXb9AOShBTTKNwF2YCME=",
          "dtype": "f4"
         },
         "xaxis": "x",
         "y": {
          "bdata": "mQS9vz86hb/TS17AU7lHv67BB0AHdkE+f+QYP26NkcAIcYtAzxe5PVsZFz7sqC3BpfWhQOEZ7ECYZa1ArWCrwMVFGsC/OWRANVU0wBXyI0EqsBHBddWtPoUsLMCYVU8/bwWRQO6N3MBQOh/AnaG0v1o/LUA=",
          "dtype": "f4"
         },
         "yaxis": "y"
        },
        {
         "hovertemplate": "<b>%{hovertext}</b><br><br>color=#ffff00<br>Isomap_1=%{x}<br>Isomap_2=%{y}<extra></extra>",
         "hovertext": [
          "Luis Henrique",
          "Loïc Nego",
          "Lilian Raolisoa",
          "Christopher Operi",
          "Mitchel Bakker",
          "Yanis Zouaoui",
          "Jacques Ekomie",
          "Krépin Diatta"
         ],
         "legendgroup": "#ffff00",
         "marker": {
          "color": "#19d3f3",
          "symbol": "circle"
         },
         "mode": "markers",
         "name": "#ffff00",
         "orientation": "v",
         "showlegend": true,
         "type": "scatter",
         "x": {
          "bdata": "OUI+QWvm8MCjrv/At+UPwRy3tL01bgXBtwIHwdXWBcE=",
          "dtype": "f4"
         },
         "xaxis": "x",
         "y": {
          "bdata": "/02FQOrb+L9154vAlwUewZjdH8Fb4u7A+6ltQFmOp8A=",
          "dtype": "f4"
         },
         "yaxis": "y"
        }
       ],
       "layout": {
        "height": 900,
        "legend": {
         "title": {
          "text": "color"
         },
         "tracegroupgap": 0
        },
        "template": {
         "data": {
          "bar": [
           {
            "error_x": {
             "color": "#2a3f5f"
            },
            "error_y": {
             "color": "#2a3f5f"
            },
            "marker": {
             "line": {
              "color": "#E5ECF6",
              "width": 0.5
             },
             "pattern": {
              "fillmode": "overlay",
              "size": 10,
              "solidity": 0.2
             }
            },
            "type": "bar"
           }
          ],
          "barpolar": [
           {
            "marker": {
             "line": {
              "color": "#E5ECF6",
              "width": 0.5
             },
             "pattern": {
              "fillmode": "overlay",
              "size": 10,
              "solidity": 0.2
             }
            },
            "type": "barpolar"
           }
          ],
          "carpet": [
           {
            "aaxis": {
             "endlinecolor": "#2a3f5f",
             "gridcolor": "white",
             "linecolor": "white",
             "minorgridcolor": "white",
             "startlinecolor": "#2a3f5f"
            },
            "baxis": {
             "endlinecolor": "#2a3f5f",
             "gridcolor": "white",
             "linecolor": "white",
             "minorgridcolor": "white",
             "startlinecolor": "#2a3f5f"
            },
            "type": "carpet"
           }
          ],
          "choropleth": [
           {
            "colorbar": {
             "outlinewidth": 0,
             "ticks": ""
            },
            "type": "choropleth"
           }
          ],
          "contour": [
           {
            "colorbar": {
             "outlinewidth": 0,
             "ticks": ""
            },
            "colorscale": [
             [
              0,
              "#0d0887"
             ],
             [
              0.1111111111111111,
              "#46039f"
             ],
             [
              0.2222222222222222,
              "#7201a8"
             ],
             [
              0.3333333333333333,
              "#9c179e"
             ],
             [
              0.4444444444444444,
              "#bd3786"
             ],
             [
              0.5555555555555556,
              "#d8576b"
             ],
             [
              0.6666666666666666,
              "#ed7953"
             ],
             [
              0.7777777777777778,
              "#fb9f3a"
             ],
             [
              0.8888888888888888,
              "#fdca26"
             ],
             [
              1,
              "#f0f921"
             ]
            ],
            "type": "contour"
           }
          ],
          "contourcarpet": [
           {
            "colorbar": {
             "outlinewidth": 0,
             "ticks": ""
            },
            "type": "contourcarpet"
           }
          ],
          "heatmap": [
           {
            "colorbar": {
             "outlinewidth": 0,
             "ticks": ""
            },
            "colorscale": [
             [
              0,
              "#0d0887"
             ],
             [
              0.1111111111111111,
              "#46039f"
             ],
             [
              0.2222222222222222,
              "#7201a8"
             ],
             [
              0.3333333333333333,
              "#9c179e"
             ],
             [
              0.4444444444444444,
              "#bd3786"
             ],
             [
              0.5555555555555556,
              "#d8576b"
             ],
             [
              0.6666666666666666,
              "#ed7953"
             ],
             [
              0.7777777777777778,
              "#fb9f3a"
             ],
             [
              0.8888888888888888,
              "#fdca26"
             ],
             [
              1,
              "#f0f921"
             ]
            ],
            "type": "heatmap"
           }
          ],
          "histogram": [
           {
            "marker": {
             "pattern": {
              "fillmode": "overlay",
              "size": 10,
              "solidity": 0.2
             }
            },
            "type": "histogram"
           }
          ],
          "histogram2d": [
           {
            "colorbar": {
             "outlinewidth": 0,
             "ticks": ""
            },
            "colorscale": [
             [
              0,
              "#0d0887"
             ],
             [
              0.1111111111111111,
              "#46039f"
             ],
             [
              0.2222222222222222,
              "#7201a8"
             ],
             [
              0.3333333333333333,
              "#9c179e"
             ],
             [
              0.4444444444444444,
              "#bd3786"
             ],
             [
              0.5555555555555556,
              "#d8576b"
             ],
             [
              0.6666666666666666,
              "#ed7953"
             ],
             [
              0.7777777777777778,
              "#fb9f3a"
             ],
             [
              0.8888888888888888,
              "#fdca26"
             ],
             [
              1,
              "#f0f921"
             ]
            ],
            "type": "histogram2d"
           }
          ],
          "histogram2dcontour": [
           {
            "colorbar": {
             "outlinewidth": 0,
             "ticks": ""
            },
            "colorscale": [
             [
              0,
              "#0d0887"
             ],
             [
              0.1111111111111111,
              "#46039f"
             ],
             [
              0.2222222222222222,
              "#7201a8"
             ],
             [
              0.3333333333333333,
              "#9c179e"
             ],
             [
              0.4444444444444444,
              "#bd3786"
             ],
             [
              0.5555555555555556,
              "#d8576b"
             ],
             [
              0.6666666666666666,
              "#ed7953"
             ],
             [
              0.7777777777777778,
              "#fb9f3a"
             ],
             [
              0.8888888888888888,
              "#fdca26"
             ],
             [
              1,
              "#f0f921"
             ]
            ],
            "type": "histogram2dcontour"
           }
          ],
          "mesh3d": [
           {
            "colorbar": {
             "outlinewidth": 0,
             "ticks": ""
            },
            "type": "mesh3d"
           }
          ],
          "parcoords": [
           {
            "line": {
             "colorbar": {
              "outlinewidth": 0,
              "ticks": ""
             }
            },
            "type": "parcoords"
           }
          ],
          "pie": [
           {
            "automargin": true,
            "type": "pie"
           }
          ],
          "scatter": [
           {
            "fillpattern": {
             "fillmode": "overlay",
             "size": 10,
             "solidity": 0.2
            },
            "type": "scatter"
           }
          ],
          "scatter3d": [
           {
            "line": {
             "colorbar": {
              "outlinewidth": 0,
              "ticks": ""
             }
            },
            "marker": {
             "colorbar": {
              "outlinewidth": 0,
              "ticks": ""
             }
            },
            "type": "scatter3d"
           }
          ],
          "scattercarpet": [
           {
            "marker": {
             "colorbar": {
              "outlinewidth": 0,
              "ticks": ""
             }
            },
            "type": "scattercarpet"
           }
          ],
          "scattergeo": [
           {
            "marker": {
             "colorbar": {
              "outlinewidth": 0,
              "ticks": ""
             }
            },
            "type": "scattergeo"
           }
          ],
          "scattergl": [
           {
            "marker": {
             "colorbar": {
              "outlinewidth": 0,
              "ticks": ""
             }
            },
            "type": "scattergl"
           }
          ],
          "scattermap": [
           {
            "marker": {
             "colorbar": {
              "outlinewidth": 0,
              "ticks": ""
             }
            },
            "type": "scattermap"
           }
          ],
          "scattermapbox": [
           {
            "marker": {
             "colorbar": {
              "outlinewidth": 0,
              "ticks": ""
             }
            },
            "type": "scattermapbox"
           }
          ],
          "scatterpolar": [
           {
            "marker": {
             "colorbar": {
              "outlinewidth": 0,
              "ticks": ""
             }
            },
            "type": "scatterpolar"
           }
          ],
          "scatterpolargl": [
           {
            "marker": {
             "colorbar": {
              "outlinewidth": 0,
              "ticks": ""
             }
            },
            "type": "scatterpolargl"
           }
          ],
          "scatterternary": [
           {
            "marker": {
             "colorbar": {
              "outlinewidth": 0,
              "ticks": ""
             }
            },
            "type": "scatterternary"
           }
          ],
          "surface": [
           {
            "colorbar": {
             "outlinewidth": 0,
             "ticks": ""
            },
            "colorscale": [
             [
              0,
              "#0d0887"
             ],
             [
              0.1111111111111111,
              "#46039f"
             ],
             [
              0.2222222222222222,
              "#7201a8"
             ],
             [
              0.3333333333333333,
              "#9c179e"
             ],
             [
              0.4444444444444444,
              "#bd3786"
             ],
             [
              0.5555555555555556,
              "#d8576b"
             ],
             [
              0.6666666666666666,
              "#ed7953"
             ],
             [
              0.7777777777777778,
              "#fb9f3a"
             ],
             [
              0.8888888888888888,
              "#fdca26"
             ],
             [
              1,
              "#f0f921"
             ]
            ],
            "type": "surface"
           }
          ],
          "table": [
           {
            "cells": {
             "fill": {
              "color": "#EBF0F8"
             },
             "line": {
              "color": "white"
             }
            },
            "header": {
             "fill": {
              "color": "#C8D4E3"
             },
             "line": {
              "color": "white"
             }
            },
            "type": "table"
           }
          ]
         },
         "layout": {
          "annotationdefaults": {
           "arrowcolor": "#2a3f5f",
           "arrowhead": 0,
           "arrowwidth": 1
          },
          "autotypenumbers": "strict",
          "coloraxis": {
           "colorbar": {
            "outlinewidth": 0,
            "ticks": ""
           }
          },
          "colorscale": {
           "diverging": [
            [
             0,
             "#8e0152"
            ],
            [
             0.1,
             "#c51b7d"
            ],
            [
             0.2,
             "#de77ae"
            ],
            [
             0.3,
             "#f1b6da"
            ],
            [
             0.4,
             "#fde0ef"
            ],
            [
             0.5,
             "#f7f7f7"
            ],
            [
             0.6,
             "#e6f5d0"
            ],
            [
             0.7,
             "#b8e186"
            ],
            [
             0.8,
             "#7fbc41"
            ],
            [
             0.9,
             "#4d9221"
            ],
            [
             1,
             "#276419"
            ]
           ],
           "sequential": [
            [
             0,
             "#0d0887"
            ],
            [
             0.1111111111111111,
             "#46039f"
            ],
            [
             0.2222222222222222,
             "#7201a8"
            ],
            [
             0.3333333333333333,
             "#9c179e"
            ],
            [
             0.4444444444444444,
             "#bd3786"
            ],
            [
             0.5555555555555556,
             "#d8576b"
            ],
            [
             0.6666666666666666,
             "#ed7953"
            ],
            [
             0.7777777777777778,
             "#fb9f3a"
            ],
            [
             0.8888888888888888,
             "#fdca26"
            ],
            [
             1,
             "#f0f921"
            ]
           ],
           "sequentialminus": [
            [
             0,
             "#0d0887"
            ],
            [
             0.1111111111111111,
             "#46039f"
            ],
            [
             0.2222222222222222,
             "#7201a8"
            ],
            [
             0.3333333333333333,
             "#9c179e"
            ],
            [
             0.4444444444444444,
             "#bd3786"
            ],
            [
             0.5555555555555556,
             "#d8576b"
            ],
            [
             0.6666666666666666,
             "#ed7953"
            ],
            [
             0.7777777777777778,
             "#fb9f3a"
            ],
            [
             0.8888888888888888,
             "#fdca26"
            ],
            [
             1,
             "#f0f921"
            ]
           ]
          },
          "colorway": [
           "#636efa",
           "#EF553B",
           "#00cc96",
           "#ab63fa",
           "#FFA15A",
           "#19d3f3",
           "#FF6692",
           "#B6E880",
           "#FF97FF",
           "#FECB52"
          ],
          "font": {
           "color": "#2a3f5f"
          },
          "geo": {
           "bgcolor": "white",
           "lakecolor": "white",
           "landcolor": "#E5ECF6",
           "showlakes": true,
           "showland": true,
           "subunitcolor": "white"
          },
          "hoverlabel": {
           "align": "left"
          },
          "hovermode": "closest",
          "mapbox": {
           "style": "light"
          },
          "paper_bgcolor": "white",
          "plot_bgcolor": "#E5ECF6",
          "polar": {
           "angularaxis": {
            "gridcolor": "white",
            "linecolor": "white",
            "ticks": ""
           },
           "bgcolor": "#E5ECF6",
           "radialaxis": {
            "gridcolor": "white",
            "linecolor": "white",
            "ticks": ""
           }
          },
          "scene": {
           "xaxis": {
            "backgroundcolor": "#E5ECF6",
            "gridcolor": "white",
            "gridwidth": 2,
            "linecolor": "white",
            "showbackground": true,
            "ticks": "",
            "zerolinecolor": "white"
           },
           "yaxis": {
            "backgroundcolor": "#E5ECF6",
            "gridcolor": "white",
            "gridwidth": 2,
            "linecolor": "white",
            "showbackground": true,
            "ticks": "",
            "zerolinecolor": "white"
           },
           "zaxis": {
            "backgroundcolor": "#E5ECF6",
            "gridcolor": "white",
            "gridwidth": 2,
            "linecolor": "white",
            "showbackground": true,
            "ticks": "",
            "zerolinecolor": "white"
           }
          },
          "shapedefaults": {
           "line": {
            "color": "#2a3f5f"
           }
          },
          "ternary": {
           "aaxis": {
            "gridcolor": "white",
            "linecolor": "white",
            "ticks": ""
           },
           "baxis": {
            "gridcolor": "white",
            "linecolor": "white",
            "ticks": ""
           },
           "bgcolor": "#E5ECF6",
           "caxis": {
            "gridcolor": "white",
            "linecolor": "white",
            "ticks": ""
           }
          },
          "title": {
           "x": 0.05
          },
          "xaxis": {
           "automargin": true,
           "gridcolor": "white",
           "linecolor": "white",
           "ticks": "",
           "title": {
            "standoff": 15
           },
           "zerolinecolor": "white",
           "zerolinewidth": 2
          },
          "yaxis": {
           "automargin": true,
           "gridcolor": "white",
           "linecolor": "white",
           "ticks": "",
           "title": {
            "standoff": 15
           },
           "zerolinecolor": "white",
           "zerolinewidth": 2
          }
         }
        },
        "title": {
         "text": "t-SNE – Per90min data"
        },
        "width": 1100,
        "xaxis": {
         "anchor": "y",
         "domain": [
          0,
          1
         ],
         "title": {
          "text": "Isomap_1"
         }
        },
        "yaxis": {
         "anchor": "x",
         "domain": [
          0,
          1
         ],
         "title": {
          "text": "Isomap_2"
         }
        }
       }
      },
      "image/png": "[encoded data removed]"
     },
     "metadata": {},
     "output_type": "display_data"
    }
   ],
   "source": [
    "position_colors = {\n",
    "    'FW': np.array([255, 0, 0]),    # red\n",
    "    'MF': np.array([0, 0, 255]),    # blue\n",
    "    'DF': np.array([0, 255, 0]),  #  yellow\n",
    "}\n",
    "\n",
    "def color_from_position(positions):\n",
    "    postitions = str(positions)\n",
    "    position_list = positions.split(',')\n",
    "    colors = np.array([position_colors[p] for p in position_list if p in position_colors])\n",
    "    avg_color = np.sum(colors, axis=0)\n",
    "    return '#%02x%02x%02x' % tuple(avg_color.astype(int))\n",
    "\n",
    "def plot_isomap_interactive(X_tsne, player_positions, data_num, title):\n",
    "    df_plot = pd.DataFrame({\n",
    "        'Isomap_1': X_tsne[:, 0],\n",
    "        'Isomap_2': X_tsne[:, 1],\n",
    "        'player_name': data_num.index,\n",
    "        'color' : player_positions.apply(color_from_position)\n",
    "    })\n",
    "    \n",
    "    fig = px.scatter(\n",
    "        df_plot,\n",
    "        x='Isomap_1', y='Isomap_2',\n",
    "        hover_name='player_name',\n",
    "        color='color',\n",
    "        title=title,\n",
    "        height=900, width=1100 \n",
    "    )\n",
    "    fig.show()\n",
    "\n",
    "plot_isomap_interactive(X_tsne_raw, player_positions_raw ,data_raw.set_index(\"player_name\"), \"t-SNE – Raw data\")\n",
    "plot_isomap_interactive(X_tsne_per90, player_positions_per90 ,data_per90.set_index(\"player_name\"), \"t-SNE – Per90min data\")\n",
    "plot_isomap_interactive(X_tsne_custom, player_positions_custom ,data_custom.set_index(\"player_name\"), \"t-SNE – Per90min data\")"
   ]
  },
  {
   "cell_type": "code",
   "execution_count": null,
   "id": "6b277f43-9ad8-4a52-9b1e-0a8d6ca6338b",
   "metadata": {},
   "outputs": [],
   "source": []
  },
  {
   "cell_type": "code",
   "execution_count": null,
   "id": "39045ab9-4e52-46dd-8073-093421c42f63",
   "metadata": {},
   "outputs": [],
   "source": []
  }
 ],
 "metadata": {
  "kernelspec": {
   "display_name": "Python 3 (ipykernel)",
   "language": "python",
   "name": "python3"
  },
  "language_info": {
   "codemirror_mode": {
    "name": "ipython",
    "version": 3
   },
   "file_extension": ".py",
   "mimetype": "text/x-python",
   "name": "python",
   "nbconvert_exporter": "python",
   "pygments_lexer": "ipython3",
   "version": "3.11.9"
  }
 },
 "nbformat": 4,
 "nbformat_minor": 5
}
