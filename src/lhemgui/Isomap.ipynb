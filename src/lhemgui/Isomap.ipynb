{
 "cells": [
  {
   "cell_type": "markdown",
   "id": "36b4478a-ee03-4cb3-b34e-ca80306da21e",
   "metadata": {},
   "source": [
    "# ISOMAP for dimension reduction"
   ]
  },
  {
   "cell_type": "code",
   "execution_count": 6,
   "id": "9ebed0b3-26f3-4ba9-b749-a38791fb1167",
   "metadata": {},
   "outputs": [
    {
     "name": "stdout",
     "output_type": "stream",
     "text": [
      "Index(['equipe', 'player_id', 'player_name', 'player_country_code', 'age',\n",
      "       'positions', 'matches_played', 'min', 'gls', 'ast',\n",
      "       ...\n",
      "       'second_yellow_cards', 'fls_com', 'fls_drawn', 'offside', 'pk_won',\n",
      "       'pk_conceded', 'og', 'ball_recov', 'air_dual_won', 'air_dual_lost'],\n",
      "      dtype='object', length=106)\n"
     ]
    }
   ],
   "source": [
    "import pandas as pd\n",
    "import numpy as np\n",
    "import matplotlib.pyplot as plt\n",
    "import plotly.express as px\n",
    "import seaborn as sns\n",
    "from sklearn.preprocessing import StandardScaler\n",
    "from sklearn.manifold import Isomap, trustworthiness\n",
    "from sklearn.metrics import pairwise_distances\n",
    "\n",
    "from scipy.stats import spearmanr\n",
    "\n",
    "file_path_raw = \"../../cleaned_data/joueurs_ligue1_2024_2025_clean_raw.csv\"\n",
    "file_path_per90 = \"../../cleaned_data/joueurs_ligue1_2024_2025_clean_per90.csv\"\n",
    "file_path_custom = \"../../cleaned_data/joueurs_ligue1_2024_2025_clean_custom.csv\"\n",
    "\n",
    "data_raw = pd.read_csv(file_path_raw, encoding=\"utf-8\")\n",
    "data_per90 = pd.read_csv(file_path_per90, encoding=\"utf-8\")\n",
    "data_custom = pd.read_csv(file_path_custom, encoding=\"utf-8\")\n",
    "print(data_raw.columns)"
   ]
  },
  {
   "cell_type": "markdown",
   "id": "d0fa1553-baff-4a73-a16e-af3d14e06f23",
   "metadata": {},
   "source": [
    "### Pre-processing : remove non numeric columns, normalize as ISOMap is based on distances between points"
   ]
  },
  {
   "cell_type": "code",
   "execution_count": 7,
   "id": "d97136c4-44a5-49a9-b804-5e8ac9e82523",
   "metadata": {},
   "outputs": [
    {
     "name": "stdout",
     "output_type": "stream",
     "text": [
      "Columns removed (5): ['equipe', 'player_country_code', 'player_id', 'player_name', 'positions']\n",
      "Columns removed (5): ['equipe', 'player_country_code', 'player_id', 'player_name', 'positions']\n",
      "Columns removed (5): ['equipe', 'player_country_code', 'player_id', 'player_name', 'positions']\n"
     ]
    }
   ],
   "source": [
    "def preprocessing(data):\n",
    "    player_names = data['player_name']\n",
    "    player_positions = data['positions']\n",
    "    data_num = data.select_dtypes(include=[np.number]).dropna(axis=1, how='any')\n",
    "    data_num.index = player_names\n",
    "    \n",
    "    scaler = StandardScaler()\n",
    "    X_scaled = scaler.fit_transform(data_num)\n",
    "\n",
    "    removed_cols = set(data.columns) - set(data_num.columns)\n",
    "    print(f\"Columns removed ({len(removed_cols)}): {sorted(list(removed_cols))}\")\n",
    "    \n",
    "    return X_scaled, data_num.columns, player_positions\n",
    "\n",
    "X_raw, cols_raw, player_positions_raw = preprocessing(data_raw)\n",
    "X_per90, cols_per90, player_positions_per90 = preprocessing(data_per90)\n",
    "X_custom, cols_custom, player_positions_custom = preprocessing(data_custom)"
   ]
  },
  {
   "cell_type": "markdown",
   "id": "3d828f37-d883-4e92-bc30-223320d39d59",
   "metadata": {},
   "source": [
    "### Results Analysis"
   ]
  },
  {
   "cell_type": "code",
   "execution_count": 8,
   "id": "f42fcd4c-0dd1-4e63-b87f-4827800a1a6a",
   "metadata": {},
   "outputs": [
    {
     "ename": "NameError",
     "evalue": "name 'iso_raw' is not defined",
     "output_type": "error",
     "traceback": [
      "\u001b[31m---------------------------------------------------------------------------\u001b[39m",
      "\u001b[31mNameError\u001b[39m                                 Traceback (most recent call last)",
      "\u001b[36mCell\u001b[39m\u001b[36m \u001b[39m\u001b[32mIn[8]\u001b[39m\u001b[32m, line 58\u001b[39m\n\u001b[32m     53\u001b[39m     idx2 = np.argsort(kernel2, axis=\u001b[32m1\u001b[39m)[:, \u001b[32m1\u001b[39m:k+\u001b[32m1\u001b[39m]\n\u001b[32m     54\u001b[39m     \u001b[38;5;28;01mreturn\u001b[39;00m np.mean([\u001b[38;5;28mlen\u001b[39m(\u001b[38;5;28mset\u001b[39m(i1).intersection(i2)) / k \u001b[38;5;28;01mfor\u001b[39;00m i1, i2 \u001b[38;5;129;01min\u001b[39;00m \u001b[38;5;28mzip\u001b[39m(idx1, idx2)])\n\u001b[32m---> \u001b[39m\u001b[32m58\u001b[39m kernel_raw, shape_raw, corr_raw, var_ratio_raw, trust_raw, cont_raw, mrre_raw = extractMetrics(\u001b[43miso_raw\u001b[49m, X_raw, X_iso_raw)\n\u001b[32m     59\u001b[39m kernel_per90, shape_per90, corr_per90, var_ratio_per90, trust_per90, cont_per90, mrre_per90 = extractMetrics(iso_per90, X_per90, X_iso_per90)\n\u001b[32m     60\u001b[39m kernel_custom, shape_custom, corr_custom, var_ratio_custom, trust_custom, cont_custom, mrre_custom = extractMetrics(iso_custom, X_custom, X_iso_custom)\n",
      "\u001b[31mNameError\u001b[39m: name 'iso_raw' is not defined"
     ]
    }
   ],
   "source": [
    "# Continuity\n",
    "def continuity(X, X_embedded, k):\n",
    "    n = X.shape[0]\n",
    "    original_neighbors = np.argsort(pairwise_distances(X), axis=1)[:, 1:k+1]\n",
    "    embedded_neighbors = np.argsort(pairwise_distances(X_embedded), axis=1)[:, 1:k+1]\n",
    "    \n",
    "    total = 0\n",
    "    for i in range(n):\n",
    "        orig = set(original_neighbors[i])\n",
    "        emb = set(embedded_neighbors[i])\n",
    "        missing = orig - emb\n",
    "        total += sum([list(original_neighbors[i]).index(m) + 1 for m in missing])\n",
    "    continuity_score = 1 - (2 / (n * k * (2 * n - 3 * k - 1))) * total\n",
    "    return continuity_score\n",
    "\n",
    "# MRRE (Mean Relative Rank Error)\n",
    "def mrre(X, X_embedded, k):\n",
    "    n = X.shape[0]\n",
    "    D_high = pairwise_distances(X)\n",
    "    D_low = pairwise_distances(X_embedded)\n",
    "\n",
    "    R_high = np.argsort(np.argsort(D_high, axis=1), axis=1)\n",
    "    R_low = np.argsort(np.argsort(D_low, axis=1), axis=1)\n",
    "\n",
    "    error = 0\n",
    "    for i in range(n):\n",
    "        for j in range(n):\n",
    "            if i != j:\n",
    "                error += abs(R_high[i][j] - R_low[i][j]) / R_high[i][j]\n",
    "    return error / (n * (n - 1))\n",
    "\n",
    "def extractMetrics(iso, data, data_iso, k=10) : \n",
    "    kernel_matrix = iso.dist_matrix_  #geodesic distance btw players\n",
    "    shape = iso.embedding_.shape      #nb players / nb dim\n",
    "\n",
    "    # pairwise distance\n",
    "    D_high = pairwise_distances(data)\n",
    "    D_low = pairwise_distances(data_iso)\n",
    "    corr, _ = spearmanr(D_high[np.triu_indices_from(D_high, k=1)], D_low[np.triu_indices_from(D_low, k=1)])\n",
    "\n",
    "    trust = trustworthiness(data, data_iso, n_neighbors=k)\n",
    "    cont = continuity(data, data_iso, k)\n",
    "    mrre_score = mrre(data, data_iso, k)\n",
    "\n",
    "    # relative Variance per dimension :\n",
    "    variances = np.var(data_iso, axis=0)\n",
    "    explained_like_ratio = variances / np.sum(variances)\n",
    "\n",
    "    return kernel_matrix, shape, corr, explained_like_ratio, trust, cont, mrre_score\n",
    "\n",
    "def compare_neighbors(kernel1, kernel2, k=5):\n",
    "    idx1 = np.argsort(kernel1, axis=1)[:, 1:k+1]\n",
    "    idx2 = np.argsort(kernel2, axis=1)[:, 1:k+1]\n",
    "    return np.mean([len(set(i1).intersection(i2)) / k for i1, i2 in zip(idx1, idx2)])\n",
    "\n",
    "\n",
    "\n",
    "kernel_raw, shape_raw, corr_raw, var_ratio_raw, trust_raw, cont_raw, mrre_raw = extractMetrics(iso_raw, X_raw, X_iso_raw)\n",
    "kernel_per90, shape_per90, corr_per90, var_ratio_per90, trust_per90, cont_per90, mrre_per90 = extractMetrics(iso_per90, X_per90, X_iso_per90)\n",
    "kernel_custom, shape_custom, corr_custom, var_ratio_custom, trust_custom, cont_custom, mrre_custom = extractMetrics(iso_custom, X_custom, X_iso_custom)\n",
    "neighbor_stability = compare_neighbors(kernel_raw, kernel_per90)\n",
    "\n",
    "print(\"=== Raw data ===\")\n",
    "print(f\"Spearman distance correlation: {corr_raw:.4f}\")\n",
    "print(f\"Trustworthiness: {trust_raw:.4f}\")\n",
    "print(f\"Continuity: {cont_raw:.4f}\")\n",
    "print(f\"MRRE: {mrre_raw:.4f}\")\n",
    "# Geodesic distances analysis\n",
    "sns.heatmap(kernel_raw, cmap=\"magma\")\n",
    "plt.title(\"Raw data : Isomap Geodesic Distance Matrix\")\n",
    "plt.show()\n",
    "\n",
    "print(\"\\n=== Data per 90 min ===\")\n",
    "print(f\"Spearman distance correlation: {corr_per90:.4f}\")\n",
    "print(f\"Trustworthiness: {trust_per90:.4f}\")\n",
    "print(f\"Continuity: {cont_per90:.4f}\")\n",
    "print(f\"MRRE: {mrre_per90:.4f}\")\n",
    "# Geodesic distances analysis\n",
    "sns.heatmap(kernel_per90, cmap=\"magma\")\n",
    "plt.title(\"Per90 data : Isomap Geodesic Distance Matrix\")\n",
    "plt.show()\n",
    "\n",
    "print(\"\\n=== Data Custom ===\")\n",
    "print(f\"Spearman distance correlation: {corr_custom:.4f}\")\n",
    "print(f\"Trustworthiness: {trust_custom:.4f}\")\n",
    "print(f\"Continuity: {cont_custom:.4f}\")\n",
    "print(f\"MRRE: {mrre_custom:.4f}\")\n",
    "# Geodesic distances analysis\n",
    "sns.heatmap(kernel_custom, cmap=\"magma\")\n",
    "plt.title(\"Custom data : Isomap Geodesic Distance Matrix\")\n",
    "plt.show()\n",
    "\n",
    "print(\"\\n=== Comparisons between both datasets : ===\")\n",
    "print(f\"Similarity of 5 closest neighbors btw both datasets (in %) : {neighbor_stability}\")"
   ]
  },
  {
   "cell_type": "markdown",
   "id": "bdcce11a-89e4-4cb9-b1d8-af6e44820770",
   "metadata": {},
   "source": [
    "### GridSearch analysis of hyperparameters of ISOMap"
   ]
  },
  {
   "cell_type": "code",
   "execution_count": 36,
   "id": "adedadb1-6c8c-4345-93e5-9ceb948b9799",
   "metadata": {},
   "outputs": [
    {
     "name": "stdout",
     "output_type": "stream",
     "text": [
      "=== Raw data ===\n",
      "\n",
      "Raw data — dist_corr:\n"
     ]
    },
    {
     "data": {
      "text/html": [
       "<div>\n",
       "<style scoped>\n",
       "    .dataframe tbody tr th:only-of-type {\n",
       "        vertical-align: middle;\n",
       "    }\n",
       "\n",
       "    .dataframe tbody tr th {\n",
       "        vertical-align: top;\n",
       "    }\n",
       "\n",
       "    .dataframe thead th {\n",
       "        text-align: right;\n",
       "    }\n",
       "</style>\n",
       "<table border=\"1\" class=\"dataframe\">\n",
       "  <thead>\n",
       "    <tr style=\"text-align: right;\">\n",
       "      <th>n_components</th>\n",
       "      <th>2</th>\n",
       "      <th>3</th>\n",
       "      <th>4</th>\n",
       "      <th>5</th>\n",
       "      <th>6</th>\n",
       "      <th>7</th>\n",
       "      <th>8</th>\n",
       "      <th>9</th>\n",
       "      <th>10</th>\n",
       "    </tr>\n",
       "    <tr>\n",
       "      <th>n_neighbors</th>\n",
       "      <th></th>\n",
       "      <th></th>\n",
       "      <th></th>\n",
       "      <th></th>\n",
       "      <th></th>\n",
       "      <th></th>\n",
       "      <th></th>\n",
       "      <th></th>\n",
       "      <th></th>\n",
       "    </tr>\n",
       "  </thead>\n",
       "  <tbody>\n",
       "    <tr>\n",
       "      <th>10</th>\n",
       "      <td>0.877252</td>\n",
       "      <td>0.914058</td>\n",
       "      <td>0.921284</td>\n",
       "      <td>0.930763</td>\n",
       "      <td>0.937541</td>\n",
       "      <td>0.941674</td>\n",
       "      <td>0.945097</td>\n",
       "      <td>0.948315</td>\n",
       "      <td>0.948771</td>\n",
       "    </tr>\n",
       "    <tr>\n",
       "      <th>15</th>\n",
       "      <td>0.883497</td>\n",
       "      <td>0.918403</td>\n",
       "      <td>0.926655</td>\n",
       "      <td>0.936195</td>\n",
       "      <td>0.943160</td>\n",
       "      <td>0.945673</td>\n",
       "      <td>0.948371</td>\n",
       "      <td>0.951722</td>\n",
       "      <td>0.953899</td>\n",
       "    </tr>\n",
       "    <tr>\n",
       "      <th>20</th>\n",
       "      <td>0.884811</td>\n",
       "      <td>0.920659</td>\n",
       "      <td>0.930840</td>\n",
       "      <td>0.942971</td>\n",
       "      <td>0.948728</td>\n",
       "      <td>0.951974</td>\n",
       "      <td>0.956461</td>\n",
       "      <td>0.959057</td>\n",
       "      <td>0.961049</td>\n",
       "    </tr>\n",
       "    <tr>\n",
       "      <th>25</th>\n",
       "      <td>0.892618</td>\n",
       "      <td>0.928373</td>\n",
       "      <td>0.938787</td>\n",
       "      <td>0.947767</td>\n",
       "      <td>0.954263</td>\n",
       "      <td>0.958482</td>\n",
       "      <td>0.960666</td>\n",
       "      <td>0.963762</td>\n",
       "      <td>0.965773</td>\n",
       "    </tr>\n",
       "    <tr>\n",
       "      <th>30</th>\n",
       "      <td>0.894530</td>\n",
       "      <td>0.932146</td>\n",
       "      <td>0.943365</td>\n",
       "      <td>0.952838</td>\n",
       "      <td>0.958533</td>\n",
       "      <td>0.961429</td>\n",
       "      <td>0.963864</td>\n",
       "      <td>0.966615</td>\n",
       "      <td>0.968394</td>\n",
       "    </tr>\n",
       "  </tbody>\n",
       "</table>\n",
       "</div>"
      ],
      "text/plain": [
       "n_components        2         3         4         5         6         7   \\\n",
       "n_neighbors                                                                \n",
       "10            0.877252  0.914058  0.921284  0.930763  0.937541  0.941674   \n",
       "15            0.883497  0.918403  0.926655  0.936195  0.943160  0.945673   \n",
       "20            0.884811  0.920659  0.930840  0.942971  0.948728  0.951974   \n",
       "25            0.892618  0.928373  0.938787  0.947767  0.954263  0.958482   \n",
       "30            0.894530  0.932146  0.943365  0.952838  0.958533  0.961429   \n",
       "\n",
       "n_components        8         9         10  \n",
       "n_neighbors                                 \n",
       "10            0.945097  0.948315  0.948771  \n",
       "15            0.948371  0.951722  0.953899  \n",
       "20            0.956461  0.959057  0.961049  \n",
       "25            0.960666  0.963762  0.965773  \n",
       "30            0.963864  0.966615  0.968394  "
      ]
     },
     "metadata": {},
     "output_type": "display_data"
    },
    {
     "name": "stdout",
     "output_type": "stream",
     "text": [
      "\n",
      "Raw data — trustworthiness:\n"
     ]
    },
    {
     "data": {
      "text/html": [
       "<div>\n",
       "<style scoped>\n",
       "    .dataframe tbody tr th:only-of-type {\n",
       "        vertical-align: middle;\n",
       "    }\n",
       "\n",
       "    .dataframe tbody tr th {\n",
       "        vertical-align: top;\n",
       "    }\n",
       "\n",
       "    .dataframe thead th {\n",
       "        text-align: right;\n",
       "    }\n",
       "</style>\n",
       "<table border=\"1\" class=\"dataframe\">\n",
       "  <thead>\n",
       "    <tr style=\"text-align: right;\">\n",
       "      <th>n_components</th>\n",
       "      <th>2</th>\n",
       "      <th>3</th>\n",
       "      <th>4</th>\n",
       "      <th>5</th>\n",
       "      <th>6</th>\n",
       "      <th>7</th>\n",
       "      <th>8</th>\n",
       "      <th>9</th>\n",
       "      <th>10</th>\n",
       "    </tr>\n",
       "    <tr>\n",
       "      <th>n_neighbors</th>\n",
       "      <th></th>\n",
       "      <th></th>\n",
       "      <th></th>\n",
       "      <th></th>\n",
       "      <th></th>\n",
       "      <th></th>\n",
       "      <th></th>\n",
       "      <th></th>\n",
       "      <th></th>\n",
       "    </tr>\n",
       "  </thead>\n",
       "  <tbody>\n",
       "    <tr>\n",
       "      <th>10</th>\n",
       "      <td>0.911643</td>\n",
       "      <td>0.947287</td>\n",
       "      <td>0.959548</td>\n",
       "      <td>0.967923</td>\n",
       "      <td>0.971674</td>\n",
       "      <td>0.973560</td>\n",
       "      <td>0.975193</td>\n",
       "      <td>0.976731</td>\n",
       "      <td>0.977302</td>\n",
       "    </tr>\n",
       "    <tr>\n",
       "      <th>15</th>\n",
       "      <td>0.913165</td>\n",
       "      <td>0.949305</td>\n",
       "      <td>0.961303</td>\n",
       "      <td>0.968341</td>\n",
       "      <td>0.973010</td>\n",
       "      <td>0.974462</td>\n",
       "      <td>0.976662</td>\n",
       "      <td>0.979169</td>\n",
       "      <td>0.980295</td>\n",
       "    </tr>\n",
       "    <tr>\n",
       "      <th>20</th>\n",
       "      <td>0.916684</td>\n",
       "      <td>0.949465</td>\n",
       "      <td>0.958546</td>\n",
       "      <td>0.968654</td>\n",
       "      <td>0.973641</td>\n",
       "      <td>0.974372</td>\n",
       "      <td>0.977067</td>\n",
       "      <td>0.979235</td>\n",
       "      <td>0.980332</td>\n",
       "    </tr>\n",
       "    <tr>\n",
       "      <th>25</th>\n",
       "      <td>0.914326</td>\n",
       "      <td>0.947766</td>\n",
       "      <td>0.962828</td>\n",
       "      <td>0.968581</td>\n",
       "      <td>0.973593</td>\n",
       "      <td>0.976246</td>\n",
       "      <td>0.977016</td>\n",
       "      <td>0.977547</td>\n",
       "      <td>0.978538</td>\n",
       "    </tr>\n",
       "    <tr>\n",
       "      <th>30</th>\n",
       "      <td>0.917255</td>\n",
       "      <td>0.950240</td>\n",
       "      <td>0.957273</td>\n",
       "      <td>0.970421</td>\n",
       "      <td>0.974530</td>\n",
       "      <td>0.976921</td>\n",
       "      <td>0.978340</td>\n",
       "      <td>0.979414</td>\n",
       "      <td>0.981544</td>\n",
       "    </tr>\n",
       "  </tbody>\n",
       "</table>\n",
       "</div>"
      ],
      "text/plain": [
       "n_components        2         3         4         5         6         7   \\\n",
       "n_neighbors                                                                \n",
       "10            0.911643  0.947287  0.959548  0.967923  0.971674  0.973560   \n",
       "15            0.913165  0.949305  0.961303  0.968341  0.973010  0.974462   \n",
       "20            0.916684  0.949465  0.958546  0.968654  0.973641  0.974372   \n",
       "25            0.914326  0.947766  0.962828  0.968581  0.973593  0.976246   \n",
       "30            0.917255  0.950240  0.957273  0.970421  0.974530  0.976921   \n",
       "\n",
       "n_components        8         9         10  \n",
       "n_neighbors                                 \n",
       "10            0.975193  0.976731  0.977302  \n",
       "15            0.976662  0.979169  0.980295  \n",
       "20            0.977067  0.979235  0.980332  \n",
       "25            0.977016  0.977547  0.978538  \n",
       "30            0.978340  0.979414  0.981544  "
      ]
     },
     "metadata": {},
     "output_type": "display_data"
    },
    {
     "name": "stdout",
     "output_type": "stream",
     "text": [
      "\n",
      "Raw data — continuity:\n"
     ]
    },
    {
     "data": {
      "text/html": [
       "<div>\n",
       "<style scoped>\n",
       "    .dataframe tbody tr th:only-of-type {\n",
       "        vertical-align: middle;\n",
       "    }\n",
       "\n",
       "    .dataframe tbody tr th {\n",
       "        vertical-align: top;\n",
       "    }\n",
       "\n",
       "    .dataframe thead th {\n",
       "        text-align: right;\n",
       "    }\n",
       "</style>\n",
       "<table border=\"1\" class=\"dataframe\">\n",
       "  <thead>\n",
       "    <tr style=\"text-align: right;\">\n",
       "      <th>n_components</th>\n",
       "      <th>2</th>\n",
       "      <th>3</th>\n",
       "      <th>4</th>\n",
       "      <th>5</th>\n",
       "      <th>6</th>\n",
       "      <th>7</th>\n",
       "      <th>8</th>\n",
       "      <th>9</th>\n",
       "      <th>10</th>\n",
       "    </tr>\n",
       "    <tr>\n",
       "      <th>n_neighbors</th>\n",
       "      <th></th>\n",
       "      <th></th>\n",
       "      <th></th>\n",
       "      <th></th>\n",
       "      <th></th>\n",
       "      <th></th>\n",
       "      <th></th>\n",
       "      <th></th>\n",
       "      <th></th>\n",
       "    </tr>\n",
       "  </thead>\n",
       "  <tbody>\n",
       "    <tr>\n",
       "      <th>10</th>\n",
       "      <td>0.988138</td>\n",
       "      <td>0.989540</td>\n",
       "      <td>0.990203</td>\n",
       "      <td>0.990674</td>\n",
       "      <td>0.991140</td>\n",
       "      <td>0.991462</td>\n",
       "      <td>0.991660</td>\n",
       "      <td>0.991945</td>\n",
       "      <td>0.992219</td>\n",
       "    </tr>\n",
       "    <tr>\n",
       "      <th>15</th>\n",
       "      <td>0.988026</td>\n",
       "      <td>0.989531</td>\n",
       "      <td>0.990190</td>\n",
       "      <td>0.990470</td>\n",
       "      <td>0.990909</td>\n",
       "      <td>0.991035</td>\n",
       "      <td>0.991349</td>\n",
       "      <td>0.991680</td>\n",
       "      <td>0.991782</td>\n",
       "    </tr>\n",
       "    <tr>\n",
       "      <th>20</th>\n",
       "      <td>0.988133</td>\n",
       "      <td>0.989510</td>\n",
       "      <td>0.989993</td>\n",
       "      <td>0.990596</td>\n",
       "      <td>0.991089</td>\n",
       "      <td>0.991143</td>\n",
       "      <td>0.991330</td>\n",
       "      <td>0.991646</td>\n",
       "      <td>0.991781</td>\n",
       "    </tr>\n",
       "    <tr>\n",
       "      <th>25</th>\n",
       "      <td>0.987948</td>\n",
       "      <td>0.989201</td>\n",
       "      <td>0.990162</td>\n",
       "      <td>0.990459</td>\n",
       "      <td>0.990892</td>\n",
       "      <td>0.991058</td>\n",
       "      <td>0.991096</td>\n",
       "      <td>0.991209</td>\n",
       "      <td>0.991329</td>\n",
       "    </tr>\n",
       "    <tr>\n",
       "      <th>30</th>\n",
       "      <td>0.987941</td>\n",
       "      <td>0.989352</td>\n",
       "      <td>0.989943</td>\n",
       "      <td>0.990741</td>\n",
       "      <td>0.990877</td>\n",
       "      <td>0.990984</td>\n",
       "      <td>0.991120</td>\n",
       "      <td>0.991419</td>\n",
       "      <td>0.991369</td>\n",
       "    </tr>\n",
       "  </tbody>\n",
       "</table>\n",
       "</div>"
      ],
      "text/plain": [
       "n_components        2         3         4         5         6         7   \\\n",
       "n_neighbors                                                                \n",
       "10            0.988138  0.989540  0.990203  0.990674  0.991140  0.991462   \n",
       "15            0.988026  0.989531  0.990190  0.990470  0.990909  0.991035   \n",
       "20            0.988133  0.989510  0.989993  0.990596  0.991089  0.991143   \n",
       "25            0.987948  0.989201  0.990162  0.990459  0.990892  0.991058   \n",
       "30            0.987941  0.989352  0.989943  0.990741  0.990877  0.990984   \n",
       "\n",
       "n_components        8         9         10  \n",
       "n_neighbors                                 \n",
       "10            0.991660  0.991945  0.992219  \n",
       "15            0.991349  0.991680  0.991782  \n",
       "20            0.991330  0.991646  0.991781  \n",
       "25            0.991096  0.991209  0.991329  \n",
       "30            0.991120  0.991419  0.991369  "
      ]
     },
     "metadata": {},
     "output_type": "display_data"
    },
    {
     "name": "stdout",
     "output_type": "stream",
     "text": [
      "\n",
      "Raw data — MRRE:\n"
     ]
    },
    {
     "data": {
      "text/html": [
       "<div>\n",
       "<style scoped>\n",
       "    .dataframe tbody tr th:only-of-type {\n",
       "        vertical-align: middle;\n",
       "    }\n",
       "\n",
       "    .dataframe tbody tr th {\n",
       "        vertical-align: top;\n",
       "    }\n",
       "\n",
       "    .dataframe thead th {\n",
       "        text-align: right;\n",
       "    }\n",
       "</style>\n",
       "<table border=\"1\" class=\"dataframe\">\n",
       "  <thead>\n",
       "    <tr style=\"text-align: right;\">\n",
       "      <th>n_components</th>\n",
       "      <th>2</th>\n",
       "      <th>3</th>\n",
       "      <th>4</th>\n",
       "      <th>5</th>\n",
       "      <th>6</th>\n",
       "      <th>7</th>\n",
       "      <th>8</th>\n",
       "      <th>9</th>\n",
       "      <th>10</th>\n",
       "    </tr>\n",
       "    <tr>\n",
       "      <th>n_neighbors</th>\n",
       "      <th></th>\n",
       "      <th></th>\n",
       "      <th></th>\n",
       "      <th></th>\n",
       "      <th></th>\n",
       "      <th></th>\n",
       "      <th></th>\n",
       "      <th></th>\n",
       "      <th></th>\n",
       "    </tr>\n",
       "  </thead>\n",
       "  <tbody>\n",
       "    <tr>\n",
       "      <th>10</th>\n",
       "      <td>0.445049</td>\n",
       "      <td>0.366005</td>\n",
       "      <td>0.349176</td>\n",
       "      <td>0.332029</td>\n",
       "      <td>0.323462</td>\n",
       "      <td>0.319423</td>\n",
       "      <td>0.314721</td>\n",
       "      <td>0.309720</td>\n",
       "      <td>0.310543</td>\n",
       "    </tr>\n",
       "    <tr>\n",
       "      <th>15</th>\n",
       "      <td>0.424128</td>\n",
       "      <td>0.350536</td>\n",
       "      <td>0.329143</td>\n",
       "      <td>0.312231</td>\n",
       "      <td>0.299799</td>\n",
       "      <td>0.295232</td>\n",
       "      <td>0.286916</td>\n",
       "      <td>0.279635</td>\n",
       "      <td>0.275304</td>\n",
       "    </tr>\n",
       "    <tr>\n",
       "      <th>20</th>\n",
       "      <td>0.421513</td>\n",
       "      <td>0.346436</td>\n",
       "      <td>0.323888</td>\n",
       "      <td>0.297706</td>\n",
       "      <td>0.286055</td>\n",
       "      <td>0.281701</td>\n",
       "      <td>0.275205</td>\n",
       "      <td>0.267718</td>\n",
       "      <td>0.264088</td>\n",
       "    </tr>\n",
       "    <tr>\n",
       "      <th>25</th>\n",
       "      <td>0.414328</td>\n",
       "      <td>0.337432</td>\n",
       "      <td>0.306417</td>\n",
       "      <td>0.286151</td>\n",
       "      <td>0.274062</td>\n",
       "      <td>0.267771</td>\n",
       "      <td>0.262227</td>\n",
       "      <td>0.258341</td>\n",
       "      <td>0.256267</td>\n",
       "    </tr>\n",
       "    <tr>\n",
       "      <th>30</th>\n",
       "      <td>0.412138</td>\n",
       "      <td>0.333343</td>\n",
       "      <td>0.304467</td>\n",
       "      <td>0.277911</td>\n",
       "      <td>0.266227</td>\n",
       "      <td>0.262259</td>\n",
       "      <td>0.255547</td>\n",
       "      <td>0.249616</td>\n",
       "      <td>0.246601</td>\n",
       "    </tr>\n",
       "  </tbody>\n",
       "</table>\n",
       "</div>"
      ],
      "text/plain": [
       "n_components        2         3         4         5         6         7   \\\n",
       "n_neighbors                                                                \n",
       "10            0.445049  0.366005  0.349176  0.332029  0.323462  0.319423   \n",
       "15            0.424128  0.350536  0.329143  0.312231  0.299799  0.295232   \n",
       "20            0.421513  0.346436  0.323888  0.297706  0.286055  0.281701   \n",
       "25            0.414328  0.337432  0.306417  0.286151  0.274062  0.267771   \n",
       "30            0.412138  0.333343  0.304467  0.277911  0.266227  0.262259   \n",
       "\n",
       "n_components        8         9         10  \n",
       "n_neighbors                                 \n",
       "10            0.314721  0.309720  0.310543  \n",
       "15            0.286916  0.279635  0.275304  \n",
       "20            0.275205  0.267718  0.264088  \n",
       "25            0.262227  0.258341  0.256267  \n",
       "30            0.255547  0.249616  0.246601  "
      ]
     },
     "metadata": {},
     "output_type": "display_data"
    },
    {
     "name": "stdout",
     "output_type": "stream",
     "text": [
      "\n",
      "=== Per90 data ===\n",
      "\n",
      "Per90 data — dist_corr:\n"
     ]
    },
    {
     "data": {
      "text/html": [
       "<div>\n",
       "<style scoped>\n",
       "    .dataframe tbody tr th:only-of-type {\n",
       "        vertical-align: middle;\n",
       "    }\n",
       "\n",
       "    .dataframe tbody tr th {\n",
       "        vertical-align: top;\n",
       "    }\n",
       "\n",
       "    .dataframe thead th {\n",
       "        text-align: right;\n",
       "    }\n",
       "</style>\n",
       "<table border=\"1\" class=\"dataframe\">\n",
       "  <thead>\n",
       "    <tr style=\"text-align: right;\">\n",
       "      <th>n_components</th>\n",
       "      <th>2</th>\n",
       "      <th>3</th>\n",
       "      <th>4</th>\n",
       "      <th>5</th>\n",
       "      <th>6</th>\n",
       "      <th>7</th>\n",
       "      <th>8</th>\n",
       "      <th>9</th>\n",
       "      <th>10</th>\n",
       "    </tr>\n",
       "    <tr>\n",
       "      <th>n_neighbors</th>\n",
       "      <th></th>\n",
       "      <th></th>\n",
       "      <th></th>\n",
       "      <th></th>\n",
       "      <th></th>\n",
       "      <th></th>\n",
       "      <th></th>\n",
       "      <th></th>\n",
       "      <th></th>\n",
       "    </tr>\n",
       "  </thead>\n",
       "  <tbody>\n",
       "    <tr>\n",
       "      <th>10</th>\n",
       "      <td>0.810640</td>\n",
       "      <td>0.831214</td>\n",
       "      <td>0.839106</td>\n",
       "      <td>0.853840</td>\n",
       "      <td>0.867462</td>\n",
       "      <td>0.871785</td>\n",
       "      <td>0.877559</td>\n",
       "      <td>0.883048</td>\n",
       "      <td>0.886324</td>\n",
       "    </tr>\n",
       "    <tr>\n",
       "      <th>15</th>\n",
       "      <td>0.815268</td>\n",
       "      <td>0.843259</td>\n",
       "      <td>0.855261</td>\n",
       "      <td>0.867144</td>\n",
       "      <td>0.883813</td>\n",
       "      <td>0.890339</td>\n",
       "      <td>0.890361</td>\n",
       "      <td>0.890960</td>\n",
       "      <td>0.894632</td>\n",
       "    </tr>\n",
       "    <tr>\n",
       "      <th>20</th>\n",
       "      <td>0.828373</td>\n",
       "      <td>0.853109</td>\n",
       "      <td>0.868743</td>\n",
       "      <td>0.879904</td>\n",
       "      <td>0.892062</td>\n",
       "      <td>0.892586</td>\n",
       "      <td>0.895565</td>\n",
       "      <td>0.899557</td>\n",
       "      <td>0.904371</td>\n",
       "    </tr>\n",
       "    <tr>\n",
       "      <th>25</th>\n",
       "      <td>0.833735</td>\n",
       "      <td>0.858268</td>\n",
       "      <td>0.879990</td>\n",
       "      <td>0.893082</td>\n",
       "      <td>0.900048</td>\n",
       "      <td>0.901378</td>\n",
       "      <td>0.906702</td>\n",
       "      <td>0.910914</td>\n",
       "      <td>0.916664</td>\n",
       "    </tr>\n",
       "    <tr>\n",
       "      <th>30</th>\n",
       "      <td>0.837737</td>\n",
       "      <td>0.863392</td>\n",
       "      <td>0.885605</td>\n",
       "      <td>0.897007</td>\n",
       "      <td>0.900732</td>\n",
       "      <td>0.907502</td>\n",
       "      <td>0.913863</td>\n",
       "      <td>0.915236</td>\n",
       "      <td>0.920433</td>\n",
       "    </tr>\n",
       "  </tbody>\n",
       "</table>\n",
       "</div>"
      ],
      "text/plain": [
       "n_components        2         3         4         5         6         7   \\\n",
       "n_neighbors                                                                \n",
       "10            0.810640  0.831214  0.839106  0.853840  0.867462  0.871785   \n",
       "15            0.815268  0.843259  0.855261  0.867144  0.883813  0.890339   \n",
       "20            0.828373  0.853109  0.868743  0.879904  0.892062  0.892586   \n",
       "25            0.833735  0.858268  0.879990  0.893082  0.900048  0.901378   \n",
       "30            0.837737  0.863392  0.885605  0.897007  0.900732  0.907502   \n",
       "\n",
       "n_components        8         9         10  \n",
       "n_neighbors                                 \n",
       "10            0.877559  0.883048  0.886324  \n",
       "15            0.890361  0.890960  0.894632  \n",
       "20            0.895565  0.899557  0.904371  \n",
       "25            0.906702  0.910914  0.916664  \n",
       "30            0.913863  0.915236  0.920433  "
      ]
     },
     "metadata": {},
     "output_type": "display_data"
    },
    {
     "name": "stdout",
     "output_type": "stream",
     "text": [
      "\n",
      "Per90 data — trustworthiness:\n"
     ]
    },
    {
     "data": {
      "text/html": [
       "<div>\n",
       "<style scoped>\n",
       "    .dataframe tbody tr th:only-of-type {\n",
       "        vertical-align: middle;\n",
       "    }\n",
       "\n",
       "    .dataframe tbody tr th {\n",
       "        vertical-align: top;\n",
       "    }\n",
       "\n",
       "    .dataframe thead th {\n",
       "        text-align: right;\n",
       "    }\n",
       "</style>\n",
       "<table border=\"1\" class=\"dataframe\">\n",
       "  <thead>\n",
       "    <tr style=\"text-align: right;\">\n",
       "      <th>n_components</th>\n",
       "      <th>2</th>\n",
       "      <th>3</th>\n",
       "      <th>4</th>\n",
       "      <th>5</th>\n",
       "      <th>6</th>\n",
       "      <th>7</th>\n",
       "      <th>8</th>\n",
       "      <th>9</th>\n",
       "      <th>10</th>\n",
       "    </tr>\n",
       "    <tr>\n",
       "      <th>n_neighbors</th>\n",
       "      <th></th>\n",
       "      <th></th>\n",
       "      <th></th>\n",
       "      <th></th>\n",
       "      <th></th>\n",
       "      <th></th>\n",
       "      <th></th>\n",
       "      <th></th>\n",
       "      <th></th>\n",
       "    </tr>\n",
       "  </thead>\n",
       "  <tbody>\n",
       "    <tr>\n",
       "      <th>10</th>\n",
       "      <td>0.887151</td>\n",
       "      <td>0.923939</td>\n",
       "      <td>0.937240</td>\n",
       "      <td>0.947832</td>\n",
       "      <td>0.954998</td>\n",
       "      <td>0.956000</td>\n",
       "      <td>0.959673</td>\n",
       "      <td>0.961045</td>\n",
       "      <td>0.963886</td>\n",
       "    </tr>\n",
       "    <tr>\n",
       "      <th>15</th>\n",
       "      <td>0.885724</td>\n",
       "      <td>0.918996</td>\n",
       "      <td>0.939673</td>\n",
       "      <td>0.949236</td>\n",
       "      <td>0.958066</td>\n",
       "      <td>0.959544</td>\n",
       "      <td>0.958260</td>\n",
       "      <td>0.961475</td>\n",
       "      <td>0.964866</td>\n",
       "    </tr>\n",
       "    <tr>\n",
       "      <th>20</th>\n",
       "      <td>0.887778</td>\n",
       "      <td>0.918122</td>\n",
       "      <td>0.938151</td>\n",
       "      <td>0.954113</td>\n",
       "      <td>0.959102</td>\n",
       "      <td>0.959290</td>\n",
       "      <td>0.961541</td>\n",
       "      <td>0.966404</td>\n",
       "      <td>0.967553</td>\n",
       "    </tr>\n",
       "    <tr>\n",
       "      <th>25</th>\n",
       "      <td>0.888090</td>\n",
       "      <td>0.914569</td>\n",
       "      <td>0.935057</td>\n",
       "      <td>0.952392</td>\n",
       "      <td>0.954087</td>\n",
       "      <td>0.957993</td>\n",
       "      <td>0.961095</td>\n",
       "      <td>0.963949</td>\n",
       "      <td>0.966456</td>\n",
       "    </tr>\n",
       "    <tr>\n",
       "      <th>30</th>\n",
       "      <td>0.887914</td>\n",
       "      <td>0.911093</td>\n",
       "      <td>0.930865</td>\n",
       "      <td>0.949742</td>\n",
       "      <td>0.951987</td>\n",
       "      <td>0.956687</td>\n",
       "      <td>0.962528</td>\n",
       "      <td>0.963942</td>\n",
       "      <td>0.966026</td>\n",
       "    </tr>\n",
       "  </tbody>\n",
       "</table>\n",
       "</div>"
      ],
      "text/plain": [
       "n_components        2         3         4         5         6         7   \\\n",
       "n_neighbors                                                                \n",
       "10            0.887151  0.923939  0.937240  0.947832  0.954998  0.956000   \n",
       "15            0.885724  0.918996  0.939673  0.949236  0.958066  0.959544   \n",
       "20            0.887778  0.918122  0.938151  0.954113  0.959102  0.959290   \n",
       "25            0.888090  0.914569  0.935057  0.952392  0.954087  0.957993   \n",
       "30            0.887914  0.911093  0.930865  0.949742  0.951987  0.956687   \n",
       "\n",
       "n_components        8         9         10  \n",
       "n_neighbors                                 \n",
       "10            0.959673  0.961045  0.963886  \n",
       "15            0.958260  0.961475  0.964866  \n",
       "20            0.961541  0.966404  0.967553  \n",
       "25            0.961095  0.963949  0.966456  \n",
       "30            0.962528  0.963942  0.966026  "
      ]
     },
     "metadata": {},
     "output_type": "display_data"
    },
    {
     "name": "stdout",
     "output_type": "stream",
     "text": [
      "\n",
      "Per90 data — continuity:\n"
     ]
    },
    {
     "data": {
      "text/html": [
       "<div>\n",
       "<style scoped>\n",
       "    .dataframe tbody tr th:only-of-type {\n",
       "        vertical-align: middle;\n",
       "    }\n",
       "\n",
       "    .dataframe tbody tr th {\n",
       "        vertical-align: top;\n",
       "    }\n",
       "\n",
       "    .dataframe thead th {\n",
       "        text-align: right;\n",
       "    }\n",
       "</style>\n",
       "<table border=\"1\" class=\"dataframe\">\n",
       "  <thead>\n",
       "    <tr style=\"text-align: right;\">\n",
       "      <th>n_components</th>\n",
       "      <th>2</th>\n",
       "      <th>3</th>\n",
       "      <th>4</th>\n",
       "      <th>5</th>\n",
       "      <th>6</th>\n",
       "      <th>7</th>\n",
       "      <th>8</th>\n",
       "      <th>9</th>\n",
       "      <th>10</th>\n",
       "    </tr>\n",
       "    <tr>\n",
       "      <th>n_neighbors</th>\n",
       "      <th></th>\n",
       "      <th></th>\n",
       "      <th></th>\n",
       "      <th></th>\n",
       "      <th></th>\n",
       "      <th></th>\n",
       "      <th></th>\n",
       "      <th></th>\n",
       "      <th></th>\n",
       "    </tr>\n",
       "  </thead>\n",
       "  <tbody>\n",
       "    <tr>\n",
       "      <th>10</th>\n",
       "      <td>0.986997</td>\n",
       "      <td>0.988294</td>\n",
       "      <td>0.989021</td>\n",
       "      <td>0.989341</td>\n",
       "      <td>0.989922</td>\n",
       "      <td>0.990040</td>\n",
       "      <td>0.990397</td>\n",
       "      <td>0.990553</td>\n",
       "      <td>0.990735</td>\n",
       "    </tr>\n",
       "    <tr>\n",
       "      <th>15</th>\n",
       "      <td>0.987106</td>\n",
       "      <td>0.988144</td>\n",
       "      <td>0.988707</td>\n",
       "      <td>0.989166</td>\n",
       "      <td>0.989546</td>\n",
       "      <td>0.989703</td>\n",
       "      <td>0.989830</td>\n",
       "      <td>0.990159</td>\n",
       "      <td>0.990532</td>\n",
       "    </tr>\n",
       "    <tr>\n",
       "      <th>20</th>\n",
       "      <td>0.986964</td>\n",
       "      <td>0.988141</td>\n",
       "      <td>0.988847</td>\n",
       "      <td>0.989533</td>\n",
       "      <td>0.989812</td>\n",
       "      <td>0.989857</td>\n",
       "      <td>0.990094</td>\n",
       "      <td>0.990409</td>\n",
       "      <td>0.990380</td>\n",
       "    </tr>\n",
       "    <tr>\n",
       "      <th>25</th>\n",
       "      <td>0.987126</td>\n",
       "      <td>0.988159</td>\n",
       "      <td>0.988641</td>\n",
       "      <td>0.989413</td>\n",
       "      <td>0.989541</td>\n",
       "      <td>0.989818</td>\n",
       "      <td>0.990140</td>\n",
       "      <td>0.990027</td>\n",
       "      <td>0.990249</td>\n",
       "    </tr>\n",
       "    <tr>\n",
       "      <th>30</th>\n",
       "      <td>0.987120</td>\n",
       "      <td>0.987829</td>\n",
       "      <td>0.988556</td>\n",
       "      <td>0.989387</td>\n",
       "      <td>0.989599</td>\n",
       "      <td>0.989794</td>\n",
       "      <td>0.990233</td>\n",
       "      <td>0.990148</td>\n",
       "      <td>0.990212</td>\n",
       "    </tr>\n",
       "  </tbody>\n",
       "</table>\n",
       "</div>"
      ],
      "text/plain": [
       "n_components        2         3         4         5         6         7   \\\n",
       "n_neighbors                                                                \n",
       "10            0.986997  0.988294  0.989021  0.989341  0.989922  0.990040   \n",
       "15            0.987106  0.988144  0.988707  0.989166  0.989546  0.989703   \n",
       "20            0.986964  0.988141  0.988847  0.989533  0.989812  0.989857   \n",
       "25            0.987126  0.988159  0.988641  0.989413  0.989541  0.989818   \n",
       "30            0.987120  0.987829  0.988556  0.989387  0.989599  0.989794   \n",
       "\n",
       "n_components        8         9         10  \n",
       "n_neighbors                                 \n",
       "10            0.990397  0.990553  0.990735  \n",
       "15            0.989830  0.990159  0.990532  \n",
       "20            0.990094  0.990409  0.990380  \n",
       "25            0.990140  0.990027  0.990249  \n",
       "30            0.990233  0.990148  0.990212  "
      ]
     },
     "metadata": {},
     "output_type": "display_data"
    },
    {
     "name": "stdout",
     "output_type": "stream",
     "text": [
      "\n",
      "Per90 data — MRRE:\n"
     ]
    },
    {
     "data": {
      "text/html": [
       "<div>\n",
       "<style scoped>\n",
       "    .dataframe tbody tr th:only-of-type {\n",
       "        vertical-align: middle;\n",
       "    }\n",
       "\n",
       "    .dataframe tbody tr th {\n",
       "        vertical-align: top;\n",
       "    }\n",
       "\n",
       "    .dataframe thead th {\n",
       "        text-align: right;\n",
       "    }\n",
       "</style>\n",
       "<table border=\"1\" class=\"dataframe\">\n",
       "  <thead>\n",
       "    <tr style=\"text-align: right;\">\n",
       "      <th>n_components</th>\n",
       "      <th>2</th>\n",
       "      <th>3</th>\n",
       "      <th>4</th>\n",
       "      <th>5</th>\n",
       "      <th>6</th>\n",
       "      <th>7</th>\n",
       "      <th>8</th>\n",
       "      <th>9</th>\n",
       "      <th>10</th>\n",
       "    </tr>\n",
       "    <tr>\n",
       "      <th>n_neighbors</th>\n",
       "      <th></th>\n",
       "      <th></th>\n",
       "      <th></th>\n",
       "      <th></th>\n",
       "      <th></th>\n",
       "      <th></th>\n",
       "      <th></th>\n",
       "      <th></th>\n",
       "      <th></th>\n",
       "    </tr>\n",
       "  </thead>\n",
       "  <tbody>\n",
       "    <tr>\n",
       "      <th>10</th>\n",
       "      <td>0.570688</td>\n",
       "      <td>0.474815</td>\n",
       "      <td>0.438850</td>\n",
       "      <td>0.418281</td>\n",
       "      <td>0.396783</td>\n",
       "      <td>0.390678</td>\n",
       "      <td>0.387895</td>\n",
       "      <td>0.379524</td>\n",
       "      <td>0.375405</td>\n",
       "    </tr>\n",
       "    <tr>\n",
       "      <th>15</th>\n",
       "      <td>0.558785</td>\n",
       "      <td>0.470905</td>\n",
       "      <td>0.418869</td>\n",
       "      <td>0.394742</td>\n",
       "      <td>0.372303</td>\n",
       "      <td>0.363500</td>\n",
       "      <td>0.364146</td>\n",
       "      <td>0.358664</td>\n",
       "      <td>0.351851</td>\n",
       "    </tr>\n",
       "    <tr>\n",
       "      <th>20</th>\n",
       "      <td>0.545931</td>\n",
       "      <td>0.466741</td>\n",
       "      <td>0.406615</td>\n",
       "      <td>0.376651</td>\n",
       "      <td>0.356523</td>\n",
       "      <td>0.351735</td>\n",
       "      <td>0.345559</td>\n",
       "      <td>0.335029</td>\n",
       "      <td>0.328776</td>\n",
       "    </tr>\n",
       "    <tr>\n",
       "      <th>25</th>\n",
       "      <td>0.535227</td>\n",
       "      <td>0.459759</td>\n",
       "      <td>0.397407</td>\n",
       "      <td>0.363599</td>\n",
       "      <td>0.348920</td>\n",
       "      <td>0.341315</td>\n",
       "      <td>0.331893</td>\n",
       "      <td>0.325436</td>\n",
       "      <td>0.319023</td>\n",
       "    </tr>\n",
       "    <tr>\n",
       "      <th>30</th>\n",
       "      <td>0.535272</td>\n",
       "      <td>0.465442</td>\n",
       "      <td>0.398046</td>\n",
       "      <td>0.360800</td>\n",
       "      <td>0.352362</td>\n",
       "      <td>0.342458</td>\n",
       "      <td>0.327841</td>\n",
       "      <td>0.328365</td>\n",
       "      <td>0.321428</td>\n",
       "    </tr>\n",
       "  </tbody>\n",
       "</table>\n",
       "</div>"
      ],
      "text/plain": [
       "n_components        2         3         4         5         6         7   \\\n",
       "n_neighbors                                                                \n",
       "10            0.570688  0.474815  0.438850  0.418281  0.396783  0.390678   \n",
       "15            0.558785  0.470905  0.418869  0.394742  0.372303  0.363500   \n",
       "20            0.545931  0.466741  0.406615  0.376651  0.356523  0.351735   \n",
       "25            0.535227  0.459759  0.397407  0.363599  0.348920  0.341315   \n",
       "30            0.535272  0.465442  0.398046  0.360800  0.352362  0.342458   \n",
       "\n",
       "n_components        8         9         10  \n",
       "n_neighbors                                 \n",
       "10            0.387895  0.379524  0.375405  \n",
       "15            0.364146  0.358664  0.351851  \n",
       "20            0.345559  0.335029  0.328776  \n",
       "25            0.331893  0.325436  0.319023  \n",
       "30            0.327841  0.328365  0.321428  "
      ]
     },
     "metadata": {},
     "output_type": "display_data"
    },
    {
     "name": "stdout",
     "output_type": "stream",
     "text": [
      "\n",
      "=== Custom data ===\n",
      "\n",
      "Custom data — dist_corr:\n"
     ]
    },
    {
     "data": {
      "text/html": [
       "<div>\n",
       "<style scoped>\n",
       "    .dataframe tbody tr th:only-of-type {\n",
       "        vertical-align: middle;\n",
       "    }\n",
       "\n",
       "    .dataframe tbody tr th {\n",
       "        vertical-align: top;\n",
       "    }\n",
       "\n",
       "    .dataframe thead th {\n",
       "        text-align: right;\n",
       "    }\n",
       "</style>\n",
       "<table border=\"1\" class=\"dataframe\">\n",
       "  <thead>\n",
       "    <tr style=\"text-align: right;\">\n",
       "      <th>n_components</th>\n",
       "      <th>2</th>\n",
       "      <th>3</th>\n",
       "      <th>4</th>\n",
       "      <th>5</th>\n",
       "      <th>6</th>\n",
       "      <th>7</th>\n",
       "      <th>8</th>\n",
       "      <th>9</th>\n",
       "      <th>10</th>\n",
       "    </tr>\n",
       "    <tr>\n",
       "      <th>n_neighbors</th>\n",
       "      <th></th>\n",
       "      <th></th>\n",
       "      <th></th>\n",
       "      <th></th>\n",
       "      <th></th>\n",
       "      <th></th>\n",
       "      <th></th>\n",
       "      <th></th>\n",
       "      <th></th>\n",
       "    </tr>\n",
       "  </thead>\n",
       "  <tbody>\n",
       "    <tr>\n",
       "      <th>10</th>\n",
       "      <td>0.809681</td>\n",
       "      <td>0.819424</td>\n",
       "      <td>0.843180</td>\n",
       "      <td>0.848320</td>\n",
       "      <td>0.860383</td>\n",
       "      <td>0.868124</td>\n",
       "      <td>0.872973</td>\n",
       "      <td>0.879616</td>\n",
       "      <td>0.886624</td>\n",
       "    </tr>\n",
       "    <tr>\n",
       "      <th>15</th>\n",
       "      <td>0.820936</td>\n",
       "      <td>0.844775</td>\n",
       "      <td>0.861402</td>\n",
       "      <td>0.868349</td>\n",
       "      <td>0.880676</td>\n",
       "      <td>0.886845</td>\n",
       "      <td>0.892800</td>\n",
       "      <td>0.895729</td>\n",
       "      <td>0.899985</td>\n",
       "    </tr>\n",
       "    <tr>\n",
       "      <th>20</th>\n",
       "      <td>0.825880</td>\n",
       "      <td>0.855731</td>\n",
       "      <td>0.873052</td>\n",
       "      <td>0.878329</td>\n",
       "      <td>0.887921</td>\n",
       "      <td>0.893476</td>\n",
       "      <td>0.900456</td>\n",
       "      <td>0.903405</td>\n",
       "      <td>0.906519</td>\n",
       "    </tr>\n",
       "    <tr>\n",
       "      <th>25</th>\n",
       "      <td>0.825971</td>\n",
       "      <td>0.861757</td>\n",
       "      <td>0.879352</td>\n",
       "      <td>0.883451</td>\n",
       "      <td>0.892917</td>\n",
       "      <td>0.899375</td>\n",
       "      <td>0.905226</td>\n",
       "      <td>0.907809</td>\n",
       "      <td>0.914252</td>\n",
       "    </tr>\n",
       "    <tr>\n",
       "      <th>30</th>\n",
       "      <td>0.827908</td>\n",
       "      <td>0.864629</td>\n",
       "      <td>0.880959</td>\n",
       "      <td>0.885389</td>\n",
       "      <td>0.897623</td>\n",
       "      <td>0.904007</td>\n",
       "      <td>0.909325</td>\n",
       "      <td>0.914287</td>\n",
       "      <td>0.916896</td>\n",
       "    </tr>\n",
       "  </tbody>\n",
       "</table>\n",
       "</div>"
      ],
      "text/plain": [
       "n_components        2         3         4         5         6         7   \\\n",
       "n_neighbors                                                                \n",
       "10            0.809681  0.819424  0.843180  0.848320  0.860383  0.868124   \n",
       "15            0.820936  0.844775  0.861402  0.868349  0.880676  0.886845   \n",
       "20            0.825880  0.855731  0.873052  0.878329  0.887921  0.893476   \n",
       "25            0.825971  0.861757  0.879352  0.883451  0.892917  0.899375   \n",
       "30            0.827908  0.864629  0.880959  0.885389  0.897623  0.904007   \n",
       "\n",
       "n_components        8         9         10  \n",
       "n_neighbors                                 \n",
       "10            0.872973  0.879616  0.886624  \n",
       "15            0.892800  0.895729  0.899985  \n",
       "20            0.900456  0.903405  0.906519  \n",
       "25            0.905226  0.907809  0.914252  \n",
       "30            0.909325  0.914287  0.916896  "
      ]
     },
     "metadata": {},
     "output_type": "display_data"
    },
    {
     "name": "stdout",
     "output_type": "stream",
     "text": [
      "\n",
      "Custom data — trustworthiness:\n"
     ]
    },
    {
     "data": {
      "text/html": [
       "<div>\n",
       "<style scoped>\n",
       "    .dataframe tbody tr th:only-of-type {\n",
       "        vertical-align: middle;\n",
       "    }\n",
       "\n",
       "    .dataframe tbody tr th {\n",
       "        vertical-align: top;\n",
       "    }\n",
       "\n",
       "    .dataframe thead th {\n",
       "        text-align: right;\n",
       "    }\n",
       "</style>\n",
       "<table border=\"1\" class=\"dataframe\">\n",
       "  <thead>\n",
       "    <tr style=\"text-align: right;\">\n",
       "      <th>n_components</th>\n",
       "      <th>2</th>\n",
       "      <th>3</th>\n",
       "      <th>4</th>\n",
       "      <th>5</th>\n",
       "      <th>6</th>\n",
       "      <th>7</th>\n",
       "      <th>8</th>\n",
       "      <th>9</th>\n",
       "      <th>10</th>\n",
       "    </tr>\n",
       "    <tr>\n",
       "      <th>n_neighbors</th>\n",
       "      <th></th>\n",
       "      <th></th>\n",
       "      <th></th>\n",
       "      <th></th>\n",
       "      <th></th>\n",
       "      <th></th>\n",
       "      <th></th>\n",
       "      <th></th>\n",
       "      <th></th>\n",
       "    </tr>\n",
       "  </thead>\n",
       "  <tbody>\n",
       "    <tr>\n",
       "      <th>10</th>\n",
       "      <td>0.880331</td>\n",
       "      <td>0.909867</td>\n",
       "      <td>0.927768</td>\n",
       "      <td>0.940297</td>\n",
       "      <td>0.946020</td>\n",
       "      <td>0.951248</td>\n",
       "      <td>0.957149</td>\n",
       "      <td>0.958277</td>\n",
       "      <td>0.959844</td>\n",
       "    </tr>\n",
       "    <tr>\n",
       "      <th>15</th>\n",
       "      <td>0.879186</td>\n",
       "      <td>0.913290</td>\n",
       "      <td>0.929430</td>\n",
       "      <td>0.938957</td>\n",
       "      <td>0.945555</td>\n",
       "      <td>0.953365</td>\n",
       "      <td>0.956008</td>\n",
       "      <td>0.959183</td>\n",
       "      <td>0.960267</td>\n",
       "    </tr>\n",
       "    <tr>\n",
       "      <th>20</th>\n",
       "      <td>0.880640</td>\n",
       "      <td>0.915090</td>\n",
       "      <td>0.928184</td>\n",
       "      <td>0.941835</td>\n",
       "      <td>0.949224</td>\n",
       "      <td>0.952987</td>\n",
       "      <td>0.957581</td>\n",
       "      <td>0.959256</td>\n",
       "      <td>0.958389</td>\n",
       "    </tr>\n",
       "    <tr>\n",
       "      <th>25</th>\n",
       "      <td>0.879345</td>\n",
       "      <td>0.913340</td>\n",
       "      <td>0.928740</td>\n",
       "      <td>0.944374</td>\n",
       "      <td>0.946758</td>\n",
       "      <td>0.954759</td>\n",
       "      <td>0.957312</td>\n",
       "      <td>0.961543</td>\n",
       "      <td>0.964142</td>\n",
       "    </tr>\n",
       "    <tr>\n",
       "      <th>30</th>\n",
       "      <td>0.879645</td>\n",
       "      <td>0.915595</td>\n",
       "      <td>0.933269</td>\n",
       "      <td>0.944673</td>\n",
       "      <td>0.949883</td>\n",
       "      <td>0.956712</td>\n",
       "      <td>0.957613</td>\n",
       "      <td>0.961505</td>\n",
       "      <td>0.962739</td>\n",
       "    </tr>\n",
       "  </tbody>\n",
       "</table>\n",
       "</div>"
      ],
      "text/plain": [
       "n_components        2         3         4         5         6         7   \\\n",
       "n_neighbors                                                                \n",
       "10            0.880331  0.909867  0.927768  0.940297  0.946020  0.951248   \n",
       "15            0.879186  0.913290  0.929430  0.938957  0.945555  0.953365   \n",
       "20            0.880640  0.915090  0.928184  0.941835  0.949224  0.952987   \n",
       "25            0.879345  0.913340  0.928740  0.944374  0.946758  0.954759   \n",
       "30            0.879645  0.915595  0.933269  0.944673  0.949883  0.956712   \n",
       "\n",
       "n_components        8         9         10  \n",
       "n_neighbors                                 \n",
       "10            0.957149  0.958277  0.959844  \n",
       "15            0.956008  0.959183  0.960267  \n",
       "20            0.957581  0.959256  0.958389  \n",
       "25            0.957312  0.961543  0.964142  \n",
       "30            0.957613  0.961505  0.962739  "
      ]
     },
     "metadata": {},
     "output_type": "display_data"
    },
    {
     "name": "stdout",
     "output_type": "stream",
     "text": [
      "\n",
      "Custom data — continuity:\n"
     ]
    },
    {
     "data": {
      "text/html": [
       "<div>\n",
       "<style scoped>\n",
       "    .dataframe tbody tr th:only-of-type {\n",
       "        vertical-align: middle;\n",
       "    }\n",
       "\n",
       "    .dataframe tbody tr th {\n",
       "        vertical-align: top;\n",
       "    }\n",
       "\n",
       "    .dataframe thead th {\n",
       "        text-align: right;\n",
       "    }\n",
       "</style>\n",
       "<table border=\"1\" class=\"dataframe\">\n",
       "  <thead>\n",
       "    <tr style=\"text-align: right;\">\n",
       "      <th>n_components</th>\n",
       "      <th>2</th>\n",
       "      <th>3</th>\n",
       "      <th>4</th>\n",
       "      <th>5</th>\n",
       "      <th>6</th>\n",
       "      <th>7</th>\n",
       "      <th>8</th>\n",
       "      <th>9</th>\n",
       "      <th>10</th>\n",
       "    </tr>\n",
       "    <tr>\n",
       "      <th>n_neighbors</th>\n",
       "      <th></th>\n",
       "      <th></th>\n",
       "      <th></th>\n",
       "      <th></th>\n",
       "      <th></th>\n",
       "      <th></th>\n",
       "      <th></th>\n",
       "      <th></th>\n",
       "      <th></th>\n",
       "    </tr>\n",
       "  </thead>\n",
       "  <tbody>\n",
       "    <tr>\n",
       "      <th>10</th>\n",
       "      <td>0.986783</td>\n",
       "      <td>0.987980</td>\n",
       "      <td>0.988608</td>\n",
       "      <td>0.988894</td>\n",
       "      <td>0.989300</td>\n",
       "      <td>0.989518</td>\n",
       "      <td>0.989940</td>\n",
       "      <td>0.990124</td>\n",
       "      <td>0.990196</td>\n",
       "    </tr>\n",
       "    <tr>\n",
       "      <th>15</th>\n",
       "      <td>0.986643</td>\n",
       "      <td>0.987883</td>\n",
       "      <td>0.988232</td>\n",
       "      <td>0.988485</td>\n",
       "      <td>0.988895</td>\n",
       "      <td>0.989304</td>\n",
       "      <td>0.989432</td>\n",
       "      <td>0.989559</td>\n",
       "      <td>0.989670</td>\n",
       "    </tr>\n",
       "    <tr>\n",
       "      <th>20</th>\n",
       "      <td>0.986844</td>\n",
       "      <td>0.987905</td>\n",
       "      <td>0.988231</td>\n",
       "      <td>0.988748</td>\n",
       "      <td>0.988851</td>\n",
       "      <td>0.989206</td>\n",
       "      <td>0.989376</td>\n",
       "      <td>0.989504</td>\n",
       "      <td>0.989489</td>\n",
       "    </tr>\n",
       "    <tr>\n",
       "      <th>25</th>\n",
       "      <td>0.986807</td>\n",
       "      <td>0.987911</td>\n",
       "      <td>0.988303</td>\n",
       "      <td>0.988945</td>\n",
       "      <td>0.989072</td>\n",
       "      <td>0.989319</td>\n",
       "      <td>0.989481</td>\n",
       "      <td>0.989704</td>\n",
       "      <td>0.989845</td>\n",
       "    </tr>\n",
       "    <tr>\n",
       "      <th>30</th>\n",
       "      <td>0.986800</td>\n",
       "      <td>0.988011</td>\n",
       "      <td>0.988510</td>\n",
       "      <td>0.988945</td>\n",
       "      <td>0.989189</td>\n",
       "      <td>0.989446</td>\n",
       "      <td>0.989498</td>\n",
       "      <td>0.989685</td>\n",
       "      <td>0.989625</td>\n",
       "    </tr>\n",
       "  </tbody>\n",
       "</table>\n",
       "</div>"
      ],
      "text/plain": [
       "n_components        2         3         4         5         6         7   \\\n",
       "n_neighbors                                                                \n",
       "10            0.986783  0.987980  0.988608  0.988894  0.989300  0.989518   \n",
       "15            0.986643  0.987883  0.988232  0.988485  0.988895  0.989304   \n",
       "20            0.986844  0.987905  0.988231  0.988748  0.988851  0.989206   \n",
       "25            0.986807  0.987911  0.988303  0.988945  0.989072  0.989319   \n",
       "30            0.986800  0.988011  0.988510  0.988945  0.989189  0.989446   \n",
       "\n",
       "n_components        8         9         10  \n",
       "n_neighbors                                 \n",
       "10            0.989940  0.990124  0.990196  \n",
       "15            0.989432  0.989559  0.989670  \n",
       "20            0.989376  0.989504  0.989489  \n",
       "25            0.989481  0.989704  0.989845  \n",
       "30            0.989498  0.989685  0.989625  "
      ]
     },
     "metadata": {},
     "output_type": "display_data"
    },
    {
     "name": "stdout",
     "output_type": "stream",
     "text": [
      "\n",
      "Custom data — MRRE:\n"
     ]
    },
    {
     "data": {
      "text/html": [
       "<div>\n",
       "<style scoped>\n",
       "    .dataframe tbody tr th:only-of-type {\n",
       "        vertical-align: middle;\n",
       "    }\n",
       "\n",
       "    .dataframe tbody tr th {\n",
       "        vertical-align: top;\n",
       "    }\n",
       "\n",
       "    .dataframe thead th {\n",
       "        text-align: right;\n",
       "    }\n",
       "</style>\n",
       "<table border=\"1\" class=\"dataframe\">\n",
       "  <thead>\n",
       "    <tr style=\"text-align: right;\">\n",
       "      <th>n_components</th>\n",
       "      <th>2</th>\n",
       "      <th>3</th>\n",
       "      <th>4</th>\n",
       "      <th>5</th>\n",
       "      <th>6</th>\n",
       "      <th>7</th>\n",
       "      <th>8</th>\n",
       "      <th>9</th>\n",
       "      <th>10</th>\n",
       "    </tr>\n",
       "    <tr>\n",
       "      <th>n_neighbors</th>\n",
       "      <th></th>\n",
       "      <th></th>\n",
       "      <th></th>\n",
       "      <th></th>\n",
       "      <th></th>\n",
       "      <th></th>\n",
       "      <th></th>\n",
       "      <th></th>\n",
       "      <th></th>\n",
       "    </tr>\n",
       "  </thead>\n",
       "  <tbody>\n",
       "    <tr>\n",
       "      <th>10</th>\n",
       "      <td>0.590466</td>\n",
       "      <td>0.512900</td>\n",
       "      <td>0.462970</td>\n",
       "      <td>0.447824</td>\n",
       "      <td>0.427779</td>\n",
       "      <td>0.416902</td>\n",
       "      <td>0.401409</td>\n",
       "      <td>0.396850</td>\n",
       "      <td>0.391296</td>\n",
       "    </tr>\n",
       "    <tr>\n",
       "      <th>15</th>\n",
       "      <td>0.572896</td>\n",
       "      <td>0.489776</td>\n",
       "      <td>0.452476</td>\n",
       "      <td>0.433254</td>\n",
       "      <td>0.412743</td>\n",
       "      <td>0.391375</td>\n",
       "      <td>0.386074</td>\n",
       "      <td>0.382503</td>\n",
       "      <td>0.375214</td>\n",
       "    </tr>\n",
       "    <tr>\n",
       "      <th>20</th>\n",
       "      <td>0.565126</td>\n",
       "      <td>0.478812</td>\n",
       "      <td>0.440406</td>\n",
       "      <td>0.415197</td>\n",
       "      <td>0.390388</td>\n",
       "      <td>0.376139</td>\n",
       "      <td>0.369365</td>\n",
       "      <td>0.360731</td>\n",
       "      <td>0.356431</td>\n",
       "    </tr>\n",
       "    <tr>\n",
       "      <th>25</th>\n",
       "      <td>0.564979</td>\n",
       "      <td>0.473039</td>\n",
       "      <td>0.427874</td>\n",
       "      <td>0.398832</td>\n",
       "      <td>0.386418</td>\n",
       "      <td>0.362713</td>\n",
       "      <td>0.355490</td>\n",
       "      <td>0.348303</td>\n",
       "      <td>0.341045</td>\n",
       "    </tr>\n",
       "    <tr>\n",
       "      <th>30</th>\n",
       "      <td>0.560425</td>\n",
       "      <td>0.469492</td>\n",
       "      <td>0.421278</td>\n",
       "      <td>0.391487</td>\n",
       "      <td>0.380257</td>\n",
       "      <td>0.362541</td>\n",
       "      <td>0.356295</td>\n",
       "      <td>0.344597</td>\n",
       "      <td>0.339838</td>\n",
       "    </tr>\n",
       "  </tbody>\n",
       "</table>\n",
       "</div>"
      ],
      "text/plain": [
       "n_components        2         3         4         5         6         7   \\\n",
       "n_neighbors                                                                \n",
       "10            0.590466  0.512900  0.462970  0.447824  0.427779  0.416902   \n",
       "15            0.572896  0.489776  0.452476  0.433254  0.412743  0.391375   \n",
       "20            0.565126  0.478812  0.440406  0.415197  0.390388  0.376139   \n",
       "25            0.564979  0.473039  0.427874  0.398832  0.386418  0.362713   \n",
       "30            0.560425  0.469492  0.421278  0.391487  0.380257  0.362541   \n",
       "\n",
       "n_components        8         9         10  \n",
       "n_neighbors                                 \n",
       "10            0.401409  0.396850  0.391296  \n",
       "15            0.386074  0.382503  0.375214  \n",
       "20            0.369365  0.360731  0.356431  \n",
       "25            0.355490  0.348303  0.341045  \n",
       "30            0.356295  0.344597  0.339838  "
      ]
     },
     "metadata": {},
     "output_type": "display_data"
    },
    {
     "name": "stdout",
     "output_type": "stream",
     "text": [
      "\n",
      "=== Neighbour Stability between raw & per90 ===\n",
      "\n",
      "Neighbour stability — neighbours_stability:\n"
     ]
    },
    {
     "data": {
      "text/html": [
       "<div>\n",
       "<style scoped>\n",
       "    .dataframe tbody tr th:only-of-type {\n",
       "        vertical-align: middle;\n",
       "    }\n",
       "\n",
       "    .dataframe tbody tr th {\n",
       "        vertical-align: top;\n",
       "    }\n",
       "\n",
       "    .dataframe thead th {\n",
       "        text-align: right;\n",
       "    }\n",
       "</style>\n",
       "<table border=\"1\" class=\"dataframe\">\n",
       "  <thead>\n",
       "    <tr style=\"text-align: right;\">\n",
       "      <th>n_components</th>\n",
       "      <th>2</th>\n",
       "      <th>3</th>\n",
       "      <th>4</th>\n",
       "      <th>5</th>\n",
       "      <th>6</th>\n",
       "      <th>7</th>\n",
       "      <th>8</th>\n",
       "      <th>9</th>\n",
       "      <th>10</th>\n",
       "    </tr>\n",
       "    <tr>\n",
       "      <th>n_neighbors</th>\n",
       "      <th></th>\n",
       "      <th></th>\n",
       "      <th></th>\n",
       "      <th></th>\n",
       "      <th></th>\n",
       "      <th></th>\n",
       "      <th></th>\n",
       "      <th></th>\n",
       "      <th></th>\n",
       "    </tr>\n",
       "  </thead>\n",
       "  <tbody>\n",
       "    <tr>\n",
       "      <th>10</th>\n",
       "      <td>0.377177</td>\n",
       "      <td>0.377177</td>\n",
       "      <td>0.377177</td>\n",
       "      <td>0.377177</td>\n",
       "      <td>0.377177</td>\n",
       "      <td>0.377177</td>\n",
       "      <td>0.377177</td>\n",
       "      <td>0.377177</td>\n",
       "      <td>0.377177</td>\n",
       "    </tr>\n",
       "    <tr>\n",
       "      <th>15</th>\n",
       "      <td>0.377177</td>\n",
       "      <td>0.377177</td>\n",
       "      <td>0.377177</td>\n",
       "      <td>0.377177</td>\n",
       "      <td>0.377177</td>\n",
       "      <td>0.377177</td>\n",
       "      <td>0.377177</td>\n",
       "      <td>0.377177</td>\n",
       "      <td>0.377177</td>\n",
       "    </tr>\n",
       "    <tr>\n",
       "      <th>20</th>\n",
       "      <td>0.377177</td>\n",
       "      <td>0.377177</td>\n",
       "      <td>0.377177</td>\n",
       "      <td>0.377177</td>\n",
       "      <td>0.377177</td>\n",
       "      <td>0.377177</td>\n",
       "      <td>0.377177</td>\n",
       "      <td>0.377177</td>\n",
       "      <td>0.377177</td>\n",
       "    </tr>\n",
       "    <tr>\n",
       "      <th>25</th>\n",
       "      <td>0.377177</td>\n",
       "      <td>0.377177</td>\n",
       "      <td>0.377177</td>\n",
       "      <td>0.377177</td>\n",
       "      <td>0.377177</td>\n",
       "      <td>0.377177</td>\n",
       "      <td>0.377177</td>\n",
       "      <td>0.377177</td>\n",
       "      <td>0.377177</td>\n",
       "    </tr>\n",
       "    <tr>\n",
       "      <th>30</th>\n",
       "      <td>0.377177</td>\n",
       "      <td>0.377177</td>\n",
       "      <td>0.377177</td>\n",
       "      <td>0.377177</td>\n",
       "      <td>0.377177</td>\n",
       "      <td>0.377177</td>\n",
       "      <td>0.377177</td>\n",
       "      <td>0.377177</td>\n",
       "      <td>0.377177</td>\n",
       "    </tr>\n",
       "  </tbody>\n",
       "</table>\n",
       "</div>"
      ],
      "text/plain": [
       "n_components        2         3         4         5         6         7   \\\n",
       "n_neighbors                                                                \n",
       "10            0.377177  0.377177  0.377177  0.377177  0.377177  0.377177   \n",
       "15            0.377177  0.377177  0.377177  0.377177  0.377177  0.377177   \n",
       "20            0.377177  0.377177  0.377177  0.377177  0.377177  0.377177   \n",
       "25            0.377177  0.377177  0.377177  0.377177  0.377177  0.377177   \n",
       "30            0.377177  0.377177  0.377177  0.377177  0.377177  0.377177   \n",
       "\n",
       "n_components        8         9         10  \n",
       "n_neighbors                                 \n",
       "10            0.377177  0.377177  0.377177  \n",
       "15            0.377177  0.377177  0.377177  \n",
       "20            0.377177  0.377177  0.377177  \n",
       "25            0.377177  0.377177  0.377177  \n",
       "30            0.377177  0.377177  0.377177  "
      ]
     },
     "metadata": {},
     "output_type": "display_data"
    }
   ],
   "source": [
    "def grid_search_isomap(data_raw, data_per90, data_custom, n_neighbors_list, n_components_list):\n",
    "    results_raw = []\n",
    "    results_per90 = []\n",
    "    results_custom = []\n",
    "    results_stability = []\n",
    "    \n",
    "\n",
    "    for n_neighbors in n_neighbors_list:\n",
    "        for n_components in n_components_list:\n",
    "            iso_raw = Isomap(n_neighbors=n_neighbors, n_components=n_components)\n",
    "            iso_per90 = Isomap(n_neighbors=n_neighbors, n_components=n_components)\n",
    "            iso_custom = Isomap(n_neighbors=n_neighbors, n_components=n_components)\n",
    "            data_iso_raw = iso_raw.fit_transform(data_raw)\n",
    "            data_iso_per90 = iso_per90.fit_transform(data_per90)\n",
    "            data_iso_custom = iso_custom.fit_transform(data_custom)\n",
    "            kernel_raw, shape_raw, corr_raw, var_ratio_raw, trust_raw, cont_raw, mrre_raw = extractMetrics(iso_raw, data_raw, data_iso_raw)\n",
    "            kernel_per90, shape_per90, corr_per90, var_ratio_per90, trust_per90, cont_per90, mrre_per90 = extractMetrics(iso_per90, data_per90, data_iso_per90)\n",
    "            kernel_custom, shape_custom, corr_custom, var_ratio_custom, trust_custom, cont_custom, mrre_custom = extractMetrics(iso_custom, data_custom, data_iso_custom)\n",
    "            \n",
    "            results_raw.append({\n",
    "                \"n_neighbors\": n_neighbors,\n",
    "                \"n_components\": n_components,\n",
    "                \"dist_corr\": corr_raw,\n",
    "                \"trustworthiness\": trust_raw,\n",
    "                \"continuity\": cont_raw,\n",
    "                \"MRRE\": mrre_raw\n",
    "            })\n",
    "            results_per90.append({\n",
    "                \"n_neighbors\": n_neighbors,\n",
    "                \"n_components\": n_components,\n",
    "                \"dist_corr\": corr_per90,\n",
    "                \"trustworthiness\": trust_per90,\n",
    "                \"continuity\": cont_per90,\n",
    "                \"MRRE\": mrre_per90\n",
    "            })\n",
    "            results_custom.append({\n",
    "                \"n_neighbors\": n_neighbors,\n",
    "                \"n_components\": n_components,\n",
    "                \"dist_corr\": corr_custom,\n",
    "                \"trustworthiness\": trust_custom,\n",
    "                \"continuity\": cont_custom,\n",
    "                \"MRRE\": mrre_custom\n",
    "            })\n",
    "\n",
    "            results_stability.append({\n",
    "                \"n_neighbors\": n_neighbors,\n",
    "                \"n_components\": n_components,\n",
    "                \"neighbours_stability\" : compare_neighbors(kernel_raw, kernel_per90)\n",
    "             })\n",
    "    \n",
    "    df_raw = pd.DataFrame(results_raw)\n",
    "    df_per90 = pd.DataFrame(results_per90)\n",
    "    df_custom = pd.DataFrame(results_custom)\n",
    "    df_stability = pd.DataFrame(results_stability)\n",
    "    return df_raw, df_per90, df_custom, df_stability\n",
    "\n",
    "neighbors_grid = [10, 15, 20, 25, 30]\n",
    "components_grid = [2, 3, 4, 5, 6, 7, 8, 9, 10]\n",
    "\n",
    "# --- Grid search sur les datasets ---\n",
    "results_raw, results_per90, results_custom, results_stability = grid_search_isomap(X_raw, X_per90, X_custom, neighbors_grid, components_grid)\n",
    "\n",
    "# --- Affichage des résultats ---\n",
    "def print_metric_pivot(df, metric_name, title):\n",
    "    print(f\"\\n{title} — {metric_name}:\")\n",
    "    display(df.pivot(index=\"n_neighbors\", columns=\"n_components\", values=metric_name))\n",
    "\n",
    "print(\"=== Raw data ===\")\n",
    "for metric in [\"dist_corr\", \"trustworthiness\", \"continuity\", \"MRRE\"]:\n",
    "    print_metric_pivot(results_raw, metric, \"Raw data\")\n",
    "\n",
    "print(\"\\n=== Per90 data ===\")\n",
    "for metric in [\"dist_corr\", \"trustworthiness\", \"continuity\", \"MRRE\"]:\n",
    "    print_metric_pivot(results_per90, metric, \"Per90 data\")\n",
    "\n",
    "print(\"\\n=== Custom data ===\")\n",
    "for metric in [\"dist_corr\", \"trustworthiness\", \"continuity\", \"MRRE\"]:\n",
    "    print_metric_pivot(results_custom, metric, \"Custom data\")\n",
    "\n",
    "print(\"\\n=== Neighbour Stability between raw & per90 ===\")\n",
    "print_metric_pivot(results_stability, \"neighbours_stability\", \"Neighbour stability\")"
   ]
  },
  {
   "cell_type": "markdown",
   "id": "3ace801d-344c-49b2-88a6-0f2a056ad1ac",
   "metadata": {},
   "source": [
    "## ISOMap computation of Optimal model"
   ]
  },
  {
   "cell_type": "code",
   "execution_count": 9,
   "id": "ea792588-a0eb-4425-aae6-a77e0bedd894",
   "metadata": {},
   "outputs": [],
   "source": [
    "def run_isomap(X, n_components, n_neighbors):\n",
    "    iso = Isomap(n_neighbors=n_neighbors, n_components=n_components)\n",
    "    X_iso = iso.fit_transform(X)\n",
    "        \n",
    "    return X_iso, iso\n",
    "\n",
    "X_iso_raw, iso_raw = run_isomap(X_raw, n_components=5, n_neighbors=20)\n",
    "X_iso_per90, iso_per90 = run_isomap(X_per90, n_components=6, n_neighbors=20)\n",
    "X_iso_custom, iso_custom = run_isomap(X_custom, n_components=6, n_neighbors=25)"
   ]
  },
  {
   "cell_type": "markdown",
   "id": "1d21e5af-7fec-47d6-a3df-304273f9b380",
   "metadata": {},
   "source": [
    "## ISOMap dimension reduction export in csv"
   ]
  },
  {
   "cell_type": "code",
   "execution_count": 10,
   "id": "57a7c8b9-5714-4bc1-b73b-bf17b4980c12",
   "metadata": {},
   "outputs": [
    {
     "name": "stdout",
     "output_type": "stream",
     "text": [
      "✅ Exported ../../reduced_data/joueurs_ligue1_ISOMap_raw.csv (333 rows, 8 columns)\n",
      "✅ Exported ../../reduced_data/joueurs_ligue1_ISOMap_per90.csv (333 rows, 9 columns)\n",
      "✅ Exported ../../reduced_data/joueurs_ligue1_ISOMap_custom.csv (356 rows, 9 columns)\n"
     ]
    }
   ],
   "source": [
    "def export_isomap(X_iso, data, prefix):\n",
    "    player_names = data['player_name']\n",
    "    teams = data['equipe']\n",
    "    positions = data['positions']\n",
    "\n",
    "    iso_df = pd.DataFrame(X_iso, columns=[f'isomap_{i+1}' for i in range(X_iso.shape[1])])\n",
    "    \n",
    "    iso_df['player_name'] = player_names\n",
    "    iso_df['equipe'] = teams\n",
    "    iso_df['positions'] = positions\n",
    "    \n",
    "    filename = f\"../../reduced_data/joueurs_ligue1_ISOMap_{prefix}.csv\"\n",
    "    iso_df.to_csv(filename, index=False, encoding=\"utf-8\")\n",
    "    print(f\"✅ Exported {filename} ({iso_df.shape[0]} rows, {iso_df.shape[1]} columns)\")\n",
    "\n",
    "export_isomap(X_iso_raw, data_raw, prefix='raw')\n",
    "export_isomap(X_iso_per90, data_per90, prefix='per90')\n",
    "export_isomap(X_iso_custom, data_custom, prefix='custom')"
   ]
  },
  {
   "cell_type": "markdown",
   "id": "024b6f14-14bc-4ce3-b4ba-9b25db45ea85",
   "metadata": {},
   "source": [
    "### Results display"
   ]
  },
  {
   "cell_type": "code",
   "execution_count": 40,
   "id": "6ab60393-b6f7-4c7e-873f-e35d9131223e",
   "metadata": {},
   "outputs": [
    {
     "data": {
      "application/vnd.plotly.v1+json": {
       "config": {
        "plotlyServerURL": "https://plot.ly"
       },
       "data": [
        {
         "hovertemplate": "<b>%{hovertext}</b><br><br>color=#00ff00<br>Isomap_1=%{x}<br>Isomap_2=%{y}<extra></extra>",
         "hovertext": [
          "Jordan Lefort",
          "Gautier Lloris",
          "Bafodé Diakité",
          "Moussa Niakhate",
          "Guela Doué",
          "Alexsandro Ribeiro",
          "Kenny Lala",
          "Florent Hanin",
          "Jubal",
          "Léo Pétrot",
          "Charlie Cresswell",
          "Facundo Medina",
          "Sergio Akieme",
          "Mark McKenzie",
          "Clément Akpa",
          "Michael Amir Murillo",
          "Brendan Chardonnet",
          "Thilo Kehrer",
          "Clinton Mata",
          "Mamadou Sarr",
          "Etienne Youte Kinkoue",
          "Mickael Nade",
          "Gideon Mensah",
          "Leonardo Balerdi",
          "Moïse Bombito",
          "Cédric Kipré",
          "Kelvin Amian",
          "Gabriel Suazo",
          "Modibo Sagnan",
          "Willian Pacho",
          "Dennis Appiah",
          "Ki-Jana Hoever",
          "Jonathan Gradit",
          "Djibril Sidibé",
          "Wilfried Singo",
          "Achraf Hakimi",
          "Vanderson",
          "Carlens Arcus",
          "Nicolas Pallois",
          "Dylan Batubinsika",
          "Lucas Beraldo",
          "Ainsley Maitland-Niles",
          "Aurélio Buta",
          "Dante",
          "Sinaly Diomande",
          "Youssouf Ndayishimiye",
          "Caio Henrique Oliveira Silva",
          "Thomas Meunier",
          "Nicolás Tagliafico",
          "Enzo Tchato",
          "Becir Omeragic",
          "Gabriel Gudmundsson",
          "Aïssa Mandi",
          "Marquinhos",
          "Abdoulaye Niakhate Ndiaye",
          "Joseph Okumu",
          "Hans Hateboer",
          "Massadio Haïdara",
          "Nuno Mendes",
          "Gabriel Osho",
          "Quentin Merlin",
          "Duje Ćaleta-Car",
          "Nathan Zeze",
          "Abdoulaye Bamba",
          "Christian Mawissa",
          "Christopher Wooh",
          "Derek Cornelius",
          "Przemysław Frankowski",
          "Malang Sarr",
          "Julien Le Cardinal",
          "Emmanuel Biumla",
          "Emmanuel Agbadou",
          "Arouna Sangante",
          "Lilian Brassier",
          "Falaye Sacko",
          "Leo Skiri Østigård",
          "Issiaga Sylla",
          "Timothee Pembele",
          "Abner",
          "Kevin Danso",
          "Yunis Abdelhamid",
          "Mohammed Salisu",
          "Saidou Sow",
          "Théo Sainte-Luce",
          "Paul Joly",
          "Abdukodir Khusanov",
          "Anthony Rouault",
          "Sael Kumbedi",
          "Marcus Coco",
          "Abakar Sylla",
          "Yael Mouanga",
          "Ulisses Garcia",
          "Jérémy Jacquet",
          "Ismaily",
          "Hiroki Sekine",
          "Lucas Hernández",
          "Mohamed Abdelmoneim",
          "Antoine Mendy",
          "Alidu Seidu",
          "Yoann Salmier",
          "Yvann Macon",
          "Jordan Amavi",
          "Maxime Bernauer",
          "Boubakar Kouyaté",
          "Lucas Mincarelli",
          "Mikayil Ngor Faye",
          "Abdulai Juma Bah",
          "Pol Lirola",
          "Luck Zogbé",
          "Rasmus Nicolaisen",
          "Nikola Maksimović",
          "Pierre Cornud",
          "Jordan Teze",
          "Andrew Omobamidele",
          "Jean-Kevin Duverne"
         ],
         "legendgroup": "#00ff00",
         "marker": {
          "color": "#636efa",
          "symbol": "circle"
         },
         "mode": "markers",
         "name": "#00ff00",
         "orientation": "v",
         "showlegend": true,
         "type": "scatter",
         "x": {
          "bdata": "VuJlqYdZNUDWurgTuZ8yQAmjRtln5TZAXB1wHmUAM0ApffC03dczQERTkyzHujlApcHm2TPMJkDhVDJTKd8pQOX2nu7nHzBAVgXf+sjQKUBOSYHrLEAzQJvQBfKIpjJALU7x+a7CHkBf0LPhvPAqQLdI9Knd6yxA4ezF6Kn+KkAmBtw06R4tQJ5rMVRhsTJALRhYs805LUAUqvdH4BcxQJU0O89Woi1Aq/a1inhlM0AAz+VrB3EjQIg5PuasFDhAn7FXugYzMUDaz4xc9zAvQFThyuH4tBFAbxUFOPkWIUDApxs+LmkmQHSGGp7UBDRAU3FEXwR+IkBCGiwJEI4dQAP2MetvSSlAndANEmR7I0AmTCLCXpwtQDFA7N8JKyVAttjF69aWJUAysQ8/MnkeQASRHlBtSyhAb8pxhyt4KEBmicWnmegzQI0S5pO9eB5AEu3IIJ15E0AwM+WvjbkrQJQ/Zli3LSdA7I8aA0HYKUBI8sRpDeUaQCRUddyCqSFA6z3EyPESIED+m9MTT04VQFur7XfPnx5A2fRbvCLhEkCxVuyUGfkjQDbzY5YdbzFAPZRQkxtyJUBn7yFyF+MpQO+GR9qyJSBAymibHQWYDUB0W1K7UTMbQE9dNB4QUBRAMMqxdkDC+z910CrWRIQhQHTJDLT7nRlAIq36cIsP6D88Zty3+lQUQHV7hiNNdxxAnp9WcUh1JUAz8Dh2/dgHQBl3o1CPshtAdZ7jAiTHGEDvgwkI/qDqP0CitD2ALh1AJmNOILCcEUCemqqeQRQYQOmpT/5zotM/VhzI4JBaFEAhBuegviT6v2UHDKMYQ/e/viiZ1u325T/HAkgbdQAWQN+PIr1SofA/z5ipXod3EkDpG3Q4RHn/P28Wogr2+QnAGzK9EiOYBEA1BxFGwbDzPyA68ZjO2QRAU7eHz9duAMBY2nDYj/zXv5zCcvb8QQdAg6gXPdaD0T+3t96ldsAMwHkarZodttA/ObxrTj905L/2VaoHmu32v0sRHybWFgZA0eUrhf7b+j85ZKIzWtrevyRcxNQiF9q/EtdJTo2987+loKSjpgP9vyxKWJuXS+u/iitCF+he5L80YLQ0wYoAwHK7BiQkCQXA1BcQnbcvuT/GJ67MUHzVvw0r3425qQTA/JlKXr9PBMCN3aaBIMv0v3xlC88PQgTARQDOD9CpAMA17u7mntAQwPnK9zi2Huy/9IsdiiSqA8A=",
          "dtype": "f8"
         },
         "xaxis": "x",
         "y": {
          "bdata": "57vJer0iDMCsyhqNiaQPwNUrXlFf9AXAlxQFU14K6z+kZKACdSkgQECy9NMdbQ5ADEYoluCiKEBo9cEJeB8kQLLnjV8tGSPAskBH2YO1BkAFX174JOQTwKViGXkORBxATWhO6IGwFEDACAvAF5gUwM7fvqEX5g3AlDJBphadIECrIdAQXO8fwK4b4j8O5++/parPYM+C/D8S4iFaMXkYwPD9qfT+wifAGoP3dP36FsBOe23MLNwiQNl96k+5cRBAg33wmJceG8BxytJM7MESwGPZLmVSJO0/KsPGLIUMKkANCiZ4tBEbwCiQfbOuHwDAOTeNioT6FEDnEivJcqATQIzyWAogSee/OqvC5RFWEEAoz8GSJJqoP8CeX2PsOjNAzVo2l2nRKECFhPc1aR4FQGcaIkFHSyHAh70iRnYHJsCjytpg5RICQKlUCLGYFxpAZzBirCcv9T8otQLVD/AIwOHNJXmroiDAgW9meRhdDsC1IipeSHgnQHv9Mgoc3xpAEk179fjtB0C+b3yS4873P+xooXy0HSHANpMPDiTAEUBOyg9UhqsIwFSoASLHqva/TPhWZeFbI8DF9ZBF9RMbwDaYFia5uNK/Y0OfMg7QCcB0owhhv38qQI9WFzqlMSTA4NMUGLVTFUATcenZVOAkwP4uVnQAPyHA7nmyH6bmI8DfBb/KmsEUwLY1ANBx8ybAjOrfBeBQH8A2JUJ+F2wOQDb4k1bBIyDAu/40TBsgKcAidWdwCzEjwCaYncFEaBbAXKy2jBP0IsCl/bYQLbAawFPV//29PCXAHuoY8zvEH8DOrmkN7bsRwLd4m8OHVRHA/hEYjjHW/r8D6r2uGUEfwA+wPIGcziTAZvSjP3T2G8CMAJwduNokwGclKo/8OBbAaG5ThMiOBsBbOs/gwvIkwJLMc6gq+SPAuq/zW75iEsAI9Wlr8XobwIn0/gfKLCfA9lzarnm9IsCYVb4QpXoQwMPUAe3j5x3AkJ0FSescBsC4/cLoZZ8awDFhn/lO6B7AFJsyIY8+JMCPpzKwKxUZwJ9Exb7B5xfAf/dhlZ3DI8AeBRotgNwYwPg5tYtPShzALecH6ou0J8CdPWwVkBEnwHfi22DbniDAvA3J7gnJI8AGN4sVYR0kwOIWF8x0uCTAY1wP9UsTIcD93yQn60ApwGCwEaSWdybAiOesdzYEJcCscvjAHMEhwKmggwjy5yrA5WhAPZSoIMA=",
          "dtype": "f8"
         },
         "yaxis": "y"
        },
        {
         "hovertemplate": "<b>%{hovertext}</b><br><br>color=#0000ff<br>Isomap_1=%{x}<br>Isomap_2=%{y}<extra></extra>",
         "hovertext": [
          "Andrey Santos",
          "Valentin Atangana Edoa",
          "Cristian Cásseres Jr.",
          "Benjamin André",
          "Pierre Højbjerg",
          "Adrien Thomasson",
          "Pierre Ekwah Elimby",
          "Adrien Rabiot",
          "Hicham Boudaoui",
          "Vincent Sierro",
          "Téji Savanier",
          "Pedro Chirivella",
          "Elisha Owusu",
          "Corentin Tolisso",
          "Abdoulaye Touré",
          "Hugo Magnetti",
          "Douglas",
          "Andy Diouf",
          "Denis Zakaria",
          "Hamed Junior Traorè",
          "Azor Matusiwa",
          "Lamine Camara",
          "Johann Lepenant",
          "Vitinha",
          "Nemanja Matić",
          "Jean-Eudes Aholou",
          "Fabián Ruiz Peña",
          "Joris Chotard",
          "Haris Belkebla",
          "Jordan Ferri",
          "Benjamin Bouchouari",
          "Marshall Munetsi",
          "Rabby Nzingoula",
          "Neil El Aynaoui",
          "Jordan Veretout",
          "Pierre Lees-Melou",
          "Yassin Belkhdim",
          "Kévin Danois",
          "Amadou Koné",
          "André Gomes",
          "Florian Tardieu",
          "Tanner Tessmann",
          "Ngal'Ayel Mukau",
          "Jordan James",
          "Ayyoub Bouaddi",
          "Tanguy Ndombele",
          "Djaoui Cissé",
          "Rassoul Ndiaye",
          "Han-Noah Massengo",
          "Louis Mouton",
          "Aimen Moueffek",
          "Soungoutou Magassa",
          "Oussama Targhalline",
          "Junior Mwanga",
          "Baptiste Santamaria",
          "Mathis Amougou",
          "Seko Fofana",
          "Senny Mayulu",
          "Teddy Teuma",
          "Angel Gomes",
          "Assane Dioussé",
          "Glen Kamara",
          "Ismaël Bennacer",
          "Nampalys Mendy",
          "Mahamadou Diawara",
          "Maxence Caqueret",
          "Daler Kuzyaev",
          "John Joe",
          "Amine Harit"
         ],
         "legendgroup": "#0000ff",
         "marker": {
          "color": "#EF553B",
          "symbol": "circle"
         },
         "mode": "markers",
         "name": "#0000ff",
         "orientation": "v",
         "showlegend": true,
         "type": "scatter",
         "x": {
          "bdata": "J+xwRwc+KkDPfQ8K62kSQOtFqKQrjyRAmkcpioy3LUC74bu72Ao1QL7zzWfwTSNAh7yay1utKkAQ1kYMwsn+P3wXbd2vrxdABHGm7yKtIEBxe2iT1B8RQOm1ynbPJihASsep1oujGUCsh19uVmMmQMHPqI1mbBFAIO1kaEwBGEB5MoHpmCEiQHh8l9N2kwLAi9xQeqarF0A+WKsQzuQiwGSFh2Qjoh9AIiCsoIfRGEBfMuAwfdT0Pz+Vm1RkITFAoLkn0/M0JkAyPcAU2MEAQGuvOpqhgCFAOcNUdpRPF0B1gUsg8NIVQPHMzmTUsCNAOT60xNXuDkA2J28PEK8XwBm5lIlr++0/HHalEqKq9D9GO1QmwYoMQAWYGmfqohdAbQWj6eef1D+kGCzgEUycv+TLIEtQqwNAKzeE/V2kCUBvnuSXaZ4OQBm0OaD5lvo/1utzEg7L1r8jNJaABLn1vyWt8YviIby/Ae2jr2HUEsDKg5DdV7ryP+qRJ8jQsQPArBpTwtNWCcA586AScqzrv69QHbFNMg3AX2Cm72+T5j/N8aKH/n31v2k6YrkM3wPAtjGJIORJ478uzE/hL6IFwPzaGZikLwnAhoPQr5xvFMCPW0vwMwgAwEEyLn80OhjA1wnliNaBAMBRQGXKYe0NwHpzGWG7Qsu/tq/iC7bSDMCesHg10fAHwEDZ4khKtQvATCr1WSY9DMDIczeph8IJwGceSGhKxBvA",
          "dtype": "f8"
         },
         "xaxis": "x",
         "y": {
          "bdata": "DeLqCxs1KUA+oIWgPSEYQBVfBrZ95StACKeUBkgQK0AlUiYuitArQOm5oa9mwTNAWSOt3Zu1EECOtLmhoGYxQGxOKk8RzSZAGeU5jvx3IECVgiaKLP81QD5Q6NzLGg9ANcmywKdDA8BkLT7BIaIuQJkUmLLPpBdAr0vs/2op3D/YM+O8OycTQJCmTLsURidA9YT7qr7VF0A66IDPv3koQMZsq1myShBA+e3PkET3LkDax1zFwHUAQANc7WnE7ydABdVdb17lBECeiuuDOLrOP3CG13TQOSVAkeSTlgEQ+L/QFFYYN1wFwNz1DbaS89O/gzGRHY/TDkCCnri3c87/vy5GgZ4SA9U/lwW/z8wuCEBiH843EZ+tv+ZdxAgOxQtAPPrJF6AIEMC1QKIXRVLyP/ypl90nvw3AYaWN9LWg4r8NuXQTUTrgv2M6LJE5Hg7A+hyPKHjFBcBsV4wTDgDxv+Hs4tCWXhLAQE02gFu2BMBn3Qi6lmsDwPYk+Bj3RxTAXhQkrA68IMA4NUNsaPT4v6Kc/32/Fw7AtwsVc/c+B8BxD8khB7oXwKqTR1Fl+hjAMUgm/URZGMA1Ef1cH1sdwKsvuR0faQrAOXuiDYdE/r9MFS2dJKEAwJ2ASDk+HRTAAjwERlSTH8BtfM6JhxQgwMIsJUHfExLABIs25UyDI8Ana6jSaOYfwOxFkeWknRrAXMspD4xZIcC0k5RsGsggwGGPaMdQbhnA",
          "dtype": "f8"
         },
         "yaxis": "y"
        },
        {
         "hovertemplate": "<b>%{hovertext}</b><br><br>color=#ff00ff<br>Isomap_1=%{x}<br>Isomap_2=%{y}<extra></extra>",
         "hovertext": [
          "Himad Abdelli",
          "Mason Greenwood",
          "Zuriko Davitashvili",
          "Gaëtan Perrin",
          "Junya Ito",
          "Mahdi Camara",
          "Keito Nakamura",
          "Moses Simon",
          "Arnaud Kalimuendo",
          "Evann Guessand",
          "Maghnes Akliouche",
          "Habib Diarra",
          "Yann Gboho",
          "Lassine Sinayoko",
          "Ludovic Blas",
          "Takumi Minamino",
          "Sebastian Nanasi",
          "Yassine Kechta",
          "Rayan Cherki",
          "Josué Casimir",
          "Issa Soumaré",
          "Zakaria Aboukhlal",
          "Breel Embolo",
          "Florian Sotoca",
          "Félix Lemaréchal",
          "Hákon Arnar Haraldsson",
          "Eliesse Ben Seghir",
          "Désiré Doué",
          "Joshua King",
          "Lee Kang-in",
          "Mohamed Ali Cho",
          "Mathias Pereira Lage",
          "Frank Magri",
          "Tanguy Coulibaly",
          "Anass Zaroury",
          "Kamory Doumbia",
          "Sorba Thomas",
          "Osame Sahraoui",
          "Abdallah Sima",
          "Shavy Babicka",
          "Aleksandr Golovin",
          "Wahbi Khazri",
          "Musa Al-Taamari",
          "Badredine Bouanani",
          "Matias Fernandez-Pardo",
          "Sofiane Diop",
          "Jeremie Boga",
          "Ernest Nuamah",
          "Amine Gouiri",
          "Angelo Fulgini",
          "Khalil Fayad",
          "Rémy Cabella",
          "Edon Zhegrova",
          "Ado Onaiwu",
          "Thiago Almada",
          "Antoine Joujou",
          "Romain Faivre",
          "Mamadou Diakhon",
          "Zinedine Ferhat",
          "Albert Grønbaek",
          "Jonathan Rowe",
          "Sekou Mara",
          "Saïd Benrahma",
          "Augustine Boakye",
          "Mathieu Cafaro",
          "Emmanuel Sabbi",
          "Rémy Labeau Lascary",
          "Yaya Kader Fofana",
          "Marco Asensio",
          "Ben Old",
          "Tino Kadewere"
         ],
         "legendgroup": "#ff00ff",
         "marker": {
          "color": "#00cc96",
          "symbol": "circle"
         },
         "mode": "markers",
         "name": "#ff00ff",
         "orientation": "v",
         "showlegend": true,
         "type": "scatter",
         "x": {
          "bdata": "MMT5zvxyDEA9TD9IA30uwJkVutEydzDA5cXcPG+DG8AlIQO190T+v/4SUMY5+AFAfZi0fa5wI8AoVE+FlU0wwCpbjy6DXDDAVJncZFVXJ8AolocQ6dkYwNbENA0YdQTA93KhjZbaJ8Cwc8WTGtQtwAy55Cn7ESHAexbo1LsnIMApFh39kKYbwL61+qfkQew/KdWASZJxF8BoUA8rk/klwBmzrePhjCvANBm15UV3McC/yLDAYFwxwBnF5kRzsfm/k2jmTWgGE8AZ8rcSNwUZwDd8NHU/1SHAPxjc35x+JMA6WsjfBx4swBD369pqofe/RwYIkkjuJsCdSWm6U0MiwDqzXsnhIivAAlMJKak6IcARwS79h08SwMiD7MpChfy/KOh9NKH8EsBtF6O0f8QgwPZ5UhJQWyrAjMsFrXtsI8CFzSqWEUUDwHL+4OYeoR7ABkk+3IMWKsBlLRkn4CAlwHIupUR77SPAuUY1gIezIcB11Bqp1nMkwJiRyYblnRzAWq2HbCyXLsDh3at4QFkVwGJc8IMyj9+/KE3KWgO9EsBW75d8IZAjwMgM9Hxx2SHA1LeaYa70DcBsQKLpk/ohwJnnBQ74dSDAvTee7bRcJcBt5EE/im0bwC4lkgwIGx/A5/fJxr60KMDQyJHIjYMgwMnbzmrp4h/AbmqpX9IHH8B5JRAgDn0WwIx7tGBKcSHAjkfVJ7hsIMAQ33QYtoQYwGKni1zx1yHABikiZmxXG8AOKYSVOAcawA==",
          "dtype": "f8"
         },
         "xaxis": "x",
         "y": {
          "bdata": "KejSWPXPMUCVOS4qXns7QEkmFWPWHTVAqWnXu8BIN0BcQKND/j82QHC2ypAybChAz6o8TbEdJEAUpCWA+NU2QOFmrM6eEAlABOifP+GBMUCImekoDF45QIOGMG3eLSNABfKEJxQ9KkBmmo/ybrUqQAMvyz9OvzVA8QuDqcEgIUAfCRUdSRUjQJz6K8zj2RVA5n1BeEhWOUAi+Ea5ZpIcQGeR5wynlhNAFg9FFOLhAEBYhNOerkAQQIFH1Sm/fRBAapq8HMJPDUBepdXYbrMfQG+Qh80nOixA//cyIFxINkCP1OV1Pmfovw4cgPG6pilAer9UrHlGG0CfH0KKKYoMQD+TWp6P+ArAmb/HOYzOAsD5G0ENs6kPQP4dt0b0v8e/si6z2AvL+T/VsBvYGh8WQA2A/p0y9/i/YwzxhsdMAcBbAC39wakOQJoza9ZX5QLAUNYjxTEXz7+Pb2/9DWYDQKA6n7TVvgbACUTFS6Wz+T8PneZlqyXePwu0sLdq2OC/I9f04mddAcCDkNdQrKIGQMCpiqO1yRjAocIJ9F74CECj5xZ7C5O+vx6AoHyMcRPAqOmf7w6Q7D8uDK8ew8EBwB0EO/xDMgHAvWeDuR+uAsAU6/92pdsWwDvfvZfv/QnAEHQLYfsQ178D7kHx7wMWwP1/oB8CuwfAaZgEvpBSE8AIIoR31xEZwEK1ZY4LAxvA7koRMfqDFsAH8rBUFNcTwJPOy4SOmRjAK2HckWDIHMA7Z9t07F4gwA==",
          "dtype": "f8"
         },
         "yaxis": "y"
        },
        {
         "hovertemplate": "<b>%{hovertext}</b><br><br>color=#ff0000<br>Isomap_1=%{x}<br>Isomap_2=%{y}<extra></extra>",
         "hovertext": [
          "Matthis Abline",
          "Jonathan David",
          "Ludovic Ajorque",
          "Emanuel Emegha",
          "Bradley Barcola",
          "Alexandre Lacazette",
          "Farid El Melali",
          "Lucas Stassin",
          "Gaëtan Laborde",
          "Jim Allevinah",
          "Ousmane Dembélé",
          "Esteban Lepaul",
          "Oumar Diakité",
          "Malick Fofana",
          "M'Bala Nzola",
          "André Ayew",
          "Georges Mikautadze",
          "Romain Del Castillo",
          "Mostafa Mohamed",
          "Mika Biereth",
          "Arnaud Nordin",
          "Mama Samba Baldé",
          "Akor Adams",
          "Gonçalo Ramos",
          "Irvin Cardona",
          "Neal Maupay",
          "Ibrahima Niane",
          "Theo Bair",
          "Khvicha Kvaratskhelia",
          "Wesley Saïd",
          "Goduine Koyalipou",
          "Koka",
          "Ibrahim Sissoko",
          "George Ilenikhena",
          "Chuba Akpom",
          "Folarin Balogun",
          "Andy Delort",
          "Florian Ayé",
          "Elye Wahi",
          "Mohamed Meité",
          "Bamba Dieng"
         ],
         "legendgroup": "#ff0000",
         "marker": {
          "color": "#ab63fa",
          "symbol": "circle"
         },
         "mode": "markers",
         "name": "#ff0000",
         "orientation": "v",
         "showlegend": true,
         "type": "scatter",
         "x": {
          "bdata": "HrmEBu8tMsAOygj1/0YtwE+ZkWbYcDDAvxJB+aAyM8AX8WQaYE0qwKVGE/bkyTPAMErd3ExQLsAoFYZzoSQrwJKuDBvwIy/AOQUgP1wVKMApCgR/bdgpwPtkp0xgvSnA7LmI4ur1JMBlM6+Wo74owJGLPJZa3zDAo/4tnOyBIsDSdsFiYdIxwPGG6zBL+RLA9dT3glXRJcC68xUc6BEvwOPd9ZqqCiDA5WOiqMDkKsAy4fX4mkUnwJ9/uOoAjS/AI2PDVIvLIcB6ILLQSSogwKn/9wTQASzAZ/LoOUjcJ8C0HV2F1I8nwKz3HABY/B7Arr9f8L2XKMCaan0WS2UgwFXWnFbdmifApuJnTuyHJ8C47rwf1U8nwBUcOZP5aCfAOLrZtWCxHsB3rmoFaZsgwCKa0jNV4SXAmosyHBFXHsDYnYgQxeAhwA==",
          "dtype": "f8"
         },
         "xaxis": "x",
         "y": {
          "bdata": "N1ek4L5ZHUD67xnM2ZwdQGgfmNKOhui/cdLt7HlHCsDOQnfmb04zQKVql15wCuc/XAmwp6xsIUDQXLUPrzUFQDOSCPI1QO+//MkKiSWJB0DViB4d2qE1QIGgwBrXNQvAQB7LUwB387/lVioTT64cQMA2baV5AAvA/6A8zYabF8D8ocIu2y/3PwDXjUIHyBRAHyC8nxwDDsBtXhYNPBYIwKOqUJN+LuS/B3Eco73Y87/Ywa4TzZgXwG/m+iNMzhPAzU8FpDzJCcASSAVbqKocwISJPP80qhPAWccZNU3tHsBrfiGJ+ZcGQCZ6n0hHfRbAszXgZ667GsAcO0WDTYEiwAV7ysW4BBjAuK8/l100H8DBchssF3UgwKKtw0Uz2RvABktEbku5I8Df775LGrciwAelCQ2aMSLAXeQkImrdIsBR2vU1mUAjwA==",
          "dtype": "f8"
         },
         "yaxis": "y"
        },
        {
         "hovertemplate": "<b>%{hovertext}</b><br><br>color=#00ffff<br>Isomap_1=%{x}<br>Isomap_2=%{y}<extra></extra>",
         "hovertext": [
          "Adrien Truffert",
          "Aron Dønnum",
          "Ismaël Doukouré",
          "Jean-Charles Castelletto",
          "Diego Moreira",
          "Dilane Bakwa",
          "Lorenz Assignon",
          "Jonathan Clauss",
          "Nicolas Cozza",
          "Warren Zaïre-Emery",
          "Geoffrey Kondogbia",
          "Melvin Bard",
          "João Neves",
          "Deiver Machado",
          "Pablo Rosario",
          "Valentin Rongier",
          "Ali Abdi",
          "Nhoa Sangui",
          "Valentín Barco",
          "Mory Gbane",
          "Ruben Aguilar",
          "Jaydee Canvot",
          "Edimilson Fernandes",
          "Warren Kamanzi",
          "Louis Leroux",
          "Tom Louchet",
          "Rayan Raveloson",
          "Jhoanner Chávez",
          "Fodé Ballo-Touré"
         ],
         "legendgroup": "#00ffff",
         "marker": {
          "color": "#FFA15A",
          "symbol": "circle"
         },
         "mode": "markers",
         "name": "#00ffff",
         "orientation": "v",
         "showlegend": true,
         "type": "scatter",
         "x": {
          "bdata": "KX5KgM8XHUAlqxcgPicXQOerGm8BQzNAQiz1LUZ2L0DjxVdA/bzQP/vWhIzMnxzA4Wsyyl0wGkC8Y/QSC3MAQJRqcb6+3g1ATrAgNxZfIkBy/ZASVRsuQJpiXht9viBATDT9BzsuJkCGbUp2Tln5P+A81B2m3gZAW1sBQOHYI0A79g0VsNoAwALMC+CuVPa/x75L1SkvAUBBFWGfhWX2P0aBsX9mOwJA5GDTUst9sr93F4iqJArlP+bjkO9IWgrAphrq5zLzE8Cf9bEvlisBwACpON9nfgnA5qExaz/oD8BkvjkozMQEwA==",
          "dtype": "f8"
         },
         "xaxis": "x",
         "y": {
          "bdata": "KRYFLklwLUCAgMnH5PUyQB0ZJrm51cG/I4amW3QXH8BqYN0A/1E1QHBGeCMXUDZAmV2tcvasK0DbQwl2qH8vQGHjWyZc9vO/VYuSx68tIEDv5SzHo2f1Pwk5FD2hbxZAvEAypvM9LEBthiHjcaD3P7sr70XIoAvAiA96JKrg9z8QfA2KCFYEQPH+C9He5RLAZGYJ2+juCMDHEu0F/KMgwNq2ptb4kM4/ZvQy86K/GsBFxkCaLh8cwFNB6ZizuQ7AHtRomWSjGMDR4qvhlKASwBghwFQWSR7A5Krq6UG+H8A1eXOp+LskwA==",
          "dtype": "f8"
         },
         "yaxis": "y"
        },
        {
         "hovertemplate": "<b>%{hovertext}</b><br><br>color=#ffff00<br>Isomap_1=%{x}<br>Isomap_2=%{y}<extra></extra>",
         "hovertext": [
          "Luis Henrique",
          "Loïc Nego",
          "Lilian Raolisoa",
          "Christopher Operi",
          "Mitchel Bakker",
          "Yanis Zouaoui",
          "Jacques Ekomie",
          "Krépin Diatta"
         ],
         "legendgroup": "#ffff00",
         "marker": {
          "color": "#19d3f3",
          "symbol": "circle"
         },
         "mode": "markers",
         "name": "#ffff00",
         "orientation": "v",
         "showlegend": true,
         "type": "scatter",
         "x": {
          "bdata": "ElCyWwwnDMD+/sOn/mUiQER1oGuYqQzABH+z8+YjAcBay5LyFEQRwI7q1bAEQA/AbBI4+rDvB8A3suhLzmIHwA==",
          "dtype": "f8"
         },
         "xaxis": "x",
         "y": {
          "bdata": "73sPYVJJL0D9AkDjewgTQOZ0gevDCQPAdlSSuqVi9L+HcnXpaSDdP5VtKGRif/+/UW3u8YjmH8AUieE6gBYgwA==",
          "dtype": "f8"
         },
         "yaxis": "y"
        }
       ],
       "layout": {
        "height": 900,
        "legend": {
         "title": {
          "text": "color"
         },
         "tracegroupgap": 0
        },
        "template": {
         "data": {
          "bar": [
           {
            "error_x": {
             "color": "#2a3f5f"
            },
            "error_y": {
             "color": "#2a3f5f"
            },
            "marker": {
             "line": {
              "color": "#E5ECF6",
              "width": 0.5
             },
             "pattern": {
              "fillmode": "overlay",
              "size": 10,
              "solidity": 0.2
             }
            },
            "type": "bar"
           }
          ],
          "barpolar": [
           {
            "marker": {
             "line": {
              "color": "#E5ECF6",
              "width": 0.5
             },
             "pattern": {
              "fillmode": "overlay",
              "size": 10,
              "solidity": 0.2
             }
            },
            "type": "barpolar"
           }
          ],
          "carpet": [
           {
            "aaxis": {
             "endlinecolor": "#2a3f5f",
             "gridcolor": "white",
             "linecolor": "white",
             "minorgridcolor": "white",
             "startlinecolor": "#2a3f5f"
            },
            "baxis": {
             "endlinecolor": "#2a3f5f",
             "gridcolor": "white",
             "linecolor": "white",
             "minorgridcolor": "white",
             "startlinecolor": "#2a3f5f"
            },
            "type": "carpet"
           }
          ],
          "choropleth": [
           {
            "colorbar": {
             "outlinewidth": 0,
             "ticks": ""
            },
            "type": "choropleth"
           }
          ],
          "contour": [
           {
            "colorbar": {
             "outlinewidth": 0,
             "ticks": ""
            },
            "colorscale": [
             [
              0,
              "#0d0887"
             ],
             [
              0.1111111111111111,
              "#46039f"
             ],
             [
              0.2222222222222222,
              "#7201a8"
             ],
             [
              0.3333333333333333,
              "#9c179e"
             ],
             [
              0.4444444444444444,
              "#bd3786"
             ],
             [
              0.5555555555555556,
              "#d8576b"
             ],
             [
              0.6666666666666666,
              "#ed7953"
             ],
             [
              0.7777777777777778,
              "#fb9f3a"
             ],
             [
              0.8888888888888888,
              "#fdca26"
             ],
             [
              1,
              "#f0f921"
             ]
            ],
            "type": "contour"
           }
          ],
          "contourcarpet": [
           {
            "colorbar": {
             "outlinewidth": 0,
             "ticks": ""
            },
            "type": "contourcarpet"
           }
          ],
          "heatmap": [
           {
            "colorbar": {
             "outlinewidth": 0,
             "ticks": ""
            },
            "colorscale": [
             [
              0,
              "#0d0887"
             ],
             [
              0.1111111111111111,
              "#46039f"
             ],
             [
              0.2222222222222222,
              "#7201a8"
             ],
             [
              0.3333333333333333,
              "#9c179e"
             ],
             [
              0.4444444444444444,
              "#bd3786"
             ],
             [
              0.5555555555555556,
              "#d8576b"
             ],
             [
              0.6666666666666666,
              "#ed7953"
             ],
             [
              0.7777777777777778,
              "#fb9f3a"
             ],
             [
              0.8888888888888888,
              "#fdca26"
             ],
             [
              1,
              "#f0f921"
             ]
            ],
            "type": "heatmap"
           }
          ],
          "histogram": [
           {
            "marker": {
             "pattern": {
              "fillmode": "overlay",
              "size": 10,
              "solidity": 0.2
             }
            },
            "type": "histogram"
           }
          ],
          "histogram2d": [
           {
            "colorbar": {
             "outlinewidth": 0,
             "ticks": ""
            },
            "colorscale": [
             [
              0,
              "#0d0887"
             ],
             [
              0.1111111111111111,
              "#46039f"
             ],
             [
              0.2222222222222222,
              "#7201a8"
             ],
             [
              0.3333333333333333,
              "#9c179e"
             ],
             [
              0.4444444444444444,
              "#bd3786"
             ],
             [
              0.5555555555555556,
              "#d8576b"
             ],
             [
              0.6666666666666666,
              "#ed7953"
             ],
             [
              0.7777777777777778,
              "#fb9f3a"
             ],
             [
              0.8888888888888888,
              "#fdca26"
             ],
             [
              1,
              "#f0f921"
             ]
            ],
            "type": "histogram2d"
           }
          ],
          "histogram2dcontour": [
           {
            "colorbar": {
             "outlinewidth": 0,
             "ticks": ""
            },
            "colorscale": [
             [
              0,
              "#0d0887"
             ],
             [
              0.1111111111111111,
              "#46039f"
             ],
             [
              0.2222222222222222,
              "#7201a8"
             ],
             [
              0.3333333333333333,
              "#9c179e"
             ],
             [
              0.4444444444444444,
              "#bd3786"
             ],
             [
              0.5555555555555556,
              "#d8576b"
             ],
             [
              0.6666666666666666,
              "#ed7953"
             ],
             [
              0.7777777777777778,
              "#fb9f3a"
             ],
             [
              0.8888888888888888,
              "#fdca26"
             ],
             [
              1,
              "#f0f921"
             ]
            ],
            "type": "histogram2dcontour"
           }
          ],
          "mesh3d": [
           {
            "colorbar": {
             "outlinewidth": 0,
             "ticks": ""
            },
            "type": "mesh3d"
           }
          ],
          "parcoords": [
           {
            "line": {
             "colorbar": {
              "outlinewidth": 0,
              "ticks": ""
             }
            },
            "type": "parcoords"
           }
          ],
          "pie": [
           {
            "automargin": true,
            "type": "pie"
           }
          ],
          "scatter": [
           {
            "fillpattern": {
             "fillmode": "overlay",
             "size": 10,
             "solidity": 0.2
            },
            "type": "scatter"
           }
          ],
          "scatter3d": [
           {
            "line": {
             "colorbar": {
              "outlinewidth": 0,
              "ticks": ""
             }
            },
            "marker": {
             "colorbar": {
              "outlinewidth": 0,
              "ticks": ""
             }
            },
            "type": "scatter3d"
           }
          ],
          "scattercarpet": [
           {
            "marker": {
             "colorbar": {
              "outlinewidth": 0,
              "ticks": ""
             }
            },
            "type": "scattercarpet"
           }
          ],
          "scattergeo": [
           {
            "marker": {
             "colorbar": {
              "outlinewidth": 0,
              "ticks": ""
             }
            },
            "type": "scattergeo"
           }
          ],
          "scattergl": [
           {
            "marker": {
             "colorbar": {
              "outlinewidth": 0,
              "ticks": ""
             }
            },
            "type": "scattergl"
           }
          ],
          "scattermap": [
           {
            "marker": {
             "colorbar": {
              "outlinewidth": 0,
              "ticks": ""
             }
            },
            "type": "scattermap"
           }
          ],
          "scattermapbox": [
           {
            "marker": {
             "colorbar": {
              "outlinewidth": 0,
              "ticks": ""
             }
            },
            "type": "scattermapbox"
           }
          ],
          "scatterpolar": [
           {
            "marker": {
             "colorbar": {
              "outlinewidth": 0,
              "ticks": ""
             }
            },
            "type": "scatterpolar"
           }
          ],
          "scatterpolargl": [
           {
            "marker": {
             "colorbar": {
              "outlinewidth": 0,
              "ticks": ""
             }
            },
            "type": "scatterpolargl"
           }
          ],
          "scatterternary": [
           {
            "marker": {
             "colorbar": {
              "outlinewidth": 0,
              "ticks": ""
             }
            },
            "type": "scatterternary"
           }
          ],
          "surface": [
           {
            "colorbar": {
             "outlinewidth": 0,
             "ticks": ""
            },
            "colorscale": [
             [
              0,
              "#0d0887"
             ],
             [
              0.1111111111111111,
              "#46039f"
             ],
             [
              0.2222222222222222,
              "#7201a8"
             ],
             [
              0.3333333333333333,
              "#9c179e"
             ],
             [
              0.4444444444444444,
              "#bd3786"
             ],
             [
              0.5555555555555556,
              "#d8576b"
             ],
             [
              0.6666666666666666,
              "#ed7953"
             ],
             [
              0.7777777777777778,
              "#fb9f3a"
             ],
             [
              0.8888888888888888,
              "#fdca26"
             ],
             [
              1,
              "#f0f921"
             ]
            ],
            "type": "surface"
           }
          ],
          "table": [
           {
            "cells": {
             "fill": {
              "color": "#EBF0F8"
             },
             "line": {
              "color": "white"
             }
            },
            "header": {
             "fill": {
              "color": "#C8D4E3"
             },
             "line": {
              "color": "white"
             }
            },
            "type": "table"
           }
          ]
         },
         "layout": {
          "annotationdefaults": {
           "arrowcolor": "#2a3f5f",
           "arrowhead": 0,
           "arrowwidth": 1
          },
          "autotypenumbers": "strict",
          "coloraxis": {
           "colorbar": {
            "outlinewidth": 0,
            "ticks": ""
           }
          },
          "colorscale": {
           "diverging": [
            [
             0,
             "#8e0152"
            ],
            [
             0.1,
             "#c51b7d"
            ],
            [
             0.2,
             "#de77ae"
            ],
            [
             0.3,
             "#f1b6da"
            ],
            [
             0.4,
             "#fde0ef"
            ],
            [
             0.5,
             "#f7f7f7"
            ],
            [
             0.6,
             "#e6f5d0"
            ],
            [
             0.7,
             "#b8e186"
            ],
            [
             0.8,
             "#7fbc41"
            ],
            [
             0.9,
             "#4d9221"
            ],
            [
             1,
             "#276419"
            ]
           ],
           "sequential": [
            [
             0,
             "#0d0887"
            ],
            [
             0.1111111111111111,
             "#46039f"
            ],
            [
             0.2222222222222222,
             "#7201a8"
            ],
            [
             0.3333333333333333,
             "#9c179e"
            ],
            [
             0.4444444444444444,
             "#bd3786"
            ],
            [
             0.5555555555555556,
             "#d8576b"
            ],
            [
             0.6666666666666666,
             "#ed7953"
            ],
            [
             0.7777777777777778,
             "#fb9f3a"
            ],
            [
             0.8888888888888888,
             "#fdca26"
            ],
            [
             1,
             "#f0f921"
            ]
           ],
           "sequentialminus": [
            [
             0,
             "#0d0887"
            ],
            [
             0.1111111111111111,
             "#46039f"
            ],
            [
             0.2222222222222222,
             "#7201a8"
            ],
            [
             0.3333333333333333,
             "#9c179e"
            ],
            [
             0.4444444444444444,
             "#bd3786"
            ],
            [
             0.5555555555555556,
             "#d8576b"
            ],
            [
             0.6666666666666666,
             "#ed7953"
            ],
            [
             0.7777777777777778,
             "#fb9f3a"
            ],
            [
             0.8888888888888888,
             "#fdca26"
            ],
            [
             1,
             "#f0f921"
            ]
           ]
          },
          "colorway": [
           "#636efa",
           "#EF553B",
           "#00cc96",
           "#ab63fa",
           "#FFA15A",
           "#19d3f3",
           "#FF6692",
           "#B6E880",
           "#FF97FF",
           "#FECB52"
          ],
          "font": {
           "color": "#2a3f5f"
          },
          "geo": {
           "bgcolor": "white",
           "lakecolor": "white",
           "landcolor": "#E5ECF6",
           "showlakes": true,
           "showland": true,
           "subunitcolor": "white"
          },
          "hoverlabel": {
           "align": "left"
          },
          "hovermode": "closest",
          "mapbox": {
           "style": "light"
          },
          "paper_bgcolor": "white",
          "plot_bgcolor": "#E5ECF6",
          "polar": {
           "angularaxis": {
            "gridcolor": "white",
            "linecolor": "white",
            "ticks": ""
           },
           "bgcolor": "#E5ECF6",
           "radialaxis": {
            "gridcolor": "white",
            "linecolor": "white",
            "ticks": ""
           }
          },
          "scene": {
           "xaxis": {
            "backgroundcolor": "#E5ECF6",
            "gridcolor": "white",
            "gridwidth": 2,
            "linecolor": "white",
            "showbackground": true,
            "ticks": "",
            "zerolinecolor": "white"
           },
           "yaxis": {
            "backgroundcolor": "#E5ECF6",
            "gridcolor": "white",
            "gridwidth": 2,
            "linecolor": "white",
            "showbackground": true,
            "ticks": "",
            "zerolinecolor": "white"
           },
           "zaxis": {
            "backgroundcolor": "#E5ECF6",
            "gridcolor": "white",
            "gridwidth": 2,
            "linecolor": "white",
            "showbackground": true,
            "ticks": "",
            "zerolinecolor": "white"
           }
          },
          "shapedefaults": {
           "line": {
            "color": "#2a3f5f"
           }
          },
          "ternary": {
           "aaxis": {
            "gridcolor": "white",
            "linecolor": "white",
            "ticks": ""
           },
           "baxis": {
            "gridcolor": "white",
            "linecolor": "white",
            "ticks": ""
           },
           "bgcolor": "#E5ECF6",
           "caxis": {
            "gridcolor": "white",
            "linecolor": "white",
            "ticks": ""
           }
          },
          "title": {
           "x": 0.05
          },
          "xaxis": {
           "automargin": true,
           "gridcolor": "white",
           "linecolor": "white",
           "ticks": "",
           "title": {
            "standoff": 15
           },
           "zerolinecolor": "white",
           "zerolinewidth": 2
          },
          "yaxis": {
           "automargin": true,
           "gridcolor": "white",
           "linecolor": "white",
           "ticks": "",
           "title": {
            "standoff": 15
           },
           "zerolinecolor": "white",
           "zerolinewidth": 2
          }
         }
        },
        "title": {
         "text": "Isomap – Raw data"
        },
        "width": 1100,
        "xaxis": {
         "anchor": "y",
         "domain": [
          0,
          1
         ],
         "title": {
          "text": "Isomap_1"
         }
        },
        "yaxis": {
         "anchor": "x",
         "domain": [
          0,
          1
         ],
         "title": {
          "text": "Isomap_2"
         }
        }
       }
      },
      "image/png": "[encoded data removed]"
     },
     "metadata": {},
     "output_type": "display_data"
    },
    {
     "data": {
      "application/vnd.plotly.v1+json": {
       "config": {
        "plotlyServerURL": "https://plot.ly"
       },
       "data": [
        {
         "hovertemplate": "<b>%{hovertext}</b><br><br>color=#00ff00<br>Isomap_1=%{x}<br>Isomap_2=%{y}<extra></extra>",
         "hovertext": [
          "Jordan Lefort",
          "Gautier Lloris",
          "Bafodé Diakité",
          "Moussa Niakhate",
          "Guela Doué",
          "Alexsandro Ribeiro",
          "Kenny Lala",
          "Florent Hanin",
          "Jubal",
          "Léo Pétrot",
          "Charlie Cresswell",
          "Facundo Medina",
          "Sergio Akieme",
          "Mark McKenzie",
          "Clément Akpa",
          "Michael Amir Murillo",
          "Brendan Chardonnet",
          "Thilo Kehrer",
          "Clinton Mata",
          "Mamadou Sarr",
          "Etienne Youte Kinkoue",
          "Mickael Nade",
          "Gideon Mensah",
          "Leonardo Balerdi",
          "Moïse Bombito",
          "Cédric Kipré",
          "Kelvin Amian",
          "Gabriel Suazo",
          "Modibo Sagnan",
          "Willian Pacho",
          "Dennis Appiah",
          "Ki-Jana Hoever",
          "Jonathan Gradit",
          "Djibril Sidibé",
          "Wilfried Singo",
          "Achraf Hakimi",
          "Vanderson",
          "Carlens Arcus",
          "Nicolas Pallois",
          "Dylan Batubinsika",
          "Lucas Beraldo",
          "Ainsley Maitland-Niles",
          "Aurélio Buta",
          "Dante",
          "Sinaly Diomande",
          "Youssouf Ndayishimiye",
          "Caio Henrique Oliveira Silva",
          "Thomas Meunier",
          "Nicolás Tagliafico",
          "Enzo Tchato",
          "Becir Omeragic",
          "Gabriel Gudmundsson",
          "Aïssa Mandi",
          "Marquinhos",
          "Abdoulaye Niakhate Ndiaye",
          "Joseph Okumu",
          "Hans Hateboer",
          "Massadio Haïdara",
          "Nuno Mendes",
          "Gabriel Osho",
          "Quentin Merlin",
          "Duje Ćaleta-Car",
          "Nathan Zeze",
          "Abdoulaye Bamba",
          "Christian Mawissa",
          "Christopher Wooh",
          "Derek Cornelius",
          "Przemysław Frankowski",
          "Malang Sarr",
          "Julien Le Cardinal",
          "Emmanuel Biumla",
          "Emmanuel Agbadou",
          "Arouna Sangante",
          "Lilian Brassier",
          "Falaye Sacko",
          "Leo Skiri Østigård",
          "Issiaga Sylla",
          "Timothee Pembele",
          "Abner",
          "Kevin Danso",
          "Yunis Abdelhamid",
          "Mohammed Salisu",
          "Saidou Sow",
          "Théo Sainte-Luce",
          "Paul Joly",
          "Abdukodir Khusanov",
          "Anthony Rouault",
          "Sael Kumbedi",
          "Marcus Coco",
          "Abakar Sylla",
          "Yael Mouanga",
          "Ulisses Garcia",
          "Jérémy Jacquet",
          "Ismaily",
          "Hiroki Sekine",
          "Lucas Hernández",
          "Mohamed Abdelmoneim",
          "Antoine Mendy",
          "Alidu Seidu",
          "Yoann Salmier",
          "Yvann Macon",
          "Jordan Amavi",
          "Maxime Bernauer",
          "Boubakar Kouyaté",
          "Lucas Mincarelli",
          "Mikayil Ngor Faye",
          "Abdulai Juma Bah",
          "Pol Lirola",
          "Luck Zogbé",
          "Rasmus Nicolaisen",
          "Nikola Maksimović",
          "Pierre Cornud",
          "Jordan Teze",
          "Andrew Omobamidele",
          "Jean-Kevin Duverne"
         ],
         "legendgroup": "#00ff00",
         "marker": {
          "color": "#636efa",
          "symbol": "circle"
         },
         "mode": "markers",
         "name": "#00ff00",
         "orientation": "v",
         "showlegend": true,
         "type": "scatter",
         "x": {
          "bdata": "dRRJIkn5LkDdD7qewuoqQC6TXepXTjBAgthZEJnVK0CsZnbEBgYnQFfxBw1lpDJAdR2dVEUJG0Ahsi+MdQEXQNltkyaI4CxAV4+d/6WxGkD9YvZgmK4uQMZeABY/KCRAN6pg4xXX+T/aOF6Hx3wlQKDHqOuvfyRAZzFDn3nrHkDE9EXu/LgtQHmHYnbeHi1AaZhYPVdNKECXDWE69/8vQNYSflNcAjBAYEWLG8CUMECLNJsfSmMTQFTYKheIYTNABqTFbZ1uL0DI1BskLQouQBecnVKoLxFA2tdwhmDa/D96T+TosuUmQMC++gde0TFAkNpMQm3aFkB3mKBvicP8P05/YXKJ+iNAYfbOYkOgHEDl2gHHI9EqQK3ixlasQRNAl3cJXoChEkB9kk70h5ARQJV7dcpyOSlA9fTNDShpLkBvIUcsyFoxQPix6aXSyhFALoE6zaFIEUAHRYfKRAcsQOKVW+QFxChA2D60DUQaLEDi2vRPByIEQNghTpSH8BxAKTE6FJE3GEDH4oiSI0MSQJZxfQfcUChAJk1xIIzSCkDaHXqABmUqQEFRVDEJcTRAz1xXask7MEB+3pt1KjYxQPWSYcGH2yFANq57I2yCBkAFF8rYaPoWQAs6seFXuSRAllKVTs539T/8/jT2qgEwQMRiCrKF0ihAtSeh8mLjIkCuDnOx3WkkQL86HWnSdy9A2+c1p1AcM0CuuaGTPuEWQDHr2EZaZC9ADJ4cwGgUMUBHp1XwupEnQJebXOa2UzBAOtct03XoLkDkNAhlXL8tQO4hi8VpLSJAwt+vaIyfKUCZ9PmAZtoUQCNl4MBncPk/A7A1m9P+FEAS+zGMsoguQCBjABVnQy9AqO/vZ4S4LUA0+BS1kC0wQBFdZoANhOA/G1XqqEhsF0ByBp9YYcsvQJG7bbCIZzBAUjzISqNE6j8vPNvIqYIXQNQ9m2qnizJAtJYoSBURJ0AXcgzJ0ev7P42d6ZW/GyVA/xu4+ggDHEDpmw3R4jscQKLOB2WKFzFAYXUQZHo3KUBJt+/OtzohQBfFv2DfvR5ABGhkYNqnLkBHtr3pJdwDQLP2c5RAESFAJ7UFowP7MUCnVLGBR8QjQNmLo15GlR5AYeHWIVyUMEBt+5cWKtkpQIu3Zg+eZBxA+e2EWC34D0A/h0IjvB8yQHQwLrxWeSlA7lFqU8xGJEBoLa7fCkwQQCv16i9YfDdA3kl6JcHjGUA=",
          "dtype": "f8"
         },
         "xaxis": "x",
         "y": {
          "bdata": "agf47hWFDcDb83eO/TISwDLgxy3Gbe+/Jv27xiWG6z8tJK7yZj4MQMHueaNc6gpAOtwRl7flHEDJMhBJ6vYQQPoc2NyUCSjAlXt3iBreCsAcLPNxWkcRwFOHeAolMQ1AI+Elcg1u5L/ui96HbToWwPFcqx99RhTADw4VVjACFEBrxzZISRMTwGb3NUG13t0/WAT462KE8D+3MJujRkkSwDDzMbSIORzAj3wXUj+UGMC6Abp3Y7sVQL5jjDNqWhBAJm16DWahCsCEs1WZ+q0PwN75RCA9YgXAH/G+uiE5IkD5VwXBqHEbwHd5/KU6bgjA1PMz6XyZCEBcKHI5XCwOQJHGmaFIv/S/Teag+vWmD0CWNZMgpUviPyvBuC1U0ypAiGeMRcUmG0BCjlVoqz7Dv2mFcInsgB/ADLr/gV5+G8C2u0gi9eQVQHbQ5zmjGRlAhe2duY9Isr+ObT1QGHbpPxtqN7DwjhzAWBpRwzPu4z+JOR0bQ00nQFF3sKpRkxxARxweHgrxv7/jDmcLDx7sP091h/iR8xjAtKL2iDMRGUBsuhCwZ+v3P5/ApVbqjhJA390U6JtgIMCOCacf+scHwDPqJ/pXlgVAcefiUPFY5r/zY/xpnf4rQBO8MxKbEiHA6nt9xmNlIkBzWABIyfkRwNRVGmh16RnAkIgDjsTYHcBbCYzHl+oRwNsUm+vJ/BLAq+nr5I+VBUBdzMPmD7EmQPHUeN7EpNK/VDvT6yx5EcB9S1oHxgoiwIaS0/R2MMM/cQ/LphTmDcBWh+HTgwD3P3xMoz8k2wbAS2xedybjFMC58lTrKD3ov01Ame9E+wzA15uVraLoEUDAZs/o4sLlv+/c1KVk9iLARGElyntEpL+2fFbumbkawL/WCK8x3RzA8IxBYIVxHkBH7Y0SkHETwOISrzsMxArAI5R68+nA/7/XltVR6xzzPwOpdBRmmBzAeh3PRy1yHcCsRZPqiC0MQPsgNAiROBDAcivV8VjICkCVdNmY8BDWvzw/h54KQRBA4zV9pktoCsAKDJYjHFsIwL0+G4RA+d0/I4RxSZw+IMDa0NN2gR7zv7U/m9OMwOY/dI0eeLyu979PCEqzTbAtwD7Lb08r1gXA+t/kAfjV6z9qSKhDtvIgwFPLR6aw1vy/uuHSZq2JCMDoXatNpp4RwPDvr2+jshnAUf1WDB6QDcCN8O6o7x4TQGy9Z9ObZybASUuN0AgdC8A=",
          "dtype": "f8"
         },
         "yaxis": "y"
        },
        {
         "hovertemplate": "<b>%{hovertext}</b><br><br>color=#0000ff<br>Isomap_1=%{x}<br>Isomap_2=%{y}<extra></extra>",
         "hovertext": [
          "Andrey Santos",
          "Valentin Atangana Edoa",
          "Cristian Cásseres Jr.",
          "Benjamin André",
          "Pierre Højbjerg",
          "Adrien Thomasson",
          "Pierre Ekwah Elimby",
          "Adrien Rabiot",
          "Hicham Boudaoui",
          "Vincent Sierro",
          "Téji Savanier",
          "Pedro Chirivella",
          "Elisha Owusu",
          "Corentin Tolisso",
          "Abdoulaye Touré",
          "Hugo Magnetti",
          "Douglas",
          "Andy Diouf",
          "Denis Zakaria",
          "Hamed Junior Traorè",
          "Azor Matusiwa",
          "Lamine Camara",
          "Johann Lepenant",
          "Vitinha",
          "Nemanja Matić",
          "Jean-Eudes Aholou",
          "Fabián Ruiz Peña",
          "Joris Chotard",
          "Haris Belkebla",
          "Jordan Ferri",
          "Benjamin Bouchouari",
          "Marshall Munetsi",
          "Rabby Nzingoula",
          "Neil El Aynaoui",
          "Jordan Veretout",
          "Pierre Lees-Melou",
          "Yassin Belkhdim",
          "Kévin Danois",
          "Amadou Koné",
          "André Gomes",
          "Florian Tardieu",
          "Tanner Tessmann",
          "Ngal'Ayel Mukau",
          "Jordan James",
          "Ayyoub Bouaddi",
          "Tanguy Ndombele",
          "Djaoui Cissé",
          "Rassoul Ndiaye",
          "Han-Noah Massengo",
          "Louis Mouton",
          "Aimen Moueffek",
          "Soungoutou Magassa",
          "Oussama Targhalline",
          "Junior Mwanga",
          "Baptiste Santamaria",
          "Mathis Amougou",
          "Seko Fofana",
          "Senny Mayulu",
          "Teddy Teuma",
          "Angel Gomes",
          "Assane Dioussé",
          "Glen Kamara",
          "Ismaël Bennacer",
          "Nampalys Mendy",
          "Mahamadou Diawara",
          "Maxence Caqueret",
          "Daler Kuzyaev",
          "John Joe",
          "Amine Harit"
         ],
         "legendgroup": "#0000ff",
         "marker": {
          "color": "#EF553B",
          "symbol": "circle"
         },
         "mode": "markers",
         "name": "#0000ff",
         "orientation": "v",
         "showlegend": true,
         "type": "scatter",
         "x": {
          "bdata": "ivPbJ8y1+z+mE+HbgH3ev27YtYkNsPg/Afj4ex+NHEBTPq3y9BgqQOBcXenI5s6/M7PRpEqIHEDNERNUy+ACwLfzryFHyv2/9dC0QxMVCkBPsV5/cRnqv8vq8ACT0iBAH/REDQEV/j9Zth1aVLcKQDzxXrUdSdu/9kpSWfvzA0AHwbwCyusIQHBSITyeXRrARxQAeEZ2/j/bvu7arj0owN1AYZIcpw9AA6Bx3xnf5D91Tgi2qUT4vzKqrxBugC1AMNtFw0IVI0A33z+/AoSQvytncDLAwRNAPpAWZYSSFUDxqn5WIu4WQGER/k8xRSBAWk/aIfw9+D8Fxiec46EcwNUphu+i1+K/pUwr6fO1C0ChgMkiOI4WQPCtU34yRxZAoTsBw41u7z9gqjtfd7Xiv8HWf9973g9A/iT7mPlJG0CfnmBsl20hQDUS/H0Tgh5AFxAVMHTl+z/+61UaWFXTvyL7q4rA5wNAyLE7Q9guA8DRHX9Tf3QTQPvp38+PNcg/UCH8HTp1EEBGXjIN/gz4P5Pe17L7JgTASJPUHeK0EkCmlXf2I9X9P5UEr3f9RQlAngrEpnz9FECKdlZHqbvgv8roBpCChwRANn0pNbUaGcBaoe9trbkZQEPSXP8HcxTA7BNXpTa2HECkDqQfYwUVQE8Ld0JpIClAUyduQdqnFkCy0NNM1mPaP4AbBMuLQwFAwqN6Eff+EEBDG9jKDrz3Pw4GN4UxWSrA",
          "dtype": "f8"
         },
         "xaxis": "x",
         "y": {
          "bdata": "RDrTBRmPA8B/xS5E52wYwNZw0wL55MK/SnKXyjoL2T8LhMDyF8okQO0ZRw68bBFA44YGS7Vl9L/AFxVE4+kQQPdX5GGHOOQ/IEcPdSoCAkCZcf4k3D4wQMEHo0n1wvc/GNTRl9RkG8A8vd1UrboUQK2iUDwRJBvAFd6Rq75uDcC9WsOY+mIGwIZxWMe17gxA/a5EMHV5iL/k+D/iFAXKvxfZ6Unald+/Ube37mu+KECOYvb4tXYUwKeTQoK1ZipAwJGGD0B8C0DsY9xg+ysawLW1+6fYGiRATUycseycD8C4YXGyGwMWwAoT5h7QT/g/XyK6E8+g8D8N5lk7S2YjwCwaBnH0iAnAhrMnD0ZbEUDuUIDbOaD/Pz+vwcB19xNA6y2DkUMiIcD07GtDH9D3P5hFZY1KmQjAE5Yv0CILE0AHkbdkzyQaQKAgYOefdrK/cs2rwIb3BMAfCTLDvRMDQJvwqByu2BLA8J8OkeSI8r91nl0WYhbsPyFwQsqziBTA79ODw4KJGsCUe64b8ILqPzatYaBrDhbAhQFPLb+oyT9FapPScfwLwNWpR5a7+vK/TSDkulJsBsAAi5kiF2QawJ93uy/x+xZA0wV5DASrF0Dku2jJNAIoQDFvzH37jgVA54nLy6mcEcA3A/EtXgXyP+JUHfBWejZApW5mm1OVB8B3CpuaFF8WwAf8metyJvE/kPDTf6qFGcC363xWjdwQwNF05HJgTSJA",
          "dtype": "f8"
         },
         "yaxis": "y"
        },
        {
         "hovertemplate": "<b>%{hovertext}</b><br><br>color=#ff00ff<br>Isomap_1=%{x}<br>Isomap_2=%{y}<extra></extra>",
         "hovertext": [
          "Himad Abdelli",
          "Mason Greenwood",
          "Zuriko Davitashvili",
          "Gaëtan Perrin",
          "Junya Ito",
          "Mahdi Camara",
          "Keito Nakamura",
          "Moses Simon",
          "Arnaud Kalimuendo",
          "Evann Guessand",
          "Maghnes Akliouche",
          "Habib Diarra",
          "Yann Gboho",
          "Lassine Sinayoko",
          "Ludovic Blas",
          "Takumi Minamino",
          "Sebastian Nanasi",
          "Yassine Kechta",
          "Rayan Cherki",
          "Josué Casimir",
          "Issa Soumaré",
          "Zakaria Aboukhlal",
          "Breel Embolo",
          "Florian Sotoca",
          "Félix Lemaréchal",
          "Hákon Arnar Haraldsson",
          "Eliesse Ben Seghir",
          "Désiré Doué",
          "Joshua King",
          "Lee Kang-in",
          "Mohamed Ali Cho",
          "Mathias Pereira Lage",
          "Frank Magri",
          "Tanguy Coulibaly",
          "Anass Zaroury",
          "Kamory Doumbia",
          "Sorba Thomas",
          "Osame Sahraoui",
          "Abdallah Sima",
          "Shavy Babicka",
          "Aleksandr Golovin",
          "Wahbi Khazri",
          "Musa Al-Taamari",
          "Badredine Bouanani",
          "Matias Fernandez-Pardo",
          "Sofiane Diop",
          "Jeremie Boga",
          "Ernest Nuamah",
          "Amine Gouiri",
          "Angelo Fulgini",
          "Khalil Fayad",
          "Rémy Cabella",
          "Edon Zhegrova",
          "Ado Onaiwu",
          "Thiago Almada",
          "Antoine Joujou",
          "Romain Faivre",
          "Mamadou Diakhon",
          "Zinedine Ferhat",
          "Albert Grønbaek",
          "Jonathan Rowe",
          "Sekou Mara",
          "Saïd Benrahma",
          "Augustine Boakye",
          "Mathieu Cafaro",
          "Emmanuel Sabbi",
          "Rémy Labeau Lascary",
          "Yaya Kader Fofana",
          "Marco Asensio",
          "Ben Old",
          "Tino Kadewere"
         ],
         "legendgroup": "#ff00ff",
         "marker": {
          "color": "#00cc96",
          "symbol": "circle"
         },
         "mode": "markers",
         "name": "#ff00ff",
         "orientation": "v",
         "showlegend": true,
         "type": "scatter",
         "x": {
          "bdata": "6ubouC8cCMCQrPL952wvwCk5b2DDwzDA+YisM+plJsBtRBYbgFEbwPebB6SFhg7As5K3eWp2KMDeh+lZzt4wwOpsSUb2ZzDA5Xgm7WXhMcBRGaOetx4mwONKFL8eVxPAkUNMckqCLsCcq/ipgcAxwANjVs4+7CfAbH6xSXXvI8AY8uzkvAgkwB2TKwKJ2Pi/wGJ7P8uHLcDDis12/dUlwA1NUHNjQCjA70bXY8MRMsCIvtst/PMwwAUqFYM/MBPAYHei+uiaG8AZ37Qc4dodwDo4V02MrCjALaBHF3/CL8CbDZaI0aQwwDIPbcFgwg/AYXWCZ1psMMCM1IfOfg8jwFOBTFfAiy/A+80qjXsxJcC76lDqb6QXwHV2ENpscPe/9GF9A5q9E8BLuTROjporwFZ6qKgLVzLATM5NGnP7KcBgOHnvQdD9v4Wtwy3nbCHAwI4D5Tn/McAsAnMqaC8qwBbVtrdIOTDA1+xh2n1bIsBACpQySFMywFyahUtQ3STAmZQf2wYONcBcqyM9DHcbwGH2eyQmWgdATPp0Dm17DsAM11TVnIctwC5tFPMn2CjAMMH1mUp9CcDpL1qXHfEqwGKw/12oCibAKBBD5OiZMsCKWiBgXqcNwD2c+LSOpyjATUnXm11BM8Ce9BBvHoMmwK288BK2mSbAsihCSARhMMDOMmzcSm8iwDaYTJLH/i/ACdQ2glMeNMBkHbHlyA0ewECveSMzMSbACNrFtHcNJcAnb37iqikgwA==",
          "dtype": "f8"
         },
         "xaxis": "x",
         "y": {
          "bdata": "C48wgLbhGEAljGid3MofQF/XFfl9ZRNAG9KjurlKKUAxc4K+Ny0nQMl6D3fasvO/tIW9xVCnCMDEiUhLCN0iQLH1KT4YJx7ATrysCZKT+L+DeQ3RYuUkQMhIqMfGOfi/UWbE6UJzB0AqX85l8JIDwLi0HVWgviVAFtkxTH7T+r+F9KeJ2awTQJOQTXZ/nwvAtifzUhwvNUCQ/RjTyTcPwIzZCHIfPwzA3Iv9ymdNHMCcQp4BkbQTwOpe1F25QwVAhplK4wOz+L8AH0hPK/ohQAst9ttZAihAS/XHxRT8LUBhABlIXkEhwF04FWaM/zNAoNlnay6KEUAnLjPADzYWQJ8O6EIvoyfA5bLRQ0I6EcBpYjChnvYlQKKBz9t29xRACrCgoZHpHkDnkw3zC6EhQL7sPPbMJR7AskAMwrKUCcAhfyosZu4iQC38GrO6E/S/y5PNxCXL8r+uFqTQQeQLQLOPxeQofv8/zheFcM3pHkCDsRfQ3DEWQIBEB/AeRhBAxzmrpU5TE0CfPXucWBYsQDJEFd+LQPS/Tyc6G+99M0BKIx0UshcjQEVP+2xYIA7As95yeZRMM0Agq9tgjzIGQCaJSYNZSghAhBjrbJL8EECS0LI4rFgqQLaUVl4dsAdAcCRNMU2nFUBMebMXxjcmwN91xKihHyVA5ZPvzegGrz+fln5Q0Au/P2PexSk79hvAAf9g9looFMBZFwInsZ/zv2tqI5zRTSNA214kYXZpEMDlKm4P/FAXwA==",
          "dtype": "f8"
         },
         "yaxis": "y"
        },
        {
         "hovertemplate": "<b>%{hovertext}</b><br><br>color=#ff0000<br>Isomap_1=%{x}<br>Isomap_2=%{y}<extra></extra>",
         "hovertext": [
          "Matthis Abline",
          "Jonathan David",
          "Ludovic Ajorque",
          "Emanuel Emegha",
          "Bradley Barcola",
          "Alexandre Lacazette",
          "Farid El Melali",
          "Lucas Stassin",
          "Gaëtan Laborde",
          "Jim Allevinah",
          "Ousmane Dembélé",
          "Esteban Lepaul",
          "Oumar Diakité",
          "Malick Fofana",
          "M'Bala Nzola",
          "André Ayew",
          "Georges Mikautadze",
          "Romain Del Castillo",
          "Mostafa Mohamed",
          "Mika Biereth",
          "Arnaud Nordin",
          "Mama Samba Baldé",
          "Akor Adams",
          "Gonçalo Ramos",
          "Irvin Cardona",
          "Neal Maupay",
          "Ibrahima Niane",
          "Theo Bair",
          "Khvicha Kvaratskhelia",
          "Wesley Saïd",
          "Goduine Koyalipou",
          "Koka",
          "Ibrahim Sissoko",
          "George Ilenikhena",
          "Chuba Akpom",
          "Folarin Balogun",
          "Andy Delort",
          "Florian Ayé",
          "Elye Wahi",
          "Mohamed Meité",
          "Bamba Dieng"
         ],
         "legendgroup": "#ff0000",
         "marker": {
          "color": "#ab63fa",
          "symbol": "circle"
         },
         "mode": "markers",
         "name": "#ff0000",
         "orientation": "v",
         "showlegend": true,
         "type": "scatter",
         "x": {
          "bdata": "XjjkH7qiMcClPOsD9M4pwJV9LWE43SzA3a+qu0N5MsBng94Ewb0wwInRrCtKgzHA1sxmWGbnMcARKrizI0stwL7+ZGkgVzHA52lhT+CBJ8CJ9dWA6RU0wGP7PAUxQS/AixAkraopLMB/hxHAb9suwFxZQ8VrXzLAOCfIjHsMLMBVHGaVSVI1wGAIieUBDRDASDZCvbTZL8DjVYcPBgk0wBG6cRvn/CfAiKCMgVhsMsCI9AugMKozwOtzYVEAxzPAprytXIV+KcD+5l7mkXMswAQGWc5nnzLAd2Pem5+1LsCWBRShC/IwwB3MTa+y0CTA36Eh+LG6MsDTgLPEcwUvwIZcWNJmJjDA4CegiFCCMsD02pWSFaY0wBacROoZBjTA9QAYMwjcLsDcDLsbaZguwF8M205wazXAzxluc8iNMsBWc2H0CjQ2wA==",
          "dtype": "f8"
         },
         "xaxis": "x",
         "y": {
          "bdata": "HKNEv0m4EsBJk5j6OREYwM9UAoNwACvAOXyuC7bzI8Dryll/4b0gQAy1Q3YqXB3A1Nf3YcGMFkAuMPpGFMgawJy2CGfSPSDAKzMHKUADDsADD8hhnfgxQH+uklleOiXAKj+n2ZhuGsDsDWWYWW8XQEoLKqN/hCLAZjoH+bCoKMAs5E77rEAHwD0AkbTUMydA65iaplN1J8AXLfExr8EiwBC+2r3ukwbAJ/3+jL+dFMAW0tF/AmIjwPn5s3/CCiTAoDYph7srCsCX2N4GcZAYwLPR/++h3SLA7foFXspfLMAZ5CZaDwcvQMFP7wuz6R7A9yyG7mfLIcAgu410ED8pwHFcRF52NyzAqpix9pBbJMDnfK5s1eAlwORzZNi7OSHATkPWxadfLMDdbwyLCScpwKQHM1tofifAog6w8qvII8AkuvKKYPwmwA==",
          "dtype": "f8"
         },
         "yaxis": "y"
        },
        {
         "hovertemplate": "<b>%{hovertext}</b><br><br>color=#00ffff<br>Isomap_1=%{x}<br>Isomap_2=%{y}<extra></extra>",
         "hovertext": [
          "Adrien Truffert",
          "Aron Dønnum",
          "Ismaël Doukouré",
          "Jean-Charles Castelletto",
          "Diego Moreira",
          "Dilane Bakwa",
          "Lorenz Assignon",
          "Jonathan Clauss",
          "Nicolas Cozza",
          "Warren Zaïre-Emery",
          "Geoffrey Kondogbia",
          "Melvin Bard",
          "João Neves",
          "Deiver Machado",
          "Pablo Rosario",
          "Valentin Rongier",
          "Ali Abdi",
          "Nhoa Sangui",
          "Valentín Barco",
          "Mory Gbane",
          "Ruben Aguilar",
          "Jaydee Canvot",
          "Edimilson Fernandes",
          "Warren Kamanzi",
          "Louis Leroux",
          "Tom Louchet",
          "Rayan Raveloson",
          "Jhoanner Chávez",
          "Fodé Ballo-Touré"
         ],
         "legendgroup": "#00ffff",
         "marker": {
          "color": "#FFA15A",
          "symbol": "circle"
         },
         "mode": "markers",
         "name": "#00ffff",
         "orientation": "v",
         "showlegend": true,
         "type": "scatter",
         "x": {
          "bdata": "ddgnbUgA6r/DFzZsa+kLwPrSwA1RHiVAB4LMxYJdJUAwYl/2Q2IYwG5tLHcKByjAFoYGSkqoAMDvDwTvKOEFwHxAaV2/+Q1AyF1NVgU7F0B2peeCLiosQHc0WTEJMhFAK6o5rDkbFECHwYwE8bD1v7EuRKFcbwRAiJoHZnIoJUBbib3vmh4CwCOX0/gXbgBAiyKHedXAFkDM9yDuRtUjQI6gNyKHxRJALaUF3q1IGEDukLyslzgiQKd5vTLw5Pu/9DeKsPnmAcDZndGh+s0CQGmvU6X1VQ1A06OvBqIn1D8FA+D+CokcQA==",
          "dtype": "f8"
         },
         "xaxis": "x",
         "y": {
          "bdata": "kF8eETvOEkB13gkz3rYcQHOWd5Jf7A7AhkhzTyvVGcArVjDHeGsZQKWZ7wB1wSZA9LzRARmqF0CgLFxJPYcpQJHA9gazMQ7AmPbCWq40FkDtno6v8lMQQG0BZEB2tBZAVpwK/6yEIED8F/90lXsCQB73RJXEvRTAFkgepcW1DkDYleeP5jcAQI1uuQFs3QLA0HL5iMNBBkDVEJF+bE8ZwEo2BbmECyFAJkDUTaH2FcBITD5pQ/sQwA22UvVJXMu/aeL8NNiVEcBcwIRRUegQQPxhBfYDNQzAYXdxyLfaqD9ICeqZbkICwA==",
          "dtype": "f8"
         },
         "yaxis": "y"
        },
        {
         "hovertemplate": "<b>%{hovertext}</b><br><br>color=#ffff00<br>Isomap_1=%{x}<br>Isomap_2=%{y}<extra></extra>",
         "hovertext": [
          "Luis Henrique",
          "Loïc Nego",
          "Lilian Raolisoa",
          "Christopher Operi",
          "Mitchel Bakker",
          "Yanis Zouaoui",
          "Jacques Ekomie",
          "Krépin Diatta"
         ],
         "legendgroup": "#ffff00",
         "marker": {
          "color": "#19d3f3",
          "symbol": "circle"
         },
         "mode": "markers",
         "name": "#ffff00",
         "orientation": "v",
         "showlegend": true,
         "type": "scatter",
         "x": {
          "bdata": "AtEoI+ctHMBP2Tuh/q8DQFQfxVPxm8g/QLhdrB87+j+Pievov60VwEJBfmZo0v2/tneEVmlZBEByuZMaI28eQA==",
          "dtype": "f8"
         },
         "xaxis": "x",
         "y": {
          "bdata": "idImBck2EkAOlvkN3eThP7IYhb39syFAXzNxR7JVKEAL8d0Ur4InQObYYHe/rTBAxd7WdqARDsDYCfxJlFUDQA==",
          "dtype": "f8"
         },
         "yaxis": "y"
        }
       ],
       "layout": {
        "height": 900,
        "legend": {
         "title": {
          "text": "color"
         },
         "tracegroupgap": 0
        },
        "template": {
         "data": {
          "bar": [
           {
            "error_x": {
             "color": "#2a3f5f"
            },
            "error_y": {
             "color": "#2a3f5f"
            },
            "marker": {
             "line": {
              "color": "#E5ECF6",
              "width": 0.5
             },
             "pattern": {
              "fillmode": "overlay",
              "size": 10,
              "solidity": 0.2
             }
            },
            "type": "bar"
           }
          ],
          "barpolar": [
           {
            "marker": {
             "line": {
              "color": "#E5ECF6",
              "width": 0.5
             },
             "pattern": {
              "fillmode": "overlay",
              "size": 10,
              "solidity": 0.2
             }
            },
            "type": "barpolar"
           }
          ],
          "carpet": [
           {
            "aaxis": {
             "endlinecolor": "#2a3f5f",
             "gridcolor": "white",
             "linecolor": "white",
             "minorgridcolor": "white",
             "startlinecolor": "#2a3f5f"
            },
            "baxis": {
             "endlinecolor": "#2a3f5f",
             "gridcolor": "white",
             "linecolor": "white",
             "minorgridcolor": "white",
             "startlinecolor": "#2a3f5f"
            },
            "type": "carpet"
           }
          ],
          "choropleth": [
           {
            "colorbar": {
             "outlinewidth": 0,
             "ticks": ""
            },
            "type": "choropleth"
           }
          ],
          "contour": [
           {
            "colorbar": {
             "outlinewidth": 0,
             "ticks": ""
            },
            "colorscale": [
             [
              0,
              "#0d0887"
             ],
             [
              0.1111111111111111,
              "#46039f"
             ],
             [
              0.2222222222222222,
              "#7201a8"
             ],
             [
              0.3333333333333333,
              "#9c179e"
             ],
             [
              0.4444444444444444,
              "#bd3786"
             ],
             [
              0.5555555555555556,
              "#d8576b"
             ],
             [
              0.6666666666666666,
              "#ed7953"
             ],
             [
              0.7777777777777778,
              "#fb9f3a"
             ],
             [
              0.8888888888888888,
              "#fdca26"
             ],
             [
              1,
              "#f0f921"
             ]
            ],
            "type": "contour"
           }
          ],
          "contourcarpet": [
           {
            "colorbar": {
             "outlinewidth": 0,
             "ticks": ""
            },
            "type": "contourcarpet"
           }
          ],
          "heatmap": [
           {
            "colorbar": {
             "outlinewidth": 0,
             "ticks": ""
            },
            "colorscale": [
             [
              0,
              "#0d0887"
             ],
             [
              0.1111111111111111,
              "#46039f"
             ],
             [
              0.2222222222222222,
              "#7201a8"
             ],
             [
              0.3333333333333333,
              "#9c179e"
             ],
             [
              0.4444444444444444,
              "#bd3786"
             ],
             [
              0.5555555555555556,
              "#d8576b"
             ],
             [
              0.6666666666666666,
              "#ed7953"
             ],
             [
              0.7777777777777778,
              "#fb9f3a"
             ],
             [
              0.8888888888888888,
              "#fdca26"
             ],
             [
              1,
              "#f0f921"
             ]
            ],
            "type": "heatmap"
           }
          ],
          "histogram": [
           {
            "marker": {
             "pattern": {
              "fillmode": "overlay",
              "size": 10,
              "solidity": 0.2
             }
            },
            "type": "histogram"
           }
          ],
          "histogram2d": [
           {
            "colorbar": {
             "outlinewidth": 0,
             "ticks": ""
            },
            "colorscale": [
             [
              0,
              "#0d0887"
             ],
             [
              0.1111111111111111,
              "#46039f"
             ],
             [
              0.2222222222222222,
              "#7201a8"
             ],
             [
              0.3333333333333333,
              "#9c179e"
             ],
             [
              0.4444444444444444,
              "#bd3786"
             ],
             [
              0.5555555555555556,
              "#d8576b"
             ],
             [
              0.6666666666666666,
              "#ed7953"
             ],
             [
              0.7777777777777778,
              "#fb9f3a"
             ],
             [
              0.8888888888888888,
              "#fdca26"
             ],
             [
              1,
              "#f0f921"
             ]
            ],
            "type": "histogram2d"
           }
          ],
          "histogram2dcontour": [
           {
            "colorbar": {
             "outlinewidth": 0,
             "ticks": ""
            },
            "colorscale": [
             [
              0,
              "#0d0887"
             ],
             [
              0.1111111111111111,
              "#46039f"
             ],
             [
              0.2222222222222222,
              "#7201a8"
             ],
             [
              0.3333333333333333,
              "#9c179e"
             ],
             [
              0.4444444444444444,
              "#bd3786"
             ],
             [
              0.5555555555555556,
              "#d8576b"
             ],
             [
              0.6666666666666666,
              "#ed7953"
             ],
             [
              0.7777777777777778,
              "#fb9f3a"
             ],
             [
              0.8888888888888888,
              "#fdca26"
             ],
             [
              1,
              "#f0f921"
             ]
            ],
            "type": "histogram2dcontour"
           }
          ],
          "mesh3d": [
           {
            "colorbar": {
             "outlinewidth": 0,
             "ticks": ""
            },
            "type": "mesh3d"
           }
          ],
          "parcoords": [
           {
            "line": {
             "colorbar": {
              "outlinewidth": 0,
              "ticks": ""
             }
            },
            "type": "parcoords"
           }
          ],
          "pie": [
           {
            "automargin": true,
            "type": "pie"
           }
          ],
          "scatter": [
           {
            "fillpattern": {
             "fillmode": "overlay",
             "size": 10,
             "solidity": 0.2
            },
            "type": "scatter"
           }
          ],
          "scatter3d": [
           {
            "line": {
             "colorbar": {
              "outlinewidth": 0,
              "ticks": ""
             }
            },
            "marker": {
             "colorbar": {
              "outlinewidth": 0,
              "ticks": ""
             }
            },
            "type": "scatter3d"
           }
          ],
          "scattercarpet": [
           {
            "marker": {
             "colorbar": {
              "outlinewidth": 0,
              "ticks": ""
             }
            },
            "type": "scattercarpet"
           }
          ],
          "scattergeo": [
           {
            "marker": {
             "colorbar": {
              "outlinewidth": 0,
              "ticks": ""
             }
            },
            "type": "scattergeo"
           }
          ],
          "scattergl": [
           {
            "marker": {
             "colorbar": {
              "outlinewidth": 0,
              "ticks": ""
             }
            },
            "type": "scattergl"
           }
          ],
          "scattermap": [
           {
            "marker": {
             "colorbar": {
              "outlinewidth": 0,
              "ticks": ""
             }
            },
            "type": "scattermap"
           }
          ],
          "scattermapbox": [
           {
            "marker": {
             "colorbar": {
              "outlinewidth": 0,
              "ticks": ""
             }
            },
            "type": "scattermapbox"
           }
          ],
          "scatterpolar": [
           {
            "marker": {
             "colorbar": {
              "outlinewidth": 0,
              "ticks": ""
             }
            },
            "type": "scatterpolar"
           }
          ],
          "scatterpolargl": [
           {
            "marker": {
             "colorbar": {
              "outlinewidth": 0,
              "ticks": ""
             }
            },
            "type": "scatterpolargl"
           }
          ],
          "scatterternary": [
           {
            "marker": {
             "colorbar": {
              "outlinewidth": 0,
              "ticks": ""
             }
            },
            "type": "scatterternary"
           }
          ],
          "surface": [
           {
            "colorbar": {
             "outlinewidth": 0,
             "ticks": ""
            },
            "colorscale": [
             [
              0,
              "#0d0887"
             ],
             [
              0.1111111111111111,
              "#46039f"
             ],
             [
              0.2222222222222222,
              "#7201a8"
             ],
             [
              0.3333333333333333,
              "#9c179e"
             ],
             [
              0.4444444444444444,
              "#bd3786"
             ],
             [
              0.5555555555555556,
              "#d8576b"
             ],
             [
              0.6666666666666666,
              "#ed7953"
             ],
             [
              0.7777777777777778,
              "#fb9f3a"
             ],
             [
              0.8888888888888888,
              "#fdca26"
             ],
             [
              1,
              "#f0f921"
             ]
            ],
            "type": "surface"
           }
          ],
          "table": [
           {
            "cells": {
             "fill": {
              "color": "#EBF0F8"
             },
             "line": {
              "color": "white"
             }
            },
            "header": {
             "fill": {
              "color": "#C8D4E3"
             },
             "line": {
              "color": "white"
             }
            },
            "type": "table"
           }
          ]
         },
         "layout": {
          "annotationdefaults": {
           "arrowcolor": "#2a3f5f",
           "arrowhead": 0,
           "arrowwidth": 1
          },
          "autotypenumbers": "strict",
          "coloraxis": {
           "colorbar": {
            "outlinewidth": 0,
            "ticks": ""
           }
          },
          "colorscale": {
           "diverging": [
            [
             0,
             "#8e0152"
            ],
            [
             0.1,
             "#c51b7d"
            ],
            [
             0.2,
             "#de77ae"
            ],
            [
             0.3,
             "#f1b6da"
            ],
            [
             0.4,
             "#fde0ef"
            ],
            [
             0.5,
             "#f7f7f7"
            ],
            [
             0.6,
             "#e6f5d0"
            ],
            [
             0.7,
             "#b8e186"
            ],
            [
             0.8,
             "#7fbc41"
            ],
            [
             0.9,
             "#4d9221"
            ],
            [
             1,
             "#276419"
            ]
           ],
           "sequential": [
            [
             0,
             "#0d0887"
            ],
            [
             0.1111111111111111,
             "#46039f"
            ],
            [
             0.2222222222222222,
             "#7201a8"
            ],
            [
             0.3333333333333333,
             "#9c179e"
            ],
            [
             0.4444444444444444,
             "#bd3786"
            ],
            [
             0.5555555555555556,
             "#d8576b"
            ],
            [
             0.6666666666666666,
             "#ed7953"
            ],
            [
             0.7777777777777778,
             "#fb9f3a"
            ],
            [
             0.8888888888888888,
             "#fdca26"
            ],
            [
             1,
             "#f0f921"
            ]
           ],
           "sequentialminus": [
            [
             0,
             "#0d0887"
            ],
            [
             0.1111111111111111,
             "#46039f"
            ],
            [
             0.2222222222222222,
             "#7201a8"
            ],
            [
             0.3333333333333333,
             "#9c179e"
            ],
            [
             0.4444444444444444,
             "#bd3786"
            ],
            [
             0.5555555555555556,
             "#d8576b"
            ],
            [
             0.6666666666666666,
             "#ed7953"
            ],
            [
             0.7777777777777778,
             "#fb9f3a"
            ],
            [
             0.8888888888888888,
             "#fdca26"
            ],
            [
             1,
             "#f0f921"
            ]
           ]
          },
          "colorway": [
           "#636efa",
           "#EF553B",
           "#00cc96",
           "#ab63fa",
           "#FFA15A",
           "#19d3f3",
           "#FF6692",
           "#B6E880",
           "#FF97FF",
           "#FECB52"
          ],
          "font": {
           "color": "#2a3f5f"
          },
          "geo": {
           "bgcolor": "white",
           "lakecolor": "white",
           "landcolor": "#E5ECF6",
           "showlakes": true,
           "showland": true,
           "subunitcolor": "white"
          },
          "hoverlabel": {
           "align": "left"
          },
          "hovermode": "closest",
          "mapbox": {
           "style": "light"
          },
          "paper_bgcolor": "white",
          "plot_bgcolor": "#E5ECF6",
          "polar": {
           "angularaxis": {
            "gridcolor": "white",
            "linecolor": "white",
            "ticks": ""
           },
           "bgcolor": "#E5ECF6",
           "radialaxis": {
            "gridcolor": "white",
            "linecolor": "white",
            "ticks": ""
           }
          },
          "scene": {
           "xaxis": {
            "backgroundcolor": "#E5ECF6",
            "gridcolor": "white",
            "gridwidth": 2,
            "linecolor": "white",
            "showbackground": true,
            "ticks": "",
            "zerolinecolor": "white"
           },
           "yaxis": {
            "backgroundcolor": "#E5ECF6",
            "gridcolor": "white",
            "gridwidth": 2,
            "linecolor": "white",
            "showbackground": true,
            "ticks": "",
            "zerolinecolor": "white"
           },
           "zaxis": {
            "backgroundcolor": "#E5ECF6",
            "gridcolor": "white",
            "gridwidth": 2,
            "linecolor": "white",
            "showbackground": true,
            "ticks": "",
            "zerolinecolor": "white"
           }
          },
          "shapedefaults": {
           "line": {
            "color": "#2a3f5f"
           }
          },
          "ternary": {
           "aaxis": {
            "gridcolor": "white",
            "linecolor": "white",
            "ticks": ""
           },
           "baxis": {
            "gridcolor": "white",
            "linecolor": "white",
            "ticks": ""
           },
           "bgcolor": "#E5ECF6",
           "caxis": {
            "gridcolor": "white",
            "linecolor": "white",
            "ticks": ""
           }
          },
          "title": {
           "x": 0.05
          },
          "xaxis": {
           "automargin": true,
           "gridcolor": "white",
           "linecolor": "white",
           "ticks": "",
           "title": {
            "standoff": 15
           },
           "zerolinecolor": "white",
           "zerolinewidth": 2
          },
          "yaxis": {
           "automargin": true,
           "gridcolor": "white",
           "linecolor": "white",
           "ticks": "",
           "title": {
            "standoff": 15
           },
           "zerolinecolor": "white",
           "zerolinewidth": 2
          }
         }
        },
        "title": {
         "text": "Isomap – Per90min data"
        },
        "width": 1100,
        "xaxis": {
         "anchor": "y",
         "domain": [
          0,
          1
         ],
         "title": {
          "text": "Isomap_1"
         }
        },
        "yaxis": {
         "anchor": "x",
         "domain": [
          0,
          1
         ],
         "title": {
          "text": "Isomap_2"
         }
        }
       }
      },
      "image/png": "[encoded data removed]"
     },
     "metadata": {},
     "output_type": "display_data"
    },
    {
     "data": {
      "application/vnd.plotly.v1+json": {
       "config": {
        "plotlyServerURL": "https://plot.ly"
       },
       "data": [
        {
         "hovertemplate": "<b>%{hovertext}</b><br><br>color=#00ff00<br>Isomap_1=%{x}<br>Isomap_2=%{y}<extra></extra>",
         "hovertext": [
          "Jordan Lefort",
          "Gautier Lloris",
          "Bafodé Diakité",
          "Moussa Niakhate",
          "Guela Doué",
          "Alexsandro Ribeiro",
          "Kenny Lala",
          "Florent Hanin",
          "Jubal",
          "Léo Pétrot",
          "Charlie Cresswell",
          "Facundo Medina",
          "Sergio Akieme",
          "Mark McKenzie",
          "Clément Akpa",
          "Michael Amir Murillo",
          "Brendan Chardonnet",
          "Thilo Kehrer",
          "Clinton Mata",
          "Mamadou Sarr",
          "Etienne Youte Kinkoue",
          "Mickael Nade",
          "Gideon Mensah",
          "Leonardo Balerdi",
          "Moïse Bombito",
          "Cédric Kipré",
          "Kelvin Amian",
          "Gabriel Suazo",
          "Modibo Sagnan",
          "Willian Pacho",
          "Dennis Appiah",
          "Ki-Jana Hoever",
          "Jonathan Gradit",
          "Djibril Sidibé",
          "Wilfried Singo",
          "Achraf Hakimi",
          "Vanderson",
          "Carlens Arcus",
          "Nicolas Pallois",
          "Dylan Batubinsika",
          "Lucas Beraldo",
          "Ainsley Maitland-Niles",
          "Aurélio Buta",
          "Dante",
          "Sinaly Diomande",
          "Youssouf Ndayishimiye",
          "Caio Henrique Oliveira Silva",
          "Thomas Meunier",
          "Nicolás Tagliafico",
          "Enzo Tchato",
          "Becir Omeragic",
          "Gabriel Gudmundsson",
          "Aïssa Mandi",
          "Marquinhos",
          "Abdoulaye Niakhate Ndiaye",
          "Joseph Okumu",
          "Hans Hateboer",
          "Massadio Haïdara",
          "Nuno Mendes",
          "Gabriel Osho",
          "Quentin Merlin",
          "Duje Ćaleta-Car",
          "Nathan Zeze",
          "Abdoulaye Bamba",
          "Christian Mawissa",
          "Christopher Wooh",
          "Derek Cornelius",
          "Przemysław Frankowski",
          "Malang Sarr",
          "Julien Le Cardinal",
          "Emmanuel Biumla",
          "Emmanuel Agbadou",
          "Arouna Sangante",
          "Lilian Brassier",
          "Falaye Sacko",
          "Leo Skiri Østigård",
          "Issiaga Sylla",
          "Timothee Pembele",
          "Abner",
          "Kevin Danso",
          "Yunis Abdelhamid",
          "Mohammed Salisu",
          "Saidou Sow",
          "Théo Sainte-Luce",
          "Paul Joly",
          "Abdukodir Khusanov",
          "Anthony Rouault",
          "Sael Kumbedi",
          "Marcus Coco",
          "Abakar Sylla",
          "Yael Mouanga",
          "Ulisses Garcia",
          "Jérémy Jacquet",
          "Ismaily",
          "Hiroki Sekine",
          "Lucas Hernández",
          "Mohamed Abdelmoneim",
          "Antoine Mendy",
          "Alidu Seidu",
          "Yoann Salmier",
          "Yvann Macon",
          "Jordan Amavi",
          "Maxime Bernauer",
          "Boubakar Kouyaté",
          "Lucas Mincarelli",
          "Mikayil Ngor Faye",
          "Abdulai Juma Bah",
          "Pol Lirola",
          "Luck Zogbé",
          "Rasmus Nicolaisen",
          "Nikola Maksimović",
          "Pierre Cornud",
          "Jordan Teze",
          "Andrew Omobamidele",
          "Jean-Kevin Duverne"
         ],
         "legendgroup": "#00ff00",
         "marker": {
          "color": "#636efa",
          "symbol": "circle"
         },
         "mode": "markers",
         "name": "#00ff00",
         "orientation": "v",
         "showlegend": true,
         "type": "scatter",
         "x": {
          "bdata": "CzrXItTdLcA4qYl8xOInwLcLLtI0QDDA1goXXU16LcDo73oLwZQlwJgiX7NdMDHAtbprO8klIMAgoAC4XEMZwNVJ4qXc4y3A1CM8nvl/HcBvpldOAvcrwI3pMA3vBibAZy+Biut77L+376G6vgQhwA1gNj10AyXATSfZpACjIsA9NO3qJuYswO+RTBz0/SvAaKKz8gcoKsCHzF1H+VYuwECw9UCcWjHAKnb/soMgLsC89vN5rLIRwEb+lULXUTTA/tfLlg4DL8BNRIQIwcouwKgHVaRysBLAcrF1Pvn78L9wntg37pMkwP5+MMmE+jDArIRw09pNFsDmRXb2axbIP+KTZsqxOSPAKgbPvTLUIcAbamHJz5ctwGH82BOdTBPAWMAe5FJvEcA66HywODIUwD5a95ymCybAJSWKw/COL8BOcA8uNvszwEWKd5JoXhjA5GmE2rfKDcCkIXU0fEMtwCIdU/1sFCTAuymea4EsLMBzwQhsfg8QwNMXoUCwVh7Ak3oLzRufFcArLY2iBxgVwDU42IIy2SvAZojjlmSuAMDG6WZoR08qwC6a4C1k1jTAJukYp0ZnLcDDctciNJkxwD/8exOFMyXAr9qQHkd6FMAH1riQ+swhwFgzwavp9CPAm2Dlp8SC+b8uXHLCCiwuwCKeGR6/MCzA5GX+Is1PJsDfCmR3O40lwIXCkc/svSjA9LfKpPb7MsAzG0akXikTwEnEoRXuMzDARXDOte0fMcCxeDPFqLslwGR/U0McHzHATKOft7K4KcCw906Xu8kwwPkpCBaUBSDAgmTIzJKOLMDvzQ0hLgAWwK79FVC+HAbAzRGLk/TcE8Bc3gFZmF0vwIrteD5pBi7ANZ+3yhCeL8CEPnCM6LQuwGDiH8omXt+/MGLjsr84G8C8MdsAZrAuwKCY6iFTKTDAmGK1JDZK5b+hrN51TAMZwCt1hnB8njDAbGg4ZgOGKsAKwrUisYD2v9KZ23yzXibAE/AEk19DG8DNJ1iDlGQfwNNEhInjTDTAx2HpTz3bK8Da2OiYHN0jwPWc20o4UCTAuBSiKXtPK8BpEgIJKKoHwJt4r/rpxB3AB6gCKhAEM8AJqQ7Zc7giwPBi0aKpHhzAtX0OcPMIMMCyP31FpiYuwNlLhIDpZgjAWZ7LFDaBEcANxpEne+AwwPpGEGgbTi7AKEVHl4ggIcD6bLX/phbwv2iko6FjYjbA4wjZjDkzGsA=",
          "dtype": "f8"
         },
         "xaxis": "x",
         "y": {
          "bdata": "yGdfPe1REsD1pPvrfBsbwJnc9Sv/Mu6/qgOp/TkX/b+rg0ZygP4CQKBQD65bjARAFzthVJ9hHUCuNSm3oEQIQJU2RLbSDCHA9HKjN8NYD8BHC/dT1hQawF33dIn/eRhApXoxSpb9BsB08HZJOIYRwN4KlI+/TRbASB9C48NdGUCQVWVWFPEcwOVoqG1aP+O/Xguvnjh/7D9ZEYcOTXcQwEKf+RXlJCLAkPmHhHsnHMClG9j3WwoUQEDD54LTABxAobHR1cJ5EcBl0jZyxM0SwECLuTY5NxDA4gSW1Xn8IUDYbEGOsI4hwNbOrnmwssa/KdD89L8x8D9/yXcsGswGQPsgx6cWOADAQknltFInDUAyKgUihKzYv36vdXxUxTBA/0REt4w5IEBvN9JcplT8vyOkxWsOZyHAiro1xHF8IcB5iKj/el8aQFh5YT03vx5AdGb2FNrI8r81rl7FNAHKP8LK6DT7eSHAW58S9TC38r+rwZCWtNUnQEfuH5pTiSBAM76OIYWF+T+WZ3k6nozuvzXtX9wMEyLAkq5DWi7kEkBEUdGzs+jbPxRaw+RlVCVA7uCViGYGHsA7odeQoFoJwI0guDMxxgZAtjwSlvBRBcA5aedq+WExQEo29BGuNSLANbl1BNUlKEBFTo/fxMMawJR7d4tmkRrAe4YulD7IHsBZBBZHYoP+v/tr+yBErRrAT1QlFtnSCUDy6Kb+Ay8qQF21B5SNlAfAQD8zD1SOGcDNCMDY52sgwLsizup9Ffi/7deVwMhXG8BcRscq+Hi8v3I+XvWGKhTA699TdMPRE8ASFf2N24MJwEes6uNhhAzAltyw5g9bGUB5HtBwbEoEwIZu68AG2SLASWQ+VpYR4L/Cq8jbu0AewPhmI0r0Rh/Aweb02ghVHkBRYgVInawgwFqQMD8/GhXAKPF9Ssx/0T902qR6Yd4AwKDi4HPfFyHA+A6k08S3IcAK0ELtmMEZQMevrJ0vrQfA8ICCjoJgF0BbtDS5uYH+v7haODnFIBlA9yZrtRIwCsCNz1AO7zjvP/xrfjT/YvA/gomKM0aDIsAYoWg7Ca0MwAfH2w6Jlfg/rZKdcpNCA8DhMrtosIgtwJIztcOPgRnA3SLTtfU5578FGp5GnvAjwJvQJf0R+eS/uR1RoUqsAMC/BxilSfkTwJqcovGuyRXAGhtyER8dGcDMViYQwokTQKHsKBAsDxnAPmaWsiPbAMA=",
          "dtype": "f8"
         },
         "yaxis": "y"
        },
        {
         "hovertemplate": "<b>%{hovertext}</b><br><br>color=#0000ff<br>Isomap_1=%{x}<br>Isomap_2=%{y}<extra></extra>",
         "hovertext": [
          "Andrey Santos",
          "Valentin Atangana Edoa",
          "Cristian Cásseres Jr.",
          "Benjamin André",
          "Pierre Højbjerg",
          "Adrien Thomasson",
          "Pierre Ekwah Elimby",
          "Adrien Rabiot",
          "Hicham Boudaoui",
          "Vincent Sierro",
          "Téji Savanier",
          "Pedro Chirivella",
          "Elisha Owusu",
          "Corentin Tolisso",
          "Abdoulaye Touré",
          "Hugo Magnetti",
          "Douglas",
          "Andy Diouf",
          "Denis Zakaria",
          "Hamed Junior Traorè",
          "Azor Matusiwa",
          "Lamine Camara",
          "Johann Lepenant",
          "Vitinha",
          "Nemanja Matić",
          "Jean-Eudes Aholou",
          "Fabián Ruiz Peña",
          "Joris Chotard",
          "Haris Belkebla",
          "Jordan Ferri",
          "Benjamin Bouchouari",
          "Marshall Munetsi",
          "Rabby Nzingoula",
          "Neil El Aynaoui",
          "Jordan Veretout",
          "Pierre Lees-Melou",
          "Yassin Belkhdim",
          "Kévin Danois",
          "Amadou Koné",
          "André Gomes",
          "Florian Tardieu",
          "Tanner Tessmann",
          "Ngal'Ayel Mukau",
          "Jordan James",
          "Ayyoub Bouaddi",
          "Tanguy Ndombele",
          "Djaoui Cissé",
          "Rassoul Ndiaye",
          "Han-Noah Massengo",
          "Louis Mouton",
          "Aimen Moueffek",
          "Soungoutou Magassa",
          "Oussama Targhalline",
          "Junior Mwanga",
          "Baptiste Santamaria",
          "Mathis Amougou",
          "Seko Fofana",
          "Senny Mayulu",
          "Teddy Teuma",
          "Angel Gomes",
          "Assane Dioussé",
          "Glen Kamara",
          "Ismaël Bennacer",
          "Nampalys Mendy",
          "Mahamadou Diawara",
          "Maxence Caqueret",
          "Daler Kuzyaev",
          "John Joe",
          "Amine Harit"
         ],
         "legendgroup": "#0000ff",
         "marker": {
          "color": "#EF553B",
          "symbol": "circle"
         },
         "mode": "markers",
         "name": "#0000ff",
         "orientation": "v",
         "showlegend": true,
         "type": "scatter",
         "x": {
          "bdata": "2A9KYVLqEsAf1WJNJGm6vyZeF5A6nAHAhg+aiAVyH8Cyw3BPOLUvwJKoofA9UO8/1EwG8kkMH8DGLuiiYJ0DQBzbjEIoxPo/ruCEzTh4AsBg5MnNSQ8EQMbZN+5emyHAPPyf837UBsBO0D5YdVUUwOzWPjQHIAbAqGvS0OChC8BvfDAEJeQNwJBrI0nggRtAfyNnsb3SB8DX3pERzUQtQJwEuu+AQhjAx3CEz66l7r9tZQZVpAXqPwxkV1EOJC/A6upS0+weJMD5/vKMiHvhv/2t+AUS/RTAK49SjAWHFMAU5Zi+Ri4ZwA9ijYebLSTAxkEzjz5MBcBGQ9Ej1gIgQKVNJ+Hdhce/ldzpQXVbuL9Um/Ar/qwSwNtcvzORYRnAyQYdTL/W878I03pKZJHgP0KZ1M0EsxPA0ypHKZOpIsBu8gYqmrgkwJoLMU3wDxzA8kCs9zX1BcBnFj//MO72vx4jSDRz6wnARtC1dIBSBEAjrZB4RBwbwMA6h9hHiOM/7ZUcqr5IAMDr/dr4HBLyv9nZNHvLswRAZJZcZb8GFsATE0su2e4NwOn72fix1wzAM0iZ2aCkFcC09VHYk2GGP2hHLg+tMALAGlw1IXY1FUCEoesEY6gcwJiY7BpmXhRAyaZnIwpYIMC111uuDcoWwDvULtSIhivA1+8IJlvQD8CrMPtpUNPWvxmlUdzEmwHAST0P8r6CG8BW7TYsF6X/v97vCgVZ7StA",
          "dtype": "f8"
         },
         "xaxis": "x",
         "y": {
          "bdata": "bmz0MfJO9L/N8YpPKSQewJfLzbdWEv0/pSYx0ONJCkCm4RkWRsorQHb7xPZc8BZAZS8Aq7M0/L81QE4tVUIZQIhydPLEvABAEKwb77GBB0AZp8YFxNQnQG7F+fyTOABAXyD2FGSFHcAH2CDGD+UgQD9UVlCcDBDAqUZetacUC8CgkrwvwZcGwLGNf6qg4gRAgXdA3pVw8D9wItReRjrhPy3tB9N5gfq/oXMgwMtPKUAQg6goZ+IRwAyuknyT/jNAXv4XTiuLEUB8PNz+4dAcwEIEfnD9MStAudm8NSHjF8CdUHSq+2YXwJ9q+NbCAvA/Yq01Abf7xD9mzbbOuvQhwOKbZ1UzSBPAEbgzDVgMD0AuL6oyNsf7P4lX3PAs5hpABmNqjr7xG8Bk2DeLrRIDQJkszqIsYg/AtF5hiUhYFUBdFrCYGbwbQDNDlJnhDrY/ql3Hmgv/5r/1UeLaXZoIQA5asfVNpQXA/6yB3/BP9z9Ia2NDt1MHQGRywTXTUhfAMjfqk3IXE8C+SrvXEQKkv5+duKbSNRrAwspUaf9X6z/Utrxo3fwIwBoTWhUpzgTAZbqXHxqf5L+iaCVKBw8bwIkQ9yWOmxdAVUhJ+brJJEBmbmVRyd0gQE1NWKZktfs/IR8GJaMOEsCvuR121JjHP25nl5nnwDdATz6bSyRFAcCIXejvaTsQwLF6ZdJTcfs/oEH5fACIIsBZT9htXOkWwNtWrh93xydA",
          "dtype": "f8"
         },
         "yaxis": "y"
        },
        {
         "hovertemplate": "<b>%{hovertext}</b><br><br>color=#ff00ff<br>Isomap_1=%{x}<br>Isomap_2=%{y}<extra></extra>",
         "hovertext": [
          "Himad Abdelli",
          "Mason Greenwood",
          "Zuriko Davitashvili",
          "Gaëtan Perrin",
          "Junya Ito",
          "Mahdi Camara",
          "Keito Nakamura",
          "Moses Simon",
          "Arnaud Kalimuendo",
          "Evann Guessand",
          "Maghnes Akliouche",
          "Habib Diarra",
          "Yann Gboho",
          "Lassine Sinayoko",
          "Ludovic Blas",
          "Takumi Minamino",
          "Sebastian Nanasi",
          "Yassine Kechta",
          "Rayan Cherki",
          "Josué Casimir",
          "Issa Soumaré",
          "Zakaria Aboukhlal",
          "Breel Embolo",
          "Florian Sotoca",
          "Félix Lemaréchal",
          "Hákon Arnar Haraldsson",
          "Eliesse Ben Seghir",
          "Désiré Doué",
          "Joshua King",
          "Lee Kang-in",
          "Mohamed Ali Cho",
          "Mathias Pereira Lage",
          "Frank Magri",
          "Tanguy Coulibaly",
          "Anass Zaroury",
          "Kamory Doumbia",
          "Sorba Thomas",
          "Osame Sahraoui",
          "Abdallah Sima",
          "Shavy Babicka",
          "Aleksandr Golovin",
          "Wahbi Khazri",
          "Musa Al-Taamari",
          "Badredine Bouanani",
          "Matias Fernandez-Pardo",
          "Sofiane Diop",
          "Jeremie Boga",
          "Ernest Nuamah",
          "Amine Gouiri",
          "Angelo Fulgini",
          "Khalil Fayad",
          "Rémy Cabella",
          "Edon Zhegrova",
          "Ado Onaiwu",
          "Thiago Almada",
          "Antoine Joujou",
          "Romain Faivre",
          "Mamadou Diakhon",
          "Zinedine Ferhat",
          "Albert Grønbaek",
          "Jonathan Rowe",
          "Sekou Mara",
          "Saïd Benrahma",
          "Augustine Boakye",
          "Mathieu Cafaro",
          "Emmanuel Sabbi",
          "Rémy Labeau Lascary",
          "Yaya Kader Fofana",
          "Marco Asensio",
          "Ben Old",
          "Tino Kadewere"
         ],
         "legendgroup": "#ff00ff",
         "marker": {
          "color": "#00cc96",
          "symbol": "circle"
         },
         "mode": "markers",
         "name": "#ff00ff",
         "orientation": "v",
         "showlegend": true,
         "type": "scatter",
         "x": {
          "bdata": "Lea0fivk9z9FFMmK6totQHuFrsExSS9AfWpuHo3yK0Acp/8tCYYlQBeetVv+bA1ApsZ9SDfMLEDzWv+tlo4yQO59JhNvbi9A1Y6tMZtXMECkadet09knQHeV7ZcoihVAJ9iZDn4uLkASsFd+gfsuQLjojcr8Ki1Ar3fx/vWQKEDRgGN4yYMhQDax1Ho1JwNAHPTWH2GxL0C/RA/ERuwpQOi1L1udzy9ArgY0aEZGM0C5iZF2BUUzQKedJANdVRdA5Gwfas2OGUD2pAsuphgaQDCkgJTmIChAFbAhGBJtJ0AAxit2PgYyQE/1VXqFbxhAgwNlhq15LkBhrg47xFooQMiEvHzfMjFAMXY02e1cIkAwSpf200YcQKLhjn5B8gRAylx0HlbQEkBurO2GuykpQB2naK4qMDNAYdpZymaWLkCN4yKm+fTWP+NEHfF7SiRAls6jTYssMkAnPy5AmPwsQHuyvCfO7S5A4q/O9mE3I0CzowMCCAkxQH2dAZ+nDCJAUuktOLNNNkDRWKX/1aIcQKniI9MeBBHAtODgGWzQCEDpPB+suVwwQEJdxcNFPixAcoFLxfLOA0AMz/bB2KktQKQyp88vcCdAAk3NE+7ZMkDr0psDS6gXQD8WXvjDGS1A70ZUnYWkNEDs+heBpgQpQKN2cfXNRypAX5ygADH/LkCYBEuXfNQgQGL/T7SJ8CVAC2u3AUs4MUDQolVweVQiQBcV6WbSOy1AUDtMH8o/JUA6J8yswwQfQA==",
          "dtype": "f8"
         },
         "xaxis": "x",
         "y": {
          "bdata": "vFYWMJB+GkDiYZrS0IgdQJAF1o1snP4/vHJSTcXEK0A+3RRY+TwkQD6VVxZ0hPO/MnW0SBTYAcAXeNLR8/EaQD8GWu1+DBXA6P3F5tYV4r8qtLLGQjMnQP9qfXtT5eq/HeneSPna/j+UgJZn/IoAwN79ToXe+yVAjZchwnOU8j9tKx8tz2AQQN50fxTveBPABoA9qRQENUA7GP3tEbkKwAzj81sJ1Q/AeHTtoqfQHcCDdXgpxzsMwG2UNb2/s/o/U9SzPKPv6L/XbwVGGdohQBDZvTy/uitACVQI5NDTM0B3Hot34IggwDiB+KPbUzZA9Oc7J6oOB0DYxnonoc4FQHeA2OvpEizAc+kX64oyHcCj4MDhz0YlQERKnsuyfRNATGj8pmwBG0DE03oK3eYhQDcb6vPA8iLAvLJGVY2ECsB0LomUjDsjQI3T+5S3VBfAJPIaZn+c9D9RznAOBjgTQAyifvGp4vk/eSvKsC0XJUBSP591MHMbQJLD2vxMjhBA0FgtUVQrF0Cq8VIfdLAkQMj9r62+DRbAlt2kPwxONEDxeG3IlwQmQF/KDhsR+xTAMJxhoPz6NkDUeQX/zRb+P6X+7U5DrxRAHcr1NskCFkA+Doa5w9AhQNH3DcwJZ+0/cdupAn+cIUBavq3q8yIpwGYQyzuZ0ihAnGME0EpB+b9wZrd9LAoRwPyPnkJudCXAgeeywdVDBsCI04NK+MzJP3H9NpHvCilAVtzriu8uFsDqjbiCRKYRwA==",
          "dtype": "f8"
         },
         "yaxis": "y"
        },
        {
         "hovertemplate": "<b>%{hovertext}</b><br><br>color=#ff0000<br>Isomap_1=%{x}<br>Isomap_2=%{y}<extra></extra>",
         "hovertext": [
          "Matthis Abline",
          "Jonathan David",
          "Ludovic Ajorque",
          "Emanuel Emegha",
          "Bradley Barcola",
          "Alexandre Lacazette",
          "Farid El Melali",
          "Lucas Stassin",
          "Gaëtan Laborde",
          "Jim Allevinah",
          "Ousmane Dembélé",
          "Esteban Lepaul",
          "Oumar Diakité",
          "Malick Fofana",
          "M'Bala Nzola",
          "André Ayew",
          "Georges Mikautadze",
          "Romain Del Castillo",
          "Mostafa Mohamed",
          "Mika Biereth",
          "Arnaud Nordin",
          "Mama Samba Baldé",
          "Akor Adams",
          "Gonçalo Ramos",
          "Irvin Cardona",
          "Neal Maupay",
          "Ibrahima Niane",
          "Theo Bair",
          "Khvicha Kvaratskhelia",
          "Wesley Saïd",
          "Goduine Koyalipou",
          "Koka",
          "Ibrahim Sissoko",
          "George Ilenikhena",
          "Chuba Akpom",
          "Folarin Balogun",
          "Andy Delort",
          "Florian Ayé",
          "Elye Wahi",
          "Mohamed Meité",
          "Bamba Dieng"
         ],
         "legendgroup": "#ff0000",
         "marker": {
          "color": "#ab63fa",
          "symbol": "circle"
         },
         "mode": "markers",
         "name": "#ff0000",
         "orientation": "v",
         "showlegend": true,
         "type": "scatter",
         "x": {
          "bdata": "ie0hiB50MkBsSSs3enAuQI4CfjlyZjBAHLw8b20YM0Bzzs9cYKYvQDgv9k33+zJAGSBYcaNAMkBCP9Mhj14vQGfPVSClYTBAuQu7Hn36KkCkMMPjjQc1QJ+JH93ZYjFAFzzPkd86J0D/X8pskn0sQLuzbS/M0jFA3K1v9GyrJECb+oxpmIsxQILDrm7KwxJAPUXIVOYOMUAaJKn0yuw4QEGXIKYaiCtACjCk91xRM0Cif++bFRczQCpxz5iypjZA16pWXh48LUCB8lpzXcojQARMaGk+cTVAjhIipQhOMUBAFl096PIwQOgLLZ5AiiNAng+1fhezMkCgiRLH9eYjQJF/djjSvDFApxkIpHBjNEB97oRaZkc2QIDzr0vteDZAeFGP/yXQMUDiVIF5tm4uQKWIqOSBizVAiW1gFAbZMkCvRTmLtDg1QA==",
          "dtype": "f8"
         },
         "xaxis": "x",
         "y": {
          "bdata": "LyfMR64qGsDKIWF5n0sSwOQtiHXQQSvAcqA4aeUWJ8CfgddWE/0mQDrJzqpV+RrAnAVumPopDUB5HPtV4yMWwDDSwb7ovxbA/CJ6NlLBFcBcb91LJogxQBOxQWfvOCXAQH3dIyyDIMALWKNPknUgQAig1AsNIiPADOYVUK1/KsB+7rDalOIDwJy5bXY9oSZANKJaAOc8LMAb8Oco1ekPwLpZkvvDJQLA0yAz9mcLG8CLrAhcVL8rwECTFptsNBvAO1BbOqQVDMAXn0DB/TQbwII68VXraCjA7GnNW6yYLcDVUT18Md4wQIAqsL4xCSLAG0QTbAxxIMDMLBmjARErwAgN7ndGiizAe0b6hidqJ8Cs4/QZmxQpwHWl2m7v+wzA00294/Q6MMByTjI/KWYhwN/jv9rdiiPAVFncR3xGKMCVB6z5MhwswA==",
          "dtype": "f8"
         },
         "yaxis": "y"
        },
        {
         "hovertemplate": "<b>%{hovertext}</b><br><br>color=#00ffff<br>Isomap_1=%{x}<br>Isomap_2=%{y}<extra></extra>",
         "hovertext": [
          "Adrien Truffert",
          "Aron Dønnum",
          "Ismaël Doukouré",
          "Jean-Charles Castelletto",
          "Diego Moreira",
          "Dilane Bakwa",
          "Lorenz Assignon",
          "Jonathan Clauss",
          "Nicolas Cozza",
          "Warren Zaïre-Emery",
          "Geoffrey Kondogbia",
          "Melvin Bard",
          "João Neves",
          "Deiver Machado",
          "Pablo Rosario",
          "Valentin Rongier",
          "Ali Abdi",
          "Nhoa Sangui",
          "Valentín Barco",
          "Mory Gbane",
          "Ruben Aguilar",
          "Jaydee Canvot",
          "Edimilson Fernandes",
          "Warren Kamanzi",
          "Louis Leroux",
          "Tom Louchet",
          "Rayan Raveloson",
          "Jhoanner Chávez",
          "Fodé Ballo-Touré"
         ],
         "legendgroup": "#00ffff",
         "marker": {
          "color": "#FFA15A",
          "symbol": "circle"
         },
         "mode": "markers",
         "name": "#00ffff",
         "orientation": "v",
         "showlegend": true,
         "type": "scatter",
         "x": {
          "bdata": "ATY3Kh1m4D++QsJSKxwGQDln9LlN1CTAiTeGq0VkLcABNup0+ecbQAcR+iIrzSlAI4wmbcNvB0C2sjVAASj5P92tJPyP4AfA4d2itAqtHsD6vXwwFUAwwNwDxs5I6g3AE600woVnFsCoKrWp6Oj+P8lT9NHE7vW/uG9TdEiSIcDnNMLlJvAMQLQ9FSeTigzAbZyza+MEHcDMCp9aVWQjwLw2bXSVJxPAquiW0g7HHMAQAmLYCwQjwGlLgIcu6/c/d/wnGzJWA0C/uKbpcYYSwEMhVYto9wrAC1QKQRu58z+AIfC7/DEUwA==",
          "dtype": "f8"
         },
         "xaxis": "x",
         "y": {
          "bdata": "zhHKu3euF0AetXvZX6AcQIHJ2l588RTASMEvMr0oGcCIMFb20eIYQF2peI0q1SVAei7tusGMF0BqFiqiZyopQJMDbaYy0BrAhPXoYzHPHUAJOWn0D3IIQK9ZOxgavBxAy/rD44dkKkAiB7WkvZf9P0QqVKFbEBjAiSrCzLmRGUCqK6B34DUQQL60rMY+EgfArj8wR+7PFkAc2lmJCpQcwJU4tZbfKiRA+oYB9/JLF8DLqQwmjg8ZwMkBM6io8/c/gKKPNpc/CcC1600W9IsbQD3WplZ0HhPAR9fCA4Er+z87JExdw6/5vw==",
          "dtype": "f8"
         },
         "yaxis": "y"
        },
        {
         "hovertemplate": "<b>%{hovertext}</b><br><br>color=#ffff00<br>Isomap_1=%{x}<br>Isomap_2=%{y}<extra></extra>",
         "hovertext": [
          "Luis Henrique",
          "Loïc Nego",
          "Lilian Raolisoa",
          "Christopher Operi",
          "Mitchel Bakker",
          "Yanis Zouaoui",
          "Jacques Ekomie",
          "Krépin Diatta"
         ],
         "legendgroup": "#ffff00",
         "marker": {
          "color": "#19d3f3",
          "symbol": "circle"
         },
         "mode": "markers",
         "name": "#ffff00",
         "orientation": "v",
         "showlegend": true,
         "type": "scatter",
         "x": {
          "bdata": "zanfU0I2HUDBzGQE4mERwHaE07UhKtQ/ef7WPmx4A8Bhi39m1HgTQLv+32C9ndQ/mYxBp2qcBcAxvODJAncdwA==",
          "dtype": "f8"
         },
         "xaxis": "x",
         "y": {
          "bdata": "zwWqT4XcFkBJZbTQZhHzvxKt7akZZBRApldhkdBuIEBSty/nexIjQCbYeAVsGSpARdSpzQzqE8BD2d3l7uMQQA==",
          "dtype": "f8"
         },
         "yaxis": "y"
        }
       ],
       "layout": {
        "height": 900,
        "legend": {
         "title": {
          "text": "color"
         },
         "tracegroupgap": 0
        },
        "template": {
         "data": {
          "bar": [
           {
            "error_x": {
             "color": "#2a3f5f"
            },
            "error_y": {
             "color": "#2a3f5f"
            },
            "marker": {
             "line": {
              "color": "#E5ECF6",
              "width": 0.5
             },
             "pattern": {
              "fillmode": "overlay",
              "size": 10,
              "solidity": 0.2
             }
            },
            "type": "bar"
           }
          ],
          "barpolar": [
           {
            "marker": {
             "line": {
              "color": "#E5ECF6",
              "width": 0.5
             },
             "pattern": {
              "fillmode": "overlay",
              "size": 10,
              "solidity": 0.2
             }
            },
            "type": "barpolar"
           }
          ],
          "carpet": [
           {
            "aaxis": {
             "endlinecolor": "#2a3f5f",
             "gridcolor": "white",
             "linecolor": "white",
             "minorgridcolor": "white",
             "startlinecolor": "#2a3f5f"
            },
            "baxis": {
             "endlinecolor": "#2a3f5f",
             "gridcolor": "white",
             "linecolor": "white",
             "minorgridcolor": "white",
             "startlinecolor": "#2a3f5f"
            },
            "type": "carpet"
           }
          ],
          "choropleth": [
           {
            "colorbar": {
             "outlinewidth": 0,
             "ticks": ""
            },
            "type": "choropleth"
           }
          ],
          "contour": [
           {
            "colorbar": {
             "outlinewidth": 0,
             "ticks": ""
            },
            "colorscale": [
             [
              0,
              "#0d0887"
             ],
             [
              0.1111111111111111,
              "#46039f"
             ],
             [
              0.2222222222222222,
              "#7201a8"
             ],
             [
              0.3333333333333333,
              "#9c179e"
             ],
             [
              0.4444444444444444,
              "#bd3786"
             ],
             [
              0.5555555555555556,
              "#d8576b"
             ],
             [
              0.6666666666666666,
              "#ed7953"
             ],
             [
              0.7777777777777778,
              "#fb9f3a"
             ],
             [
              0.8888888888888888,
              "#fdca26"
             ],
             [
              1,
              "#f0f921"
             ]
            ],
            "type": "contour"
           }
          ],
          "contourcarpet": [
           {
            "colorbar": {
             "outlinewidth": 0,
             "ticks": ""
            },
            "type": "contourcarpet"
           }
          ],
          "heatmap": [
           {
            "colorbar": {
             "outlinewidth": 0,
             "ticks": ""
            },
            "colorscale": [
             [
              0,
              "#0d0887"
             ],
             [
              0.1111111111111111,
              "#46039f"
             ],
             [
              0.2222222222222222,
              "#7201a8"
             ],
             [
              0.3333333333333333,
              "#9c179e"
             ],
             [
              0.4444444444444444,
              "#bd3786"
             ],
             [
              0.5555555555555556,
              "#d8576b"
             ],
             [
              0.6666666666666666,
              "#ed7953"
             ],
             [
              0.7777777777777778,
              "#fb9f3a"
             ],
             [
              0.8888888888888888,
              "#fdca26"
             ],
             [
              1,
              "#f0f921"
             ]
            ],
            "type": "heatmap"
           }
          ],
          "histogram": [
           {
            "marker": {
             "pattern": {
              "fillmode": "overlay",
              "size": 10,
              "solidity": 0.2
             }
            },
            "type": "histogram"
           }
          ],
          "histogram2d": [
           {
            "colorbar": {
             "outlinewidth": 0,
             "ticks": ""
            },
            "colorscale": [
             [
              0,
              "#0d0887"
             ],
             [
              0.1111111111111111,
              "#46039f"
             ],
             [
              0.2222222222222222,
              "#7201a8"
             ],
             [
              0.3333333333333333,
              "#9c179e"
             ],
             [
              0.4444444444444444,
              "#bd3786"
             ],
             [
              0.5555555555555556,
              "#d8576b"
             ],
             [
              0.6666666666666666,
              "#ed7953"
             ],
             [
              0.7777777777777778,
              "#fb9f3a"
             ],
             [
              0.8888888888888888,
              "#fdca26"
             ],
             [
              1,
              "#f0f921"
             ]
            ],
            "type": "histogram2d"
           }
          ],
          "histogram2dcontour": [
           {
            "colorbar": {
             "outlinewidth": 0,
             "ticks": ""
            },
            "colorscale": [
             [
              0,
              "#0d0887"
             ],
             [
              0.1111111111111111,
              "#46039f"
             ],
             [
              0.2222222222222222,
              "#7201a8"
             ],
             [
              0.3333333333333333,
              "#9c179e"
             ],
             [
              0.4444444444444444,
              "#bd3786"
             ],
             [
              0.5555555555555556,
              "#d8576b"
             ],
             [
              0.6666666666666666,
              "#ed7953"
             ],
             [
              0.7777777777777778,
              "#fb9f3a"
             ],
             [
              0.8888888888888888,
              "#fdca26"
             ],
             [
              1,
              "#f0f921"
             ]
            ],
            "type": "histogram2dcontour"
           }
          ],
          "mesh3d": [
           {
            "colorbar": {
             "outlinewidth": 0,
             "ticks": ""
            },
            "type": "mesh3d"
           }
          ],
          "parcoords": [
           {
            "line": {
             "colorbar": {
              "outlinewidth": 0,
              "ticks": ""
             }
            },
            "type": "parcoords"
           }
          ],
          "pie": [
           {
            "automargin": true,
            "type": "pie"
           }
          ],
          "scatter": [
           {
            "fillpattern": {
             "fillmode": "overlay",
             "size": 10,
             "solidity": 0.2
            },
            "type": "scatter"
           }
          ],
          "scatter3d": [
           {
            "line": {
             "colorbar": {
              "outlinewidth": 0,
              "ticks": ""
             }
            },
            "marker": {
             "colorbar": {
              "outlinewidth": 0,
              "ticks": ""
             }
            },
            "type": "scatter3d"
           }
          ],
          "scattercarpet": [
           {
            "marker": {
             "colorbar": {
              "outlinewidth": 0,
              "ticks": ""
             }
            },
            "type": "scattercarpet"
           }
          ],
          "scattergeo": [
           {
            "marker": {
             "colorbar": {
              "outlinewidth": 0,
              "ticks": ""
             }
            },
            "type": "scattergeo"
           }
          ],
          "scattergl": [
           {
            "marker": {
             "colorbar": {
              "outlinewidth": 0,
              "ticks": ""
             }
            },
            "type": "scattergl"
           }
          ],
          "scattermap": [
           {
            "marker": {
             "colorbar": {
              "outlinewidth": 0,
              "ticks": ""
             }
            },
            "type": "scattermap"
           }
          ],
          "scattermapbox": [
           {
            "marker": {
             "colorbar": {
              "outlinewidth": 0,
              "ticks": ""
             }
            },
            "type": "scattermapbox"
           }
          ],
          "scatterpolar": [
           {
            "marker": {
             "colorbar": {
              "outlinewidth": 0,
              "ticks": ""
             }
            },
            "type": "scatterpolar"
           }
          ],
          "scatterpolargl": [
           {
            "marker": {
             "colorbar": {
              "outlinewidth": 0,
              "ticks": ""
             }
            },
            "type": "scatterpolargl"
           }
          ],
          "scatterternary": [
           {
            "marker": {
             "colorbar": {
              "outlinewidth": 0,
              "ticks": ""
             }
            },
            "type": "scatterternary"
           }
          ],
          "surface": [
           {
            "colorbar": {
             "outlinewidth": 0,
             "ticks": ""
            },
            "colorscale": [
             [
              0,
              "#0d0887"
             ],
             [
              0.1111111111111111,
              "#46039f"
             ],
             [
              0.2222222222222222,
              "#7201a8"
             ],
             [
              0.3333333333333333,
              "#9c179e"
             ],
             [
              0.4444444444444444,
              "#bd3786"
             ],
             [
              0.5555555555555556,
              "#d8576b"
             ],
             [
              0.6666666666666666,
              "#ed7953"
             ],
             [
              0.7777777777777778,
              "#fb9f3a"
             ],
             [
              0.8888888888888888,
              "#fdca26"
             ],
             [
              1,
              "#f0f921"
             ]
            ],
            "type": "surface"
           }
          ],
          "table": [
           {
            "cells": {
             "fill": {
              "color": "#EBF0F8"
             },
             "line": {
              "color": "white"
             }
            },
            "header": {
             "fill": {
              "color": "#C8D4E3"
             },
             "line": {
              "color": "white"
             }
            },
            "type": "table"
           }
          ]
         },
         "layout": {
          "annotationdefaults": {
           "arrowcolor": "#2a3f5f",
           "arrowhead": 0,
           "arrowwidth": 1
          },
          "autotypenumbers": "strict",
          "coloraxis": {
           "colorbar": {
            "outlinewidth": 0,
            "ticks": ""
           }
          },
          "colorscale": {
           "diverging": [
            [
             0,
             "#8e0152"
            ],
            [
             0.1,
             "#c51b7d"
            ],
            [
             0.2,
             "#de77ae"
            ],
            [
             0.3,
             "#f1b6da"
            ],
            [
             0.4,
             "#fde0ef"
            ],
            [
             0.5,
             "#f7f7f7"
            ],
            [
             0.6,
             "#e6f5d0"
            ],
            [
             0.7,
             "#b8e186"
            ],
            [
             0.8,
             "#7fbc41"
            ],
            [
             0.9,
             "#4d9221"
            ],
            [
             1,
             "#276419"
            ]
           ],
           "sequential": [
            [
             0,
             "#0d0887"
            ],
            [
             0.1111111111111111,
             "#46039f"
            ],
            [
             0.2222222222222222,
             "#7201a8"
            ],
            [
             0.3333333333333333,
             "#9c179e"
            ],
            [
             0.4444444444444444,
             "#bd3786"
            ],
            [
             0.5555555555555556,
             "#d8576b"
            ],
            [
             0.6666666666666666,
             "#ed7953"
            ],
            [
             0.7777777777777778,
             "#fb9f3a"
            ],
            [
             0.8888888888888888,
             "#fdca26"
            ],
            [
             1,
             "#f0f921"
            ]
           ],
           "sequentialminus": [
            [
             0,
             "#0d0887"
            ],
            [
             0.1111111111111111,
             "#46039f"
            ],
            [
             0.2222222222222222,
             "#7201a8"
            ],
            [
             0.3333333333333333,
             "#9c179e"
            ],
            [
             0.4444444444444444,
             "#bd3786"
            ],
            [
             0.5555555555555556,
             "#d8576b"
            ],
            [
             0.6666666666666666,
             "#ed7953"
            ],
            [
             0.7777777777777778,
             "#fb9f3a"
            ],
            [
             0.8888888888888888,
             "#fdca26"
            ],
            [
             1,
             "#f0f921"
            ]
           ]
          },
          "colorway": [
           "#636efa",
           "#EF553B",
           "#00cc96",
           "#ab63fa",
           "#FFA15A",
           "#19d3f3",
           "#FF6692",
           "#B6E880",
           "#FF97FF",
           "#FECB52"
          ],
          "font": {
           "color": "#2a3f5f"
          },
          "geo": {
           "bgcolor": "white",
           "lakecolor": "white",
           "landcolor": "#E5ECF6",
           "showlakes": true,
           "showland": true,
           "subunitcolor": "white"
          },
          "hoverlabel": {
           "align": "left"
          },
          "hovermode": "closest",
          "mapbox": {
           "style": "light"
          },
          "paper_bgcolor": "white",
          "plot_bgcolor": "#E5ECF6",
          "polar": {
           "angularaxis": {
            "gridcolor": "white",
            "linecolor": "white",
            "ticks": ""
           },
           "bgcolor": "#E5ECF6",
           "radialaxis": {
            "gridcolor": "white",
            "linecolor": "white",
            "ticks": ""
           }
          },
          "scene": {
           "xaxis": {
            "backgroundcolor": "#E5ECF6",
            "gridcolor": "white",
            "gridwidth": 2,
            "linecolor": "white",
            "showbackground": true,
            "ticks": "",
            "zerolinecolor": "white"
           },
           "yaxis": {
            "backgroundcolor": "#E5ECF6",
            "gridcolor": "white",
            "gridwidth": 2,
            "linecolor": "white",
            "showbackground": true,
            "ticks": "",
            "zerolinecolor": "white"
           },
           "zaxis": {
            "backgroundcolor": "#E5ECF6",
            "gridcolor": "white",
            "gridwidth": 2,
            "linecolor": "white",
            "showbackground": true,
            "ticks": "",
            "zerolinecolor": "white"
           }
          },
          "shapedefaults": {
           "line": {
            "color": "#2a3f5f"
           }
          },
          "ternary": {
           "aaxis": {
            "gridcolor": "white",
            "linecolor": "white",
            "ticks": ""
           },
           "baxis": {
            "gridcolor": "white",
            "linecolor": "white",
            "ticks": ""
           },
           "bgcolor": "#E5ECF6",
           "caxis": {
            "gridcolor": "white",
            "linecolor": "white",
            "ticks": ""
           }
          },
          "title": {
           "x": 0.05
          },
          "xaxis": {
           "automargin": true,
           "gridcolor": "white",
           "linecolor": "white",
           "ticks": "",
           "title": {
            "standoff": 15
           },
           "zerolinecolor": "white",
           "zerolinewidth": 2
          },
          "yaxis": {
           "automargin": true,
           "gridcolor": "white",
           "linecolor": "white",
           "ticks": "",
           "title": {
            "standoff": 15
           },
           "zerolinecolor": "white",
           "zerolinewidth": 2
          }
         }
        },
        "title": {
         "text": "Isomap – custom data"
        },
        "width": 1100,
        "xaxis": {
         "anchor": "y",
         "domain": [
          0,
          1
         ],
         "title": {
          "text": "Isomap_1"
         }
        },
        "yaxis": {
         "anchor": "x",
         "domain": [
          0,
          1
         ],
         "title": {
          "text": "Isomap_2"
         }
        }
       }
      },
      "image/png": "[encoded data removed]"
     },
     "metadata": {},
     "output_type": "display_data"
    },
    {
     "name": "stdout",
     "output_type": "stream",
     "text": [
      "==== Raw data perf : ====\n",
      "Dist correlation : 0.942970818297958\n",
      "Trustworthiness : 0.9686543236149535\n",
      "Continuity : 0.9905956350050839\n",
      "MRRE : 0.29770561759377406\n",
      "==== Per90 data perf : ====\n",
      "Dist correlation : 0.8920619407279958\n",
      "Trustworthiness : 0.9591024094961103\n",
      "Continuity : 0.9898124896550093\n",
      "MRRE : 0.3565230935295638\n",
      "==== Custom data perf : ====\n",
      "Dist correlation : 0.8929168015035457\n",
      "Trustworthiness : 0.9467584119552623\n",
      "Continuity : 0.9890719065522215\n",
      "MRRE : 0.3864179947349087\n"
     ]
    }
   ],
   "source": [
    "position_colors = {\n",
    "    'FW': np.array([255, 0, 0]),    # red\n",
    "    'MF': np.array([0, 0, 255]),    # blue\n",
    "    'DF': np.array([0, 255, 0]),  #  yellow\n",
    "    'GK' : np.array([255, 255, 255]),\n",
    "}\n",
    "\n",
    "def color_from_position(positions):\n",
    "    postitions = str(positions)\n",
    "    position_list = positions.split(',')\n",
    "    colors = np.array([position_colors[p] for p in position_list if p in position_colors])\n",
    "    avg_color = np.sum(colors, axis=0)\n",
    "    return '#%02x%02x%02x' % tuple(avg_color.astype(int))\n",
    "\n",
    "def plot_isomap_interactive(X_iso, player_positions, data_num, title):\n",
    "    df_plot = pd.DataFrame({\n",
    "        'Isomap_1': X_iso[:, 0],\n",
    "        'Isomap_2': X_iso[:, 1],\n",
    "        'player_name': data_num.index,\n",
    "        'color' : player_positions.apply(color_from_position)\n",
    "    })\n",
    "    \n",
    "    fig = px.scatter(\n",
    "        df_plot,\n",
    "        x='Isomap_1', y='Isomap_2',\n",
    "        hover_name='player_name',\n",
    "        color='color',\n",
    "        title=title,\n",
    "        height=900, width=1100 \n",
    "    )\n",
    "    fig.show()\n",
    "\n",
    "plot_isomap_interactive(X_iso_raw, player_positions_raw ,data_raw.set_index(\"player_name\"), \"Isomap – Raw data\")\n",
    "plot_isomap_interactive(X_iso_per90, player_positions_per90 ,data_per90.set_index(\"player_name\"), \"Isomap – Per90min data\")\n",
    "plot_isomap_interactive(X_iso_custom, player_positions_custom ,data_custom.set_index(\"player_name\"), \"Isomap – custom data\")\n",
    "\n",
    "_, _, corr_raw, _, trust_raw, cont_raw, mrre_raw = extractMetrics(iso_raw, X_raw, X_iso_raw)\n",
    "_, _, corr_per90, _, trust_per90, cont_per90, mrre_per90 = extractMetrics(iso_per90, X_per90, X_iso_per90)\n",
    "_, _, corr_custom, _, trust_custom, cont_custom, mrre_custom = extractMetrics(iso_custom, X_custom, X_iso_custom)\n",
    "\n",
    "print(\"==== Raw data perf : ====\")\n",
    "print(f\"Dist correlation : {corr_raw}\")\n",
    "print(f\"Trustworthiness : {trust_raw}\")\n",
    "print(f\"Continuity : {cont_raw}\")\n",
    "print(f\"MRRE : {mrre_raw}\")\n",
    "\n",
    "print(\"==== Per90 data perf : ====\")\n",
    "print(f\"Dist correlation : {corr_per90}\")\n",
    "print(f\"Trustworthiness : {trust_per90}\")\n",
    "print(f\"Continuity : {cont_per90}\")\n",
    "print(f\"MRRE : {mrre_per90}\")\n",
    "\n",
    "print(\"==== Custom data perf : ====\")\n",
    "print(f\"Dist correlation : {corr_custom}\")\n",
    "print(f\"Trustworthiness : {trust_custom}\")\n",
    "print(f\"Continuity : {cont_custom}\")\n",
    "print(f\"MRRE : {mrre_custom}\")      "
   ]
  },
  {
   "cell_type": "code",
   "execution_count": null,
   "id": "cc9af718-3b71-49dc-a144-641d909a7235",
   "metadata": {},
   "outputs": [],
   "source": []
  }
 ],
 "metadata": {
  "kernelspec": {
   "display_name": "Python 3 (ipykernel)",
   "language": "python",
   "name": "python3"
  },
  "language_info": {
   "codemirror_mode": {
    "name": "ipython",
    "version": 3
   },
   "file_extension": ".py",
   "mimetype": "text/x-python",
   "name": "python",
   "nbconvert_exporter": "python",
   "pygments_lexer": "ipython3",
   "version": "3.11.9"
  }
 },
 "nbformat": 4,
 "nbformat_minor": 5
}
