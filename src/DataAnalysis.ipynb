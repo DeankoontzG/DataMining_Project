{
 "cells": [
  {
   "cell_type": "code",
   "execution_count": 6,
   "id": "239c5bf9-3687-4874-9a29-7b5283c8d6e0",
   "metadata": {},
   "outputs": [
    {
     "ename": "ModuleNotFoundError",
     "evalue": "No module named 'data_cleaning'",
     "output_type": "error",
     "traceback": [
      "\u001b[31m---------------------------------------------------------------------------\u001b[39m",
      "\u001b[31mModuleNotFoundError\u001b[39m                       Traceback (most recent call last)",
      "\u001b[36mCell\u001b[39m\u001b[36m \u001b[39m\u001b[32mIn[6]\u001b[39m\u001b[32m, line 2\u001b[39m\n\u001b[32m      1\u001b[39m \u001b[38;5;28;01mimport\u001b[39;00m\u001b[38;5;250m \u001b[39m\u001b[34;01mpandas\u001b[39;00m\u001b[38;5;250m \u001b[39m\u001b[38;5;28;01mas\u001b[39;00m\u001b[38;5;250m \u001b[39m\u001b[34;01mpd\u001b[39;00m\n\u001b[32m----> \u001b[39m\u001b[32m2\u001b[39m \u001b[38;5;28;01mfrom\u001b[39;00m\u001b[38;5;250m \u001b[39m\u001b[34;01mdata_cleaning\u001b[39;00m\u001b[38;5;250m \u001b[39m\u001b[38;5;28;01mimport\u001b[39;00m *\n\u001b[32m      5\u001b[39m data_clean = load_data(\u001b[33m\"\u001b[39m\u001b[33mjoueurs_ligue1_2024_2025_clean.csv\u001b[39m\u001b[33m\"\u001b[39m)\n\u001b[32m      7\u001b[39m \u001b[38;5;28mprint\u001b[39m(data_clean.head(\u001b[32m5\u001b[39m))\n",
      "\u001b[31mModuleNotFoundError\u001b[39m: No module named 'data_cleaning'"
     ]
    }
   ],
   "source": [
    "import pandas as pd\n",
    "from data_cleaning import *\n",
    "\n",
    "\n",
    "data_clean = load_data(\"joueurs_ligue1_2024_2025_clean.csv\")\n",
    "\n",
    "print(data_clean.head(5))"
   ]
  },
  {
   "cell_type": "code",
   "execution_count": null,
   "id": "1b5363d9-c3cd-4b00-a380-d91b0e22faf2",
   "metadata": {},
   "outputs": [],
   "source": []
  }
 ],
 "metadata": {
  "kernelspec": {
   "display_name": "DataMining",
   "language": "python",
   "name": "datamining"
  },
  "language_info": {
   "codemirror_mode": {
    "name": "ipython",
    "version": 3
   },
   "file_extension": ".py",
   "mimetype": "text/x-python",
   "name": "python",
   "nbconvert_exporter": "python",
   "pygments_lexer": "ipython3",
   "version": "3.13.7"
  }
 },
 "nbformat": 4,
 "nbformat_minor": 5
}
