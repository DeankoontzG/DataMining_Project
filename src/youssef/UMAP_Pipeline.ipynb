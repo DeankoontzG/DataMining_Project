{
 "cells": [
  {
   "cell_type": "markdown",
   "id": "d61a58dc",
   "metadata": {},
   "source": [
    "# UMAP Dimensionality Reduction – Multi-Dataset Pipeline\n",
    "\n"
   ]
  },
  {
   "cell_type": "markdown",
   "id": "c0c7b7d8",
   "metadata": {},
   "source": [
    "# Imports"
   ]
  },
  {
   "cell_type": "code",
   "execution_count": 1,
   "id": "4953a2fd",
   "metadata": {},
   "outputs": [
    {
     "name": "stderr",
     "output_type": "stream",
     "text": [
      "c:\\Users\\Josephir\\Documents\\Josephir\\Uni\\UCBL\\M2\\DataMining\\DataMining_Project\\venv\\Lib\\site-packages\\tqdm\\auto.py:21: TqdmWarning: IProgress not found. Please update jupyter and ipywidgets. See https://ipywidgets.readthedocs.io/en/stable/user_install.html\n",
      "  from .autonotebook import tqdm as notebook_tqdm\n"
     ]
    }
   ],
   "source": [
    "import os\n",
    "import numpy as np\n",
    "import pandas as pd\n",
    "import seaborn as sns\n",
    "import matplotlib.pyplot as plt\n",
    "\n",
    "from sklearn.preprocessing import StandardScaler, MinMaxScaler\n",
    "from sklearn.metrics import pairwise_distances\n",
    "from sklearn.manifold import trustworthiness\n",
    "from scipy.stats import spearmanr\n",
    "import umap\n",
    "import warnings\n"
   ]
  },
  {
   "cell_type": "code",
   "execution_count": 2,
   "id": "317407fc",
   "metadata": {},
   "outputs": [],
   "source": [
    "\n",
    "warnings.filterwarnings(\n",
    "    \"ignore\",\n",
    "    message=\"n_jobs value 1 overridden to 1 by setting random_state\",\n",
    "    category=UserWarning\n",
    ")"
   ]
  },
  {
   "cell_type": "markdown",
   "id": "df3b9442",
   "metadata": {},
   "source": [
    "## Constants and Directory Setup"
   ]
  },
  {
   "cell_type": "code",
   "execution_count": 3,
   "id": "2a86ce17",
   "metadata": {},
   "outputs": [],
   "source": [
    "INPUT_DIR = \"cleaned_data\"\n",
    "OUTPUT_DIR = \"reduced_data\"\n",
    "\n",
    "UMAP_DIR = os.path.join(OUTPUT_DIR, \"umap\")\n",
    "EMB_DIR = os.path.join(UMAP_DIR, \"embeddings\")\n",
    "GRID_DIR = os.path.join(UMAP_DIR, \"grid_search\")\n",
    "BEST_DIR = os.path.join(UMAP_DIR, \"best_results\")\n",
    "PLOT_DIR = os.path.join(UMAP_DIR, \"plots\")\n",
    "\n",
    "for d in [OUTPUT_DIR, UMAP_DIR, EMB_DIR, GRID_DIR, BEST_DIR, PLOT_DIR]:\n",
    "    os.makedirs(d, exist_ok=True)\n",
    "\n",
    "ID_COLS = [\n",
    "    \"player_name\", \"equipe\", \"positions\", \"age\",\n",
    "    \"player_id\", \"player_country_code\"\n",
    "]\n",
    "\n",
    "# UMAP parameter grid\n",
    "N_NEIGHBORS = [5, 10, 15, 30, 50]\n",
    "MIN_DIST = [0.0, 0.1, 0.3, 0.5]\n",
    "# N_COMPONENTS = [2, 3, 5, 10]\n",
    "N_COMPONENTS = [2, 3]\n",
    "METRIC = \"euclidean\"\n",
    "SEED = 42\n",
    "\n",
    "# Quality metric neighborhood size\n",
    "K_TRUST_CONT = 10\n"
   ]
  },
  {
   "cell_type": "markdown",
   "id": "0d20bd93",
   "metadata": {},
   "source": [
    "## Quality Metric Functions"
   ]
  },
  {
   "cell_type": "code",
   "execution_count": 4,
   "id": "9ea6d269",
   "metadata": {},
   "outputs": [],
   "source": [
    "def continuity(X, X_embedded, k=10):\n",
    "    n = X.shape[0]\n",
    "    D_high = pairwise_distances(X)\n",
    "    D_low = pairwise_distances(X_embedded)\n",
    "    orig_neighbors = np.argsort(D_high, axis=1)[:, 1:k+1]\n",
    "    emb_neighbors = np.argsort(D_low, axis=1)[:, 1:k+1]\n",
    "    total = 0\n",
    "    for i in range(n):\n",
    "        orig = set(orig_neighbors[i])\n",
    "        emb = set(emb_neighbors[i])\n",
    "        missing = orig - emb\n",
    "        total += sum([list(orig_neighbors[i]).index(m) + 1 for m in missing])\n",
    "    return 1 - (2 / (n * k * (2 * n - 3 * k - 1))) * total\n",
    "\n",
    "\n",
    "def mrre(X, X_embedded):\n",
    "    n = X.shape[0]\n",
    "    D_high = pairwise_distances(X)\n",
    "    D_low = pairwise_distances(X_embedded)\n",
    "    R_high = np.argsort(np.argsort(D_high, axis=1), axis=1)\n",
    "    R_low = np.argsort(np.argsort(D_low, axis=1), axis=1)\n",
    "    error = np.abs(R_high - R_low) / np.maximum(R_high, 1)\n",
    "    np.fill_diagonal(error, 0)\n",
    "    return error.sum() / (n * (n - 1))\n",
    "\n",
    "\n",
    "def evaluate_umap_quality(X_high, X_low, k=10):\n",
    "    trust = trustworthiness(X_high, X_low, n_neighbors=k)\n",
    "    cont = continuity(X_high, X_low, k)\n",
    "    corr, _ = spearmanr(pairwise_distances(X_high).ravel(),\n",
    "                        pairwise_distances(X_low).ravel())\n",
    "    mrre_score = mrre(X_high, X_low)\n",
    "    return {\n",
    "        'trustworthiness': trust,\n",
    "        'continuity': cont,\n",
    "        'distance_corr': corr,\n",
    "        'mrre': mrre_score\n",
    "    }"
   ]
  },
  {
   "cell_type": "markdown",
   "id": "39d8f151",
   "metadata": {},
   "source": [
    "## Utility Functions"
   ]
  },
  {
   "cell_type": "code",
   "execution_count": 5,
   "id": "b485cf3a",
   "metadata": {},
   "outputs": [],
   "source": [
    "def scale_features(df, id_cols):\n",
    "    X = df[[c for c in df.columns if c not in id_cols]].select_dtypes(include=[np.number])\n",
    "    scaler = StandardScaler()\n",
    "    X_scaled = scaler.fit_transform(X)\n",
    "    return X_scaled\n",
    "\n",
    "def run_umap(X_scaled, n_neighbors, min_dist, n_components, metric=METRIC, seed=SEED):\n",
    "    reducer = umap.UMAP(\n",
    "        n_neighbors=n_neighbors,\n",
    "        min_dist=min_dist,\n",
    "        n_components=n_components,\n",
    "        metric=metric,\n",
    "        random_state=seed\n",
    "    )\n",
    "    embedding = reducer.fit_transform(X_scaled)\n",
    "    return embedding\n",
    "\n",
    "def save_csv(df, path):\n",
    "    os.makedirs(os.path.dirname(path), exist_ok=True)\n",
    "    df.to_csv(path, index=False, encoding='utf-8')\n",
    "    print(f\"💾 Saved: {path}\")\n",
    "\n",
    "def pick_best_row_by_mse(results_df):\n",
    "    idx = results_df['mse'].idxmin()\n",
    "    return results_df.loc[idx].to_dict()\n"
   ]
  },
  {
   "cell_type": "markdown",
   "id": "e2e7e86a",
   "metadata": {},
   "source": [
    "## Parameter Grid Search for UMAP Quality"
   ]
  },
  {
   "cell_type": "code",
   "execution_count": 6,
   "id": "8c0ae042",
   "metadata": {},
   "outputs": [],
   "source": [
    "def grid_search_umap(X_scaled, k_eval=K_TRUST_CONT):\n",
    "    results = []\n",
    "    for nn in N_NEIGHBORS:\n",
    "        for md in MIN_DIST:\n",
    "            for nc in N_COMPONENTS:\n",
    "                emb = run_umap(X_scaled, nn, md, nc)\n",
    "                m = evaluate_umap_quality(X_scaled, emb, k=k_eval)\n",
    "                m.update({\n",
    "                    \"n_neighbors\": nn,\n",
    "                    \"min_dist\": md,\n",
    "                    \"n_components\": nc\n",
    "                })\n",
    "                results.append(m)\n",
    "                print(f\"✓ n_neighbors={nn}, min_dist={md}, n_components={nc} | \"\n",
    "                      f\"trust={m['trustworthiness']:.3f}, cont={m['continuity']:.3f}, \"\n",
    "                      f\"dcorr={m['distance_corr']:.3f}, mrre={m['mrre']:.3f}\")\n",
    "    return pd.DataFrame(results)"
   ]
  },
  {
   "cell_type": "markdown",
   "id": "2bd04953",
   "metadata": {},
   "source": [
    "## Composite Score and MSE"
   ]
  },
  {
   "cell_type": "code",
   "execution_count": 7,
   "id": "f3d96033",
   "metadata": {},
   "outputs": [],
   "source": [
    "def add_composite_score(results_df):\n",
    "    # Normalize ↑ metrics; invert MRRE so higher is better\n",
    "    scaler = MinMaxScaler()\n",
    "    up_cols = ['trustworthiness', 'continuity', 'distance_corr']\n",
    "    up_scaled = scaler.fit_transform(results_df[up_cols])\n",
    "\n",
    "    mrre_scaled = 1 - MinMaxScaler().fit_transform(results_df[['mrre']])\n",
    "    composite = np.mean(np.column_stack([up_scaled, mrre_scaled]), axis=1)\n",
    "\n",
    "    out = results_df.copy()\n",
    "    out['composite_score'] = composite\n",
    "    return out\n",
    "\n",
    "def add_mse_score(results_df):\n",
    "    \"\"\"\n",
    "    Compute MSE relative to the ideal target [1, 1, 1, 0]\n",
    "    using the raw (non-normalized) metrics.\n",
    "    Lower MSE means closer to the perfect embedding.\n",
    "    \"\"\"\n",
    "    df = results_df.copy()\n",
    "\n",
    "    mse = (\n",
    "        (1 - df['trustworthiness']) ** 2 +\n",
    "        (1 - df['continuity']) ** 2 +\n",
    "        (1 - df['distance_corr']) ** 2 +\n",
    "        (df['mrre'] - 0) ** 2\n",
    "    ) / 4\n",
    "\n",
    "    df['mse'] = mse\n",
    "    return df\n",
    "\n"
   ]
  },
  {
   "cell_type": "markdown",
   "id": "2d623eeb",
   "metadata": {},
   "source": [
    "## Best Embedding Visualization (2D or 3D)"
   ]
  },
  {
   "cell_type": "code",
   "execution_count": 8,
   "id": "27f232d6",
   "metadata": {},
   "outputs": [],
   "source": [
    "def plot_best_embedding(df_ids, embedding, best, tag):\n",
    "    \"\"\"Visualize the best UMAP embedding — only by position.\"\"\"\n",
    "    n_components = int(best['n_components'])\n",
    "    cols = [f\"UMAP_{i+1}\" for i in range(n_components)]\n",
    "    umap_df = pd.concat(\n",
    "        [pd.DataFrame(embedding, columns=cols),\n",
    "         df_ids.reset_index(drop=True)],\n",
    "        axis=1\n",
    "    )\n",
    "\n",
    "    os.makedirs(PLOT_DIR, exist_ok=True)\n",
    "\n",
    "    if n_components == 2:\n",
    "        plt.figure(figsize=(8, 6))\n",
    "        sns.scatterplot(\n",
    "            data=umap_df,\n",
    "            x='UMAP_1', y='UMAP_2',\n",
    "            hue='positions',\n",
    "            palette='tab10', s=40, alpha=0.9\n",
    "        )\n",
    "        plt.title(f\"{tag} – Best 2D UMAP by Position\")\n",
    "        plt.legend(bbox_to_anchor=(1.05, 1), loc='upper left')\n",
    "        plt.tight_layout()\n",
    "        plt.savefig(f\"{PLOT_DIR}/{tag}_umap2d_positions.png\", dpi=300)\n",
    "        plt.close()\n",
    "    else:\n",
    "        from mpl_toolkits.mplot3d import Axes3D  # noqa\n",
    "        fig = plt.figure(figsize=(8, 6))\n",
    "        ax = fig.add_subplot(111, projection='3d')\n",
    "        ax.scatter(\n",
    "            umap_df['UMAP_1'], umap_df['UMAP_2'], umap_df['UMAP_3'],\n",
    "            c=pd.Categorical(umap_df['positions']).codes,\n",
    "            s=20, alpha=0.8\n",
    "        )\n",
    "        ax.set_title(\n",
    "            f\"{tag} – Best UMAP by Position (showing first 3 of {int(best['n_components'])} dims)\")\n",
    "        ax.set_ylabel('UMAP_2')\n",
    "        ax.set_zlabel('UMAP_3')\n",
    "        plt.tight_layout()\n",
    "        plt.savefig(f\"{PLOT_DIR}/{tag}_umap3d_positions.png\", dpi=300)\n",
    "        plt.close()\n",
    "\n",
    "    return umap_df"
   ]
  },
  {
   "cell_type": "markdown",
   "id": "5e2e9595",
   "metadata": {},
   "source": [
    "## Process a Single Dataset"
   ]
  },
  {
   "cell_type": "code",
   "execution_count": 9,
   "id": "65d1d18f",
   "metadata": {},
   "outputs": [],
   "source": [
    "def process_dataset(file_path):\n",
    "    fname = os.path.basename(file_path)\n",
    "    tag = os.path.splitext(fname)[0]\n",
    "    print(f\"\\n=== Processing dataset: {tag} ===\")\n",
    "\n",
    "    df = pd.read_csv(file_path)\n",
    "    df_ids = df[ID_COLS].copy()\n",
    "    X_scaled = scale_features(df, ID_COLS)\n",
    "\n",
    "    # Grid search over 2D and 3D\n",
    "    grid_df = grid_search_umap(X_scaled, k_eval=K_TRUST_CONT)\n",
    "    grid_df = add_composite_score(grid_df)\n",
    "    grid_df = add_mse_score(grid_df)\n",
    "\n",
    "    # --- Reorder columns to match best_metrics schema ---\n",
    "    desired_order = [\n",
    "        'n_neighbors', 'min_dist', 'n_components',\n",
    "        'trustworthiness', 'continuity', 'distance_corr',\n",
    "        'mrre', 'composite_score', 'mse'\n",
    "    ]\n",
    "    grid_df = grid_df[desired_order]\n",
    "\n",
    "    # Save grid results\n",
    "    grid_path = f\"{GRID_DIR}/{tag}_umap_grid_results.csv\"\n",
    "    save_csv(grid_df, grid_path)\n",
    "\n",
    "    # Pick best row and re-fit UMAP once\n",
    "    best = pick_best_row_by_mse(grid_df)\n",
    "    print(f\"🏆 Best config for {tag}: \"\n",
    "          f\"nn={int(best['n_neighbors'])}, md={float(best['min_dist']):.2f}, \"\n",
    "          f\"nc={int(best['n_components'])}, comp={float(best['composite_score']):.3f}\")\n",
    "\n",
    "    emb_best = run_umap(\n",
    "        X_scaled,\n",
    "        n_neighbors=int(best['n_neighbors']),\n",
    "        min_dist=float(best['min_dist']),\n",
    "        n_components=int(best['n_components']),\n",
    "        metric=METRIC,\n",
    "        seed=SEED\n",
    "    )\n",
    "\n",
    "    # Build DF (UMAP first + ids) and visualize\n",
    "    umap_df = plot_best_embedding(df_ids, emb_best, best, tag)\n",
    "\n",
    "    # Save ONLY the best embedding\n",
    "    dim_suffix = f\"umap{int(best['n_components'])}d\"\n",
    "    emb_cols = [c for c in umap_df.columns if c.startswith(\"UMAP_\")]\n",
    "    emb_out = umap_df[emb_cols + ID_COLS]\n",
    "    emb_path = f\"{EMB_DIR}/{tag}_{dim_suffix}_best_embedding.csv\"\n",
    "    save_csv(emb_out, emb_path)\n",
    "\n",
    "    # Save metrics for the best row only\n",
    "    metrics_out = pd.DataFrame([{\n",
    "        'n_neighbors': int(best['n_neighbors']),\n",
    "        'min_dist': float(best['min_dist']),\n",
    "        'n_components': int(best['n_components']),\n",
    "        'trustworthiness': float(best['trustworthiness']),\n",
    "        'continuity': float(best['continuity']),\n",
    "        'distance_corr': float(best['distance_corr']),\n",
    "        'mrre': float(best['mrre']),\n",
    "        'composite_score': float(best['composite_score']),\n",
    "        'mse': float(best['mse'])\n",
    "    }])\n",
    "    metrics_path = f\"{BEST_DIR}/{tag}_umap_metrics.csv\"\n",
    "    save_csv(metrics_out, metrics_path)"
   ]
  },
  {
   "cell_type": "markdown",
   "id": "99ecd617",
   "metadata": {},
   "source": [
    "## Run on All Datasets in cleaned_data/"
   ]
  },
  {
   "cell_type": "code",
   "execution_count": null,
   "id": "53bb735d",
   "metadata": {},
   "outputs": [
    {
     "name": "stdout",
     "output_type": "stream",
     "text": [
      "Found 4 datasets in cleaned_data:\n",
      " - joueurs_ligue1_2024_2025_clean_custom.csv\n",
      " - joueurs_ligue1_2024_2025_clean_custom_GK.csv\n",
      " - joueurs_ligue1_2024_2025_clean_per90.csv\n",
      " - joueurs_ligue1_2024_2025_clean_raw.csv\n",
      "\n",
      "=== Processing dataset: joueurs_ligue1_2024_2025_clean_custom ===\n",
      "✓ n_neighbors=5, min_dist=0.0, n_components=2 | trust=0.916, cont=0.988, dcorr=0.567, mrre=0.760\n",
      "✓ n_neighbors=5, min_dist=0.0, n_components=3 | trust=0.922, cont=0.988, dcorr=0.563, mrre=0.752\n",
      "✓ n_neighbors=5, min_dist=0.1, n_components=2 | trust=0.916, cont=0.988, dcorr=0.534, mrre=0.761\n",
      "✓ n_neighbors=5, min_dist=0.1, n_components=3 | trust=0.924, cont=0.988, dcorr=0.590, mrre=0.701\n",
      "✓ n_neighbors=5, min_dist=0.3, n_components=2 | trust=0.912, cont=0.988, dcorr=0.546, mrre=0.748\n",
      "✓ n_neighbors=5, min_dist=0.3, n_components=3 | trust=0.925, cont=0.988, dcorr=0.610, mrre=0.649\n",
      "✓ n_neighbors=5, min_dist=0.5, n_components=2 | trust=0.906, cont=0.988, dcorr=0.564, mrre=0.730\n",
      "✓ n_neighbors=5, min_dist=0.5, n_components=3 | trust=0.927, cont=0.988, dcorr=0.643, mrre=0.613\n",
      "✓ n_neighbors=10, min_dist=0.0, n_components=2 | trust=0.921, cont=0.989, dcorr=0.574, mrre=0.745\n",
      "✓ n_neighbors=10, min_dist=0.0, n_components=3 | trust=0.923, cont=0.989, dcorr=0.505, mrre=0.753\n",
      "✓ n_neighbors=10, min_dist=0.1, n_components=2 | trust=0.915, cont=0.989, dcorr=0.511, mrre=0.776\n",
      "✓ n_neighbors=10, min_dist=0.1, n_components=3 | trust=0.921, cont=0.989, dcorr=0.559, mrre=0.693\n",
      "✓ n_neighbors=10, min_dist=0.3, n_components=2 | trust=0.910, cont=0.989, dcorr=0.544, mrre=0.763\n",
      "✓ n_neighbors=10, min_dist=0.3, n_components=3 | trust=0.923, cont=0.989, dcorr=0.601, mrre=0.627\n",
      "✓ n_neighbors=10, min_dist=0.5, n_components=2 | trust=0.911, cont=0.988, dcorr=0.547, mrre=0.720\n",
      "✓ n_neighbors=10, min_dist=0.5, n_components=3 | trust=0.922, cont=0.989, dcorr=0.624, mrre=0.596\n",
      "✓ n_neighbors=15, min_dist=0.0, n_components=2 | trust=0.910, cont=0.988, dcorr=0.530, mrre=0.775\n",
      "✓ n_neighbors=15, min_dist=0.0, n_components=3 | trust=0.918, cont=0.989, dcorr=0.548, mrre=0.710\n",
      "✓ n_neighbors=15, min_dist=0.1, n_components=2 | trust=0.908, cont=0.988, dcorr=0.507, mrre=0.754\n",
      "✓ n_neighbors=15, min_dist=0.1, n_components=3 | trust=0.921, cont=0.989, dcorr=0.520, mrre=0.698\n",
      "✓ n_neighbors=15, min_dist=0.3, n_components=2 | trust=0.906, cont=0.988, dcorr=0.554, mrre=0.719\n"
     ]
    }
   ],
   "source": [
    "all_files = [os.path.join(INPUT_DIR, f) for f in os.listdir(INPUT_DIR)\n",
    "             if f.endswith(\".csv\")]\n",
    "\n",
    "print(f\"Found {len(all_files)} datasets in {INPUT_DIR}:\")\n",
    "for f in all_files:\n",
    "    print(\" -\", os.path.basename(f))\n",
    "\n",
    "for path in all_files:\n",
    "    process_dataset(path)"
   ]
  }
 ],
 "metadata": {
  "kernelspec": {
   "display_name": "venv",
   "language": "python",
   "name": "python3"
  },
  "language_info": {
   "codemirror_mode": {
    "name": "ipython",
    "version": 3
   },
   "file_extension": ".py",
   "mimetype": "text/x-python",
   "name": "python",
   "nbconvert_exporter": "python",
   "pygments_lexer": "ipython3",
   "version": "3.12.3"
  }
 },
 "nbformat": 4,
 "nbformat_minor": 5
}
