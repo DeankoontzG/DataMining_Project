{
 "cells": [
  {
   "cell_type": "code",
   "execution_count": 1,
   "id": "c39b4b90",
   "metadata": {},
   "outputs": [],
   "source": [
    "from src.utils import load_data\n",
    "\n",
    "%load_ext autoreload\n",
    "%autoreload 2"
   ]
  },
  {
   "cell_type": "code",
   "execution_count": 2,
   "id": "d1e3d3e7",
   "metadata": {},
   "outputs": [
    {
     "name": "stdout",
     "output_type": "stream",
     "text": [
      "Data loaded successfully from raw_data/joueurs_ligue1_2024_2025.csv\n"
     ]
    }
   ],
   "source": [
    "filepath = \"raw_data/joueurs_ligue1_2024_2025.csv\"\n",
    "data = load_data(filepath)\n"
   ]
  },
  {
   "cell_type": "code",
   "execution_count": 3,
   "id": "ee154ddd",
   "metadata": {},
   "outputs": [
    {
     "name": "stdout",
     "output_type": "stream",
     "text": [
      "c:\\Users\\Josephir\\Documents\\Josephir\\Uni\\UCBL\\M2\\DataMining\\DataMining_Project\n"
     ]
    }
   ],
   "source": [
    "import os\n",
    "print(os.getcwd())"
   ]
  }
 ],
 "metadata": {
  "kernelspec": {
   "display_name": "venv",
   "language": "python",
   "name": "python3"
  },
  "language_info": {
   "codemirror_mode": {
    "name": "ipython",
    "version": 3
   },
   "file_extension": ".py",
   "mimetype": "text/x-python",
   "name": "python",
   "nbconvert_exporter": "python",
   "pygments_lexer": "ipython3",
   "version": "3.12.3"
  }
 },
 "nbformat": 4,
 "nbformat_minor": 5
}
