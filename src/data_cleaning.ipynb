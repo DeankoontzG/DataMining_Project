{
 "cells": [
  {
   "cell_type": "markdown",
   "id": "79257968",
   "metadata": {},
   "source": [
    "# Imports"
   ]
  },
  {
   "cell_type": "code",
   "execution_count": 53,
   "id": "585c3149",
   "metadata": {},
   "outputs": [
    {
     "name": "stdout",
     "output_type": "stream",
     "text": [
      "The autoreload extension is already loaded. To reload it, use:\n",
      "  %reload_ext autoreload\n"
     ]
    }
   ],
   "source": [
    "from utils import load_data\n",
    "import pandas as pd\n",
    "import matplotlib.pyplot as plt\n",
    "import seaborn as sns\n",
    "\n",
    "# autoreload\n",
    "%load_ext autoreload\n",
    "%autoreload 2\n"
   ]
  },
  {
   "cell_type": "markdown",
   "id": "b4b91934",
   "metadata": {},
   "source": [
    "# Load data"
   ]
  },
  {
   "cell_type": "code",
   "execution_count": 54,
   "id": "7a6e5b53",
   "metadata": {},
   "outputs": [
    {
     "name": "stdout",
     "output_type": "stream",
     "text": [
      "Data loaded successfully from ../raw_data/joueurs_ligue1_2024_2025.csv\n"
     ]
    },
    {
     "data": {
      "text/html": [
       "<div>\n",
       "<style scoped>\n",
       "    .dataframe tbody tr th:only-of-type {\n",
       "        vertical-align: middle;\n",
       "    }\n",
       "\n",
       "    .dataframe tbody tr th {\n",
       "        vertical-align: top;\n",
       "    }\n",
       "\n",
       "    .dataframe thead th {\n",
       "        text-align: right;\n",
       "    }\n",
       "</style>\n",
       "<table border=\"1\" class=\"dataframe\">\n",
       "  <thead>\n",
       "    <tr style=\"text-align: right;\">\n",
       "      <th></th>\n",
       "      <th>equipe</th>\n",
       "      <th>player_id</th>\n",
       "      <th>player_name</th>\n",
       "      <th>player_country_code</th>\n",
       "      <th>age</th>\n",
       "      <th>positions</th>\n",
       "      <th>matches_played</th>\n",
       "      <th>starts</th>\n",
       "      <th>min</th>\n",
       "      <th>gls</th>\n",
       "      <th>...</th>\n",
       "      <th>fls_com</th>\n",
       "      <th>fls_drawn</th>\n",
       "      <th>offside</th>\n",
       "      <th>pk_won</th>\n",
       "      <th>pk_conceded</th>\n",
       "      <th>og</th>\n",
       "      <th>ball_recov</th>\n",
       "      <th>air_dual_won</th>\n",
       "      <th>air_dual_lost</th>\n",
       "      <th>pct_air_dual_won</th>\n",
       "    </tr>\n",
       "  </thead>\n",
       "  <tbody>\n",
       "    <tr>\n",
       "      <th>0</th>\n",
       "      <td>Angers</td>\n",
       "      <td>c3e4ecbb</td>\n",
       "      <td>Jordan Lefort</td>\n",
       "      <td>FRA</td>\n",
       "      <td>30.0</td>\n",
       "      <td>DF</td>\n",
       "      <td>34</td>\n",
       "      <td>34</td>\n",
       "      <td>3060.0</td>\n",
       "      <td>0.0</td>\n",
       "      <td>...</td>\n",
       "      <td>14.0</td>\n",
       "      <td>15.0</td>\n",
       "      <td>1.0</td>\n",
       "      <td>0.0</td>\n",
       "      <td>1.0</td>\n",
       "      <td>0.0</td>\n",
       "      <td>110.0</td>\n",
       "      <td>40.0</td>\n",
       "      <td>28.0</td>\n",
       "      <td>58.8</td>\n",
       "    </tr>\n",
       "    <tr>\n",
       "      <th>1</th>\n",
       "      <td>Angers</td>\n",
       "      <td>9d420dad</td>\n",
       "      <td>Yahia Fofana</td>\n",
       "      <td>CIV</td>\n",
       "      <td>23.0</td>\n",
       "      <td>GK</td>\n",
       "      <td>33</td>\n",
       "      <td>33</td>\n",
       "      <td>2970.0</td>\n",
       "      <td>0.0</td>\n",
       "      <td>...</td>\n",
       "      <td>0.0</td>\n",
       "      <td>11.0</td>\n",
       "      <td>0.0</td>\n",
       "      <td>0.0</td>\n",
       "      <td>0.0</td>\n",
       "      <td>0.0</td>\n",
       "      <td>36.0</td>\n",
       "      <td>6.0</td>\n",
       "      <td>3.0</td>\n",
       "      <td>66.7</td>\n",
       "    </tr>\n",
       "    <tr>\n",
       "      <th>2</th>\n",
       "      <td>Angers</td>\n",
       "      <td>7978cbf0</td>\n",
       "      <td>Himad Abdelli</td>\n",
       "      <td>ALG</td>\n",
       "      <td>24.0</td>\n",
       "      <td>MF,FW</td>\n",
       "      <td>32</td>\n",
       "      <td>32</td>\n",
       "      <td>2842.0</td>\n",
       "      <td>6.0</td>\n",
       "      <td>...</td>\n",
       "      <td>48.0</td>\n",
       "      <td>32.0</td>\n",
       "      <td>3.0</td>\n",
       "      <td>0.0</td>\n",
       "      <td>0.0</td>\n",
       "      <td>0.0</td>\n",
       "      <td>193.0</td>\n",
       "      <td>13.0</td>\n",
       "      <td>20.0</td>\n",
       "      <td>39.4</td>\n",
       "    </tr>\n",
       "    <tr>\n",
       "      <th>3</th>\n",
       "      <td>Angers</td>\n",
       "      <td>6bfb4303</td>\n",
       "      <td>Florent Hanin</td>\n",
       "      <td>ALG</td>\n",
       "      <td>34.0</td>\n",
       "      <td>DF</td>\n",
       "      <td>33</td>\n",
       "      <td>31</td>\n",
       "      <td>2672.0</td>\n",
       "      <td>1.0</td>\n",
       "      <td>...</td>\n",
       "      <td>16.0</td>\n",
       "      <td>35.0</td>\n",
       "      <td>1.0</td>\n",
       "      <td>0.0</td>\n",
       "      <td>0.0</td>\n",
       "      <td>0.0</td>\n",
       "      <td>132.0</td>\n",
       "      <td>15.0</td>\n",
       "      <td>28.0</td>\n",
       "      <td>34.9</td>\n",
       "    </tr>\n",
       "    <tr>\n",
       "      <th>4</th>\n",
       "      <td>Angers</td>\n",
       "      <td>48b28bfd</td>\n",
       "      <td>Jean-Eudes Aholou</td>\n",
       "      <td>CIV</td>\n",
       "      <td>30.0</td>\n",
       "      <td>MF</td>\n",
       "      <td>26</td>\n",
       "      <td>26</td>\n",
       "      <td>1959.0</td>\n",
       "      <td>2.0</td>\n",
       "      <td>...</td>\n",
       "      <td>50.0</td>\n",
       "      <td>25.0</td>\n",
       "      <td>1.0</td>\n",
       "      <td>0.0</td>\n",
       "      <td>0.0</td>\n",
       "      <td>0.0</td>\n",
       "      <td>100.0</td>\n",
       "      <td>38.0</td>\n",
       "      <td>23.0</td>\n",
       "      <td>62.3</td>\n",
       "    </tr>\n",
       "  </tbody>\n",
       "</table>\n",
       "<p>5 rows × 150 columns</p>\n",
       "</div>"
      ],
      "text/plain": [
       "   equipe player_id        player_name player_country_code   age positions  \\\n",
       "0  Angers  c3e4ecbb      Jordan Lefort                 FRA  30.0        DF   \n",
       "1  Angers  9d420dad       Yahia Fofana                 CIV  23.0        GK   \n",
       "2  Angers  7978cbf0      Himad Abdelli                 ALG  24.0     MF,FW   \n",
       "3  Angers  6bfb4303      Florent Hanin                 ALG  34.0        DF   \n",
       "4  Angers  48b28bfd  Jean-Eudes Aholou                 CIV  30.0        MF   \n",
       "\n",
       "   matches_played  starts     min  gls  ...  fls_com  fls_drawn  offside  \\\n",
       "0              34      34  3060.0  0.0  ...     14.0       15.0      1.0   \n",
       "1              33      33  2970.0  0.0  ...      0.0       11.0      0.0   \n",
       "2              32      32  2842.0  6.0  ...     48.0       32.0      3.0   \n",
       "3              33      31  2672.0  1.0  ...     16.0       35.0      1.0   \n",
       "4              26      26  1959.0  2.0  ...     50.0       25.0      1.0   \n",
       "\n",
       "   pk_won  pk_conceded   og  ball_recov  air_dual_won  air_dual_lost  \\\n",
       "0     0.0          1.0  0.0       110.0          40.0           28.0   \n",
       "1     0.0          0.0  0.0        36.0           6.0            3.0   \n",
       "2     0.0          0.0  0.0       193.0          13.0           20.0   \n",
       "3     0.0          0.0  0.0       132.0          15.0           28.0   \n",
       "4     0.0          0.0  0.0       100.0          38.0           23.0   \n",
       "\n",
       "   pct_air_dual_won  \n",
       "0              58.8  \n",
       "1              66.7  \n",
       "2              39.4  \n",
       "3              34.9  \n",
       "4              62.3  \n",
       "\n",
       "[5 rows x 150 columns]"
      ]
     },
     "execution_count": 54,
     "metadata": {},
     "output_type": "execute_result"
    }
   ],
   "source": [
    "file_path = \"../raw_data/joueurs_ligue1_2024_2025.csv\"\n",
    "data = load_data(file_path)\n",
    "data.head()"
   ]
  },
  {
   "cell_type": "markdown",
   "id": "dfb0df6c-e5cb-4408-bf22-391565e07601",
   "metadata": {},
   "source": [
    "## Initial Filtering"
   ]
  },
  {
   "cell_type": "code",
   "execution_count": 55,
   "id": "44b932e4",
   "metadata": {},
   "outputs": [
    {
     "name": "stdout",
     "output_type": "stream",
     "text": [
      "Number of players with more than 500 minutes played: 361\n",
      "5 duplicates found on 'player_id'.\n",
      "Number of players with more than 500 minutes played & without duplicates: 356\n",
      "Number of outfield players (GK removed): 333\n"
     ]
    }
   ],
   "source": [
    "# KEEP PLAYERS WHO HAVE PLAYED MORE THAN X MINUTES\n",
    "\n",
    "min_player_threshold = 500\n",
    "col_minutes = 'min'\n",
    "data[col_minutes] = pd.to_numeric(data[col_minutes], errors='coerce')\n",
    "data_cleaned = data.dropna(subset=[col_minutes])\n",
    "\n",
    "data_clean = data_cleaned[data_cleaned[col_minutes] > min_player_threshold]\n",
    "\n",
    "print(f\"Number of players with more than {min_player_threshold} minutes played: {data_clean.shape[0]}\")\n",
    "\n",
    "# DUPLICATE player_id DETECTION\n",
    "\n",
    "if data_clean.duplicated(subset=[\"player_id\"]).any():\n",
    "    n_dupes = data_clean.duplicated(subset=[\"player_id\"]).sum()\n",
    "    print(f\"{n_dupes} duplicates found on 'player_id'.\")\n",
    "    data_clean = (\n",
    "        data_clean.sort_values(by=\"min\", ascending=False)\n",
    "            .drop_duplicates(subset=[\"player_id\"], keep=\"first\")\n",
    "    )\n",
    "else:\n",
    "    print(\"No duplicates found on 'player_id' ✅\")\n",
    "\n",
    "print(f\"Number of players with more than {min_player_threshold} minutes played & without duplicates: {data_clean.shape[0]}\")\n",
    "\n",
    "# REMOVE GARDIENS DE BUT\n",
    "data_clean = data_clean[~data_clean['positions'].str.contains(\"GK\")]\n",
    "print(f\"Number of outfield players (GK removed): {data_clean.shape[0]}\")"
   ]
  },
  {
   "cell_type": "markdown",
   "id": "909aa904-2163-4ea3-b3fe-cbae5d694c8c",
   "metadata": {},
   "source": [
    "## Checking for Empty Columns and Rows"
   ]
  },
  {
   "cell_type": "code",
   "execution_count": 56,
   "id": "02e47f69-14bf-4802-9d15-f624ff9d0b1b",
   "metadata": {},
   "outputs": [
    {
     "name": "stdout",
     "output_type": "stream",
     "text": [
      "Columns that are almost empty: []\n"
     ]
    }
   ],
   "source": [
    "def search_col_almost_empty(dataframe, threshold=0.4):\n",
    "    \"\"\"\n",
    "    Identify columns in the DataFrame that are almost empty based on a given threshold.\n",
    "\n",
    "    Parameters:\n",
    "    dataframe (pd.DataFrame): The DataFrame to analyze.\n",
    "    threshold (float): The proportion of missing values to consider a column as almost empty.\n",
    "\n",
    "    Returns:\n",
    "    list: A list of column names that are almost empty.\n",
    "    \"\"\"\n",
    "    almost_empty_cols = []\n",
    "    total_rows = dataframe.shape[0]\n",
    "    \n",
    "    for col in dataframe.columns:\n",
    "        missing_count = dataframe[col].isna().sum()\n",
    "        if missing_count / total_rows >= threshold:\n",
    "            almost_empty_cols.append(col)\n",
    "    \n",
    "    return almost_empty_cols\n",
    "\n",
    "almost_empty_columns = search_col_almost_empty(data_clean)\n",
    "print(\"Columns that are almost empty:\", almost_empty_columns)"
   ]
  },
  {
   "cell_type": "code",
   "execution_count": 39,
   "id": "31042bbc",
   "metadata": {},
   "outputs": [
    {
     "name": "stdout",
     "output_type": "stream",
     "text": [
      "Number of almost empty rows: []\n"
     ]
    }
   ],
   "source": [
    "def search_almost_empty_rows(dataframe, threshold=0.95):\n",
    "    \"\"\"\n",
    "    Identify rows in the DataFrame that are almost empty based on a given threshold. Print the number of such rows.\n",
    "\n",
    "    Parameters:\n",
    "    dataframe (pd.DataFrame): The DataFrame to analyze.\n",
    "    threshold (float): The proportion of missing values to consider a row as almost empty.\n",
    "\n",
    "    Returns:\n",
    "    pd.DataFrame: A DataFrame containing the almost empty rows.\n",
    "    \"\"\"\n",
    "    almost_empty_rows = []\n",
    "    total_cols = dataframe.shape[1]\n",
    "    \n",
    "    for index, row in dataframe.iterrows():\n",
    "        missing_count = row.isna().sum()\n",
    "        if missing_count / total_cols >= threshold:\n",
    "            almost_empty_rows.append(index)\n",
    "    print(f\"Number of almost empty rows: {almost_empty_rows}\")\n",
    "    return dataframe.loc[almost_empty_rows]\n",
    "    \n",
    "almost_empty_rows = search_almost_empty_rows(data_clean)"
   ]
  },
  {
   "cell_type": "markdown",
   "id": "6967921e-d28e-4477-b39c-10c0b18f9213",
   "metadata": {},
   "source": [
    "## We drop redundant / useless columns"
   ]
  },
  {
   "cell_type": "code",
   "execution_count": 57,
   "id": "c548a09b-2825-4e4c-878d-1d7c22dfa357",
   "metadata": {},
   "outputs": [
    {
     "name": "stdout",
     "output_type": "stream",
     "text": [
      "equipe\n",
      "player_id\n",
      "player_name\n",
      "player_country_code\n",
      "age\n",
      "positions\n",
      "matches_played\n",
      "min\n",
      "gls\n",
      "ast\n",
      "xg\n",
      "xag\n",
      "pk_made\n",
      "pk_att\n",
      "yellow_cards\n",
      "red_cards\n",
      "carries_prog\n",
      "passes_prog\n",
      "sh\n",
      "sot\n",
      "avg_sh_dist\n",
      "fk_sh\n",
      "npxg_per_sh\n",
      "pass_cmp\n",
      "pass_att\n",
      "pass_ttl_dist\n",
      "pass_cmp_s\n",
      "pass_att_s\n",
      "pass_cmp_m\n",
      "pass_att_m\n",
      "pass_cmp_l\n",
      "pass_att_l\n",
      "xa\n",
      "pass_prog\n",
      "pass_prog_ttl_dist\n",
      "key_passes\n",
      "pass_fthird\n",
      "pass_opp_box\n",
      "cross_opp_box\n",
      "pass_live\n",
      "pass_dead\n",
      "pass_fk\n",
      "through_balls\n",
      "switches\n",
      "crosses\n",
      "pass_offside\n",
      "pass_blocked\n",
      "throw_ins\n",
      "ck\n",
      "ck_in_swinger\n",
      "ck_out_swinger\n",
      "ck_straight\n",
      "ttl_sca\n",
      "pass_live_sca\n",
      "pass_dead_sca\n",
      "take_on_sca\n",
      "sh_sca\n",
      "fld_sca\n",
      "def_sca\n",
      "gca\n",
      "pass_live_gca\n",
      "pass_dead_gca\n",
      "take_on_gca\n",
      "sh_gca\n",
      "fld_gca\n",
      "def_gca\n",
      "tkl\n",
      "tkl_won\n",
      "tkl_def_third\n",
      "tkl_mid_third\n",
      "tkl_att_third\n",
      "tkl_drb\n",
      "tkl_drb_att\n",
      "blocks\n",
      "sh_blocked\n",
      "int\n",
      "clearances\n",
      "def_error\n",
      "touches\n",
      "touch_def_box\n",
      "touch_def_third\n",
      "touch_mid_third\n",
      "touch_fthird\n",
      "touch_opp_box\n",
      "take_on_att\n",
      "take_on_suc\n",
      "take_on_tkld\n",
      "carries\n",
      "ttl_carries_dist\n",
      "ttl_carries_prog_dist\n",
      "carries_fthird\n",
      "carries_opp_box\n",
      "carries_miscontrolled\n",
      "carries_dispossessed\n",
      "pass_recvd\n",
      "pass_prog_rcvd\n",
      "second_yellow_cards\n",
      "fls_com\n",
      "fls_drawn\n",
      "offside\n",
      "pk_won\n",
      "pk_conceded\n",
      "og\n",
      "ball_recov\n",
      "air_dual_won\n",
      "air_dual_lost\n",
      "106\n"
     ]
    }
   ],
   "source": [
    "colonnes_per90 = ['per90_gls', 'per90_ast', 'per90_non_pen_gls', 'per90_xg', 'per90_xag',\n",
    " 'per90_non_pen_xg', 'per90_sh', 'per90_sot', 'per90_sca', 'per90_gca',\n",
    " 'per90_plus_minus', 'per90_x_plus_minus', 'per90_on_off', 'per90_x_on_off']\n",
    "\n",
    "manual_cols_to_drop = ['min_per_match_played', 'gls_and_ast', 'tkl_plus_int', 'per90_x_plus_minus', 'per90_plus_minus', \n",
    "                      'team_gls_on_pitch', 'team_gls_ag_on_pitch', 'team_xg_on_pitch', 'team_xg_ag_on_pitch', \n",
    "                      'subs', 'avg_min_sub', 'unused_sub', 'starts', 'avg_min_starter',\n",
    "                      'pct_air_dual_won', 'pct_take_on_suc', 'pct_take_on_tkld','touch_live', 'pct_tkl_drb_suc', \n",
    "                      'per90_gca', 'per90_sca', 'ast_xag_diff', 'pct_pass_cmp_l', 'pct_pass_cmp_m', 'pct_pass_cmp_s', 'pct_pass_cmp',\n",
    "                      'gls_xg_diff', 'non_pen_gls_xg_diff', 'gls_per_sh', 'gls_per_sot', 'pct_sot', 'pct_squad_min', 'non_pen_gls',\n",
    "                      'non_pen_xg', \n",
    "                      ]\n",
    "\n",
    "# We drop redundancies : \n",
    "cols_to_drop = list(set(colonnes_per90 + manual_cols_to_drop))\n",
    "data_clean = data_clean.drop(columns=cols_to_drop, errors='ignore')  # errors='ignore' pour éviter les erreurs si une colonne n'existe pas\n",
    "\n",
    "# Display of remaining cols :\n",
    "for col in data_clean.columns:\n",
    "    print(col)\n",
    "\n",
    "print(data_clean.shape[1])"
   ]
  },
  {
   "cell_type": "markdown",
   "id": "8fb3c7ea-3ebc-4b84-b9c3-1a3c3185100a",
   "metadata": {},
   "source": [
    "## Handling Missing Values (NaN)"
   ]
  },
  {
   "cell_type": "code",
   "execution_count": 59,
   "id": "c0f17ba0-cd8d-49b9-b5b5-f7bb97207065",
   "metadata": {},
   "outputs": [
    {
     "name": "stdout",
     "output_type": "stream",
     "text": [
      "📊 Columns containing NaN values:\n"
     ]
    },
    {
     "data": {
      "text/html": [
       "<div>\n",
       "<style scoped>\n",
       "    .dataframe tbody tr th:only-of-type {\n",
       "        vertical-align: middle;\n",
       "    }\n",
       "\n",
       "    .dataframe tbody tr th {\n",
       "        vertical-align: top;\n",
       "    }\n",
       "\n",
       "    .dataframe thead th {\n",
       "        text-align: right;\n",
       "    }\n",
       "</style>\n",
       "<table border=\"1\" class=\"dataframe\">\n",
       "  <thead>\n",
       "    <tr style=\"text-align: right;\">\n",
       "      <th></th>\n",
       "      <th>nb_NaN</th>\n",
       "    </tr>\n",
       "  </thead>\n",
       "  <tbody>\n",
       "  </tbody>\n",
       "</table>\n",
       "</div>"
      ],
      "text/plain": [
       "Empty DataFrame\n",
       "Columns: [nb_NaN]\n",
       "Index: []"
      ]
     },
     "metadata": {},
     "output_type": "display_data"
    },
    {
     "name": "stdout",
     "output_type": "stream",
     "text": [
      "\n",
      "➡️ Total number of columns with at least one NaN: 0\n",
      "\n",
      "👤 Number of players with at least one NaN: 0\n"
     ]
    },
    {
     "data": {
      "text/html": [
       "<div>\n",
       "<style scoped>\n",
       "    .dataframe tbody tr th:only-of-type {\n",
       "        vertical-align: middle;\n",
       "    }\n",
       "\n",
       "    .dataframe tbody tr th {\n",
       "        vertical-align: top;\n",
       "    }\n",
       "\n",
       "    .dataframe thead th {\n",
       "        text-align: right;\n",
       "    }\n",
       "</style>\n",
       "<table border=\"1\" class=\"dataframe\">\n",
       "  <thead>\n",
       "    <tr style=\"text-align: right;\">\n",
       "      <th></th>\n",
       "      <th>player_id</th>\n",
       "      <th>player_name</th>\n",
       "      <th>missing_count</th>\n",
       "    </tr>\n",
       "  </thead>\n",
       "  <tbody>\n",
       "  </tbody>\n",
       "</table>\n",
       "</div>"
      ],
      "text/plain": [
       "Empty DataFrame\n",
       "Columns: [player_id, player_name, missing_count]\n",
       "Index: []"
      ]
     },
     "metadata": {},
     "output_type": "display_data"
    }
   ],
   "source": [
    "# COUNT OF COLUMNS WITH NaN\n",
    "\n",
    "nan_by_col = data_clean.isna().sum().sort_values(ascending=False)\n",
    "nan_by_col = nan_by_col[nan_by_col > 0]\n",
    "\n",
    "print(\"📊 Columns containing NaN values:\")\n",
    "display(nan_by_col.to_frame(\"nb_NaN\"))\n",
    "\n",
    "print(f\"\\n➡️ Total number of columns with at least one NaN: {len(nan_by_col)}\")\n",
    "\n",
    "# COUNT OF PLAYERS WITH NaN\n",
    "nan_by_player = data_clean.isna().sum(axis=1)\n",
    "\n",
    "# Create a view for players who have at least 1 NaN\n",
    "players_with_nan = data_clean.loc[nan_by_player > 0, [\"player_id\", \"player_name\"]].copy()\n",
    "players_with_nan[\"missing_count\"] = nan_by_player[nan_by_player > 0]\n",
    "\n",
    "print(f\"\\n👤 Number of players with at least one NaN: {players_with_nan.shape[0]}\")\n",
    "display(players_with_nan.sort_values(\"missing_count\", ascending=False).head(10))\n",
    "\n",
    "# CONCLUSIONS: Goalkeepers are often affected. In all identified cases, it means no stat => To be replaced by 0 \n",
    "data_clean = data_clean.fillna(0)"
   ]
  },
  {
   "cell_type": "markdown",
   "id": "023efe48-17f8-499f-a6d6-8fefa0f65b38",
   "metadata": {},
   "source": [
    "## Creation of 2 datasets :"
   ]
  },
  {
   "cell_type": "markdown",
   "id": "2fae2c5c-be62-46c8-94e5-bbc3e02ea060",
   "metadata": {},
   "source": [
    "### Functions : (*dépraciated*)"
   ]
  },
  {
   "cell_type": "code",
   "execution_count": 60,
   "id": "eceb179d-a985-4ca4-9365-4491122957a8",
   "metadata": {},
   "outputs": [],
   "source": [
    "\n",
    "def drop_per_90_cols(data, exception_cols=None):\n",
    "    \"\"\"\n",
    "    Drop columns that contain 'per90' in their names from the DataFrame.\n",
    "\n",
    "    Parameters:\n",
    "    data (pd.DataFrame): The input DataFrame.\n",
    "\n",
    "    Returns:\n",
    "    pd.DataFrame: The DataFrame with 'per90' columns dropped.\n",
    "    \"\"\"\n",
    "    if exception_cols is None:\n",
    "        exception_cols = []\n",
    "        \n",
    "    cols_to_drop = [col for col in data.columns if 'per90' in col and col not in exception_cols]\n",
    "    data_dropped = data.drop(columns=cols_to_drop)\n",
    "    \n",
    "    print(f\"Dropped {len(cols_to_drop)} columns containing 'per90'.\")\n",
    "    return data_dropped\n",
    "\n",
    "def manual_col_drop(data, cols_to_drop):\n",
    "    \"\"\"\n",
    "    Manually drop specified columns from the DataFrame.\n",
    "\n",
    "    Parameters:\n",
    "    data (pd.DataFrame): The input DataFrame.\n",
    "    cols_to_drop (list): List of column names to drop.\n",
    "\n",
    "    Returns:\n",
    "    pd.DataFrame: The DataFrame with specified columns dropped.\n",
    "    \"\"\"\n",
    "    data_dropped = data.drop(columns=cols_to_drop, errors='ignore')\n",
    "    print(f\"Dropped {len(cols_to_drop)} specified columns.\")\n",
    "    return data_dropped\n",
    "\n",
    "def get_string_columns(dataframe):\n",
    "    \"\"\"\n",
    "    Get a list of column names in the DataFrame that have string (object) data type.\n",
    "\n",
    "    Parameters:\n",
    "    dataframe (pd.DataFrame): The input DataFrame.\n",
    "\n",
    "    Returns:\n",
    "    list: A list of column names with string data type.\n",
    "    \"\"\"\n",
    "    string_cols = dataframe.select_dtypes(include=['object']).columns.tolist()\n",
    "    return string_cols\n",
    "\n",
    "def convert_string_to_numeric(dataframe, string_cols):\n",
    "    pass"
   ]
  },
  {
   "cell_type": "markdown",
   "id": "5a811393-ac10-4d09-89ff-9611796f7a8a",
   "metadata": {},
   "source": [
    "### Dataset1 : raw data, without normalization"
   ]
  },
  {
   "cell_type": "code",
   "execution_count": 64,
   "id": "1afd28f2-73ff-4155-9b8a-2a466b2775e2",
   "metadata": {},
   "outputs": [
    {
     "name": "stdout",
     "output_type": "stream",
     "text": [
      "✅ CSV export \"joueurs_ligue1_2024_2025_clean_raw\" completed.\n"
     ]
    }
   ],
   "source": [
    "data_clean_raw = data_clean.copy()\n",
    "\n",
    "#print(data_clean_raw.head(5))\n",
    "\n",
    "data_clean_raw.to_csv(\"../cleaned_data/joueurs_ligue1_2024_2025_clean_raw.csv\", index=False, encoding=\"utf-8\")\n",
    "print(\"✅ CSV export \\\"joueurs_ligue1_2024_2025_clean_raw\\\" completed.\")"
   ]
  },
  {
   "cell_type": "markdown",
   "id": "38dc50a5-8be1-432b-9882-b7fc491caed8",
   "metadata": {},
   "source": [
    "### Dataset 2 : normalized data / 90 mins played"
   ]
  },
  {
   "cell_type": "code",
   "execution_count": 65,
   "id": "b673b1f2-9676-4ef9-add3-16dde383043d",
   "metadata": {},
   "outputs": [
    {
     "name": "stdout",
     "output_type": "stream",
     "text": [
      "✅ CSV export \"joueurs_ligue1_2024_2025_clean_per90\" completed.\n"
     ]
    }
   ],
   "source": [
    "cols_not_to_normalize = ['equipe', 'player_id', 'player_name', 'player_country_code', 'age', 'positions', 'avg_sh_dist', 'min', \n",
    "                              'gls_per_sh', 'gls_per_sot', 'avg_sh_dist', 'npxg_per_sh', 'matches_played']\n",
    "\n",
    "\n",
    "cols_to_normalize = [c for c in data_clean.columns if c not in cols_not_to_normalize]\n",
    "\n",
    "# Normalisation : division par le temps de jeu 'min'\n",
    "data_clean_normalized = data_clean.copy()\n",
    "data_clean_normalized[cols_to_normalize] = 90 * data_clean[cols_to_normalize].div(data_clean['min'], axis=0)\n",
    "\n",
    "\n",
    "#print(data_clean_normalized.head(5))\n",
    "\n",
    "data_clean_normalized.to_csv(\"../cleaned_data/joueurs_ligue1_2024_2025_clean_per90.csv\", index=False, encoding=\"utf-8\")\n",
    "print(\"✅ CSV export \\\"joueurs_ligue1_2024_2025_clean_per90\\\" completed.\")"
   ]
  },
  {
   "cell_type": "code",
   "execution_count": null,
   "id": "4176be08-64a4-4deb-a8c3-358bd323c537",
   "metadata": {},
   "outputs": [],
   "source": []
  }
 ],
 "metadata": {
  "kernelspec": {
   "display_name": "Python 3 (ipykernel)",
   "language": "python",
   "name": "python3"
  },
  "language_info": {
   "codemirror_mode": {
    "name": "ipython",
    "version": 3
   },
   "file_extension": ".py",
   "mimetype": "text/x-python",
   "name": "python",
   "nbconvert_exporter": "python",
   "pygments_lexer": "ipython3",
   "version": "3.11.9"
  }
 },
 "nbformat": 4,
 "nbformat_minor": 5
}
