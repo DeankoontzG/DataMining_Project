{
 "cells": [
  {
   "cell_type": "markdown",
   "id": "79257968",
   "metadata": {},
   "source": [
    "# Imports"
   ]
  },
  {
   "cell_type": "code",
   "execution_count": null,
   "id": "585c3149",
   "metadata": {},
   "outputs": [],
   "source": [
    "import pandas as pd\n",
    "import matplotlib.pyplot as plt\n",
    "import seaborn as sns"
   ]
  },
  {
   "cell_type": "markdown",
   "id": "b4b91934",
   "metadata": {},
   "source": [
    "# Load data"
   ]
  },
  {
   "cell_type": "code",
   "execution_count": null,
   "id": "7a6e5b53",
   "metadata": {},
   "outputs": [],
   "source": [
    "def load_data(file_path):\n",
    "    \"\"\"\n",
    "    Load data from a CSV file into a pandas DataFrame.\n",
    "\n",
    "    Parameters:\n",
    "    file_path (str): The path to the CSV file.\n",
    "\n",
    "    Returns:\n",
    "    pd.DataFrame: The loaded data as a pandas DataFrame.\n",
    "    \"\"\"\n",
    "    try:\n",
    "        data = pd.read_csv(file_path)\n",
    "        print(f\"Data loaded successfully from {file_path}\")\n",
    "        return data\n",
    "    except Exception as e:\n",
    "        print(f\"Error loading data: {e}\")\n",
    "        return None\n",
    "    \n",
    "file_path = 'joueurs_ligue1_2024_2025.csv'\n",
    "data = load_data(file_path)\n",
    "\n",
    "data.head()"
   ]
  },
  {
   "cell_type": "code",
   "execution_count": null,
   "id": "d4368bfc",
   "metadata": {},
   "outputs": [],
   "source": []
  },
  {
   "cell_type": "code",
   "execution_count": null,
   "id": "44b932e4",
   "metadata": {},
   "outputs": [],
   "source": [
    "col_minutes = 'min'\n",
    "data[col_minutes] = pd.to_numeric(data[col_minutes], errors='coerce')\n",
    "data_cleaned = data.dropna(subset=[col_minutes])\n",
    "\n",
    "played_500 = data_cleaned[data_cleaned[col_minutes] > 500]\n",
    "\n",
    "print(f\"Number of players with more than 500 minutes played: {played_500.shape[0]}\")"
   ]
  },
  {
   "cell_type": "code",
   "execution_count": null,
   "id": "441102ac",
   "metadata": {},
   "outputs": [],
   "source": [
    "# List all columns names\n",
    "data.columns.tolist()"
   ]
  },
  {
   "cell_type": "code",
   "execution_count": null,
   "id": "3d659ad1",
   "metadata": {},
   "outputs": [],
   "source": [
    "def search_col_almost_empty(dataframe, threshold=0.4):\n",
    "    \"\"\"\n",
    "    Identify columns in the DataFrame that are almost empty based on a given threshold.\n",
    "\n",
    "    Parameters:\n",
    "    dataframe (pd.DataFrame): The DataFrame to analyze.\n",
    "    threshold (float): The proportion of missing values to consider a column as almost empty.\n",
    "\n",
    "    Returns:\n",
    "    list: A list of column names that are almost empty.\n",
    "    \"\"\"\n",
    "    almost_empty_cols = []\n",
    "    total_rows = dataframe.shape[0]\n",
    "    \n",
    "    for col in dataframe.columns:\n",
    "        missing_count = dataframe[col].isna().sum()\n",
    "        if missing_count / total_rows >= threshold:\n",
    "            almost_empty_cols.append(col)\n",
    "    \n",
    "    return almost_empty_cols\n",
    "\n",
    "almost_empty_columns = search_col_almost_empty(data_cleaned)\n",
    "print(\"Columns that are almost empty:\", almost_empty_columns)"
   ]
  },
  {
   "cell_type": "code",
   "execution_count": null,
   "id": "bfef2852",
   "metadata": {},
   "outputs": [],
   "source": [
    "data_cleaned.head(655)"
   ]
  },
  {
   "cell_type": "code",
   "execution_count": null,
   "id": "31042bbc",
   "metadata": {},
   "outputs": [],
   "source": [
    "def search_almost_empty_rows(dataframe, threshold=0.95):\n",
    "    \"\"\"\n",
    "    Identify rows in the DataFrame that are almost empty based on a given threshold. Print the number of such rows.\n",
    "\n",
    "    Parameters:\n",
    "    dataframe (pd.DataFrame): The DataFrame to analyze.\n",
    "    threshold (float): The proportion of missing values to consider a row as almost empty.\n",
    "\n",
    "    Returns:\n",
    "    pd.DataFrame: A DataFrame containing the almost empty rows.\n",
    "    \"\"\"\n",
    "    almost_empty_rows = []\n",
    "    total_cols = dataframe.shape[1]\n",
    "    \n",
    "    for index, row in dataframe.iterrows():\n",
    "        missing_count = row.isna().sum()\n",
    "        if missing_count / total_cols >= threshold:\n",
    "            almost_empty_rows.append(index)\n",
    "    print(f\"Number of almost empty rows: {almost_empty_rows}\")\n",
    "    return dataframe.loc[almost_empty_rows]\n",
    "almost_empty_rows = search_almost_empty_rows(data_cleaned)"
   ]
  },
  {
   "cell_type": "code",
   "execution_count": null,
   "id": "3c129138",
   "metadata": {},
   "outputs": [],
   "source": [
    "def drop_per_90_cols(data, exception_cols=None):\n",
    "    \"\"\"\n",
    "    Drop columns that contain 'per90' in their names from the DataFrame.\n",
    "\n",
    "    Parameters:\n",
    "    data (pd.DataFrame): The input DataFrame.\n",
    "\n",
    "    Returns:\n",
    "    pd.DataFrame: The DataFrame with 'per90' columns dropped.\n",
    "    \"\"\"\n",
    "    if exception_cols is None:\n",
    "        exception_cols = []\n",
    "        \n",
    "    cols_to_drop = [col for col in data.columns if 'per90' in col and col not in exception_cols]\n",
    "    data_dropped = data.drop(columns=cols_to_drop)\n",
    "    \n",
    "    print(f\"Dropped {len(cols_to_drop)} columns containing 'per90'.\")\n",
    "    return data_dropped\n",
    "\n",
    "def manual_col_drop(data, cols_to_drop):\n",
    "    \"\"\"\n",
    "    Manually drop specified columns from the DataFrame.\n",
    "\n",
    "    Parameters:\n",
    "    data (pd.DataFrame): The input DataFrame.\n",
    "    cols_to_drop (list): List of column names to drop.\n",
    "\n",
    "    Returns:\n",
    "    pd.DataFrame: The DataFrame with specified columns dropped.\n",
    "    \"\"\"\n",
    "    data_dropped = data.drop(columns=cols_to_drop, errors='ignore')\n",
    "    print(f\"Dropped {len(cols_to_drop)} specified columns.\")\n",
    "    return data_dropped"
   ]
  },
  {
   "cell_type": "code",
   "execution_count": null,
   "id": "83b610f9",
   "metadata": {},
   "outputs": [],
   "source": [
    "exception_cols = ['per90_on_off', 'per90_x_on_off']\n",
    "data_no_per90 = drop_per_90_cols(played_500, exception_cols=exception_cols)\n",
    "\n",
    "manual_cols_to_drop = ['min_per_match_played', 'gls_and_ast', 'tkl_plus_int']\n",
    "data_final = manual_col_drop(data_no_per90, manual_cols_to_drop)\n",
    "\n",
    "data_final"
   ]
  },
  {
   "cell_type": "code",
   "execution_count": null,
   "id": "c25f1b66",
   "metadata": {},
   "outputs": [],
   "source": [
    "# Get string col names\n",
    "def get_string_columns(dataframe):\n",
    "    \"\"\"\n",
    "    Get a list of column names in the DataFrame that have string (object) data type.\n",
    "\n",
    "    Parameters:\n",
    "    dataframe (pd.DataFrame): The input DataFrame.\n",
    "\n",
    "    Returns:\n",
    "    list: A list of column names with string data type.\n",
    "    \"\"\"\n",
    "    string_cols = dataframe.select_dtypes(include=['object']).columns.tolist()\n",
    "    return string_cols\n",
    "string_columns = get_string_columns(data_final)\n",
    "print(\"String columns:\", string_columns) "
   ]
  },
  {
   "cell_type": "code",
   "execution_count": null,
   "id": "9eb225c9",
   "metadata": {},
   "outputs": [],
   "source": [
    "def convert_string_to_numeric(dataframe, string_cols):\n",
    "    pass"
   ]
  },
  {
   "cell_type": "code",
   "execution_count": null,
   "id": "91e7e800",
   "metadata": {},
   "outputs": [],
   "source": [
    "# # plot correlation matrix\n",
    "# pearson_corr = data_final.corr(method='pearson')\n",
    "# plt.figure(figsize=(12, 10))\n",
    "# sns.heatmap(pearson_corr, annot=True, cmap='coolwarm')\n",
    "# plt.title('Pearson Correlation Matrix')\n",
    "# plt.show()\n"
   ]
  }
 ],
 "metadata": {
  "kernelspec": {
   "display_name": "venv",
   "language": "python",
   "name": "python3"
  },
  "language_info": {
   "codemirror_mode": {
    "name": "ipython",
    "version": 3
   },
   "file_extension": ".py",
   "mimetype": "text/x-python",
   "name": "python",
   "nbconvert_exporter": "python",
   "pygments_lexer": "ipython3",
   "version": "3.13.1"
  }
 },
 "nbformat": 4,
 "nbformat_minor": 5
}
